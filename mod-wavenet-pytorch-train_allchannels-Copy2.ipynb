{
 "cells": [
  {
   "cell_type": "markdown",
   "metadata": {},
   "source": [
    "# <b><span style='color:#F1A424'>|</span> HMS Wavenet All Channels</b><a class='anchor' id='configuration'></a> [↑](#top) "
   ]
  },
  {
   "cell_type": "code",
   "execution_count": 1,
   "metadata": {
    "execution": {
     "iopub.execute_input": "2024-03-12T16:23:18.45367Z",
     "iopub.status.busy": "2024-03-12T16:23:18.453363Z",
     "iopub.status.idle": "2024-03-12T16:23:24.122813Z",
     "shell.execute_reply": "2024-03-12T16:23:24.121696Z",
     "shell.execute_reply.started": "2024-03-12T16:23:18.453644Z"
    }
   },
   "outputs": [
    {
     "name": "stdout",
     "output_type": "stream",
     "text": [
      "Using 1 GPU(s)\n",
      "mkdir: cannot create directory ‘models5’: File exists\r\n"
     ]
    }
   ],
   "source": [
    "import gc\n",
    "import math\n",
    "import matplotlib.pyplot as plt\n",
    "import multiprocessing\n",
    "import numpy as np\n",
    "import os\n",
    "import pandas as pd\n",
    "import random\n",
    "import time\n",
    "import torch\n",
    "import torch.nn as nn\n",
    "\n",
    "\n",
    "from glob import glob\n",
    "from torch.utils.data import DataLoader, Dataset\n",
    "from tqdm import tqdm\n",
    "from typing import Dict, List\n",
    "\n",
    "os.environ[\"CUDA_VISIBLE_DEVICES\"] = \"0,1\"\n",
    "device = torch.device(\"cuda:0\" if torch.cuda.is_available() else \"cpu\")\n",
    "print('Using', torch.cuda.device_count(), 'GPU(s)')\n",
    "!mkdir models5"
   ]
  },
  {
   "cell_type": "markdown",
   "metadata": {},
   "source": [
    "# <b><span style='color:#F1A424'>|</span> Configuration</b><a class='anchor' id='configuration'></a> [↑](#top) \n",
    "\n",
    "***"
   ]
  },
  {
   "cell_type": "code",
   "execution_count": 2,
   "metadata": {
    "execution": {
     "iopub.execute_input": "2024-03-12T16:23:34.070321Z",
     "iopub.status.busy": "2024-03-12T16:23:34.069535Z",
     "iopub.status.idle": "2024-03-12T16:23:34.076992Z",
     "shell.execute_reply": "2024-03-12T16:23:34.076132Z",
     "shell.execute_reply.started": "2024-03-12T16:23:34.070283Z"
    }
   },
   "outputs": [],
   "source": [
    "class config:\n",
    "    AMP = True\n",
    "    BATCH_SIZE_TRAIN = 64#32\n",
    "    BATCH_SIZE_VALID = 64#32\n",
    "    EPOCHS = 15\n",
    "    FOLDS = 4\n",
    "    GRADIENT_ACCUMULATION_STEPS = 1\n",
    "    MAX_GRAD_NORM = 1e7\n",
    "    NUM_WORKERS = 1 #multiprocessing.cpu_count()\n",
    "    PRINT_FREQ = 50\n",
    "    SEED = 30#20\n",
    "    TRAIN_FULL_DATA = False\n",
    "    VISUALIZE = True\n",
    "    WEIGHT_DECAY = 0.01\n",
    "    \n",
    "    \n",
    "class paths:\n",
    "    OUTPUT_DIR = \"/kaggle/working/\"\n",
    "    TRAIN_CSV = \"../shared_data/hms_data/raw_data/train.csv\"\n",
    "    TRAIN_EEGS = \"../shared_data/hms_data/raw_data/train_eegs/\""
   ]
  },
  {
   "cell_type": "markdown",
   "metadata": {},
   "source": [
    "# <b><span style='color:#F1A424'>|</span> Utils</b><a class='anchor' id='utils'></a> [↑](#top) \n",
    "\n",
    "***\n",
    "\n",
    "Utility functions."
   ]
  },
  {
   "cell_type": "code",
   "execution_count": 3,
   "metadata": {
    "_kg_hide-input": true,
    "execution": {
     "iopub.execute_input": "2024-03-12T16:23:37.248463Z",
     "iopub.status.busy": "2024-03-12T16:23:37.248124Z",
     "iopub.status.idle": "2024-03-12T16:23:37.273878Z",
     "shell.execute_reply": "2024-03-12T16:23:37.272976Z",
     "shell.execute_reply.started": "2024-03-12T16:23:37.248438Z"
    }
   },
   "outputs": [],
   "source": [
    "class AverageMeter(object):\n",
    "    \"\"\"Computes and stores the average and current value\"\"\"\n",
    "    def __init__(self):\n",
    "        self.reset()\n",
    "\n",
    "    def reset(self):\n",
    "        self.val = 0\n",
    "        self.avg = 0\n",
    "        self.sum = 0\n",
    "        self.count = 0\n",
    "\n",
    "    def update(self, val, n=1):\n",
    "        self.val = val\n",
    "        self.sum += val * n\n",
    "        self.count += n\n",
    "        self.avg = self.sum / self.count\n",
    "\n",
    "\n",
    "def asMinutes(s: float):\n",
    "    \"Convert to minutes.\"\n",
    "    m = math.floor(s / 60)\n",
    "    s -= m * 60\n",
    "    return '%dm %ds' % (m, s)\n",
    "\n",
    "\n",
    "def timeSince(since: float, percent: float):\n",
    "    now = time.time()\n",
    "    s = now - since\n",
    "    es = s / (percent)\n",
    "    rs = es - s\n",
    "    return '%s (remain %s)' % (asMinutes(s), asMinutes(rs))\n",
    "\n",
    "\n",
    "\n",
    "\n",
    "def seed_everything(seed: int):\n",
    "    random.seed(seed)\n",
    "    np.random.seed(seed)\n",
    "    torch.manual_seed(seed)\n",
    "    os.environ['PYTHONHASHSEED'] = str(seed) \n",
    "    \n",
    "    \n",
    "def sep():\n",
    "    print(\"-\"*100)\n",
    "\n",
    "    \n",
    "target_preds = [x + \"_pred\" for x in ['seizure_vote', 'lpd_vote', 'gpd_vote', 'lrda_vote', 'grda_vote', 'other_vote']]\n",
    "label_to_num = {'Seizure': 0, 'LPD': 1, 'GPD': 2, 'LRDA': 3, 'GRDA': 4, 'Other':5}\n",
    "num_to_label = {v: k for k, v in label_to_num.items()}\n",
    "seed_everything(config.SEED)"
   ]
  },
  {
   "cell_type": "markdown",
   "metadata": {},
   "source": [
    "# <b><span style='color:#F1A424'>|</span> Load Data</b><a class='anchor' id='load_data'></a> [↑](#top) \n",
    "\n",
    "***\n",
    "\n",
    "Load the competition's data."
   ]
  },
  {
   "cell_type": "code",
   "execution_count": 4,
   "metadata": {
    "execution": {
     "iopub.execute_input": "2024-03-12T16:23:39.557048Z",
     "iopub.status.busy": "2024-03-12T16:23:39.556712Z",
     "iopub.status.idle": "2024-03-12T16:23:39.827657Z",
     "shell.execute_reply": "2024-03-12T16:23:39.826695Z",
     "shell.execute_reply.started": "2024-03-12T16:23:39.557023Z"
    }
   },
   "outputs": [
    {
     "name": "stdout",
     "output_type": "stream",
     "text": [
      "Train cataframe shape is: (106800, 15)\n",
      "Labels: ['seizure_vote', 'lpd_vote', 'gpd_vote', 'lrda_vote', 'grda_vote', 'other_vote']\n"
     ]
    },
    {
     "data": {
      "text/html": [
       "<div>\n",
       "<style scoped>\n",
       "    .dataframe tbody tr th:only-of-type {\n",
       "        vertical-align: middle;\n",
       "    }\n",
       "\n",
       "    .dataframe tbody tr th {\n",
       "        vertical-align: top;\n",
       "    }\n",
       "\n",
       "    .dataframe thead th {\n",
       "        text-align: right;\n",
       "    }\n",
       "</style>\n",
       "<table border=\"1\" class=\"dataframe\">\n",
       "  <thead>\n",
       "    <tr style=\"text-align: right;\">\n",
       "      <th></th>\n",
       "      <th>eeg_id</th>\n",
       "      <th>eeg_sub_id</th>\n",
       "      <th>eeg_label_offset_seconds</th>\n",
       "      <th>spectrogram_id</th>\n",
       "      <th>spectrogram_sub_id</th>\n",
       "      <th>spectrogram_label_offset_seconds</th>\n",
       "      <th>label_id</th>\n",
       "      <th>patient_id</th>\n",
       "      <th>expert_consensus</th>\n",
       "      <th>seizure_vote</th>\n",
       "      <th>lpd_vote</th>\n",
       "      <th>gpd_vote</th>\n",
       "      <th>lrda_vote</th>\n",
       "      <th>grda_vote</th>\n",
       "      <th>other_vote</th>\n",
       "    </tr>\n",
       "  </thead>\n",
       "  <tbody>\n",
       "    <tr>\n",
       "      <th>0</th>\n",
       "      <td>1628180742</td>\n",
       "      <td>0</td>\n",
       "      <td>0.0</td>\n",
       "      <td>353733</td>\n",
       "      <td>0</td>\n",
       "      <td>0.0</td>\n",
       "      <td>127492639</td>\n",
       "      <td>42516</td>\n",
       "      <td>Seizure</td>\n",
       "      <td>3</td>\n",
       "      <td>0</td>\n",
       "      <td>0</td>\n",
       "      <td>0</td>\n",
       "      <td>0</td>\n",
       "      <td>0</td>\n",
       "    </tr>\n",
       "    <tr>\n",
       "      <th>1</th>\n",
       "      <td>1628180742</td>\n",
       "      <td>1</td>\n",
       "      <td>6.0</td>\n",
       "      <td>353733</td>\n",
       "      <td>1</td>\n",
       "      <td>6.0</td>\n",
       "      <td>3887563113</td>\n",
       "      <td>42516</td>\n",
       "      <td>Seizure</td>\n",
       "      <td>3</td>\n",
       "      <td>0</td>\n",
       "      <td>0</td>\n",
       "      <td>0</td>\n",
       "      <td>0</td>\n",
       "      <td>0</td>\n",
       "    </tr>\n",
       "    <tr>\n",
       "      <th>2</th>\n",
       "      <td>1628180742</td>\n",
       "      <td>2</td>\n",
       "      <td>8.0</td>\n",
       "      <td>353733</td>\n",
       "      <td>2</td>\n",
       "      <td>8.0</td>\n",
       "      <td>1142670488</td>\n",
       "      <td>42516</td>\n",
       "      <td>Seizure</td>\n",
       "      <td>3</td>\n",
       "      <td>0</td>\n",
       "      <td>0</td>\n",
       "      <td>0</td>\n",
       "      <td>0</td>\n",
       "      <td>0</td>\n",
       "    </tr>\n",
       "    <tr>\n",
       "      <th>3</th>\n",
       "      <td>1628180742</td>\n",
       "      <td>3</td>\n",
       "      <td>18.0</td>\n",
       "      <td>353733</td>\n",
       "      <td>3</td>\n",
       "      <td>18.0</td>\n",
       "      <td>2718991173</td>\n",
       "      <td>42516</td>\n",
       "      <td>Seizure</td>\n",
       "      <td>3</td>\n",
       "      <td>0</td>\n",
       "      <td>0</td>\n",
       "      <td>0</td>\n",
       "      <td>0</td>\n",
       "      <td>0</td>\n",
       "    </tr>\n",
       "    <tr>\n",
       "      <th>4</th>\n",
       "      <td>1628180742</td>\n",
       "      <td>4</td>\n",
       "      <td>24.0</td>\n",
       "      <td>353733</td>\n",
       "      <td>4</td>\n",
       "      <td>24.0</td>\n",
       "      <td>3080632009</td>\n",
       "      <td>42516</td>\n",
       "      <td>Seizure</td>\n",
       "      <td>3</td>\n",
       "      <td>0</td>\n",
       "      <td>0</td>\n",
       "      <td>0</td>\n",
       "      <td>0</td>\n",
       "      <td>0</td>\n",
       "    </tr>\n",
       "  </tbody>\n",
       "</table>\n",
       "</div>"
      ],
      "text/plain": [
       "       eeg_id  eeg_sub_id  eeg_label_offset_seconds  spectrogram_id  \\\n",
       "0  1628180742           0                       0.0          353733   \n",
       "1  1628180742           1                       6.0          353733   \n",
       "2  1628180742           2                       8.0          353733   \n",
       "3  1628180742           3                      18.0          353733   \n",
       "4  1628180742           4                      24.0          353733   \n",
       "\n",
       "   spectrogram_sub_id  spectrogram_label_offset_seconds    label_id  \\\n",
       "0                   0                               0.0   127492639   \n",
       "1                   1                               6.0  3887563113   \n",
       "2                   2                               8.0  1142670488   \n",
       "3                   3                              18.0  2718991173   \n",
       "4                   4                              24.0  3080632009   \n",
       "\n",
       "   patient_id expert_consensus  seizure_vote  lpd_vote  gpd_vote  lrda_vote  \\\n",
       "0       42516          Seizure             3         0         0          0   \n",
       "1       42516          Seizure             3         0         0          0   \n",
       "2       42516          Seizure             3         0         0          0   \n",
       "3       42516          Seizure             3         0         0          0   \n",
       "4       42516          Seizure             3         0         0          0   \n",
       "\n",
       "   grda_vote  other_vote  \n",
       "0          0           0  \n",
       "1          0           0  \n",
       "2          0           0  \n",
       "3          0           0  \n",
       "4          0           0  "
      ]
     },
     "execution_count": 4,
     "metadata": {},
     "output_type": "execute_result"
    }
   ],
   "source": [
    "train_df = pd.read_csv(paths.TRAIN_CSV)\n",
    "label_cols = train_df.columns[-6:]\n",
    "print(f\"Train cataframe shape is: {train_df.shape}\")\n",
    "print(f\"Labels: {list(label_cols)}\")\n",
    "train_df.head()"
   ]
  },
  {
   "cell_type": "markdown",
   "metadata": {},
   "source": [
    "### <b><span style='color:#F1A424'>Read one EEG parquet</span></b>\n",
    "\n",
    "All of the EEG data (for both train and test) was collected at a frequency of 200 samples per second,\n",
    "\n",
    "Each EEG parquet results in a dataframe with `seconds` rows and 20 columns.\n",
    "\n",
    "- EEG features are: `['Fp1', 'F3', 'C3', 'P3', 'F7', 'T3', 'T5', 'O1', 'Fz', 'Cz', 'Pz', 'Fp2', 'F4', 'C4', 'P4', 'F8', 'T4', 'T6', 'O2', 'EKG']`\n",
    "- We will use these features: `['Fp1','T3','C3','O1','Fp2','C4','T4','O2']`\n",
    "\n"
   ]
  },
  {
   "cell_type": "code",
   "execution_count": 5,
   "metadata": {
    "execution": {
     "iopub.execute_input": "2024-03-12T16:23:42.692059Z",
     "iopub.status.busy": "2024-03-12T16:23:42.691708Z",
     "iopub.status.idle": "2024-03-12T16:23:42.951622Z",
     "shell.execute_reply": "2024-03-12T16:23:42.950572Z",
     "shell.execute_reply.started": "2024-03-12T16:23:42.692031Z"
    }
   },
   "outputs": [],
   "source": [
    "#eeg_df = pd.read_parquet(paths.TRAIN_EEGS + \"100261680.parquet\")\n",
    "#eeg_features = eeg_df.columns\n",
    "#print(f'There are {len(eeg_features)} raw eeg features')\n",
    "#print(list(eeg_features))\n",
    "eeg_features = ['Fp1', 'F3', 'C3', 'P3', 'F7', 'T3', 'T5', 'O1', 'Fz', 'Cz', 'Pz', 'Fp2', 'F4', 'C4', 'P4', 'F8', 'T4', 'T6', 'O2', 'EKG']\n",
    "#['Fp1','T3','C3','O1','Fp2','C4','T4','O2']\n",
    "feature_to_index = {x:y for x,y in zip(eeg_features, range(len(eeg_features)))}"
   ]
  },
  {
   "cell_type": "markdown",
   "metadata": {},
   "source": [
    "### <b><span style='color:#F1A424'>Read all EEG parquets</span></b>"
   ]
  },
  {
   "cell_type": "code",
   "execution_count": null,
   "metadata": {
    "execution": {
     "iopub.execute_input": "2024-03-12T16:27:50.380331Z",
     "iopub.status.busy": "2024-03-12T16:27:50.379427Z",
     "iopub.status.idle": "2024-03-12T16:29:20.428964Z",
     "shell.execute_reply": "2024-03-12T16:29:20.427941Z",
     "shell.execute_reply.started": "2024-03-12T16:27:50.380297Z"
    }
   },
   "outputs": [],
   "source": [
    "### read in each npy file\n",
    "\n",
    "FILT_EEG_PATH = '../shared_data/hms_data/all_channels_filt_eegs/all_channels_filt_eegs' # all_filt_eegs/'\n",
    "#all_eegs = np.empty((0, 10000, 20))  # this will hold all the filtered eegs\n",
    "all_eegs = dict() # this will hold all the filtered eegs\n",
    "\n",
    "for i in range (1,172):\n",
    "        #print(i)\n",
    "        this_dict = np.load(FILT_EEG_PATH + '{:03d}'.format(i) + '.npy', allow_pickle=True).item()\n",
    "        all_eegs.update(this_dict)\n",
    "\n",
    "print(len(all_eegs))\n"
   ]
  },
  {
   "cell_type": "code",
   "execution_count": null,
   "metadata": {},
   "outputs": [],
   "source": [
    "#labels = pd.DataFrame(np.load('../shared_data/hms_data/eeg_filt_labels.npy',allow_pickle=True))"
   ]
  },
  {
   "cell_type": "code",
   "execution_count": null,
   "metadata": {},
   "outputs": [],
   "source": [
    "train_df"
   ]
  },
  {
   "cell_type": "markdown",
   "metadata": {},
   "source": [
    "# <b><span style='color:#F1A424'>|</span> Data pre-processing</b><a class='anchor' id='preprocessing'></a> [↑](#top) \n",
    "\n",
    "***"
   ]
  },
  {
   "cell_type": "code",
   "execution_count": null,
   "metadata": {
    "execution": {
     "iopub.execute_input": "2024-03-12T16:30:00.766258Z",
     "iopub.status.busy": "2024-03-12T16:30:00.765565Z",
     "iopub.status.idle": "2024-03-12T16:30:00.773421Z",
     "shell.execute_reply": "2024-03-12T16:30:00.772522Z",
     "shell.execute_reply.started": "2024-03-12T16:30:00.766221Z"
    }
   },
   "outputs": [],
   "source": [
    "eeg_ids = train_df.eeg_id.unique()\n",
    "len(eeg_ids)"
   ]
  },
  {
   "cell_type": "code",
   "execution_count": null,
   "metadata": {},
   "outputs": [],
   "source": [
    "df = pd.read_csv(paths.TRAIN_CSV)\n",
    "df = df[df['eeg_id'].isin(all_eegs.keys())]\n",
    "label_cols = df.columns[-6:]\n",
    "\n",
    "train_df = df.groupby('eeg_id')[['patient_id']].agg('first')\n",
    "aux = df.groupby('eeg_id')[label_cols].agg('sum') \n",
    "\n",
    "for label in label_cols:\n",
    "    train_df[label] = aux[label].values\n",
    "    \n",
    "y_data = train_df[label_cols].values\n",
    "y_data = y_data / y_data.sum(axis=1,keepdims=True)\n",
    "train_df[label_cols] = y_data\n",
    "\n",
    "aux = df.groupby('eeg_id')[['expert_consensus']].agg('first')\n",
    "train_df['target'] = aux\n",
    "\n",
    "del aux, y_data, df\n",
    "\n",
    "train_df = train_df.reset_index()\n",
    "train_df = train_df.loc[train_df.eeg_id.isin(eeg_ids)]\n",
    "print(f\"Train dataframe with unique eeg_id has shape: {train_df.shape}\")\n",
    "train_df.head()"
   ]
  },
  {
   "cell_type": "code",
   "execution_count": null,
   "metadata": {},
   "outputs": [],
   "source": [
    "train_df"
   ]
  },
  {
   "cell_type": "markdown",
   "metadata": {},
   "source": [
    "# <b><span style='color:#F1A424'>|</span> Validation</b><a class='anchor' id='validation'></a> [↑](#top) \n",
    "\n",
    "***\n",
    "\n",
    "We train using `GroupKFold` on `patient_id`."
   ]
  },
  {
   "cell_type": "code",
   "execution_count": null,
   "metadata": {
    "execution": {
     "iopub.execute_input": "2024-03-12T16:30:09.88344Z",
     "iopub.status.busy": "2024-03-12T16:30:09.882914Z",
     "iopub.status.idle": "2024-03-12T16:30:10.395701Z",
     "shell.execute_reply": "2024-03-12T16:30:10.394754Z",
     "shell.execute_reply.started": "2024-03-12T16:30:09.883405Z"
    }
   },
   "outputs": [],
   "source": [
    "from sklearn.model_selection import KFold, StratifiedGroupKFold\n",
    "\n",
    "\n",
    "gkf = StratifiedGroupKFold(n_splits=config.FOLDS,shuffle=True,random_state=20)#31)#42)\n",
    "for fold, (train_index, valid_index) in enumerate(gkf.split(train_df, train_df.target, train_df.patient_id)):\n",
    "    train_df.loc[valid_index, \"fold\"] = int(fold)\n",
    "    \n",
    "display(train_df.groupby('fold').size()), sep()\n",
    "display(train_df.head())"
   ]
  },
  {
   "cell_type": "markdown",
   "metadata": {},
   "source": [
    "# <b><span style='color:#F1A424'>|</span> Dataset</b><a class='anchor' id='dataset'></a> [↑](#top) \n",
    "\n",
    "***"
   ]
  },
  {
   "cell_type": "code",
   "execution_count": null,
   "metadata": {
    "execution": {
     "iopub.execute_input": "2024-03-12T16:57:57.427625Z",
     "iopub.status.busy": "2024-03-12T16:57:57.427227Z",
     "iopub.status.idle": "2024-03-12T16:57:57.443092Z",
     "shell.execute_reply": "2024-03-12T16:57:57.44207Z",
     "shell.execute_reply.started": "2024-03-12T16:57:57.427595Z"
    }
   },
   "outputs": [],
   "source": [
    "class CustomDataset(Dataset):\n",
    "    def __init__(\n",
    "        self, df: pd.DataFrame, config, mode: str = 'train',\n",
    "        eegs: Dict[int, np.ndarray] = all_eegs, downsample: int = 5\n",
    "    ): \n",
    "        self.df = df\n",
    "        self.config = config\n",
    "        self.batch_size = self.config.BATCH_SIZE_TRAIN\n",
    "        self.mode = mode\n",
    "        self.eegs = eegs\n",
    "        self.downsample = downsample\n",
    "        \n",
    "    def __len__(self):\n",
    "        \"\"\"\n",
    "        Length of dataset.\n",
    "        \"\"\"\n",
    "        return len(self.df)\n",
    "        \n",
    "    def __getitem__(self, index):\n",
    "        \"\"\"\n",
    "        Get one item.\n",
    "        \"\"\"\n",
    "        X, y = self.__data_generation(index)\n",
    "        X = X[::self.downsample,:]\n",
    "        output = {\n",
    "            \"X\": torch.tensor(X, dtype=torch.float32),\n",
    "            \"y\": torch.tensor(y, dtype=torch.float32)\n",
    "        }\n",
    "        return output\n",
    "                        \n",
    "    def __data_generation(self, index):\n",
    "        row = self.df.iloc[index]\n",
    "        X = np.zeros((10_000, 18), dtype='float32')\n",
    "        y = np.zeros(6, dtype='float32')\n",
    "        data = self.eegs[row.eeg_id]\n",
    "        \n",
    "        # === Feature engineering ===\n",
    "        \n",
    "        # Chains:\n",
    "        \n",
    "        #['Fp1', 'F3', 'C3', 'P3', 'F7', 'T3', 'T5', 'O1', 'Fz', 'Cz', 'Pz', 'Fp2', 'F4', 'C4', 'P4', 'F8', 'T4', 'T6', 'O2', 'EKG']\n",
    "        \n",
    "        \n",
    "        X[:,0] = data[:,feature_to_index['Fp1']] - data[:,feature_to_index['F7']]\n",
    "        X[:,1] = data[:,feature_to_index['F7']] - data[:,feature_to_index['T3']]\n",
    "        X[:,2] = data[:,feature_to_index['T3']] - data[:,feature_to_index['T5']]\n",
    "        X[:,3] = data[:,feature_to_index['T5']] - data[:,feature_to_index['O1']]\n",
    "        \n",
    "        X[:,4] = data[:,feature_to_index['Fp1']] - data[:,feature_to_index['F3']]\n",
    "        X[:,5] = data[:,feature_to_index['F3']] - data[:,feature_to_index['C3']]\n",
    "        X[:,6] = data[:,feature_to_index['C3']] - data[:,feature_to_index['P3']]\n",
    "        X[:,7] = data[:,feature_to_index['P3']] - data[:,feature_to_index['O1']]\n",
    "        \n",
    "        X[:,8] = data[:,feature_to_index['Fp2']] - data[:,feature_to_index['F4']]\n",
    "        X[:,9] = data[:,feature_to_index['F4']] - data[:,feature_to_index['C4']]\n",
    "        X[:,10] = data[:,feature_to_index['C4']] - data[:,feature_to_index['P4']]\n",
    "        X[:,11] = data[:,feature_to_index['P4']] - data[:,feature_to_index['O2']]\n",
    "        \n",
    "        X[:,12] = data[:,feature_to_index['Fp2']] - data[:,feature_to_index['F8']]\n",
    "        X[:,13] = data[:,feature_to_index['F8']] - data[:,feature_to_index['T4']]\n",
    "        X[:,14] = data[:,feature_to_index['T4']] - data[:,feature_to_index['T6']]\n",
    "        X[:,15] = data[:,feature_to_index['T6']] - data[:,feature_to_index['O2']]\n",
    "        \n",
    "        X[:,16] = data[:,feature_to_index['Fz']] - data[:,feature_to_index['Cz']]\n",
    "        X[:,17] = data[:,feature_to_index['Cz']] - data[:,feature_to_index['Pz']]\n",
    "        \n",
    "        \n",
    "        # Raw EEGs\n",
    "        #X = data[:,:19]\n",
    "        # === Standarize ===\n",
    "        X = np.clip(X,-1024, 1024)\n",
    "        X = np.nan_to_num(X, nan=0) / 32.0\n",
    "\n",
    "#         # === Butter Low-pass Filter ===\n",
    "#         X = butter_lowpass_filter(X)\n",
    "        \n",
    "        if self.mode != 'test':\n",
    "            y = row[label_cols].values.astype(np.float32)\n",
    "            \n",
    "        return X, y"
   ]
  },
  {
   "cell_type": "code",
   "execution_count": null,
   "metadata": {},
   "outputs": [],
   "source": []
  },
  {
   "cell_type": "markdown",
   "metadata": {},
   "source": [
    "# <b><span style='color:#F1A424'>|</span> DataLoader</b><a class='anchor' id='dataloader'></a> [↑](#top) \n",
    "\n",
    "***"
   ]
  },
  {
   "cell_type": "code",
   "execution_count": null,
   "metadata": {
    "execution": {
     "iopub.execute_input": "2024-03-12T16:57:58.027937Z",
     "iopub.status.busy": "2024-03-12T16:57:58.027551Z",
     "iopub.status.idle": "2024-03-12T16:57:58.042113Z",
     "shell.execute_reply": "2024-03-12T16:57:58.04108Z",
     "shell.execute_reply.started": "2024-03-12T16:57:58.027905Z"
    }
   },
   "outputs": [],
   "source": [
    "train_dataset = CustomDataset(train_df, config, mode=\"train\")\n",
    "train_loader = DataLoader(\n",
    "    train_dataset,\n",
    "    batch_size=config.BATCH_SIZE_TRAIN,\n",
    "    shuffle=False,\n",
    "    num_workers=config.NUM_WORKERS, pin_memory=True, drop_last=True\n",
    ")\n",
    "output = train_dataset[0]\n",
    "X, y = output[\"X\"], output[\"y\"]\n",
    "print(f\"X shape: {X.shape}\")\n",
    "print(f\"y shape: {y.shape}\")"
   ]
  },
  {
   "cell_type": "markdown",
   "metadata": {},
   "source": [
    "### <b><span style='color:#F1A424'> Visualize DataLoader</span></b>\n"
   ]
  },
  {
   "cell_type": "code",
   "execution_count": null,
   "metadata": {
    "execution": {
     "iopub.execute_input": "2024-03-12T16:57:58.515818Z",
     "iopub.status.busy": "2024-03-12T16:57:58.515158Z",
     "iopub.status.idle": "2024-03-12T16:58:01.408139Z",
     "shell.execute_reply": "2024-03-12T16:58:01.407093Z",
     "shell.execute_reply.started": "2024-03-12T16:57:58.515784Z"
    }
   },
   "outputs": [],
   "source": [
    "if config.VISUALIZE:\n",
    "    for batch in train_loader:\n",
    "        X = batch.pop(\"X\")\n",
    "        y = batch.pop(\"y\")\n",
    "        for item in range(4):\n",
    "            plt.figure(figsize=(20,4))\n",
    "            offset = 0\n",
    "            for col in range(X.shape[-1]):\n",
    "                if col != 0:\n",
    "                    offset -= X[item,:,col].min()\n",
    "                plt.plot(range(2_000), X[item,:,col]+offset,label=f'feature {col+1}')\n",
    "                offset += X[item,:,col].max()\n",
    "            tt = f'{y[col][0]:0.1f}'\n",
    "            for t in y[col][1:]:\n",
    "                tt += f', {t:0.1f}'\n",
    "            plt.title(f'EEG_Id = {eeg_ids[item]}\\nTarget = {tt}',size=14)\n",
    "            plt.legend()\n",
    "            plt.show()\n",
    "        break"
   ]
  },
  {
   "cell_type": "markdown",
   "metadata": {},
   "source": [
    "# <b><span style='color:#F1A424'>|</span> Model</b><a class='anchor' id='model'></a> [↑](#top) \n",
    "\n",
    "***\n",
    "\n",
    "<center><img width = 800 src=\"https://raw.githubusercontent.com/cdeotte/Kaggle_Images/main/Jan-2024/wave-model.png\"></center>"
   ]
  },
  {
   "cell_type": "code",
   "execution_count": 4,
   "metadata": {
    "execution": {
     "iopub.execute_input": "2024-03-12T16:58:01.410028Z",
     "iopub.status.busy": "2024-03-12T16:58:01.409737Z",
     "iopub.status.idle": "2024-03-12T16:58:01.456729Z",
     "shell.execute_reply": "2024-03-12T16:58:01.455834Z",
     "shell.execute_reply.started": "2024-03-12T16:58:01.410002Z"
    }
   },
   "outputs": [
    {
     "name": "stdout",
     "output_type": "stream",
     "text": [
      "Total number of parameters: 98086\n"
     ]
    }
   ],
   "source": [
    "class Wave_Block(nn.Module):\n",
    "    def __init__(self, in_channels: int, out_channels: int, dilation_rates: int, kernel_size: int = 3):\n",
    "        \"\"\"\n",
    "        WaveNet building block.\n",
    "        :param in_channels: number of input channels.\n",
    "        :param out_channels: number of output channels.\n",
    "        :param dilation_rates: how many levels of dilations are used.\n",
    "        :param kernel_size: size of the convolving kernel.\n",
    "        \"\"\"\n",
    "        super(Wave_Block, self).__init__()\n",
    "        self.num_rates = dilation_rates\n",
    "        self.convs = nn.ModuleList()\n",
    "        self.filter_convs = nn.ModuleList()\n",
    "        self.gate_convs = nn.ModuleList()\n",
    "        self.convs.append(nn.Conv1d(in_channels, out_channels, kernel_size=1, bias=True))\n",
    "        \n",
    "        dilation_rates = [2 ** i for i in range(dilation_rates)]\n",
    "        for dilation_rate in dilation_rates:\n",
    "            self.filter_convs.append(\n",
    "                nn.Conv1d(out_channels, out_channels, kernel_size=kernel_size,\n",
    "                          padding=int((dilation_rate*(kernel_size-1))/2), dilation=dilation_rate))\n",
    "            self.gate_convs.append(\n",
    "                nn.Conv1d(out_channels, out_channels, kernel_size=kernel_size,\n",
    "                          padding=int((dilation_rate*(kernel_size-1))/2), dilation=dilation_rate))\n",
    "            self.convs.append(nn.Conv1d(out_channels, out_channels, kernel_size=1, bias=True))\n",
    "        \n",
    "        for i in range(len(self.convs)):\n",
    "            nn.init.xavier_uniform_(self.convs[i].weight, gain=nn.init.calculate_gain('relu'))\n",
    "            nn.init.zeros_(self.convs[i].bias)\n",
    "\n",
    "        for i in range(len(self.filter_convs)):\n",
    "            nn.init.xavier_uniform_(self.filter_convs[i].weight, gain=nn.init.calculate_gain('relu'))\n",
    "            nn.init.zeros_(self.filter_convs[i].bias)\n",
    "\n",
    "        for i in range(len(self.gate_convs)):\n",
    "            nn.init.xavier_uniform_(self.gate_convs[i].weight, gain=nn.init.calculate_gain('relu'))\n",
    "            nn.init.zeros_(self.gate_convs[i].bias)\n",
    "\n",
    "    def forward(self, x):\n",
    "        x = self.convs[0](x)\n",
    "        res = x\n",
    "        for i in range(self.num_rates):\n",
    "            tanh_out = torch.tanh(self.filter_convs[i](x))\n",
    "            sigmoid_out = torch.sigmoid(self.gate_convs[i](x))\n",
    "            x = tanh_out * sigmoid_out\n",
    "            x = self.convs[i + 1](x) \n",
    "            res = res + x\n",
    "        return res\n",
    "    \n",
    "class WaveNet(nn.Module):\n",
    "    def __init__(self, input_channels: int = 1, kernel_size: int = 3):\n",
    "        super(WaveNet, self).__init__()\n",
    "        self.model = nn.Sequential(\n",
    "                Wave_Block(input_channels, 8, 12, kernel_size),\n",
    "                Wave_Block(8, 16, 8, kernel_size),\n",
    "                Wave_Block(16, 32, 4, kernel_size),\n",
    "                Wave_Block(32, 64, 1, kernel_size) \n",
    "        )\n",
    "    def forward(self, x: torch.Tensor) -> torch.Tensor:\n",
    "        x = x.permute(0, 2, 1) \n",
    "        output = self.model(x)\n",
    "        return output\n",
    "\n",
    "\n",
    "class CustomModel(nn.Module):\n",
    "    def __init__(self):\n",
    "        super(CustomModel, self).__init__()\n",
    "        self.model = WaveNet()\n",
    "        self.global_avg_pooling = nn.AdaptiveAvgPool1d(1)\n",
    "        self.dropout = 0.0\n",
    "        self.head = nn.Sequential(\n",
    "            nn.Linear(256, 64),\n",
    "            nn.BatchNorm1d(64),\n",
    "            nn.ReLU(),\n",
    "            nn.Dropout(self.dropout),\n",
    "            nn.Linear(64, 6)\n",
    "        )\n",
    "        \n",
    "    def forward(self, x: torch.Tensor):\n",
    "        \"\"\"\n",
    "        Forwward pass.\n",
    "        \"\"\"\n",
    "        x1 = self.model(x[:, :, 0:1])\n",
    "        x1 = self.global_avg_pooling(x1)\n",
    "        x1 = x1.squeeze()\n",
    "        x2 = self.model(x[:, :, 1:2])\n",
    "        x2 = self.global_avg_pooling(x2)\n",
    "        x2 = x2.squeeze()\n",
    "        x3 = self.model(x[:, :, 2:3])\n",
    "        x3 = self.global_avg_pooling(x3)\n",
    "        x3 = x3.squeeze()\n",
    "        x4 = self.model(x[:, :, 3:4])\n",
    "        x4 = self.global_avg_pooling(x4)\n",
    "        x4 = x4.squeeze()\n",
    "        z1 = torch.mean(torch.stack([x1, x2, x3, x4]), dim=0)\n",
    "\n",
    "        x1 = self.model(x[:, :, 4:5])\n",
    "        x1 = self.global_avg_pooling(x1)\n",
    "        x1 = x1.squeeze()\n",
    "        x2 = self.model(x[:, :, 5:6])\n",
    "        x2 = self.global_avg_pooling(x2)\n",
    "        x2 = x2.squeeze()\n",
    "        x3 = self.model(x[:, :, 6:7])\n",
    "        x3 = self.global_avg_pooling(x3)\n",
    "        x3 = x3.squeeze()\n",
    "        x4 = self.model(x[:, :, 7:8])\n",
    "        x4 = self.global_avg_pooling(x4)\n",
    "        x4 = x4.squeeze()\n",
    "        z2 = torch.mean(torch.stack([x1, x2, x3, x4]), dim=0)\n",
    "        \n",
    "        x1 = self.model(x[:, :, 8:9])\n",
    "        x1 = self.global_avg_pooling(x1)\n",
    "        x1 = x1.squeeze()\n",
    "        x2 = self.model(x[:, :, 9:10])\n",
    "        x2 = self.global_avg_pooling(x2)\n",
    "        x2 = x2.squeeze()\n",
    "        x3 = self.model(x[:, :, 10:11])\n",
    "        x3 = self.global_avg_pooling(x3)\n",
    "        x3 = x3.squeeze()\n",
    "        x4 = self.model(x[:, :, 11:12])\n",
    "        x4 = self.global_avg_pooling(x4)\n",
    "        x4 = x4.squeeze()\n",
    "        z3 = torch.mean(torch.stack([x1, x2, x3, x4]), dim=0)\n",
    "        \n",
    "        x1 = self.model(x[:, :, 12:13])\n",
    "        x1 = self.global_avg_pooling(x1)\n",
    "        x1 = x1.squeeze()\n",
    "        x2 = self.model(x[:, :, 13:14])\n",
    "        x2 = self.global_avg_pooling(x2)\n",
    "        x2 = x2.squeeze()\n",
    "        x3 = self.model(x[:, :, 14:15])\n",
    "        x3 = self.global_avg_pooling(x3)\n",
    "        x3 = x3.squeeze()\n",
    "        x4 = self.model(x[:, :, 15:16])\n",
    "        x4 = self.global_avg_pooling(x4)\n",
    "        x4 = x4.squeeze()\n",
    "        z4 = torch.mean(torch.stack([x1, x2, x3, x4]), dim=0)\n",
    "        \n",
    "        x1 = self.model(x[:, :, 16:17])\n",
    "        x1 = self.global_avg_pooling(x1)\n",
    "        x1 = x1.squeeze()\n",
    "        x2 = self.model(x[:, :, 17:18])\n",
    "        x2 = self.global_avg_pooling(x2)\n",
    "        x2 = x2.squeeze()\n",
    "        z5 = torch.mean(torch.stack([x1, x2]), dim=0)\n",
    "        \n",
    "        y = torch.cat([z1, z2, z3, z4], dim=1)\n",
    "        y = self.head(y)\n",
    "        \n",
    "        return y\n",
    "\n",
    "model = CustomModel()\n",
    "total_params = sum(p.numel() for p in model.parameters())\n",
    "print(f\"Total number of parameters: {total_params}\")"
   ]
  },
  {
   "cell_type": "markdown",
   "metadata": {},
   "source": [
    "# <b><span style='color:#F1A424'>|</span> Scheduler</b><a class='anchor' id='scheduler'></a> [↑](#top) \n",
    "\n",
    "***"
   ]
  },
  {
   "cell_type": "code",
   "execution_count": 16,
   "metadata": {},
   "outputs": [],
   "source": [
    "model = CustomModel()\n",
    "fold = 3\n",
    "# Move the model to GPU if available\n",
    "device = torch.device(\"cuda\" if torch.cuda.is_available() else \"cpu\")\n",
    "model.to(device)\n",
    "\n",
    "# Load the state_dict from the saved checkpoint\n",
    "state_dict_path = f\"modelsA6/wavenet_fold_{fold}_best.pth\"\n",
    "state_dict = torch.load(state_dict_path)['model']\n",
    "\n",
    "# Remove \"module.\" from the keys in the state_dict\n",
    "new_state_dict = {key.replace(\"module.\", \"\"): value for key, value in state_dict.items()}\n",
    "\n",
    "# Load the modified state_dict into the model\n",
    "model.load_state_dict(new_state_dict)\n",
    "\n",
    "# Save the modified model state_dict back to the checkpoint\n",
    "torch.save({'model': model.state_dict(),\n",
    "            'predictions': torch.load(state_dict_path)['predictions'],\n",
    "            'best_loss': torch.load(state_dict_path)['best_loss']},\n",
    "           state_dict_path)"
   ]
  },
  {
   "cell_type": "code",
   "execution_count": 9,
   "metadata": {},
   "outputs": [],
   "source": [
    "state_dict_path = f\"modelsA8/wavenet_fold_1_best.pth\"\n",
    "state_dict = torch.load(state_dict_path)['model']"
   ]
  },
  {
   "cell_type": "code",
   "execution_count": 10,
   "metadata": {},
   "outputs": [
    {
     "data": {
      "text/plain": [
       "OrderedDict([('module.model.model.0.convs.0.weight',\n",
       "              tensor([[[-1.0659]],\n",
       "              \n",
       "                      [[-0.4965]],\n",
       "              \n",
       "                      [[ 0.3991]],\n",
       "              \n",
       "                      [[ 0.6779]],\n",
       "              \n",
       "                      [[-0.4878]],\n",
       "              \n",
       "                      [[ 0.7320]],\n",
       "              \n",
       "                      [[ 0.2448]],\n",
       "              \n",
       "                      [[ 0.0442]]], device='cuda:0')),\n",
       "             ('module.model.model.0.convs.0.bias',\n",
       "              tensor([-0.0284, -0.0069, -0.0057,  0.0006,  0.0031,  0.0127, -0.0197,  0.0041],\n",
       "                     device='cuda:0')),\n",
       "             ('module.model.model.0.convs.1.weight',\n",
       "              tensor([[[ 0.0985],\n",
       "                       [ 0.6906],\n",
       "                       [-0.8392],\n",
       "                       [-0.0186],\n",
       "                       [-0.1998],\n",
       "                       [ 0.7256],\n",
       "                       [-0.3579],\n",
       "                       [ 0.7902]],\n",
       "              \n",
       "                      [[ 0.3020],\n",
       "                       [-0.2693],\n",
       "                       [ 0.9027],\n",
       "                       [-0.4303],\n",
       "                       [-0.0542],\n",
       "                       [ 0.1808],\n",
       "                       [-0.0449],\n",
       "                       [ 0.7381]],\n",
       "              \n",
       "                      [[-0.3616],\n",
       "                       [ 0.7292],\n",
       "                       [-0.1399],\n",
       "                       [ 0.2829],\n",
       "                       [-0.1003],\n",
       "                       [ 0.0023],\n",
       "                       [-0.6224],\n",
       "                       [-0.5584]],\n",
       "              \n",
       "                      [[ 0.3651],\n",
       "                       [ 0.3958],\n",
       "                       [ 0.3826],\n",
       "                       [-0.3652],\n",
       "                       [ 0.6309],\n",
       "                       [ 0.0146],\n",
       "                       [-0.2435],\n",
       "                       [ 0.0346]],\n",
       "              \n",
       "                      [[-0.5816],\n",
       "                       [-0.4716],\n",
       "                       [ 0.1683],\n",
       "                       [ 0.4264],\n",
       "                       [-0.7161],\n",
       "                       [-0.4498],\n",
       "                       [ 0.4380],\n",
       "                       [ 0.7582]],\n",
       "              \n",
       "                      [[-0.1961],\n",
       "                       [ 0.1901],\n",
       "                       [ 0.0229],\n",
       "                       [ 0.3190],\n",
       "                       [ 0.5071],\n",
       "                       [-0.1149],\n",
       "                       [-0.4844],\n",
       "                       [-0.8913]],\n",
       "              \n",
       "                      [[ 0.7187],\n",
       "                       [ 0.2552],\n",
       "                       [ 0.4296],\n",
       "                       [ 0.4720],\n",
       "                       [-0.2652],\n",
       "                       [-0.7650],\n",
       "                       [-0.6850],\n",
       "                       [-0.4533]],\n",
       "              \n",
       "                      [[ 0.1235],\n",
       "                       [ 0.4601],\n",
       "                       [-0.6934],\n",
       "                       [-0.0661],\n",
       "                       [ 0.1767],\n",
       "                       [-0.0222],\n",
       "                       [ 0.3561],\n",
       "                       [-0.4041]]], device='cuda:0')),\n",
       "             ('module.model.model.0.convs.1.bias',\n",
       "              tensor([ 1.4183e-02,  2.9501e-05, -3.0350e-03, -8.4234e-03, -4.6330e-03,\n",
       "                       3.6190e-03, -3.0355e-03, -6.2796e-03], device='cuda:0')),\n",
       "             ('module.model.model.0.convs.2.weight',\n",
       "              tensor([[[-5.0632e-01],\n",
       "                       [ 4.2889e-01],\n",
       "                       [ 9.1377e-02],\n",
       "                       [-4.4508e-01],\n",
       "                       [-4.2434e-01],\n",
       "                       [ 3.1099e-01],\n",
       "                       [-2.2929e-01],\n",
       "                       [ 7.9451e-01]],\n",
       "              \n",
       "                      [[ 2.0370e-01],\n",
       "                       [ 6.9825e-01],\n",
       "                       [ 3.4609e-01],\n",
       "                       [-5.6834e-01],\n",
       "                       [ 3.1903e-01],\n",
       "                       [-8.6653e-01],\n",
       "                       [-1.5292e-01],\n",
       "                       [ 3.1462e-01]],\n",
       "              \n",
       "                      [[ 4.4325e-01],\n",
       "                       [-1.0910e-01],\n",
       "                       [-2.9872e-01],\n",
       "                       [-7.7400e-01],\n",
       "                       [ 7.3749e-01],\n",
       "                       [ 8.2670e-01],\n",
       "                       [-2.4548e-01],\n",
       "                       [-7.0098e-04]],\n",
       "              \n",
       "                      [[ 6.8948e-01],\n",
       "                       [-5.8074e-01],\n",
       "                       [ 5.9828e-01],\n",
       "                       [ 3.6906e-01],\n",
       "                       [ 4.2034e-01],\n",
       "                       [ 3.8760e-01],\n",
       "                       [ 2.6615e-01],\n",
       "                       [-7.1566e-01]],\n",
       "              \n",
       "                      [[ 7.6647e-01],\n",
       "                       [-5.7996e-01],\n",
       "                       [ 8.5963e-01],\n",
       "                       [ 2.1204e-01],\n",
       "                       [-1.1756e-01],\n",
       "                       [-6.7504e-01],\n",
       "                       [ 4.2592e-01],\n",
       "                       [-4.6562e-02]],\n",
       "              \n",
       "                      [[-1.3675e-01],\n",
       "                       [-2.0192e-01],\n",
       "                       [ 5.5105e-01],\n",
       "                       [-7.4953e-01],\n",
       "                       [ 1.7070e-01],\n",
       "                       [-7.4857e-01],\n",
       "                       [-2.0450e-02],\n",
       "                       [-5.1769e-01]],\n",
       "              \n",
       "                      [[ 6.8095e-01],\n",
       "                       [ 6.7218e-01],\n",
       "                       [-1.2652e-01],\n",
       "                       [-6.0729e-01],\n",
       "                       [ 7.3521e-01],\n",
       "                       [-4.5447e-01],\n",
       "                       [ 8.0156e-01],\n",
       "                       [-8.9877e-01]],\n",
       "              \n",
       "                      [[-2.4659e-02],\n",
       "                       [-3.5557e-01],\n",
       "                       [ 1.3532e-01],\n",
       "                       [-3.3280e-01],\n",
       "                       [ 9.2739e-01],\n",
       "                       [ 8.3582e-02],\n",
       "                       [ 8.3974e-02],\n",
       "                       [ 6.4239e-01]]], device='cuda:0')),\n",
       "             ('module.model.model.0.convs.2.bias',\n",
       "              tensor([ 0.0053,  0.0109, -0.0003, -0.0096, -0.0003,  0.0066,  0.0024, -0.0056],\n",
       "                     device='cuda:0')),\n",
       "             ('module.model.model.0.convs.3.weight',\n",
       "              tensor([[[ 0.4918],\n",
       "                       [-0.8022],\n",
       "                       [ 0.1779],\n",
       "                       [-0.6155],\n",
       "                       [ 0.3888],\n",
       "                       [-0.6936],\n",
       "                       [ 0.4625],\n",
       "                       [-0.1853]],\n",
       "              \n",
       "                      [[ 0.1017],\n",
       "                       [ 0.6057],\n",
       "                       [ 0.6952],\n",
       "                       [ 0.2474],\n",
       "                       [-0.8125],\n",
       "                       [-0.5008],\n",
       "                       [-0.4925],\n",
       "                       [ 0.1044]],\n",
       "              \n",
       "                      [[-0.0014],\n",
       "                       [ 0.0696],\n",
       "                       [ 0.0541],\n",
       "                       [-0.2741],\n",
       "                       [ 0.1477],\n",
       "                       [ 0.2607],\n",
       "                       [-0.5580],\n",
       "                       [ 0.6096]],\n",
       "              \n",
       "                      [[ 0.2932],\n",
       "                       [ 0.5192],\n",
       "                       [ 0.4285],\n",
       "                       [-0.7970],\n",
       "                       [ 0.3896],\n",
       "                       [-0.7209],\n",
       "                       [-0.5867],\n",
       "                       [ 0.0587]],\n",
       "              \n",
       "                      [[-0.7504],\n",
       "                       [ 0.0654],\n",
       "                       [ 0.5318],\n",
       "                       [ 0.3601],\n",
       "                       [-0.5383],\n",
       "                       [-0.0896],\n",
       "                       [ 0.7745],\n",
       "                       [ 0.7150]],\n",
       "              \n",
       "                      [[-0.2635],\n",
       "                       [-0.4993],\n",
       "                       [ 0.0328],\n",
       "                       [ 0.2472],\n",
       "                       [-0.3784],\n",
       "                       [ 0.6379],\n",
       "                       [ 0.4885],\n",
       "                       [ 0.4653]],\n",
       "              \n",
       "                      [[-0.6964],\n",
       "                       [-0.5384],\n",
       "                       [ 0.8114],\n",
       "                       [-0.0146],\n",
       "                       [-0.3749],\n",
       "                       [ 0.2434],\n",
       "                       [ 0.8237],\n",
       "                       [ 0.8428]],\n",
       "              \n",
       "                      [[-0.8306],\n",
       "                       [ 0.4968],\n",
       "                       [ 0.7413],\n",
       "                       [-0.3686],\n",
       "                       [ 0.4522],\n",
       "                       [ 0.5658],\n",
       "                       [ 0.5526],\n",
       "                       [-0.5241]]], device='cuda:0')),\n",
       "             ('module.model.model.0.convs.3.bias',\n",
       "              tensor([ 0.0124,  0.0013,  0.0002, -0.0070,  0.0074, -0.0095, -0.0041, -0.0148],\n",
       "                     device='cuda:0')),\n",
       "             ('module.model.model.0.convs.4.weight',\n",
       "              tensor([[[ 0.1754],\n",
       "                       [-0.6635],\n",
       "                       [ 0.4830],\n",
       "                       [-0.1789],\n",
       "                       [-0.4933],\n",
       "                       [ 0.2397],\n",
       "                       [ 0.7034],\n",
       "                       [ 0.7458]],\n",
       "              \n",
       "                      [[ 0.2166],\n",
       "                       [ 0.1237],\n",
       "                       [ 0.8281],\n",
       "                       [-0.2411],\n",
       "                       [ 0.6887],\n",
       "                       [ 0.2342],\n",
       "                       [-0.4598],\n",
       "                       [ 0.5904]],\n",
       "              \n",
       "                      [[-0.1135],\n",
       "                       [ 0.0215],\n",
       "                       [-0.1864],\n",
       "                       [ 0.6229],\n",
       "                       [ 0.7686],\n",
       "                       [-0.7373],\n",
       "                       [ 0.5362],\n",
       "                       [ 0.1212]],\n",
       "              \n",
       "                      [[-0.0246],\n",
       "                       [-0.2283],\n",
       "                       [ 0.6444],\n",
       "                       [ 0.8042],\n",
       "                       [ 0.4634],\n",
       "                       [ 0.2398],\n",
       "                       [-0.3087],\n",
       "                       [ 0.7795]],\n",
       "              \n",
       "                      [[-0.5143],\n",
       "                       [ 0.7394],\n",
       "                       [-0.2311],\n",
       "                       [ 0.3518],\n",
       "                       [-0.7999],\n",
       "                       [ 0.7431],\n",
       "                       [ 0.7682],\n",
       "                       [ 0.7217]],\n",
       "              \n",
       "                      [[ 0.3084],\n",
       "                       [ 0.3094],\n",
       "                       [-0.2242],\n",
       "                       [-0.1633],\n",
       "                       [ 0.0873],\n",
       "                       [-0.4869],\n",
       "                       [ 0.4538],\n",
       "                       [ 0.2586]],\n",
       "              \n",
       "                      [[ 0.8393],\n",
       "                       [ 0.1803],\n",
       "                       [-0.5561],\n",
       "                       [ 0.7800],\n",
       "                       [ 0.2787],\n",
       "                       [ 0.7627],\n",
       "                       [-0.1519],\n",
       "                       [-0.5111]],\n",
       "              \n",
       "                      [[ 0.5707],\n",
       "                       [ 0.7940],\n",
       "                       [ 0.7669],\n",
       "                       [ 0.5930],\n",
       "                       [-0.6867],\n",
       "                       [ 0.5310],\n",
       "                       [ 0.2369],\n",
       "                       [ 0.1792]]], device='cuda:0')),\n",
       "             ('module.model.model.0.convs.4.bias',\n",
       "              tensor([ 0.0004, -0.0098, -0.0131, -0.0024, -0.0207,  0.0003, -0.0088,  0.0106],\n",
       "                     device='cuda:0')),\n",
       "             ('module.model.model.0.convs.5.weight',\n",
       "              tensor([[[ 0.0800],\n",
       "                       [ 0.5246],\n",
       "                       [-0.3457],\n",
       "                       [-0.1939],\n",
       "                       [-0.5917],\n",
       "                       [ 0.5233],\n",
       "                       [ 0.5818],\n",
       "                       [-0.4407]],\n",
       "              \n",
       "                      [[-0.2923],\n",
       "                       [ 0.0679],\n",
       "                       [ 0.4901],\n",
       "                       [ 0.2620],\n",
       "                       [ 0.4153],\n",
       "                       [ 0.1481],\n",
       "                       [ 0.5776],\n",
       "                       [ 0.5321]],\n",
       "              \n",
       "                      [[-0.4962],\n",
       "                       [ 0.6073],\n",
       "                       [-0.3766],\n",
       "                       [-0.7170],\n",
       "                       [-0.1610],\n",
       "                       [-0.3839],\n",
       "                       [-0.1975],\n",
       "                       [-0.6857]],\n",
       "              \n",
       "                      [[ 0.4966],\n",
       "                       [ 0.5898],\n",
       "                       [-0.4547],\n",
       "                       [ 0.1514],\n",
       "                       [-0.2613],\n",
       "                       [ 0.2768],\n",
       "                       [-0.7690],\n",
       "                       [ 0.7792]],\n",
       "              \n",
       "                      [[ 0.1452],\n",
       "                       [-0.1028],\n",
       "                       [ 0.1180],\n",
       "                       [ 0.7866],\n",
       "                       [ 0.2717],\n",
       "                       [-0.7289],\n",
       "                       [-0.2986],\n",
       "                       [-0.6744]],\n",
       "              \n",
       "                      [[-0.5398],\n",
       "                       [ 0.5938],\n",
       "                       [ 0.3743],\n",
       "                       [ 0.3561],\n",
       "                       [-0.0232],\n",
       "                       [ 0.4040],\n",
       "                       [-0.1117],\n",
       "                       [-0.5526]],\n",
       "              \n",
       "                      [[ 0.6877],\n",
       "                       [-0.2579],\n",
       "                       [ 0.8992],\n",
       "                       [-0.0276],\n",
       "                       [-0.3276],\n",
       "                       [ 0.8127],\n",
       "                       [ 0.2481],\n",
       "                       [-0.3681]],\n",
       "              \n",
       "                      [[-0.6395],\n",
       "                       [ 0.4734],\n",
       "                       [-0.0452],\n",
       "                       [-0.5381],\n",
       "                       [ 0.0789],\n",
       "                       [-0.5817],\n",
       "                       [-0.1214],\n",
       "                       [-0.5952]]], device='cuda:0')),\n",
       "             ('module.model.model.0.convs.5.bias',\n",
       "              tensor([ 0.0071, -0.0010, -0.0065,  0.0020,  0.0042, -0.0034,  0.0073,  0.0013],\n",
       "                     device='cuda:0')),\n",
       "             ('module.model.model.0.convs.6.weight',\n",
       "              tensor([[[-0.1934],\n",
       "                       [ 0.5885],\n",
       "                       [-0.5525],\n",
       "                       [ 0.4446],\n",
       "                       [ 0.6313],\n",
       "                       [-0.8164],\n",
       "                       [ 0.2889],\n",
       "                       [ 0.6096]],\n",
       "              \n",
       "                      [[ 0.5636],\n",
       "                       [-0.5876],\n",
       "                       [ 0.4552],\n",
       "                       [-0.2910],\n",
       "                       [ 0.3773],\n",
       "                       [-0.7281],\n",
       "                       [ 0.4608],\n",
       "                       [ 0.0534]],\n",
       "              \n",
       "                      [[-0.2661],\n",
       "                       [-0.4725],\n",
       "                       [ 0.2872],\n",
       "                       [ 0.2729],\n",
       "                       [-0.4840],\n",
       "                       [ 0.4007],\n",
       "                       [-0.5585],\n",
       "                       [ 0.0648]],\n",
       "              \n",
       "                      [[-0.2889],\n",
       "                       [ 0.0223],\n",
       "                       [-0.3030],\n",
       "                       [ 0.5619],\n",
       "                       [-0.4366],\n",
       "                       [ 0.5827],\n",
       "                       [ 0.4067],\n",
       "                       [-0.3542]],\n",
       "              \n",
       "                      [[-0.3936],\n",
       "                       [-0.1578],\n",
       "                       [-0.6701],\n",
       "                       [-0.2833],\n",
       "                       [ 0.1269],\n",
       "                       [-0.7577],\n",
       "                       [-0.1504],\n",
       "                       [-0.3991]],\n",
       "              \n",
       "                      [[-0.2261],\n",
       "                       [-0.0625],\n",
       "                       [-0.2197],\n",
       "                       [ 0.0768],\n",
       "                       [ 0.5455],\n",
       "                       [-0.6292],\n",
       "                       [-0.4799],\n",
       "                       [-0.3302]],\n",
       "              \n",
       "                      [[ 0.3730],\n",
       "                       [-0.0708],\n",
       "                       [ 0.3731],\n",
       "                       [-0.3477],\n",
       "                       [ 0.1295],\n",
       "                       [-0.1194],\n",
       "                       [-0.3621],\n",
       "                       [-0.4532]],\n",
       "              \n",
       "                      [[-0.0318],\n",
       "                       [ 0.3978],\n",
       "                       [-0.3265],\n",
       "                       [ 0.8144],\n",
       "                       [-0.5953],\n",
       "                       [-0.7925],\n",
       "                       [-0.6939],\n",
       "                       [ 0.2534]]], device='cuda:0')),\n",
       "             ('module.model.model.0.convs.6.bias',\n",
       "              tensor([ 0.0080,  0.0116,  0.0015,  0.0027,  0.0004, -0.0063,  0.0046, -0.0018],\n",
       "                     device='cuda:0')),\n",
       "             ('module.model.model.0.convs.7.weight',\n",
       "              tensor([[[-0.6918],\n",
       "                       [ 0.3871],\n",
       "                       [ 0.6994],\n",
       "                       [-0.0315],\n",
       "                       [-0.2769],\n",
       "                       [-0.8155],\n",
       "                       [-0.6057],\n",
       "                       [-0.3123]],\n",
       "              \n",
       "                      [[-0.1404],\n",
       "                       [ 0.1554],\n",
       "                       [-0.4596],\n",
       "                       [-0.6143],\n",
       "                       [-0.6490],\n",
       "                       [ 0.4571],\n",
       "                       [ 0.0820],\n",
       "                       [ 0.5247]],\n",
       "              \n",
       "                      [[-0.5425],\n",
       "                       [ 0.2654],\n",
       "                       [-0.4923],\n",
       "                       [ 0.6961],\n",
       "                       [-0.1619],\n",
       "                       [ 0.0727],\n",
       "                       [ 0.1082],\n",
       "                       [ 0.6710]],\n",
       "              \n",
       "                      [[ 0.3026],\n",
       "                       [-0.5822],\n",
       "                       [ 0.0586],\n",
       "                       [ 0.0147],\n",
       "                       [-0.1111],\n",
       "                       [-0.0036],\n",
       "                       [ 0.0958],\n",
       "                       [-0.1137]],\n",
       "              \n",
       "                      [[-0.8074],\n",
       "                       [ 0.3483],\n",
       "                       [ 0.6672],\n",
       "                       [-0.5015],\n",
       "                       [-0.1556],\n",
       "                       [ 0.2762],\n",
       "                       [ 0.6133],\n",
       "                       [ 0.0477]],\n",
       "              \n",
       "                      [[-0.7697],\n",
       "                       [ 0.4300],\n",
       "                       [-0.5243],\n",
       "                       [-0.6658],\n",
       "                       [-0.5831],\n",
       "                       [ 0.4468],\n",
       "                       [ 0.1636],\n",
       "                       [ 0.0857]],\n",
       "              \n",
       "                      [[ 0.1277],\n",
       "                       [ 0.2250],\n",
       "                       [ 0.6263],\n",
       "                       [ 0.3846],\n",
       "                       [ 0.0143],\n",
       "                       [-0.1692],\n",
       "                       [-0.5180],\n",
       "                       [ 0.3597]],\n",
       "              \n",
       "                      [[-0.7111],\n",
       "                       [-0.0847],\n",
       "                       [-0.3247],\n",
       "                       [-0.2729],\n",
       "                       [-0.4722],\n",
       "                       [-0.0962],\n",
       "                       [ 0.6767],\n",
       "                       [ 0.1278]]], device='cuda:0')),\n",
       "             ('module.model.model.0.convs.7.bias',\n",
       "              tensor([-0.0072, -0.0078,  0.0071, -0.0131, -0.0154,  0.0146, -0.0049,  0.0008],\n",
       "                     device='cuda:0')),\n",
       "             ('module.model.model.0.convs.8.weight',\n",
       "              tensor([[[ 2.1590e-01],\n",
       "                       [ 7.6004e-01],\n",
       "                       [-6.6036e-01],\n",
       "                       [ 5.1588e-01],\n",
       "                       [ 6.0150e-01],\n",
       "                       [-4.8174e-01],\n",
       "                       [-4.9216e-01],\n",
       "                       [ 4.7057e-01]],\n",
       "              \n",
       "                      [[ 7.8031e-02],\n",
       "                       [ 3.5115e-01],\n",
       "                       [-6.7004e-01],\n",
       "                       [ 6.8202e-01],\n",
       "                       [-3.7828e-01],\n",
       "                       [-1.8408e-01],\n",
       "                       [ 2.7726e-01],\n",
       "                       [ 2.5119e-01]],\n",
       "              \n",
       "                      [[ 7.4999e-01],\n",
       "                       [ 3.1329e-01],\n",
       "                       [ 1.1852e-01],\n",
       "                       [ 1.0347e-01],\n",
       "                       [ 5.3534e-01],\n",
       "                       [-5.8774e-01],\n",
       "                       [ 3.3694e-01],\n",
       "                       [ 3.2153e-01]],\n",
       "              \n",
       "                      [[-1.4780e-01],\n",
       "                       [-3.8275e-01],\n",
       "                       [-6.6801e-01],\n",
       "                       [ 1.7654e-04],\n",
       "                       [ 2.4896e-01],\n",
       "                       [-5.0616e-02],\n",
       "                       [ 1.9433e-02],\n",
       "                       [-3.6786e-01]],\n",
       "              \n",
       "                      [[-1.8586e-02],\n",
       "                       [-1.2711e-01],\n",
       "                       [ 2.9455e-01],\n",
       "                       [-4.3283e-01],\n",
       "                       [ 3.9946e-01],\n",
       "                       [ 6.6666e-01],\n",
       "                       [ 6.8325e-01],\n",
       "                       [-7.9324e-01]],\n",
       "              \n",
       "                      [[ 4.9783e-01],\n",
       "                       [ 8.4207e-01],\n",
       "                       [ 6.3547e-01],\n",
       "                       [-6.6242e-01],\n",
       "                       [ 3.4501e-02],\n",
       "                       [ 3.4282e-01],\n",
       "                       [-8.5117e-02],\n",
       "                       [ 1.8031e-01]],\n",
       "              \n",
       "                      [[-7.4190e-01],\n",
       "                       [ 1.0658e-01],\n",
       "                       [ 3.5574e-02],\n",
       "                       [-1.9847e-01],\n",
       "                       [-1.7377e-02],\n",
       "                       [-5.6851e-01],\n",
       "                       [-5.3421e-01],\n",
       "                       [-5.9185e-01]],\n",
       "              \n",
       "                      [[ 7.0552e-01],\n",
       "                       [-5.7108e-01],\n",
       "                       [-3.9429e-01],\n",
       "                       [-1.0537e-01],\n",
       "                       [-4.8048e-01],\n",
       "                       [-1.8874e-01],\n",
       "                       [-3.4195e-01],\n",
       "                       [-7.7602e-01]]], device='cuda:0')),\n",
       "             ('module.model.model.0.convs.8.bias',\n",
       "              tensor([-0.0028,  0.0125,  0.0136, -0.0041,  0.0120, -0.0244,  0.0091,  0.0231],\n",
       "                     device='cuda:0')),\n",
       "             ('module.model.model.0.convs.9.weight',\n",
       "              tensor([[[-0.3661],\n",
       "                       [ 0.4639],\n",
       "                       [ 0.2849],\n",
       "                       [-0.2845],\n",
       "                       [-0.3036],\n",
       "                       [ 0.0689],\n",
       "                       [ 0.7290],\n",
       "                       [-0.5060]],\n",
       "              \n",
       "                      [[-0.2361],\n",
       "                       [-0.7269],\n",
       "                       [ 0.3891],\n",
       "                       [ 0.2950],\n",
       "                       [ 0.0639],\n",
       "                       [ 0.2757],\n",
       "                       [-0.7003],\n",
       "                       [ 0.1699]],\n",
       "              \n",
       "                      [[ 0.6331],\n",
       "                       [-0.7699],\n",
       "                       [ 0.0632],\n",
       "                       [-0.4421],\n",
       "                       [ 0.5081],\n",
       "                       [-0.1160],\n",
       "                       [ 0.5698],\n",
       "                       [ 0.7584]],\n",
       "              \n",
       "                      [[ 0.2930],\n",
       "                       [ 0.6544],\n",
       "                       [-0.0476],\n",
       "                       [-0.2751],\n",
       "                       [-0.2596],\n",
       "                       [ 0.1788],\n",
       "                       [ 0.0235],\n",
       "                       [-0.6141]],\n",
       "              \n",
       "                      [[-0.0925],\n",
       "                       [ 0.6228],\n",
       "                       [ 0.0767],\n",
       "                       [-0.2424],\n",
       "                       [ 0.1408],\n",
       "                       [ 0.2851],\n",
       "                       [ 0.8329],\n",
       "                       [ 0.2771]],\n",
       "              \n",
       "                      [[-0.7802],\n",
       "                       [ 0.3883],\n",
       "                       [-0.0157],\n",
       "                       [ 0.5743],\n",
       "                       [ 0.2610],\n",
       "                       [ 0.4481],\n",
       "                       [ 0.5769],\n",
       "                       [-0.2668]],\n",
       "              \n",
       "                      [[ 0.5931],\n",
       "                       [ 0.7563],\n",
       "                       [-0.6698],\n",
       "                       [ 0.8159],\n",
       "                       [-0.3297],\n",
       "                       [ 0.1642],\n",
       "                       [-0.6592],\n",
       "                       [-0.1827]],\n",
       "              \n",
       "                      [[-0.5990],\n",
       "                       [ 0.7327],\n",
       "                       [ 0.0844],\n",
       "                       [-0.5616],\n",
       "                       [ 0.0197],\n",
       "                       [-0.3354],\n",
       "                       [-0.6416],\n",
       "                       [ 0.3968]]], device='cuda:0')),\n",
       "             ('module.model.model.0.convs.9.bias',\n",
       "              tensor([-0.0200,  0.0091,  0.0142,  0.0088, -0.0124,  0.0174, -0.0087, -0.0074],\n",
       "                     device='cuda:0')),\n",
       "             ('module.model.model.0.convs.10.weight',\n",
       "              tensor([[[ 0.4633],\n",
       "                       [ 0.7869],\n",
       "                       [-0.1358],\n",
       "                       [-0.1837],\n",
       "                       [-0.6182],\n",
       "                       [ 0.6753],\n",
       "                       [ 0.3947],\n",
       "                       [ 0.4885]],\n",
       "              \n",
       "                      [[-0.5420],\n",
       "                       [-0.0928],\n",
       "                       [-0.0370],\n",
       "                       [ 0.6165],\n",
       "                       [-0.5437],\n",
       "                       [ 0.6061],\n",
       "                       [-0.2533],\n",
       "                       [ 0.1536]],\n",
       "              \n",
       "                      [[-0.1682],\n",
       "                       [ 0.5831],\n",
       "                       [ 0.2562],\n",
       "                       [-0.1546],\n",
       "                       [ 0.1960],\n",
       "                       [ 0.7153],\n",
       "                       [-0.5263],\n",
       "                       [ 0.2002]],\n",
       "              \n",
       "                      [[-0.8871],\n",
       "                       [ 0.7678],\n",
       "                       [-0.7874],\n",
       "                       [ 0.2741],\n",
       "                       [-0.1445],\n",
       "                       [-0.7747],\n",
       "                       [-0.6993],\n",
       "                       [-0.4171]],\n",
       "              \n",
       "                      [[-0.4177],\n",
       "                       [-0.4095],\n",
       "                       [-0.6191],\n",
       "                       [ 0.3467],\n",
       "                       [-0.1636],\n",
       "                       [ 0.5225],\n",
       "                       [ 0.5636],\n",
       "                       [-0.3656]],\n",
       "              \n",
       "                      [[ 0.8128],\n",
       "                       [-0.3299],\n",
       "                       [ 0.8722],\n",
       "                       [ 0.6505],\n",
       "                       [-0.3558],\n",
       "                       [-0.6034],\n",
       "                       [ 0.4825],\n",
       "                       [ 0.1000]],\n",
       "              \n",
       "                      [[-0.5300],\n",
       "                       [-0.7983],\n",
       "                       [ 0.4318],\n",
       "                       [ 0.0445],\n",
       "                       [ 0.5369],\n",
       "                       [-0.6148],\n",
       "                       [-0.0273],\n",
       "                       [ 0.4406]],\n",
       "              \n",
       "                      [[ 0.3723],\n",
       "                       [ 0.2027],\n",
       "                       [ 0.7155],\n",
       "                       [ 0.2020],\n",
       "                       [-0.5528],\n",
       "                       [ 0.1026],\n",
       "                       [ 0.2883],\n",
       "                       [ 0.7356]]], device='cuda:0')),\n",
       "             ('module.model.model.0.convs.10.bias',\n",
       "              tensor([-0.0034,  0.0058, -0.0065, -0.0195, -0.0103,  0.0059,  0.0141,  0.0037],\n",
       "                     device='cuda:0')),\n",
       "             ('module.model.model.0.convs.11.weight',\n",
       "              tensor([[[-0.4875],\n",
       "                       [ 0.4125],\n",
       "                       [-0.8131],\n",
       "                       [-0.8029],\n",
       "                       [ 0.2732],\n",
       "                       [ 0.4478],\n",
       "                       [-0.5848],\n",
       "                       [ 0.1842]],\n",
       "              \n",
       "                      [[-0.8027],\n",
       "                       [-0.7154],\n",
       "                       [ 0.4593],\n",
       "                       [-0.2993],\n",
       "                       [-0.4757],\n",
       "                       [ 0.1302],\n",
       "                       [-0.2402],\n",
       "                       [ 0.0497]],\n",
       "              \n",
       "                      [[-0.1919],\n",
       "                       [-0.0825],\n",
       "                       [ 0.6470],\n",
       "                       [ 0.5169],\n",
       "                       [ 0.0964],\n",
       "                       [ 0.0837],\n",
       "                       [-0.2438],\n",
       "                       [-0.0539]],\n",
       "              \n",
       "                      [[-0.5437],\n",
       "                       [-0.2436],\n",
       "                       [-0.1246],\n",
       "                       [-0.3039],\n",
       "                       [-0.4364],\n",
       "                       [-0.6581],\n",
       "                       [-0.6870],\n",
       "                       [-0.4219]],\n",
       "              \n",
       "                      [[ 0.4075],\n",
       "                       [-0.0732],\n",
       "                       [-0.0213],\n",
       "                       [-0.4397],\n",
       "                       [ 0.8307],\n",
       "                       [ 0.0341],\n",
       "                       [-0.4254],\n",
       "                       [ 0.2041]],\n",
       "              \n",
       "                      [[-0.4488],\n",
       "                       [ 0.6085],\n",
       "                       [ 0.7595],\n",
       "                       [-0.0456],\n",
       "                       [ 0.5572],\n",
       "                       [ 0.5676],\n",
       "                       [ 0.5749],\n",
       "                       [ 0.6947]],\n",
       "              \n",
       "                      [[ 0.1055],\n",
       "                       [-0.4792],\n",
       "                       [ 0.7962],\n",
       "                       [ 0.6531],\n",
       "                       [-0.4694],\n",
       "                       [ 0.3185],\n",
       "                       [-0.5487],\n",
       "                       [-0.1050]],\n",
       "              \n",
       "                      [[-0.1491],\n",
       "                       [-0.3029],\n",
       "                       [-0.2777],\n",
       "                       [ 0.0299],\n",
       "                       [-0.8629],\n",
       "                       [-0.6873],\n",
       "                       [ 0.9089],\n",
       "                       [ 0.5131]]], device='cuda:0')),\n",
       "             ('module.model.model.0.convs.11.bias',\n",
       "              tensor([ 1.5041e-02,  1.9741e-03, -8.0155e-03, -6.5022e-03,  4.5962e-03,\n",
       "                       2.3991e-05,  7.5804e-04, -1.7983e-03], device='cuda:0')),\n",
       "             ('module.model.model.0.convs.12.weight',\n",
       "              tensor([[[-0.4499],\n",
       "                       [ 0.2608],\n",
       "                       [-0.6199],\n",
       "                       [-0.1218],\n",
       "                       [-0.3454],\n",
       "                       [ 0.4201],\n",
       "                       [ 0.0776],\n",
       "                       [ 0.4456]],\n",
       "              \n",
       "                      [[-0.3673],\n",
       "                       [ 0.2305],\n",
       "                       [-0.8864],\n",
       "                       [-0.0217],\n",
       "                       [-0.5661],\n",
       "                       [-0.6343],\n",
       "                       [-0.0146],\n",
       "                       [-0.3998]],\n",
       "              \n",
       "                      [[-0.1349],\n",
       "                       [ 0.5121],\n",
       "                       [-0.2284],\n",
       "                       [ 0.5675],\n",
       "                       [-0.7647],\n",
       "                       [-0.0474],\n",
       "                       [-0.0807],\n",
       "                       [ 0.5039]],\n",
       "              \n",
       "                      [[-0.2426],\n",
       "                       [-0.6908],\n",
       "                       [-0.7056],\n",
       "                       [-0.2029],\n",
       "                       [ 0.0142],\n",
       "                       [-0.7038],\n",
       "                       [-0.6950],\n",
       "                       [-0.4471]],\n",
       "              \n",
       "                      [[ 0.4768],\n",
       "                       [-0.6799],\n",
       "                       [ 0.5899],\n",
       "                       [-0.1472],\n",
       "                       [ 0.6602],\n",
       "                       [ 0.6792],\n",
       "                       [ 0.2466],\n",
       "                       [-0.2925]],\n",
       "              \n",
       "                      [[ 0.1913],\n",
       "                       [ 0.2109],\n",
       "                       [-0.1305],\n",
       "                       [ 0.6967],\n",
       "                       [ 0.5388],\n",
       "                       [ 0.0579],\n",
       "                       [ 0.5178],\n",
       "                       [ 0.0725]],\n",
       "              \n",
       "                      [[-0.5873],\n",
       "                       [ 0.4532],\n",
       "                       [ 0.5333],\n",
       "                       [-0.1049],\n",
       "                       [ 0.7334],\n",
       "                       [ 0.3446],\n",
       "                       [-0.5230],\n",
       "                       [-0.4941]],\n",
       "              \n",
       "                      [[-0.3502],\n",
       "                       [-0.0055],\n",
       "                       [ 0.4563],\n",
       "                       [ 0.1177],\n",
       "                       [ 0.3582],\n",
       "                       [ 0.5614],\n",
       "                       [ 0.6271],\n",
       "                       [ 0.2320]]], device='cuda:0')),\n",
       "             ('module.model.model.0.convs.12.bias',\n",
       "              tensor([ 0.0115,  0.0047, -0.0133, -0.0116,  0.0036,  0.0005,  0.0019,  0.0005],\n",
       "                     device='cuda:0')),\n",
       "             ('module.model.model.0.filter_convs.0.weight',\n",
       "              tensor([[[-0.0701, -0.5154,  0.1088],\n",
       "                       [-0.0752, -0.1708, -0.0973],\n",
       "                       [ 0.3704, -0.0066,  0.1299],\n",
       "                       [ 0.4435, -0.1396, -0.3391],\n",
       "                       [ 0.0346,  0.3064,  0.4204],\n",
       "                       [ 0.0645,  0.1378, -0.2459],\n",
       "                       [-0.3552, -0.3224, -0.3806],\n",
       "                       [-0.1246, -0.0990,  0.1502]],\n",
       "              \n",
       "                      [[-0.3638, -0.1866, -0.1501],\n",
       "                       [ 0.3104,  0.3577, -0.2401],\n",
       "                       [ 0.4162, -0.4123,  0.1695],\n",
       "                       [-0.1173,  0.2272,  0.1736],\n",
       "                       [ 0.0765, -0.3191, -0.2461],\n",
       "                       [ 0.4108,  0.2873, -0.2415],\n",
       "                       [-0.2556,  0.1070, -0.3924],\n",
       "                       [ 0.1252,  0.1065,  0.2052]],\n",
       "              \n",
       "                      [[ 0.5529,  0.1590,  0.0380],\n",
       "                       [-0.0731,  0.1615,  0.0498],\n",
       "                       [-0.4815, -0.0748, -0.0993],\n",
       "                       [ 0.3677, -0.0711, -0.0090],\n",
       "                       [ 0.2874,  0.1628, -0.2367],\n",
       "                       [-0.1944,  0.4016,  0.3229],\n",
       "                       [-0.1325,  0.3645, -0.1301],\n",
       "                       [ 0.3500,  0.0715, -0.3592]],\n",
       "              \n",
       "                      [[-0.0575, -0.2076,  0.5145],\n",
       "                       [-0.4468, -0.0498,  0.0168],\n",
       "                       [ 0.1220, -0.0805,  0.3795],\n",
       "                       [-0.4361, -0.3160,  0.3774],\n",
       "                       [-0.4040,  0.0073,  0.0533],\n",
       "                       [ 0.0017,  0.3828, -0.2716],\n",
       "                       [ 0.2066, -0.2729,  0.2529],\n",
       "                       [ 0.1037, -0.3260,  0.1558]],\n",
       "              \n",
       "                      [[ 0.1480, -0.1983,  0.1721],\n",
       "                       [ 0.1424, -0.0218, -0.1891],\n",
       "                       [-0.4144,  0.0335, -0.4318],\n",
       "                       [ 0.2674,  0.3645, -0.1747],\n",
       "                       [ 0.0947, -0.1382, -0.1297],\n",
       "                       [ 0.2193, -0.1804, -0.2943],\n",
       "                       [ 0.1263, -0.1625, -0.0533],\n",
       "                       [-0.1144, -0.2453, -0.1855]],\n",
       "              \n",
       "                      [[-0.4896, -0.0839,  0.4585],\n",
       "                       [ 0.1064, -0.3386,  0.2031],\n",
       "                       [-0.2166, -0.2679, -0.2072],\n",
       "                       [-0.2155, -0.3026, -0.0775],\n",
       "                       [-0.1770, -0.4223,  0.3600],\n",
       "                       [ 0.3580, -0.2313, -0.3429],\n",
       "                       [-0.3361, -0.1574, -0.4471],\n",
       "                       [ 0.5432,  0.2492, -0.3094]],\n",
       "              \n",
       "                      [[ 0.4973, -0.1449, -0.4113],\n",
       "                       [ 0.0705,  0.0668,  0.0120],\n",
       "                       [ 0.2596,  0.1613, -0.1866],\n",
       "                       [ 0.3013,  0.1291,  0.3310],\n",
       "                       [-0.0842,  0.5069, -0.3435],\n",
       "                       [ 0.1111, -0.1990,  0.1928],\n",
       "                       [-0.3450,  0.0705, -0.2359],\n",
       "                       [-0.4333,  0.1719,  0.4746]],\n",
       "              \n",
       "                      [[-0.1055,  0.1033, -0.4038],\n",
       "                       [ 0.1595, -0.2207,  0.0260],\n",
       "                       [-0.2572,  0.4574, -0.0300],\n",
       "                       [ 0.1715,  0.0315, -0.1802],\n",
       "                       [-0.1967,  0.0609, -0.2035],\n",
       "                       [-0.2060,  0.3382,  0.2115],\n",
       "                       [-0.0088,  0.2122, -0.4648],\n",
       "                       [-0.0865,  0.3859, -0.4129]]], device='cuda:0')),\n",
       "             ('module.model.model.0.filter_convs.0.bias',\n",
       "              tensor([ 0.0238,  0.0081,  0.0047, -0.0070,  0.0099,  0.0094,  0.0035,  0.0165],\n",
       "                     device='cuda:0')),\n",
       "             ('module.model.model.0.filter_convs.1.weight',\n",
       "              tensor([[[ 0.4053,  0.1472, -0.3869],\n",
       "                       [ 0.3784,  0.1802,  0.0481],\n",
       "                       [ 0.1300, -0.2760, -0.2454],\n",
       "                       [ 0.1435,  0.4571, -0.3416],\n",
       "                       [-0.2974, -0.4005, -0.2346],\n",
       "                       [ 0.2430, -0.3902, -0.1348],\n",
       "                       [ 0.0272,  0.0824, -0.2888],\n",
       "                       [-0.2927,  0.2094, -0.4006]],\n",
       "              \n",
       "                      [[ 0.1923, -0.3895, -0.3464],\n",
       "                       [-0.2746, -0.5238,  0.1503],\n",
       "                       [ 0.1265,  0.4361, -0.2012],\n",
       "                       [ 0.3079, -0.1553, -0.4673],\n",
       "                       [-0.2836, -0.2917,  0.0267],\n",
       "                       [ 0.4676, -0.3528,  0.4604],\n",
       "                       [-0.3148, -0.2712,  0.1910],\n",
       "                       [-0.4513, -0.4629, -0.0041]],\n",
       "              \n",
       "                      [[ 0.0893,  0.2544,  0.2503],\n",
       "                       [ 0.0938,  0.5389,  0.0715],\n",
       "                       [-0.3526, -0.1762, -0.1003],\n",
       "                       [-0.2416,  0.1634, -0.4643],\n",
       "                       [-0.0930, -0.1993,  0.1634],\n",
       "                       [-0.0824,  0.4170, -0.2924],\n",
       "                       [-0.2742,  0.1435,  0.3098],\n",
       "                       [-0.0059,  0.2722, -0.0999]],\n",
       "              \n",
       "                      [[ 0.3675, -0.4356,  0.1497],\n",
       "                       [-0.4658,  0.2288, -0.3530],\n",
       "                       [ 0.3614, -0.0289, -0.2537],\n",
       "                       [ 0.3775,  0.2942,  0.1602],\n",
       "                       [-0.0943,  0.1743, -0.2207],\n",
       "                       [-0.4287,  0.0148,  0.2918],\n",
       "                       [ 0.4350, -0.0717,  0.4792],\n",
       "                       [-0.1169,  0.3259,  0.1207]],\n",
       "              \n",
       "                      [[ 0.2829, -0.2503,  0.1074],\n",
       "                       [ 0.3617,  0.4884, -0.1753],\n",
       "                       [ 0.3258, -0.1515, -0.3460],\n",
       "                       [ 0.0647,  0.4746,  0.4070],\n",
       "                       [ 0.2190, -0.1002,  0.2302],\n",
       "                       [-0.2300,  0.2664, -0.5277],\n",
       "                       [ 0.5187,  0.3805,  0.4075],\n",
       "                       [-0.4293,  0.1095,  0.1512]],\n",
       "              \n",
       "                      [[-0.3616, -0.2977,  0.3839],\n",
       "                       [ 0.3575, -0.2065, -0.1853],\n",
       "                       [-0.2005,  0.4083, -0.2705],\n",
       "                       [-0.2218,  0.0740,  0.3902],\n",
       "                       [ 0.4291, -0.0217, -0.2831],\n",
       "                       [ 0.1148, -0.2690,  0.2912],\n",
       "                       [-0.2380,  0.2678, -0.2556],\n",
       "                       [ 0.1759,  0.1512, -0.1190]],\n",
       "              \n",
       "                      [[ 0.4700, -0.1861,  0.0754],\n",
       "                       [ 0.2554,  0.0347, -0.3465],\n",
       "                       [-0.0382, -0.3067,  0.3366],\n",
       "                       [ 0.5105, -0.2396, -0.3955],\n",
       "                       [-0.4056,  0.1779,  0.1578],\n",
       "                       [ 0.5015, -0.1041, -0.0972],\n",
       "                       [ 0.1771, -0.3297, -0.3423],\n",
       "                       [ 0.3743,  0.2321, -0.3363]],\n",
       "              \n",
       "                      [[-0.0500,  0.1099, -0.0871],\n",
       "                       [ 0.2878,  0.1616, -0.4562],\n",
       "                       [-0.2050, -0.3966,  0.1053],\n",
       "                       [-0.2247, -0.2323, -0.2941],\n",
       "                       [-0.3178,  0.4179,  0.0449],\n",
       "                       [ 0.4343, -0.2871, -0.1605],\n",
       "                       [ 0.0091,  0.4107, -0.0916],\n",
       "                       [ 0.3614,  0.4733,  0.3713]]], device='cuda:0')),\n",
       "             ('module.model.model.0.filter_convs.1.bias',\n",
       "              tensor([ 0.0058,  0.0112,  0.0122, -0.0067, -0.0081, -0.0188,  0.0085, -0.0060],\n",
       "                     device='cuda:0')),\n",
       "             ('module.model.model.0.filter_convs.2.weight',\n",
       "              tensor([[[ 0.4183, -0.0694,  0.0566],\n",
       "                       [ 0.0313, -0.3222,  0.1007],\n",
       "                       [ 0.0865,  0.0636,  0.1511],\n",
       "                       [ 0.0210, -0.4288,  0.0300],\n",
       "                       [-0.1352, -0.4502, -0.1096],\n",
       "                       [-0.5601, -0.4223, -0.2785],\n",
       "                       [-0.0594,  0.3634, -0.0487],\n",
       "                       [ 0.0289, -0.4537, -0.0879]],\n",
       "              \n",
       "                      [[-0.0134,  0.2740,  0.0713],\n",
       "                       [ 0.2430, -0.0939,  0.3303],\n",
       "                       [-0.1778, -0.4110,  0.1193],\n",
       "                       [-0.2171,  0.2628, -0.2320],\n",
       "                       [-0.0440,  0.4139,  0.3822],\n",
       "                       [ 0.4266,  0.2726, -0.0712],\n",
       "                       [-0.3048, -0.3609, -0.0686],\n",
       "                       [ 0.1935,  0.5749, -0.0123]],\n",
       "              \n",
       "                      [[-0.3434, -0.0438, -0.5486],\n",
       "                       [-0.2229,  0.4987, -0.5269],\n",
       "                       [-0.1396, -0.1030, -0.3768],\n",
       "                       [ 0.3265,  0.3443,  0.2063],\n",
       "                       [ 0.1613,  0.0885, -0.0706],\n",
       "                       [ 0.0781,  0.1129, -0.2568],\n",
       "                       [ 0.2642,  0.0875,  0.1855],\n",
       "                       [-0.3384,  0.1010,  0.4597]],\n",
       "              \n",
       "                      [[ 0.2392, -0.3981,  0.0608],\n",
       "                       [ 0.1240, -0.3165,  0.2553],\n",
       "                       [ 0.2845, -0.2598,  0.1425],\n",
       "                       [-0.2172,  0.2424, -0.2167],\n",
       "                       [ 0.1957, -0.1067, -0.4931],\n",
       "                       [ 0.3000, -0.4695, -0.4592],\n",
       "                       [-0.3472,  0.0596,  0.0872],\n",
       "                       [ 0.3094, -0.5668,  0.0217]],\n",
       "              \n",
       "                      [[-0.0448,  0.5214,  0.0485],\n",
       "                       [ 0.0128, -0.2631, -0.3193],\n",
       "                       [ 0.2200,  0.4515,  0.2934],\n",
       "                       [ 0.1581, -0.0453,  0.0467],\n",
       "                       [-0.3126,  0.2350,  0.3907],\n",
       "                       [ 0.1236, -0.4162,  0.4469],\n",
       "                       [ 0.1636, -0.0492, -0.3281],\n",
       "                       [-0.3217,  0.2523,  0.3678]],\n",
       "              \n",
       "                      [[ 0.0154,  0.2440,  0.3264],\n",
       "                       [-0.1719,  0.1341, -0.0227],\n",
       "                       [-0.3399,  0.2994, -0.1053],\n",
       "                       [ 0.5285,  0.0623,  0.0530],\n",
       "                       [-0.2382, -0.0071,  0.1446],\n",
       "                       [-0.1246, -0.4389,  0.0615],\n",
       "                       [ 0.5446, -0.1642,  0.2718],\n",
       "                       [ 0.1666, -0.2040, -0.0281]],\n",
       "              \n",
       "                      [[-0.1434, -0.1679,  0.3028],\n",
       "                       [ 0.4386,  0.1818, -0.1433],\n",
       "                       [ 0.3464, -0.2348,  0.1328],\n",
       "                       [-0.0732, -0.2256, -0.1143],\n",
       "                       [ 0.1104,  0.4366,  0.2616],\n",
       "                       [-0.4042,  0.0818,  0.0445],\n",
       "                       [-0.0275,  0.2490,  0.0085],\n",
       "                       [ 0.1948,  0.1167, -0.0666]],\n",
       "              \n",
       "                      [[ 0.0569, -0.1458,  0.0256],\n",
       "                       [ 0.1122, -0.0453,  0.3974],\n",
       "                       [ 0.3612, -0.1967,  0.4572],\n",
       "                       [ 0.3900,  0.0133,  0.2992],\n",
       "                       [-0.2998, -0.1192,  0.3331],\n",
       "                       [ 0.4630,  0.4528,  0.2781],\n",
       "                       [-0.0377,  0.4379,  0.1246],\n",
       "                       [ 0.3081, -0.4716, -0.1963]]], device='cuda:0')),\n",
       "             ('module.model.model.0.filter_convs.2.bias',\n",
       "              tensor([ 0.0044, -0.0034, -0.0058, -0.0082, -0.0124, -0.0101,  0.0018,  0.0084],\n",
       "                     device='cuda:0')),\n",
       "             ('module.model.model.0.filter_convs.3.weight',\n",
       "              tensor([[[ 0.1954, -0.3197, -0.3725],\n",
       "                       [-0.0490, -0.4306, -0.3392],\n",
       "                       [-0.0859,  0.3838,  0.1792],\n",
       "                       [ 0.4395,  0.3801,  0.1607],\n",
       "                       [ 0.3692, -0.1399, -0.1894],\n",
       "                       [ 0.0509,  0.2030, -0.4396],\n",
       "                       [-0.3838,  0.3609,  0.3035],\n",
       "                       [-0.3877, -0.0283, -0.3252]],\n",
       "              \n",
       "                      [[-0.4466,  0.3101,  0.0545],\n",
       "                       [-0.4578,  0.1937, -0.5096],\n",
       "                       [-0.2528, -0.2960,  0.0640],\n",
       "                       [-0.1701, -0.0201, -0.3453],\n",
       "                       [-0.2322,  0.2724, -0.5828],\n",
       "                       [ 0.1026, -0.2972,  0.3717],\n",
       "                       [ 0.4754,  0.2139, -0.2924],\n",
       "                       [-0.2667, -0.2873, -0.1305]],\n",
       "              \n",
       "                      [[ 0.3846,  0.2107, -0.0635],\n",
       "                       [-0.3061,  0.3120,  0.0433],\n",
       "                       [-0.1906, -0.4087,  0.4331],\n",
       "                       [-0.0014,  0.3555, -0.5354],\n",
       "                       [-0.2649,  0.0450,  0.3436],\n",
       "                       [ 0.2577, -0.4901, -0.2616],\n",
       "                       [-0.3706, -0.3592, -0.2716],\n",
       "                       [-0.1782,  0.2950, -0.2764]],\n",
       "              \n",
       "                      [[ 0.1593,  0.3240, -0.1180],\n",
       "                       [ 0.0080, -0.3790,  0.4305],\n",
       "                       [ 0.5282,  0.1748, -0.2398],\n",
       "                       [ 0.2564,  0.3028, -0.1282],\n",
       "                       [-0.2604, -0.0575, -0.1916],\n",
       "                       [ 0.1264,  0.3134, -0.3274],\n",
       "                       [ 0.2293, -0.3863,  0.3365],\n",
       "                       [-0.3150,  0.3631, -0.1629]],\n",
       "              \n",
       "                      [[ 0.2886,  0.3291, -0.4772],\n",
       "                       [ 0.2739, -0.3033,  0.1356],\n",
       "                       [-0.3761,  0.3767, -0.0052],\n",
       "                       [-0.1757, -0.3605,  0.4367],\n",
       "                       [ 0.2647,  0.1842,  0.3458],\n",
       "                       [-0.4618, -0.3626,  0.4175],\n",
       "                       [ 0.2323, -0.1030,  0.2611],\n",
       "                       [-0.3185,  0.3266, -0.3348]],\n",
       "              \n",
       "                      [[ 0.3439, -0.3965,  0.1627],\n",
       "                       [ 0.4349,  0.0598,  0.1631],\n",
       "                       [ 0.2469, -0.1852, -0.2390],\n",
       "                       [ 0.2259,  0.2885, -0.4019],\n",
       "                       [ 0.0040, -0.0635, -0.5109],\n",
       "                       [ 0.4409,  0.1464,  0.0883],\n",
       "                       [-0.3023,  0.4222, -0.0765],\n",
       "                       [-0.0863,  0.0198, -0.3574]],\n",
       "              \n",
       "                      [[-0.3680, -0.2728,  0.1064],\n",
       "                       [ 0.1264,  0.2339, -0.3113],\n",
       "                       [ 0.3286,  0.0543, -0.0034],\n",
       "                       [-0.3802,  0.0582,  0.0864],\n",
       "                       [-0.0202, -0.4219,  0.1163],\n",
       "                       [ 0.4090,  0.2798,  0.1827],\n",
       "                       [-0.1457,  0.3481,  0.2742],\n",
       "                       [-0.1009,  0.4157, -0.0782]],\n",
       "              \n",
       "                      [[ 0.3800, -0.0787, -0.0687],\n",
       "                       [-0.4388, -0.4278,  0.4392],\n",
       "                       [-0.4487, -0.3814, -0.2707],\n",
       "                       [ 0.3016, -0.1674, -0.2149],\n",
       "                       [ 0.1812,  0.2303,  0.3227],\n",
       "                       [ 0.4518,  0.0496,  0.0046],\n",
       "                       [ 0.1914, -0.0825,  0.1929],\n",
       "                       [ 0.0496, -0.1602, -0.5378]]], device='cuda:0')),\n",
       "             ('module.model.model.0.filter_convs.3.bias',\n",
       "              tensor([ 0.0105, -0.0027,  0.0022, -0.0130,  0.0089, -0.0024, -0.0054, -0.0071],\n",
       "                     device='cuda:0')),\n",
       "             ('module.model.model.0.filter_convs.4.weight',\n",
       "              tensor([[[ 0.4134,  0.1662, -0.2005],\n",
       "                       [-0.2499,  0.1468, -0.0368],\n",
       "                       [-0.1413,  0.0881, -0.3638],\n",
       "                       [ 0.5158, -0.1579,  0.0664],\n",
       "                       [ 0.0731,  0.1841, -0.2304],\n",
       "                       [-0.4124, -0.1143, -0.4462],\n",
       "                       [ 0.1870, -0.0577, -0.3132],\n",
       "                       [ 0.1592, -0.3570, -0.1101]],\n",
       "              \n",
       "                      [[ 0.3666,  0.2119, -0.2201],\n",
       "                       [ 0.1549, -0.1867, -0.0261],\n",
       "                       [ 0.0568,  0.3465, -0.4708],\n",
       "                       [-0.3022,  0.3480, -0.1064],\n",
       "                       [-0.4491, -0.1420,  0.4819],\n",
       "                       [ 0.0668,  0.2160, -0.2702],\n",
       "                       [-0.0270, -0.3872, -0.3403],\n",
       "                       [ 0.3356,  0.2260,  0.2726]],\n",
       "              \n",
       "                      [[ 0.0211, -0.1271, -0.2552],\n",
       "                       [ 0.1142, -0.4553, -0.3060],\n",
       "                       [ 0.3729, -0.2758, -0.2851],\n",
       "                       [ 0.1143, -0.3985,  0.4306],\n",
       "                       [-0.4405, -0.1809, -0.4268],\n",
       "                       [ 0.4444,  0.4359, -0.2572],\n",
       "                       [-0.3472,  0.2868,  0.2572],\n",
       "                       [ 0.1897,  0.4341,  0.2542]],\n",
       "              \n",
       "                      [[ 0.3592, -0.1033, -0.1490],\n",
       "                       [-0.3643,  0.1116,  0.0477],\n",
       "                       [-0.3729, -0.4862, -0.0248],\n",
       "                       [ 0.4188, -0.0641,  0.3204],\n",
       "                       [-0.0637, -0.4337, -0.4068],\n",
       "                       [-0.0396, -0.4994, -0.2447],\n",
       "                       [ 0.0036, -0.3026, -0.5048],\n",
       "                       [ 0.4712,  0.3094, -0.3307]],\n",
       "              \n",
       "                      [[-0.2786, -0.1854,  0.3216],\n",
       "                       [ 0.4087,  0.4865, -0.2850],\n",
       "                       [-0.2736, -0.3823,  0.0775],\n",
       "                       [-0.2952,  0.2338,  0.0379],\n",
       "                       [-0.1267, -0.3463, -0.5022],\n",
       "                       [ 0.1790, -0.1231, -0.2368],\n",
       "                       [ 0.3092,  0.4366,  0.3585],\n",
       "                       [-0.1182, -0.2413, -0.5408]],\n",
       "              \n",
       "                      [[ 0.2887,  0.3381, -0.3627],\n",
       "                       [-0.0133, -0.1350,  0.3215],\n",
       "                       [ 0.2920, -0.0742,  0.4519],\n",
       "                       [-0.1476, -0.4669,  0.4971],\n",
       "                       [-0.2698,  0.0802,  0.3943],\n",
       "                       [ 0.3312,  0.0184,  0.3886],\n",
       "                       [ 0.1802,  0.0705,  0.1538],\n",
       "                       [ 0.2015,  0.1340,  0.2866]],\n",
       "              \n",
       "                      [[-0.2475, -0.0602, -0.2108],\n",
       "                       [-0.0379, -0.2369, -0.0079],\n",
       "                       [ 0.1941, -0.3868,  0.1088],\n",
       "                       [-0.2483,  0.1625,  0.3817],\n",
       "                       [-0.4707, -0.4311,  0.4947],\n",
       "                       [ 0.0330,  0.1309, -0.1692],\n",
       "                       [ 0.1157,  0.0768,  0.0930],\n",
       "                       [-0.2865, -0.1090, -0.3673]],\n",
       "              \n",
       "                      [[-0.2651, -0.2866, -0.3639],\n",
       "                       [ 0.3224, -0.0378,  0.4233],\n",
       "                       [ 0.3286, -0.2118,  0.4053],\n",
       "                       [-0.4519, -0.3886,  0.2369],\n",
       "                       [ 0.0891,  0.4316, -0.0598],\n",
       "                       [ 0.2420,  0.2476,  0.4919],\n",
       "                       [-0.4747, -0.5110,  0.4515],\n",
       "                       [-0.3246,  0.2604, -0.1530]]], device='cuda:0')),\n",
       "             ('module.model.model.0.filter_convs.4.bias',\n",
       "              tensor([-0.0033,  0.0013,  0.0326,  0.0158, -0.0074,  0.0059,  0.0079,  0.0006],\n",
       "                     device='cuda:0')),\n",
       "             ('module.model.model.0.filter_convs.5.weight',\n",
       "              tensor([[[-0.0320, -0.0787,  0.2396],\n",
       "                       [-0.2514,  0.5464,  0.0922],\n",
       "                       [-0.1574, -0.2009, -0.0201],\n",
       "                       [ 0.0811,  0.1413,  0.0605],\n",
       "                       [-0.2801, -0.2846, -0.2893],\n",
       "                       [-0.3874, -0.0236, -0.2445],\n",
       "                       [-0.0119, -0.0213, -0.1999],\n",
       "                       [ 0.2642, -0.4203,  0.1410]],\n",
       "              \n",
       "                      [[ 0.1897, -0.3098,  0.3886],\n",
       "                       [ 0.3919,  0.3342, -0.1271],\n",
       "                       [ 0.0958, -0.1853, -0.2203],\n",
       "                       [ 0.3565,  0.6373, -0.1919],\n",
       "                       [-0.3738, -0.1761,  0.3854],\n",
       "                       [ 0.2884, -0.1001, -0.4774],\n",
       "                       [ 0.1248,  0.0537,  0.3615],\n",
       "                       [ 0.4131, -0.0892,  0.2414]],\n",
       "              \n",
       "                      [[-0.3085, -0.1170,  0.0653],\n",
       "                       [ 0.2374,  0.1047, -0.1365],\n",
       "                       [-0.0761, -0.0163,  0.3719],\n",
       "                       [-0.0544, -0.2145,  0.0285],\n",
       "                       [ 0.1385, -0.4006,  0.1827],\n",
       "                       [-0.4026, -0.2240, -0.0645],\n",
       "                       [-0.0689,  0.3124, -0.3351],\n",
       "                       [ 0.0761, -0.1877, -0.3465]],\n",
       "              \n",
       "                      [[-0.1090,  0.2383, -0.4796],\n",
       "                       [ 0.0394,  0.0455,  0.2280],\n",
       "                       [ 0.0122,  0.2880,  0.0834],\n",
       "                       [-0.3423, -0.0747, -0.3029],\n",
       "                       [ 0.3478, -0.2352, -0.1807],\n",
       "                       [-0.1808, -0.2403, -0.4276],\n",
       "                       [-0.0218,  0.0391,  0.3926],\n",
       "                       [ 0.3408,  0.0526, -0.1087]],\n",
       "              \n",
       "                      [[-0.2807,  0.0209, -0.3039],\n",
       "                       [ 0.1485, -0.3880,  0.2409],\n",
       "                       [ 0.4380,  0.5293, -0.3978],\n",
       "                       [-0.1876, -0.0800, -0.3526],\n",
       "                       [ 0.2884,  0.1033, -0.2160],\n",
       "                       [ 0.2243,  0.2700,  0.0490],\n",
       "                       [-0.0458, -0.4954, -0.4343],\n",
       "                       [ 0.4741, -0.1523, -0.4005]],\n",
       "              \n",
       "                      [[-0.1432, -0.4215, -0.1854],\n",
       "                       [ 0.2902,  0.2790, -0.2663],\n",
       "                       [ 0.3779, -0.0531, -0.1614],\n",
       "                       [-0.3670,  0.0616, -0.2013],\n",
       "                       [-0.4301, -0.3129, -0.0008],\n",
       "                       [ 0.0453,  0.0885,  0.1797],\n",
       "                       [-0.0766, -0.1507,  0.3752],\n",
       "                       [ 0.4817,  0.2313,  0.0731]],\n",
       "              \n",
       "                      [[ 0.4671,  0.0758, -0.1637],\n",
       "                       [-0.2343, -0.1363, -0.0014],\n",
       "                       [ 0.1579, -0.2934,  0.0392],\n",
       "                       [-0.3069,  0.3739, -0.3848],\n",
       "                       [-0.0256, -0.1845,  0.2952],\n",
       "                       [-0.4032,  0.1648, -0.3737],\n",
       "                       [ 0.4543, -0.0801,  0.2579],\n",
       "                       [-0.1765,  0.2157,  0.2855]],\n",
       "              \n",
       "                      [[-0.0326, -0.0510,  0.4885],\n",
       "                       [ 0.1977,  0.3554, -0.4610],\n",
       "                       [ 0.2048, -0.0277,  0.1333],\n",
       "                       [ 0.0266,  0.0742, -0.1709],\n",
       "                       [-0.4642,  0.0111,  0.0864],\n",
       "                       [ 0.0949, -0.4962, -0.3984],\n",
       "                       [ 0.4371,  0.3406, -0.0621],\n",
       "                       [-0.2524, -0.0842, -0.1232]]], device='cuda:0')),\n",
       "             ('module.model.model.0.filter_convs.5.bias',\n",
       "              tensor([-0.0025,  0.0015,  0.0118,  0.0022, -0.0045,  0.0018,  0.0031,  0.0029],\n",
       "                     device='cuda:0')),\n",
       "             ('module.model.model.0.filter_convs.6.weight',\n",
       "              tensor([[[ 4.3960e-02, -5.3180e-02, -1.5626e-01],\n",
       "                       [ 4.0210e-01,  1.9952e-01, -2.7081e-01],\n",
       "                       [ 4.1318e-01, -1.6778e-01,  1.4725e-01],\n",
       "                       [-3.8198e-01,  4.8752e-01, -3.5521e-01],\n",
       "                       [-2.7791e-01, -4.9449e-01, -3.5311e-01],\n",
       "                       [ 9.9706e-02,  1.0095e-01,  1.2259e-01],\n",
       "                       [-1.7070e-01, -1.7521e-01, -5.4557e-01],\n",
       "                       [ 1.7426e-01,  4.1715e-01, -3.2506e-02]],\n",
       "              \n",
       "                      [[ 9.6473e-02, -3.3167e-01,  3.2577e-01],\n",
       "                       [-1.3754e-01, -1.0838e-01,  1.5555e-02],\n",
       "                       [-2.6715e-01, -4.5712e-01, -3.2560e-02],\n",
       "                       [-3.9928e-01, -1.6163e-01,  4.8948e-01],\n",
       "                       [-2.7172e-02,  2.1215e-01, -2.9991e-01],\n",
       "                       [ 2.0483e-03,  3.8051e-01, -5.0305e-01],\n",
       "                       [ 3.7920e-01,  1.3120e-01, -8.8958e-02],\n",
       "                       [-3.6408e-01, -9.6176e-02, -1.7777e-01]],\n",
       "              \n",
       "                      [[-2.6045e-02, -3.0210e-01, -1.1157e-01],\n",
       "                       [ 2.2453e-01, -3.1797e-01,  2.0259e-01],\n",
       "                       [-4.1675e-01, -4.2209e-01, -4.0800e-01],\n",
       "                       [-4.7966e-01, -3.4487e-01,  2.1423e-01],\n",
       "                       [ 4.2025e-01, -2.5289e-01,  9.8273e-02],\n",
       "                       [ 7.7693e-02, -1.0154e-01,  3.2487e-01],\n",
       "                       [ 3.1942e-02, -4.4205e-01,  1.8839e-02],\n",
       "                       [ 8.8497e-03,  3.1467e-01,  3.0870e-02]],\n",
       "              \n",
       "                      [[-7.0203e-02,  2.0502e-01,  1.2833e-01],\n",
       "                       [ 2.5249e-01,  4.4021e-01,  4.3440e-01],\n",
       "                       [-2.4695e-01, -5.9983e-02,  2.8749e-01],\n",
       "                       [ 2.4336e-01,  2.2727e-02, -1.2911e-01],\n",
       "                       [-2.9902e-02, -2.7750e-01, -3.8175e-02],\n",
       "                       [ 3.0999e-01,  3.7272e-01, -1.2104e-01],\n",
       "                       [ 3.2891e-02,  4.6480e-01, -2.6414e-01],\n",
       "                       [ 3.2236e-01,  2.3746e-01,  1.7920e-01]],\n",
       "              \n",
       "                      [[-4.5979e-01, -4.7302e-01,  1.8705e-01],\n",
       "                       [ 3.0245e-01, -4.0524e-01,  5.3604e-01],\n",
       "                       [ 1.8625e-01,  2.4604e-01, -1.6062e-01],\n",
       "                       [ 2.7403e-01,  3.8411e-01, -4.3277e-01],\n",
       "                       [ 3.6284e-01, -1.4876e-01, -4.2550e-01],\n",
       "                       [-3.2028e-01,  2.1476e-01,  1.1805e-01],\n",
       "                       [ 7.3935e-02, -2.2216e-01, -1.3690e-01],\n",
       "                       [ 1.9128e-01, -1.2556e-01, -2.5247e-01]],\n",
       "              \n",
       "                      [[-2.1706e-01,  4.6629e-01,  1.0479e-01],\n",
       "                       [ 4.0908e-01,  6.4209e-03,  9.5018e-02],\n",
       "                       [ 2.7793e-01, -1.5754e-01,  4.5708e-01],\n",
       "                       [ 3.2334e-01,  2.9274e-01, -5.1411e-01],\n",
       "                       [ 4.9716e-01,  4.4626e-01, -4.7011e-01],\n",
       "                       [-4.2506e-01,  4.1908e-01, -3.8344e-02],\n",
       "                       [-4.2150e-02,  1.4125e-01,  1.5905e-01],\n",
       "                       [-3.1420e-01, -3.1887e-01,  2.4528e-02]],\n",
       "              \n",
       "                      [[-2.9015e-01,  5.1173e-02, -2.4848e-01],\n",
       "                       [-2.1312e-01,  1.4993e-01, -1.7898e-01],\n",
       "                       [-1.2326e-01,  9.5239e-02,  1.2208e-01],\n",
       "                       [-1.2025e-01,  8.6498e-02,  3.6641e-01],\n",
       "                       [-1.6562e-01,  1.0774e-01,  4.7550e-01],\n",
       "                       [ 3.0484e-01, -1.3033e-01, -2.7861e-04],\n",
       "                       [ 2.0716e-01, -1.0553e-01,  4.9966e-01],\n",
       "                       [-3.2840e-01,  2.5000e-01, -1.5232e-01]],\n",
       "              \n",
       "                      [[ 4.4256e-01,  5.1280e-01,  3.2864e-01],\n",
       "                       [-2.8039e-01, -1.5583e-02, -3.5288e-01],\n",
       "                       [ 2.6933e-01, -1.4553e-01, -9.4846e-02],\n",
       "                       [-3.8971e-01, -8.7681e-02, -4.9028e-01],\n",
       "                       [ 4.5917e-01,  8.1650e-02, -3.3434e-01],\n",
       "                       [ 1.2001e-01,  3.5524e-01,  3.4673e-02],\n",
       "                       [ 4.9022e-01, -6.5744e-04,  3.8822e-01],\n",
       "                       [-9.2090e-02,  1.4045e-01, -3.1174e-01]]], device='cuda:0')),\n",
       "             ('module.model.model.0.filter_convs.6.bias',\n",
       "              tensor([-0.0029,  0.0029, -0.0125,  0.0075,  0.0102, -0.0048,  0.0005, -0.0020],\n",
       "                     device='cuda:0')),\n",
       "             ('module.model.model.0.filter_convs.7.weight',\n",
       "              tensor([[[-0.2546,  0.3961, -0.4060],\n",
       "                       [-0.2126,  0.1018, -0.4123],\n",
       "                       [ 0.1096,  0.0403,  0.0642],\n",
       "                       [-0.1967, -0.0347, -0.0621],\n",
       "                       [ 0.0733, -0.0872, -0.3346],\n",
       "                       [-0.4923,  0.3600,  0.1452],\n",
       "                       [ 0.4072,  0.1479,  0.4656],\n",
       "                       [-0.4017,  0.3078,  0.1206]],\n",
       "              \n",
       "                      [[-0.2389, -0.3704,  0.3305],\n",
       "                       [ 0.0283,  0.3971,  0.4323],\n",
       "                       [ 0.4263,  0.4016,  0.4861],\n",
       "                       [ 0.1354, -0.0564, -0.1959],\n",
       "                       [ 0.3885,  0.3198,  0.1998],\n",
       "                       [-0.2218, -0.3759, -0.3637],\n",
       "                       [ 0.0726,  0.2991,  0.3466],\n",
       "                       [-0.2804, -0.0640, -0.4542]],\n",
       "              \n",
       "                      [[ 0.2234,  0.2153,  0.3984],\n",
       "                       [-0.1635,  0.1081,  0.0999],\n",
       "                       [-0.3522, -0.2697, -0.1231],\n",
       "                       [-0.4733, -0.1477, -0.4573],\n",
       "                       [ 0.3518,  0.0073, -0.3412],\n",
       "                       [-0.2571, -0.0824,  0.1694],\n",
       "                       [ 0.5866, -0.0985,  0.1300],\n",
       "                       [-0.3878, -0.1268,  0.3483]],\n",
       "              \n",
       "                      [[ 0.3293,  0.2525, -0.3498],\n",
       "                       [-0.1054, -0.3593, -0.2406],\n",
       "                       [-0.3331, -0.4325,  0.0609],\n",
       "                       [-0.2389, -0.2077,  0.0848],\n",
       "                       [ 0.1297,  0.0962, -0.1009],\n",
       "                       [-0.3778,  0.2095,  0.0908],\n",
       "                       [-0.2555, -0.3293, -0.2648],\n",
       "                       [-0.0722, -0.2846,  0.4580]],\n",
       "              \n",
       "                      [[-0.0392, -0.1529,  0.3201],\n",
       "                       [-0.1959,  0.0900,  0.2361],\n",
       "                       [-0.2381, -0.3231, -0.0376],\n",
       "                       [ 0.0040, -0.3205,  0.3045],\n",
       "                       [ 0.1550, -0.2440,  0.4335],\n",
       "                       [ 0.0202, -0.4832, -0.2826],\n",
       "                       [-0.2025,  0.0091,  0.3469],\n",
       "                       [ 0.4586, -0.4708, -0.4677]],\n",
       "              \n",
       "                      [[-0.3225,  0.3049,  0.0821],\n",
       "                       [-0.2763,  0.2416, -0.3418],\n",
       "                       [-0.3026, -0.3696, -0.4157],\n",
       "                       [-0.3432,  0.3471, -0.2891],\n",
       "                       [-0.2400,  0.2976, -0.3210],\n",
       "                       [-0.0769, -0.0460, -0.5290],\n",
       "                       [ 0.2966, -0.0495, -0.4220],\n",
       "                       [-0.3168,  0.1021,  0.3821]],\n",
       "              \n",
       "                      [[-0.4152,  0.2484, -0.0941],\n",
       "                       [ 0.3942,  0.0873, -0.4000],\n",
       "                       [-0.1773, -0.2617, -0.5171],\n",
       "                       [-0.0574,  0.0151,  0.4005],\n",
       "                       [-0.2619, -0.3547, -0.0386],\n",
       "                       [ 0.2881,  0.3901, -0.1703],\n",
       "                       [ 0.0071, -0.1697,  0.3902],\n",
       "                       [-0.1238,  0.3325, -0.4986]],\n",
       "              \n",
       "                      [[ 0.0085, -0.0257,  0.2729],\n",
       "                       [ 0.1745,  0.0174,  0.2340],\n",
       "                       [-0.4039, -0.3015, -0.3401],\n",
       "                       [ 0.1203,  0.0666,  0.3342],\n",
       "                       [-0.0897,  0.3923,  0.2428],\n",
       "                       [ 0.2009,  0.4768, -0.3337],\n",
       "                       [-0.3508, -0.0477,  0.1269],\n",
       "                       [ 0.3261,  0.1548,  0.0573]]], device='cuda:0')),\n",
       "             ('module.model.model.0.filter_convs.7.bias',\n",
       "              tensor([ 0.0021, -0.0073, -0.0181,  0.0116, -0.0085, -0.0121,  0.0006, -0.0208],\n",
       "                     device='cuda:0')),\n",
       "             ('module.model.model.0.filter_convs.8.weight',\n",
       "              tensor([[[ 8.2192e-02,  2.7351e-01, -4.6053e-01],\n",
       "                       [-6.3612e-02, -4.5339e-01, -3.8292e-02],\n",
       "                       [ 1.9880e-01,  1.9960e-01, -2.7574e-01],\n",
       "                       [ 1.7766e-01,  2.5458e-01,  4.3295e-01],\n",
       "                       [-4.8185e-01,  2.5266e-01,  2.9866e-01],\n",
       "                       [ 2.7910e-01,  5.0983e-01, -3.2801e-01],\n",
       "                       [ 1.2101e-01, -4.4383e-01, -1.3875e-01],\n",
       "                       [-1.8420e-01, -1.5902e-01, -4.4113e-01]],\n",
       "              \n",
       "                      [[ 2.8220e-01,  9.3118e-02,  7.6015e-02],\n",
       "                       [ 4.9912e-02,  1.7946e-01, -1.3274e-01],\n",
       "                       [-5.0086e-01, -9.0234e-02,  3.8693e-01],\n",
       "                       [-1.3732e-02,  4.3909e-01, -3.6768e-01],\n",
       "                       [ 1.9618e-01, -3.6963e-01,  3.9932e-01],\n",
       "                       [-3.1942e-01,  3.0773e-02, -3.1139e-02],\n",
       "                       [-2.1360e-01, -4.8494e-01,  2.1440e-01],\n",
       "                       [-3.0344e-01, -1.2182e-01,  1.7078e-01]],\n",
       "              \n",
       "                      [[ 4.0458e-01,  4.4133e-01, -4.9662e-02],\n",
       "                       [ 1.6061e-01,  1.1313e-01,  5.8708e-01],\n",
       "                       [ 5.2122e-01, -4.1123e-01,  6.2172e-02],\n",
       "                       [ 4.3908e-01, -1.1373e-01,  2.0907e-01],\n",
       "                       [-6.4212e-02, -3.2123e-01,  3.0129e-01],\n",
       "                       [-6.3723e-03,  3.8905e-01, -8.9407e-02],\n",
       "                       [-2.1837e-01,  3.7501e-01,  3.0107e-01],\n",
       "                       [-5.5670e-01, -2.2634e-01,  2.5905e-01]],\n",
       "              \n",
       "                      [[ 2.7988e-01, -2.0206e-01, -2.8273e-01],\n",
       "                       [-1.1842e-01, -1.5788e-01, -3.9061e-01],\n",
       "                       [-2.2768e-01, -1.2987e-01, -2.2657e-01],\n",
       "                       [ 1.7254e-01, -2.4069e-02, -2.3629e-01],\n",
       "                       [ 4.7575e-01,  7.3972e-02, -1.5460e-01],\n",
       "                       [ 4.1161e-01, -3.9234e-01,  3.5444e-01],\n",
       "                       [ 2.2658e-01, -1.1592e-01,  2.4653e-04],\n",
       "                       [ 1.8611e-01, -3.2771e-01, -1.1096e-01]],\n",
       "              \n",
       "                      [[ 2.6504e-01,  6.8829e-02,  2.9536e-01],\n",
       "                       [ 2.5272e-01,  2.4779e-01, -3.7449e-01],\n",
       "                       [-2.6760e-01, -1.4377e-01,  3.0212e-01],\n",
       "                       [ 4.1713e-01, -4.3253e-01,  4.4591e-02],\n",
       "                       [-1.6576e-01,  3.9411e-01,  1.3098e-01],\n",
       "                       [ 4.6306e-01,  4.2947e-01,  3.5333e-01],\n",
       "                       [ 1.4175e-01,  4.6119e-01, -2.7402e-01],\n",
       "                       [-4.2444e-01, -6.0107e-02,  1.0003e-01]],\n",
       "              \n",
       "                      [[-8.5236e-03,  1.9533e-01,  2.4996e-01],\n",
       "                       [-5.4492e-01, -3.2571e-01,  5.8652e-02],\n",
       "                       [ 3.1942e-01, -9.0926e-02,  1.8015e-01],\n",
       "                       [-2.3095e-01,  4.1329e-02, -2.1851e-01],\n",
       "                       [ 2.5103e-01, -2.4931e-01,  3.0634e-01],\n",
       "                       [-4.8620e-01,  5.5940e-02, -3.6565e-01],\n",
       "                       [-2.2549e-01, -7.6037e-02,  3.4455e-01],\n",
       "                       [-1.8736e-01, -3.3817e-01,  2.9895e-03]],\n",
       "              \n",
       "                      [[-5.1944e-01, -1.3069e-01, -2.8314e-02],\n",
       "                       [-1.9953e-01,  2.5312e-01,  4.6205e-01],\n",
       "                       [ 2.8526e-01, -7.3305e-02, -3.8870e-01],\n",
       "                       [ 2.6609e-02,  1.6881e-01, -1.8219e-01],\n",
       "                       [-9.9849e-03, -1.7142e-01,  3.5057e-01],\n",
       "                       [-5.4254e-01,  9.1679e-02,  1.9502e-01],\n",
       "                       [-8.6231e-02, -1.9562e-03, -1.3741e-01],\n",
       "                       [ 4.2074e-01,  9.2528e-02,  1.6197e-01]],\n",
       "              \n",
       "                      [[-3.2099e-01, -3.8947e-01,  3.5635e-01],\n",
       "                       [ 4.8813e-01, -5.1726e-01, -9.9946e-02],\n",
       "                       [-5.5349e-02,  4.2568e-01,  1.5878e-01],\n",
       "                       [-4.9704e-01, -2.6811e-01, -4.3515e-01],\n",
       "                       [-1.2453e-01, -1.7484e-01, -1.0592e-01],\n",
       "                       [ 2.8488e-01, -1.3216e-01, -6.6421e-02],\n",
       "                       [ 6.7665e-02, -3.0419e-01, -1.2486e-01],\n",
       "                       [-1.7123e-01, -1.3878e-01, -1.7119e-01]]], device='cuda:0')),\n",
       "             ('module.model.model.0.filter_convs.8.bias',\n",
       "              tensor([ 0.0075, -0.0256,  0.0200,  0.0082,  0.0433,  0.0176,  0.0020,  0.0075],\n",
       "                     device='cuda:0')),\n",
       "             ('module.model.model.0.filter_convs.9.weight',\n",
       "              tensor([[[-2.8961e-01, -4.5149e-02, -6.3717e-02],\n",
       "                       [-4.7034e-02, -3.4552e-01, -5.0246e-01],\n",
       "                       [ 2.0353e-01,  1.0441e-01, -4.6979e-01],\n",
       "                       [ 3.5824e-01, -3.9505e-01,  2.0738e-01],\n",
       "                       [ 1.9488e-01, -1.4606e-01, -3.3426e-01],\n",
       "                       [ 3.2972e-02, -4.9097e-01,  3.6486e-02],\n",
       "                       [ 3.0904e-01, -1.7421e-01, -2.1470e-01],\n",
       "                       [-4.1573e-03, -3.0733e-01,  1.0234e-01]],\n",
       "              \n",
       "                      [[ 5.0867e-02,  1.4450e-01, -3.8776e-01],\n",
       "                       [-3.6805e-01, -3.7644e-01, -3.9768e-01],\n",
       "                       [ 1.6821e-01,  1.6046e-01,  6.2168e-02],\n",
       "                       [ 3.7985e-01,  4.6339e-01,  2.0830e-01],\n",
       "                       [ 2.7412e-01,  5.1889e-01, -6.5398e-02],\n",
       "                       [ 3.1265e-01,  1.8282e-01, -4.5515e-01],\n",
       "                       [-2.2715e-02,  7.2249e-02, -2.1932e-01],\n",
       "                       [-4.1126e-01, -3.7135e-01, -7.7587e-02]],\n",
       "              \n",
       "                      [[ 4.8498e-02, -1.9777e-01,  1.4326e-01],\n",
       "                       [ 3.5862e-01,  5.0585e-02, -2.9576e-01],\n",
       "                       [-1.4275e-01,  9.7708e-02,  2.6855e-01],\n",
       "                       [ 2.4392e-01,  3.7285e-01,  5.0960e-01],\n",
       "                       [ 8.5139e-02, -2.0581e-01,  3.2489e-01],\n",
       "                       [-2.6689e-01,  1.0476e-02,  6.4672e-02],\n",
       "                       [-4.3634e-01,  2.3672e-01,  4.2259e-01],\n",
       "                       [-1.6519e-01, -4.3751e-01, -9.4803e-02]],\n",
       "              \n",
       "                      [[ 2.6134e-01,  2.2047e-01,  1.4916e-01],\n",
       "                       [ 1.2222e-01,  3.2668e-02, -1.3361e-01],\n",
       "                       [-1.1728e-01,  3.6497e-01, -1.4306e-01],\n",
       "                       [ 4.3521e-01, -3.6545e-01,  2.6369e-01],\n",
       "                       [-3.3995e-01,  2.3999e-01, -3.0727e-01],\n",
       "                       [-3.3182e-01, -4.2791e-04,  2.2695e-01],\n",
       "                       [ 7.3759e-02,  2.3816e-01, -1.7079e-01],\n",
       "                       [-5.2200e-01, -2.3380e-01, -4.6439e-01]],\n",
       "              \n",
       "                      [[-2.0235e-02,  2.7054e-01, -1.9713e-01],\n",
       "                       [-4.3341e-02,  3.2572e-01, -2.5828e-02],\n",
       "                       [ 4.1020e-01,  1.7888e-01, -1.3241e-01],\n",
       "                       [-1.7335e-01,  4.1798e-01,  2.6208e-01],\n",
       "                       [-5.6576e-02,  3.2258e-01, -4.5896e-02],\n",
       "                       [-1.2128e-01,  5.6658e-02, -3.4716e-02],\n",
       "                       [-5.8471e-01, -5.1707e-01,  1.8864e-01],\n",
       "                       [ 5.2066e-01,  2.9623e-02,  2.2701e-01]],\n",
       "              \n",
       "                      [[ 1.1357e-01,  3.7716e-01,  1.7254e-01],\n",
       "                       [ 4.1536e-01,  2.2579e-01, -2.1057e-01],\n",
       "                       [ 1.5419e-02, -1.2949e-01, -5.3065e-01],\n",
       "                       [-2.8138e-01,  2.9369e-01,  1.7326e-01],\n",
       "                       [ 1.5707e-01, -1.9475e-01,  1.7993e-01],\n",
       "                       [-5.4640e-01,  2.7947e-01, -8.2477e-02],\n",
       "                       [ 2.0683e-01,  1.6501e-01, -7.5645e-02],\n",
       "                       [-2.0923e-01, -4.3445e-01, -2.5910e-01]],\n",
       "              \n",
       "                      [[-3.7569e-01,  1.2831e-01,  8.3680e-02],\n",
       "                       [ 3.0683e-01,  1.4927e-01, -5.1169e-01],\n",
       "                       [ 1.4689e-01, -4.5418e-02,  3.7786e-01],\n",
       "                       [ 8.1603e-02,  3.2465e-01, -1.8814e-01],\n",
       "                       [ 3.8329e-02,  3.7901e-01,  2.3037e-01],\n",
       "                       [ 2.1608e-01, -1.5222e-01,  2.8681e-01],\n",
       "                       [-2.4821e-01, -3.2846e-01,  1.5698e-01],\n",
       "                       [ 4.5406e-01, -2.2727e-01,  1.6165e-01]],\n",
       "              \n",
       "                      [[ 3.6179e-01, -4.2557e-01, -1.2591e-01],\n",
       "                       [ 2.7087e-01,  5.4521e-02,  1.5467e-01],\n",
       "                       [ 3.9112e-01,  4.7967e-01, -1.8125e-02],\n",
       "                       [ 1.1841e-01, -4.4464e-01, -3.6432e-01],\n",
       "                       [ 4.1513e-01,  1.9518e-01,  2.8966e-01],\n",
       "                       [-1.3709e-01, -3.1303e-01, -3.7652e-01],\n",
       "                       [-6.5268e-02,  1.5645e-01,  6.3135e-01],\n",
       "                       [ 3.7892e-01, -3.8520e-01,  2.0289e-01]]], device='cuda:0')),\n",
       "             ('module.model.model.0.filter_convs.9.bias',\n",
       "              tensor([ 0.0133, -0.0186,  0.0193,  0.0008, -0.0003, -0.0048,  0.0133,  0.0176],\n",
       "                     device='cuda:0')),\n",
       "             ('module.model.model.0.filter_convs.10.weight',\n",
       "              tensor([[[-0.3853,  0.0305, -0.3570],\n",
       "                       [-0.3397,  0.5432,  0.0156],\n",
       "                       [ 0.1606,  0.0510, -0.0801],\n",
       "                       [ 0.5391, -0.1513, -0.2434],\n",
       "                       [ 0.0884,  0.1502, -0.2249],\n",
       "                       [-0.0835,  0.2757,  0.1997],\n",
       "                       [-0.5070, -0.2225,  0.2836],\n",
       "                       [ 0.1224, -0.3129, -0.0121]],\n",
       "              \n",
       "                      [[ 0.2115,  0.0262,  0.1117],\n",
       "                       [ 0.1547,  0.0463,  0.1237],\n",
       "                       [ 0.4277,  0.1581,  0.4145],\n",
       "                       [-0.1344, -0.0744, -0.3739],\n",
       "                       [ 0.0219,  0.3042,  0.2687],\n",
       "                       [-0.4999,  0.1740,  0.0608],\n",
       "                       [ 0.0261, -0.1757,  0.0586],\n",
       "                       [-0.3010,  0.4056,  0.1868]],\n",
       "              \n",
       "                      [[-0.2543,  0.3860, -0.1598],\n",
       "                       [-0.4578, -0.2802, -0.2242],\n",
       "                       [ 0.0274, -0.3481, -0.1723],\n",
       "                       [-0.1393, -0.3239,  0.4366],\n",
       "                       [-0.5438,  0.1956,  0.3409],\n",
       "                       [-0.1696, -0.3234,  0.1096],\n",
       "                       [ 0.1712, -0.4048,  0.0085],\n",
       "                       [ 0.3074, -0.0513, -0.4473]],\n",
       "              \n",
       "                      [[ 0.1755, -0.1480, -0.0587],\n",
       "                       [ 0.0593,  0.3326, -0.4221],\n",
       "                       [ 0.4170, -0.2321,  0.1423],\n",
       "                       [-0.0191, -0.2013,  0.4241],\n",
       "                       [-0.0449,  0.5472,  0.5633],\n",
       "                       [-0.0904,  0.0779, -0.2021],\n",
       "                       [ 0.5329, -0.3084,  0.2450],\n",
       "                       [-0.2685, -0.3115,  0.0291]],\n",
       "              \n",
       "                      [[ 0.0119, -0.2767,  0.4563],\n",
       "                       [-0.1714, -0.3947, -0.0217],\n",
       "                       [ 0.2378,  0.0045,  0.4015],\n",
       "                       [ 0.3349,  0.4093, -0.2314],\n",
       "                       [ 0.6086, -0.0890, -0.1087],\n",
       "                       [-0.1504, -0.2649,  0.5265],\n",
       "                       [-0.4551, -0.0992, -0.0255],\n",
       "                       [-0.1377, -0.2567,  0.7223]],\n",
       "              \n",
       "                      [[ 0.2386,  0.0610,  0.3342],\n",
       "                       [-0.3279, -0.0538,  0.1277],\n",
       "                       [ 0.0350, -0.1340,  0.3336],\n",
       "                       [-0.0093,  0.4988, -0.0552],\n",
       "                       [-0.2794,  0.1544,  0.2303],\n",
       "                       [-0.3446,  0.4018, -0.3875],\n",
       "                       [ 0.1298, -0.4894,  0.1799],\n",
       "                       [-0.1305, -0.3866, -0.0135]],\n",
       "              \n",
       "                      [[ 0.3615,  0.0879, -0.1155],\n",
       "                       [-0.0999, -0.2580,  0.0335],\n",
       "                       [-0.3423,  0.2715,  0.0144],\n",
       "                       [-0.1001, -0.0837,  0.1568],\n",
       "                       [-0.3055,  0.0863, -0.1277],\n",
       "                       [ 0.0859,  0.1626, -0.0571],\n",
       "                       [ 0.3902,  0.4353, -0.0655],\n",
       "                       [ 0.3385, -0.1914, -0.1108]],\n",
       "              \n",
       "                      [[ 0.5064,  0.0701, -0.1908],\n",
       "                       [ 0.2174,  0.3512,  0.3612],\n",
       "                       [ 0.0255, -0.0865,  0.4471],\n",
       "                       [ 0.2834, -0.0533,  0.2174],\n",
       "                       [-0.1913, -0.2291, -0.6422],\n",
       "                       [-0.4298, -0.0422, -0.0393],\n",
       "                       [-0.2581, -0.3642, -0.3624],\n",
       "                       [-0.0153, -0.3848, -0.1254]]], device='cuda:0')),\n",
       "             ('module.model.model.0.filter_convs.10.bias',\n",
       "              tensor([-0.0015, -0.0009, -0.0124, -0.0058,  0.0053,  0.0041, -0.0016,  0.0041],\n",
       "                     device='cuda:0')),\n",
       "             ('module.model.model.0.filter_convs.11.weight',\n",
       "              tensor([[[-1.5468e-01,  1.6318e-01, -3.3124e-01],\n",
       "                       [-1.1653e-01, -2.8987e-01,  1.5716e-01],\n",
       "                       [-1.5505e-01,  2.7968e-01,  6.7678e-02],\n",
       "                       [-2.3006e-01, -3.7415e-01, -2.1933e-01],\n",
       "                       [-8.6291e-02,  4.1328e-02,  3.2207e-01],\n",
       "                       [ 2.7545e-01, -9.9333e-02, -3.6933e-01],\n",
       "                       [-3.1692e-01, -4.5305e-01, -2.2898e-01],\n",
       "                       [-3.2166e-01,  1.9767e-01, -7.3821e-02]],\n",
       "              \n",
       "                      [[ 3.4609e-01,  2.3303e-01, -3.5772e-02],\n",
       "                       [ 1.6176e-01,  4.1060e-01, -4.0503e-01],\n",
       "                       [-3.3542e-01,  1.7912e-01,  2.7718e-01],\n",
       "                       [ 1.0259e-01,  1.8409e-01,  6.8886e-02],\n",
       "                       [-3.6234e-01, -3.1586e-01,  9.8661e-02],\n",
       "                       [ 3.6760e-01, -2.5902e-01,  4.3929e-01],\n",
       "                       [ 1.7997e-01,  4.8041e-01, -3.3444e-01],\n",
       "                       [ 2.4420e-02, -3.0627e-01, -3.5329e-01]],\n",
       "              \n",
       "                      [[-4.3720e-01,  4.2218e-01,  1.6936e-01],\n",
       "                       [ 4.2368e-02, -4.1625e-01, -2.7172e-01],\n",
       "                       [ 2.3267e-01, -3.5776e-01,  2.9807e-01],\n",
       "                       [-2.9132e-01,  3.1311e-01,  2.0108e-01],\n",
       "                       [-2.7727e-01,  4.2684e-01, -8.0597e-02],\n",
       "                       [-3.8059e-02,  1.9784e-01, -2.8759e-02],\n",
       "                       [-2.2632e-01, -7.1720e-02,  2.4057e-02],\n",
       "                       [ 1.9822e-01, -3.3999e-01,  1.3788e-01]],\n",
       "              \n",
       "                      [[ 4.0828e-01,  2.7694e-01, -2.8057e-01],\n",
       "                       [-7.2214e-02, -2.7209e-01, -2.5901e-01],\n",
       "                       [ 2.8130e-01, -3.7843e-01,  2.3111e-01],\n",
       "                       [ 1.3908e-01, -2.7128e-01,  5.2403e-03],\n",
       "                       [-8.7649e-02, -1.7172e-01,  2.7867e-04],\n",
       "                       [-2.8515e-01,  9.9656e-02, -4.4279e-01],\n",
       "                       [ 4.1071e-01,  1.9301e-01,  2.1163e-01],\n",
       "                       [-2.4256e-01,  3.2447e-03, -1.4612e-03]],\n",
       "              \n",
       "                      [[-9.4643e-03,  3.3123e-01,  1.4176e-01],\n",
       "                       [-7.7226e-03, -3.5023e-01, -4.5194e-02],\n",
       "                       [ 3.0777e-02, -2.7959e-01,  3.0751e-01],\n",
       "                       [ 4.3508e-01,  4.2284e-02, -5.8848e-02],\n",
       "                       [-2.5724e-01,  2.2799e-01,  3.7101e-01],\n",
       "                       [ 4.2589e-01,  2.4213e-02,  3.0584e-01],\n",
       "                       [ 2.7503e-01,  2.8423e-02,  3.7842e-01],\n",
       "                       [ 1.9677e-02, -1.6562e-01, -4.5068e-01]],\n",
       "              \n",
       "                      [[ 3.4572e-01,  2.7002e-01,  4.1071e-01],\n",
       "                       [-1.1847e-01, -2.7054e-01,  8.2206e-02],\n",
       "                       [-3.7284e-01,  3.4341e-02,  2.5073e-01],\n",
       "                       [-3.7949e-03,  1.0169e-01, -3.6917e-01],\n",
       "                       [-5.4153e-02,  4.6194e-01, -2.3381e-01],\n",
       "                       [ 3.6183e-02,  4.8089e-03, -3.1435e-01],\n",
       "                       [ 1.3084e-01, -2.0803e-01, -2.6465e-01],\n",
       "                       [-4.7138e-01, -3.9251e-01,  6.2625e-02]],\n",
       "              \n",
       "                      [[-4.0496e-01, -6.2375e-03,  3.1186e-01],\n",
       "                       [ 1.7900e-01, -1.6871e-01,  4.4493e-01],\n",
       "                       [ 2.4923e-01, -1.0550e-01,  7.2331e-02],\n",
       "                       [ 3.7435e-01,  2.7438e-01,  3.9986e-01],\n",
       "                       [ 1.4740e-01,  5.2137e-02,  3.3535e-01],\n",
       "                       [-1.6863e-01,  5.3060e-01, -2.8728e-01],\n",
       "                       [ 9.1964e-03,  1.1169e-01,  1.6002e-02],\n",
       "                       [-2.0434e-01, -1.5760e-01, -4.2248e-01]],\n",
       "              \n",
       "                      [[ 2.4008e-01,  2.8156e-02,  1.0791e-01],\n",
       "                       [-2.8220e-01, -1.6807e-01, -3.8514e-02],\n",
       "                       [-2.8043e-01, -1.4443e-01,  4.1776e-01],\n",
       "                       [ 3.5079e-02, -4.5731e-02, -7.4177e-02],\n",
       "                       [-4.4314e-02,  3.3276e-01,  4.3808e-02],\n",
       "                       [ 1.9705e-01, -1.6700e-01,  2.2442e-01],\n",
       "                       [ 2.0622e-01,  3.3752e-01, -3.0727e-01],\n",
       "                       [-3.9898e-02,  4.7841e-01, -4.3958e-01]]], device='cuda:0')),\n",
       "             ('module.model.model.0.filter_convs.11.bias',\n",
       "              tensor([-8.8784e-04,  1.1133e-03,  9.9176e-05, -1.1790e-02,  4.9441e-03,\n",
       "                       1.6524e-02,  5.8466e-03,  3.3783e-05], device='cuda:0')),\n",
       "             ('module.model.model.0.gate_convs.0.weight',\n",
       "              tensor([[[ 3.9028e-01,  4.0489e-01, -3.6089e-01],\n",
       "                       [ 3.0399e-01, -4.8720e-01,  1.1917e-01],\n",
       "                       [-2.1339e-01, -1.0641e-01,  1.5828e-01],\n",
       "                       [-5.1134e-01,  3.5009e-01,  4.8260e-01],\n",
       "                       [ 6.4568e-01, -7.4651e-02, -1.9675e-01],\n",
       "                       [-4.4305e-01,  4.2833e-01, -6.6448e-02],\n",
       "                       [ 1.9306e-01,  3.1183e-02, -2.3470e-01],\n",
       "                       [-2.9872e-01, -1.4314e-01, -2.7302e-01]],\n",
       "              \n",
       "                      [[ 1.8755e-01, -4.0565e-01,  2.0343e-01],\n",
       "                       [-4.8050e-01, -6.5947e-02, -3.3323e-01],\n",
       "                       [ 2.9472e-01, -2.1870e-01,  3.5408e-01],\n",
       "                       [ 4.2263e-01, -4.0288e-01,  4.4794e-02],\n",
       "                       [-1.5923e-01,  4.1607e-02, -1.0537e-01],\n",
       "                       [ 7.1360e-02,  5.9846e-02, -3.9781e-01],\n",
       "                       [-4.6702e-02, -6.3726e-02,  4.4673e-01],\n",
       "                       [ 3.0625e-01,  4.6568e-01, -1.6544e-01]],\n",
       "              \n",
       "                      [[ 6.0662e-02, -3.6446e-01,  1.5622e-02],\n",
       "                       [-4.5821e-01, -5.6541e-01, -3.4582e-01],\n",
       "                       [ 3.5190e-01,  3.0112e-01, -4.0620e-02],\n",
       "                       [ 2.4827e-02, -1.3141e-01,  2.0525e-01],\n",
       "                       [-4.3619e-01, -1.3538e-01,  4.1840e-01],\n",
       "                       [-3.0349e-01, -5.4528e-04, -3.9407e-01],\n",
       "                       [ 2.5732e-01,  8.2013e-02, -2.0481e-01],\n",
       "                       [ 2.8367e-01,  3.5587e-01, -1.3126e-01]],\n",
       "              \n",
       "                      [[-2.0644e-01,  4.0831e-01, -2.4473e-01],\n",
       "                       [-4.9145e-01, -6.9014e-02, -1.1848e-01],\n",
       "                       [-2.7595e-02,  2.0463e-01,  2.4724e-01],\n",
       "                       [-4.2517e-01,  2.3874e-01, -4.0241e-01],\n",
       "                       [-2.5328e-02, -8.6717e-02,  4.7561e-01],\n",
       "                       [ 4.1978e-01, -2.8156e-01, -2.7955e-01],\n",
       "                       [-3.5184e-01,  5.0128e-01, -5.1221e-01],\n",
       "                       [ 4.6646e-01, -3.3885e-01, -3.9408e-01]],\n",
       "              \n",
       "                      [[ 6.3162e-02,  4.2262e-01, -7.7816e-02],\n",
       "                       [ 3.6444e-02,  2.5266e-01,  7.5284e-02],\n",
       "                       [-4.3446e-02,  3.5205e-01, -2.5319e-01],\n",
       "                       [-2.7653e-01, -4.6988e-01, -3.0776e-01],\n",
       "                       [-2.9816e-01, -1.4056e-01,  1.4412e-01],\n",
       "                       [-1.4238e-01, -1.9338e-01,  1.4434e-02],\n",
       "                       [ 1.4591e-01,  5.2092e-02,  3.7444e-02],\n",
       "                       [ 2.5780e-01, -2.5588e-01, -4.2240e-01]],\n",
       "              \n",
       "                      [[ 3.6469e-01, -3.6541e-01, -3.8197e-01],\n",
       "                       [-2.8664e-01, -1.2543e-01, -3.9421e-01],\n",
       "                       [-6.3492e-01, -1.1011e-01,  1.3438e-01],\n",
       "                       [-5.2008e-01, -1.4424e-01,  5.5944e-02],\n",
       "                       [-4.5403e-02,  1.6821e-02, -3.4167e-01],\n",
       "                       [-1.7588e-01,  3.8816e-01,  9.8556e-02],\n",
       "                       [-3.6407e-01, -4.7034e-01,  3.2079e-01],\n",
       "                       [-2.9807e-02, -1.3842e-01, -3.9332e-01]],\n",
       "              \n",
       "                      [[-1.7243e-01,  1.9794e-01, -4.0433e-01],\n",
       "                       [-8.5939e-02, -2.0754e-01, -3.9854e-01],\n",
       "                       [ 1.5576e-01, -2.4179e-01, -3.4383e-01],\n",
       "                       [-3.0399e-01,  2.7509e-02,  2.7594e-01],\n",
       "                       [ 2.9200e-01, -1.8260e-01, -1.9662e-01],\n",
       "                       [ 3.9206e-01,  4.4608e-01,  4.7395e-01],\n",
       "                       [-3.3331e-01, -2.8437e-01, -4.1626e-01],\n",
       "                       [-1.8004e-01, -3.4844e-01, -2.8331e-01]],\n",
       "              \n",
       "                      [[-5.0026e-01,  6.1590e-02, -2.8199e-01],\n",
       "                       [-7.1948e-03, -3.1658e-01, -1.9549e-01],\n",
       "                       [ 4.3351e-02, -2.8428e-02, -3.7146e-02],\n",
       "                       [ 8.0664e-02, -3.0660e-02, -4.3203e-01],\n",
       "                       [-7.8439e-02,  1.2344e-01,  4.7616e-01],\n",
       "                       [-6.1561e-02, -4.7239e-01,  5.7116e-02],\n",
       "                       [-8.1365e-02, -1.2278e-02, -2.9881e-02],\n",
       "                       [-4.1798e-02, -4.9354e-01, -9.1875e-02]]], device='cuda:0')),\n",
       "             ('module.model.model.0.gate_convs.0.bias',\n",
       "              tensor([-0.1274, -0.0161,  0.0666, -0.0792,  0.0369,  0.0932,  0.0122, -0.0170],\n",
       "                     device='cuda:0')),\n",
       "             ('module.model.model.0.gate_convs.1.weight',\n",
       "              tensor([[[-0.3200, -0.6047,  0.4596],\n",
       "                       [ 0.3964,  0.3856, -0.3546],\n",
       "                       [ 0.0396,  0.0113,  0.3177],\n",
       "                       [ 0.4627,  0.3608, -0.5213],\n",
       "                       [ 0.2441, -0.1398, -0.2266],\n",
       "                       [ 0.6209, -0.3824,  0.4075],\n",
       "                       [-0.1266,  0.0811,  0.2174],\n",
       "                       [ 0.2715,  0.2568, -0.1078]],\n",
       "              \n",
       "                      [[ 0.4913, -0.2288,  0.1754],\n",
       "                       [-0.3708, -0.2261, -0.4353],\n",
       "                       [ 0.3276,  0.3425, -0.0018],\n",
       "                       [ 0.1387, -0.1887,  0.3253],\n",
       "                       [ 0.1581,  0.1854,  0.5984],\n",
       "                       [ 0.2171, -0.2251, -0.1786],\n",
       "                       [-0.3497,  0.1747, -0.1248],\n",
       "                       [ 0.2745, -0.3199, -0.0753]],\n",
       "              \n",
       "                      [[ 0.4004, -0.0266, -0.1770],\n",
       "                       [-0.0936,  0.0701, -0.0360],\n",
       "                       [ 0.5075, -0.0822, -0.1839],\n",
       "                       [ 0.5210,  0.2035,  0.5147],\n",
       "                       [-0.1657,  0.3956, -0.2396],\n",
       "                       [ 0.3443,  0.1165, -0.0396],\n",
       "                       [-0.0044,  0.3331,  0.3111],\n",
       "                       [-0.1185, -0.4152,  0.4150]],\n",
       "              \n",
       "                      [[ 0.0152,  0.0153, -0.1772],\n",
       "                       [-0.4486, -0.4794,  0.0400],\n",
       "                       [ 0.0685,  0.2152,  0.3399],\n",
       "                       [ 0.0805,  0.0725,  0.1072],\n",
       "                       [-0.4483,  0.4205, -0.5380],\n",
       "                       [-0.0415, -0.4345,  0.0931],\n",
       "                       [ 0.3270,  0.1026,  0.0648],\n",
       "                       [-0.1989, -0.1891,  0.1808]],\n",
       "              \n",
       "                      [[ 0.4020,  0.1515,  0.0212],\n",
       "                       [-0.3520,  0.2286, -0.4708],\n",
       "                       [ 0.2399,  0.3296, -0.1908],\n",
       "                       [-0.3391, -0.2662,  0.0617],\n",
       "                       [-0.2139,  0.1385,  0.3540],\n",
       "                       [-0.1562, -0.2072,  0.4441],\n",
       "                       [ 0.0505,  0.3049,  0.3376],\n",
       "                       [ 0.0993,  0.2455,  0.3009]],\n",
       "              \n",
       "                      [[-0.5625,  0.5112,  0.2631],\n",
       "                       [-0.0713,  0.0989,  0.1440],\n",
       "                       [ 0.2822, -0.4270,  0.4970],\n",
       "                       [-0.1331,  0.3261, -0.0228],\n",
       "                       [ 0.2723,  0.5714, -0.0397],\n",
       "                       [ 0.1810,  0.1225,  0.1776],\n",
       "                       [ 0.2218,  0.4187,  0.0278],\n",
       "                       [-0.1813, -0.2223,  0.2920]],\n",
       "              \n",
       "                      [[ 0.0335,  0.5870,  0.1027],\n",
       "                       [ 0.1192,  0.3442, -0.0645],\n",
       "                       [ 0.1093, -0.2266,  0.3059],\n",
       "                       [-0.1642,  0.4703,  0.0747],\n",
       "                       [ 0.4561, -0.0438, -0.4069],\n",
       "                       [-0.1348, -0.0894,  0.0239],\n",
       "                       [-0.0814, -0.1300,  0.5668],\n",
       "                       [ 0.1945,  0.2220, -0.2675]],\n",
       "              \n",
       "                      [[-0.0756, -0.3737,  0.4617],\n",
       "                       [ 0.2973,  0.3483, -0.2484],\n",
       "                       [ 0.0531,  0.2934,  0.1179],\n",
       "                       [ 0.0639,  0.0536,  0.5085],\n",
       "                       [-0.3021, -0.2431, -0.2646],\n",
       "                       [ 0.2836, -0.2589, -0.2667],\n",
       "                       [-0.0032, -0.4864, -0.1487],\n",
       "                       [-0.3379,  0.0552,  0.2093]]], device='cuda:0')),\n",
       "             ('module.model.model.0.gate_convs.1.bias',\n",
       "              tensor([-1.0874e-04,  2.8764e-02,  6.9131e-02,  1.0964e-01, -1.0906e-02,\n",
       "                       5.3542e-02, -3.0268e-02,  2.0024e-02], device='cuda:0')),\n",
       "             ('module.model.model.0.gate_convs.2.weight',\n",
       "              tensor([[[-0.2159,  0.2521, -0.0026],\n",
       "                       [-0.5284, -0.4003, -0.4761],\n",
       "                       [-0.3307, -0.5525, -0.2193],\n",
       "                       [-0.1824, -0.2136, -0.0354],\n",
       "                       [-0.5035,  0.0793, -0.3651],\n",
       "                       [-0.6312, -0.4560,  0.2550],\n",
       "                       [ 0.1822,  0.0938, -0.4082],\n",
       "                       [-0.1583,  0.3009,  0.4315]],\n",
       "              \n",
       "                      [[ 0.1208,  0.0439,  0.1632],\n",
       "                       [ 0.1877, -0.4114, -0.0526],\n",
       "                       [-0.2626, -0.1907,  0.2335],\n",
       "                       [ 0.2680,  0.1103,  0.2082],\n",
       "                       [-0.3660,  0.3352, -0.3661],\n",
       "                       [-0.1671, -0.0374,  0.1848],\n",
       "                       [ 0.2259,  0.2626,  0.3453],\n",
       "                       [ 0.2334, -0.2821,  0.3094]],\n",
       "              \n",
       "                      [[-0.3437,  0.2121, -0.3648],\n",
       "                       [-0.3600, -0.3015,  0.2168],\n",
       "                       [ 0.2546,  0.0772,  0.1654],\n",
       "                       [ 0.1156,  0.4506, -0.1835],\n",
       "                       [-0.0997, -0.3963, -0.2644],\n",
       "                       [ 0.2042,  0.0069,  0.0812],\n",
       "                       [-0.1953,  0.3291,  0.3665],\n",
       "                       [-0.3154, -0.0420, -0.5112]],\n",
       "              \n",
       "                      [[ 0.1352,  0.4252,  0.1539],\n",
       "                       [ 0.2655, -0.5151, -0.3112],\n",
       "                       [-0.5581,  0.1463,  0.1236],\n",
       "                       [ 0.2679, -0.6434, -0.1223],\n",
       "                       [ 0.3175, -0.3150,  0.1265],\n",
       "                       [-0.6976, -0.3798, -0.1552],\n",
       "                       [ 0.2535, -0.0192,  0.1361],\n",
       "                       [-0.1382, -0.2552,  0.1246]],\n",
       "              \n",
       "                      [[ 0.0742,  0.7255,  0.1027],\n",
       "                       [-0.2436, -0.1561,  0.3496],\n",
       "                       [-0.3745,  0.2566,  0.0867],\n",
       "                       [ 0.1725, -0.2084, -0.3240],\n",
       "                       [-0.1464,  0.0181, -0.0499],\n",
       "                       [-0.2592,  0.1338,  0.2174],\n",
       "                       [-0.0813,  0.1393,  0.1351],\n",
       "                       [ 0.4682,  0.3260, -0.3951]],\n",
       "              \n",
       "                      [[ 0.2252, -0.1381, -0.2742],\n",
       "                       [ 0.0675, -0.2025, -0.3273],\n",
       "                       [-0.3861, -0.2131, -0.1830],\n",
       "                       [-0.4956, -0.5492, -0.1950],\n",
       "                       [ 0.0962, -0.4796,  0.1356],\n",
       "                       [-0.1803, -0.1704, -0.1928],\n",
       "                       [-0.2605,  0.3316, -0.1589],\n",
       "                       [-0.0707, -0.3344,  0.2473]],\n",
       "              \n",
       "                      [[-0.4676,  0.4919,  0.1757],\n",
       "                       [ 0.0289, -0.4322, -0.2259],\n",
       "                       [ 0.4869,  0.2785,  0.2380],\n",
       "                       [-0.2075,  0.1689, -0.0463],\n",
       "                       [-0.4811, -0.3847, -0.2232],\n",
       "                       [-0.2130,  0.4126, -0.2566],\n",
       "                       [ 0.1433,  0.2040, -0.2625],\n",
       "                       [-0.2411,  0.0107,  0.0110]],\n",
       "              \n",
       "                      [[ 0.3587, -0.1690,  0.3739],\n",
       "                       [ 0.3401, -0.0447, -0.3329],\n",
       "                       [ 0.3752, -0.3053, -0.1345],\n",
       "                       [-0.2179,  0.3070,  0.0756],\n",
       "                       [ 0.1210, -0.5293,  0.3478],\n",
       "                       [ 0.2984, -0.2492, -0.3211],\n",
       "                       [ 0.5871, -0.2952, -0.2094],\n",
       "                       [-0.1459,  0.1670, -0.0474]]], device='cuda:0')),\n",
       "             ('module.model.model.0.gate_convs.2.bias',\n",
       "              tensor([ 0.0177, -0.0452,  0.0413,  0.1604,  0.0422,  0.0516, -0.0225, -0.0453],\n",
       "                     device='cuda:0')),\n",
       "             ('module.model.model.0.gate_convs.3.weight',\n",
       "              tensor([[[ 2.4585e-01, -6.0491e-01, -5.5935e-01],\n",
       "                       [-2.9622e-01,  2.1493e-01, -5.0690e-01],\n",
       "                       [ 1.4580e-01, -9.0780e-02,  1.2106e-01],\n",
       "                       [-3.2433e-01, -2.7630e-01, -1.7152e-01],\n",
       "                       [ 1.3041e-01,  1.2076e-01,  3.9461e-01],\n",
       "                       [ 2.2348e-01, -2.9037e-01, -1.1820e-01],\n",
       "                       [-9.2509e-02, -1.5697e-01,  4.1326e-01],\n",
       "                       [-4.5121e-01, -1.4396e-02,  2.9172e-01]],\n",
       "              \n",
       "                      [[-3.4109e-02,  8.9594e-02, -3.0410e-01],\n",
       "                       [-2.7019e-03, -2.6849e-01, -3.8747e-01],\n",
       "                       [-2.9444e-03, -2.0962e-01,  9.9954e-03],\n",
       "                       [ 3.4847e-01, -2.1163e-01, -1.8438e-01],\n",
       "                       [-4.3310e-01, -1.8898e-01, -3.5965e-01],\n",
       "                       [-3.2417e-01,  2.8306e-01,  5.5569e-01],\n",
       "                       [-8.6018e-03, -3.3493e-02, -1.5622e-01],\n",
       "                       [-4.2858e-01,  1.9965e-01, -2.7791e-01]],\n",
       "              \n",
       "                      [[-3.6253e-01,  5.5790e-01, -4.9308e-02],\n",
       "                       [-2.2848e-01, -1.4941e-01,  8.8413e-02],\n",
       "                       [-1.6085e-01, -8.8823e-02, -1.2803e-01],\n",
       "                       [ 3.7506e-01, -5.6128e-02, -5.0905e-01],\n",
       "                       [ 1.7825e-01,  1.0042e-01, -6.8917e-02],\n",
       "                       [ 8.3520e-02, -2.8408e-01,  1.4625e-01],\n",
       "                       [-2.5344e-01, -2.1917e-01,  4.1462e-01],\n",
       "                       [ 1.5753e-01,  2.9001e-01, -4.6860e-01]],\n",
       "              \n",
       "                      [[ 5.2882e-01,  3.4996e-02,  1.7814e-01],\n",
       "                       [ 7.1134e-02,  5.3306e-02, -3.2545e-02],\n",
       "                       [ 6.5595e-02, -5.9901e-01, -1.2229e-01],\n",
       "                       [-7.5872e-03, -3.1728e-01,  2.8685e-01],\n",
       "                       [ 5.7774e-03, -4.3537e-01,  2.3927e-01],\n",
       "                       [-4.4912e-01, -1.4175e-01, -1.9976e-01],\n",
       "                       [ 2.0955e-01,  1.8957e-01, -2.0163e-01],\n",
       "                       [-1.9594e-01, -2.9670e-01, -1.5416e-01]],\n",
       "              \n",
       "                      [[ 2.0473e-01, -5.1868e-01, -2.3946e-01],\n",
       "                       [-1.9617e-01, -1.3787e-02, -1.1968e-01],\n",
       "                       [-3.6442e-01, -2.5055e-01,  3.5186e-01],\n",
       "                       [ 2.0845e-01, -6.1529e-01,  3.5759e-01],\n",
       "                       [-2.9357e-01, -2.5585e-02,  1.4993e-01],\n",
       "                       [ 1.5634e-01,  5.0364e-01, -2.1339e-01],\n",
       "                       [ 1.1063e-01,  1.0755e-02, -3.6137e-01],\n",
       "                       [ 3.8000e-01, -6.7280e-01, -1.5463e-01]],\n",
       "              \n",
       "                      [[-7.8957e-02, -4.2240e-01, -1.1216e-01],\n",
       "                       [-1.6587e-01,  3.3873e-01, -1.0297e-01],\n",
       "                       [ 2.9066e-01, -4.7948e-01, -1.1848e-01],\n",
       "                       [ 3.4106e-01,  3.8543e-01,  8.4147e-02],\n",
       "                       [-2.4806e-01, -5.2161e-01, -2.6369e-01],\n",
       "                       [-1.5824e-01,  3.3116e-02, -8.9379e-02],\n",
       "                       [ 2.6892e-01, -3.3346e-02, -2.8454e-01],\n",
       "                       [ 6.2010e-02, -1.2974e-01, -4.4999e-01]],\n",
       "              \n",
       "                      [[ 1.9782e-01,  1.7139e-01,  1.0122e-01],\n",
       "                       [-3.4952e-01, -1.2377e-01, -2.2195e-01],\n",
       "                       [-2.3051e-04, -2.2853e-01,  2.4118e-01],\n",
       "                       [ 5.8570e-02, -4.6388e-01,  5.6854e-01],\n",
       "                       [ 4.2311e-01,  2.5540e-01,  1.2485e-01],\n",
       "                       [ 3.9042e-01, -4.1840e-01, -3.9585e-01],\n",
       "                       [ 3.6252e-01,  1.8448e-01,  3.1888e-01],\n",
       "                       [-4.9259e-01,  3.6026e-01, -4.4924e-01]],\n",
       "              \n",
       "                      [[ 1.8961e-01, -3.2952e-01, -1.5028e-01],\n",
       "                       [-2.6164e-02,  3.2575e-01,  1.4550e-01],\n",
       "                       [-6.2982e-01,  2.4795e-01,  4.7114e-01],\n",
       "                       [ 2.8001e-01, -2.9574e-01, -8.6685e-02],\n",
       "                       [-5.6801e-01, -1.6330e-01, -1.1785e-01],\n",
       "                       [ 1.8964e-03, -8.2086e-02, -1.3302e-01],\n",
       "                       [-1.0457e-01,  1.3300e-01,  2.0740e-01],\n",
       "                       [-1.7490e-01, -7.6483e-02,  5.0916e-01]]], device='cuda:0')),\n",
       "             ('module.model.model.0.gate_convs.3.bias',\n",
       "              tensor([-0.0977,  0.0761,  0.0039,  0.0187, -0.1051,  0.0395,  0.0021,  0.0784],\n",
       "                     device='cuda:0')),\n",
       "             ('module.model.model.0.gate_convs.4.weight',\n",
       "              tensor([[[-0.0458, -0.3460,  0.3792],\n",
       "                       [ 0.3455,  0.0612, -0.4006],\n",
       "                       [ 0.0214,  0.2345, -0.2426],\n",
       "                       [-0.0916,  0.1442, -0.2307],\n",
       "                       [-0.3076,  0.3405, -0.4687],\n",
       "                       [ 0.3017, -0.1938,  0.3510],\n",
       "                       [ 0.0370,  0.3610,  0.1461],\n",
       "                       [ 0.4279, -0.4639, -0.0728]],\n",
       "              \n",
       "                      [[-0.0870,  0.3799, -0.2367],\n",
       "                       [ 0.5174,  0.2196, -0.3680],\n",
       "                       [ 0.0505,  0.2213, -0.4219],\n",
       "                       [ 0.0533,  0.3829, -0.1567],\n",
       "                       [ 0.3327,  0.2467,  0.2640],\n",
       "                       [ 0.1189,  0.4139, -0.1923],\n",
       "                       [-0.4333,  0.3404,  0.0204],\n",
       "                       [ 0.2114,  0.4538,  0.2541]],\n",
       "              \n",
       "                      [[ 0.5405,  0.5170,  0.2797],\n",
       "                       [-0.2978,  0.0710,  0.1327],\n",
       "                       [-0.5248,  0.1206,  0.3457],\n",
       "                       [ 0.0961,  0.5414,  0.4283],\n",
       "                       [ 0.3267,  0.3552,  0.4383],\n",
       "                       [-0.7074,  0.2332,  0.2826],\n",
       "                       [-0.4047,  0.2472,  0.1293],\n",
       "                       [-0.2856,  0.3228, -0.1733]],\n",
       "              \n",
       "                      [[ 0.2766,  0.4181, -0.0463],\n",
       "                       [-0.3652, -0.0616, -0.2608],\n",
       "                       [ 0.3557, -0.2860, -0.3977],\n",
       "                       [-0.0871,  0.4004,  0.5739],\n",
       "                       [ 0.3087,  0.5465,  0.3378],\n",
       "                       [ 0.1701,  0.2232,  0.4071],\n",
       "                       [ 0.3823,  0.3374, -0.2128],\n",
       "                       [ 0.4408, -0.3056,  0.3452]],\n",
       "              \n",
       "                      [[ 0.1373,  0.1136,  0.3507],\n",
       "                       [-0.0058,  0.2951, -0.2813],\n",
       "                       [ 0.0741, -0.1443, -0.0336],\n",
       "                       [ 0.0049, -0.3446, -0.2358],\n",
       "                       [ 0.0823, -0.1073, -0.1730],\n",
       "                       [-0.3602,  0.4886,  0.5054],\n",
       "                       [-0.2520, -0.3232,  0.1775],\n",
       "                       [-0.2302,  0.1975, -0.2630]],\n",
       "              \n",
       "                      [[ 0.2123,  0.5802, -0.2176],\n",
       "                       [ 0.2282, -0.1560, -0.1051],\n",
       "                       [ 0.3805, -0.2775,  0.1270],\n",
       "                       [-0.4697, -0.0412, -0.1460],\n",
       "                       [-0.2453,  0.2173, -0.0593],\n",
       "                       [ 0.0007,  0.1968,  0.1303],\n",
       "                       [-0.3156,  0.0898,  0.5035],\n",
       "                       [-0.0028,  0.1006,  0.3899]],\n",
       "              \n",
       "                      [[ 0.2641, -0.3528, -0.3018],\n",
       "                       [ 0.4147,  0.3044,  0.0350],\n",
       "                       [-0.5936, -0.0703, -0.1330],\n",
       "                       [ 0.5093,  0.2581,  0.2947],\n",
       "                       [-0.4715, -0.5829, -0.0554],\n",
       "                       [-0.3454,  0.0404,  0.3652],\n",
       "                       [ 0.0685, -0.0217,  0.4369],\n",
       "                       [ 0.4095, -0.1682,  0.0042]],\n",
       "              \n",
       "                      [[-0.4291, -0.0160, -0.0661],\n",
       "                       [-0.2604,  0.0459, -0.3571],\n",
       "                       [ 0.5463, -0.4493,  0.1847],\n",
       "                       [-0.3240,  0.2936, -0.2431],\n",
       "                       [ 0.2434, -0.2519,  0.4223],\n",
       "                       [-0.3194, -0.2429,  0.4111],\n",
       "                       [ 0.3914,  0.0133, -0.1859],\n",
       "                       [-0.0393, -0.0243, -0.0075]]], device='cuda:0')),\n",
       "             ('module.model.model.0.gate_convs.4.bias',\n",
       "              tensor([-0.1189, -0.0234, -0.0561,  0.0209,  0.0380,  0.0085, -0.0308,  0.0195],\n",
       "                     device='cuda:0')),\n",
       "             ('module.model.model.0.gate_convs.5.weight',\n",
       "              tensor([[[ 0.2415, -0.2900, -0.0695],\n",
       "                       [-0.5455,  0.3401, -0.3205],\n",
       "                       [-0.1387, -0.2748, -0.3154],\n",
       "                       [ 0.1559, -0.2690,  0.3293],\n",
       "                       [ 0.4203,  0.3221, -0.1496],\n",
       "                       [ 0.3539, -0.1112,  0.2678],\n",
       "                       [-0.3486,  0.4857,  0.0604],\n",
       "                       [-0.2568,  0.1236,  0.3728]],\n",
       "              \n",
       "                      [[-0.7542, -0.1667, -0.3422],\n",
       "                       [-0.1082,  0.1758, -0.2890],\n",
       "                       [-0.2278,  0.1569, -0.0715],\n",
       "                       [-0.6020, -0.5240,  0.5020],\n",
       "                       [ 0.1794, -0.5391, -0.2614],\n",
       "                       [ 0.0831, -0.0330,  0.5023],\n",
       "                       [ 0.2144,  0.0714,  0.2586],\n",
       "                       [-0.7519, -0.1677, -0.3906]],\n",
       "              \n",
       "                      [[-0.0283,  0.5360, -0.2085],\n",
       "                       [-0.0229, -0.4731,  0.2981],\n",
       "                       [-0.0351,  0.2560,  0.0049],\n",
       "                       [ 0.0573, -0.4260, -0.2747],\n",
       "                       [-0.1950, -0.4059,  0.1345],\n",
       "                       [-0.2233, -0.2085, -0.4322],\n",
       "                       [-0.2158, -0.3624,  0.6051],\n",
       "                       [-0.0420, -0.1851,  0.1163]],\n",
       "              \n",
       "                      [[ 0.1796,  0.2381, -0.1130],\n",
       "                       [-0.1442, -0.2859, -0.3833],\n",
       "                       [ 0.0151, -0.2591,  0.1456],\n",
       "                       [-0.2810,  0.1317,  0.2254],\n",
       "                       [-0.2756,  0.0754,  0.3724],\n",
       "                       [-0.3236,  0.1916, -0.2725],\n",
       "                       [-0.2296,  0.1012,  0.1054],\n",
       "                       [-0.0933,  0.3046, -0.2073]],\n",
       "              \n",
       "                      [[ 0.5742,  0.1381, -0.1578],\n",
       "                       [ 0.0862,  0.1899,  0.6674],\n",
       "                       [ 0.2358,  0.3481,  0.0458],\n",
       "                       [-0.2461, -0.5220, -0.3819],\n",
       "                       [ 0.0880, -0.4126, -0.7486],\n",
       "                       [-0.3177, -0.6698,  0.2521],\n",
       "                       [ 0.2455, -0.0048, -0.3233],\n",
       "                       [ 0.4840,  0.3714, -0.1199]],\n",
       "              \n",
       "                      [[ 0.4037,  0.7427,  0.1213],\n",
       "                       [ 0.0590, -0.1397, -0.0423],\n",
       "                       [-0.5531,  0.3808,  0.3487],\n",
       "                       [ 0.3274,  0.1023,  0.3558],\n",
       "                       [-0.1378,  0.0628,  0.1506],\n",
       "                       [ 0.3974,  0.0994,  0.0707],\n",
       "                       [ 0.0253,  0.2227, -0.2237],\n",
       "                       [-0.1383,  0.3198,  0.1626]],\n",
       "              \n",
       "                      [[ 0.4599, -0.3988,  0.0334],\n",
       "                       [-0.3824,  0.0064,  0.4163],\n",
       "                       [ 0.3067,  0.1886, -0.4106],\n",
       "                       [ 0.3471,  0.1073,  0.3482],\n",
       "                       [-0.1208, -0.3632, -0.0389],\n",
       "                       [-0.4470, -0.6733,  0.1549],\n",
       "                       [-0.2343, -0.5771,  0.0549],\n",
       "                       [-0.1321,  0.3998, -0.3389]],\n",
       "              \n",
       "                      [[ 0.2798, -0.2803,  0.1237],\n",
       "                       [ 0.1178, -0.1722,  0.1822],\n",
       "                       [ 0.2521, -0.0434, -0.1381],\n",
       "                       [ 0.1343,  0.1526,  0.3118],\n",
       "                       [-0.3148, -0.0874, -0.2259],\n",
       "                       [ 0.5320, -0.3904,  0.1963],\n",
       "                       [ 0.1320,  0.4529,  0.3877],\n",
       "                       [-0.0127,  0.3368,  0.1787]]], device='cuda:0')),\n",
       "             ('module.model.model.0.gate_convs.5.bias',\n",
       "              tensor([-0.0492,  0.0100, -0.0674, -0.0172, -0.0560, -0.0472, -0.1764, -0.0473],\n",
       "                     device='cuda:0')),\n",
       "             ('module.model.model.0.gate_convs.6.weight',\n",
       "              tensor([[[-0.3808, -0.3528, -0.0410],\n",
       "                       [-0.0106,  0.0041, -0.2554],\n",
       "                       [ 0.2115,  0.4059, -0.3847],\n",
       "                       [ 0.5247,  0.2651,  0.1693],\n",
       "                       [-0.2101, -0.3297,  0.2214],\n",
       "                       [ 0.1310,  0.0449, -0.1486],\n",
       "                       [-0.4821, -0.4326, -0.3053],\n",
       "                       [-0.2067,  0.2479,  0.5333]],\n",
       "              \n",
       "                      [[ 0.1298, -0.1791, -0.5602],\n",
       "                       [ 0.1817,  0.3028,  0.1032],\n",
       "                       [ 0.2411, -0.2480,  0.3416],\n",
       "                       [-0.0055,  0.2118,  0.4434],\n",
       "                       [ 0.2489,  0.0637,  0.1172],\n",
       "                       [ 0.4012,  0.4721, -0.0042],\n",
       "                       [ 0.1784,  0.3480, -0.2733],\n",
       "                       [-0.2122,  0.2571,  0.4043]],\n",
       "              \n",
       "                      [[ 0.4430,  0.0554, -0.1001],\n",
       "                       [-0.2024,  0.4909, -0.2514],\n",
       "                       [ 0.0121, -0.3227,  0.0112],\n",
       "                       [-0.2955, -0.4363, -0.1886],\n",
       "                       [ 0.3084,  0.1259,  0.0398],\n",
       "                       [-0.0880, -0.3069, -0.2757],\n",
       "                       [ 0.4095,  0.4807, -0.2354],\n",
       "                       [-0.2585,  0.2363, -0.0515]],\n",
       "              \n",
       "                      [[-0.0775,  0.6486, -0.2246],\n",
       "                       [ 0.2063,  0.2175, -0.0910],\n",
       "                       [ 0.5257,  0.0413,  0.0200],\n",
       "                       [ 0.0406, -0.0456, -0.4721],\n",
       "                       [ 0.0073,  0.2994,  0.1859],\n",
       "                       [-0.0307,  0.0974, -0.2112],\n",
       "                       [ 0.5462, -0.1499,  0.1672],\n",
       "                       [ 0.0766,  0.2731, -0.0988]],\n",
       "              \n",
       "                      [[ 0.2475, -0.3610,  0.0726],\n",
       "                       [ 0.3104,  0.5060,  0.2006],\n",
       "                       [-0.0900,  0.4444,  0.4635],\n",
       "                       [-0.1850,  0.2849,  0.5209],\n",
       "                       [ 0.0711, -0.3765,  0.1067],\n",
       "                       [ 0.1830, -0.4751,  0.1563],\n",
       "                       [ 0.2119,  0.1528,  0.3078],\n",
       "                       [ 0.0979, -0.1227, -0.1735]],\n",
       "              \n",
       "                      [[-0.3388, -0.2990,  0.1520],\n",
       "                       [-0.1159, -0.2301, -0.2313],\n",
       "                       [-0.5847, -0.2975,  0.1056],\n",
       "                       [ 0.0181, -0.1384,  0.1201],\n",
       "                       [-0.4742,  0.2367,  0.0910],\n",
       "                       [-0.3103,  0.4371, -0.5591],\n",
       "                       [-0.1755, -0.5499,  0.0317],\n",
       "                       [-0.2767, -0.0740,  0.2804]],\n",
       "              \n",
       "                      [[ 0.3335, -0.2371, -0.4190],\n",
       "                       [ 0.2836, -0.3854,  0.5632],\n",
       "                       [ 0.2558,  0.1427, -0.3887],\n",
       "                       [-0.3365,  0.4568,  0.0393],\n",
       "                       [-0.5842, -0.2129,  0.3429],\n",
       "                       [-0.3634, -0.2829,  0.0737],\n",
       "                       [-0.4792, -0.3929,  0.3527],\n",
       "                       [ 0.5164, -0.1576, -0.4120]],\n",
       "              \n",
       "                      [[ 0.2613,  0.5488, -0.1804],\n",
       "                       [ 0.0456, -0.2780,  0.2616],\n",
       "                       [-0.4039,  0.1854,  0.2931],\n",
       "                       [ 0.3841, -0.4080,  0.2801],\n",
       "                       [-0.2875,  0.5052, -0.5410],\n",
       "                       [ 0.4195,  0.3830,  0.0206],\n",
       "                       [ 0.3014, -0.3280,  0.4078],\n",
       "                       [-0.0907,  0.2061, -0.2037]]], device='cuda:0')),\n",
       "             ('module.model.model.0.gate_convs.6.bias',\n",
       "              tensor([-0.0455, -0.0496, -0.0598, -0.0810, -0.0261,  0.0790, -0.1915,  0.0080],\n",
       "                     device='cuda:0')),\n",
       "             ('module.model.model.0.gate_convs.7.weight',\n",
       "              tensor([[[ 0.0165,  0.2416,  0.2669],\n",
       "                       [ 0.2471,  0.3890, -0.2160],\n",
       "                       [ 0.3083,  0.3305, -0.2960],\n",
       "                       [-0.5652,  0.5017, -0.0767],\n",
       "                       [-0.4377, -0.3071,  0.0881],\n",
       "                       [ 0.1725, -0.1994, -0.5708],\n",
       "                       [-0.2461, -0.4471,  0.4851],\n",
       "                       [ 0.0309, -0.4605, -0.3310]],\n",
       "              \n",
       "                      [[-0.6098, -0.0013,  0.3822],\n",
       "                       [ 0.2332,  0.2135, -0.1165],\n",
       "                       [ 0.3789,  0.2225, -0.0710],\n",
       "                       [ 0.2121,  0.1367, -0.2516],\n",
       "                       [-0.1489,  0.1022,  0.2266],\n",
       "                       [-0.4752,  0.2578,  0.3490],\n",
       "                       [ 0.2456,  0.0327, -0.0379],\n",
       "                       [ 0.0835,  0.0765, -0.0589]],\n",
       "              \n",
       "                      [[-0.1006,  0.1907, -0.3106],\n",
       "                       [-0.4232,  0.0744, -0.2032],\n",
       "                       [-0.1621, -0.1278, -0.0800],\n",
       "                       [ 0.4714, -0.0199, -0.2447],\n",
       "                       [ 0.0089, -0.0102,  0.5997],\n",
       "                       [-0.3903, -0.3729,  0.5522],\n",
       "                       [ 0.5034,  0.0876,  0.1002],\n",
       "                       [-0.1462,  0.3163,  0.7034]],\n",
       "              \n",
       "                      [[ 0.1263,  0.0747,  0.2579],\n",
       "                       [-0.0509,  0.2237, -0.3789],\n",
       "                       [ 0.3051, -0.0822,  0.2030],\n",
       "                       [ 0.0856,  0.3176, -0.1156],\n",
       "                       [-0.0030,  0.1347,  0.4031],\n",
       "                       [ 0.1382,  0.1423, -0.0735],\n",
       "                       [-0.1229,  0.0743, -0.2981],\n",
       "                       [ 0.3714, -0.5456,  0.2898]],\n",
       "              \n",
       "                      [[ 0.4378, -0.5232, -0.4862],\n",
       "                       [-0.0598,  0.1484,  0.2477],\n",
       "                       [-0.6903, -0.3503,  0.1780],\n",
       "                       [-0.2295,  0.0324, -0.0147],\n",
       "                       [-0.3302, -0.4372, -0.3570],\n",
       "                       [-0.0754, -0.1635, -0.1972],\n",
       "                       [-0.4651,  0.1956,  0.0474],\n",
       "                       [ 0.0525,  0.1215, -0.0793]],\n",
       "              \n",
       "                      [[ 0.1115, -0.4786, -0.0852],\n",
       "                       [ 0.2751,  0.4953,  0.5751],\n",
       "                       [ 0.0811,  0.2125,  0.3365],\n",
       "                       [-0.4462,  0.3010,  0.2856],\n",
       "                       [-0.2163,  0.3835, -0.2721],\n",
       "                       [-0.2181,  0.2840,  0.2872],\n",
       "                       [-0.1921,  0.0401,  0.0634],\n",
       "                       [-0.0759, -0.1534,  0.4425]],\n",
       "              \n",
       "                      [[ 0.0027, -0.2008, -0.2744],\n",
       "                       [-0.2558, -0.4651, -0.1643],\n",
       "                       [-0.2485,  0.1984,  0.4907],\n",
       "                       [ 0.4585,  0.1438,  0.4019],\n",
       "                       [ 0.1805, -0.4257,  0.4805],\n",
       "                       [-0.1844,  0.0316, -0.3518],\n",
       "                       [-0.4877,  0.4089,  0.3653],\n",
       "                       [ 0.0398, -0.0197, -0.3891]],\n",
       "              \n",
       "                      [[ 0.2905, -0.0498,  0.0136],\n",
       "                       [ 0.1631, -0.1880,  0.2866],\n",
       "                       [-0.2423, -0.4272,  0.1101],\n",
       "                       [-0.3278, -0.0165, -0.2324],\n",
       "                       [ 0.0347, -0.3584, -0.1251],\n",
       "                       [-0.1244,  0.3602, -0.4514],\n",
       "                       [ 0.3572, -0.2399, -0.2591],\n",
       "                       [ 0.4085, -0.3732,  0.0985]]], device='cuda:0')),\n",
       "             ('module.model.model.0.gate_convs.7.bias',\n",
       "              tensor([-0.0180,  0.0604, -0.0902, -0.0038, -0.0058, -0.0204, -0.0262, -0.0532],\n",
       "                     device='cuda:0')),\n",
       "             ('module.model.model.0.gate_convs.8.weight',\n",
       "              tensor([[[-0.2301,  0.2530,  0.4851],\n",
       "                       [-0.0535, -0.3239, -0.5659],\n",
       "                       [ 0.3718, -0.1669, -0.2284],\n",
       "                       [-0.3015, -0.2916, -0.1933],\n",
       "                       [-0.3143, -0.4235, -0.2604],\n",
       "                       [-0.5092, -0.3129,  0.0393],\n",
       "                       [ 0.5022,  0.0576, -0.1666],\n",
       "                       [-0.0383, -0.2259,  0.2336]],\n",
       "              \n",
       "                      [[-0.2659, -0.2721, -0.4644],\n",
       "                       [ 0.3494,  0.1133, -0.1104],\n",
       "                       [-0.0529, -0.5760, -0.4247],\n",
       "                       [ 0.3114,  0.0982,  0.0400],\n",
       "                       [ 0.2380, -0.3254,  0.0858],\n",
       "                       [ 0.2589, -0.3185, -0.0688],\n",
       "                       [ 0.1657, -0.2867,  0.1985],\n",
       "                       [ 0.3845,  0.5532,  0.2632]],\n",
       "              \n",
       "                      [[-0.3020, -0.5108,  0.2291],\n",
       "                       [ 0.5845,  0.4957, -0.0074],\n",
       "                       [-0.1283,  0.1630,  0.1549],\n",
       "                       [-0.3703,  0.1551,  0.1623],\n",
       "                       [-0.2999, -0.0365,  0.5265],\n",
       "                       [-0.3102,  0.3228,  0.0183],\n",
       "                       [ 0.2718,  0.0755, -0.2113],\n",
       "                       [-0.0925,  0.3342, -0.3103]],\n",
       "              \n",
       "                      [[ 0.4808, -0.1921,  0.4781],\n",
       "                       [ 0.3974,  0.4475,  0.2574],\n",
       "                       [ 0.2791, -0.1969, -0.2799],\n",
       "                       [-0.0535,  0.3690, -0.0415],\n",
       "                       [-0.2768,  0.0831,  0.0398],\n",
       "                       [ 0.3164, -0.2747, -0.1342],\n",
       "                       [-0.1063,  0.3439,  0.4309],\n",
       "                       [-0.1142,  0.0951, -0.0925]],\n",
       "              \n",
       "                      [[ 0.0044, -0.0377,  0.3469],\n",
       "                       [ 0.2514,  0.2869, -0.3804],\n",
       "                       [-0.0179,  0.0744, -0.4928],\n",
       "                       [ 0.3729, -0.1665, -0.1356],\n",
       "                       [ 0.0393, -0.0752,  0.1618],\n",
       "                       [-0.4288,  0.1158, -0.0076],\n",
       "                       [-0.0173, -0.1014,  0.3559],\n",
       "                       [-0.0944, -0.1172,  0.3753]],\n",
       "              \n",
       "                      [[ 0.1176, -0.3140,  0.0694],\n",
       "                       [ 0.0333,  0.0055,  0.2445],\n",
       "                       [ 0.2551, -0.4096, -0.3705],\n",
       "                       [-0.0098, -0.2479,  0.3185],\n",
       "                       [-0.2941,  0.0878,  0.3592],\n",
       "                       [ 0.0117, -0.0812,  0.2034],\n",
       "                       [-0.5568, -0.3031, -0.1302],\n",
       "                       [ 0.0312, -0.0290,  0.0267]],\n",
       "              \n",
       "                      [[-0.0661,  0.4310, -0.3937],\n",
       "                       [ 0.2795, -0.2028, -0.0299],\n",
       "                       [-0.2120,  0.4683,  0.1502],\n",
       "                       [-0.4065, -0.4226,  0.1450],\n",
       "                       [-0.0066, -0.2729,  0.2342],\n",
       "                       [ 0.1858, -0.1333, -0.0237],\n",
       "                       [-0.0123,  0.0920, -0.1260],\n",
       "                       [ 0.0915,  0.4478, -0.2996]],\n",
       "              \n",
       "                      [[ 0.1353,  0.0915,  0.3850],\n",
       "                       [ 0.6267, -0.1487, -0.4792],\n",
       "                       [-0.1879,  0.1619,  0.0190],\n",
       "                       [ 0.3244,  0.3149, -0.0104],\n",
       "                       [ 0.5094,  0.0164, -0.0366],\n",
       "                       [ 0.4232,  0.4047,  0.4643],\n",
       "                       [ 0.0592, -0.0278, -0.3001],\n",
       "                       [-0.1496,  0.0007, -0.4115]]], device='cuda:0')),\n",
       "             ('module.model.model.0.gate_convs.8.bias',\n",
       "              tensor([ 0.0279,  0.1102,  0.0518,  0.0040, -0.0828, -0.1315,  0.0183, -0.0975],\n",
       "                     device='cuda:0')),\n",
       "             ('module.model.model.0.gate_convs.9.weight',\n",
       "              tensor([[[ 1.1920e-01, -1.7972e-01,  1.8801e-01],\n",
       "                       [-4.3854e-01, -3.8526e-01,  5.6545e-01],\n",
       "                       [-4.5049e-01, -4.6088e-01,  4.0262e-01],\n",
       "                       [-1.3432e-01, -1.8328e-01,  4.0299e-01],\n",
       "                       [ 1.4297e-01,  4.5036e-01, -5.3152e-01],\n",
       "                       [ 1.7685e-01, -2.3258e-01, -7.4498e-01],\n",
       "                       [ 3.8704e-02,  1.1035e-01,  1.1054e-01],\n",
       "                       [-4.4831e-01, -2.9503e-01,  3.5245e-01]],\n",
       "              \n",
       "                      [[ 4.0524e-01,  4.6930e-01, -3.3602e-01],\n",
       "                       [-1.6911e-01,  3.7558e-01,  1.9532e-01],\n",
       "                       [ 1.7385e-01, -2.0922e-01, -1.5697e-02],\n",
       "                       [-9.8703e-02,  5.1746e-01, -3.0028e-01],\n",
       "                       [ 8.0511e-02, -2.3197e-01,  3.5267e-01],\n",
       "                       [ 1.3747e-01, -1.3839e-01,  6.4014e-02],\n",
       "                       [ 4.9266e-01,  3.9045e-01,  6.9053e-05],\n",
       "                       [ 3.6551e-01,  3.0895e-01,  7.7757e-02]],\n",
       "              \n",
       "                      [[-3.2965e-02,  3.9919e-01, -2.9889e-01],\n",
       "                       [-1.9832e-01, -1.1023e-01, -6.8092e-02],\n",
       "                       [ 3.1305e-01, -2.4561e-01, -1.7346e-01],\n",
       "                       [-1.9165e-01,  3.3141e-01,  2.0868e-02],\n",
       "                       [-2.7596e-01, -1.2047e-01,  3.7208e-02],\n",
       "                       [ 2.7215e-01,  2.4416e-01, -2.0612e-01],\n",
       "                       [ 1.4989e-01, -2.3212e-01, -3.3985e-02],\n",
       "                       [-5.2800e-02, -5.8197e-02, -3.0571e-01]],\n",
       "              \n",
       "                      [[-6.3701e-02, -6.2674e-02, -2.6155e-01],\n",
       "                       [ 2.5501e-01,  3.3025e-01, -2.6021e-01],\n",
       "                       [-2.6246e-01, -4.8336e-02,  3.5543e-01],\n",
       "                       [ 4.4567e-01, -1.2324e-01, -1.1034e-01],\n",
       "                       [-1.2344e-01,  4.3039e-01,  3.6735e-01],\n",
       "                       [-2.7865e-01,  4.3397e-01,  4.3481e-01],\n",
       "                       [-5.4550e-02, -1.6049e-02,  3.4144e-01],\n",
       "                       [-4.6375e-01, -4.7016e-02, -1.4071e-01]],\n",
       "              \n",
       "                      [[ 1.4760e-02,  3.7235e-01,  1.2281e-01],\n",
       "                       [-2.7314e-01,  4.9300e-01,  9.0295e-02],\n",
       "                       [ 2.1136e-01, -3.3045e-03,  8.0969e-02],\n",
       "                       [-1.8590e-01,  3.7329e-02,  4.4157e-01],\n",
       "                       [-7.8220e-02,  3.0195e-01, -3.2738e-01],\n",
       "                       [-2.6627e-01,  4.9303e-02, -2.9710e-01],\n",
       "                       [ 3.6327e-01, -3.1408e-01,  4.9377e-01],\n",
       "                       [ 4.7518e-01,  3.3488e-01, -4.7743e-01]],\n",
       "              \n",
       "                      [[-2.8088e-01,  3.3332e-02, -5.0090e-01],\n",
       "                       [ 3.6200e-02, -2.3240e-01, -2.2420e-01],\n",
       "                       [ 9.7772e-02, -1.6597e-01, -3.0205e-01],\n",
       "                       [ 3.7441e-01, -2.8780e-02, -2.7791e-01],\n",
       "                       [ 4.1816e-01,  3.5315e-01,  6.9955e-02],\n",
       "                       [ 4.2235e-01,  4.9084e-01, -3.2603e-01],\n",
       "                       [-1.9736e-01, -3.7549e-01,  2.1301e-01],\n",
       "                       [-4.1858e-01,  2.0967e-01,  1.0460e-01]],\n",
       "              \n",
       "                      [[ 3.5113e-01, -3.7536e-01,  3.9583e-01],\n",
       "                       [-7.4162e-02,  7.8735e-02, -4.7681e-01],\n",
       "                       [ 2.4872e-01, -4.0840e-01, -6.3663e-02],\n",
       "                       [ 3.3921e-01,  4.8934e-01,  1.9986e-01],\n",
       "                       [-2.2226e-01, -1.9372e-01, -3.4986e-01],\n",
       "                       [-3.0103e-01, -1.2494e-01, -3.4792e-01],\n",
       "                       [ 4.6237e-03, -3.9850e-02, -2.4097e-02],\n",
       "                       [-4.5196e-01, -2.6918e-01,  1.5766e-01]],\n",
       "              \n",
       "                      [[-1.6547e-01, -1.3956e-01, -2.3254e-01],\n",
       "                       [-2.8185e-01,  2.8242e-01,  3.0107e-01],\n",
       "                       [-7.1896e-02, -1.1517e-01,  2.4145e-01],\n",
       "                       [ 2.1820e-01,  4.7685e-01, -4.3510e-01],\n",
       "                       [ 6.4038e-01, -3.2438e-01,  4.7709e-01],\n",
       "                       [ 5.6306e-02, -2.3722e-01, -3.9807e-01],\n",
       "                       [-2.5338e-01,  1.9380e-01,  5.3157e-02],\n",
       "                       [-1.0877e-01, -5.0825e-01,  1.3975e-01]]], device='cuda:0')),\n",
       "             ('module.model.model.0.gate_convs.9.bias',\n",
       "              tensor([-0.0029, -0.0399,  0.0796, -0.0558, -0.0302,  0.0075, -0.1042,  0.0343],\n",
       "                     device='cuda:0')),\n",
       "             ('module.model.model.0.gate_convs.10.weight',\n",
       "              tensor([[[-0.3386, -0.0786, -0.4290],\n",
       "                       [ 0.1307,  0.7546,  0.4162],\n",
       "                       [ 0.0539, -0.0092,  0.1266],\n",
       "                       [-0.2418, -0.2949, -0.2136],\n",
       "                       [-0.5497,  0.2491, -0.1288],\n",
       "                       [-0.1311,  0.5332,  0.4009],\n",
       "                       [ 0.3417, -0.6778,  0.3245],\n",
       "                       [-0.3805, -0.1314, -0.1769]],\n",
       "              \n",
       "                      [[-0.0145,  0.0873, -0.1110],\n",
       "                       [-0.3723, -0.1520, -0.0794],\n",
       "                       [ 0.4526,  0.1048, -0.1935],\n",
       "                       [ 0.3346, -0.3175, -0.2463],\n",
       "                       [-0.4709,  0.0120,  0.4410],\n",
       "                       [ 0.1264, -0.0631,  0.3395],\n",
       "                       [ 0.5129,  0.0418, -0.0800],\n",
       "                       [-0.2649, -0.1401, -0.1077]],\n",
       "              \n",
       "                      [[ 0.3161,  0.5072, -0.2177],\n",
       "                       [-0.2700,  0.1412, -0.0227],\n",
       "                       [-0.0835,  0.4827, -0.4724],\n",
       "                       [-0.5274,  0.0458, -0.3818],\n",
       "                       [ 0.2032,  0.2642, -0.0470],\n",
       "                       [ 0.0802,  0.3084,  0.2996],\n",
       "                       [-0.1057, -0.0115, -0.0920],\n",
       "                       [ 0.4696,  0.0247,  0.3652]],\n",
       "              \n",
       "                      [[-0.3868,  0.1447,  0.0202],\n",
       "                       [-0.3596,  0.2560, -0.4052],\n",
       "                       [-0.4364, -0.0245, -0.6174],\n",
       "                       [ 0.4200, -0.1824, -0.0892],\n",
       "                       [ 0.4176,  0.1919, -0.0425],\n",
       "                       [-0.3899,  0.1182, -0.1526],\n",
       "                       [ 0.0846, -0.2880,  0.4824],\n",
       "                       [ 0.0229, -0.3493, -0.5808]],\n",
       "              \n",
       "                      [[ 0.2646, -0.4997, -0.0749],\n",
       "                       [-0.3909,  0.3641, -0.1713],\n",
       "                       [-0.1542, -0.2309, -0.1853],\n",
       "                       [-0.0009,  0.1596,  0.1153],\n",
       "                       [ 0.0035,  0.1863, -0.2406],\n",
       "                       [ 0.2493, -0.2934, -0.3497],\n",
       "                       [ 0.3949,  0.0355, -0.3150],\n",
       "                       [ 0.1013, -0.3450,  0.2595]],\n",
       "              \n",
       "                      [[-0.2062, -0.3194,  0.0946],\n",
       "                       [-0.1656,  0.3102,  0.0627],\n",
       "                       [-0.2768,  0.2700, -0.2531],\n",
       "                       [-0.3136, -0.3458, -0.3836],\n",
       "                       [-0.2742, -0.3084, -0.2862],\n",
       "                       [-0.1186,  0.1906, -0.4575],\n",
       "                       [ 0.1684, -0.4325,  0.2532],\n",
       "                       [ 0.3003,  0.3749,  0.2640]],\n",
       "              \n",
       "                      [[ 0.0327,  0.1606,  0.4017],\n",
       "                       [-0.3178,  0.3206, -0.1721],\n",
       "                       [ 0.4256,  0.0011,  0.2128],\n",
       "                       [ 0.2576,  0.3973,  0.4491],\n",
       "                       [-0.2206, -0.2307, -0.6533],\n",
       "                       [-0.0377,  0.5453,  0.0726],\n",
       "                       [ 0.3612, -0.2245,  0.2915],\n",
       "                       [ 0.4296,  0.3266, -0.0229]],\n",
       "              \n",
       "                      [[ 0.3328, -0.3668, -0.0440],\n",
       "                       [-0.0526, -0.1984,  0.0030],\n",
       "                       [-0.4368,  0.0122,  0.3712],\n",
       "                       [-0.1898,  0.1367, -0.0819],\n",
       "                       [-0.0481,  0.0386,  0.1795],\n",
       "                       [-0.3356,  0.4222,  0.2463],\n",
       "                       [-0.3919,  0.3313,  0.5142],\n",
       "                       [-0.2727, -0.3405,  0.0135]]], device='cuda:0')),\n",
       "             ('module.model.model.0.gate_convs.10.bias',\n",
       "              tensor([ 0.0395, -0.0335,  0.0847,  0.0905,  0.1176, -0.0562, -0.0991,  0.0647],\n",
       "                     device='cuda:0')),\n",
       "             ('module.model.model.0.gate_convs.11.weight',\n",
       "              tensor([[[ 0.2930, -0.4418, -0.3744],\n",
       "                       [ 0.0021,  0.4490,  0.4258],\n",
       "                       [-0.3471,  0.1464, -0.2951],\n",
       "                       [ 0.2836, -0.1615,  0.2066],\n",
       "                       [-0.2766,  0.2224, -0.1591],\n",
       "                       [-0.0132, -0.0874,  0.1189],\n",
       "                       [ 0.3413,  0.2828,  0.4415],\n",
       "                       [-0.1269,  0.3955, -0.2587]],\n",
       "              \n",
       "                      [[ 0.3708, -0.0974, -0.2833],\n",
       "                       [ 0.1984,  0.1463,  0.2454],\n",
       "                       [ 0.4634, -0.1273, -0.4699],\n",
       "                       [-0.2315, -0.0576, -0.0824],\n",
       "                       [ 0.2025,  0.0963,  0.2115],\n",
       "                       [ 0.4026,  0.1150, -0.0937],\n",
       "                       [-0.4206,  0.4403, -0.2261],\n",
       "                       [-0.1993,  0.1803,  0.2112]],\n",
       "              \n",
       "                      [[-0.2000,  0.5912,  0.0921],\n",
       "                       [-0.0853, -0.1997, -0.2030],\n",
       "                       [-0.2103, -0.2831, -0.2372],\n",
       "                       [-0.1875, -0.1423, -0.1027],\n",
       "                       [ 0.0801, -0.2230, -0.2246],\n",
       "                       [-0.0961,  0.4283,  0.3217],\n",
       "                       [ 0.4776,  0.1442, -0.3290],\n",
       "                       [-0.2831, -0.3523,  0.1437]],\n",
       "              \n",
       "                      [[ 0.3932,  0.1238, -0.4468],\n",
       "                       [-0.0996, -0.1168,  0.0812],\n",
       "                       [ 0.0642, -0.1078, -0.3581],\n",
       "                       [-0.0375,  0.2215,  0.1070],\n",
       "                       [-0.2008,  0.0131, -0.4458],\n",
       "                       [ 0.3816,  0.2576,  0.0802],\n",
       "                       [-0.0792,  0.5159,  0.4093],\n",
       "                       [ 0.0380,  0.0937, -0.1411]],\n",
       "              \n",
       "                      [[-0.0376,  0.2954,  0.3435],\n",
       "                       [-0.1653,  0.1415, -0.0125],\n",
       "                       [-0.2271,  0.0735,  0.1555],\n",
       "                       [-0.0515, -0.1495, -0.0117],\n",
       "                       [-0.1935,  0.0850, -0.3116],\n",
       "                       [ 0.3334,  0.2520, -0.2895],\n",
       "                       [ 0.0642,  0.1304, -0.2486],\n",
       "                       [-0.3095, -0.3049,  0.2829]],\n",
       "              \n",
       "                      [[ 0.3571,  0.4071,  0.1779],\n",
       "                       [ 0.0794, -0.1954, -0.2813],\n",
       "                       [-0.2005, -0.3145, -0.3324],\n",
       "                       [ 0.4373,  0.2706,  0.4169],\n",
       "                       [-0.1193,  0.4205,  0.3313],\n",
       "                       [ 0.2081,  0.3192, -0.0816],\n",
       "                       [-0.1215, -0.1518, -0.2715],\n",
       "                       [-0.0936, -0.1980, -0.3475]],\n",
       "              \n",
       "                      [[-0.0971,  0.0742, -0.3016],\n",
       "                       [ 0.0334,  0.0387, -0.2207],\n",
       "                       [-0.1983, -0.3633, -0.2869],\n",
       "                       [-0.4401,  0.4289, -0.2078],\n",
       "                       [ 0.1628, -0.5201,  0.3777],\n",
       "                       [ 0.3172,  0.3789, -0.3719],\n",
       "                       [ 0.2320, -0.0757, -0.3775],\n",
       "                       [-0.0172,  0.4971,  0.3544]],\n",
       "              \n",
       "                      [[-0.3896,  0.2676,  0.2382],\n",
       "                       [ 0.1245, -0.3265, -0.3612],\n",
       "                       [-0.1188, -0.0489, -0.3870],\n",
       "                       [-0.2661, -0.2330, -0.2967],\n",
       "                       [ 0.3860,  0.2222, -0.0775],\n",
       "                       [-0.3921,  0.2448, -0.3454],\n",
       "                       [ 0.1108, -0.1630, -0.4361],\n",
       "                       [ 0.0675, -0.3551, -0.2721]]], device='cuda:0')),\n",
       "             ('module.model.model.0.gate_convs.11.bias',\n",
       "              tensor([-0.1549, -0.1786, -0.0505, -0.1781, -0.0720, -0.0110, -0.0547,  0.0021],\n",
       "                     device='cuda:0')),\n",
       "             ('module.model.model.1.convs.0.weight',\n",
       "              tensor([[[-7.5747e-02],\n",
       "                       [ 1.3500e-01],\n",
       "                       [ 2.0292e-01],\n",
       "                       [ 1.0196e-01],\n",
       "                       [ 2.3822e-01],\n",
       "                       [ 1.5823e-01],\n",
       "                       [ 6.0094e-01],\n",
       "                       [ 5.9711e-01]],\n",
       "              \n",
       "                      [[-2.8085e-01],\n",
       "                       [ 5.8774e-01],\n",
       "                       [ 3.0984e-01],\n",
       "                       [-1.4372e-01],\n",
       "                       [-6.3671e-01],\n",
       "                       [ 4.3553e-01],\n",
       "                       [-4.2879e-01],\n",
       "                       [ 1.0516e-01]],\n",
       "              \n",
       "                      [[ 7.8434e-02],\n",
       "                       [ 1.9788e-01],\n",
       "                       [ 3.5420e-01],\n",
       "                       [ 3.0752e-02],\n",
       "                       [-4.9065e-01],\n",
       "                       [ 4.9418e-04],\n",
       "                       [ 5.9409e-01],\n",
       "                       [ 2.1557e-01]],\n",
       "              \n",
       "                      [[ 2.3542e-01],\n",
       "                       [-1.2486e-01],\n",
       "                       [ 3.7493e-01],\n",
       "                       [-7.0309e-01],\n",
       "                       [-1.3166e-01],\n",
       "                       [-6.0255e-01],\n",
       "                       [ 1.9984e-02],\n",
       "                       [-4.7850e-01]],\n",
       "              \n",
       "                      [[ 4.9474e-01],\n",
       "                       [-2.6959e-01],\n",
       "                       [-6.3751e-01],\n",
       "                       [ 4.8977e-01],\n",
       "                       [ 5.1132e-02],\n",
       "                       [ 1.6327e-01],\n",
       "                       [-3.1240e-01],\n",
       "                       [ 3.7954e-01]],\n",
       "              \n",
       "                      [[ 5.1992e-01],\n",
       "                       [-6.1315e-01],\n",
       "                       [ 4.7789e-01],\n",
       "                       [-8.8840e-02],\n",
       "                       [ 2.1903e-01],\n",
       "                       [ 6.6750e-01],\n",
       "                       [ 2.9829e-01],\n",
       "                       [-4.8962e-01]],\n",
       "              \n",
       "                      [[-1.2788e-01],\n",
       "                       [ 8.9206e-02],\n",
       "                       [ 1.3839e-01],\n",
       "                       [-1.0171e-01],\n",
       "                       [-3.1128e-01],\n",
       "                       [-1.2452e-01],\n",
       "                       [ 6.0511e-01],\n",
       "                       [ 1.7095e-01]],\n",
       "              \n",
       "                      [[-1.4932e-01],\n",
       "                       [ 1.6971e-01],\n",
       "                       [-6.0340e-01],\n",
       "                       [ 1.6777e-01],\n",
       "                       [ 3.8972e-01],\n",
       "                       [ 3.2010e-01],\n",
       "                       [-2.3041e-01],\n",
       "                       [-5.2027e-01]],\n",
       "              \n",
       "                      [[-2.1016e-01],\n",
       "                       [-5.6993e-01],\n",
       "                       [ 3.1673e-01],\n",
       "                       [ 3.6605e-01],\n",
       "                       [ 1.0484e-01],\n",
       "                       [-3.6636e-01],\n",
       "                       [ 2.4774e-01],\n",
       "                       [ 4.8707e-02]],\n",
       "              \n",
       "                      [[-6.3876e-01],\n",
       "                       [-3.7347e-01],\n",
       "                       [-4.3147e-01],\n",
       "                       [ 3.8291e-02],\n",
       "                       [ 2.2666e-01],\n",
       "                       [ 3.9356e-01],\n",
       "                       [ 5.8523e-01],\n",
       "                       [ 4.2058e-01]],\n",
       "              \n",
       "                      [[-1.0571e-01],\n",
       "                       [-7.2715e-02],\n",
       "                       [ 5.4324e-01],\n",
       "                       [ 3.2994e-01],\n",
       "                       [-2.5976e-01],\n",
       "                       [ 1.5185e-01],\n",
       "                       [ 2.9064e-01],\n",
       "                       [ 5.7977e-02]],\n",
       "              \n",
       "                      [[ 4.9138e-01],\n",
       "                       [ 4.9115e-01],\n",
       "                       [ 6.6980e-01],\n",
       "                       [-5.5306e-01],\n",
       "                       [-4.4679e-01],\n",
       "                       [-8.6064e-02],\n",
       "                       [-3.3995e-01],\n",
       "                       [ 3.6582e-01]],\n",
       "              \n",
       "                      [[ 7.1583e-01],\n",
       "                       [ 3.4493e-01],\n",
       "                       [-3.0170e-01],\n",
       "                       [ 1.4019e-01],\n",
       "                       [ 4.7200e-01],\n",
       "                       [ 5.9107e-01],\n",
       "                       [ 4.1287e-01],\n",
       "                       [-1.6131e-01]],\n",
       "              \n",
       "                      [[-1.9650e-01],\n",
       "                       [-3.2069e-01],\n",
       "                       [-1.1005e-01],\n",
       "                       [-5.2300e-01],\n",
       "                       [-1.1178e-01],\n",
       "                       [-1.1270e-01],\n",
       "                       [ 5.9743e-01],\n",
       "                       [-4.1545e-01]],\n",
       "              \n",
       "                      [[ 2.2096e-01],\n",
       "                       [ 2.0530e-01],\n",
       "                       [ 5.5598e-01],\n",
       "                       [ 4.0467e-01],\n",
       "                       [-4.3703e-01],\n",
       "                       [-5.2488e-01],\n",
       "                       [ 2.9526e-01],\n",
       "                       [-2.2954e-01]],\n",
       "              \n",
       "                      [[-3.5172e-01],\n",
       "                       [ 4.7005e-03],\n",
       "                       [ 6.1448e-01],\n",
       "                       [-1.3312e-01],\n",
       "                       [ 6.4582e-01],\n",
       "                       [-3.4724e-01],\n",
       "                       [ 4.6659e-01],\n",
       "                       [ 5.5357e-01]]], device='cuda:0')),\n",
       "             ('module.model.model.1.convs.0.bias',\n",
       "              tensor([ 0.0045, -0.0196,  0.0058,  0.0125,  0.0083, -0.0045,  0.0077,  0.0004,\n",
       "                      -0.0185,  0.0040, -0.0056,  0.0023,  0.0105, -0.0063, -0.0100, -0.0035],\n",
       "                     device='cuda:0')),\n",
       "             ('module.model.model.1.convs.1.weight',\n",
       "              tensor([[[-0.3815],\n",
       "                       [ 0.4779],\n",
       "                       [-0.3165],\n",
       "                       [ 0.5979],\n",
       "                       [-0.5651],\n",
       "                       [ 0.4780],\n",
       "                       [-0.2424],\n",
       "                       [ 0.3013],\n",
       "                       [-0.4491],\n",
       "                       [-0.5630],\n",
       "                       [ 0.5112],\n",
       "                       [-0.0063],\n",
       "                       [ 0.2234],\n",
       "                       [-0.3051],\n",
       "                       [-0.4671],\n",
       "                       [-0.1295]],\n",
       "              \n",
       "                      [[-0.1580],\n",
       "                       [-0.5149],\n",
       "                       [ 0.5456],\n",
       "                       [-0.0944],\n",
       "                       [ 0.2346],\n",
       "                       [-0.1639],\n",
       "                       [-0.2052],\n",
       "                       [-0.4740],\n",
       "                       [-0.4126],\n",
       "                       [ 0.3401],\n",
       "                       [ 0.0382],\n",
       "                       [ 0.1389],\n",
       "                       [-0.2269],\n",
       "                       [-0.4533],\n",
       "                       [-0.1331],\n",
       "                       [ 0.3143]],\n",
       "              \n",
       "                      [[ 0.3180],\n",
       "                       [-0.1428],\n",
       "                       [ 0.0932],\n",
       "                       [ 0.1889],\n",
       "                       [ 0.3633],\n",
       "                       [-0.0337],\n",
       "                       [-0.4449],\n",
       "                       [ 0.1387],\n",
       "                       [-0.5622],\n",
       "                       [ 0.3277],\n",
       "                       [-0.5317],\n",
       "                       [-0.0406],\n",
       "                       [ 0.2107],\n",
       "                       [ 0.2235],\n",
       "                       [-0.0382],\n",
       "                       [ 0.0244]],\n",
       "              \n",
       "                      [[-0.0599],\n",
       "                       [ 0.2093],\n",
       "                       [-0.2104],\n",
       "                       [ 0.1901],\n",
       "                       [-0.4310],\n",
       "                       [ 0.5994],\n",
       "                       [-0.0801],\n",
       "                       [-0.6483],\n",
       "                       [ 0.1090],\n",
       "                       [-0.0436],\n",
       "                       [-0.5694],\n",
       "                       [ 0.5509],\n",
       "                       [-0.3920],\n",
       "                       [ 0.0450],\n",
       "                       [-0.4581],\n",
       "                       [-0.6166]],\n",
       "              \n",
       "                      [[ 0.0688],\n",
       "                       [-0.4120],\n",
       "                       [-0.5693],\n",
       "                       [-0.4593],\n",
       "                       [ 0.3446],\n",
       "                       [-0.2223],\n",
       "                       [ 0.2799],\n",
       "                       [ 0.4464],\n",
       "                       [-0.5043],\n",
       "                       [ 0.4387],\n",
       "                       [ 0.3823],\n",
       "                       [ 0.2949],\n",
       "                       [ 0.4494],\n",
       "                       [-0.0807],\n",
       "                       [ 0.0745],\n",
       "                       [ 0.3197]],\n",
       "              \n",
       "                      [[-0.6112],\n",
       "                       [ 0.0041],\n",
       "                       [ 0.4436],\n",
       "                       [-0.5987],\n",
       "                       [ 0.2494],\n",
       "                       [-0.4343],\n",
       "                       [-0.5600],\n",
       "                       [-0.2516],\n",
       "                       [ 0.2771],\n",
       "                       [-0.1611],\n",
       "                       [ 0.0045],\n",
       "                       [-0.2662],\n",
       "                       [ 0.4619],\n",
       "                       [-0.4789],\n",
       "                       [ 0.1651],\n",
       "                       [ 0.1416]],\n",
       "              \n",
       "                      [[ 0.6231],\n",
       "                       [ 0.5260],\n",
       "                       [-0.2229],\n",
       "                       [ 0.2754],\n",
       "                       [ 0.4637],\n",
       "                       [-0.5057],\n",
       "                       [ 0.3956],\n",
       "                       [ 0.0828],\n",
       "                       [ 0.5786],\n",
       "                       [-0.4758],\n",
       "                       [-0.4923],\n",
       "                       [ 0.5834],\n",
       "                       [-0.3656],\n",
       "                       [ 0.0944],\n",
       "                       [-0.0248],\n",
       "                       [-0.4332]],\n",
       "              \n",
       "                      [[ 0.5221],\n",
       "                       [ 0.4060],\n",
       "                       [ 0.4248],\n",
       "                       [ 0.5109],\n",
       "                       [-0.3848],\n",
       "                       [-0.3134],\n",
       "                       [ 0.0372],\n",
       "                       [-0.1102],\n",
       "                       [ 0.4755],\n",
       "                       [ 0.4415],\n",
       "                       [-0.1726],\n",
       "                       [ 0.5730],\n",
       "                       [ 0.1154],\n",
       "                       [-0.2188],\n",
       "                       [ 0.2345],\n",
       "                       [-0.3513]],\n",
       "              \n",
       "                      [[ 0.1764],\n",
       "                       [-0.2851],\n",
       "                       [ 0.5006],\n",
       "                       [-0.4605],\n",
       "                       [-0.1007],\n",
       "                       [ 0.1819],\n",
       "                       [-0.4116],\n",
       "                       [ 0.1244],\n",
       "                       [ 0.6563],\n",
       "                       [-0.0852],\n",
       "                       [-0.4740],\n",
       "                       [ 0.1634],\n",
       "                       [-0.3999],\n",
       "                       [-0.4453],\n",
       "                       [-0.0244],\n",
       "                       [ 0.4814]],\n",
       "              \n",
       "                      [[-0.3734],\n",
       "                       [-0.2739],\n",
       "                       [ 0.6427],\n",
       "                       [ 0.4596],\n",
       "                       [-0.1872],\n",
       "                       [ 0.2510],\n",
       "                       [-0.2877],\n",
       "                       [ 0.4086],\n",
       "                       [-0.1595],\n",
       "                       [-0.4393],\n",
       "                       [-0.2078],\n",
       "                       [ 0.0609],\n",
       "                       [ 0.4500],\n",
       "                       [ 0.4907],\n",
       "                       [ 0.3630],\n",
       "                       [-0.0442]],\n",
       "              \n",
       "                      [[ 0.5417],\n",
       "                       [ 0.0508],\n",
       "                       [ 0.4280],\n",
       "                       [ 0.3362],\n",
       "                       [-0.3905],\n",
       "                       [ 0.5179],\n",
       "                       [-0.1838],\n",
       "                       [-0.2553],\n",
       "                       [-0.0353],\n",
       "                       [ 0.5722],\n",
       "                       [ 0.4825],\n",
       "                       [ 0.2614],\n",
       "                       [-0.0828],\n",
       "                       [ 0.3461],\n",
       "                       [-0.1461],\n",
       "                       [-0.6454]],\n",
       "              \n",
       "                      [[-0.6794],\n",
       "                       [-0.0647],\n",
       "                       [ 0.1040],\n",
       "                       [-0.2589],\n",
       "                       [-0.0118],\n",
       "                       [ 0.0157],\n",
       "                       [-0.6223],\n",
       "                       [ 0.1852],\n",
       "                       [ 0.5522],\n",
       "                       [ 0.3238],\n",
       "                       [-0.2138],\n",
       "                       [-0.2669],\n",
       "                       [-0.1910],\n",
       "                       [-0.0602],\n",
       "                       [-0.2104],\n",
       "                       [ 0.4777]],\n",
       "              \n",
       "                      [[ 0.5370],\n",
       "                       [-0.0626],\n",
       "                       [ 0.1385],\n",
       "                       [-0.4183],\n",
       "                       [ 0.5965],\n",
       "                       [ 0.2733],\n",
       "                       [ 0.0039],\n",
       "                       [-0.1767],\n",
       "                       [-0.1998],\n",
       "                       [ 0.6026],\n",
       "                       [ 0.1895],\n",
       "                       [-0.4487],\n",
       "                       [-0.3453],\n",
       "                       [-0.6056],\n",
       "                       [ 0.1541],\n",
       "                       [ 0.4059]],\n",
       "              \n",
       "                      [[ 0.2199],\n",
       "                       [ 0.3005],\n",
       "                       [ 0.3124],\n",
       "                       [ 0.0574],\n",
       "                       [-0.0960],\n",
       "                       [ 0.4799],\n",
       "                       [ 0.5208],\n",
       "                       [ 0.5987],\n",
       "                       [-0.3943],\n",
       "                       [-0.3196],\n",
       "                       [ 0.0450],\n",
       "                       [-0.0464],\n",
       "                       [-0.0608],\n",
       "                       [-0.5329],\n",
       "                       [-0.1503],\n",
       "                       [ 0.3973]],\n",
       "              \n",
       "                      [[ 0.4276],\n",
       "                       [-0.2923],\n",
       "                       [ 0.1239],\n",
       "                       [ 0.2635],\n",
       "                       [-0.5647],\n",
       "                       [-0.0794],\n",
       "                       [-0.0577],\n",
       "                       [ 0.6360],\n",
       "                       [-0.4803],\n",
       "                       [ 0.3333],\n",
       "                       [-0.5380],\n",
       "                       [-0.1996],\n",
       "                       [-0.3882],\n",
       "                       [-0.4390],\n",
       "                       [ 0.5490],\n",
       "                       [ 0.3955]],\n",
       "              \n",
       "                      [[ 0.1120],\n",
       "                       [-0.3124],\n",
       "                       [-0.4506],\n",
       "                       [ 0.1848],\n",
       "                       [ 0.3161],\n",
       "                       [ 0.3665],\n",
       "                       [ 0.0250],\n",
       "                       [ 0.4578],\n",
       "                       [ 0.3776],\n",
       "                       [-0.3234],\n",
       "                       [-0.4691],\n",
       "                       [ 0.0227],\n",
       "                       [ 0.1857],\n",
       "                       [-0.4858],\n",
       "                       [-0.4268],\n",
       "                       [ 0.0488]]], device='cuda:0')),\n",
       "             ('module.model.model.1.convs.1.bias',\n",
       "              tensor([-7.1997e-05,  3.5309e-03,  1.2893e-02, -2.7617e-04, -1.1739e-02,\n",
       "                       1.2863e-02, -4.2643e-03,  2.7021e-03, -3.1958e-03,  1.9965e-03,\n",
       "                      -2.7477e-03,  9.1755e-03,  6.2552e-03, -1.1526e-03,  3.6801e-03,\n",
       "                      -4.7896e-03], device='cuda:0')),\n",
       "             ('module.model.model.1.convs.2.weight',\n",
       "              tensor([[[-4.7283e-01],\n",
       "                       [ 2.7994e-01],\n",
       "                       [ 1.5832e-01],\n",
       "                       [-2.1467e-01],\n",
       "                       [-3.9200e-01],\n",
       "                       [ 2.4523e-01],\n",
       "                       [ 4.6961e-01],\n",
       "                       [-5.3160e-02],\n",
       "                       [-6.8112e-01],\n",
       "                       [-1.9059e-02],\n",
       "                       [-3.2710e-01],\n",
       "                       [ 6.4341e-02],\n",
       "                       [-4.7866e-01],\n",
       "                       [-1.4461e-01],\n",
       "                       [-9.7150e-02],\n",
       "                       [ 7.4463e-02]],\n",
       "              \n",
       "                      [[-5.6847e-01],\n",
       "                       [ 2.9669e-01],\n",
       "                       [-4.6177e-01],\n",
       "                       [ 5.1150e-01],\n",
       "                       [-3.8808e-01],\n",
       "                       [-5.4909e-01],\n",
       "                       [ 2.5884e-01],\n",
       "                       [ 5.1910e-01],\n",
       "                       [-5.6069e-01],\n",
       "                       [ 3.8757e-01],\n",
       "                       [-4.3110e-01],\n",
       "                       [-2.4238e-01],\n",
       "                       [-6.6358e-01],\n",
       "                       [ 5.1501e-02],\n",
       "                       [-5.3426e-01],\n",
       "                       [-4.5674e-01]],\n",
       "              \n",
       "                      [[-4.5131e-01],\n",
       "                       [ 4.6779e-01],\n",
       "                       [ 6.3316e-02],\n",
       "                       [ 9.0424e-03],\n",
       "                       [-5.7311e-01],\n",
       "                       [-3.6877e-04],\n",
       "                       [ 3.9033e-02],\n",
       "                       [ 5.9120e-01],\n",
       "                       [ 5.0534e-02],\n",
       "                       [ 8.8224e-02],\n",
       "                       [ 5.4175e-01],\n",
       "                       [-6.4557e-01],\n",
       "                       [ 1.4732e-01],\n",
       "                       [-9.7249e-02],\n",
       "                       [ 3.7944e-01],\n",
       "                       [ 5.1883e-01]],\n",
       "              \n",
       "                      [[-1.7158e-01],\n",
       "                       [ 2.9116e-02],\n",
       "                       [-4.1747e-01],\n",
       "                       [ 3.3992e-01],\n",
       "                       [ 1.0506e-01],\n",
       "                       [-3.8698e-02],\n",
       "                       [-1.6201e-01],\n",
       "                       [-1.6799e-02],\n",
       "                       [-7.8720e-02],\n",
       "                       [ 1.4464e-01],\n",
       "                       [ 9.8667e-02],\n",
       "                       [ 2.6395e-01],\n",
       "                       [ 1.9845e-01],\n",
       "                       [ 1.1240e-01],\n",
       "                       [-4.4468e-01],\n",
       "                       [ 1.6936e-01]],\n",
       "              \n",
       "                      [[ 1.3855e-02],\n",
       "                       [-9.0398e-02],\n",
       "                       [-5.5000e-01],\n",
       "                       [-4.0034e-01],\n",
       "                       [ 2.1372e-01],\n",
       "                       [ 8.8599e-02],\n",
       "                       [ 6.7120e-01],\n",
       "                       [ 1.9108e-01],\n",
       "                       [-2.9238e-02],\n",
       "                       [ 1.0757e-01],\n",
       "                       [ 4.4538e-01],\n",
       "                       [-3.9734e-01],\n",
       "                       [ 1.6068e-01],\n",
       "                       [-6.0469e-02],\n",
       "                       [ 6.4740e-01],\n",
       "                       [-4.9207e-01]],\n",
       "              \n",
       "                      [[-3.5769e-01],\n",
       "                       [ 7.7445e-03],\n",
       "                       [ 2.8734e-01],\n",
       "                       [ 6.2935e-01],\n",
       "                       [-6.1369e-01],\n",
       "                       [-2.4244e-01],\n",
       "                       [ 5.2124e-01],\n",
       "                       [ 3.2325e-01],\n",
       "                       [ 1.8392e-01],\n",
       "                       [ 2.2613e-01],\n",
       "                       [ 4.9819e-01],\n",
       "                       [-1.4236e-01],\n",
       "                       [-3.7286e-01],\n",
       "                       [-6.3607e-01],\n",
       "                       [ 1.4501e-01],\n",
       "                       [ 4.7046e-01]],\n",
       "              \n",
       "                      [[-2.4214e-01],\n",
       "                       [ 2.4951e-02],\n",
       "                       [ 2.8685e-01],\n",
       "                       [-5.5793e-01],\n",
       "                       [ 7.2554e-02],\n",
       "                       [-3.9648e-01],\n",
       "                       [-2.3758e-01],\n",
       "                       [-5.1827e-01],\n",
       "                       [ 2.7689e-01],\n",
       "                       [ 1.1977e-01],\n",
       "                       [-1.7217e-01],\n",
       "                       [-3.6531e-01],\n",
       "                       [ 1.4502e-02],\n",
       "                       [ 4.9951e-01],\n",
       "                       [ 4.5471e-01],\n",
       "                       [-4.6223e-01]],\n",
       "              \n",
       "                      [[ 1.8096e-01],\n",
       "                       [ 4.0865e-01],\n",
       "                       [-5.3927e-01],\n",
       "                       [ 4.1877e-01],\n",
       "                       [-4.7279e-01],\n",
       "                       [-2.2348e-01],\n",
       "                       [-4.6263e-01],\n",
       "                       [-1.0476e-01],\n",
       "                       [-7.4548e-02],\n",
       "                       [-2.2593e-01],\n",
       "                       [-9.4560e-02],\n",
       "                       [ 1.1547e-01],\n",
       "                       [-1.3553e-01],\n",
       "                       [-5.5965e-01],\n",
       "                       [-2.2012e-01],\n",
       "                       [ 2.8972e-01]],\n",
       "              \n",
       "                      [[-1.3380e-01],\n",
       "                       [-4.6075e-01],\n",
       "                       [ 5.9987e-01],\n",
       "                       [ 1.0035e-01],\n",
       "                       [ 2.3659e-01],\n",
       "                       [-4.9762e-02],\n",
       "                       [-8.9249e-02],\n",
       "                       [-4.6977e-02],\n",
       "                       [-6.1493e-01],\n",
       "                       [-4.9353e-01],\n",
       "                       [ 7.5950e-02],\n",
       "                       [ 9.5264e-02],\n",
       "                       [-4.7566e-01],\n",
       "                       [ 4.4429e-01],\n",
       "                       [ 3.2677e-01],\n",
       "                       [ 5.5268e-01]],\n",
       "              \n",
       "                      [[-2.3664e-01],\n",
       "                       [ 4.3734e-01],\n",
       "                       [-8.5220e-02],\n",
       "                       [ 3.8000e-01],\n",
       "                       [ 2.2959e-01],\n",
       "                       [-4.4096e-01],\n",
       "                       [-3.4223e-01],\n",
       "                       [-5.1596e-01],\n",
       "                       [ 2.9794e-01],\n",
       "                       [ 5.3092e-01],\n",
       "                       [-1.7060e-01],\n",
       "                       [-4.1341e-02],\n",
       "                       [-1.3358e-01],\n",
       "                       [ 4.5985e-01],\n",
       "                       [-4.3902e-01],\n",
       "                       [ 4.4512e-01]],\n",
       "              \n",
       "                      [[ 6.1054e-03],\n",
       "                       [ 1.3447e-01],\n",
       "                       [ 1.1669e-01],\n",
       "                       [ 4.3856e-01],\n",
       "                       [ 2.7802e-01],\n",
       "                       [-3.8759e-01],\n",
       "                       [ 1.3554e-01],\n",
       "                       [-5.9736e-01],\n",
       "                       [-2.6113e-01],\n",
       "                       [-1.8606e-01],\n",
       "                       [ 4.7964e-01],\n",
       "                       [ 6.6662e-03],\n",
       "                       [ 4.6568e-01],\n",
       "                       [-1.0969e-01],\n",
       "                       [ 3.8556e-01],\n",
       "                       [-1.5769e-01]],\n",
       "              \n",
       "                      [[ 4.6596e-01],\n",
       "                       [-2.4255e-02],\n",
       "                       [-5.5613e-01],\n",
       "                       [-4.0594e-02],\n",
       "                       [ 4.7533e-01],\n",
       "                       [-3.7124e-01],\n",
       "                       [ 1.1022e-01],\n",
       "                       [-5.4170e-01],\n",
       "                       [-1.1611e-01],\n",
       "                       [ 2.7370e-01],\n",
       "                       [-4.9464e-01],\n",
       "                       [-5.1379e-01],\n",
       "                       [ 3.3660e-01],\n",
       "                       [-2.5437e-02],\n",
       "                       [ 5.1269e-02],\n",
       "                       [ 3.5865e-01]],\n",
       "              \n",
       "                      [[ 5.6587e-01],\n",
       "                       [-7.7003e-02],\n",
       "                       [-6.2562e-01],\n",
       "                       [-8.4247e-02],\n",
       "                       [ 3.1533e-02],\n",
       "                       [ 4.9681e-01],\n",
       "                       [-1.1508e-01],\n",
       "                       [ 3.2371e-01],\n",
       "                       [-4.3123e-01],\n",
       "                       [-2.5605e-01],\n",
       "                       [ 6.1694e-01],\n",
       "                       [ 6.4521e-02],\n",
       "                       [-1.1828e-01],\n",
       "                       [-2.3209e-01],\n",
       "                       [ 2.8537e-01],\n",
       "                       [-4.1467e-01]],\n",
       "              \n",
       "                      [[ 2.4823e-01],\n",
       "                       [ 4.2427e-01],\n",
       "                       [-1.8029e-01],\n",
       "                       [-5.7834e-01],\n",
       "                       [-5.8103e-01],\n",
       "                       [-2.6977e-01],\n",
       "                       [ 2.2258e-02],\n",
       "                       [ 5.2492e-02],\n",
       "                       [ 3.8443e-01],\n",
       "                       [ 4.1692e-01],\n",
       "                       [-5.2769e-01],\n",
       "                       [ 4.3122e-01],\n",
       "                       [-2.8554e-01],\n",
       "                       [ 4.1015e-01],\n",
       "                       [-7.6359e-02],\n",
       "                       [ 2.4903e-01]],\n",
       "              \n",
       "                      [[ 2.0495e-01],\n",
       "                       [ 5.7612e-01],\n",
       "                       [ 1.5361e-01],\n",
       "                       [ 5.2000e-01],\n",
       "                       [ 1.9968e-01],\n",
       "                       [-1.4030e-01],\n",
       "                       [ 3.2296e-01],\n",
       "                       [ 5.1417e-01],\n",
       "                       [-4.7574e-01],\n",
       "                       [ 2.9676e-01],\n",
       "                       [-1.3221e-01],\n",
       "                       [ 4.6338e-02],\n",
       "                       [ 3.1313e-01],\n",
       "                       [ 4.2365e-01],\n",
       "                       [ 3.1032e-01],\n",
       "                       [-4.5776e-01]],\n",
       "              \n",
       "                      [[-1.7831e-01],\n",
       "                       [-6.2494e-01],\n",
       "                       [-3.1072e-02],\n",
       "                       [ 4.9032e-01],\n",
       "                       [-4.3092e-01],\n",
       "                       [-3.6071e-01],\n",
       "                       [-3.1577e-01],\n",
       "                       [-3.1361e-01],\n",
       "                       [-2.7783e-01],\n",
       "                       [-1.4611e-03],\n",
       "                       [-3.4145e-01],\n",
       "                       [ 2.9145e-01],\n",
       "                       [ 2.8774e-02],\n",
       "                       [-4.1310e-01],\n",
       "                       [-6.3123e-01],\n",
       "                       [ 4.5916e-01]]], device='cuda:0')),\n",
       "             ('module.model.model.1.convs.2.bias',\n",
       "              tensor([-0.0060,  0.0146,  0.0011,  0.0110,  0.0048,  0.0070,  0.0107,  0.0082,\n",
       "                       0.0091,  0.0033, -0.0207,  0.0253,  0.0189,  0.0052, -0.0021,  0.0045],\n",
       "                     device='cuda:0')),\n",
       "             ('module.model.model.1.convs.3.weight',\n",
       "              tensor([[[ 1.3846e-01],\n",
       "                       [-4.8061e-01],\n",
       "                       [ 3.7490e-01],\n",
       "                       [ 5.8181e-01],\n",
       "                       [ 2.5836e-01],\n",
       "                       [ 2.9418e-01],\n",
       "                       [-2.0232e-01],\n",
       "                       [-2.3838e-01],\n",
       "                       [-3.2581e-01],\n",
       "                       [-4.8518e-01],\n",
       "                       [ 1.7651e-03],\n",
       "                       [ 3.8637e-01],\n",
       "                       [-3.5379e-01],\n",
       "                       [-1.6896e-01],\n",
       "                       [ 4.9220e-01],\n",
       "                       [-4.6385e-01]],\n",
       "              \n",
       "                      [[-5.7377e-01],\n",
       "                       [ 4.9026e-01],\n",
       "                       [ 4.2617e-01],\n",
       "                       [-4.7255e-01],\n",
       "                       [ 1.5020e-01],\n",
       "                       [ 6.0722e-05],\n",
       "                       [ 9.2485e-02],\n",
       "                       [-1.6301e-01],\n",
       "                       [-3.8183e-01],\n",
       "                       [-3.8912e-01],\n",
       "                       [-4.8079e-01],\n",
       "                       [ 4.2080e-01],\n",
       "                       [-3.5754e-01],\n",
       "                       [ 2.7375e-01],\n",
       "                       [-3.5717e-02],\n",
       "                       [-2.3657e-01]],\n",
       "              \n",
       "                      [[ 7.7762e-02],\n",
       "                       [ 4.5478e-01],\n",
       "                       [ 1.9959e-01],\n",
       "                       [ 3.7379e-01],\n",
       "                       [-4.6603e-01],\n",
       "                       [ 5.3343e-01],\n",
       "                       [ 2.6915e-01],\n",
       "                       [-1.7549e-01],\n",
       "                       [-5.1449e-01],\n",
       "                       [ 3.8901e-01],\n",
       "                       [-4.1855e-02],\n",
       "                       [-2.4320e-01],\n",
       "                       [ 4.9805e-01],\n",
       "                       [ 5.4174e-01],\n",
       "                       [ 2.5521e-01],\n",
       "                       [-4.5911e-01]],\n",
       "              \n",
       "                      [[-1.3683e-01],\n",
       "                       [-4.1500e-01],\n",
       "                       [ 4.8392e-01],\n",
       "                       [-4.1147e-01],\n",
       "                       [ 4.4351e-01],\n",
       "                       [ 4.6557e-01],\n",
       "                       [-1.9053e-01],\n",
       "                       [ 2.2396e-01],\n",
       "                       [ 3.6316e-01],\n",
       "                       [-4.8373e-01],\n",
       "                       [ 5.4286e-01],\n",
       "                       [ 5.6347e-02],\n",
       "                       [-3.9782e-01],\n",
       "                       [-4.0626e-01],\n",
       "                       [-1.6897e-01],\n",
       "                       [-4.5707e-01]],\n",
       "              \n",
       "                      [[-5.7252e-01],\n",
       "                       [ 4.3283e-01],\n",
       "                       [ 5.7006e-01],\n",
       "                       [ 1.1775e-01],\n",
       "                       [-5.9500e-01],\n",
       "                       [-4.4390e-01],\n",
       "                       [-1.0110e-01],\n",
       "                       [-2.8215e-01],\n",
       "                       [ 4.0335e-01],\n",
       "                       [-3.1541e-01],\n",
       "                       [ 1.6432e-01],\n",
       "                       [-7.4332e-02],\n",
       "                       [ 2.4108e-01],\n",
       "                       [ 3.0840e-01],\n",
       "                       [ 5.8419e-01],\n",
       "                       [-2.6640e-01]],\n",
       "              \n",
       "                      [[-1.3231e-01],\n",
       "                       [-3.6682e-01],\n",
       "                       [-5.2164e-02],\n",
       "                       [-1.8445e-01],\n",
       "                       [-2.8149e-01],\n",
       "                       [ 2.0064e-01],\n",
       "                       [ 3.4456e-01],\n",
       "                       [ 5.6518e-01],\n",
       "                       [-3.6910e-02],\n",
       "                       [ 3.3149e-01],\n",
       "                       [-2.1203e-02],\n",
       "                       [ 1.9264e-01],\n",
       "                       [-3.0651e-01],\n",
       "                       [-5.1701e-01],\n",
       "                       [ 1.1052e-01],\n",
       "                       [-1.8340e-01]],\n",
       "              \n",
       "                      [[ 8.1786e-02],\n",
       "                       [ 2.1394e-01],\n",
       "                       [-5.4009e-01],\n",
       "                       [-4.1437e-02],\n",
       "                       [-4.2466e-01],\n",
       "                       [-1.6432e-01],\n",
       "                       [ 3.9350e-01],\n",
       "                       [-1.3878e-01],\n",
       "                       [-2.8276e-01],\n",
       "                       [ 7.2214e-02],\n",
       "                       [-1.9037e-01],\n",
       "                       [-2.7011e-01],\n",
       "                       [-2.6558e-01],\n",
       "                       [-2.2222e-01],\n",
       "                       [ 4.7844e-01],\n",
       "                       [-3.7913e-01]],\n",
       "              \n",
       "                      [[ 1.7550e-01],\n",
       "                       [ 2.6417e-01],\n",
       "                       [ 1.0635e-01],\n",
       "                       [-1.5317e-01],\n",
       "                       [ 2.0375e-01],\n",
       "                       [ 5.0874e-01],\n",
       "                       [-5.7840e-01],\n",
       "                       [-2.3312e-01],\n",
       "                       [-9.6816e-02],\n",
       "                       [-2.8434e-01],\n",
       "                       [-1.3155e-01],\n",
       "                       [-4.1886e-01],\n",
       "                       [ 4.4641e-01],\n",
       "                       [-1.8144e-01],\n",
       "                       [-3.0317e-01],\n",
       "                       [ 5.6925e-01]],\n",
       "              \n",
       "                      [[ 3.7652e-01],\n",
       "                       [ 4.4279e-01],\n",
       "                       [ 4.7288e-01],\n",
       "                       [ 3.5458e-01],\n",
       "                       [ 5.8733e-01],\n",
       "                       [ 3.4382e-01],\n",
       "                       [-2.5135e-01],\n",
       "                       [-3.2184e-01],\n",
       "                       [-4.4433e-03],\n",
       "                       [-2.6681e-01],\n",
       "                       [-2.2372e-01],\n",
       "                       [-1.9846e-01],\n",
       "                       [ 4.2728e-01],\n",
       "                       [-1.6302e-02],\n",
       "                       [ 3.0013e-01],\n",
       "                       [ 2.8946e-01]],\n",
       "              \n",
       "                      [[-1.9009e-01],\n",
       "                       [ 2.2974e-01],\n",
       "                       [-4.9401e-01],\n",
       "                       [-3.4551e-01],\n",
       "                       [ 5.3536e-01],\n",
       "                       [-5.3538e-01],\n",
       "                       [-5.3045e-01],\n",
       "                       [-1.5734e-01],\n",
       "                       [ 3.8713e-01],\n",
       "                       [-5.5536e-01],\n",
       "                       [-5.5935e-01],\n",
       "                       [-2.5138e-01],\n",
       "                       [ 1.8975e-01],\n",
       "                       [-5.6083e-01],\n",
       "                       [-1.7112e-01],\n",
       "                       [-3.1529e-01]],\n",
       "              \n",
       "                      [[ 5.9997e-01],\n",
       "                       [ 1.7526e-01],\n",
       "                       [ 9.7260e-02],\n",
       "                       [ 1.2632e-01],\n",
       "                       [-2.6014e-01],\n",
       "                       [-8.8783e-02],\n",
       "                       [-3.5261e-01],\n",
       "                       [-3.8475e-01],\n",
       "                       [-6.6322e-02],\n",
       "                       [-2.3862e-01],\n",
       "                       [-4.8797e-01],\n",
       "                       [-4.4066e-01],\n",
       "                       [-3.6555e-01],\n",
       "                       [-3.6890e-01],\n",
       "                       [ 4.5042e-02],\n",
       "                       [ 2.9792e-01]],\n",
       "              \n",
       "                      [[-2.1474e-01],\n",
       "                       [-3.5102e-02],\n",
       "                       [-3.3196e-02],\n",
       "                       [ 5.4882e-01],\n",
       "                       [-3.7750e-01],\n",
       "                       [-1.8181e-01],\n",
       "                       [-5.3254e-01],\n",
       "                       [ 1.7827e-01],\n",
       "                       [ 5.0414e-01],\n",
       "                       [-4.1238e-01],\n",
       "                       [-1.6277e-01],\n",
       "                       [ 4.0722e-01],\n",
       "                       [ 5.7896e-01],\n",
       "                       [ 5.2997e-02],\n",
       "                       [-5.7341e-01],\n",
       "                       [ 8.6218e-02]],\n",
       "              \n",
       "                      [[ 1.3828e-01],\n",
       "                       [-1.1153e-01],\n",
       "                       [-1.7980e-01],\n",
       "                       [-4.0783e-01],\n",
       "                       [-5.4590e-01],\n",
       "                       [-4.4705e-01],\n",
       "                       [ 5.1302e-01],\n",
       "                       [-8.4086e-02],\n",
       "                       [ 6.9266e-01],\n",
       "                       [-6.3020e-01],\n",
       "                       [ 3.5647e-01],\n",
       "                       [-6.8104e-01],\n",
       "                       [-1.0506e-01],\n",
       "                       [ 2.8447e-01],\n",
       "                       [-4.1927e-01],\n",
       "                       [ 1.0196e-01]],\n",
       "              \n",
       "                      [[ 2.7127e-01],\n",
       "                       [ 2.7259e-01],\n",
       "                       [ 5.4492e-01],\n",
       "                       [-4.4789e-01],\n",
       "                       [ 3.3843e-01],\n",
       "                       [ 5.8700e-01],\n",
       "                       [-3.3123e-01],\n",
       "                       [ 4.1495e-01],\n",
       "                       [ 1.3581e-01],\n",
       "                       [-4.4868e-01],\n",
       "                       [-1.6112e-01],\n",
       "                       [-3.5524e-01],\n",
       "                       [-4.7095e-01],\n",
       "                       [ 1.6970e-01],\n",
       "                       [-6.3689e-02],\n",
       "                       [-1.6205e-01]],\n",
       "              \n",
       "                      [[ 2.1488e-01],\n",
       "                       [ 3.7838e-01],\n",
       "                       [-1.0949e-01],\n",
       "                       [ 3.4881e-01],\n",
       "                       [-6.2722e-02],\n",
       "                       [-4.4142e-01],\n",
       "                       [-1.0346e-01],\n",
       "                       [ 3.6004e-01],\n",
       "                       [ 1.4088e-01],\n",
       "                       [ 6.3270e-01],\n",
       "                       [-4.7846e-01],\n",
       "                       [-3.7318e-01],\n",
       "                       [-5.2834e-01],\n",
       "                       [ 3.4730e-02],\n",
       "                       [ 3.0384e-03],\n",
       "                       [ 2.1869e-01]],\n",
       "              \n",
       "                      [[ 5.4768e-01],\n",
       "                       [ 3.6173e-01],\n",
       "                       [ 7.2769e-02],\n",
       "                       [ 5.0945e-01],\n",
       "                       [-1.0626e-01],\n",
       "                       [ 5.4929e-01],\n",
       "                       [ 1.6455e-01],\n",
       "                       [-5.9011e-02],\n",
       "                       [-3.8234e-01],\n",
       "                       [ 6.6563e-02],\n",
       "                       [-5.6921e-01],\n",
       "                       [-2.3392e-01],\n",
       "                       [-7.3699e-03],\n",
       "                       [ 4.7833e-01],\n",
       "                       [ 5.4941e-01],\n",
       "                       [-3.3631e-01]]], device='cuda:0')),\n",
       "             ('module.model.model.1.convs.3.bias',\n",
       "              tensor([-1.1803e-02,  6.8317e-03,  1.6303e-02,  1.8398e-02,  9.7119e-03,\n",
       "                      -9.1915e-03,  1.0866e-03, -7.3693e-03, -4.9535e-03, -7.6734e-03,\n",
       "                       1.4441e-02, -7.1297e-05, -2.1249e-02, -4.3472e-03, -2.9778e-03,\n",
       "                      -2.0729e-02], device='cuda:0')),\n",
       "             ('module.model.model.1.convs.4.weight',\n",
       "              tensor([[[ 0.4169],\n",
       "                       [-0.0169],\n",
       "                       [-0.3730],\n",
       "                       [ 0.0540],\n",
       "                       [ 0.4307],\n",
       "                       [-0.2280],\n",
       "                       [-0.3387],\n",
       "                       [ 0.2939],\n",
       "                       [-0.2177],\n",
       "                       [ 0.0609],\n",
       "                       [ 0.1754],\n",
       "                       [-0.4689],\n",
       "                       [-0.2336],\n",
       "                       [ 0.4387],\n",
       "                       [-0.4928],\n",
       "                       [ 0.0222]],\n",
       "              \n",
       "                      [[ 0.3036],\n",
       "                       [-0.3797],\n",
       "                       [-0.2714],\n",
       "                       [-0.4227],\n",
       "                       [ 0.6292],\n",
       "                       [ 0.3754],\n",
       "                       [ 0.0452],\n",
       "                       [ 0.0970],\n",
       "                       [-0.1735],\n",
       "                       [ 0.4295],\n",
       "                       [ 0.3178],\n",
       "                       [-0.4236],\n",
       "                       [ 0.5498],\n",
       "                       [-0.2489],\n",
       "                       [ 0.2818],\n",
       "                       [ 0.3320]],\n",
       "              \n",
       "                      [[-0.4921],\n",
       "                       [ 0.2437],\n",
       "                       [ 0.4345],\n",
       "                       [-0.0428],\n",
       "                       [ 0.5765],\n",
       "                       [-0.3797],\n",
       "                       [-0.0353],\n",
       "                       [-0.3025],\n",
       "                       [ 0.3055],\n",
       "                       [-0.3301],\n",
       "                       [ 0.3109],\n",
       "                       [-0.3865],\n",
       "                       [-0.1202],\n",
       "                       [-0.3129],\n",
       "                       [ 0.1712],\n",
       "                       [ 0.2706]],\n",
       "              \n",
       "                      [[ 0.2018],\n",
       "                       [ 0.4575],\n",
       "                       [-0.2763],\n",
       "                       [-0.5241],\n",
       "                       [-0.2000],\n",
       "                       [-0.2067],\n",
       "                       [ 0.1557],\n",
       "                       [-0.1661],\n",
       "                       [ 0.4338],\n",
       "                       [ 0.0906],\n",
       "                       [ 0.2427],\n",
       "                       [ 0.3234],\n",
       "                       [ 0.4864],\n",
       "                       [ 0.5684],\n",
       "                       [ 0.3427],\n",
       "                       [-0.1722]],\n",
       "              \n",
       "                      [[ 0.0376],\n",
       "                       [-0.4560],\n",
       "                       [ 0.5220],\n",
       "                       [-0.3783],\n",
       "                       [-0.4434],\n",
       "                       [-0.5504],\n",
       "                       [ 0.0863],\n",
       "                       [ 0.2063],\n",
       "                       [ 0.0312],\n",
       "                       [ 0.0890],\n",
       "                       [ 0.1588],\n",
       "                       [-0.4380],\n",
       "                       [-0.0878],\n",
       "                       [-0.3612],\n",
       "                       [-0.0881],\n",
       "                       [-0.0284]],\n",
       "              \n",
       "                      [[ 0.3932],\n",
       "                       [-0.2203],\n",
       "                       [ 0.4338],\n",
       "                       [ 0.3581],\n",
       "                       [ 0.4703],\n",
       "                       [ 0.3444],\n",
       "                       [ 0.5176],\n",
       "                       [ 0.1528],\n",
       "                       [ 0.0059],\n",
       "                       [-0.6213],\n",
       "                       [-0.1011],\n",
       "                       [-0.0287],\n",
       "                       [-0.1761],\n",
       "                       [-0.3308],\n",
       "                       [ 0.3671],\n",
       "                       [-0.5062]],\n",
       "              \n",
       "                      [[-0.1183],\n",
       "                       [-0.3561],\n",
       "                       [ 0.1530],\n",
       "                       [-0.4029],\n",
       "                       [ 0.2959],\n",
       "                       [ 0.2659],\n",
       "                       [-0.0027],\n",
       "                       [-0.0036],\n",
       "                       [-0.4628],\n",
       "                       [-0.2685],\n",
       "                       [ 0.4338],\n",
       "                       [ 0.1725],\n",
       "                       [-0.0959],\n",
       "                       [-0.0281],\n",
       "                       [ 0.3688],\n",
       "                       [-0.3343]],\n",
       "              \n",
       "                      [[-0.6946],\n",
       "                       [-0.3462],\n",
       "                       [-0.2231],\n",
       "                       [-0.0030],\n",
       "                       [ 0.2384],\n",
       "                       [-0.2589],\n",
       "                       [ 0.3854],\n",
       "                       [ 0.1624],\n",
       "                       [-0.0392],\n",
       "                       [ 0.0762],\n",
       "                       [ 0.3923],\n",
       "                       [-0.4433],\n",
       "                       [-0.1301],\n",
       "                       [ 0.5162],\n",
       "                       [-0.5570],\n",
       "                       [-0.4441]],\n",
       "              \n",
       "                      [[-0.0081],\n",
       "                       [ 0.0286],\n",
       "                       [ 0.5072],\n",
       "                       [-0.1602],\n",
       "                       [-0.1018],\n",
       "                       [ 0.3879],\n",
       "                       [ 0.4106],\n",
       "                       [-0.3492],\n",
       "                       [-0.1938],\n",
       "                       [-0.1273],\n",
       "                       [-0.5086],\n",
       "                       [ 0.1084],\n",
       "                       [-0.2010],\n",
       "                       [ 0.2264],\n",
       "                       [-0.2138],\n",
       "                       [ 0.0604]],\n",
       "              \n",
       "                      [[ 0.2919],\n",
       "                       [-0.1835],\n",
       "                       [-0.0764],\n",
       "                       [-0.5360],\n",
       "                       [ 0.4492],\n",
       "                       [-0.2616],\n",
       "                       [-0.3282],\n",
       "                       [ 0.4402],\n",
       "                       [-0.4079],\n",
       "                       [ 0.0908],\n",
       "                       [-0.0546],\n",
       "                       [ 0.2255],\n",
       "                       [-0.3111],\n",
       "                       [ 0.3802],\n",
       "                       [ 0.3336],\n",
       "                       [ 0.5782]],\n",
       "              \n",
       "                      [[ 0.5759],\n",
       "                       [ 0.2535],\n",
       "                       [-0.1565],\n",
       "                       [-0.1112],\n",
       "                       [-0.0430],\n",
       "                       [ 0.2398],\n",
       "                       [ 0.0492],\n",
       "                       [-0.0365],\n",
       "                       [-0.4094],\n",
       "                       [ 0.0629],\n",
       "                       [ 0.0954],\n",
       "                       [ 0.3710],\n",
       "                       [-0.3766],\n",
       "                       [ 0.2978],\n",
       "                       [ 0.2459],\n",
       "                       [-0.1706]],\n",
       "              \n",
       "                      [[-0.5005],\n",
       "                       [ 0.1494],\n",
       "                       [-0.2878],\n",
       "                       [ 0.3428],\n",
       "                       [-0.4397],\n",
       "                       [ 0.0899],\n",
       "                       [-0.3311],\n",
       "                       [-0.4920],\n",
       "                       [-0.5971],\n",
       "                       [-0.4070],\n",
       "                       [-0.2769],\n",
       "                       [-0.0899],\n",
       "                       [-0.3826],\n",
       "                       [-0.3833],\n",
       "                       [-0.1356],\n",
       "                       [-0.0300]],\n",
       "              \n",
       "                      [[-0.3020],\n",
       "                       [ 0.3193],\n",
       "                       [ 0.0804],\n",
       "                       [-0.2929],\n",
       "                       [-0.2344],\n",
       "                       [-0.1220],\n",
       "                       [-0.1451],\n",
       "                       [-0.0046],\n",
       "                       [ 0.1952],\n",
       "                       [ 0.1535],\n",
       "                       [-0.4645],\n",
       "                       [ 0.1913],\n",
       "                       [ 0.1577],\n",
       "                       [-0.2567],\n",
       "                       [-0.2297],\n",
       "                       [-0.5742]],\n",
       "              \n",
       "                      [[ 0.6186],\n",
       "                       [ 0.4087],\n",
       "                       [-0.0600],\n",
       "                       [ 0.2238],\n",
       "                       [-0.1883],\n",
       "                       [-0.4503],\n",
       "                       [-0.0306],\n",
       "                       [-0.0213],\n",
       "                       [ 0.0255],\n",
       "                       [ 0.1993],\n",
       "                       [ 0.3606],\n",
       "                       [ 0.4422],\n",
       "                       [ 0.3901],\n",
       "                       [ 0.4162],\n",
       "                       [-0.3782],\n",
       "                       [-0.2964]],\n",
       "              \n",
       "                      [[ 0.4671],\n",
       "                       [ 0.4470],\n",
       "                       [-0.2641],\n",
       "                       [-0.1483],\n",
       "                       [-0.4778],\n",
       "                       [-0.0579],\n",
       "                       [ 0.3278],\n",
       "                       [ 0.3109],\n",
       "                       [ 0.2617],\n",
       "                       [ 0.0784],\n",
       "                       [-0.5413],\n",
       "                       [-0.1579],\n",
       "                       [-0.2500],\n",
       "                       [-0.4014],\n",
       "                       [ 0.3850],\n",
       "                       [ 0.5047]],\n",
       "              \n",
       "                      [[ 0.6238],\n",
       "                       [ 0.1728],\n",
       "                       [ 0.3745],\n",
       "                       [ 0.0910],\n",
       "                       [ 0.1364],\n",
       "                       [ 0.3165],\n",
       "                       [-0.2541],\n",
       "                       [-0.2912],\n",
       "                       [-0.0877],\n",
       "                       [-0.1640],\n",
       "                       [-0.1862],\n",
       "                       [-0.3232],\n",
       "                       [-0.3433],\n",
       "                       [-0.5286],\n",
       "                       [-0.3620],\n",
       "                       [ 0.4256]]], device='cuda:0')),\n",
       "             ('module.model.model.1.convs.4.bias',\n",
       "              tensor([ 0.0030,  0.0035,  0.0020,  0.0054, -0.0078,  0.0059, -0.0084,  0.0023,\n",
       "                       0.0081,  0.0130, -0.0036, -0.0128,  0.0055,  0.0055, -0.0153,  0.0068],\n",
       "                     device='cuda:0')),\n",
       "             ('module.model.model.1.convs.5.weight',\n",
       "              tensor([[[-1.3094e-01],\n",
       "                       [-6.9449e-02],\n",
       "                       [-1.0551e-01],\n",
       "                       [ 1.4047e-01],\n",
       "                       [ 2.9953e-01],\n",
       "                       [-5.7646e-01],\n",
       "                       [-4.7582e-01],\n",
       "                       [-2.8679e-02],\n",
       "                       [ 1.6776e-01],\n",
       "                       [ 4.8900e-01],\n",
       "                       [-1.1602e-01],\n",
       "                       [-5.6721e-01],\n",
       "                       [ 3.3069e-01],\n",
       "                       [ 3.1611e-01],\n",
       "                       [-4.5973e-01],\n",
       "                       [ 2.2744e-01]],\n",
       "              \n",
       "                      [[-5.8227e-01],\n",
       "                       [-4.6157e-01],\n",
       "                       [ 4.5965e-01],\n",
       "                       [-2.5829e-01],\n",
       "                       [ 6.2077e-01],\n",
       "                       [-2.6533e-01],\n",
       "                       [ 3.0626e-01],\n",
       "                       [ 1.1877e-01],\n",
       "                       [-4.6436e-01],\n",
       "                       [-4.4678e-01],\n",
       "                       [-6.4180e-01],\n",
       "                       [-6.6145e-01],\n",
       "                       [ 7.1357e-02],\n",
       "                       [-1.7209e-01],\n",
       "                       [-2.5933e-01],\n",
       "                       [ 3.4131e-01]],\n",
       "              \n",
       "                      [[-4.0957e-01],\n",
       "                       [ 4.4065e-02],\n",
       "                       [-7.1405e-02],\n",
       "                       [-8.2370e-02],\n",
       "                       [-1.4623e-01],\n",
       "                       [-6.6349e-01],\n",
       "                       [ 1.1776e-01],\n",
       "                       [-8.0868e-02],\n",
       "                       [ 4.2654e-01],\n",
       "                       [-2.1065e-01],\n",
       "                       [ 1.8548e-01],\n",
       "                       [ 4.8605e-01],\n",
       "                       [ 4.2010e-01],\n",
       "                       [ 5.4770e-04],\n",
       "                       [-3.4025e-01],\n",
       "                       [-4.6464e-01]],\n",
       "              \n",
       "                      [[-9.1831e-02],\n",
       "                       [ 2.7502e-01],\n",
       "                       [ 8.0845e-02],\n",
       "                       [ 5.3479e-02],\n",
       "                       [-4.5783e-01],\n",
       "                       [ 4.4332e-01],\n",
       "                       [ 6.2072e-02],\n",
       "                       [ 1.1775e-01],\n",
       "                       [ 1.3560e-01],\n",
       "                       [-3.4178e-01],\n",
       "                       [-1.7398e-01],\n",
       "                       [-2.8095e-02],\n",
       "                       [ 4.0519e-02],\n",
       "                       [ 5.0434e-01],\n",
       "                       [ 9.7693e-02],\n",
       "                       [-5.7402e-01]],\n",
       "              \n",
       "                      [[-4.9491e-01],\n",
       "                       [-1.6456e-01],\n",
       "                       [ 6.0790e-01],\n",
       "                       [-8.6345e-02],\n",
       "                       [ 2.2683e-01],\n",
       "                       [-8.2239e-02],\n",
       "                       [ 1.5712e-02],\n",
       "                       [ 1.3420e-01],\n",
       "                       [-1.7035e-01],\n",
       "                       [-4.4044e-01],\n",
       "                       [ 2.4889e-01],\n",
       "                       [ 3.1377e-01],\n",
       "                       [ 1.4131e-01],\n",
       "                       [-4.9765e-01],\n",
       "                       [ 3.3972e-01],\n",
       "                       [ 1.4485e-01]],\n",
       "              \n",
       "                      [[-2.3669e-01],\n",
       "                       [ 5.5967e-01],\n",
       "                       [-5.9702e-01],\n",
       "                       [-7.5388e-02],\n",
       "                       [ 3.6668e-01],\n",
       "                       [-3.0972e-01],\n",
       "                       [-3.1021e-01],\n",
       "                       [-1.5064e-01],\n",
       "                       [ 2.8272e-01],\n",
       "                       [ 4.1636e-02],\n",
       "                       [-4.9490e-01],\n",
       "                       [-8.8513e-02],\n",
       "                       [ 3.9204e-01],\n",
       "                       [ 3.8613e-01],\n",
       "                       [-6.4101e-01],\n",
       "                       [ 3.8287e-01]],\n",
       "              \n",
       "                      [[-3.9774e-01],\n",
       "                       [ 3.1221e-01],\n",
       "                       [-5.6386e-01],\n",
       "                       [-3.9401e-01],\n",
       "                       [ 5.6396e-01],\n",
       "                       [ 1.1123e-01],\n",
       "                       [-2.3683e-01],\n",
       "                       [-2.1397e-01],\n",
       "                       [ 1.6212e-01],\n",
       "                       [ 2.0979e-01],\n",
       "                       [-2.3898e-01],\n",
       "                       [-4.8154e-01],\n",
       "                       [ 2.5749e-01],\n",
       "                       [-2.7119e-02],\n",
       "                       [-3.7283e-01],\n",
       "                       [ 2.6947e-01]],\n",
       "              \n",
       "                      [[-4.8828e-01],\n",
       "                       [-4.4507e-01],\n",
       "                       [-1.6801e-01],\n",
       "                       [-5.7311e-01],\n",
       "                       [-3.9693e-01],\n",
       "                       [-3.4345e-01],\n",
       "                       [ 2.4768e-01],\n",
       "                       [ 3.5763e-01],\n",
       "                       [ 3.3015e-01],\n",
       "                       [ 5.9487e-01],\n",
       "                       [ 7.3602e-02],\n",
       "                       [ 3.0571e-01],\n",
       "                       [-2.4415e-01],\n",
       "                       [-4.0088e-01],\n",
       "                       [ 3.1657e-01],\n",
       "                       [ 3.3679e-01]],\n",
       "              \n",
       "                      [[ 1.0981e-02],\n",
       "                       [-2.4508e-01],\n",
       "                       [-5.9020e-01],\n",
       "                       [-5.9739e-01],\n",
       "                       [-2.2963e-01],\n",
       "                       [ 3.3363e-01],\n",
       "                       [ 3.8162e-01],\n",
       "                       [ 5.8798e-02],\n",
       "                       [ 3.5318e-01],\n",
       "                       [ 1.9249e-01],\n",
       "                       [ 1.2460e-01],\n",
       "                       [ 2.9564e-01],\n",
       "                       [ 9.9885e-02],\n",
       "                       [-3.6825e-01],\n",
       "                       [-2.5710e-01],\n",
       "                       [ 3.9619e-01]],\n",
       "              \n",
       "                      [[ 4.2143e-02],\n",
       "                       [-6.3180e-02],\n",
       "                       [-4.0751e-01],\n",
       "                       [ 6.6135e-01],\n",
       "                       [ 8.0886e-02],\n",
       "                       [-4.4495e-01],\n",
       "                       [ 4.6142e-01],\n",
       "                       [ 2.4682e-01],\n",
       "                       [ 4.9717e-01],\n",
       "                       [ 5.3648e-01],\n",
       "                       [ 2.9560e-02],\n",
       "                       [ 1.8068e-01],\n",
       "                       [-3.8056e-01],\n",
       "                       [-5.3865e-01],\n",
       "                       [-2.4504e-01],\n",
       "                       [-5.0452e-02]],\n",
       "              \n",
       "                      [[-2.7486e-01],\n",
       "                       [-3.2310e-01],\n",
       "                       [-5.6760e-01],\n",
       "                       [ 4.5105e-01],\n",
       "                       [ 2.6402e-01],\n",
       "                       [-3.5677e-01],\n",
       "                       [-1.7734e-01],\n",
       "                       [ 4.4236e-01],\n",
       "                       [ 8.0191e-03],\n",
       "                       [ 1.7554e-01],\n",
       "                       [-2.3004e-01],\n",
       "                       [ 1.6872e-01],\n",
       "                       [ 4.6262e-01],\n",
       "                       [-4.7724e-01],\n",
       "                       [-2.7205e-01],\n",
       "                       [ 1.2683e-01]],\n",
       "              \n",
       "                      [[ 1.0186e-01],\n",
       "                       [-2.4031e-01],\n",
       "                       [-1.1011e-01],\n",
       "                       [-3.2767e-01],\n",
       "                       [-5.7649e-01],\n",
       "                       [ 3.5746e-01],\n",
       "                       [-2.5303e-01],\n",
       "                       [ 4.4035e-01],\n",
       "                       [-5.4664e-01],\n",
       "                       [ 3.4143e-01],\n",
       "                       [-2.8135e-02],\n",
       "                       [-2.4579e-01],\n",
       "                       [ 4.9837e-01],\n",
       "                       [ 5.0291e-01],\n",
       "                       [ 4.9589e-01],\n",
       "                       [-9.9108e-02]],\n",
       "              \n",
       "                      [[-2.0919e-01],\n",
       "                       [ 1.6293e-01],\n",
       "                       [-5.7096e-01],\n",
       "                       [ 1.5250e-01],\n",
       "                       [-1.7304e-01],\n",
       "                       [-3.0419e-01],\n",
       "                       [-5.3625e-01],\n",
       "                       [-4.6633e-01],\n",
       "                       [ 4.1873e-01],\n",
       "                       [ 5.2527e-01],\n",
       "                       [ 3.3026e-01],\n",
       "                       [-4.8992e-01],\n",
       "                       [ 3.0685e-01],\n",
       "                       [-1.5465e-01],\n",
       "                       [-4.1809e-01],\n",
       "                       [ 4.7356e-01]],\n",
       "              \n",
       "                      [[-3.0598e-01],\n",
       "                       [-2.3770e-01],\n",
       "                       [-3.7058e-01],\n",
       "                       [ 2.4490e-01],\n",
       "                       [-3.2014e-01],\n",
       "                       [-4.1144e-02],\n",
       "                       [ 5.2161e-01],\n",
       "                       [-4.4328e-01],\n",
       "                       [ 3.1941e-01],\n",
       "                       [ 3.4714e-01],\n",
       "                       [-2.2810e-01],\n",
       "                       [ 4.9007e-01],\n",
       "                       [ 3.8244e-01],\n",
       "                       [ 4.8577e-01],\n",
       "                       [ 5.3080e-01],\n",
       "                       [-5.0661e-01]],\n",
       "              \n",
       "                      [[ 4.8860e-01],\n",
       "                       [ 2.3673e-01],\n",
       "                       [-3.9719e-02],\n",
       "                       [-5.4657e-01],\n",
       "                       [ 1.6415e-01],\n",
       "                       [ 7.1679e-02],\n",
       "                       [-5.7084e-01],\n",
       "                       [-4.7481e-02],\n",
       "                       [-4.2448e-01],\n",
       "                       [-4.0239e-01],\n",
       "                       [-4.7259e-01],\n",
       "                       [-1.4909e-01],\n",
       "                       [-7.9678e-02],\n",
       "                       [ 1.7689e-01],\n",
       "                       [ 1.8017e-01],\n",
       "                       [ 4.2391e-01]],\n",
       "              \n",
       "                      [[ 3.4281e-01],\n",
       "                       [ 5.2866e-01],\n",
       "                       [ 3.8404e-01],\n",
       "                       [-5.7551e-01],\n",
       "                       [ 2.3829e-02],\n",
       "                       [ 4.6496e-01],\n",
       "                       [ 4.3912e-01],\n",
       "                       [-5.8050e-01],\n",
       "                       [ 2.1341e-01],\n",
       "                       [-4.2044e-01],\n",
       "                       [-4.4341e-02],\n",
       "                       [-2.7134e-01],\n",
       "                       [-1.0750e-01],\n",
       "                       [ 2.5701e-01],\n",
       "                       [ 3.8929e-01],\n",
       "                       [-2.3190e-01]]], device='cuda:0')),\n",
       "             ('module.model.model.1.convs.5.bias',\n",
       "              tensor([ 0.0031, -0.0211, -0.0125, -0.0134, -0.0139, -0.0042,  0.0034,  0.0100,\n",
       "                      -0.0065, -0.0094,  0.0030, -0.0308, -0.0039,  0.0118,  0.0127,  0.0271],\n",
       "                     device='cuda:0')),\n",
       "             ('module.model.model.1.convs.6.weight',\n",
       "              tensor([[[-0.2559],\n",
       "                       [-0.3747],\n",
       "                       [ 0.0135],\n",
       "                       [ 0.3034],\n",
       "                       [ 0.4464],\n",
       "                       [-0.4012],\n",
       "                       [ 0.1075],\n",
       "                       [ 0.3826],\n",
       "                       [ 0.6128],\n",
       "                       [ 0.5347],\n",
       "                       [-0.3973],\n",
       "                       [-0.5685],\n",
       "                       [-0.5867],\n",
       "                       [ 0.4409],\n",
       "                       [-0.3449],\n",
       "                       [ 0.4874]],\n",
       "              \n",
       "                      [[-0.6267],\n",
       "                       [-0.4209],\n",
       "                       [ 0.0400],\n",
       "                       [-0.1108],\n",
       "                       [-0.1348],\n",
       "                       [ 0.0565],\n",
       "                       [-0.0385],\n",
       "                       [-0.4696],\n",
       "                       [-0.4831],\n",
       "                       [ 0.3274],\n",
       "                       [ 0.1493],\n",
       "                       [ 0.4773],\n",
       "                       [ 0.0574],\n",
       "                       [-0.5711],\n",
       "                       [-0.2728],\n",
       "                       [-0.3360]],\n",
       "              \n",
       "                      [[ 0.1858],\n",
       "                       [-0.0631],\n",
       "                       [-0.0665],\n",
       "                       [ 0.1974],\n",
       "                       [ 0.0272],\n",
       "                       [ 0.3422],\n",
       "                       [-0.3881],\n",
       "                       [ 0.4814],\n",
       "                       [-0.3937],\n",
       "                       [ 0.5763],\n",
       "                       [-0.2336],\n",
       "                       [ 0.0389],\n",
       "                       [ 0.1178],\n",
       "                       [-0.2891],\n",
       "                       [ 0.0969],\n",
       "                       [ 0.1618]],\n",
       "              \n",
       "                      [[ 0.0492],\n",
       "                       [-0.4479],\n",
       "                       [-0.3274],\n",
       "                       [ 0.4331],\n",
       "                       [-0.0233],\n",
       "                       [ 0.1636],\n",
       "                       [-0.0783],\n",
       "                       [-0.2720],\n",
       "                       [-0.1193],\n",
       "                       [-0.0458],\n",
       "                       [ 0.6331],\n",
       "                       [-0.0632],\n",
       "                       [ 0.6039],\n",
       "                       [ 0.5543],\n",
       "                       [ 0.0916],\n",
       "                       [-0.3045]],\n",
       "              \n",
       "                      [[ 0.4581],\n",
       "                       [ 0.1808],\n",
       "                       [ 0.2356],\n",
       "                       [-0.3798],\n",
       "                       [ 0.1374],\n",
       "                       [-0.1896],\n",
       "                       [ 0.2127],\n",
       "                       [ 0.1982],\n",
       "                       [ 0.3355],\n",
       "                       [-0.4405],\n",
       "                       [ 0.4841],\n",
       "                       [ 0.1938],\n",
       "                       [ 0.5689],\n",
       "                       [ 0.0309],\n",
       "                       [ 0.4156],\n",
       "                       [-0.1082]],\n",
       "              \n",
       "                      [[-0.5121],\n",
       "                       [ 0.2026],\n",
       "                       [ 0.4218],\n",
       "                       [ 0.2192],\n",
       "                       [-0.1711],\n",
       "                       [-0.2634],\n",
       "                       [ 0.2877],\n",
       "                       [ 0.4421],\n",
       "                       [-0.2660],\n",
       "                       [-0.5214],\n",
       "                       [-0.1365],\n",
       "                       [ 0.1072],\n",
       "                       [-0.4884],\n",
       "                       [-0.4512],\n",
       "                       [-0.1500],\n",
       "                       [ 0.2906]],\n",
       "              \n",
       "                      [[ 0.3457],\n",
       "                       [ 0.0633],\n",
       "                       [ 0.5804],\n",
       "                       [ 0.2874],\n",
       "                       [-0.2335],\n",
       "                       [ 0.3401],\n",
       "                       [-0.5296],\n",
       "                       [ 0.0082],\n",
       "                       [-0.4642],\n",
       "                       [-0.0588],\n",
       "                       [-0.0008],\n",
       "                       [ 0.2152],\n",
       "                       [ 0.2498],\n",
       "                       [-0.4348],\n",
       "                       [ 0.1707],\n",
       "                       [ 0.3424]],\n",
       "              \n",
       "                      [[-0.2007],\n",
       "                       [-0.2226],\n",
       "                       [-0.4777],\n",
       "                       [ 0.4766],\n",
       "                       [ 0.2945],\n",
       "                       [-0.5235],\n",
       "                       [ 0.4888],\n",
       "                       [ 0.3930],\n",
       "                       [-0.0394],\n",
       "                       [ 0.1693],\n",
       "                       [-0.4675],\n",
       "                       [ 0.5680],\n",
       "                       [-0.0105],\n",
       "                       [-0.0191],\n",
       "                       [-0.5994],\n",
       "                       [-0.4006]],\n",
       "              \n",
       "                      [[ 0.3574],\n",
       "                       [ 0.4343],\n",
       "                       [ 0.4062],\n",
       "                       [-0.3830],\n",
       "                       [ 0.1448],\n",
       "                       [-0.0408],\n",
       "                       [-0.3251],\n",
       "                       [ 0.5411],\n",
       "                       [ 0.0889],\n",
       "                       [ 0.0756],\n",
       "                       [ 0.2695],\n",
       "                       [ 0.4780],\n",
       "                       [-0.4621],\n",
       "                       [ 0.0461],\n",
       "                       [ 0.0513],\n",
       "                       [-0.2927]],\n",
       "              \n",
       "                      [[-0.0880],\n",
       "                       [ 0.0314],\n",
       "                       [-0.4710],\n",
       "                       [-0.0222],\n",
       "                       [-0.1281],\n",
       "                       [ 0.5123],\n",
       "                       [ 0.0434],\n",
       "                       [-0.2775],\n",
       "                       [ 0.1878],\n",
       "                       [-0.2968],\n",
       "                       [-0.1831],\n",
       "                       [ 0.5632],\n",
       "                       [ 0.4492],\n",
       "                       [-0.2057],\n",
       "                       [-0.3229],\n",
       "                       [ 0.4748]],\n",
       "              \n",
       "                      [[-0.4124],\n",
       "                       [ 0.3852],\n",
       "                       [-0.3016],\n",
       "                       [ 0.0894],\n",
       "                       [-0.4285],\n",
       "                       [ 0.0660],\n",
       "                       [ 0.3108],\n",
       "                       [ 0.5629],\n",
       "                       [-0.1223],\n",
       "                       [ 0.4673],\n",
       "                       [ 0.5356],\n",
       "                       [-0.5097],\n",
       "                       [ 0.3239],\n",
       "                       [-0.1029],\n",
       "                       [-0.1849],\n",
       "                       [ 0.3103]],\n",
       "              \n",
       "                      [[ 0.5030],\n",
       "                       [-0.1270],\n",
       "                       [-0.1128],\n",
       "                       [-0.0288],\n",
       "                       [-0.3959],\n",
       "                       [ 0.1176],\n",
       "                       [-0.3942],\n",
       "                       [-0.4420],\n",
       "                       [-0.4389],\n",
       "                       [ 0.4808],\n",
       "                       [ 0.1718],\n",
       "                       [-0.1480],\n",
       "                       [ 0.1543],\n",
       "                       [-0.0269],\n",
       "                       [-0.1084],\n",
       "                       [-0.2296]],\n",
       "              \n",
       "                      [[-0.5797],\n",
       "                       [ 0.2870],\n",
       "                       [ 0.2613],\n",
       "                       [ 0.5589],\n",
       "                       [ 0.3933],\n",
       "                       [ 0.2578],\n",
       "                       [-0.4790],\n",
       "                       [ 0.4182],\n",
       "                       [-0.4674],\n",
       "                       [-0.2128],\n",
       "                       [-0.2849],\n",
       "                       [-0.1953],\n",
       "                       [ 0.0845],\n",
       "                       [ 0.0416],\n",
       "                       [-0.4241],\n",
       "                       [ 0.5828]],\n",
       "              \n",
       "                      [[-0.0431],\n",
       "                       [-0.4229],\n",
       "                       [-0.4527],\n",
       "                       [ 0.2867],\n",
       "                       [ 0.3412],\n",
       "                       [-0.2982],\n",
       "                       [-0.6525],\n",
       "                       [-0.3718],\n",
       "                       [-0.0337],\n",
       "                       [ 0.3236],\n",
       "                       [ 0.5439],\n",
       "                       [-0.3943],\n",
       "                       [-0.2796],\n",
       "                       [ 0.0517],\n",
       "                       [ 0.2183],\n",
       "                       [ 0.0724]],\n",
       "              \n",
       "                      [[ 0.5164],\n",
       "                       [-0.3850],\n",
       "                       [-0.1435],\n",
       "                       [ 0.5316],\n",
       "                       [-0.1076],\n",
       "                       [-0.3404],\n",
       "                       [ 0.3188],\n",
       "                       [ 0.5041],\n",
       "                       [-0.5091],\n",
       "                       [ 0.4370],\n",
       "                       [-0.4550],\n",
       "                       [ 0.0426],\n",
       "                       [ 0.1593],\n",
       "                       [-0.0164],\n",
       "                       [ 0.0498],\n",
       "                       [-0.2614]],\n",
       "              \n",
       "                      [[-0.0746],\n",
       "                       [ 0.4003],\n",
       "                       [-0.4381],\n",
       "                       [ 0.0099],\n",
       "                       [ 0.0552],\n",
       "                       [-0.2840],\n",
       "                       [-0.4795],\n",
       "                       [-0.4821],\n",
       "                       [-0.4611],\n",
       "                       [ 0.3141],\n",
       "                       [-0.3490],\n",
       "                       [ 0.3726],\n",
       "                       [-0.4391],\n",
       "                       [-0.0950],\n",
       "                       [-0.4714],\n",
       "                       [-0.3472]]], device='cuda:0')),\n",
       "             ('module.model.model.1.convs.6.bias',\n",
       "              tensor([-0.0145,  0.0048,  0.0039, -0.0188,  0.0222,  0.0197,  0.0003, -0.0148,\n",
       "                       0.0087,  0.0046, -0.0110,  0.0083, -0.0035, -0.0113,  0.0107,  0.0113],\n",
       "                     device='cuda:0')),\n",
       "             ('module.model.model.1.convs.7.weight',\n",
       "              tensor([[[ 0.3782],\n",
       "                       [-0.4892],\n",
       "                       [ 0.1481],\n",
       "                       [-0.2384],\n",
       "                       [ 0.4579],\n",
       "                       [-0.0639],\n",
       "                       [ 0.2102],\n",
       "                       [ 0.3563],\n",
       "                       [ 0.1987],\n",
       "                       [ 0.1495],\n",
       "                       [-0.1299],\n",
       "                       [ 0.0360],\n",
       "                       [-0.1893],\n",
       "                       [-0.4064],\n",
       "                       [ 0.6079],\n",
       "                       [ 0.0022]],\n",
       "              \n",
       "                      [[-0.3468],\n",
       "                       [ 0.4906],\n",
       "                       [-0.6707],\n",
       "                       [-0.1500],\n",
       "                       [ 0.2546],\n",
       "                       [-0.2143],\n",
       "                       [ 0.3023],\n",
       "                       [-0.2043],\n",
       "                       [-0.1743],\n",
       "                       [ 0.3931],\n",
       "                       [-0.4607],\n",
       "                       [-0.4481],\n",
       "                       [-0.2034],\n",
       "                       [ 0.0343],\n",
       "                       [ 0.2275],\n",
       "                       [ 0.5610]],\n",
       "              \n",
       "                      [[ 0.0264],\n",
       "                       [-0.6435],\n",
       "                       [-0.4230],\n",
       "                       [ 0.1626],\n",
       "                       [-0.4518],\n",
       "                       [ 0.5959],\n",
       "                       [ 0.4585],\n",
       "                       [ 0.0397],\n",
       "                       [-0.1202],\n",
       "                       [-0.4363],\n",
       "                       [ 0.6106],\n",
       "                       [ 0.5455],\n",
       "                       [ 0.3838],\n",
       "                       [-0.4796],\n",
       "                       [-0.0648],\n",
       "                       [-0.4905]],\n",
       "              \n",
       "                      [[ 0.4661],\n",
       "                       [ 0.0470],\n",
       "                       [ 0.3133],\n",
       "                       [ 0.1377],\n",
       "                       [ 0.2654],\n",
       "                       [-0.3192],\n",
       "                       [-0.6378],\n",
       "                       [ 0.6155],\n",
       "                       [-0.3678],\n",
       "                       [ 0.0059],\n",
       "                       [-0.3753],\n",
       "                       [ 0.2606],\n",
       "                       [ 0.0785],\n",
       "                       [-0.2136],\n",
       "                       [-0.6616],\n",
       "                       [-0.0755]],\n",
       "              \n",
       "                      [[-0.5484],\n",
       "                       [ 0.4611],\n",
       "                       [ 0.3580],\n",
       "                       [ 0.5492],\n",
       "                       [-0.1656],\n",
       "                       [-0.2199],\n",
       "                       [-0.1067],\n",
       "                       [-0.2896],\n",
       "                       [ 0.4288],\n",
       "                       [ 0.3835],\n",
       "                       [ 0.5240],\n",
       "                       [-0.1716],\n",
       "                       [-0.3511],\n",
       "                       [ 0.2280],\n",
       "                       [ 0.3634],\n",
       "                       [-0.0026]],\n",
       "              \n",
       "                      [[-0.2893],\n",
       "                       [ 0.1980],\n",
       "                       [-0.3636],\n",
       "                       [-0.2867],\n",
       "                       [-0.2645],\n",
       "                       [-0.1661],\n",
       "                       [-0.4788],\n",
       "                       [ 0.3180],\n",
       "                       [ 0.1089],\n",
       "                       [-0.0195],\n",
       "                       [ 0.4740],\n",
       "                       [ 0.3971],\n",
       "                       [-0.1243],\n",
       "                       [-0.3326],\n",
       "                       [ 0.0413],\n",
       "                       [-0.4854]],\n",
       "              \n",
       "                      [[-0.5505],\n",
       "                       [-0.3120],\n",
       "                       [ 0.1034],\n",
       "                       [ 0.5217],\n",
       "                       [ 0.6031],\n",
       "                       [ 0.2371],\n",
       "                       [ 0.3771],\n",
       "                       [ 0.0103],\n",
       "                       [-0.0536],\n",
       "                       [ 0.5131],\n",
       "                       [-0.0580],\n",
       "                       [ 0.4800],\n",
       "                       [-0.2286],\n",
       "                       [-0.5307],\n",
       "                       [ 0.0774],\n",
       "                       [-0.2499]],\n",
       "              \n",
       "                      [[ 0.0592],\n",
       "                       [-0.0084],\n",
       "                       [ 0.2532],\n",
       "                       [-0.4838],\n",
       "                       [ 0.4465],\n",
       "                       [-0.2744],\n",
       "                       [-0.4778],\n",
       "                       [-0.1149],\n",
       "                       [ 0.0522],\n",
       "                       [ 0.3176],\n",
       "                       [ 0.4603],\n",
       "                       [-0.3786],\n",
       "                       [-0.1591],\n",
       "                       [-0.5945],\n",
       "                       [-0.2268],\n",
       "                       [ 0.0771]],\n",
       "              \n",
       "                      [[-0.1072],\n",
       "                       [ 0.2288],\n",
       "                       [ 0.4650],\n",
       "                       [ 0.4637],\n",
       "                       [ 0.5940],\n",
       "                       [ 0.3631],\n",
       "                       [ 0.3784],\n",
       "                       [-0.4811],\n",
       "                       [ 0.5861],\n",
       "                       [ 0.0838],\n",
       "                       [-0.4153],\n",
       "                       [-0.4677],\n",
       "                       [ 0.4155],\n",
       "                       [ 0.1534],\n",
       "                       [-0.3626],\n",
       "                       [ 0.1839]],\n",
       "              \n",
       "                      [[-0.3607],\n",
       "                       [-0.2566],\n",
       "                       [-0.2665],\n",
       "                       [ 0.2885],\n",
       "                       [-0.4311],\n",
       "                       [ 0.3816],\n",
       "                       [ 0.2181],\n",
       "                       [ 0.0637],\n",
       "                       [-0.0750],\n",
       "                       [-0.3835],\n",
       "                       [-0.4552],\n",
       "                       [ 0.0177],\n",
       "                       [ 0.1177],\n",
       "                       [ 0.1662],\n",
       "                       [ 0.5756],\n",
       "                       [ 0.2160]],\n",
       "              \n",
       "                      [[-0.1121],\n",
       "                       [ 0.4129],\n",
       "                       [ 0.2524],\n",
       "                       [ 0.3154],\n",
       "                       [-0.3120],\n",
       "                       [ 0.1409],\n",
       "                       [ 0.0747],\n",
       "                       [-0.3303],\n",
       "                       [ 0.4294],\n",
       "                       [-0.1545],\n",
       "                       [-0.4620],\n",
       "                       [ 0.1445],\n",
       "                       [ 0.5896],\n",
       "                       [-0.6407],\n",
       "                       [ 0.2428],\n",
       "                       [ 0.1783]],\n",
       "              \n",
       "                      [[-0.2832],\n",
       "                       [ 0.4430],\n",
       "                       [-0.2671],\n",
       "                       [-0.0710],\n",
       "                       [-0.2916],\n",
       "                       [ 0.5167],\n",
       "                       [ 0.3763],\n",
       "                       [-0.2697],\n",
       "                       [-0.5774],\n",
       "                       [ 0.3871],\n",
       "                       [ 0.5845],\n",
       "                       [-0.4321],\n",
       "                       [ 0.2638],\n",
       "                       [-0.1186],\n",
       "                       [-0.2743],\n",
       "                       [-0.1663]],\n",
       "              \n",
       "                      [[ 0.4702],\n",
       "                       [ 0.0898],\n",
       "                       [-0.0505],\n",
       "                       [ 0.5016],\n",
       "                       [ 0.0355],\n",
       "                       [-0.2754],\n",
       "                       [-0.1126],\n",
       "                       [-0.0906],\n",
       "                       [ 0.2345],\n",
       "                       [-0.5256],\n",
       "                       [ 0.1574],\n",
       "                       [ 0.5058],\n",
       "                       [-0.1451],\n",
       "                       [ 0.1502],\n",
       "                       [-0.5041],\n",
       "                       [-0.3619]],\n",
       "              \n",
       "                      [[-0.4647],\n",
       "                       [-0.5133],\n",
       "                       [ 0.5215],\n",
       "                       [ 0.4228],\n",
       "                       [ 0.1518],\n",
       "                       [-0.2569],\n",
       "                       [ 0.0792],\n",
       "                       [-0.5546],\n",
       "                       [ 0.4928],\n",
       "                       [-0.3008],\n",
       "                       [ 0.1620],\n",
       "                       [ 0.0520],\n",
       "                       [-0.1107],\n",
       "                       [-0.1994],\n",
       "                       [-0.0501],\n",
       "                       [-0.5081]],\n",
       "              \n",
       "                      [[-0.0089],\n",
       "                       [ 0.2472],\n",
       "                       [-0.5597],\n",
       "                       [-0.2815],\n",
       "                       [-0.3730],\n",
       "                       [-0.5498],\n",
       "                       [ 0.4421],\n",
       "                       [-0.3043],\n",
       "                       [-0.3732],\n",
       "                       [ 0.0639],\n",
       "                       [ 0.0523],\n",
       "                       [-0.4979],\n",
       "                       [ 0.1611],\n",
       "                       [ 0.1014],\n",
       "                       [ 0.0793],\n",
       "                       [-0.2215]],\n",
       "              \n",
       "                      [[ 0.1652],\n",
       "                       [ 0.4970],\n",
       "                       [-0.6662],\n",
       "                       [ 0.1424],\n",
       "                       [ 0.6694],\n",
       "                       [ 0.1222],\n",
       "                       [ 0.4996],\n",
       "                       [-0.2319],\n",
       "                       [-0.0298],\n",
       "                       [ 0.4183],\n",
       "                       [-0.2389],\n",
       "                       [-0.4454],\n",
       "                       [ 0.0186],\n",
       "                       [-0.6348],\n",
       "                       [-0.3786],\n",
       "                       [ 0.2748]]], device='cuda:0')),\n",
       "             ('module.model.model.1.convs.7.bias',\n",
       "              tensor([-0.0067, -0.0057, -0.0069, -0.0093,  0.0103, -0.0063,  0.0054, -0.0136,\n",
       "                       0.0088, -0.0022, -0.0003, -0.0007,  0.0070,  0.0007,  0.0102, -0.0090],\n",
       "                     device='cuda:0')),\n",
       "             ('module.model.model.1.convs.8.weight',\n",
       "              tensor([[[-0.2165],\n",
       "                       [ 0.0018],\n",
       "                       [ 0.1514],\n",
       "                       [-0.0968],\n",
       "                       [-0.2933],\n",
       "                       [-0.0163],\n",
       "                       [-0.4006],\n",
       "                       [ 0.0918],\n",
       "                       [ 0.4747],\n",
       "                       [-0.2754],\n",
       "                       [ 0.0187],\n",
       "                       [-0.2418],\n",
       "                       [-0.3309],\n",
       "                       [-0.2675],\n",
       "                       [-0.4182],\n",
       "                       [ 0.2013]],\n",
       "              \n",
       "                      [[-0.5171],\n",
       "                       [ 0.4489],\n",
       "                       [ 0.4754],\n",
       "                       [ 0.1418],\n",
       "                       [-0.1069],\n",
       "                       [ 0.0292],\n",
       "                       [-0.1853],\n",
       "                       [-0.0732],\n",
       "                       [ 0.4592],\n",
       "                       [-0.4550],\n",
       "                       [-0.3490],\n",
       "                       [-0.0098],\n",
       "                       [-0.1014],\n",
       "                       [ 0.3859],\n",
       "                       [ 0.5017],\n",
       "                       [ 0.1258]],\n",
       "              \n",
       "                      [[-0.3174],\n",
       "                       [ 0.5523],\n",
       "                       [-0.0657],\n",
       "                       [-0.6601],\n",
       "                       [ 0.1315],\n",
       "                       [ 0.0874],\n",
       "                       [ 0.0092],\n",
       "                       [ 0.4144],\n",
       "                       [-0.6356],\n",
       "                       [ 0.1971],\n",
       "                       [-0.1369],\n",
       "                       [ 0.4476],\n",
       "                       [ 0.3102],\n",
       "                       [ 0.3360],\n",
       "                       [ 0.3059],\n",
       "                       [-0.3281]],\n",
       "              \n",
       "                      [[-0.2150],\n",
       "                       [-0.5131],\n",
       "                       [-0.1078],\n",
       "                       [ 0.4799],\n",
       "                       [-0.1115],\n",
       "                       [-0.5587],\n",
       "                       [-0.5150],\n",
       "                       [-0.1928],\n",
       "                       [-0.4541],\n",
       "                       [-0.1055],\n",
       "                       [ 0.2264],\n",
       "                       [ 0.2029],\n",
       "                       [ 0.3830],\n",
       "                       [-0.3729],\n",
       "                       [-0.2273],\n",
       "                       [ 0.1870]],\n",
       "              \n",
       "                      [[-0.5678],\n",
       "                       [-0.5916],\n",
       "                       [-0.3994],\n",
       "                       [ 0.2392],\n",
       "                       [ 0.0048],\n",
       "                       [ 0.3482],\n",
       "                       [ 0.0893],\n",
       "                       [-0.2705],\n",
       "                       [ 0.3472],\n",
       "                       [-0.1857],\n",
       "                       [ 0.1692],\n",
       "                       [-0.4266],\n",
       "                       [-0.2685],\n",
       "                       [-0.1635],\n",
       "                       [-0.2910],\n",
       "                       [ 0.3567]],\n",
       "              \n",
       "                      [[ 0.2052],\n",
       "                       [-0.6322],\n",
       "                       [ 0.0022],\n",
       "                       [-0.2174],\n",
       "                       [ 0.2259],\n",
       "                       [-0.3426],\n",
       "                       [ 0.1873],\n",
       "                       [-0.5970],\n",
       "                       [-0.4785],\n",
       "                       [ 0.2583],\n",
       "                       [-0.4502],\n",
       "                       [ 0.2182],\n",
       "                       [ 0.1305],\n",
       "                       [-0.4316],\n",
       "                       [ 0.0448],\n",
       "                       [-0.3294]],\n",
       "              \n",
       "                      [[ 0.4957],\n",
       "                       [ 0.5614],\n",
       "                       [-0.5266],\n",
       "                       [ 0.0551],\n",
       "                       [-0.4911],\n",
       "                       [-0.0094],\n",
       "                       [-0.4469],\n",
       "                       [-0.0142],\n",
       "                       [-0.1203],\n",
       "                       [ 0.0871],\n",
       "                       [-0.0597],\n",
       "                       [-0.3707],\n",
       "                       [ 0.0211],\n",
       "                       [-0.5018],\n",
       "                       [ 0.2246],\n",
       "                       [-0.3363]],\n",
       "              \n",
       "                      [[ 0.1775],\n",
       "                       [-0.2213],\n",
       "                       [ 0.3607],\n",
       "                       [-0.0835],\n",
       "                       [-0.4779],\n",
       "                       [ 0.3242],\n",
       "                       [ 0.2378],\n",
       "                       [ 0.0988],\n",
       "                       [ 0.0222],\n",
       "                       [-0.4321],\n",
       "                       [-0.1099],\n",
       "                       [-0.3423],\n",
       "                       [-0.0783],\n",
       "                       [ 0.3832],\n",
       "                       [ 0.2297],\n",
       "                       [-0.1171]],\n",
       "              \n",
       "                      [[ 0.3967],\n",
       "                       [-0.0444],\n",
       "                       [-0.0673],\n",
       "                       [ 0.1316],\n",
       "                       [-0.5034],\n",
       "                       [ 0.4427],\n",
       "                       [ 0.6336],\n",
       "                       [-0.3438],\n",
       "                       [ 0.3472],\n",
       "                       [-0.0821],\n",
       "                       [ 0.1411],\n",
       "                       [ 0.0329],\n",
       "                       [-0.3383],\n",
       "                       [-0.5796],\n",
       "                       [ 0.2011],\n",
       "                       [ 0.6361]],\n",
       "              \n",
       "                      [[ 0.2793],\n",
       "                       [-0.3392],\n",
       "                       [ 0.0182],\n",
       "                       [-0.0841],\n",
       "                       [ 0.2742],\n",
       "                       [ 0.3509],\n",
       "                       [ 0.5607],\n",
       "                       [ 0.6622],\n",
       "                       [-0.4286],\n",
       "                       [ 0.1296],\n",
       "                       [-0.2631],\n",
       "                       [-0.2717],\n",
       "                       [-0.2531],\n",
       "                       [-0.1031],\n",
       "                       [ 0.2951],\n",
       "                       [ 0.3005]],\n",
       "              \n",
       "                      [[-0.0916],\n",
       "                       [ 0.4378],\n",
       "                       [-0.4820],\n",
       "                       [ 0.0717],\n",
       "                       [-0.6064],\n",
       "                       [ 0.1564],\n",
       "                       [ 0.5701],\n",
       "                       [-0.4229],\n",
       "                       [ 0.3777],\n",
       "                       [ 0.4436],\n",
       "                       [ 0.3874],\n",
       "                       [-0.0327],\n",
       "                       [-0.2992],\n",
       "                       [-0.3993],\n",
       "                       [-0.1830],\n",
       "                       [ 0.4759]],\n",
       "              \n",
       "                      [[-0.3853],\n",
       "                       [-0.5862],\n",
       "                       [-0.4469],\n",
       "                       [ 0.4938],\n",
       "                       [ 0.5645],\n",
       "                       [-0.5683],\n",
       "                       [-0.3403],\n",
       "                       [ 0.2989],\n",
       "                       [-0.3667],\n",
       "                       [-0.4952],\n",
       "                       [ 0.2984],\n",
       "                       [ 0.3515],\n",
       "                       [-0.3541],\n",
       "                       [ 0.0992],\n",
       "                       [ 0.2279],\n",
       "                       [ 0.3368]],\n",
       "              \n",
       "                      [[ 0.5341],\n",
       "                       [-0.3429],\n",
       "                       [ 0.4820],\n",
       "                       [-0.1115],\n",
       "                       [ 0.5036],\n",
       "                       [ 0.5629],\n",
       "                       [ 0.3586],\n",
       "                       [-0.2998],\n",
       "                       [-0.1467],\n",
       "                       [ 0.2714],\n",
       "                       [-0.3549],\n",
       "                       [ 0.0439],\n",
       "                       [-0.4695],\n",
       "                       [-0.0941],\n",
       "                       [ 0.3512],\n",
       "                       [-0.3110]],\n",
       "              \n",
       "                      [[-0.1627],\n",
       "                       [ 0.4062],\n",
       "                       [ 0.2902],\n",
       "                       [-0.5449],\n",
       "                       [-0.3289],\n",
       "                       [-0.4435],\n",
       "                       [-0.0535],\n",
       "                       [ 0.2821],\n",
       "                       [ 0.1767],\n",
       "                       [ 0.5504],\n",
       "                       [-0.1122],\n",
       "                       [ 0.2177],\n",
       "                       [-0.5320],\n",
       "                       [-0.4978],\n",
       "                       [-0.0611],\n",
       "                       [ 0.3059]],\n",
       "              \n",
       "                      [[-0.3064],\n",
       "                       [ 0.4248],\n",
       "                       [ 0.5164],\n",
       "                       [ 0.0207],\n",
       "                       [ 0.5256],\n",
       "                       [ 0.5743],\n",
       "                       [ 0.6028],\n",
       "                       [ 0.2532],\n",
       "                       [-0.0133],\n",
       "                       [-0.4824],\n",
       "                       [ 0.3944],\n",
       "                       [ 0.2070],\n",
       "                       [ 0.4560],\n",
       "                       [ 0.4240],\n",
       "                       [ 0.2767],\n",
       "                       [ 0.2188]],\n",
       "              \n",
       "                      [[ 0.0196],\n",
       "                       [-0.2222],\n",
       "                       [ 0.5091],\n",
       "                       [ 0.1264],\n",
       "                       [-0.0342],\n",
       "                       [ 0.2967],\n",
       "                       [-0.2636],\n",
       "                       [-0.5244],\n",
       "                       [-0.3449],\n",
       "                       [ 0.0416],\n",
       "                       [ 0.6390],\n",
       "                       [-0.2792],\n",
       "                       [-0.4829],\n",
       "                       [-0.5100],\n",
       "                       [ 0.5099],\n",
       "                       [ 0.1579]]], device='cuda:0')),\n",
       "             ('module.model.model.1.convs.8.bias',\n",
       "              tensor([-0.0089,  0.0150, -0.0042, -0.0088,  0.0309,  0.0278, -0.0104,  0.0027,\n",
       "                      -0.0049,  0.0006,  0.0069,  0.0091,  0.0096, -0.0115,  0.0149, -0.0026],\n",
       "                     device='cuda:0')),\n",
       "             ('module.model.model.1.filter_convs.0.weight',\n",
       "              tensor([[[ 1.7927e-01,  2.5704e-01,  1.3532e-01],\n",
       "                       [-4.5916e-02, -3.4626e-01, -1.6065e-01],\n",
       "                       [-5.1666e-02,  1.2986e-01,  2.7964e-02],\n",
       "                       [ 2.0885e-01, -2.1506e-01,  1.5104e-01],\n",
       "                       [ 1.8707e-01, -1.0355e-01,  1.2176e-01],\n",
       "                       [-3.0736e-01, -2.5821e-01,  1.9697e-02],\n",
       "                       [-6.2410e-02, -9.9290e-02,  4.7955e-02],\n",
       "                       [-9.3970e-02, -7.3430e-02,  2.1570e-02],\n",
       "                       [-1.7403e-01, -3.9609e-01, -1.0735e-01],\n",
       "                       [-1.1085e-01,  7.5186e-02, -2.8410e-02],\n",
       "                       [ 1.9872e-01,  1.0947e-01, -2.8833e-01],\n",
       "                       [ 1.9016e-01, -1.0289e-03,  5.0293e-03],\n",
       "                       [ 1.8743e-01,  2.7213e-01, -4.9013e-02],\n",
       "                       [ 1.0286e-01,  7.7762e-02, -2.1120e-01],\n",
       "                       [ 1.8504e-01, -1.2779e-01,  2.5311e-01],\n",
       "                       [ 1.6641e-01,  3.5475e-01,  2.8820e-01]],\n",
       "              \n",
       "                      [[-1.5497e-01,  3.1615e-03,  3.0189e-01],\n",
       "                       [-1.7747e-01, -7.3240e-02, -4.7776e-03],\n",
       "                       [ 8.5981e-02, -1.3818e-01,  1.7906e-01],\n",
       "                       [ 7.8128e-02,  1.8205e-01,  1.0221e-01],\n",
       "                       [-2.7521e-01, -1.8131e-01, -2.1543e-01],\n",
       "                       [-1.3701e-01,  1.8839e-01,  2.0630e-01],\n",
       "                       [ 1.1932e-01, -1.2658e-01,  2.2878e-01],\n",
       "                       [-1.8582e-01, -3.0840e-01, -1.0708e-01],\n",
       "                       [ 6.1322e-02,  4.8769e-02,  7.1396e-02],\n",
       "                       [ 1.3137e-01, -1.0388e-01, -2.1421e-01],\n",
       "                       [-8.1369e-02, -3.0118e-01, -2.0407e-01],\n",
       "                       [ 3.5457e-02,  3.3631e-03, -2.7931e-01],\n",
       "                       [ 1.5900e-01,  1.4592e-01, -7.6147e-03],\n",
       "                       [ 1.2406e-02, -1.3402e-01,  1.5646e-01],\n",
       "                       [ 1.3821e-01,  2.0008e-01,  2.6972e-01],\n",
       "                       [ 6.4243e-02,  8.9658e-02,  2.3076e-01]],\n",
       "              \n",
       "                      [[-3.2766e-01, -9.7569e-02, -2.7862e-01],\n",
       "                       [-1.6123e-01,  8.7983e-02, -1.4113e-01],\n",
       "                       [ 3.9999e-02,  1.9546e-01,  2.7450e-01],\n",
       "                       [-1.0242e-02,  3.3231e-01,  2.1506e-01],\n",
       "                       [ 2.4371e-01, -5.3542e-02,  1.5183e-01],\n",
       "                       [-2.8438e-01, -2.6629e-01, -2.5724e-01],\n",
       "                       [ 1.3428e-01,  1.8541e-01, -1.1249e-01],\n",
       "                       [ 3.8789e-02, -7.5768e-02, -6.8063e-02],\n",
       "                       [-3.5968e-01, -3.8280e-01, -3.0800e-02],\n",
       "                       [-2.5683e-01, -3.6730e-02,  6.4724e-02],\n",
       "                       [-2.4487e-01, -1.4622e-01, -2.5349e-01],\n",
       "                       [-7.2567e-02, -2.0499e-01, -2.5678e-01],\n",
       "                       [-4.0136e-02,  1.4065e-01, -9.8613e-02],\n",
       "                       [ 1.1209e-01,  3.9421e-03,  1.3365e-01],\n",
       "                       [ 8.8976e-02,  1.1439e-02,  1.6592e-01],\n",
       "                       [ 1.7723e-01, -8.9527e-02,  8.9274e-03]],\n",
       "              \n",
       "                      [[ 1.5199e-01,  1.7852e-01,  3.7522e-02],\n",
       "                       [-6.3594e-02, -2.9039e-01, -1.4699e-01],\n",
       "                       [-6.7282e-03,  3.1077e-01,  2.0605e-01],\n",
       "                       [ 8.7696e-02, -6.3792e-02,  3.0635e-01],\n",
       "                       [ 3.3928e-01, -2.9737e-01, -1.0364e-01],\n",
       "                       [-5.4587e-02,  2.9481e-01, -2.5881e-01],\n",
       "                       [ 5.9469e-02, -2.5258e-01,  2.3033e-01],\n",
       "                       [ 3.2225e-01, -1.0911e-01,  1.1836e-01],\n",
       "                       [-2.2510e-01, -1.4469e-01,  2.7589e-01],\n",
       "                       [-3.8349e-01,  2.1486e-01,  3.5611e-01],\n",
       "                       [-1.8418e-01,  1.5552e-01, -1.3326e-01],\n",
       "                       [-1.2287e-01, -3.9900e-03, -8.8197e-02],\n",
       "                       [ 3.4480e-01, -1.4087e-01,  2.1166e-01],\n",
       "                       [-2.2224e-01, -2.3161e-02, -1.6718e-01],\n",
       "                       [-8.8614e-02,  2.1382e-02, -1.3948e-02],\n",
       "                       [ 8.1904e-02, -3.0181e-01,  1.2489e-01]],\n",
       "              \n",
       "                      [[ 1.6123e-01,  8.8885e-02,  2.6391e-01],\n",
       "                       [-9.4461e-02, -1.4792e-01,  5.1767e-02],\n",
       "                       [ 7.7315e-02, -2.9409e-01, -1.1347e-01],\n",
       "                       [ 1.7337e-01,  1.1395e-01, -3.9296e-03],\n",
       "                       [-3.1744e-01,  2.4677e-01, -2.1466e-01],\n",
       "                       [-9.4100e-02, -2.6199e-01, -7.5949e-02],\n",
       "                       [ 3.6131e-01, -3.8325e-01, -9.9331e-02],\n",
       "                       [ 1.6969e-01,  1.8177e-01, -1.7287e-01],\n",
       "                       [-1.6153e-01,  1.0679e-01,  2.8999e-01],\n",
       "                       [ 2.4666e-01, -3.4275e-01,  2.8970e-01],\n",
       "                       [-1.8096e-01,  1.6814e-01, -9.4428e-02],\n",
       "                       [-3.2497e-01,  3.2097e-01,  1.3847e-01],\n",
       "                       [ 8.6578e-03,  3.2260e-01, -1.9766e-01],\n",
       "                       [-2.6587e-01, -2.0831e-01, -7.5142e-02],\n",
       "                       [-1.2119e-01, -1.9593e-01, -2.8619e-01],\n",
       "                       [ 2.0756e-01,  2.0715e-01, -5.3863e-02]],\n",
       "              \n",
       "                      [[-2.0206e-01, -3.0163e-01, -1.7153e-01],\n",
       "                       [-2.5594e-01, -1.6137e-01, -8.4818e-02],\n",
       "                       [ 1.4366e-01, -1.2661e-01, -2.9743e-01],\n",
       "                       [-9.7876e-02,  5.2999e-02, -8.3488e-02],\n",
       "                       [-1.9956e-01, -1.6764e-01,  9.9964e-02],\n",
       "                       [-2.6395e-01, -3.3652e-02, -1.0303e-01],\n",
       "                       [ 1.0510e-01, -7.3226e-02,  2.2596e-01],\n",
       "                       [-1.2576e-01, -4.3281e-02,  2.6966e-01],\n",
       "                       [-2.1544e-02,  1.3487e-01, -3.0370e-01],\n",
       "                       [-2.0478e-01,  3.5496e-01,  1.7574e-01],\n",
       "                       [-9.8457e-02, -1.7371e-01, -2.5093e-01],\n",
       "                       [-2.7817e-01, -4.2135e-01,  1.4803e-01],\n",
       "                       [ 1.6419e-01, -1.4688e-01,  1.2111e-01],\n",
       "                       [ 6.4537e-02, -5.2280e-03,  1.0388e-01],\n",
       "                       [-1.0230e-01, -9.9075e-02, -1.3311e-01],\n",
       "                       [-1.9878e-01,  2.1014e-01, -1.0150e-01]],\n",
       "              \n",
       "                      [[ 3.6773e-01, -9.0543e-02,  1.2990e-01],\n",
       "                       [-7.4613e-02, -1.3591e-01,  2.3040e-01],\n",
       "                       [-7.7245e-02, -1.1168e-01, -1.2586e-01],\n",
       "                       [-3.4359e-01, -1.5238e-01, -2.2252e-01],\n",
       "                       [ 2.8448e-01,  6.5885e-02, -9.6043e-02],\n",
       "                       [ 2.3218e-01, -3.5058e-01, -2.7763e-01],\n",
       "                       [ 1.2163e-01, -1.0891e-01, -2.4824e-01],\n",
       "                       [-2.9881e-01, -7.6771e-03,  1.7724e-01],\n",
       "                       [ 1.3687e-01,  6.0632e-02, -1.5782e-01],\n",
       "                       [ 2.1974e-02,  2.0309e-01,  2.8373e-01],\n",
       "                       [-1.7105e-01,  2.2270e-01,  2.1045e-01],\n",
       "                       [-1.2451e-01, -9.6838e-02, -5.3399e-02],\n",
       "                       [-2.3103e-01,  6.2141e-02, -1.9409e-01],\n",
       "                       [ 1.4778e-01,  1.8085e-01, -7.7792e-05],\n",
       "                       [ 1.0415e-02,  2.3895e-01, -5.1311e-02],\n",
       "                       [-1.2057e-01,  1.7426e-01, -4.3567e-02]],\n",
       "              \n",
       "                      [[-2.1693e-01,  1.6181e-01,  2.3223e-01],\n",
       "                       [ 1.5750e-01,  1.7423e-01,  1.4911e-01],\n",
       "                       [-1.3080e-01,  3.6888e-01,  1.9508e-01],\n",
       "                       [ 8.1978e-02, -1.8999e-01,  3.0834e-01],\n",
       "                       [ 1.3921e-01, -1.9265e-01, -2.5193e-01],\n",
       "                       [-3.6017e-01,  2.3820e-01, -2.8796e-01],\n",
       "                       [-4.5527e-02,  1.7892e-01,  1.1315e-01],\n",
       "                       [-3.5992e-03,  3.3416e-01,  4.2393e-03],\n",
       "                       [ 3.5461e-02, -1.4960e-01, -3.1756e-01],\n",
       "                       [ 1.2840e-01,  3.9238e-01,  2.4435e-01],\n",
       "                       [ 5.4711e-03,  3.2220e-01, -9.3217e-02],\n",
       "                       [-7.4222e-02,  2.2160e-01, -2.4436e-01],\n",
       "                       [ 1.1016e-01, -5.1498e-02, -2.2629e-01],\n",
       "                       [-2.3580e-01,  1.5646e-01, -2.1676e-01],\n",
       "                       [-2.5767e-01,  1.4203e-01, -5.7782e-02],\n",
       "                       [-1.3724e-01, -2.9366e-01,  1.2859e-01]],\n",
       "              \n",
       "                      [[ 1.5146e-01, -2.3592e-01,  3.7361e-01],\n",
       "                       [-1.8999e-01,  1.4887e-01,  1.7625e-01],\n",
       "                       [ 2.4787e-01, -3.0209e-01,  1.1625e-01],\n",
       "                       [-9.5023e-02,  2.8178e-02, -2.8795e-01],\n",
       "                       [ 2.5163e-01,  1.1641e-01, -2.7991e-01],\n",
       "                       [-3.2215e-01, -2.5243e-01,  2.8719e-01],\n",
       "                       [ 4.7740e-02, -3.1120e-01,  2.0633e-01],\n",
       "                       [ 1.5326e-01,  2.6019e-01,  1.6854e-01],\n",
       "                       [-3.1900e-01,  6.8828e-02, -2.8423e-01],\n",
       "                       [ 6.0016e-02, -1.3389e-01,  3.6236e-01],\n",
       "                       [-1.7322e-01,  3.2534e-01, -4.4017e-02],\n",
       "                       [ 2.1647e-01, -1.3374e-01, -1.7536e-01],\n",
       "                       [ 3.8298e-01,  2.4602e-01, -1.1286e-02],\n",
       "                       [-1.9347e-01, -2.4759e-01,  3.0356e-01],\n",
       "                       [-2.1269e-01, -1.1378e-01, -3.2946e-02],\n",
       "                       [-8.7929e-02,  2.2906e-01,  3.7354e-01]],\n",
       "              \n",
       "                      [[-2.2754e-01, -3.3037e-01,  5.8659e-02],\n",
       "                       [ 2.6159e-01, -2.9180e-01,  1.0854e-01],\n",
       "                       [ 2.5402e-01,  1.4521e-01,  2.3536e-01],\n",
       "                       [-1.8286e-01,  5.1549e-02, -3.5765e-01],\n",
       "                       [-3.7049e-01,  2.5760e-01,  1.2069e-01],\n",
       "                       [-1.0152e-01, -2.2688e-01,  7.7576e-04],\n",
       "                       [ 1.8029e-01,  1.2831e-01, -2.6027e-01],\n",
       "                       [ 2.9432e-01,  9.2183e-02, -2.4027e-02],\n",
       "                       [-3.8221e-02, -3.8281e-02,  7.0314e-02],\n",
       "                       [-5.8511e-02,  4.2702e-02, -7.0275e-02],\n",
       "                       [ 5.3739e-02, -1.3034e-01,  1.5825e-01],\n",
       "                       [-4.5728e-01,  3.2975e-01, -2.1582e-02],\n",
       "                       [-1.1399e-02,  2.8380e-01, -2.3497e-01],\n",
       "                       [-4.7764e-02, -2.7552e-01,  2.0852e-01],\n",
       "                       [ 3.8865e-01, -1.5097e-01, -2.0021e-01],\n",
       "                       [-2.0014e-01, -3.1123e-02,  1.8783e-01]],\n",
       "              \n",
       "                      [[ 2.1393e-01, -2.5658e-01,  2.0252e-01],\n",
       "                       [ 1.1630e-01,  1.1638e-01,  2.9984e-01],\n",
       "                       [-5.2836e-02, -2.9345e-01,  1.0378e-01],\n",
       "                       [ 1.4634e-01, -6.5364e-02,  3.0610e-01],\n",
       "                       [ 7.4382e-02, -3.3340e-01, -1.5482e-02],\n",
       "                       [ 2.1153e-01, -3.5792e-01, -1.0646e-01],\n",
       "                       [-1.6654e-01,  2.5284e-01, -8.6722e-02],\n",
       "                       [-1.5557e-01, -2.6456e-02, -8.6799e-02],\n",
       "                       [ 2.3300e-01,  5.1878e-02, -7.3458e-02],\n",
       "                       [-8.3171e-02,  1.3263e-01, -2.4567e-01],\n",
       "                       [-3.5556e-01, -9.1760e-02, -2.5963e-02],\n",
       "                       [ 2.9307e-01, -1.0809e-01, -4.9190e-02],\n",
       "                       [-2.0666e-01, -2.3537e-01,  2.8055e-01],\n",
       "                       [ 3.9229e-01,  1.1242e-01, -5.6238e-02],\n",
       "                       [ 7.5203e-02,  4.9773e-02, -1.7498e-01],\n",
       "                       [ 1.7677e-01, -2.6273e-02, -2.1847e-01]],\n",
       "              \n",
       "                      [[ 1.9666e-01, -3.4365e-01, -2.1996e-01],\n",
       "                       [-9.3702e-02, -1.7758e-01, -1.4360e-01],\n",
       "                       [ 4.0009e-01, -1.0213e-02, -4.0753e-02],\n",
       "                       [-1.5707e-01,  1.0425e-01,  1.2515e-01],\n",
       "                       [ 7.7643e-02,  3.1738e-01, -4.0845e-02],\n",
       "                       [-1.6740e-01, -3.3296e-01, -1.3673e-01],\n",
       "                       [-4.1348e-02,  1.5926e-01, -6.5439e-02],\n",
       "                       [ 3.2143e-02, -4.8777e-02,  2.4094e-01],\n",
       "                       [ 6.9892e-02,  2.3915e-01, -7.5369e-02],\n",
       "                       [ 1.6967e-02, -1.0437e-01, -7.4861e-02],\n",
       "                       [ 1.1410e-01, -6.2383e-02, -1.2150e-01],\n",
       "                       [ 3.6415e-01,  1.8943e-01, -3.9127e-01],\n",
       "                       [-1.2308e-01,  3.1960e-01,  6.8660e-02],\n",
       "                       [ 1.1153e-02,  1.5672e-01,  1.1943e-01],\n",
       "                       [ 3.3652e-01,  1.1809e-01, -3.3166e-02],\n",
       "                       [ 9.3934e-02,  2.7207e-01, -2.7358e-01]],\n",
       "              \n",
       "                      [[ 7.9102e-02, -5.6910e-02, -7.3751e-02],\n",
       "                       [ 2.5576e-01, -1.0090e-01,  2.1188e-01],\n",
       "                       [-5.7556e-02, -1.9996e-01, -1.9664e-01],\n",
       "                       [-1.2172e-01,  3.2248e-01,  1.3587e-01],\n",
       "                       [ 8.3098e-02,  2.7828e-01, -2.0811e-01],\n",
       "                       [-3.7833e-01, -2.0693e-01,  2.6563e-01],\n",
       "                       [-1.5216e-01,  3.7156e-01, -2.1750e-01],\n",
       "                       [-7.8003e-02, -3.8293e-01,  2.9258e-01],\n",
       "                       [-8.6486e-02,  3.3288e-01, -1.8938e-02],\n",
       "                       [ 6.8173e-02,  2.8569e-01, -2.7217e-01],\n",
       "                       [-3.3753e-01,  3.2571e-01, -3.0104e-01],\n",
       "                       [ 2.7191e-01,  1.4374e-01,  3.5758e-01],\n",
       "                       [ 2.1613e-02,  2.3968e-01, -2.9248e-01],\n",
       "                       [ 2.6391e-01,  6.9468e-03,  1.7764e-01],\n",
       "                       [-3.4089e-01, -2.4397e-01,  3.0116e-03],\n",
       "                       [-2.6114e-01,  2.2488e-01, -2.1976e-01]],\n",
       "              \n",
       "                      [[ 1.0818e-01, -1.9118e-01, -1.8361e-01],\n",
       "                       [ 1.8701e-01, -1.3149e-01, -2.2332e-01],\n",
       "                       [ 2.6046e-01,  1.5973e-01, -2.3156e-01],\n",
       "                       [-5.4856e-02,  1.5263e-01, -3.0794e-01],\n",
       "                       [ 7.7602e-02,  8.3247e-03, -1.3038e-01],\n",
       "                       [-1.4675e-01,  3.0631e-01,  2.0125e-01],\n",
       "                       [-1.3771e-01, -1.5034e-01, -3.5051e-01],\n",
       "                       [ 1.0182e-01, -3.2759e-01,  3.2713e-01],\n",
       "                       [-1.7930e-01,  1.0382e-01, -3.5563e-01],\n",
       "                       [-1.3821e-01, -9.2016e-02,  2.3216e-01],\n",
       "                       [-1.7979e-01, -2.7268e-03, -2.5695e-01],\n",
       "                       [ 1.3030e-03,  3.1128e-01,  1.3156e-01],\n",
       "                       [ 1.9009e-01, -7.6444e-02,  3.7493e-02],\n",
       "                       [ 2.3055e-01,  6.3816e-02, -1.8254e-01],\n",
       "                       [-1.1214e-01, -2.2525e-01,  1.8375e-01],\n",
       "                       [ 4.5840e-02, -2.4256e-01, -2.0632e-01]],\n",
       "              \n",
       "                      [[ 3.0592e-01, -3.5143e-02,  2.8335e-01],\n",
       "                       [-2.5745e-01, -2.2678e-01, -3.2964e-01],\n",
       "                       [-2.5017e-01, -1.8713e-01, -2.3157e-02],\n",
       "                       [-8.5862e-02,  1.5387e-01,  3.1708e-01],\n",
       "                       [ 3.8306e-02, -2.0604e-01, -1.5973e-01],\n",
       "                       [-8.5989e-03, -1.6026e-01, -3.4708e-01],\n",
       "                       [ 2.3942e-01,  8.4270e-02, -1.0637e-01],\n",
       "                       [ 7.0165e-02, -1.6634e-01, -1.1311e-01],\n",
       "                       [-2.7860e-01,  3.9683e-02, -2.8660e-01],\n",
       "                       [-5.5096e-02,  2.4228e-01, -4.8993e-02],\n",
       "                       [ 7.9629e-02, -3.0095e-01,  6.4081e-04],\n",
       "                       [ 1.5477e-01,  9.7649e-02,  5.5062e-02],\n",
       "                       [ 2.1095e-01,  2.3445e-02,  1.5610e-02],\n",
       "                       [-2.0022e-01, -1.1027e-01,  3.3139e-01],\n",
       "                       [-2.0563e-02, -2.8395e-01,  1.3269e-01],\n",
       "                       [-2.0679e-01,  2.1831e-01,  1.9732e-01]],\n",
       "              \n",
       "                      [[ 2.0971e-01,  3.3102e-02,  3.5352e-02],\n",
       "                       [-1.5900e-03,  4.3175e-02, -3.1952e-01],\n",
       "                       [ 3.0894e-01,  7.1918e-02, -8.4079e-02],\n",
       "                       [ 1.1325e-01,  1.9438e-01,  2.7439e-01],\n",
       "                       [ 5.5754e-02,  1.2395e-01, -6.9550e-02],\n",
       "                       [ 2.8469e-01,  4.1874e-01,  4.6901e-02],\n",
       "                       [ 2.1181e-01, -8.9454e-03,  1.0121e-01],\n",
       "                       [-1.5870e-01,  1.9092e-01, -1.2676e-01],\n",
       "                       [ 2.3836e-02,  2.4067e-03, -1.8407e-01],\n",
       "                       [-7.7370e-02, -2.6900e-01, -1.2626e-01],\n",
       "                       [-1.2806e-01, -7.9034e-02, -1.1874e-01],\n",
       "                       [-1.1204e-01, -3.5576e-01,  3.6602e-01],\n",
       "                       [-1.1785e-01,  2.8379e-01,  2.4333e-01],\n",
       "                       [ 4.9882e-02, -1.6526e-01, -8.9545e-03],\n",
       "                       [ 2.7799e-01, -2.6133e-01, -5.1082e-02],\n",
       "                       [-1.6372e-01,  4.1060e-02, -2.5517e-01]]], device='cuda:0')),\n",
       "             ('module.model.model.1.filter_convs.0.bias',\n",
       "              tensor([ 0.0065, -0.0150,  0.0086,  0.0108,  0.0110,  0.0008, -0.0076,  0.0100,\n",
       "                      -0.0096, -0.0033,  0.0023, -0.0014, -0.0150,  0.0027,  0.0244, -0.0018],\n",
       "                     device='cuda:0')),\n",
       "             ('module.model.model.1.filter_convs.1.weight',\n",
       "              tensor([[[ 2.7201e-01,  2.8814e-01,  1.7935e-01],\n",
       "                       [-1.1300e-01, -2.7723e-01, -5.8104e-03],\n",
       "                       [ 1.1220e-01,  3.9512e-02,  1.6314e-01],\n",
       "                       [-1.5281e-01,  2.7143e-01, -2.5116e-01],\n",
       "                       [-2.4963e-01,  2.7082e-01, -3.8432e-01],\n",
       "                       [-2.7113e-01,  1.8202e-01, -2.7654e-01],\n",
       "                       [ 8.9227e-03,  2.2458e-01,  3.2364e-01],\n",
       "                       [-4.6471e-02, -1.9310e-01,  4.0550e-01],\n",
       "                       [-1.2714e-01,  1.1985e-01, -1.0527e-01],\n",
       "                       [ 1.0608e-01,  2.1652e-01, -9.6618e-02],\n",
       "                       [-1.8914e-02, -8.3348e-02,  1.3506e-01],\n",
       "                       [-1.3112e-01, -1.5320e-01, -3.1466e-01],\n",
       "                       [-1.2520e-01,  2.1576e-01,  2.3518e-01],\n",
       "                       [-2.0478e-02, -2.1582e-01, -5.8407e-03],\n",
       "                       [ 3.7935e-02,  2.9028e-01,  1.4146e-01],\n",
       "                       [ 1.5836e-01,  1.1112e-01, -2.8693e-01]],\n",
       "              \n",
       "                      [[-3.8079e-02,  2.4460e-01, -7.3956e-02],\n",
       "                       [-1.0192e-01,  1.1747e-01,  5.3682e-02],\n",
       "                       [ 1.2822e-02,  1.2073e-01, -6.9894e-02],\n",
       "                       [ 8.0036e-02,  1.9112e-01,  1.6277e-01],\n",
       "                       [-3.4824e-01, -1.8626e-01, -3.2153e-01],\n",
       "                       [ 3.2428e-01,  2.2979e-01, -3.3659e-01],\n",
       "                       [-8.2076e-03,  1.1281e-01, -3.1260e-01],\n",
       "                       [-1.4949e-01,  1.3050e-01,  1.8659e-01],\n",
       "                       [ 2.3600e-01, -9.5636e-02,  1.8234e-01],\n",
       "                       [ 2.0609e-01,  3.6089e-01,  1.6499e-02],\n",
       "                       [-2.0855e-01,  1.7264e-01,  3.8585e-02],\n",
       "                       [ 1.3532e-01,  7.8456e-02, -2.6733e-01],\n",
       "                       [-2.6005e-01,  1.1110e-01, -1.6201e-01],\n",
       "                       [ 2.4597e-01,  9.6664e-02,  3.1595e-01],\n",
       "                       [-2.8882e-01,  2.9777e-01,  2.1607e-01],\n",
       "                       [ 3.2172e-01,  1.8823e-01, -2.3080e-01]],\n",
       "              \n",
       "                      [[-3.3789e-01,  2.8036e-01,  2.0701e-01],\n",
       "                       [ 1.3867e-01,  2.7084e-01,  2.4362e-01],\n",
       "                       [-5.8969e-02,  2.2844e-02, -2.2163e-01],\n",
       "                       [-2.4505e-01, -7.5528e-02,  2.2524e-01],\n",
       "                       [-1.1081e-01,  1.5642e-01,  4.3539e-01],\n",
       "                       [-2.8597e-01,  2.8240e-01,  3.6874e-02],\n",
       "                       [-1.4163e-01,  1.6858e-01, -1.0931e-01],\n",
       "                       [ 3.1796e-01,  2.3525e-01,  2.6904e-02],\n",
       "                       [ 1.5217e-01, -1.0345e-01, -2.7982e-01],\n",
       "                       [ 1.3356e-01, -1.0023e-01,  9.9032e-02],\n",
       "                       [ 1.8746e-01,  3.1764e-01,  1.3074e-01],\n",
       "                       [-2.5654e-01, -2.2727e-01, -1.7185e-01],\n",
       "                       [ 3.6495e-01,  1.1608e-01, -4.6598e-02],\n",
       "                       [ 1.8602e-01, -4.2415e-02, -2.7429e-01],\n",
       "                       [ 3.0747e-01, -6.4335e-02, -2.6869e-02],\n",
       "                       [-9.5480e-02,  2.7114e-01, -1.7313e-01]],\n",
       "              \n",
       "                      [[ 2.7372e-02, -1.6440e-02, -2.1662e-01],\n",
       "                       [ 9.2220e-02,  1.2327e-01,  1.7368e-01],\n",
       "                       [ 3.0541e-01, -1.9711e-01, -6.1049e-02],\n",
       "                       [ 1.9805e-01,  1.0159e-01,  3.2123e-01],\n",
       "                       [-5.6747e-02, -2.9989e-01,  1.6321e-01],\n",
       "                       [ 2.4016e-01, -2.5167e-01, -8.2373e-02],\n",
       "                       [-1.0109e-01,  8.3733e-02, -6.2700e-02],\n",
       "                       [ 6.6886e-02, -2.4653e-01,  1.8503e-01],\n",
       "                       [ 1.2194e-02, -2.4123e-01, -4.1440e-01],\n",
       "                       [-2.8246e-01, -1.6674e-02, -2.5044e-01],\n",
       "                       [ 5.5567e-02, -1.5146e-01, -2.0459e-01],\n",
       "                       [ 1.4590e-01, -3.4145e-01, -3.1658e-01],\n",
       "                       [ 2.7056e-01, -8.4463e-02, -7.3337e-02],\n",
       "                       [ 7.7220e-02, -3.0788e-01,  2.1888e-01],\n",
       "                       [ 2.3154e-01,  1.2259e-01,  6.7040e-02],\n",
       "                       [-2.6230e-01, -5.0990e-02,  2.1851e-01]],\n",
       "              \n",
       "                      [[ 3.3410e-01,  1.6242e-01, -2.1425e-01],\n",
       "                       [ 1.2019e-01, -3.5880e-02,  9.6704e-02],\n",
       "                       [ 9.0027e-02,  2.5047e-04, -2.3888e-01],\n",
       "                       [-3.9962e-01, -1.9788e-01,  3.9360e-04],\n",
       "                       [-2.7002e-01,  1.1966e-01,  2.4234e-01],\n",
       "                       [ 1.5225e-01,  1.3598e-02,  1.1766e-01],\n",
       "                       [ 2.4418e-01, -4.0643e-02,  2.7448e-01],\n",
       "                       [-1.6264e-01,  1.5711e-01,  5.8966e-02],\n",
       "                       [-1.2913e-01,  3.0131e-01,  1.0351e-01],\n",
       "                       [ 3.5807e-01,  1.0065e-01, -1.6038e-01],\n",
       "                       [ 1.2792e-02,  2.1985e-02,  1.5160e-01],\n",
       "                       [ 2.4336e-01, -9.7597e-02,  2.8168e-02],\n",
       "                       [ 1.8564e-01, -5.6866e-02,  1.7216e-01],\n",
       "                       [-1.8730e-01,  3.9302e-01,  2.2670e-01],\n",
       "                       [-4.1888e-02,  1.2774e-01,  2.2918e-02],\n",
       "                       [ 3.5122e-01,  3.0867e-01, -1.2717e-01]],\n",
       "              \n",
       "                      [[-2.6582e-01,  6.4512e-02,  1.1076e-01],\n",
       "                       [-1.2797e-01, -3.0319e-01,  1.6720e-01],\n",
       "                       [-3.4809e-01, -3.1332e-01, -2.7070e-01],\n",
       "                       [ 9.9372e-02, -1.2504e-01, -2.0649e-01],\n",
       "                       [-3.4180e-01,  2.4614e-01,  2.6609e-01],\n",
       "                       [ 2.0631e-01,  3.9179e-02,  1.5921e-01],\n",
       "                       [-1.9567e-01, -1.7956e-01,  2.4721e-03],\n",
       "                       [-3.5313e-02, -1.1526e-01,  4.3251e-01],\n",
       "                       [ 2.5605e-01, -1.3053e-01,  3.9061e-01],\n",
       "                       [-2.5321e-01,  2.8093e-02,  2.7897e-01],\n",
       "                       [ 1.3314e-03,  1.7344e-01,  2.2173e-01],\n",
       "                       [ 1.7146e-01,  2.0521e-01,  1.1127e-01],\n",
       "                       [-1.7341e-01, -2.2059e-01, -3.6792e-02],\n",
       "                       [-2.9978e-01,  4.2080e-02, -2.0549e-02],\n",
       "                       [ 2.5054e-01,  4.8520e-02, -5.5656e-02],\n",
       "                       [-3.1457e-01,  9.7325e-03, -1.0067e-01]],\n",
       "              \n",
       "                      [[ 3.8033e-02,  2.8065e-01, -2.7745e-01],\n",
       "                       [-2.7514e-01, -1.1535e-01,  3.0784e-01],\n",
       "                       [-3.2022e-01, -4.1880e-03,  2.4718e-01],\n",
       "                       [ 3.1798e-01, -6.6017e-02, -1.2021e-02],\n",
       "                       [ 8.8789e-02,  9.4532e-02, -4.0738e-01],\n",
       "                       [ 4.2396e-01, -7.8224e-02, -1.3369e-01],\n",
       "                       [-3.4082e-01, -4.6165e-02,  2.6277e-01],\n",
       "                       [-1.5864e-01,  1.0179e-01, -1.3861e-01],\n",
       "                       [ 2.5599e-02, -1.9546e-01, -2.9498e-01],\n",
       "                       [-1.9850e-01,  8.3410e-03, -1.4044e-01],\n",
       "                       [ 2.1067e-01,  2.0382e-01, -2.6897e-02],\n",
       "                       [ 2.4051e-01, -2.5199e-01,  1.3911e-02],\n",
       "                       [-2.2611e-01,  1.2173e-01, -1.7000e-01],\n",
       "                       [ 3.7786e-02, -3.0807e-01, -2.6494e-01],\n",
       "                       [-3.7293e-01,  2.2271e-01, -1.7186e-01],\n",
       "                       [ 1.2854e-01, -1.6119e-01,  1.6226e-01]],\n",
       "              \n",
       "                      [[-2.6652e-02,  5.0068e-02,  4.8162e-02],\n",
       "                       [ 3.2623e-01,  8.2707e-03, -2.1881e-02],\n",
       "                       [-4.8560e-02,  7.7611e-02,  7.7430e-02],\n",
       "                       [ 1.5164e-01,  2.3772e-01, -3.3587e-02],\n",
       "                       [ 7.3576e-02,  2.4716e-02, -3.6154e-01],\n",
       "                       [ 1.8104e-01,  3.3032e-01, -3.2061e-01],\n",
       "                       [-2.1173e-01,  1.5970e-01, -1.3392e-01],\n",
       "                       [ 1.8915e-01,  1.9086e-02, -2.0136e-01],\n",
       "                       [-6.7905e-02, -1.0877e-01,  8.1525e-02],\n",
       "                       [ 1.7062e-01,  2.5992e-01, -2.7304e-01],\n",
       "                       [-2.6936e-01,  2.9231e-01,  2.8716e-01],\n",
       "                       [ 3.1247e-02, -1.8753e-01,  3.9342e-01],\n",
       "                       [-9.4205e-02, -3.2574e-01, -1.0005e-01],\n",
       "                       [-7.0750e-02, -1.3695e-01,  2.0384e-01],\n",
       "                       [ 1.1158e-01, -4.0381e-01, -3.1031e-01],\n",
       "                       [-1.8990e-01, -5.8517e-03,  3.2831e-01]],\n",
       "              \n",
       "                      [[ 1.4286e-02, -3.2373e-02, -1.8932e-01],\n",
       "                       [ 7.2810e-02,  1.5735e-01, -9.9983e-02],\n",
       "                       [-6.7967e-02, -2.8533e-02,  1.1636e-01],\n",
       "                       [-1.1422e-01,  2.8772e-01,  1.4818e-01],\n",
       "                       [-1.0495e-01,  4.4585e-01,  1.9912e-01],\n",
       "                       [-2.6375e-01,  1.3171e-01,  2.4959e-02],\n",
       "                       [ 4.0432e-02,  2.4277e-01, -2.8530e-01],\n",
       "                       [-1.5653e-01, -2.7630e-01, -1.8222e-02],\n",
       "                       [ 2.6719e-01,  2.7389e-01,  1.2130e-01],\n",
       "                       [-3.6245e-01, -3.2221e-01,  5.0880e-02],\n",
       "                       [-3.0818e-01,  1.8001e-02,  1.0083e-01],\n",
       "                       [-2.0653e-01,  5.4081e-02,  3.7836e-01],\n",
       "                       [-2.1937e-01,  2.6842e-01,  3.5132e-01],\n",
       "                       [ 1.1195e-01, -1.9400e-01, -7.6663e-02],\n",
       "                       [-1.3177e-01,  1.2303e-01,  2.2007e-01],\n",
       "                       [ 3.7831e-01,  1.0925e-01,  2.0667e-01]],\n",
       "              \n",
       "                      [[-1.3567e-01, -2.5263e-01, -1.8925e-02],\n",
       "                       [-1.7957e-01, -2.4817e-01,  7.7810e-02],\n",
       "                       [-1.8986e-01,  1.2707e-01, -1.3517e-01],\n",
       "                       [ 2.9504e-01,  1.1259e-01,  3.1722e-01],\n",
       "                       [ 3.7945e-01,  1.6569e-01,  1.1184e-01],\n",
       "                       [-2.1713e-01, -1.7894e-01,  8.7416e-02],\n",
       "                       [ 3.4298e-02,  3.7736e-01, -1.3288e-01],\n",
       "                       [ 1.4371e-01,  3.2809e-01, -2.8078e-01],\n",
       "                       [-3.4603e-01, -1.2434e-01,  2.2526e-01],\n",
       "                       [ 1.7973e-01,  7.2827e-02, -2.0608e-01],\n",
       "                       [-2.7721e-01,  2.6304e-01,  7.2893e-02],\n",
       "                       [ 1.6026e-01, -2.5363e-02,  5.7818e-02],\n",
       "                       [ 2.8821e-01,  1.5750e-01,  1.8510e-01],\n",
       "                       [ 4.2651e-02, -7.4111e-03,  1.4113e-02],\n",
       "                       [-3.3407e-01, -5.3047e-02, -1.7074e-02],\n",
       "                       [-1.6558e-01,  1.3948e-01,  3.2346e-01]],\n",
       "              \n",
       "                      [[ 1.8251e-01, -2.2013e-02, -1.5930e-01],\n",
       "                       [-1.6921e-02,  9.9581e-03, -2.4479e-01],\n",
       "                       [-2.6801e-01,  1.5175e-01,  2.0322e-01],\n",
       "                       [ 1.3476e-02, -2.2558e-01,  5.0719e-02],\n",
       "                       [ 1.0812e-03,  1.0936e-01,  8.1686e-02],\n",
       "                       [ 4.3407e-02, -2.4233e-02, -5.6737e-02],\n",
       "                       [-3.3329e-01, -2.8216e-01,  3.7776e-01],\n",
       "                       [-3.6896e-01, -1.7135e-01,  4.4502e-02],\n",
       "                       [-3.2230e-01, -9.4146e-02, -1.3020e-01],\n",
       "                       [-2.1798e-01, -2.3079e-01, -8.9427e-02],\n",
       "                       [ 2.4343e-01, -9.1945e-02,  2.3746e-01],\n",
       "                       [ 1.3072e-01, -1.7521e-01,  9.5373e-02],\n",
       "                       [-1.3303e-01,  1.4446e-01, -3.5500e-01],\n",
       "                       [ 2.7412e-01, -1.9344e-01, -3.4988e-01],\n",
       "                       [-3.2044e-01, -8.1613e-02, -2.5067e-01],\n",
       "                       [ 1.9475e-01,  2.9532e-01,  3.0599e-01]],\n",
       "              \n",
       "                      [[-1.3354e-01,  2.3843e-01,  2.0507e-01],\n",
       "                       [ 2.7068e-01,  1.0276e-02, -5.1262e-03],\n",
       "                       [ 1.7028e-02, -8.8458e-02, -8.1459e-02],\n",
       "                       [-5.9132e-02,  3.3197e-01, -3.1978e-01],\n",
       "                       [ 2.0242e-01,  8.7412e-02, -3.2837e-01],\n",
       "                       [ 2.0799e-01, -2.4974e-01, -5.1842e-02],\n",
       "                       [ 3.8666e-01, -5.9560e-02,  2.9469e-01],\n",
       "                       [ 2.0263e-01, -9.6269e-03,  6.7702e-02],\n",
       "                       [-3.6096e-01,  1.0850e-01, -9.3094e-02],\n",
       "                       [ 2.6020e-01,  1.1973e-01, -6.2941e-02],\n",
       "                       [-1.2301e-01,  2.8213e-01,  3.0287e-02],\n",
       "                       [-2.3065e-01, -1.9365e-02, -1.4009e-01],\n",
       "                       [ 1.1405e-01,  1.8835e-01,  8.7821e-02],\n",
       "                       [-2.5446e-01,  9.5033e-02,  1.2531e-01],\n",
       "                       [-3.4203e-01, -2.6513e-01, -1.4939e-01],\n",
       "                       [ 1.2507e-01, -8.5195e-02, -1.1113e-01]],\n",
       "              \n",
       "                      [[-2.8518e-01, -2.2759e-01,  9.8729e-02],\n",
       "                       [-2.7247e-01,  7.9096e-02, -1.9384e-01],\n",
       "                       [ 1.5713e-02,  2.5358e-01,  3.1869e-01],\n",
       "                       [-1.0026e-01,  7.9294e-02,  1.0006e-01],\n",
       "                       [ 2.5233e-01, -1.6859e-02, -1.3371e-01],\n",
       "                       [ 2.7510e-01,  3.4361e-02,  5.8367e-02],\n",
       "                       [-3.6281e-02,  2.0487e-01, -3.1120e-01],\n",
       "                       [-3.5180e-01,  1.4594e-01,  2.3505e-02],\n",
       "                       [-3.3349e-01, -9.7905e-02, -2.9129e-01],\n",
       "                       [-9.8692e-02,  3.6581e-02,  2.7140e-01],\n",
       "                       [-1.8178e-01,  2.2947e-01, -6.6150e-02],\n",
       "                       [-1.7727e-02, -3.5723e-01, -2.1901e-01],\n",
       "                       [-5.2875e-04,  2.5999e-02, -1.7862e-01],\n",
       "                       [ 1.9340e-01, -3.3399e-01, -1.1603e-01],\n",
       "                       [ 2.2647e-01, -2.7389e-01,  3.2830e-01],\n",
       "                       [ 2.2260e-01,  2.0472e-02,  6.9297e-02]],\n",
       "              \n",
       "                      [[ 2.7484e-01,  7.4373e-02, -5.7544e-02],\n",
       "                       [-1.8701e-01, -2.3843e-01,  3.1506e-01],\n",
       "                       [-1.8414e-01, -1.0449e-01,  1.3202e-01],\n",
       "                       [-2.2486e-01, -3.8353e-01,  5.0654e-02],\n",
       "                       [ 1.3203e-01, -2.0695e-02,  3.6371e-01],\n",
       "                       [ 8.0255e-02, -4.7512e-02, -1.1026e-01],\n",
       "                       [-2.4185e-01, -1.5809e-01, -2.7084e-01],\n",
       "                       [ 4.0591e-01, -1.2777e-01, -2.8542e-01],\n",
       "                       [ 1.8829e-01,  9.6094e-02, -2.2361e-01],\n",
       "                       [ 1.9773e-01,  1.2117e-01,  1.5187e-01],\n",
       "                       [-6.9690e-02,  5.9899e-03, -1.4899e-01],\n",
       "                       [ 1.8903e-01,  6.2003e-02,  1.7358e-01],\n",
       "                       [-2.0990e-01, -9.1403e-02, -1.2202e-01],\n",
       "                       [ 3.1786e-01,  3.2035e-02, -2.9809e-02],\n",
       "                       [-4.7113e-02, -1.5170e-01, -2.6699e-01],\n",
       "                       [-5.8732e-02,  3.4049e-01, -1.2392e-01]],\n",
       "              \n",
       "                      [[-2.4630e-01,  4.5039e-02,  9.5281e-02],\n",
       "                       [-1.8577e-01, -1.2591e-01,  1.6134e-01],\n",
       "                       [ 8.0800e-02, -1.6278e-01,  2.0929e-01],\n",
       "                       [-2.0828e-01,  1.0096e-01, -3.3533e-01],\n",
       "                       [-2.9067e-01,  1.8089e-01,  1.5830e-01],\n",
       "                       [ 1.1001e-01,  1.0697e-01,  2.3479e-01],\n",
       "                       [-9.6301e-02, -2.3346e-02,  2.6300e-01],\n",
       "                       [-2.5251e-01,  3.9218e-01, -1.0709e-01],\n",
       "                       [ 2.8562e-01, -1.0492e-01, -2.3180e-01],\n",
       "                       [-2.6498e-01, -2.5885e-01,  9.2141e-02],\n",
       "                       [-1.0098e-01, -2.0427e-01,  3.1188e-01],\n",
       "                       [ 5.0185e-01,  8.6752e-02,  2.1172e-01],\n",
       "                       [-1.3821e-01, -2.8222e-01,  2.5788e-01],\n",
       "                       [-3.3090e-01, -2.8827e-01,  4.8412e-02],\n",
       "                       [-3.3226e-01,  1.8532e-02,  4.6216e-02],\n",
       "                       [-4.0382e-02, -2.3864e-01,  1.0080e-01]],\n",
       "              \n",
       "                      [[-2.9139e-01,  1.9284e-01, -1.5222e-01],\n",
       "                       [ 5.5634e-02,  3.0406e-01, -8.8401e-02],\n",
       "                       [ 2.5618e-01,  1.3731e-01,  2.9245e-01],\n",
       "                       [-2.0530e-01,  9.4431e-02, -2.7282e-01],\n",
       "                       [-1.0739e-01, -1.9485e-01,  3.3099e-01],\n",
       "                       [ 1.5734e-01,  1.5686e-01,  3.0075e-01],\n",
       "                       [-5.2753e-03,  3.3091e-02, -3.0984e-01],\n",
       "                       [-1.7387e-01,  1.0285e-01, -1.6501e-02],\n",
       "                       [ 1.8477e-01, -3.2943e-02, -1.1274e-01],\n",
       "                       [ 6.8820e-02, -2.9577e-01,  1.3429e-01],\n",
       "                       [-4.6350e-02, -3.4253e-01, -2.1372e-01],\n",
       "                       [ 3.5340e-01,  3.4542e-01,  2.7134e-01],\n",
       "                       [-1.1948e-01,  1.7185e-01,  2.2921e-01],\n",
       "                       [ 2.2371e-01, -1.0901e-01,  2.4129e-01],\n",
       "                       [-9.1129e-02,  1.0991e-01,  1.8507e-01],\n",
       "                       [-6.9275e-02,  1.7117e-01, -1.9751e-01]]], device='cuda:0')),\n",
       "             ('module.model.model.1.filter_convs.1.bias',\n",
       "              tensor([ 6.2946e-03,  1.6280e-02, -2.2119e-02, -6.4598e-03,  2.2649e-03,\n",
       "                      -2.0181e-02, -5.8320e-03, -5.4382e-03, -1.9711e-02,  2.6404e-03,\n",
       "                       1.6852e-02, -1.9382e-02,  5.7492e-05, -1.2022e-02, -4.3749e-03,\n",
       "                       1.1949e-03], device='cuda:0')),\n",
       "             ('module.model.model.1.filter_convs.2.weight',\n",
       "              tensor([[[-2.3289e-01,  3.0382e-01, -2.1034e-01],\n",
       "                       [ 4.3981e-02, -1.6504e-01, -3.1289e-01],\n",
       "                       [ 3.5413e-01, -1.9280e-01, -2.3162e-01],\n",
       "                       [-1.7916e-01, -3.8016e-01,  1.8189e-02],\n",
       "                       [-5.6639e-02, -3.7231e-02,  3.8751e-01],\n",
       "                       [ 1.0860e-01,  1.3500e-01,  8.7856e-02],\n",
       "                       [-9.3915e-02,  1.1663e-01,  1.8324e-01],\n",
       "                       [-2.7098e-01,  3.0287e-02,  3.4513e-01],\n",
       "                       [-2.3634e-01,  6.0094e-02, -3.2611e-01],\n",
       "                       [-2.9709e-02,  3.1514e-01, -3.9003e-01],\n",
       "                       [ 6.2282e-02,  2.1980e-01,  2.3382e-01],\n",
       "                       [ 2.1836e-01, -2.0590e-01, -1.6602e-01],\n",
       "                       [ 4.3054e-02, -1.1803e-01,  1.7186e-01],\n",
       "                       [ 2.0695e-02,  2.0297e-01,  4.2080e-02],\n",
       "                       [ 8.5933e-02, -4.0201e-02, -2.5078e-01],\n",
       "                       [ 3.6649e-01, -1.2704e-01, -2.8915e-01]],\n",
       "              \n",
       "                      [[ 3.3571e-01, -1.2133e-01, -2.9989e-01],\n",
       "                       [ 4.1454e-01,  1.8729e-01, -4.7049e-02],\n",
       "                       [-2.6280e-01,  4.0965e-02,  1.1905e-01],\n",
       "                       [ 2.4456e-01, -9.5718e-02,  6.3559e-02],\n",
       "                       [-4.9434e-02, -5.4209e-02,  3.7308e-01],\n",
       "                       [-1.2203e-01, -1.7778e-01,  3.1322e-01],\n",
       "                       [-3.0768e-02,  1.9482e-01, -1.6244e-01],\n",
       "                       [-4.0126e-02, -1.7075e-01,  1.9473e-01],\n",
       "                       [ 2.3851e-01,  2.4630e-01, -2.1604e-01],\n",
       "                       [-1.3953e-04,  2.4453e-01,  9.7880e-02],\n",
       "                       [ 2.9846e-01,  2.6769e-01,  1.9535e-01],\n",
       "                       [-1.8774e-01, -1.1054e-01,  2.5942e-01],\n",
       "                       [-3.1067e-01,  2.9782e-02,  2.1007e-02],\n",
       "                       [-7.2892e-03, -3.6258e-02,  2.3707e-01],\n",
       "                       [ 4.3848e-01, -3.2955e-01,  8.9945e-02],\n",
       "                       [-2.2389e-01, -2.6628e-01,  1.0284e-01]],\n",
       "              \n",
       "                      [[-1.2391e-01,  1.6497e-01, -3.0741e-01],\n",
       "                       [ 3.3271e-02,  3.7426e-01,  2.0002e-01],\n",
       "                       [-3.3771e-01,  1.5657e-01, -1.5482e-01],\n",
       "                       [-1.1595e-01,  1.8920e-01, -2.2040e-01],\n",
       "                       [ 1.1977e-01, -1.4204e-01, -3.0934e-01],\n",
       "                       [-3.1977e-02, -2.5862e-01, -3.2222e-01],\n",
       "                       [-1.8615e-01,  1.0482e-01,  1.1487e-02],\n",
       "                       [ 7.1264e-02,  1.2100e-01, -3.0733e-01],\n",
       "                       [-1.2085e-01, -1.1750e-01, -2.1727e-01],\n",
       "                       [ 1.5569e-01,  2.2291e-01, -2.2676e-01],\n",
       "                       [ 1.0618e-01, -1.4212e-01,  1.0656e-01],\n",
       "                       [ 2.4956e-01, -2.8163e-01, -6.1708e-02],\n",
       "                       [-4.0486e-02,  2.9959e-01,  2.6322e-01],\n",
       "                       [-1.2569e-01, -2.9343e-01, -1.4931e-01],\n",
       "                       [ 1.3318e-01,  9.0585e-03,  2.4805e-01],\n",
       "                       [ 1.3948e-02,  2.0362e-01,  2.2279e-01]],\n",
       "              \n",
       "                      [[ 2.5280e-01,  3.9799e-02, -1.6948e-01],\n",
       "                       [ 1.5727e-01,  3.2994e-01,  7.3467e-02],\n",
       "                       [ 2.4822e-01,  1.6445e-01,  3.5926e-01],\n",
       "                       [ 2.8494e-01,  2.2085e-01,  2.9008e-01],\n",
       "                       [ 2.7521e-01,  1.8093e-01, -7.3512e-02],\n",
       "                       [ 2.7233e-01,  4.7076e-02,  8.4336e-02],\n",
       "                       [ 1.1760e-01, -4.4620e-02, -1.4094e-01],\n",
       "                       [ 4.0501e-02,  1.9081e-01, -1.9800e-01],\n",
       "                       [-7.7377e-02,  3.5948e-01, -4.0436e-01],\n",
       "                       [ 4.5402e-02,  2.6155e-01, -1.4594e-01],\n",
       "                       [ 2.9741e-01, -2.1353e-01,  8.9718e-02],\n",
       "                       [ 4.0308e-01, -2.5543e-01, -2.4813e-01],\n",
       "                       [-2.4145e-01,  1.4752e-01,  1.6774e-02],\n",
       "                       [ 4.9021e-02, -1.6241e-01, -2.9264e-02],\n",
       "                       [ 2.0157e-01,  9.8576e-02, -3.7869e-01],\n",
       "                       [-1.3925e-01,  2.8929e-01,  1.9947e-01]],\n",
       "              \n",
       "                      [[-2.8321e-01,  9.5726e-02,  1.6687e-01],\n",
       "                       [-5.2993e-02,  4.5772e-02, -3.2700e-01],\n",
       "                       [-1.2991e-01,  1.5312e-01,  3.5313e-01],\n",
       "                       [ 7.6431e-02, -1.3204e-01, -2.6614e-01],\n",
       "                       [-5.0687e-02, -1.1241e-01,  2.9462e-01],\n",
       "                       [-6.0577e-02, -4.1488e-01,  7.1217e-02],\n",
       "                       [ 2.1918e-01, -1.5081e-01,  2.2229e-01],\n",
       "                       [-1.8030e-01, -1.6701e-01, -2.1552e-01],\n",
       "                       [-1.1750e-01, -2.8604e-01, -1.9509e-01],\n",
       "                       [ 2.3880e-01, -1.0738e-01,  2.4115e-01],\n",
       "                       [ 2.6090e-01, -2.5322e-01,  1.3666e-01],\n",
       "                       [ 1.8324e-01, -1.9580e-01,  2.0514e-01],\n",
       "                       [-4.8552e-03,  1.9254e-01,  1.8449e-01],\n",
       "                       [ 2.4523e-01,  9.1188e-02,  1.1973e-01],\n",
       "                       [ 1.0189e-01, -9.6843e-02,  1.9167e-01],\n",
       "                       [ 1.5625e-02, -3.1445e-01, -1.1645e-01]],\n",
       "              \n",
       "                      [[-1.5576e-01,  3.1953e-01,  1.3731e-01],\n",
       "                       [-2.3437e-01,  1.5777e-01, -5.1922e-02],\n",
       "                       [-2.4877e-01, -8.4453e-02,  2.0980e-01],\n",
       "                       [-4.0855e-02,  3.5814e-03, -2.2264e-02],\n",
       "                       [-3.0422e-01,  2.4491e-01,  1.1337e-02],\n",
       "                       [ 2.9674e-01,  1.3047e-01,  2.2717e-01],\n",
       "                       [-2.1231e-01, -5.3793e-02, -2.4547e-01],\n",
       "                       [ 1.2476e-01, -1.5917e-01, -1.9398e-01],\n",
       "                       [-3.7287e-01, -1.9094e-01,  2.9279e-01],\n",
       "                       [ 1.8754e-01,  1.5063e-01, -2.4538e-02],\n",
       "                       [-2.4884e-02, -3.0004e-01, -1.2547e-01],\n",
       "                       [-1.2543e-01, -3.7423e-01, -1.0648e-01],\n",
       "                       [-1.2504e-01,  1.4073e-01, -8.6033e-02],\n",
       "                       [ 2.6169e-01,  2.7224e-01,  1.4594e-02],\n",
       "                       [-8.3366e-02, -3.6573e-01,  1.9475e-01],\n",
       "                       [ 9.6023e-03, -2.3810e-01,  1.7794e-01]],\n",
       "              \n",
       "                      [[-2.7848e-01, -1.2291e-01,  2.3016e-01],\n",
       "                       [-2.0656e-01, -8.1614e-02,  1.9261e-01],\n",
       "                       [-2.3565e-01,  2.2636e-01,  1.9716e-02],\n",
       "                       [-2.2908e-02, -1.8862e-01, -2.3750e-01],\n",
       "                       [-1.7195e-01, -4.0429e-01, -3.0844e-01],\n",
       "                       [ 2.2233e-01, -2.4689e-01, -2.6402e-01],\n",
       "                       [ 7.5185e-02,  1.5343e-01, -1.5995e-01],\n",
       "                       [ 1.6792e-01,  6.2721e-02,  4.1020e-01],\n",
       "                       [-6.2559e-02,  1.7493e-01, -2.3474e-01],\n",
       "                       [-1.0076e-02, -6.3815e-02,  2.4417e-01],\n",
       "                       [-1.5494e-01,  3.8908e-02,  1.4752e-01],\n",
       "                       [ 1.7451e-01, -1.2474e-01, -4.3940e-01],\n",
       "                       [ 4.4089e-01,  2.1304e-02,  1.3501e-01],\n",
       "                       [ 7.1687e-02,  1.7395e-01,  3.1333e-01],\n",
       "                       [-9.9474e-02,  1.1792e-01,  8.3270e-02],\n",
       "                       [-4.0649e-02, -1.3567e-01, -3.0237e-01]],\n",
       "              \n",
       "                      [[-3.1534e-02, -1.9099e-01,  2.2801e-01],\n",
       "                       [ 3.9664e-01, -1.9489e-01, -1.2126e-01],\n",
       "                       [ 9.9155e-02, -1.7889e-01,  1.3561e-01],\n",
       "                       [ 3.5570e-01,  1.8960e-01,  9.5526e-02],\n",
       "                       [ 2.0868e-01,  2.9011e-01,  3.2415e-01],\n",
       "                       [-2.0163e-01,  2.3567e-02,  1.3453e-01],\n",
       "                       [ 2.7394e-01, -3.6737e-01,  1.6120e-01],\n",
       "                       [ 2.7010e-01,  3.2485e-01,  3.3026e-01],\n",
       "                       [-1.4452e-01,  1.6633e-01, -2.7917e-01],\n",
       "                       [-7.2014e-02, -2.5042e-01, -1.7528e-01],\n",
       "                       [ 1.0262e-02, -2.7498e-01, -2.6718e-01],\n",
       "                       [-2.2361e-01,  2.5603e-01,  9.1500e-02],\n",
       "                       [-5.3275e-02,  3.8876e-01, -1.7269e-01],\n",
       "                       [ 9.3901e-02,  7.3957e-02,  1.1508e-01],\n",
       "                       [ 3.3953e-01,  2.2665e-01,  3.1665e-01],\n",
       "                       [ 1.3093e-01, -8.4524e-02, -1.8512e-01]],\n",
       "              \n",
       "                      [[ 2.0125e-01,  1.4673e-01, -2.6774e-01],\n",
       "                       [ 3.8070e-01, -2.4391e-01,  2.0828e-01],\n",
       "                       [ 3.4930e-01,  3.3734e-01, -1.1881e-01],\n",
       "                       [ 1.3340e-01, -3.3396e-02,  2.7015e-01],\n",
       "                       [ 2.2189e-01,  3.0372e-01, -1.5174e-01],\n",
       "                       [ 7.0388e-02,  1.0454e-01,  1.3681e-01],\n",
       "                       [-4.5412e-01, -2.8950e-01,  1.3207e-01],\n",
       "                       [ 1.8360e-01, -1.6752e-01,  5.4126e-02],\n",
       "                       [-4.8818e-02,  7.1788e-02,  4.8494e-02],\n",
       "                       [ 2.7537e-01,  2.7796e-01,  1.3779e-01],\n",
       "                       [-9.7686e-02,  3.3805e-01,  2.2613e-01],\n",
       "                       [ 3.1639e-01, -2.9244e-01,  1.2491e-01],\n",
       "                       [ 2.5931e-01,  3.2660e-01,  1.0238e-01],\n",
       "                       [ 1.2888e-01, -3.4682e-01, -1.6295e-01],\n",
       "                       [-2.0419e-01,  1.9346e-01, -3.6069e-02],\n",
       "                       [-3.6030e-02, -1.0358e-01, -1.9010e-01]],\n",
       "              \n",
       "                      [[ 5.1815e-02,  3.3356e-01,  1.7897e-01],\n",
       "                       [ 1.5834e-01,  2.4737e-01, -2.2573e-01],\n",
       "                       [-2.8509e-01,  6.7763e-02,  2.4873e-01],\n",
       "                       [-2.4701e-02, -3.0633e-01,  1.3970e-01],\n",
       "                       [-3.0547e-01, -1.9593e-01,  2.3544e-01],\n",
       "                       [-3.4569e-01, -2.9054e-01, -1.5996e-01],\n",
       "                       [-2.7117e-02,  3.4498e-02, -7.7813e-02],\n",
       "                       [-8.6308e-02,  1.6678e-01, -2.2361e-01],\n",
       "                       [-7.1002e-02,  7.4062e-02,  8.4280e-02],\n",
       "                       [ 3.1352e-01,  6.9587e-02, -1.9880e-01],\n",
       "                       [-2.0780e-01,  1.1491e-01, -2.6153e-01],\n",
       "                       [ 3.2659e-01,  2.4606e-02, -3.0794e-01],\n",
       "                       [-9.0411e-02,  6.9247e-02,  2.4350e-01],\n",
       "                       [ 3.7093e-01,  1.4232e-01, -7.4874e-03],\n",
       "                       [ 4.5037e-02,  8.5539e-02,  2.4457e-01],\n",
       "                       [-2.7120e-01, -3.0605e-01, -2.1297e-01]],\n",
       "              \n",
       "                      [[-2.2637e-01,  1.8222e-01,  9.4538e-02],\n",
       "                       [-3.6885e-01, -2.7698e-01,  2.9325e-01],\n",
       "                       [ 1.4710e-01, -7.8955e-02, -1.7044e-01],\n",
       "                       [ 3.4028e-01, -1.7512e-01, -3.2437e-02],\n",
       "                       [ 3.3641e-01, -1.8683e-01,  2.8672e-01],\n",
       "                       [ 1.1611e-01, -3.4707e-01, -1.5915e-01],\n",
       "                       [ 2.0657e-01, -6.9097e-02, -1.6776e-01],\n",
       "                       [-1.5112e-01, -1.9816e-01, -1.6388e-01],\n",
       "                       [ 1.9818e-01, -2.7512e-01,  3.3657e-01],\n",
       "                       [ 1.5162e-01, -1.0147e-01,  2.0368e-01],\n",
       "                       [-1.8732e-01,  2.8755e-01,  2.5436e-03],\n",
       "                       [ 1.9365e-01,  1.1693e-01,  9.3103e-02],\n",
       "                       [ 7.2594e-03, -1.7291e-01,  5.9141e-02],\n",
       "                       [-3.1041e-02, -6.5116e-02,  2.4477e-01],\n",
       "                       [-4.5708e-02,  4.1290e-01,  2.9725e-01],\n",
       "                       [-3.3205e-01, -2.5972e-01, -1.5400e-01]],\n",
       "              \n",
       "                      [[-2.3441e-01, -4.3549e-02, -2.6516e-01],\n",
       "                       [-1.2694e-01, -3.1380e-01,  3.3004e-01],\n",
       "                       [-1.0864e-01, -1.4502e-01, -3.6909e-01],\n",
       "                       [-1.8605e-01, -7.7179e-03, -1.4855e-02],\n",
       "                       [-2.5149e-01,  2.5360e-01, -2.8348e-01],\n",
       "                       [-2.1578e-01, -1.7914e-02, -2.0612e-01],\n",
       "                       [ 2.6685e-01,  9.8408e-02, -5.0585e-02],\n",
       "                       [ 2.2579e-01, -1.1908e-01,  7.4042e-02],\n",
       "                       [-2.1643e-01,  1.0963e-03,  3.0823e-01],\n",
       "                       [-2.0116e-01, -3.9009e-02,  3.2430e-01],\n",
       "                       [ 2.3996e-01, -2.7216e-01, -3.8437e-01],\n",
       "                       [ 9.8521e-02,  1.6851e-01,  1.6476e-01],\n",
       "                       [ 2.2265e-01,  2.6184e-01,  3.8115e-01],\n",
       "                       [-3.0615e-01,  2.6020e-01,  3.1534e-01],\n",
       "                       [-1.2263e-01, -2.4756e-01, -2.1623e-01],\n",
       "                       [-1.7281e-01,  3.1155e-01,  2.6666e-01]],\n",
       "              \n",
       "                      [[ 1.3627e-01, -3.6208e-01, -1.8154e-01],\n",
       "                       [-9.1356e-02, -3.2868e-01,  1.0940e-01],\n",
       "                       [ 2.3587e-01,  8.8072e-02, -2.1603e-01],\n",
       "                       [ 2.1575e-01, -5.6477e-02,  2.2159e-01],\n",
       "                       [-3.5848e-01, -1.4802e-01,  2.3279e-01],\n",
       "                       [ 3.3698e-01,  1.7031e-01,  3.1549e-02],\n",
       "                       [-9.7873e-02, -1.2230e-01,  2.9648e-01],\n",
       "                       [-2.5784e-01, -3.5766e-01,  1.2407e-01],\n",
       "                       [-1.8909e-01, -7.3511e-04, -1.1731e-01],\n",
       "                       [ 2.1221e-01,  1.9253e-01, -6.6576e-02],\n",
       "                       [ 3.3230e-01, -2.4860e-01, -3.8512e-01],\n",
       "                       [-5.6903e-02, -7.4232e-02,  2.5562e-01],\n",
       "                       [-1.8965e-01,  5.6023e-02, -2.2475e-03],\n",
       "                       [ 1.4699e-01, -1.2290e-01, -7.4927e-02],\n",
       "                       [ 2.6159e-01, -4.0118e-01, -2.2416e-01],\n",
       "                       [ 3.2020e-01, -1.7348e-01,  2.3040e-01]],\n",
       "              \n",
       "                      [[-3.6423e-01,  1.7032e-01, -3.4229e-02],\n",
       "                       [ 6.9052e-02,  3.9928e-01, -2.0479e-01],\n",
       "                       [-2.6803e-01,  2.7596e-01,  2.9102e-01],\n",
       "                       [ 2.7104e-01,  1.3177e-01,  6.7819e-02],\n",
       "                       [ 2.6921e-01, -2.0744e-01,  2.9476e-02],\n",
       "                       [ 2.7440e-01,  7.8237e-02, -2.3565e-01],\n",
       "                       [-2.7789e-01, -1.5747e-01,  2.6645e-01],\n",
       "                       [-2.1784e-01, -2.3795e-02,  8.6471e-02],\n",
       "                       [-1.0246e-01, -1.2219e-01, -2.5760e-01],\n",
       "                       [-1.5023e-01,  2.9549e-01, -1.0337e-01],\n",
       "                       [ 6.5852e-02, -3.0400e-01,  2.5407e-02],\n",
       "                       [ 3.8374e-01, -8.9086e-02,  1.6042e-01],\n",
       "                       [ 6.6578e-02,  9.3659e-02,  9.0272e-03],\n",
       "                       [-2.8727e-01,  2.2570e-03,  3.3658e-01],\n",
       "                       [ 3.7298e-02,  3.8210e-02,  5.9015e-02],\n",
       "                       [ 3.8549e-01,  2.3264e-01,  1.1165e-01]],\n",
       "              \n",
       "                      [[ 5.1300e-02, -2.0909e-01, -1.2286e-02],\n",
       "                       [ 1.0646e-01, -1.2017e-01, -2.7548e-01],\n",
       "                       [ 1.8317e-01,  3.1787e-01,  2.2371e-01],\n",
       "                       [-1.0405e-01, -2.3284e-02,  2.0588e-01],\n",
       "                       [ 7.9044e-02, -5.0174e-02,  4.4304e-02],\n",
       "                       [ 3.2407e-01, -5.1546e-02, -3.6500e-01],\n",
       "                       [ 2.7062e-01, -2.9628e-01,  3.2338e-01],\n",
       "                       [ 3.6273e-01,  1.1530e-02, -5.4384e-02],\n",
       "                       [-1.8008e-02,  1.9284e-01, -3.2713e-01],\n",
       "                       [ 1.6162e-01, -9.6188e-03, -1.2507e-01],\n",
       "                       [ 8.8687e-04, -2.8802e-01,  1.1458e-01],\n",
       "                       [-3.0772e-01, -1.2752e-01,  5.3660e-02],\n",
       "                       [ 1.0301e-01, -1.1895e-01,  2.1672e-01],\n",
       "                       [ 1.6878e-01, -8.8193e-02,  2.9913e-01],\n",
       "                       [ 2.9268e-01,  1.6566e-01, -3.2431e-01],\n",
       "                       [ 1.9882e-01,  3.0225e-01,  1.2587e-01]],\n",
       "              \n",
       "                      [[ 2.4701e-01, -9.6120e-02, -1.7078e-01],\n",
       "                       [-3.4279e-01,  8.6998e-02, -4.3838e-02],\n",
       "                       [ 2.6845e-01, -2.2397e-01, -1.2648e-01],\n",
       "                       [ 3.0141e-02,  1.2977e-01, -1.6026e-01],\n",
       "                       [ 1.4047e-01,  1.6723e-01, -1.6843e-01],\n",
       "                       [-4.4412e-02,  7.3392e-02,  2.6671e-01],\n",
       "                       [-1.3544e-01, -2.5268e-01, -3.3802e-01],\n",
       "                       [-9.1852e-02, -3.7854e-01, -2.4230e-01],\n",
       "                       [-1.5139e-01, -3.1480e-01,  1.4362e-01],\n",
       "                       [-3.1535e-01,  2.1075e-01, -1.0979e-01],\n",
       "                       [ 1.5243e-01,  1.0135e-01, -3.4144e-02],\n",
       "                       [-6.2890e-02,  3.6065e-02, -1.6673e-01],\n",
       "                       [-6.7221e-02,  1.5866e-01, -1.3828e-01],\n",
       "                       [-1.3237e-01, -3.1854e-01,  7.9090e-02],\n",
       "                       [-1.2094e-01, -2.0808e-02, -1.6951e-01],\n",
       "                       [-1.2673e-01, -1.6702e-01,  6.1348e-02]]], device='cuda:0')),\n",
       "             ('module.model.model.1.filter_convs.2.bias',\n",
       "              tensor([-0.0237, -0.0038, -0.0013,  0.0163, -0.0049, -0.0014,  0.0131,  0.0008,\n",
       "                      -0.0030,  0.0039,  0.0152,  0.0378,  0.0044, -0.0099,  0.0057, -0.0144],\n",
       "                     device='cuda:0')),\n",
       "             ('module.model.model.1.filter_convs.3.weight',\n",
       "              tensor([[[ 0.0524,  0.1953, -0.4693],\n",
       "                       [ 0.2994,  0.1950, -0.1578],\n",
       "                       [ 0.2115,  0.3159, -0.0504],\n",
       "                       [-0.0148,  0.1476,  0.0545],\n",
       "                       [-0.0631, -0.1427,  0.0593],\n",
       "                       [ 0.0742,  0.1594, -0.0347],\n",
       "                       [-0.1028,  0.2325,  0.0812],\n",
       "                       [-0.3841,  0.3174,  0.3432],\n",
       "                       [-0.4219, -0.0767,  0.1881],\n",
       "                       [-0.1345,  0.0302,  0.1701],\n",
       "                       [ 0.0815,  0.1962, -0.2218],\n",
       "                       [-0.2548,  0.0731,  0.1676],\n",
       "                       [-0.0927, -0.0560,  0.1072],\n",
       "                       [ 0.0223,  0.3134, -0.3022],\n",
       "                       [ 0.0095,  0.1214,  0.0454],\n",
       "                       [-0.3605, -0.0329, -0.2460]],\n",
       "              \n",
       "                      [[-0.0724,  0.0497,  0.0827],\n",
       "                       [ 0.3733, -0.0744, -0.0119],\n",
       "                       [-0.4241,  0.1490, -0.2045],\n",
       "                       [ 0.0198,  0.1508, -0.1024],\n",
       "                       [ 0.1806, -0.3932,  0.1939],\n",
       "                       [ 0.1819,  0.3270, -0.1183],\n",
       "                       [ 0.2076,  0.0014,  0.2958],\n",
       "                       [-0.0518, -0.1400,  0.2164],\n",
       "                       [ 0.0756, -0.3145,  0.0277],\n",
       "                       [ 0.1723,  0.2757,  0.0953],\n",
       "                       [-0.0093, -0.3771,  0.2706],\n",
       "                       [-0.2626,  0.0066, -0.1518],\n",
       "                       [-0.2280,  0.2035,  0.1468],\n",
       "                       [-0.2710, -0.2068, -0.0803],\n",
       "                       [-0.2615,  0.3164,  0.3693],\n",
       "                       [ 0.0250,  0.2700,  0.1781]],\n",
       "              \n",
       "                      [[ 0.4053,  0.0125, -0.1688],\n",
       "                       [ 0.1480,  0.1999, -0.2008],\n",
       "                       [ 0.3527, -0.0550,  0.3677],\n",
       "                       [ 0.1737,  0.0722, -0.2158],\n",
       "                       [-0.1344,  0.0195,  0.0133],\n",
       "                       [ 0.0893,  0.0676, -0.0261],\n",
       "                       [ 0.0212,  0.2901,  0.2955],\n",
       "                       [-0.0278, -0.2639,  0.0120],\n",
       "                       [-0.0532,  0.0695, -0.2954],\n",
       "                       [-0.0289, -0.0132,  0.3002],\n",
       "                       [ 0.3426, -0.2768,  0.1749],\n",
       "                       [-0.0691, -0.1424, -0.2519],\n",
       "                       [ 0.0967, -0.0968, -0.3685],\n",
       "                       [-0.3528,  0.0935,  0.0607],\n",
       "                       [-0.1521, -0.2863,  0.0195],\n",
       "                       [ 0.1716,  0.1792,  0.3472]],\n",
       "              \n",
       "                      [[-0.0009,  0.2810, -0.2910],\n",
       "                       [ 0.2847, -0.0497, -0.2863],\n",
       "                       [-0.3227, -0.3371, -0.0374],\n",
       "                       [ 0.0934,  0.2290, -0.0396],\n",
       "                       [ 0.1976,  0.0482, -0.1192],\n",
       "                       [-0.1123,  0.2248,  0.0597],\n",
       "                       [-0.1071, -0.1299,  0.0631],\n",
       "                       [ 0.1707,  0.0242,  0.2350],\n",
       "                       [ 0.3538, -0.2525,  0.1583],\n",
       "                       [-0.0534,  0.0836, -0.1764],\n",
       "                       [ 0.2405, -0.2167,  0.3300],\n",
       "                       [-0.0846, -0.1314, -0.0817],\n",
       "                       [-0.1775, -0.0382,  0.0088],\n",
       "                       [-0.1536,  0.2069,  0.3305],\n",
       "                       [ 0.3777, -0.0442,  0.2228],\n",
       "                       [-0.1285,  0.2180,  0.2878]],\n",
       "              \n",
       "                      [[ 0.1503,  0.0610, -0.0199],\n",
       "                       [-0.1937, -0.1397, -0.2250],\n",
       "                       [ 0.1087, -0.1889,  0.0983],\n",
       "                       [-0.1588,  0.2196,  0.3804],\n",
       "                       [-0.0522, -0.0348, -0.2400],\n",
       "                       [ 0.1524,  0.2110, -0.0963],\n",
       "                       [ 0.0976,  0.1823,  0.3182],\n",
       "                       [-0.1134,  0.2261, -0.3865],\n",
       "                       [ 0.2475,  0.1363,  0.1971],\n",
       "                       [ 0.0481, -0.0558,  0.1740],\n",
       "                       [-0.2183,  0.1416, -0.3643],\n",
       "                       [ 0.2631, -0.0430, -0.2129],\n",
       "                       [-0.0739, -0.2468, -0.2032],\n",
       "                       [-0.2376, -0.2088,  0.0752],\n",
       "                       [-0.2841,  0.3557, -0.3101],\n",
       "                       [ 0.0087,  0.4097,  0.1445]],\n",
       "              \n",
       "                      [[-0.0670,  0.1120,  0.2802],\n",
       "                       [ 0.1519,  0.0521, -0.1998],\n",
       "                       [ 0.1558, -0.2920, -0.3308],\n",
       "                       [-0.2882, -0.4172, -0.2589],\n",
       "                       [ 0.2406, -0.2663,  0.3470],\n",
       "                       [ 0.2133, -0.0712,  0.2015],\n",
       "                       [-0.0665,  0.1460,  0.2732],\n",
       "                       [ 0.0505, -0.0168,  0.0056],\n",
       "                       [ 0.0104, -0.1145, -0.0053],\n",
       "                       [ 0.3030,  0.2550,  0.3295],\n",
       "                       [-0.1356, -0.1383,  0.2255],\n",
       "                       [-0.1943, -0.0897,  0.2150],\n",
       "                       [-0.1505,  0.2013,  0.2391],\n",
       "                       [ 0.1018, -0.2189, -0.1016],\n",
       "                       [-0.0060, -0.2868, -0.3407],\n",
       "                       [-0.2901, -0.1064, -0.0012]],\n",
       "              \n",
       "                      [[-0.0874,  0.0366, -0.0461],\n",
       "                       [ 0.3374, -0.2647,  0.1085],\n",
       "                       [ 0.4328, -0.2621, -0.0634],\n",
       "                       [-0.3742,  0.0720, -0.2349],\n",
       "                       [ 0.0073, -0.2280, -0.1580],\n",
       "                       [ 0.1265,  0.3001,  0.3273],\n",
       "                       [ 0.1828,  0.2294, -0.1334],\n",
       "                       [-0.0264, -0.2750, -0.1000],\n",
       "                       [-0.2511,  0.1130, -0.1947],\n",
       "                       [ 0.0069,  0.1644,  0.0257],\n",
       "                       [-0.1957, -0.0878,  0.3184],\n",
       "                       [-0.2014, -0.1221,  0.0008],\n",
       "                       [ 0.2822,  0.2074,  0.1733],\n",
       "                       [ 0.2795, -0.3075,  0.3732],\n",
       "                       [ 0.2859,  0.3132,  0.1141],\n",
       "                       [ 0.3136,  0.1176,  0.1196]],\n",
       "              \n",
       "                      [[-0.4297, -0.2924,  0.1917],\n",
       "                       [ 0.2022,  0.1173,  0.2620],\n",
       "                       [ 0.1461,  0.0549, -0.2460],\n",
       "                       [ 0.1584, -0.1109,  0.0880],\n",
       "                       [ 0.1289, -0.0489, -0.2759],\n",
       "                       [-0.2685, -0.0514, -0.1753],\n",
       "                       [-0.2781,  0.1376, -0.1588],\n",
       "                       [ 0.2560,  0.2458, -0.0449],\n",
       "                       [-0.1701,  0.0463, -0.2748],\n",
       "                       [-0.0708, -0.0137,  0.1294],\n",
       "                       [ 0.1881, -0.1940,  0.1143],\n",
       "                       [ 0.0860,  0.0195,  0.2970],\n",
       "                       [ 0.2851,  0.2322,  0.2863],\n",
       "                       [-0.2156,  0.2016,  0.1558],\n",
       "                       [-0.1890,  0.1234, -0.1213],\n",
       "                       [-0.2895, -0.1580, -0.2137]],\n",
       "              \n",
       "                      [[-0.0708,  0.2383,  0.2661],\n",
       "                       [ 0.2472,  0.1976, -0.0135],\n",
       "                       [ 0.2678,  0.3534, -0.3154],\n",
       "                       [ 0.1003, -0.1329,  0.1645],\n",
       "                       [-0.0859,  0.0968, -0.1471],\n",
       "                       [-0.3207,  0.0366,  0.2418],\n",
       "                       [-0.2806, -0.2359,  0.0289],\n",
       "                       [ 0.4108,  0.2829, -0.1893],\n",
       "                       [ 0.3244,  0.1404,  0.1087],\n",
       "                       [ 0.2870, -0.3639,  0.1541],\n",
       "                       [ 0.1724, -0.2385, -0.1428],\n",
       "                       [ 0.2700, -0.3689,  0.0474],\n",
       "                       [ 0.0607, -0.2650,  0.2267],\n",
       "                       [ 0.0502, -0.0820, -0.1467],\n",
       "                       [-0.1977, -0.2451,  0.2653],\n",
       "                       [ 0.2680,  0.3361, -0.0602]],\n",
       "              \n",
       "                      [[-0.0866,  0.2213, -0.3163],\n",
       "                       [ 0.2179, -0.0598, -0.3525],\n",
       "                       [ 0.1200, -0.1855,  0.2858],\n",
       "                       [ 0.2198, -0.2944,  0.1956],\n",
       "                       [ 0.3495, -0.1434,  0.1171],\n",
       "                       [-0.0276,  0.3328, -0.1295],\n",
       "                       [ 0.3072,  0.3772,  0.0368],\n",
       "                       [-0.2168,  0.2292,  0.0661],\n",
       "                       [ 0.1814,  0.1574,  0.2390],\n",
       "                       [ 0.3483,  0.2830, -0.1378],\n",
       "                       [-0.2675,  0.2304,  0.1328],\n",
       "                       [ 0.0513, -0.2920, -0.2277],\n",
       "                       [ 0.3060,  0.1848,  0.3296],\n",
       "                       [ 0.2257,  0.0647, -0.1401],\n",
       "                       [ 0.0183,  0.3223, -0.1466],\n",
       "                       [-0.0586, -0.2986, -0.1928]],\n",
       "              \n",
       "                      [[-0.3892, -0.2611, -0.2106],\n",
       "                       [ 0.0096,  0.1571,  0.2667],\n",
       "                       [ 0.1882,  0.1220, -0.0385],\n",
       "                       [-0.3009, -0.0143,  0.1702],\n",
       "                       [-0.2551, -0.0517,  0.2401],\n",
       "                       [ 0.0784, -0.0906, -0.2268],\n",
       "                       [-0.3100,  0.1346, -0.2035],\n",
       "                       [ 0.2492,  0.2620,  0.0852],\n",
       "                       [-0.0746,  0.2624,  0.2631],\n",
       "                       [ 0.0950,  0.2779,  0.2731],\n",
       "                       [ 0.2834,  0.1002,  0.0437],\n",
       "                       [-0.2169, -0.3873,  0.2657],\n",
       "                       [ 0.3896, -0.2503, -0.0894],\n",
       "                       [-0.0765,  0.1761, -0.2695],\n",
       "                       [ 0.0531,  0.0278, -0.2356],\n",
       "                       [-0.3691,  0.1086, -0.2901]],\n",
       "              \n",
       "                      [[-0.2474,  0.3304,  0.2566],\n",
       "                       [ 0.1577, -0.2475, -0.3477],\n",
       "                       [ 0.1352,  0.3095, -0.0478],\n",
       "                       [ 0.0863,  0.1284, -0.3698],\n",
       "                       [ 0.3026, -0.0500, -0.0203],\n",
       "                       [ 0.3024,  0.1338, -0.1574],\n",
       "                       [ 0.1388, -0.0517,  0.0384],\n",
       "                       [-0.1208,  0.1268,  0.2220],\n",
       "                       [ 0.2534,  0.0279,  0.2965],\n",
       "                       [ 0.1922, -0.3174, -0.1253],\n",
       "                       [ 0.3706, -0.2932, -0.0609],\n",
       "                       [ 0.0664, -0.0251, -0.1504],\n",
       "                       [ 0.0325, -0.3803,  0.0057],\n",
       "                       [-0.0267, -0.0850, -0.2239],\n",
       "                       [-0.0919, -0.1562, -0.1466],\n",
       "                       [-0.0259, -0.0899,  0.1573]],\n",
       "              \n",
       "                      [[-0.0445, -0.0400, -0.2677],\n",
       "                       [ 0.2735,  0.0567,  0.2096],\n",
       "                       [-0.1423,  0.2222,  0.1064],\n",
       "                       [-0.1505, -0.1964,  0.0997],\n",
       "                       [-0.1963,  0.3144,  0.1672],\n",
       "                       [-0.0201, -0.2524,  0.0225],\n",
       "                       [-0.0515,  0.0495, -0.0321],\n",
       "                       [-0.0660,  0.2050,  0.0513],\n",
       "                       [ 0.2239,  0.0596, -0.2772],\n",
       "                       [ 0.3425,  0.1550, -0.1845],\n",
       "                       [-0.1874, -0.1042,  0.2986],\n",
       "                       [ 0.1403, -0.0101,  0.0843],\n",
       "                       [-0.2657, -0.3106, -0.3063],\n",
       "                       [-0.0460, -0.2449, -0.1901],\n",
       "                       [-0.0500, -0.2610,  0.0497],\n",
       "                       [-0.0997,  0.0556, -0.1461]],\n",
       "              \n",
       "                      [[ 0.1797, -0.1560,  0.2474],\n",
       "                       [-0.1327, -0.0436,  0.1665],\n",
       "                       [ 0.2658,  0.2410,  0.2430],\n",
       "                       [ 0.1506,  0.1702,  0.2246],\n",
       "                       [ 0.4329, -0.1072, -0.0379],\n",
       "                       [-0.2270, -0.2493,  0.1469],\n",
       "                       [ 0.0683,  0.2400,  0.2339],\n",
       "                       [-0.1553, -0.3578, -0.0053],\n",
       "                       [ 0.1869,  0.0513,  0.2491],\n",
       "                       [-0.1033,  0.1244, -0.0745],\n",
       "                       [-0.1275,  0.1662,  0.0291],\n",
       "                       [-0.0498, -0.2834, -0.4033],\n",
       "                       [ 0.3608, -0.2883, -0.0223],\n",
       "                       [ 0.0741, -0.2970, -0.0528],\n",
       "                       [ 0.2135, -0.0981,  0.3418],\n",
       "                       [ 0.1660,  0.3154, -0.2386]],\n",
       "              \n",
       "                      [[ 0.1029,  0.0215,  0.3183],\n",
       "                       [-0.0762,  0.1171, -0.0471],\n",
       "                       [ 0.2318,  0.0115, -0.0932],\n",
       "                       [-0.2413, -0.4163, -0.0994],\n",
       "                       [ 0.1917,  0.3053, -0.2767],\n",
       "                       [-0.1728, -0.0052,  0.1398],\n",
       "                       [-0.2465,  0.2140, -0.0624],\n",
       "                       [ 0.3238,  0.2329,  0.3596],\n",
       "                       [ 0.1183,  0.0506,  0.2853],\n",
       "                       [-0.2457,  0.2830,  0.0276],\n",
       "                       [ 0.0445,  0.1081,  0.2910],\n",
       "                       [ 0.2729, -0.0505,  0.0668],\n",
       "                       [-0.1370, -0.0837,  0.0566],\n",
       "                       [-0.1195, -0.0966, -0.0881],\n",
       "                       [-0.1092,  0.2345,  0.0354],\n",
       "                       [-0.2148,  0.2783, -0.0017]],\n",
       "              \n",
       "                      [[ 0.1196,  0.0686, -0.0189],\n",
       "                       [ 0.2653,  0.0098, -0.1204],\n",
       "                       [ 0.2213,  0.2602, -0.2312],\n",
       "                       [-0.1511, -0.1625,  0.0387],\n",
       "                       [ 0.2739,  0.1993, -0.1493],\n",
       "                       [ 0.3225, -0.2784,  0.2735],\n",
       "                       [-0.1874, -0.3097,  0.3589],\n",
       "                       [-0.1753,  0.1467, -0.2029],\n",
       "                       [-0.0864,  0.0219,  0.0151],\n",
       "                       [-0.2220, -0.0166, -0.2501],\n",
       "                       [-0.3719, -0.2633,  0.1946],\n",
       "                       [-0.2568, -0.3525, -0.0859],\n",
       "                       [ 0.1360, -0.1640,  0.3619],\n",
       "                       [ 0.3376,  0.1280, -0.3492],\n",
       "                       [ 0.0821,  0.3130,  0.1496],\n",
       "                       [-0.2357,  0.2122, -0.2792]]], device='cuda:0')),\n",
       "             ('module.model.model.1.filter_convs.3.bias',\n",
       "              tensor([ 0.0067, -0.0188,  0.0032,  0.0018, -0.0028, -0.0091, -0.0115,  0.0219,\n",
       "                      -0.0280, -0.0018,  0.0344, -0.0002,  0.0135,  0.0196, -0.0167, -0.0032],\n",
       "                     device='cuda:0')),\n",
       "             ('module.model.model.1.filter_convs.4.weight',\n",
       "              tensor([[[ 2.5323e-02, -2.1684e-01,  6.3311e-03],\n",
       "                       [-2.1036e-01,  2.5509e-02,  1.3040e-01],\n",
       "                       [ 1.8085e-02,  7.8169e-02, -1.0642e-01],\n",
       "                       [-1.5737e-01, -1.5430e-01, -2.1559e-01],\n",
       "                       [ 3.8081e-02,  2.7390e-01,  7.2480e-02],\n",
       "                       [ 2.5204e-01, -1.1704e-02, -2.0479e-01],\n",
       "                       [ 8.4830e-04,  1.1268e-01, -2.7765e-01],\n",
       "                       [ 2.1101e-01, -2.6164e-01,  1.4923e-01],\n",
       "                       [-2.4277e-01,  7.0856e-02, -4.1982e-03],\n",
       "                       [-2.3097e-01,  7.5795e-02,  3.4533e-01],\n",
       "                       [-3.6939e-02, -3.6352e-01, -5.5955e-02],\n",
       "                       [ 1.1027e-01,  2.6631e-01, -2.4115e-01],\n",
       "                       [ 1.8401e-01,  3.8319e-01, -1.1738e-02],\n",
       "                       [-2.6463e-01, -3.2912e-02,  1.1866e-01],\n",
       "                       [-1.2239e-03, -5.6067e-02, -1.2287e-01],\n",
       "                       [ 2.1187e-01,  2.6188e-01, -2.7434e-01]],\n",
       "              \n",
       "                      [[ 3.6594e-01,  2.9527e-01,  2.3598e-01],\n",
       "                       [ 3.6167e-01, -1.2912e-01, -1.2418e-01],\n",
       "                       [ 3.1608e-01,  1.9060e-01, -5.3549e-02],\n",
       "                       [-1.0209e-01, -1.8178e-01, -1.5679e-01],\n",
       "                       [-2.1824e-01, -7.3136e-02,  2.3893e-01],\n",
       "                       [-2.1478e-01, -2.1406e-01, -2.7613e-01],\n",
       "                       [-2.4620e-01,  3.1574e-01, -1.9762e-01],\n",
       "                       [ 1.1647e-01,  1.1987e-02,  1.1884e-01],\n",
       "                       [ 1.0829e-01, -3.3320e-01,  2.3552e-01],\n",
       "                       [ 1.2071e-01,  1.9012e-01,  1.9522e-01],\n",
       "                       [ 1.1168e-01, -1.8924e-01, -3.5130e-01],\n",
       "                       [ 1.1438e-01,  1.7065e-01, -6.5739e-02],\n",
       "                       [-3.0601e-01, -2.2127e-01,  1.6983e-01],\n",
       "                       [ 4.4610e-01, -1.6874e-02, -1.8809e-01],\n",
       "                       [ 3.0429e-01, -7.3603e-02, -2.6992e-01],\n",
       "                       [-2.0448e-01, -1.3290e-01, -2.5765e-01]],\n",
       "              \n",
       "                      [[-2.0271e-01, -2.4936e-01,  2.2642e-02],\n",
       "                       [ 6.6942e-03,  1.2909e-01,  2.8371e-01],\n",
       "                       [-7.8357e-02,  1.8600e-01, -3.2384e-01],\n",
       "                       [-1.8190e-01,  1.5335e-01,  2.5297e-01],\n",
       "                       [ 3.0808e-02,  3.3376e-01, -1.6924e-01],\n",
       "                       [ 1.7952e-01,  1.0377e-01, -3.2007e-01],\n",
       "                       [-2.7522e-01, -1.8214e-01,  1.5996e-01],\n",
       "                       [-2.0649e-01, -6.0771e-02, -3.1524e-01],\n",
       "                       [-2.4976e-01,  2.0218e-01, -1.0556e-01],\n",
       "                       [ 1.5418e-01, -9.2963e-02, -1.1946e-01],\n",
       "                       [-1.8744e-01, -7.5390e-02,  5.9410e-02],\n",
       "                       [-2.3757e-01,  6.3582e-03,  7.5988e-02],\n",
       "                       [ 3.9440e-02, -2.9872e-01,  1.3041e-02],\n",
       "                       [-9.1644e-02,  1.1149e-01, -2.5413e-01],\n",
       "                       [ 1.8288e-01,  5.1585e-02,  2.1318e-01],\n",
       "                       [-3.2467e-01, -8.9229e-02, -3.5925e-01]],\n",
       "              \n",
       "                      [[-3.4308e-01,  2.1951e-01,  1.0338e-01],\n",
       "                       [ 1.7563e-01,  1.0774e-02, -2.5728e-01],\n",
       "                       [-2.1960e-01,  8.0049e-02,  2.6963e-02],\n",
       "                       [ 3.4934e-01,  2.7684e-01,  1.5527e-01],\n",
       "                       [ 1.4616e-01,  7.9336e-02,  4.0446e-01],\n",
       "                       [ 1.0160e-01, -2.3580e-01, -2.7457e-02],\n",
       "                       [ 2.3585e-01, -4.6641e-02, -1.4985e-01],\n",
       "                       [-3.1632e-01, -1.5787e-01,  2.0393e-01],\n",
       "                       [-6.6220e-03,  2.6414e-01,  1.5524e-01],\n",
       "                       [-1.4664e-01,  4.6937e-02, -1.8943e-01],\n",
       "                       [-8.7557e-02,  1.6530e-01, -6.6200e-03],\n",
       "                       [-3.6740e-01, -1.7097e-01, -1.3794e-01],\n",
       "                       [-1.7685e-01, -1.8562e-01,  3.4819e-01],\n",
       "                       [ 2.3234e-01, -1.8780e-01,  6.6600e-02],\n",
       "                       [ 2.6269e-01,  4.1721e-02, -4.2739e-02],\n",
       "                       [-7.5769e-02,  1.4823e-01,  2.1074e-01]],\n",
       "              \n",
       "                      [[-1.8150e-01,  3.3364e-01,  2.2180e-01],\n",
       "                       [-1.9317e-01, -1.8579e-01,  1.2255e-01],\n",
       "                       [ 1.8348e-01,  1.5064e-01,  2.3541e-01],\n",
       "                       [-2.0750e-01,  1.0119e-01,  1.6143e-02],\n",
       "                       [ 4.1245e-02, -1.2432e-01,  1.4836e-04],\n",
       "                       [-1.2946e-01, -1.9415e-01, -1.5514e-01],\n",
       "                       [-4.2564e-01,  9.5774e-02, -3.1356e-01],\n",
       "                       [ 1.5706e-01, -1.7856e-01, -7.9473e-02],\n",
       "                       [ 6.3002e-02,  2.2826e-01, -2.3899e-01],\n",
       "                       [ 1.2288e-01,  1.4093e-01, -2.2938e-01],\n",
       "                       [-1.3029e-01, -2.9285e-01, -1.6022e-01],\n",
       "                       [-1.3550e-01, -3.0927e-01,  2.7743e-01],\n",
       "                       [-2.2623e-01,  1.6574e-01, -2.3280e-01],\n",
       "                       [-3.9704e-01,  2.3805e-01,  2.5921e-02],\n",
       "                       [-1.4055e-02, -7.8525e-02,  3.0132e-01],\n",
       "                       [ 1.5652e-01,  2.8118e-01,  6.9275e-02]],\n",
       "              \n",
       "                      [[ 1.4663e-01,  3.7760e-02,  3.4970e-01],\n",
       "                       [-3.8339e-01, -2.8380e-01, -2.4772e-01],\n",
       "                       [ 8.4255e-02, -1.2390e-01,  2.7725e-01],\n",
       "                       [-3.1208e-01,  2.1864e-02,  8.4933e-02],\n",
       "                       [-4.1944e-02,  2.4618e-01,  9.1269e-02],\n",
       "                       [ 2.5526e-01,  3.1393e-02, -2.6354e-01],\n",
       "                       [-9.0954e-02,  2.2278e-01, -3.4087e-01],\n",
       "                       [-2.0974e-01,  3.3979e-01,  1.8634e-01],\n",
       "                       [-6.8888e-02, -2.4034e-01, -5.2438e-02],\n",
       "                       [-3.3147e-01, -2.7736e-01, -2.8646e-01],\n",
       "                       [ 3.2734e-02, -1.4878e-01, -1.3119e-02],\n",
       "                       [ 4.1719e-01, -1.1882e-01,  1.8063e-01],\n",
       "                       [-2.5267e-01,  8.4093e-02,  1.8204e-01],\n",
       "                       [-3.0034e-01,  4.5762e-03,  2.5929e-01],\n",
       "                       [-1.8359e-02,  2.0066e-01, -9.9452e-02],\n",
       "                       [ 6.1935e-02,  1.0543e-01,  2.5632e-01]],\n",
       "              \n",
       "                      [[-2.3225e-04, -2.0532e-01,  1.2354e-01],\n",
       "                       [-1.0237e-01, -7.9504e-02, -1.6743e-01],\n",
       "                       [ 1.9141e-01,  1.2522e-01, -6.8837e-02],\n",
       "                       [ 3.5551e-01,  1.7494e-01,  2.8778e-01],\n",
       "                       [-1.9682e-02, -3.4633e-01,  1.2404e-01],\n",
       "                       [ 1.1842e-01,  8.2435e-02,  1.6885e-01],\n",
       "                       [ 9.7210e-02,  2.8071e-01, -1.7326e-01],\n",
       "                       [-7.7212e-02, -1.9265e-01,  3.0337e-01],\n",
       "                       [-2.4105e-01,  2.5673e-01, -1.8184e-01],\n",
       "                       [ 2.4707e-01, -3.1002e-01,  1.1320e-01],\n",
       "                       [ 4.5257e-02, -1.4144e-01,  6.8205e-02],\n",
       "                       [ 1.2502e-01,  1.5078e-01, -1.4155e-01],\n",
       "                       [-3.6118e-01, -4.0642e-01, -1.4993e-01],\n",
       "                       [ 2.5178e-01,  1.9745e-01, -1.0844e-01],\n",
       "                       [-5.3835e-02, -1.9627e-01, -8.6772e-02],\n",
       "                       [ 4.1159e-02, -3.0602e-01, -1.4048e-01]],\n",
       "              \n",
       "                      [[ 1.4384e-01,  3.1351e-01,  1.4560e-01],\n",
       "                       [ 6.7946e-02,  1.9083e-02, -2.0929e-01],\n",
       "                       [ 1.4233e-01,  7.5099e-02, -7.2276e-02],\n",
       "                       [ 4.5074e-03,  1.9846e-01, -3.1055e-01],\n",
       "                       [ 1.0810e-01, -8.6019e-02,  8.4744e-03],\n",
       "                       [ 3.1425e-01,  2.4439e-01,  3.7073e-01],\n",
       "                       [ 2.9620e-01, -1.1749e-01, -1.5961e-01],\n",
       "                       [-5.5461e-02, -7.9269e-02,  2.9379e-01],\n",
       "                       [ 1.0098e-01,  1.8998e-02, -1.6109e-01],\n",
       "                       [-4.1167e-01, -2.7673e-01, -3.7455e-01],\n",
       "                       [-1.8434e-01,  2.7100e-01,  2.0303e-01],\n",
       "                       [ 1.0163e-01,  2.2243e-01,  1.3513e-01],\n",
       "                       [ 1.9902e-01, -2.1081e-01, -1.3779e-02],\n",
       "                       [ 6.7667e-02,  3.9269e-02,  1.0513e-01],\n",
       "                       [ 6.0664e-02,  3.1066e-01, -7.0613e-02],\n",
       "                       [-3.1275e-01, -1.9354e-01, -4.3340e-02]],\n",
       "              \n",
       "                      [[ 2.1716e-01,  2.3414e-01,  3.6250e-02],\n",
       "                       [-4.0328e-02,  2.4211e-01,  2.6395e-01],\n",
       "                       [-1.0910e-01, -3.9460e-01, -6.7750e-02],\n",
       "                       [ 1.9924e-03,  2.7781e-01,  1.5779e-01],\n",
       "                       [-2.2291e-01,  2.2042e-02, -2.6165e-01],\n",
       "                       [-2.4819e-01,  9.4984e-02,  9.5327e-02],\n",
       "                       [-7.7163e-02,  2.5836e-01, -1.6341e-01],\n",
       "                       [-1.4163e-01, -8.0197e-02,  7.1248e-02],\n",
       "                       [ 1.8579e-01,  1.4476e-01,  1.7041e-01],\n",
       "                       [ 1.2873e-01,  2.9947e-01, -1.7340e-01],\n",
       "                       [-1.1904e-01,  1.3348e-01, -2.2815e-02],\n",
       "                       [-1.1244e-01, -4.3312e-02, -2.8787e-01],\n",
       "                       [ 2.1437e-01,  4.9542e-02, -3.7321e-02],\n",
       "                       [ 3.1919e-01, -1.6132e-01, -2.6573e-01],\n",
       "                       [-1.0173e-01, -2.6739e-01,  1.2066e-01],\n",
       "                       [ 3.4440e-01,  4.5487e-02, -2.7422e-01]],\n",
       "              \n",
       "                      [[ 3.1980e-02,  2.4304e-01, -2.8589e-01],\n",
       "                       [ 2.5625e-01, -1.2152e-01,  3.9412e-02],\n",
       "                       [-2.3918e-01,  2.7791e-02,  3.7246e-01],\n",
       "                       [ 3.9144e-02,  1.1351e-01,  1.7968e-01],\n",
       "                       [-3.1351e-01, -9.8300e-02,  8.0626e-02],\n",
       "                       [ 6.3298e-03, -3.1569e-01,  1.6111e-01],\n",
       "                       [-2.1791e-01, -6.5219e-02, -7.8811e-02],\n",
       "                       [-8.1620e-02, -1.4044e-01, -1.6616e-01],\n",
       "                       [ 1.0330e-02, -1.9597e-02,  2.6800e-01],\n",
       "                       [ 7.4764e-02,  4.4499e-02, -9.4266e-02],\n",
       "                       [ 3.8685e-01, -2.2824e-02,  9.6722e-02],\n",
       "                       [ 2.7134e-01, -2.1845e-01,  2.4430e-01],\n",
       "                       [ 2.5419e-01,  2.1355e-01, -6.2255e-02],\n",
       "                       [ 2.4114e-01, -2.0681e-02,  3.5228e-01],\n",
       "                       [-5.5796e-02,  6.4677e-02, -7.0116e-02],\n",
       "                       [ 3.1919e-01,  2.5927e-01, -2.2924e-01]],\n",
       "              \n",
       "                      [[ 3.7003e-03, -2.3962e-01, -2.0546e-01],\n",
       "                       [-1.0502e-02,  1.4434e-01, -2.0547e-01],\n",
       "                       [-3.5286e-01, -8.4617e-02,  1.7764e-01],\n",
       "                       [ 3.8622e-01, -1.1867e-01,  1.7435e-01],\n",
       "                       [-1.3977e-01, -2.5012e-01,  1.5675e-02],\n",
       "                       [ 2.8272e-02, -9.7170e-02, -3.9227e-01],\n",
       "                       [ 2.4158e-01,  9.0069e-02, -2.3860e-01],\n",
       "                       [-2.9105e-02,  9.4051e-02,  2.7241e-01],\n",
       "                       [ 1.8994e-01, -4.5733e-02,  1.3713e-01],\n",
       "                       [-1.2685e-01,  6.5986e-02, -1.2718e-01],\n",
       "                       [ 1.3303e-01,  1.3946e-01,  2.3527e-01],\n",
       "                       [ 2.6275e-01, -2.4737e-02,  4.0346e-01],\n",
       "                       [ 2.4369e-02,  3.0715e-01,  1.6599e-01],\n",
       "                       [-7.7914e-02,  1.3327e-01, -2.0862e-01],\n",
       "                       [-2.5356e-01,  1.8751e-01, -2.5808e-01],\n",
       "                       [-3.2238e-01, -2.6571e-01,  1.8988e-01]],\n",
       "              \n",
       "                      [[ 4.7482e-02, -2.2098e-02,  8.5833e-02],\n",
       "                       [-3.9363e-02,  2.2580e-01,  1.6224e-01],\n",
       "                       [ 1.6290e-01,  3.3011e-01, -3.3150e-01],\n",
       "                       [-3.3325e-01, -1.9399e-01,  3.2621e-01],\n",
       "                       [ 3.0878e-01, -2.6646e-01,  1.4561e-02],\n",
       "                       [ 2.3113e-01,  5.0277e-02, -7.7574e-02],\n",
       "                       [ 3.7343e-01, -2.5732e-01,  1.7529e-01],\n",
       "                       [-3.8735e-01, -2.4672e-01, -2.5221e-01],\n",
       "                       [-9.1973e-02, -3.4007e-03, -5.7861e-02],\n",
       "                       [-2.2733e-01, -3.4070e-02, -2.7504e-01],\n",
       "                       [ 3.3856e-01, -2.4370e-01, -1.0147e-01],\n",
       "                       [ 1.3704e-01, -2.6740e-01, -8.2682e-02],\n",
       "                       [-7.6427e-02,  2.0489e-01,  2.1302e-01],\n",
       "                       [ 7.9460e-02, -2.2266e-01,  6.7146e-02],\n",
       "                       [ 4.0300e-02,  8.3212e-02, -2.3754e-01],\n",
       "                       [ 3.4470e-01, -3.5754e-01, -1.4216e-01]],\n",
       "              \n",
       "                      [[ 1.9107e-01, -1.7559e-01, -3.4722e-01],\n",
       "                       [-3.1669e-02,  3.2369e-01,  2.0811e-01],\n",
       "                       [ 7.9948e-02,  2.3571e-03,  6.1594e-02],\n",
       "                       [ 3.7793e-01, -9.1382e-02, -1.6516e-01],\n",
       "                       [ 1.5164e-01,  2.8297e-02,  1.2347e-02],\n",
       "                       [-1.8374e-01,  3.1640e-01,  1.1332e-01],\n",
       "                       [ 2.8439e-01, -1.3072e-01,  3.9909e-02],\n",
       "                       [-2.1362e-01,  2.6882e-01, -1.5742e-01],\n",
       "                       [-2.5688e-01, -1.4248e-01, -1.3527e-02],\n",
       "                       [-4.7348e-02,  1.2057e-01,  3.5247e-02],\n",
       "                       [ 3.7371e-01, -1.7215e-01,  1.0138e-01],\n",
       "                       [ 1.6886e-01,  3.3814e-02, -2.8941e-01],\n",
       "                       [ 6.5996e-02, -2.9594e-01,  3.1956e-01],\n",
       "                       [-1.3334e-01, -2.0859e-01, -3.0031e-01],\n",
       "                       [-1.8058e-01,  3.0314e-01,  6.9103e-02],\n",
       "                       [-1.2739e-02,  2.5899e-01,  1.8037e-01]],\n",
       "              \n",
       "                      [[ 2.3617e-01,  8.9521e-02, -1.0319e-01],\n",
       "                       [ 2.0626e-01, -3.6050e-01,  1.7020e-01],\n",
       "                       [ 1.7970e-01, -6.3769e-02, -5.7642e-02],\n",
       "                       [ 1.1980e-02, -6.1270e-02,  1.9301e-01],\n",
       "                       [ 9.2175e-03,  3.4328e-01,  2.8275e-01],\n",
       "                       [-2.1315e-01, -1.9759e-01, -6.4572e-02],\n",
       "                       [-2.2790e-01, -1.0954e-01, -2.3552e-01],\n",
       "                       [-3.2375e-02, -2.6056e-01, -5.5642e-02],\n",
       "                       [ 5.7684e-02, -4.0094e-02, -3.6210e-01],\n",
       "                       [ 2.3123e-02, -2.4140e-01,  2.5839e-01],\n",
       "                       [ 3.8135e-01, -1.7894e-01, -2.6910e-03],\n",
       "                       [-2.7567e-01, -2.9352e-01,  2.5517e-02],\n",
       "                       [-3.2824e-01, -2.5632e-01, -1.6625e-01],\n",
       "                       [ 1.8683e-01, -1.5302e-01,  2.4636e-01],\n",
       "                       [-9.8438e-02,  2.9004e-01, -2.4286e-01],\n",
       "                       [ 1.3390e-02,  1.4839e-01,  4.1054e-02]],\n",
       "              \n",
       "                      [[-3.1168e-01, -8.6643e-02,  3.7009e-02],\n",
       "                       [-1.6689e-01,  3.7180e-02,  2.2568e-01],\n",
       "                       [-1.9668e-01,  1.7627e-01, -1.7447e-01],\n",
       "                       [-2.6222e-01, -2.7617e-01, -1.5827e-01],\n",
       "                       [ 2.3752e-01, -1.7900e-01, -1.7992e-02],\n",
       "                       [ 1.2804e-01, -2.1967e-01, -3.2795e-01],\n",
       "                       [ 1.1098e-01, -5.0488e-02, -1.3291e-01],\n",
       "                       [ 2.8933e-01,  1.0100e-01,  1.9883e-01],\n",
       "                       [-2.1282e-01, -2.6078e-01,  1.8644e-01],\n",
       "                       [-5.5292e-02, -2.1030e-01, -8.4551e-02],\n",
       "                       [ 1.8763e-01, -3.4011e-01,  3.2323e-01],\n",
       "                       [-1.2096e-01,  1.4648e-01, -2.6812e-01],\n",
       "                       [-2.0969e-01, -8.1970e-02, -3.1715e-01],\n",
       "                       [ 4.8768e-02,  2.5598e-01, -2.1366e-01],\n",
       "                       [-2.9333e-01, -1.2562e-01, -2.4808e-02],\n",
       "                       [ 1.7671e-01, -1.3859e-01, -1.4271e-01]],\n",
       "              \n",
       "                      [[-2.8681e-01, -8.9433e-02,  1.1646e-01],\n",
       "                       [-1.0379e-01, -3.0388e-01, -2.8909e-01],\n",
       "                       [ 3.1729e-01, -1.0950e-01, -3.7401e-02],\n",
       "                       [ 2.4210e-02, -7.5437e-02, -2.9938e-03],\n",
       "                       [ 9.9021e-02, -2.1557e-01,  2.1392e-01],\n",
       "                       [-1.9653e-01,  2.2023e-01, -6.5441e-02],\n",
       "                       [-2.2918e-01,  1.8683e-01,  2.5251e-01],\n",
       "                       [ 2.2387e-01,  2.6791e-01,  9.7017e-02],\n",
       "                       [ 1.7198e-01,  3.3055e-01,  1.0429e-01],\n",
       "                       [-3.6414e-01, -2.1697e-01, -1.1168e-01],\n",
       "                       [ 3.5835e-02,  1.4931e-01, -1.6323e-01],\n",
       "                       [ 1.1708e-01, -4.5014e-04, -3.0832e-01],\n",
       "                       [ 1.3062e-01, -1.7211e-01,  2.6592e-04],\n",
       "                       [-2.1795e-01, -2.6097e-01, -9.1839e-02],\n",
       "                       [-9.3890e-02, -2.4983e-01, -1.4159e-01],\n",
       "                       [-3.3684e-01,  2.5260e-02,  3.6099e-02]]], device='cuda:0')),\n",
       "             ('module.model.model.1.filter_convs.4.bias',\n",
       "              tensor([ 0.0048,  0.0033, -0.0124,  0.0019,  0.0161,  0.0056,  0.0070, -0.0245,\n",
       "                       0.0157,  0.0038, -0.0029, -0.0016, -0.0202, -0.0031,  0.0083, -0.0080],\n",
       "                     device='cuda:0')),\n",
       "             ('module.model.model.1.filter_convs.5.weight',\n",
       "              tensor([[[ 3.3951e-01,  1.3810e-01, -1.7121e-01],\n",
       "                       [-1.3974e-01,  2.8541e-01, -3.1543e-01],\n",
       "                       [-2.4770e-01,  2.0364e-01,  3.3224e-01],\n",
       "                       [ 6.6615e-03, -1.7474e-01,  1.9638e-01],\n",
       "                       [ 2.1186e-01,  6.6935e-02, -3.7737e-01],\n",
       "                       [-1.7989e-01, -1.6184e-01,  7.8237e-02],\n",
       "                       [-1.5662e-01,  2.2850e-01,  3.1943e-01],\n",
       "                       [-2.9024e-01,  1.8514e-01, -2.9153e-03],\n",
       "                       [-2.2369e-01,  1.0037e-01,  1.8041e-01],\n",
       "                       [-2.0523e-01,  3.3306e-01,  1.0748e-01],\n",
       "                       [-3.0041e-01,  1.2095e-01, -2.9637e-01],\n",
       "                       [-9.9784e-02,  1.6521e-01, -1.1598e-01],\n",
       "                       [ 2.3563e-01, -1.9377e-01,  3.5310e-01],\n",
       "                       [ 6.4126e-02,  2.9154e-01,  2.5612e-01],\n",
       "                       [-2.7031e-01,  2.1276e-01, -2.6146e-01],\n",
       "                       [ 3.1814e-01,  1.5683e-01,  2.5435e-01]],\n",
       "              \n",
       "                      [[ 2.8735e-01,  3.4684e-01,  1.3842e-01],\n",
       "                       [-3.7560e-01,  1.4070e-01, -2.2248e-02],\n",
       "                       [-2.8033e-01,  1.1479e-01,  1.5094e-01],\n",
       "                       [ 6.4536e-02, -3.1772e-04, -3.0970e-01],\n",
       "                       [-4.1270e-01, -3.4917e-01,  2.5115e-01],\n",
       "                       [ 3.2132e-01, -2.6984e-02,  1.8185e-01],\n",
       "                       [-2.4677e-02, -3.1850e-01, -2.9576e-01],\n",
       "                       [-1.3936e-03,  8.0819e-02,  7.5120e-02],\n",
       "                       [-1.1709e-01,  5.2248e-02,  1.7138e-01],\n",
       "                       [ 1.3839e-01, -1.9599e-01,  4.9625e-02],\n",
       "                       [ 1.5138e-01, -1.1436e-01,  5.1596e-02],\n",
       "                       [-2.4109e-01, -1.8951e-01,  2.6199e-01],\n",
       "                       [ 3.3759e-01, -1.9220e-01, -2.9737e-01],\n",
       "                       [-1.4612e-01,  3.5429e-01,  2.0690e-01],\n",
       "                       [ 1.2858e-01,  2.9515e-01,  7.3169e-02],\n",
       "                       [-3.1265e-01,  1.9245e-01,  1.3872e-01]],\n",
       "              \n",
       "                      [[-8.9228e-02,  6.8697e-03, -3.0581e-01],\n",
       "                       [-3.3545e-01,  3.9389e-01,  4.6487e-03],\n",
       "                       [-3.3285e-01, -6.5473e-02,  1.8747e-01],\n",
       "                       [-2.6609e-02, -1.2654e-01, -2.8191e-01],\n",
       "                       [ 1.0091e-01, -2.7558e-01, -1.8717e-01],\n",
       "                       [ 6.9756e-02, -3.5839e-02,  2.8557e-01],\n",
       "                       [-1.0860e-01,  3.9921e-02, -3.0490e-02],\n",
       "                       [-1.4933e-01,  1.7316e-02, -4.7593e-02],\n",
       "                       [-6.3323e-02, -3.1793e-01,  1.0758e-01],\n",
       "                       [-2.5703e-01, -3.1369e-01, -5.6755e-02],\n",
       "                       [ 9.0697e-02,  2.7426e-01,  2.7883e-01],\n",
       "                       [-1.4665e-01, -1.3122e-01,  2.5994e-01],\n",
       "                       [ 2.3029e-01, -6.2891e-02,  9.0318e-02],\n",
       "                       [ 1.6385e-01, -1.8038e-01,  2.8835e-01],\n",
       "                       [-1.2078e-01,  4.2264e-01,  5.7994e-02],\n",
       "                       [ 1.4918e-01,  1.6918e-01, -1.3251e-01]],\n",
       "              \n",
       "                      [[ 2.6277e-01, -1.7205e-01,  4.3789e-03],\n",
       "                       [ 3.6260e-01,  2.5839e-01,  2.0648e-01],\n",
       "                       [ 3.7822e-02,  1.8796e-01, -7.1422e-03],\n",
       "                       [-7.3507e-02,  5.1334e-02, -3.4253e-03],\n",
       "                       [-2.5856e-01,  2.3029e-01, -3.3102e-01],\n",
       "                       [ 1.6189e-04,  4.6864e-02,  1.3047e-01],\n",
       "                       [-1.8645e-01, -1.5989e-02,  3.5430e-01],\n",
       "                       [ 1.0293e-01, -4.9376e-02,  1.4191e-01],\n",
       "                       [ 2.3257e-01, -1.2964e-02,  2.6760e-02],\n",
       "                       [ 2.6918e-01,  1.6125e-02, -3.0937e-02],\n",
       "                       [-2.2430e-01, -4.0613e-02,  2.8313e-01],\n",
       "                       [-7.3436e-02,  3.1281e-01,  4.9689e-02],\n",
       "                       [ 2.1576e-01,  2.5920e-01,  3.4124e-01],\n",
       "                       [-5.8325e-02, -3.2796e-01,  1.5756e-01],\n",
       "                       [ 1.7214e-02,  9.4074e-02, -1.1782e-01],\n",
       "                       [-2.7206e-01,  5.6276e-02, -2.5179e-01]],\n",
       "              \n",
       "                      [[ 9.7605e-02, -2.0350e-02,  1.7677e-01],\n",
       "                       [-3.1952e-01,  5.3602e-02, -1.5102e-01],\n",
       "                       [ 5.9462e-02,  2.0180e-01,  1.5133e-01],\n",
       "                       [ 2.9351e-01, -2.9683e-01,  9.8633e-02],\n",
       "                       [ 4.7476e-01,  2.6731e-01, -2.3639e-01],\n",
       "                       [-3.7680e-01, -3.7552e-01,  2.8177e-01],\n",
       "                       [-3.6393e-01, -5.9220e-02,  8.7496e-02],\n",
       "                       [ 2.9785e-01, -6.2059e-02, -2.0359e-01],\n",
       "                       [-8.5213e-02,  2.0385e-01, -2.7798e-01],\n",
       "                       [-3.0174e-01, -2.8074e-01, -2.8674e-01],\n",
       "                       [ 7.1474e-02, -1.4142e-01,  1.8268e-01],\n",
       "                       [-2.1014e-01, -2.2197e-01, -3.8730e-03],\n",
       "                       [-1.2923e-01,  8.3252e-02,  2.1828e-01],\n",
       "                       [-5.8375e-02, -9.5851e-02, -4.1995e-02],\n",
       "                       [ 2.8631e-02,  3.1484e-01, -1.9669e-01],\n",
       "                       [-2.6639e-01, -1.8625e-02, -3.1117e-01]],\n",
       "              \n",
       "                      [[-1.0266e-01,  3.3252e-01,  9.4014e-02],\n",
       "                       [ 2.9795e-01,  3.0996e-01,  1.1487e-01],\n",
       "                       [ 5.4031e-02, -8.4867e-02,  3.0601e-01],\n",
       "                       [ 7.7678e-02,  5.1406e-02,  9.0588e-02],\n",
       "                       [-2.7349e-02,  1.5324e-01,  2.6915e-01],\n",
       "                       [-1.5282e-01, -1.8763e-01, -2.1298e-01],\n",
       "                       [ 1.8325e-02, -6.1790e-02, -2.8141e-01],\n",
       "                       [ 4.8323e-02,  3.1831e-01, -1.8806e-01],\n",
       "                       [-1.0714e-01, -1.8543e-01, -7.8589e-02],\n",
       "                       [ 2.9666e-01, -2.0509e-01,  1.9931e-01],\n",
       "                       [ 3.1540e-01, -1.2918e-01,  1.3031e-01],\n",
       "                       [-2.1774e-01, -1.7610e-01,  3.1081e-01],\n",
       "                       [ 3.2188e-01,  3.2063e-01,  1.8181e-01],\n",
       "                       [-2.6100e-01,  4.2706e-02,  1.0972e-01],\n",
       "                       [-1.1050e-01, -1.9423e-01, -2.2036e-01],\n",
       "                       [-2.7968e-01, -1.9149e-01, -2.7496e-01]],\n",
       "              \n",
       "                      [[-2.6130e-02,  2.9209e-01, -2.1826e-01],\n",
       "                       [ 2.0875e-01, -2.5006e-01,  8.5088e-02],\n",
       "                       [-9.2617e-03, -7.2096e-02, -2.7704e-01],\n",
       "                       [-1.7489e-01,  1.1320e-01,  1.7891e-01],\n",
       "                       [-2.6598e-01, -3.0596e-01,  1.8302e-01],\n",
       "                       [-2.9378e-01,  2.3145e-01, -2.5905e-01],\n",
       "                       [-1.3201e-01, -1.0923e-01, -2.8248e-01],\n",
       "                       [-3.4521e-01,  2.5677e-01, -3.0644e-01],\n",
       "                       [-2.7315e-01,  5.4797e-02,  2.5110e-01],\n",
       "                       [-1.0270e-01, -8.3317e-03, -2.0611e-01],\n",
       "                       [-2.3241e-01,  2.6328e-01, -9.1017e-02],\n",
       "                       [-6.3108e-02, -2.4559e-01,  1.4330e-01],\n",
       "                       [ 1.8455e-01, -3.7908e-02,  3.0536e-01],\n",
       "                       [ 2.4489e-01,  3.8548e-01,  9.9826e-02],\n",
       "                       [ 3.0686e-01, -1.8024e-01,  1.1715e-01],\n",
       "                       [ 5.7260e-02, -1.9695e-01, -2.3959e-01]],\n",
       "              \n",
       "                      [[ 1.0130e-02, -5.3226e-02, -2.1151e-01],\n",
       "                       [ 3.6049e-01, -2.3164e-01,  2.4606e-01],\n",
       "                       [ 3.2740e-02,  1.7251e-01, -1.7167e-01],\n",
       "                       [-6.0773e-02,  7.1854e-03,  1.3770e-01],\n",
       "                       [-3.3886e-01,  1.5836e-01,  6.0054e-02],\n",
       "                       [ 3.4311e-01, -1.7797e-01, -3.3458e-01],\n",
       "                       [ 1.3780e-01,  6.2204e-02,  1.3910e-01],\n",
       "                       [ 1.8278e-01,  2.8156e-01,  2.2835e-02],\n",
       "                       [-1.4476e-01,  2.7915e-01,  3.4611e-01],\n",
       "                       [-2.4859e-01, -1.7184e-02, -1.0410e-01],\n",
       "                       [-2.6202e-01,  9.8846e-02,  2.6017e-01],\n",
       "                       [ 3.9245e-01, -2.7813e-02, -1.9931e-01],\n",
       "                       [ 9.2876e-02, -3.1710e-02, -3.1063e-01],\n",
       "                       [-1.5786e-02, -3.0760e-01, -1.1070e-01],\n",
       "                       [ 6.0827e-02, -2.1870e-01, -2.0792e-01],\n",
       "                       [ 6.1474e-03, -1.3822e-01, -1.0673e-01]],\n",
       "              \n",
       "                      [[ 2.2868e-01, -2.1453e-01,  1.7926e-01],\n",
       "                       [ 8.8581e-03,  3.1827e-01, -7.0299e-02],\n",
       "                       [ 2.3952e-01,  4.0876e-02, -1.0441e-01],\n",
       "                       [-2.3972e-01, -1.3775e-01, -1.8576e-01],\n",
       "                       [ 1.1676e-01,  2.0520e-01, -8.0292e-02],\n",
       "                       [-1.7566e-01, -1.0283e-01,  2.3076e-01],\n",
       "                       [ 2.7875e-01, -3.0311e-01, -9.9997e-02],\n",
       "                       [ 2.2861e-01,  5.4988e-02, -3.3360e-01],\n",
       "                       [-2.7031e-01, -7.2473e-03,  1.3861e-02],\n",
       "                       [ 2.6524e-01,  2.5506e-01, -1.5611e-01],\n",
       "                       [-1.7095e-01,  3.2620e-02, -4.2820e-02],\n",
       "                       [ 2.0842e-01,  2.1857e-01,  6.8062e-02],\n",
       "                       [-5.1689e-02,  3.4476e-01, -2.4764e-01],\n",
       "                       [-2.5765e-01, -2.7092e-01, -2.6553e-01],\n",
       "                       [-6.8443e-02,  2.9082e-01, -1.4091e-01],\n",
       "                       [ 2.2413e-01, -1.6734e-01,  2.4932e-01]],\n",
       "              \n",
       "                      [[ 3.3978e-01, -2.8454e-01,  2.3683e-01],\n",
       "                       [ 2.7276e-01, -3.0710e-01,  1.7332e-01],\n",
       "                       [ 3.4460e-01,  1.9963e-01, -1.8493e-01],\n",
       "                       [ 2.9855e-03,  1.8058e-01,  4.6159e-02],\n",
       "                       [ 4.1245e-02,  2.8683e-01,  3.7170e-01],\n",
       "                       [ 2.6913e-01,  2.6982e-01,  1.7371e-02],\n",
       "                       [-1.7817e-01, -3.8106e-01,  3.2732e-01],\n",
       "                       [ 3.6663e-02,  2.6464e-01,  1.7428e-01],\n",
       "                       [ 2.6068e-01, -1.2943e-01, -1.8346e-01],\n",
       "                       [ 1.4841e-01, -3.2436e-01, -1.8939e-01],\n",
       "                       [-4.7125e-02, -2.3199e-01, -4.6658e-02],\n",
       "                       [-2.0497e-01,  7.2063e-02, -3.0932e-01],\n",
       "                       [-1.1653e-01,  3.2561e-01,  1.2479e-01],\n",
       "                       [ 2.5678e-01,  6.8675e-02, -2.6617e-01],\n",
       "                       [-1.1944e-01,  8.5880e-02, -3.1883e-01],\n",
       "                       [ 1.2151e-01, -1.1606e-01,  2.7520e-01]],\n",
       "              \n",
       "                      [[-1.5462e-01,  1.5883e-01, -1.4681e-02],\n",
       "                       [-2.4167e-01, -7.3468e-03, -1.4874e-01],\n",
       "                       [ 2.8821e-01, -3.2442e-01, -1.7513e-01],\n",
       "                       [ 2.0986e-01, -2.2692e-01, -6.3663e-02],\n",
       "                       [ 2.2312e-01, -4.5289e-02,  3.5145e-01],\n",
       "                       [ 3.5137e-01,  9.8068e-02,  2.0927e-01],\n",
       "                       [ 2.7622e-01,  2.1089e-01, -7.6668e-02],\n",
       "                       [ 5.6398e-02, -2.7697e-01,  2.2313e-02],\n",
       "                       [-1.1450e-02, -4.2714e-03, -3.8456e-02],\n",
       "                       [ 1.4912e-01, -1.7417e-01,  1.9786e-01],\n",
       "                       [ 3.6163e-01, -2.5498e-01,  2.5789e-01],\n",
       "                       [ 3.0065e-01,  1.7666e-01,  3.0412e-01],\n",
       "                       [ 1.6536e-01, -4.2371e-01, -3.5370e-01],\n",
       "                       [ 7.9464e-02, -2.3991e-02, -2.4007e-01],\n",
       "                       [-2.8084e-01,  3.3435e-01,  2.5888e-01],\n",
       "                       [-2.0618e-01, -2.7557e-01,  3.8921e-01]],\n",
       "              \n",
       "                      [[ 9.9183e-02, -2.8613e-01,  9.1363e-02],\n",
       "                       [ 1.8145e-01, -2.5057e-01, -1.9597e-01],\n",
       "                       [-3.5322e-01, -1.1799e-01, -7.9758e-02],\n",
       "                       [-2.9692e-01,  1.2218e-02,  1.9662e-02],\n",
       "                       [ 5.7005e-02,  2.9096e-01,  2.4522e-01],\n",
       "                       [-3.4140e-01,  8.1614e-02, -3.0008e-02],\n",
       "                       [-1.3216e-01,  6.7399e-02,  3.5747e-02],\n",
       "                       [ 2.3400e-01,  3.0316e-01,  2.6339e-01],\n",
       "                       [-1.5702e-01,  3.9277e-01, -1.6535e-01],\n",
       "                       [-2.8705e-01,  2.7331e-01, -2.7927e-01],\n",
       "                       [ 2.6491e-01,  3.1794e-01, -2.5411e-01],\n",
       "                       [ 1.8703e-01, -2.7931e-02, -3.2247e-01],\n",
       "                       [ 1.7696e-01, -5.3278e-02, -2.6475e-01],\n",
       "                       [-2.6795e-01, -2.8914e-01,  1.9670e-01],\n",
       "                       [-1.7633e-01,  3.0957e-01,  2.5488e-01],\n",
       "                       [-1.5654e-01,  1.5565e-01,  3.1586e-01]],\n",
       "              \n",
       "                      [[ 2.2425e-01, -2.9414e-01, -7.7018e-02],\n",
       "                       [ 1.2974e-01,  1.6569e-03, -6.0382e-02],\n",
       "                       [-2.2162e-01, -3.5155e-02,  3.0481e-01],\n",
       "                       [-2.4460e-02, -1.2011e-01,  1.7488e-01],\n",
       "                       [ 1.7273e-01,  3.5550e-02,  2.3700e-01],\n",
       "                       [ 2.6848e-01, -3.0128e-01, -7.5776e-02],\n",
       "                       [-4.0056e-02, -9.7126e-02, -1.0302e-01],\n",
       "                       [-4.6189e-03, -7.3614e-02, -2.0474e-01],\n",
       "                       [ 1.9630e-01,  1.7358e-01,  6.2311e-02],\n",
       "                       [-2.8031e-01, -2.3373e-01, -3.7949e-01],\n",
       "                       [-1.6450e-01,  2.5529e-01,  1.5974e-01],\n",
       "                       [-2.1172e-01,  1.9658e-01, -7.5690e-02],\n",
       "                       [-1.0007e-01, -3.5032e-01, -1.1315e-01],\n",
       "                       [ 2.2364e-01, -2.7860e-01,  1.8563e-01],\n",
       "                       [-2.4714e-01,  9.7046e-02,  3.0080e-01],\n",
       "                       [-7.4142e-03, -1.3654e-01, -3.0424e-02]],\n",
       "              \n",
       "                      [[ 2.9696e-01,  1.0195e-01, -1.0116e-01],\n",
       "                       [ 2.0112e-01,  3.2620e-01,  2.8342e-01],\n",
       "                       [-2.9710e-01,  2.7774e-01, -3.4202e-02],\n",
       "                       [ 1.4802e-01, -8.9391e-03, -1.3726e-01],\n",
       "                       [ 3.7176e-01, -2.7330e-01,  1.9928e-01],\n",
       "                       [ 2.9675e-01,  5.0095e-02,  2.9086e-01],\n",
       "                       [-2.6589e-01, -2.0877e-01, -7.5218e-02],\n",
       "                       [ 3.0570e-01, -2.6879e-02,  3.4492e-01],\n",
       "                       [-4.0805e-01,  3.8808e-03,  2.6420e-02],\n",
       "                       [-6.5378e-02,  1.0055e-01, -8.7380e-02],\n",
       "                       [-1.9025e-01, -2.1843e-01,  1.8746e-01],\n",
       "                       [ 2.8012e-01, -2.2129e-01,  2.9824e-01],\n",
       "                       [-1.2891e-02,  1.9962e-01,  3.2172e-01],\n",
       "                       [-7.7035e-02, -3.3386e-01, -7.1017e-02],\n",
       "                       [ 3.3456e-01, -1.1162e-01,  3.1084e-01],\n",
       "                       [ 6.9730e-02,  1.0355e-02,  1.0083e-01]],\n",
       "              \n",
       "                      [[-5.4216e-02, -8.9860e-03, -3.1087e-01],\n",
       "                       [-2.0524e-02,  1.1890e-01, -4.4404e-01],\n",
       "                       [ 3.4649e-01, -3.3687e-01,  1.8739e-01],\n",
       "                       [-9.8175e-03, -3.4503e-02,  3.3218e-01],\n",
       "                       [ 2.5054e-01,  1.6355e-01,  1.9261e-01],\n",
       "                       [-1.0041e-02, -6.0860e-02,  8.0398e-02],\n",
       "                       [-3.2867e-01, -1.9804e-01,  8.8618e-02],\n",
       "                       [-1.3434e-01,  2.1554e-01,  5.2775e-02],\n",
       "                       [-2.0770e-01, -3.1423e-01, -1.6081e-02],\n",
       "                       [-1.7269e-01, -3.2461e-01, -1.0314e-01],\n",
       "                       [-1.1228e-01, -2.6732e-01,  1.2003e-01],\n",
       "                       [-2.3821e-01, -7.4917e-02,  2.6733e-01],\n",
       "                       [ 4.2908e-02, -2.5199e-01, -4.0833e-02],\n",
       "                       [ 3.1274e-01,  9.3918e-02, -2.3652e-02],\n",
       "                       [ 8.9615e-02,  9.5528e-02, -2.1866e-01],\n",
       "                       [ 8.1338e-02, -1.6260e-01,  1.1113e-01]],\n",
       "              \n",
       "                      [[-3.9318e-01,  1.6313e-01,  3.4315e-01],\n",
       "                       [ 2.4113e-02,  1.7794e-01,  1.8550e-01],\n",
       "                       [ 4.3803e-02, -1.9415e-01,  1.0624e-01],\n",
       "                       [-1.4097e-01,  1.3746e-01,  3.5165e-01],\n",
       "                       [ 1.0336e-01,  1.0209e-01, -3.2542e-01],\n",
       "                       [-5.1744e-02, -1.5558e-01,  1.8082e-01],\n",
       "                       [ 1.2663e-01, -3.2909e-01,  2.5353e-01],\n",
       "                       [ 1.5833e-01,  5.2923e-02, -6.6521e-02],\n",
       "                       [-7.9249e-02, -3.7400e-01, -3.2329e-01],\n",
       "                       [-1.7959e-01,  2.1431e-01, -3.1046e-01],\n",
       "                       [ 1.0364e-01, -2.6398e-01,  2.0688e-01],\n",
       "                       [-2.5160e-01, -1.5779e-01, -2.2689e-01],\n",
       "                       [-2.2160e-01,  4.9972e-02, -1.9772e-01],\n",
       "                       [ 9.9111e-02, -8.6926e-02, -1.5089e-02],\n",
       "                       [-1.8755e-01,  2.0288e-01,  3.3367e-02],\n",
       "                       [ 3.6694e-01,  2.0035e-01, -1.5240e-03]]], device='cuda:0')),\n",
       "             ('module.model.model.1.filter_convs.5.bias',\n",
       "              tensor([ 0.0220,  0.0253,  0.0116, -0.0284,  0.0014, -0.0084,  0.0053, -0.0236,\n",
       "                      -0.0146, -0.0057, -0.0147,  0.0299, -0.0239, -0.0380, -0.0045,  0.0019],\n",
       "                     device='cuda:0')),\n",
       "             ('module.model.model.1.filter_convs.6.weight',\n",
       "              tensor([[[ 3.7175e-01,  3.1355e-01,  7.1980e-02],\n",
       "                       [ 1.9714e-01,  1.0238e-01, -1.5430e-01],\n",
       "                       [-3.0584e-02, -1.5824e-01, -2.5522e-03],\n",
       "                       [ 2.4924e-01,  3.5466e-01,  2.6791e-01],\n",
       "                       [ 2.1638e-01,  8.3843e-02,  1.3629e-01],\n",
       "                       [ 3.1450e-01, -1.2923e-01,  1.0703e-01],\n",
       "                       [-2.0021e-02, -3.1730e-01,  2.4022e-01],\n",
       "                       [ 1.8236e-01,  1.1890e-01, -2.8503e-01],\n",
       "                       [-3.0720e-01, -2.0175e-01,  1.6740e-01],\n",
       "                       [ 3.7423e-01, -8.9972e-02,  8.0643e-02],\n",
       "                       [ 2.6201e-01,  3.2364e-01,  2.2927e-02],\n",
       "                       [ 3.1394e-01,  1.3133e-01,  1.2643e-01],\n",
       "                       [-6.1296e-02, -2.4500e-01,  2.2272e-01],\n",
       "                       [-1.4348e-01, -5.8631e-02, -1.5339e-01],\n",
       "                       [-3.3550e-01, -2.3992e-01,  4.4408e-02],\n",
       "                       [-1.2535e-01, -3.2013e-01, -5.6317e-02]],\n",
       "              \n",
       "                      [[-1.3518e-01,  2.4967e-01,  1.0642e-01],\n",
       "                       [-1.0186e-01, -2.6934e-01, -2.1664e-01],\n",
       "                       [ 2.7522e-01,  5.4675e-02, -2.6702e-01],\n",
       "                       [ 3.1383e-02, -1.5629e-01, -2.7125e-01],\n",
       "                       [-2.3945e-02,  1.0265e-01, -3.4910e-01],\n",
       "                       [ 1.4217e-01,  2.9696e-02, -1.0007e-01],\n",
       "                       [-2.8480e-01, -3.8885e-01,  1.3067e-03],\n",
       "                       [ 1.1995e-01, -1.9080e-01,  1.3201e-01],\n",
       "                       [ 5.6918e-02, -2.4236e-01,  3.3865e-01],\n",
       "                       [ 2.9602e-02, -3.6076e-01,  2.0197e-01],\n",
       "                       [-2.8345e-01,  4.1535e-01,  8.4889e-03],\n",
       "                       [ 3.4534e-01,  3.1606e-02,  3.3824e-01],\n",
       "                       [ 1.6776e-01, -6.1878e-02,  1.4813e-01],\n",
       "                       [ 4.2525e-02, -2.5519e-01, -3.3906e-01],\n",
       "                       [-6.2813e-02, -9.0495e-02,  3.3125e-01],\n",
       "                       [ 2.6391e-01,  7.1159e-02,  4.2290e-01]],\n",
       "              \n",
       "                      [[ 9.7912e-02,  8.1573e-02,  3.3294e-01],\n",
       "                       [ 4.4505e-01,  1.3289e-01, -1.2995e-01],\n",
       "                       [ 1.5271e-02,  1.7170e-01, -7.9682e-02],\n",
       "                       [-3.7346e-03,  1.3520e-01,  8.2729e-03],\n",
       "                       [-3.8382e-01, -2.6083e-01,  1.9675e-01],\n",
       "                       [-1.9878e-01,  2.2770e-01,  6.3119e-02],\n",
       "                       [-2.0494e-01,  3.6470e-01,  1.4768e-01],\n",
       "                       [ 1.0812e-01,  2.4589e-01,  2.2281e-01],\n",
       "                       [ 2.5684e-01,  3.6726e-01, -2.7279e-01],\n",
       "                       [ 1.4147e-01, -2.4447e-01,  2.9779e-01],\n",
       "                       [-2.1721e-01, -5.1359e-03, -3.6014e-01],\n",
       "                       [-1.4023e-01,  1.6796e-01, -2.3715e-01],\n",
       "                       [-1.7445e-01,  1.5207e-01, -2.2091e-01],\n",
       "                       [ 2.8800e-01,  3.3256e-01,  6.8133e-03],\n",
       "                       [-2.8482e-02, -2.9413e-02, -2.6939e-01],\n",
       "                       [ 3.1621e-01, -1.7289e-01,  1.4978e-01]],\n",
       "              \n",
       "                      [[ 1.5573e-01,  2.1720e-01, -2.2332e-01],\n",
       "                       [ 2.8098e-01, -1.7077e-01, -1.3729e-01],\n",
       "                       [ 3.4206e-01,  2.8266e-02,  7.7021e-02],\n",
       "                       [ 1.5139e-01, -9.2685e-02, -1.0249e-01],\n",
       "                       [ 1.2131e-01, -1.6558e-01, -1.8296e-01],\n",
       "                       [-9.8845e-02,  1.5762e-01, -1.4426e-01],\n",
       "                       [ 1.5482e-01,  2.3453e-01, -1.6621e-01],\n",
       "                       [ 1.1745e-01, -1.8494e-01, -2.2951e-01],\n",
       "                       [ 3.5645e-01, -1.5536e-01,  2.5482e-01],\n",
       "                       [-2.5053e-01, -3.2137e-01,  2.9360e-01],\n",
       "                       [-2.6468e-01, -3.0633e-01,  3.6504e-01],\n",
       "                       [-7.1326e-02, -1.3601e-01,  1.0717e-01],\n",
       "                       [-7.3774e-02,  1.3737e-01,  5.2180e-02],\n",
       "                       [ 1.6011e-01, -2.2964e-01,  2.2117e-01],\n",
       "                       [-2.2539e-02,  7.6376e-02, -5.2114e-02],\n",
       "                       [ 2.9282e-01, -1.4215e-02,  1.1373e-01]],\n",
       "              \n",
       "                      [[ 3.6919e-02, -1.6553e-01,  2.3153e-01],\n",
       "                       [ 7.8351e-03, -5.7392e-02,  2.4766e-01],\n",
       "                       [ 7.0681e-02, -2.7246e-01,  4.5632e-02],\n",
       "                       [ 1.9485e-01, -1.3857e-01, -3.0800e-01],\n",
       "                       [ 2.5941e-01, -1.1551e-01, -2.7805e-02],\n",
       "                       [ 2.6425e-01, -3.5691e-01, -3.7527e-01],\n",
       "                       [-2.3839e-01, -5.1996e-02,  6.0801e-02],\n",
       "                       [-3.0318e-01, -3.2301e-01, -1.0472e-01],\n",
       "                       [-8.3724e-02,  1.2872e-01, -3.0265e-01],\n",
       "                       [ 1.3022e-01, -2.9507e-01,  9.4314e-02],\n",
       "                       [-4.3702e-01, -3.8579e-02, -1.6292e-01],\n",
       "                       [-1.6634e-01,  2.9801e-01, -1.4768e-01],\n",
       "                       [-1.6115e-01, -2.5902e-01, -2.8682e-01],\n",
       "                       [ 2.5029e-01, -2.9294e-01,  1.5098e-01],\n",
       "                       [ 3.1824e-01,  1.0189e-01,  2.1168e-01],\n",
       "                       [-3.4591e-01,  2.4519e-01,  2.4501e-01]],\n",
       "              \n",
       "                      [[-2.3821e-01, -2.4521e-01,  2.0025e-01],\n",
       "                       [ 3.2905e-01, -2.0441e-01,  2.7492e-01],\n",
       "                       [-1.4064e-01, -1.9189e-01, -3.0022e-01],\n",
       "                       [-1.8434e-02, -1.3717e-01,  3.6873e-01],\n",
       "                       [-2.1194e-02,  3.2032e-01,  9.3751e-02],\n",
       "                       [ 2.5233e-02, -1.9689e-01, -6.5413e-02],\n",
       "                       [-1.8930e-01,  1.6485e-01, -3.0607e-01],\n",
       "                       [-1.7461e-01, -2.5081e-01, -2.8858e-01],\n",
       "                       [ 3.8411e-01,  2.5297e-01, -2.2043e-01],\n",
       "                       [-2.4492e-01, -1.6049e-01,  1.5375e-01],\n",
       "                       [ 2.8528e-01, -1.4935e-01, -1.1323e-01],\n",
       "                       [-1.0820e-01, -3.1878e-01,  1.0619e-01],\n",
       "                       [ 1.1890e-01,  2.8309e-01,  7.0842e-03],\n",
       "                       [ 1.5212e-01,  9.6956e-03,  3.1587e-01],\n",
       "                       [-2.6559e-01, -2.7860e-01,  1.1198e-01],\n",
       "                       [-1.4752e-01, -2.8620e-01, -1.3955e-01]],\n",
       "              \n",
       "                      [[-8.2482e-02,  3.9004e-01,  7.6175e-02],\n",
       "                       [-3.0644e-01,  2.7621e-01, -2.6595e-01],\n",
       "                       [-9.1706e-02,  1.7953e-01,  1.2844e-01],\n",
       "                       [ 3.6899e-01, -2.3921e-01,  1.3890e-01],\n",
       "                       [ 3.1713e-01,  2.7890e-01, -2.7567e-01],\n",
       "                       [ 2.2879e-01, -8.8241e-02,  2.0626e-01],\n",
       "                       [ 3.7774e-01,  4.4854e-02,  2.0101e-01],\n",
       "                       [ 2.3554e-01,  2.5721e-01, -2.1842e-02],\n",
       "                       [-2.0346e-01, -2.0805e-01,  2.3766e-01],\n",
       "                       [-2.3271e-01,  4.6946e-03, -3.4645e-01],\n",
       "                       [-2.1889e-01, -3.0051e-01,  3.4366e-01],\n",
       "                       [-5.5274e-02, -1.0086e-01,  1.6270e-01],\n",
       "                       [-1.9068e-01,  3.5426e-01, -3.6204e-01],\n",
       "                       [-2.8713e-01,  1.6695e-01,  1.3551e-01],\n",
       "                       [-1.4632e-01, -3.2564e-01, -2.0104e-01],\n",
       "                       [ 2.5267e-01,  2.6635e-01, -2.9655e-01]],\n",
       "              \n",
       "                      [[-1.8420e-01, -2.7638e-01, -1.7667e-01],\n",
       "                       [ 4.8075e-01,  3.6268e-02,  1.3642e-01],\n",
       "                       [-2.2434e-01,  1.2506e-01, -1.4175e-01],\n",
       "                       [ 2.8532e-01,  2.4502e-01,  1.3344e-01],\n",
       "                       [ 1.9178e-01, -5.0418e-02, -1.2272e-01],\n",
       "                       [-1.0559e-01, -1.5585e-01,  8.7352e-02],\n",
       "                       [ 8.2107e-02, -2.3279e-01,  1.8135e-01],\n",
       "                       [-6.3547e-02,  2.8982e-01,  9.8625e-02],\n",
       "                       [ 2.0682e-01,  1.4607e-01,  1.2406e-01],\n",
       "                       [ 2.8718e-01, -1.5104e-01, -1.7075e-01],\n",
       "                       [ 3.3555e-01,  4.0795e-02, -3.2419e-01],\n",
       "                       [ 2.7077e-01,  1.5426e-02, -2.0038e-01],\n",
       "                       [ 1.9061e-01, -7.2393e-02,  2.3268e-01],\n",
       "                       [-5.4340e-02,  9.0728e-02, -2.9727e-02],\n",
       "                       [-3.3827e-01,  3.2769e-01, -3.2392e-01],\n",
       "                       [ 1.1642e-01, -1.7661e-01,  5.0099e-02]],\n",
       "              \n",
       "                      [[-1.7400e-01, -1.2908e-01,  1.4505e-01],\n",
       "                       [-5.4010e-02,  1.4181e-01,  2.1600e-01],\n",
       "                       [ 1.0372e-01, -1.0932e-01, -2.1567e-01],\n",
       "                       [-3.4223e-01,  9.5658e-02, -1.5384e-01],\n",
       "                       [-1.4811e-02,  5.2978e-02, -7.2272e-02],\n",
       "                       [-1.8193e-02, -8.3773e-03, -3.1188e-01],\n",
       "                       [-1.1956e-01, -3.0443e-02,  2.2073e-01],\n",
       "                       [ 9.0582e-02, -3.8551e-02,  1.5487e-03],\n",
       "                       [-1.8821e-01, -1.5281e-01,  1.0384e-02],\n",
       "                       [ 1.5488e-01,  2.6873e-01,  4.5375e-01],\n",
       "                       [ 5.9561e-02, -4.1573e-02,  1.5016e-01],\n",
       "                       [ 1.3374e-01,  3.4710e-02,  2.2363e-01],\n",
       "                       [ 1.1156e-01,  8.6603e-02, -2.1913e-01],\n",
       "                       [-1.0067e-01, -3.2547e-01,  1.1234e-01],\n",
       "                       [ 1.9818e-01, -2.3143e-01, -1.7149e-01],\n",
       "                       [ 2.7191e-01, -3.1519e-01, -2.8981e-01]],\n",
       "              \n",
       "                      [[-7.1920e-02,  2.0991e-01, -1.9089e-01],\n",
       "                       [ 1.2295e-01, -2.4888e-01,  2.8282e-01],\n",
       "                       [-3.4507e-01,  8.7424e-02, -1.6479e-01],\n",
       "                       [-2.2420e-01, -2.4274e-01, -1.6985e-01],\n",
       "                       [ 3.4994e-01,  1.7226e-01, -5.0297e-02],\n",
       "                       [ 1.2844e-01, -1.3202e-01,  1.5982e-01],\n",
       "                       [-5.3005e-02, -2.6496e-01, -1.3566e-01],\n",
       "                       [ 2.3148e-01, -2.9078e-01,  2.3111e-01],\n",
       "                       [-2.1189e-01, -1.0327e-01,  3.4927e-01],\n",
       "                       [ 4.9336e-02, -6.7426e-02,  1.5721e-01],\n",
       "                       [-1.9052e-01, -1.9525e-01, -5.0987e-02],\n",
       "                       [-3.1686e-01, -9.9782e-02,  1.5550e-01],\n",
       "                       [-2.6550e-01,  1.9629e-01, -4.3775e-02],\n",
       "                       [ 3.3074e-01, -2.1047e-01,  8.2451e-02],\n",
       "                       [-2.3515e-01, -1.7909e-01, -1.4016e-01],\n",
       "                       [ 2.3573e-01, -1.4233e-01, -2.7031e-01]],\n",
       "              \n",
       "                      [[ 6.8432e-02,  3.5933e-01,  1.0914e-01],\n",
       "                       [ 7.5562e-02,  8.9775e-02, -5.4640e-02],\n",
       "                       [-2.4592e-02,  2.4944e-01, -1.7393e-01],\n",
       "                       [ 1.6916e-04, -2.5885e-01,  9.0233e-02],\n",
       "                       [ 2.0749e-01,  6.8715e-02, -2.6045e-01],\n",
       "                       [ 1.6693e-01, -1.8656e-01,  2.5297e-01],\n",
       "                       [-1.7100e-01,  3.0763e-01,  2.7541e-01],\n",
       "                       [-2.1169e-01, -4.3324e-02, -3.5207e-01],\n",
       "                       [-2.4137e-01,  1.9929e-01,  2.5296e-01],\n",
       "                       [-2.3348e-01,  1.7546e-01,  4.7868e-02],\n",
       "                       [ 3.7364e-01,  1.7215e-01, -1.2488e-01],\n",
       "                       [ 5.8269e-02, -9.1479e-02,  2.0725e-01],\n",
       "                       [ 5.7223e-02,  1.9701e-01,  6.3163e-02],\n",
       "                       [ 1.9021e-01,  3.5436e-01,  9.1450e-03],\n",
       "                       [ 2.8613e-01, -2.2561e-01, -5.4317e-02],\n",
       "                       [ 8.2107e-02,  1.8953e-02, -2.4195e-01]],\n",
       "              \n",
       "                      [[-2.8000e-01, -3.0833e-01,  4.0408e-02],\n",
       "                       [ 1.8887e-01,  2.3657e-01, -3.2200e-01],\n",
       "                       [ 2.5464e-02, -1.3292e-01,  1.0304e-03],\n",
       "                       [ 2.4633e-02,  5.5301e-02, -1.6673e-03],\n",
       "                       [ 8.3752e-03,  5.2440e-02,  1.7666e-01],\n",
       "                       [ 4.2088e-01, -2.8479e-02,  2.8037e-01],\n",
       "                       [ 3.7912e-03,  9.7894e-02,  1.1601e-01],\n",
       "                       [ 3.6583e-01, -1.1968e-01, -1.0247e-01],\n",
       "                       [ 5.8741e-02, -1.8497e-01, -2.4052e-01],\n",
       "                       [ 3.6150e-01, -6.7269e-02, -6.0104e-02],\n",
       "                       [-5.9835e-03, -3.2497e-01, -2.8080e-02],\n",
       "                       [-1.5025e-02, -2.1516e-01,  9.0532e-02],\n",
       "                       [-2.5465e-01, -2.5634e-01,  1.2087e-01],\n",
       "                       [ 7.1105e-02, -2.1206e-02,  3.1805e-01],\n",
       "                       [-1.5363e-01,  3.3240e-01, -4.2122e-02],\n",
       "                       [ 2.8285e-01, -3.3360e-01, -8.6968e-03]],\n",
       "              \n",
       "                      [[ 1.6514e-01,  5.5864e-02, -2.7785e-01],\n",
       "                       [-4.1886e-02,  3.6300e-01, -8.2663e-02],\n",
       "                       [-2.4372e-03, -3.8385e-02,  6.2605e-02],\n",
       "                       [ 2.1146e-01,  7.8282e-02,  2.0259e-01],\n",
       "                       [-2.0400e-01, -1.3684e-01,  2.7480e-02],\n",
       "                       [ 1.9384e-01, -1.7879e-01,  2.9928e-01],\n",
       "                       [ 6.5662e-02,  2.5053e-01, -1.5781e-01],\n",
       "                       [ 1.6333e-01, -2.5650e-02, -4.3290e-02],\n",
       "                       [-1.7156e-01,  1.8450e-01, -2.9827e-01],\n",
       "                       [-2.0691e-01,  2.5703e-01, -1.1978e-01],\n",
       "                       [ 2.7671e-01,  3.0644e-01, -1.4353e-01],\n",
       "                       [ 5.8336e-02, -1.6093e-01, -3.4045e-01],\n",
       "                       [-1.0715e-02, -3.4950e-01, -3.6245e-02],\n",
       "                       [-3.9790e-02,  3.6263e-01,  1.7085e-01],\n",
       "                       [-1.0964e-01,  4.8276e-02, -2.0618e-01],\n",
       "                       [ 2.3066e-01, -3.0964e-02,  8.0490e-02]],\n",
       "              \n",
       "                      [[-6.5571e-02,  8.9630e-02,  8.7903e-02],\n",
       "                       [-4.1312e-01,  2.5619e-01,  2.7807e-01],\n",
       "                       [ 6.4680e-02,  1.2159e-01,  8.0978e-03],\n",
       "                       [-1.8020e-02, -2.7133e-02,  2.2950e-01],\n",
       "                       [-1.9017e-03,  8.8023e-02,  2.0119e-01],\n",
       "                       [ 1.1906e-01, -7.6923e-02,  1.3150e-01],\n",
       "                       [ 4.0273e-01,  1.0804e-01, -4.0537e-01],\n",
       "                       [-3.6236e-01, -2.8952e-01,  9.7838e-02],\n",
       "                       [ 7.4601e-02,  1.8541e-01,  1.4900e-01],\n",
       "                       [-9.1169e-02, -2.8904e-01,  4.2596e-01],\n",
       "                       [-1.4426e-01,  3.3533e-01, -3.2196e-01],\n",
       "                       [ 1.4013e-01, -9.5372e-02,  2.7808e-01],\n",
       "                       [ 1.1143e-02, -2.3369e-02,  3.7633e-01],\n",
       "                       [-1.8021e-01, -2.0142e-01, -3.1046e-01],\n",
       "                       [-3.0574e-01, -1.6767e-01, -3.7502e-01],\n",
       "                       [ 1.0881e-02,  6.0330e-02,  3.5751e-01]],\n",
       "              \n",
       "                      [[-1.1085e-01,  3.4624e-01, -1.9458e-01],\n",
       "                       [-1.1868e-02,  3.1509e-01,  3.6094e-01],\n",
       "                       [ 2.0950e-01,  6.7954e-02,  5.7443e-02],\n",
       "                       [ 1.0107e-01, -1.9148e-01,  2.4724e-01],\n",
       "                       [ 7.6622e-02, -2.8561e-01,  2.9346e-01],\n",
       "                       [-1.8519e-01, -1.1035e-01, -3.1788e-01],\n",
       "                       [ 1.6005e-01, -3.1745e-02, -1.8324e-01],\n",
       "                       [-1.4494e-01, -2.9547e-01, -4.2502e-02],\n",
       "                       [-2.1940e-01, -2.5062e-01,  3.3434e-02],\n",
       "                       [ 2.7300e-01, -6.3409e-02,  2.0222e-01],\n",
       "                       [-1.8542e-01, -1.9303e-01,  3.6480e-01],\n",
       "                       [ 9.3701e-02, -2.2863e-01, -2.6991e-01],\n",
       "                       [-4.9581e-02, -5.0858e-02,  1.7690e-01],\n",
       "                       [-1.8326e-01,  1.3817e-01, -1.2454e-01],\n",
       "                       [ 3.7716e-01, -2.6350e-01, -3.1697e-01],\n",
       "                       [-2.3900e-01, -2.8752e-01, -3.2973e-01]],\n",
       "              \n",
       "                      [[-2.5790e-01, -2.1719e-01,  2.6113e-01],\n",
       "                       [ 5.2853e-02,  1.9576e-01,  6.0869e-02],\n",
       "                       [ 7.8808e-02,  1.3148e-02,  3.8960e-02],\n",
       "                       [ 1.9829e-01,  3.1614e-01, -4.9098e-02],\n",
       "                       [-2.2364e-01, -4.2200e-02,  3.1372e-01],\n",
       "                       [ 1.6231e-01, -3.0223e-01, -5.4756e-02],\n",
       "                       [ 3.0390e-01, -1.1508e-01,  2.6331e-01],\n",
       "                       [-1.5843e-01, -2.3403e-01,  2.9431e-01],\n",
       "                       [ 8.5803e-02, -3.4441e-01, -1.9291e-01],\n",
       "                       [ 1.5888e-01, -2.8054e-01, -8.7447e-02],\n",
       "                       [-2.3418e-01,  2.5482e-01, -2.0096e-01],\n",
       "                       [-3.2035e-02, -2.8501e-01, -5.9259e-02],\n",
       "                       [-3.0403e-01, -1.3252e-01, -1.3235e-01],\n",
       "                       [-2.1493e-03,  4.0985e-03,  2.9004e-01],\n",
       "                       [-8.2348e-03, -8.2611e-02,  1.3142e-02],\n",
       "                       [-1.5234e-01, -2.4501e-01, -1.2336e-01]]], device='cuda:0')),\n",
       "             ('module.model.model.1.filter_convs.6.bias',\n",
       "              tensor([-0.0238,  0.0205,  0.0066,  0.0099,  0.0040,  0.0048,  0.0022, -0.0089,\n",
       "                       0.0195, -0.0030,  0.0006,  0.0065,  0.0011,  0.0207, -0.0083, -0.0006],\n",
       "                     device='cuda:0')),\n",
       "             ('module.model.model.1.filter_convs.7.weight',\n",
       "              tensor([[[ 2.1713e-01, -2.3425e-01,  3.9433e-01],\n",
       "                       [-3.9841e-02,  3.5016e-01, -2.7202e-01],\n",
       "                       [-1.2278e-01,  5.7676e-02,  2.4712e-01],\n",
       "                       [ 3.1219e-01, -3.0184e-01, -2.6046e-02],\n",
       "                       [-9.2116e-03,  3.4108e-01, -9.2719e-02],\n",
       "                       [ 1.4897e-01,  2.0631e-01,  9.2104e-02],\n",
       "                       [ 4.2046e-02, -2.2792e-01, -1.5221e-01],\n",
       "                       [ 1.1857e-01,  1.0578e-01, -2.5111e-01],\n",
       "                       [ 2.9849e-02, -2.6238e-01,  2.0234e-01],\n",
       "                       [-2.7960e-01, -2.7350e-01,  6.2475e-03],\n",
       "                       [ 2.5444e-01,  1.7379e-01, -2.7015e-01],\n",
       "                       [-2.7701e-01, -3.1586e-01, -1.0253e-01],\n",
       "                       [-1.2071e-01,  9.2834e-02, -5.5056e-02],\n",
       "                       [-3.1988e-01, -2.0896e-01, -2.4029e-02],\n",
       "                       [ 2.3205e-01,  4.5801e-02, -2.3184e-01],\n",
       "                       [ 1.5463e-01, -1.7125e-02,  3.1090e-01]],\n",
       "              \n",
       "                      [[-1.3739e-01, -1.5831e-01, -4.4696e-02],\n",
       "                       [-2.5029e-02,  2.1075e-01, -1.1564e-01],\n",
       "                       [-2.7130e-01, -2.4415e-01,  1.1498e-01],\n",
       "                       [ 8.4400e-02,  2.9072e-01,  2.8456e-01],\n",
       "                       [-3.0352e-01, -2.9053e-01,  2.5857e-01],\n",
       "                       [ 6.7840e-02, -3.2351e-02, -1.1681e-01],\n",
       "                       [ 3.5904e-02, -5.8313e-02, -3.7108e-03],\n",
       "                       [ 1.4884e-02,  4.5637e-02,  1.3208e-01],\n",
       "                       [ 6.3520e-02,  2.3707e-01, -2.8983e-01],\n",
       "                       [-1.3536e-01,  1.3761e-01, -9.1416e-02],\n",
       "                       [-3.8162e-02,  3.1663e-01, -2.3429e-01],\n",
       "                       [-1.7466e-01, -5.3469e-02,  3.2123e-01],\n",
       "                       [ 3.2999e-01,  1.7600e-01, -4.1391e-01],\n",
       "                       [-3.3283e-01,  5.2600e-02, -4.3541e-01],\n",
       "                       [ 7.9603e-02, -1.7557e-01, -3.3357e-01],\n",
       "                       [ 1.1691e-01, -9.8893e-02, -1.3210e-01]],\n",
       "              \n",
       "                      [[ 3.2666e-01, -1.6133e-01, -3.2194e-01],\n",
       "                       [ 2.7074e-01,  7.6430e-02, -2.1987e-01],\n",
       "                       [-2.4700e-01, -1.9272e-01,  1.0606e-01],\n",
       "                       [-2.9426e-01,  1.3574e-01, -2.8080e-01],\n",
       "                       [-2.5968e-01, -2.4121e-01,  1.1152e-01],\n",
       "                       [-2.4139e-01,  1.0604e-01, -1.3601e-01],\n",
       "                       [-2.3206e-01, -3.1240e-01,  9.6496e-02],\n",
       "                       [-2.7033e-01, -6.0322e-03,  1.8358e-01],\n",
       "                       [-2.4605e-01, -4.3643e-02, -4.9638e-03],\n",
       "                       [ 3.6179e-01,  2.5103e-02,  3.5178e-01],\n",
       "                       [-1.9503e-01, -2.3877e-01, -2.4249e-01],\n",
       "                       [ 8.4425e-02,  2.3027e-01, -8.2116e-02],\n",
       "                       [ 1.1662e-01, -1.2455e-01, -2.9530e-01],\n",
       "                       [-1.1478e-01,  5.2946e-02,  2.6125e-01],\n",
       "                       [-4.3113e-02, -7.6836e-02, -6.5950e-02],\n",
       "                       [ 3.2482e-01, -1.5491e-01, -2.8908e-01]],\n",
       "              \n",
       "                      [[-4.1518e-02, -1.6192e-01, -1.0378e-01],\n",
       "                       [ 8.1853e-02, -2.8763e-01,  2.0429e-01],\n",
       "                       [ 2.1296e-01,  4.0436e-03, -2.5809e-01],\n",
       "                       [ 1.9030e-01, -5.3210e-02, -1.4697e-01],\n",
       "                       [ 2.6416e-01, -2.2506e-01, -5.7137e-02],\n",
       "                       [-1.8452e-01,  4.7957e-02, -2.3058e-01],\n",
       "                       [-1.3113e-01, -7.7752e-02,  2.0948e-01],\n",
       "                       [ 3.0254e-01,  1.1212e-01, -1.7759e-01],\n",
       "                       [-1.2693e-01,  1.6682e-01,  1.5498e-01],\n",
       "                       [-2.9496e-01, -2.6848e-02, -1.2620e-01],\n",
       "                       [ 3.9216e-01, -5.6895e-03,  1.9291e-01],\n",
       "                       [-1.8026e-01,  7.9488e-02, -1.5624e-01],\n",
       "                       [ 1.9059e-01, -5.0895e-02,  1.5779e-01],\n",
       "                       [ 2.0047e-01,  2.3477e-01,  7.3131e-02],\n",
       "                       [-2.3143e-01, -2.1096e-01,  1.5652e-01],\n",
       "                       [ 2.5055e-01, -2.5323e-01,  3.3830e-01]],\n",
       "              \n",
       "                      [[ 1.6043e-01, -3.2411e-01, -2.1635e-01],\n",
       "                       [ 1.1550e-02,  3.7408e-01, -4.0992e-01],\n",
       "                       [ 1.7395e-01,  1.1061e-01, -5.3227e-02],\n",
       "                       [-3.3022e-01,  1.7831e-01,  2.4264e-01],\n",
       "                       [-7.2427e-03,  7.0608e-04,  2.4330e-01],\n",
       "                       [ 1.8162e-01, -2.8584e-01,  3.3475e-02],\n",
       "                       [ 2.7318e-01,  7.9136e-02,  4.9350e-02],\n",
       "                       [ 9.4451e-02, -3.9606e-01,  2.7787e-01],\n",
       "                       [-1.4633e-01, -1.8773e-01, -1.3591e-02],\n",
       "                       [ 3.3247e-01,  6.2012e-03, -1.7202e-01],\n",
       "                       [-2.9705e-01, -1.0575e-01, -2.4375e-01],\n",
       "                       [ 2.2210e-01,  1.0810e-01,  2.0980e-01],\n",
       "                       [ 2.2635e-01,  2.5362e-01, -1.3404e-01],\n",
       "                       [-7.9805e-02,  1.2487e-01,  4.6704e-02],\n",
       "                       [ 1.9031e-01, -1.6031e-01, -1.4625e-01],\n",
       "                       [-2.6781e-01, -2.5047e-01,  2.0413e-01]],\n",
       "              \n",
       "                      [[ 3.5657e-01,  3.1205e-01,  1.3918e-02],\n",
       "                       [-2.6281e-01,  9.8158e-02,  1.1275e-01],\n",
       "                       [ 2.3212e-01, -2.5972e-01, -1.9042e-01],\n",
       "                       [-2.3065e-02,  2.8188e-02,  2.6280e-01],\n",
       "                       [-3.0222e-01,  1.9324e-02,  1.5428e-01],\n",
       "                       [-2.8517e-01,  3.8371e-01,  2.2303e-01],\n",
       "                       [-2.0571e-01,  3.1111e-01,  8.3565e-03],\n",
       "                       [ 1.9575e-01,  2.2193e-01, -4.2393e-02],\n",
       "                       [-2.2738e-02, -1.9245e-01, -2.9435e-01],\n",
       "                       [ 6.0800e-02,  1.8878e-01,  2.5414e-01],\n",
       "                       [ 1.3319e-01,  8.0307e-02, -7.7677e-02],\n",
       "                       [-4.7326e-02,  6.9950e-02,  3.2012e-01],\n",
       "                       [-3.3631e-01,  4.6283e-02, -2.2373e-01],\n",
       "                       [-1.0246e-01, -2.3614e-01, -2.3459e-01],\n",
       "                       [-1.2646e-02,  3.2909e-01, -3.3781e-01],\n",
       "                       [ 2.0534e-01,  1.5181e-01, -5.3353e-02]],\n",
       "              \n",
       "                      [[ 3.1568e-01,  2.4463e-02,  6.3214e-02],\n",
       "                       [ 1.6339e-01,  4.4412e-01, -1.5168e-01],\n",
       "                       [ 2.6216e-02, -1.1395e-01,  4.7747e-02],\n",
       "                       [ 5.0976e-02,  2.6993e-01, -6.2854e-02],\n",
       "                       [-3.1882e-01,  2.1518e-01, -2.8922e-01],\n",
       "                       [-5.7937e-02, -8.6826e-02, -1.9793e-01],\n",
       "                       [-9.6151e-02, -1.9529e-01, -2.2773e-01],\n",
       "                       [ 3.7833e-02,  1.5487e-01,  2.2808e-01],\n",
       "                       [-3.3134e-01,  2.7044e-02, -1.3790e-02],\n",
       "                       [-2.8253e-01, -2.1747e-01, -5.6541e-02],\n",
       "                       [-2.6361e-01, -8.0890e-02,  4.8544e-02],\n",
       "                       [-9.6211e-02,  2.3793e-01,  1.2406e-01],\n",
       "                       [-2.9965e-02,  9.1039e-02, -7.0712e-02],\n",
       "                       [-1.9766e-02,  1.2679e-01, -2.4392e-01],\n",
       "                       [-1.2424e-01,  1.3662e-01,  4.3552e-02],\n",
       "                       [ 2.6467e-01,  6.0228e-02, -2.5082e-01]],\n",
       "              \n",
       "                      [[ 2.5996e-01, -4.2135e-02,  1.3712e-01],\n",
       "                       [-2.8728e-01,  1.8136e-01, -2.7391e-01],\n",
       "                       [-2.4619e-01,  2.1030e-01, -1.4574e-01],\n",
       "                       [ 4.1146e-01, -1.0393e-01, -1.1687e-01],\n",
       "                       [-1.5778e-02,  3.1945e-02,  1.3926e-01],\n",
       "                       [ 2.4676e-01,  1.2743e-01, -2.5423e-01],\n",
       "                       [-6.6215e-02,  5.6071e-02, -1.3146e-01],\n",
       "                       [-2.3142e-01,  1.4409e-01,  3.1151e-02],\n",
       "                       [-1.4248e-01, -2.1179e-01, -2.8206e-01],\n",
       "                       [-2.9768e-01, -5.6791e-02,  1.3281e-01],\n",
       "                       [ 7.3148e-02,  5.6099e-02, -1.5933e-01],\n",
       "                       [-2.2114e-01,  4.1952e-01,  2.4105e-01],\n",
       "                       [-6.7306e-02,  1.0794e-01, -5.5825e-02],\n",
       "                       [-2.7881e-01,  2.7645e-01, -2.7698e-01],\n",
       "                       [ 5.3234e-02,  2.9157e-02, -4.5212e-02],\n",
       "                       [ 2.5880e-01,  4.2374e-02, -1.1878e-01]],\n",
       "              \n",
       "                      [[ 1.1975e-01,  2.6694e-01,  1.8837e-01],\n",
       "                       [-1.9555e-01,  2.0146e-01, -5.2733e-02],\n",
       "                       [-2.0835e-01, -1.9567e-01,  1.0205e-01],\n",
       "                       [ 1.4422e-01,  5.1966e-02, -2.1330e-01],\n",
       "                       [-3.5387e-01, -3.0038e-01,  2.5307e-01],\n",
       "                       [-1.2741e-01,  2.0347e-01,  2.0269e-02],\n",
       "                       [ 3.3254e-01,  3.4955e-01,  2.7770e-01],\n",
       "                       [-2.3851e-01, -8.0615e-02, -1.2951e-01],\n",
       "                       [ 2.8103e-01,  1.9522e-01,  9.7610e-02],\n",
       "                       [-1.3208e-01, -2.6307e-01,  1.4854e-01],\n",
       "                       [ 1.3149e-01,  3.2021e-01, -2.4624e-01],\n",
       "                       [ 1.6298e-01,  2.2644e-01,  2.6257e-01],\n",
       "                       [ 1.9096e-01,  2.7489e-01, -1.4021e-01],\n",
       "                       [ 1.3675e-02, -2.8108e-01,  2.0872e-01],\n",
       "                       [ 8.6438e-02,  1.7237e-01,  3.2195e-01],\n",
       "                       [ 2.0877e-01,  5.2270e-02,  3.3983e-01]],\n",
       "              \n",
       "                      [[ 3.1225e-01,  7.4509e-02, -1.7067e-01],\n",
       "                       [ 3.5806e-01,  2.9772e-01,  1.9600e-01],\n",
       "                       [-2.9483e-01, -1.4838e-01,  9.8637e-02],\n",
       "                       [-3.2060e-01, -1.2880e-01, -1.0180e-01],\n",
       "                       [ 3.9628e-02, -2.7931e-01, -3.1123e-01],\n",
       "                       [-1.3126e-01,  3.1931e-01, -3.8838e-02],\n",
       "                       [-1.1152e-01, -3.4169e-02, -1.1967e-01],\n",
       "                       [-3.6037e-01, -1.5573e-02, -2.0041e-01],\n",
       "                       [-3.0079e-01, -2.4899e-01, -3.7348e-01],\n",
       "                       [-2.9934e-01,  5.7471e-03,  2.5666e-01],\n",
       "                       [-2.9576e-01,  1.0764e-01, -1.5052e-01],\n",
       "                       [-2.2795e-02, -4.1812e-01, -5.9963e-02],\n",
       "                       [-2.8110e-01, -1.3053e-01, -2.5367e-01],\n",
       "                       [ 3.1324e-01,  2.3336e-01,  2.4587e-01],\n",
       "                       [-2.7069e-01, -9.8169e-02,  3.2151e-01],\n",
       "                       [ 8.9327e-02,  3.3931e-02, -2.4340e-01]],\n",
       "              \n",
       "                      [[-1.4860e-01,  2.6142e-04,  2.4138e-01],\n",
       "                       [ 1.1618e-01, -3.6912e-01, -9.1525e-02],\n",
       "                       [ 2.3046e-01,  2.6061e-01,  2.7617e-01],\n",
       "                       [ 1.2994e-01, -1.4834e-01, -8.1235e-02],\n",
       "                       [ 3.0322e-01, -4.4549e-02,  2.0437e-01],\n",
       "                       [ 2.1398e-01,  3.4230e-02, -9.2934e-02],\n",
       "                       [-8.6800e-02, -3.8259e-01, -2.2004e-01],\n",
       "                       [ 4.7975e-02,  3.5270e-01,  2.5001e-01],\n",
       "                       [ 1.1406e-01,  1.4864e-02, -1.8943e-01],\n",
       "                       [-8.0956e-02,  1.9363e-01,  2.1520e-01],\n",
       "                       [ 1.7053e-01, -1.2919e-01, -2.9497e-01],\n",
       "                       [ 4.2308e-02,  3.2886e-01, -2.9487e-01],\n",
       "                       [-6.9179e-02,  3.3509e-01,  4.4587e-02],\n",
       "                       [-2.6445e-01,  1.6888e-01,  9.3954e-02],\n",
       "                       [ 3.1864e-01, -1.4492e-01, -2.2368e-01],\n",
       "                       [-3.9118e-01, -1.9090e-01, -9.8373e-02]],\n",
       "              \n",
       "                      [[-1.9570e-01,  2.1885e-01,  5.2552e-02],\n",
       "                       [-2.3161e-01, -2.4079e-01, -1.9897e-01],\n",
       "                       [ 1.3257e-01, -3.3753e-01,  9.8789e-02],\n",
       "                       [ 4.3299e-02, -3.6492e-01,  3.6763e-01],\n",
       "                       [-1.8640e-02, -2.5584e-01,  5.4595e-02],\n",
       "                       [-2.1869e-01,  2.6262e-01, -2.3933e-01],\n",
       "                       [-1.8501e-02,  1.4626e-01, -2.2901e-01],\n",
       "                       [ 6.5713e-02,  1.8632e-01,  7.8306e-02],\n",
       "                       [-2.6318e-01,  2.7600e-01,  4.3902e-03],\n",
       "                       [ 6.6441e-02,  2.6365e-01, -2.0773e-02],\n",
       "                       [-1.7812e-01, -3.1074e-01, -2.7619e-01],\n",
       "                       [ 3.7487e-02,  3.2546e-02, -2.9720e-01],\n",
       "                       [-1.9404e-01, -8.9248e-02,  2.2222e-01],\n",
       "                       [ 5.2486e-02,  2.6686e-01,  2.9668e-01],\n",
       "                       [ 3.6225e-01,  1.7476e-01,  1.8206e-01],\n",
       "                       [-9.2890e-02, -2.3649e-01, -8.5228e-02]],\n",
       "              \n",
       "                      [[ 3.2112e-01, -2.1429e-01, -1.3495e-01],\n",
       "                       [-2.8812e-01,  1.3733e-01,  7.6025e-02],\n",
       "                       [-3.6551e-01, -2.1358e-01, -2.3207e-02],\n",
       "                       [-3.2744e-01,  3.1210e-01,  1.8457e-01],\n",
       "                       [ 3.8172e-01, -3.0116e-01,  1.1143e-01],\n",
       "                       [ 2.3815e-01,  3.1617e-01,  1.4882e-01],\n",
       "                       [ 2.5899e-01, -4.7162e-02,  1.7633e-01],\n",
       "                       [ 1.7225e-01, -1.5936e-01, -1.7031e-02],\n",
       "                       [ 1.0271e-02, -1.0607e-01,  1.9205e-02],\n",
       "                       [ 1.1192e-01,  2.6148e-01, -3.8808e-01],\n",
       "                       [ 3.0935e-01, -3.5372e-02, -2.0753e-01],\n",
       "                       [ 3.6468e-01, -8.3573e-02, -5.7223e-03],\n",
       "                       [-1.9819e-01,  2.0010e-01,  3.4629e-01],\n",
       "                       [-1.6875e-01,  7.4973e-02, -1.1727e-01],\n",
       "                       [ 5.9711e-03,  4.1412e-02,  3.6295e-02],\n",
       "                       [-4.2021e-02,  4.2664e-03,  4.0511e-01]],\n",
       "              \n",
       "                      [[-1.0599e-01,  3.0543e-01, -3.6367e-01],\n",
       "                       [-6.6589e-02, -3.3664e-02, -6.1347e-02],\n",
       "                       [-2.8587e-01,  1.9506e-01,  3.6124e-01],\n",
       "                       [-1.2791e-01, -2.8747e-01,  1.2849e-01],\n",
       "                       [ 1.8860e-01,  3.3115e-01,  6.1584e-02],\n",
       "                       [-1.6221e-01, -3.2857e-01, -1.7116e-01],\n",
       "                       [ 3.6067e-01, -2.8396e-01,  7.9353e-02],\n",
       "                       [-3.2136e-01, -9.7149e-02, -9.6955e-02],\n",
       "                       [ 2.4171e-01, -1.5242e-01,  2.1067e-01],\n",
       "                       [-3.2945e-01, -1.5800e-01, -3.9528e-02],\n",
       "                       [-2.8164e-01,  3.8089e-01, -9.3850e-02],\n",
       "                       [ 1.2241e-02, -2.1026e-01, -2.2859e-01],\n",
       "                       [-1.4841e-01, -2.0297e-01, -2.8749e-01],\n",
       "                       [-9.4876e-02, -7.3033e-02,  3.7048e-01],\n",
       "                       [-5.9037e-02, -1.1751e-01, -3.4072e-01],\n",
       "                       [ 3.4274e-01, -3.0583e-01,  3.7616e-01]],\n",
       "              \n",
       "                      [[ 3.0390e-01,  3.3811e-01,  3.4866e-01],\n",
       "                       [-2.4686e-01,  3.6292e-01, -4.2188e-01],\n",
       "                       [ 1.7802e-01, -3.6773e-02,  1.7892e-01],\n",
       "                       [-3.4434e-01, -6.5307e-02, -3.6115e-01],\n",
       "                       [-9.3349e-02,  2.8413e-01,  9.2130e-02],\n",
       "                       [-1.7580e-01, -6.0518e-02, -1.0338e-01],\n",
       "                       [-2.3056e-01, -9.9553e-02,  1.0014e-01],\n",
       "                       [ 2.0868e-02, -2.1631e-02, -2.1750e-02],\n",
       "                       [ 1.4947e-02,  5.7962e-02, -1.3292e-01],\n",
       "                       [ 6.4969e-03,  3.5395e-01,  2.2672e-01],\n",
       "                       [-1.3211e-01, -2.9019e-01, -4.2124e-02],\n",
       "                       [ 1.5987e-01,  6.1226e-02, -1.8409e-01],\n",
       "                       [ 1.8399e-01, -1.0872e-01,  2.5673e-01],\n",
       "                       [ 1.8363e-01,  1.5085e-01, -1.8521e-01],\n",
       "                       [ 2.6941e-02,  2.3749e-02,  1.8361e-01],\n",
       "                       [ 1.1189e-01,  9.5164e-02, -3.4464e-01]],\n",
       "              \n",
       "                      [[-1.8302e-01,  3.0452e-01,  2.7011e-01],\n",
       "                       [ 2.8560e-01, -1.2958e-01, -1.9792e-01],\n",
       "                       [ 2.9664e-01, -2.2578e-01, -6.1272e-03],\n",
       "                       [-1.8570e-01, -2.6617e-01, -4.3099e-01],\n",
       "                       [-2.1279e-01, -2.9899e-01,  2.8778e-01],\n",
       "                       [-1.0383e-01, -1.7899e-01, -3.4234e-01],\n",
       "                       [ 2.5906e-01, -2.0954e-01,  1.0226e-01],\n",
       "                       [-1.0477e-01,  5.7384e-02, -3.8867e-01],\n",
       "                       [-3.4549e-01,  4.2379e-02,  4.6350e-02],\n",
       "                       [ 2.1980e-01, -2.6459e-01,  2.9375e-01],\n",
       "                       [-2.9092e-01, -2.8812e-01,  2.4263e-01],\n",
       "                       [ 2.3659e-01,  4.6309e-02,  2.2212e-01],\n",
       "                       [-3.4486e-01, -2.8726e-01, -2.7611e-03],\n",
       "                       [ 1.7464e-01, -1.7117e-01, -1.4055e-03],\n",
       "                       [-4.5896e-02, -3.7044e-02,  1.4691e-01],\n",
       "                       [ 2.2504e-01, -1.9112e-01, -4.0923e-01]]], device='cuda:0')),\n",
       "             ('module.model.model.1.filter_convs.7.bias',\n",
       "              tensor([-0.0208, -0.0247,  0.0018,  0.0197,  0.0324, -0.0079,  0.0221, -0.0125,\n",
       "                      -0.0081, -0.0208, -0.0161,  0.0085,  0.0043,  0.0209,  0.0103, -0.0017],\n",
       "                     device='cuda:0')),\n",
       "             ('module.model.model.1.gate_convs.0.weight',\n",
       "              tensor([[[ 1.4615e-01,  1.1392e-01, -2.4670e-01],\n",
       "                       [-2.6124e-01,  3.1193e-03, -1.4101e-01],\n",
       "                       [-3.8563e-01,  1.6132e-01, -2.5180e-01],\n",
       "                       [ 2.2500e-01,  6.4563e-02,  3.3129e-01],\n",
       "                       [ 8.2351e-02, -1.7348e-01, -1.6209e-01],\n",
       "                       [-1.2626e-01, -3.0213e-01, -2.0747e-01],\n",
       "                       [-4.2072e-01, -8.1544e-02,  4.3112e-03],\n",
       "                       [-1.9500e-02, -2.6834e-01,  1.8623e-01],\n",
       "                       [ 2.3640e-01,  6.0453e-02, -2.4167e-02],\n",
       "                       [ 1.4341e-01,  2.1034e-01, -1.8194e-01],\n",
       "                       [-4.2676e-02, -1.0561e-01,  3.1808e-02],\n",
       "                       [ 3.0665e-01,  1.1104e-01, -1.4371e-01],\n",
       "                       [-7.5616e-02, -3.2189e-01, -9.6198e-02],\n",
       "                       [-3.1861e-01, -3.1895e-01, -1.4889e-01],\n",
       "                       [-4.5502e-02, -2.5594e-01,  2.0222e-01],\n",
       "                       [-6.4436e-02, -3.1985e-01, -6.4508e-02]],\n",
       "              \n",
       "                      [[-1.9598e-01,  1.4084e-01, -3.0569e-01],\n",
       "                       [ 9.7200e-02, -2.4549e-01, -1.6442e-01],\n",
       "                       [-9.2773e-02, -2.4113e-01, -1.4988e-01],\n",
       "                       [ 1.9637e-01,  3.5136e-01,  2.7351e-01],\n",
       "                       [-1.2560e-01, -2.4951e-01, -2.9008e-01],\n",
       "                       [ 1.5799e-01,  1.5932e-01,  7.0378e-02],\n",
       "                       [ 3.1391e-01,  1.3170e-02, -2.2089e-02],\n",
       "                       [-1.0575e-01,  1.8143e-01,  3.5662e-01],\n",
       "                       [-4.7083e-02,  2.1685e-01,  5.5408e-02],\n",
       "                       [ 1.3604e-01,  2.2245e-01, -1.7154e-01],\n",
       "                       [-1.9355e-01,  5.3190e-03,  9.8028e-02],\n",
       "                       [ 9.3577e-03, -1.0208e-01, -1.0616e-02],\n",
       "                       [-1.0401e-01, -1.5646e-01,  4.8735e-01],\n",
       "                       [-1.2920e-01,  3.7104e-01,  3.0043e-01],\n",
       "                       [-2.3642e-01, -3.7145e-01,  1.5951e-01],\n",
       "                       [ 3.1691e-01,  2.2726e-01, -7.4675e-02]],\n",
       "              \n",
       "                      [[ 3.3010e-01,  1.6157e-01, -1.4196e-01],\n",
       "                       [-2.3077e-01, -2.8474e-01,  2.3947e-01],\n",
       "                       [ 7.2336e-03, -1.8138e-01,  2.9664e-01],\n",
       "                       [ 3.1678e-01, -2.9409e-02, -1.8906e-01],\n",
       "                       [-2.7754e-01,  3.6062e-02,  1.9059e-01],\n",
       "                       [ 1.3378e-01,  4.8647e-02, -3.1524e-01],\n",
       "                       [-2.6933e-01, -2.4675e-01, -6.4849e-02],\n",
       "                       [-3.2598e-01, -1.1191e-01, -3.4470e-01],\n",
       "                       [-5.4467e-02, -3.1761e-01,  3.0822e-01],\n",
       "                       [ 7.8568e-02, -7.1928e-02, -6.4712e-02],\n",
       "                       [-3.2654e-01,  1.9202e-01, -1.0145e-01],\n",
       "                       [-2.4992e-01,  6.6581e-03, -1.8570e-01],\n",
       "                       [ 3.0241e-01, -4.6316e-02,  7.6163e-02],\n",
       "                       [-1.2895e-01,  1.4026e-02, -2.2675e-01],\n",
       "                       [ 4.8852e-02,  4.2642e-02, -1.6201e-01],\n",
       "                       [ 2.7887e-01,  7.4597e-02,  8.9070e-02]],\n",
       "              \n",
       "                      [[-2.1311e-01, -2.6573e-01,  1.4895e-01],\n",
       "                       [ 1.5358e-01,  9.9518e-02,  3.5665e-02],\n",
       "                       [ 2.7754e-01, -8.6435e-02, -1.7606e-01],\n",
       "                       [-2.7460e-01, -1.0873e-01,  1.9126e-01],\n",
       "                       [-5.7944e-02, -3.5656e-02, -1.3616e-01],\n",
       "                       [-4.2215e-02,  1.8598e-01,  3.0561e-01],\n",
       "                       [-3.1622e-02, -1.9735e-01,  3.3768e-03],\n",
       "                       [-4.8942e-01, -2.8637e-01,  4.0726e-01],\n",
       "                       [ 2.0256e-01,  9.8711e-02, -9.7957e-02],\n",
       "                       [-1.0549e-01,  2.9899e-01, -9.3414e-02],\n",
       "                       [ 3.4650e-01, -1.1352e-01,  3.5051e-01],\n",
       "                       [ 2.4548e-04,  2.7138e-01,  4.2040e-02],\n",
       "                       [-2.8242e-01,  1.0981e-01, -2.7917e-03],\n",
       "                       [ 3.3709e-01,  1.7477e-01,  2.7935e-01],\n",
       "                       [ 3.3037e-01, -1.5803e-01,  2.4675e-01],\n",
       "                       [ 2.2096e-01, -3.8776e-01, -6.7308e-03]],\n",
       "              \n",
       "                      [[-2.4088e-01,  1.1105e-01, -2.4798e-01],\n",
       "                       [-3.8247e-01, -2.6569e-01,  9.3916e-02],\n",
       "                       [ 1.1118e-02,  2.3408e-01,  1.4226e-01],\n",
       "                       [-1.6213e-01, -3.9275e-01,  2.7557e-01],\n",
       "                       [-3.7853e-02,  9.5921e-02,  1.9140e-01],\n",
       "                       [-1.5983e-01,  1.9052e-01, -9.1434e-02],\n",
       "                       [-2.3411e-01, -4.2053e-02, -8.8424e-02],\n",
       "                       [-4.8130e-02,  1.5437e-01,  1.4123e-02],\n",
       "                       [-3.0013e-01, -9.0042e-03,  3.2081e-02],\n",
       "                       [ 1.1174e-01,  3.1067e-01, -8.4094e-02],\n",
       "                       [ 1.3235e-01,  1.6303e-02,  9.9301e-02],\n",
       "                       [ 3.5447e-01, -3.8651e-01, -1.0707e-01],\n",
       "                       [-1.2469e-01, -1.3280e-02, -2.0869e-01],\n",
       "                       [ 2.6463e-01, -8.1982e-02, -2.9400e-01],\n",
       "                       [-3.0406e-01, -2.6992e-01, -9.4561e-02],\n",
       "                       [-3.0947e-01, -2.4217e-01,  3.5113e-02]],\n",
       "              \n",
       "                      [[ 3.1298e-01,  1.2669e-01,  1.7457e-01],\n",
       "                       [-1.7813e-01,  1.9937e-01,  3.2085e-02],\n",
       "                       [-6.7531e-02,  2.8087e-01, -1.9438e-01],\n",
       "                       [ 2.6744e-01,  1.9625e-01, -2.0185e-02],\n",
       "                       [-2.7404e-01, -1.7052e-01,  1.4540e-01],\n",
       "                       [-1.6444e-01, -9.5997e-03,  1.7359e-01],\n",
       "                       [-2.6042e-01, -3.7032e-01, -5.3025e-03],\n",
       "                       [ 1.8889e-01,  2.0033e-01, -1.4091e-01],\n",
       "                       [ 3.5085e-01,  1.6090e-01,  3.4146e-01],\n",
       "                       [ 2.9175e-01, -8.6354e-02,  4.0719e-01],\n",
       "                       [ 2.0590e-01,  2.6865e-01, -8.0686e-02],\n",
       "                       [-6.9341e-02, -2.2948e-01, -1.2033e-01],\n",
       "                       [-5.3397e-02,  2.2433e-01, -1.9736e-03],\n",
       "                       [ 2.8667e-01, -2.8702e-01, -2.5174e-01],\n",
       "                       [-3.1686e-01,  1.8779e-02,  2.5319e-01],\n",
       "                       [ 8.8034e-02, -1.2273e-02, -1.3791e-01]],\n",
       "              \n",
       "                      [[-2.0234e-01, -1.1030e-01,  2.1676e-01],\n",
       "                       [ 2.2232e-01, -8.1176e-02, -2.7428e-01],\n",
       "                       [-1.1679e-01, -8.2080e-03, -1.4631e-01],\n",
       "                       [ 7.2310e-02, -1.6622e-01,  3.9859e-02],\n",
       "                       [ 8.2691e-02,  2.0718e-01, -3.1862e-01],\n",
       "                       [ 9.8905e-02, -2.9009e-01, -2.2459e-01],\n",
       "                       [ 1.7504e-01, -1.2562e-02,  3.6362e-02],\n",
       "                       [-1.8144e-01,  3.9023e-01, -1.2650e-01],\n",
       "                       [-2.3036e-01,  1.4676e-01,  2.8063e-01],\n",
       "                       [-3.9916e-01,  1.6561e-02,  1.6828e-01],\n",
       "                       [-3.8265e-01, -2.1750e-01, -2.9093e-01],\n",
       "                       [-1.6389e-02, -4.5876e-02,  1.0272e-01],\n",
       "                       [ 3.1043e-01,  1.8102e-02, -1.9815e-01],\n",
       "                       [ 1.3532e-01, -2.1266e-01,  1.6368e-01],\n",
       "                       [-7.5120e-03,  1.8210e-01,  1.8528e-01],\n",
       "                       [ 2.9620e-01, -1.0462e-01,  3.4547e-02]],\n",
       "              \n",
       "                      [[ 2.1520e-01,  8.3999e-02,  1.3081e-01],\n",
       "                       [ 2.7832e-01, -2.3567e-01,  2.8011e-01],\n",
       "                       [ 2.0575e-01, -1.8560e-01,  2.2499e-01],\n",
       "                       [-8.6632e-02, -3.4203e-02,  2.4083e-02],\n",
       "                       [ 3.2217e-01,  1.9730e-01, -2.5691e-01],\n",
       "                       [ 1.1734e-01,  3.6139e-03, -3.9614e-01],\n",
       "                       [ 2.2045e-01, -2.0300e-01,  1.3936e-01],\n",
       "                       [ 1.7430e-01, -7.5581e-03, -4.8225e-02],\n",
       "                       [-2.1051e-01,  3.4466e-01, -1.7888e-01],\n",
       "                       [-1.5325e-01, -2.8536e-02,  1.9240e-01],\n",
       "                       [-2.7653e-01,  7.0015e-02,  5.5167e-02],\n",
       "                       [ 3.0574e-01, -2.9071e-01, -1.5940e-01],\n",
       "                       [ 3.4590e-02, -3.8361e-01, -1.3558e-01],\n",
       "                       [-2.9165e-01, -1.9290e-01, -1.9250e-01],\n",
       "                       [ 4.1235e-01,  2.9130e-01, -3.1746e-01],\n",
       "                       [-1.4095e-01, -3.7467e-01, -8.3117e-02]],\n",
       "              \n",
       "                      [[-3.8646e-02, -6.8862e-02, -4.5671e-02],\n",
       "                       [-1.3109e-01,  5.5427e-02, -1.9121e-01],\n",
       "                       [ 2.5042e-01,  1.9447e-01, -1.7703e-01],\n",
       "                       [ 2.7090e-01, -9.2765e-03,  3.8395e-01],\n",
       "                       [-2.7490e-01,  1.5424e-01,  7.6930e-02],\n",
       "                       [ 2.3684e-01, -1.8635e-01, -2.8227e-01],\n",
       "                       [ 4.4359e-01,  8.6507e-02,  2.1891e-01],\n",
       "                       [ 1.2547e-01, -6.4245e-03, -3.9864e-01],\n",
       "                       [-4.8411e-02, -1.0984e-01,  9.7609e-04],\n",
       "                       [-1.7936e-01, -2.0106e-01, -3.6240e-01],\n",
       "                       [-6.0532e-02,  1.6049e-02, -6.5375e-02],\n",
       "                       [-2.1309e-01,  2.2718e-02,  1.0542e-01],\n",
       "                       [ 4.0433e-01,  7.5067e-03, -1.3898e-01],\n",
       "                       [-1.0937e-01, -1.2932e-02,  2.8624e-02],\n",
       "                       [ 5.2454e-02,  1.5376e-01, -1.0521e-01],\n",
       "                       [-5.7504e-02,  4.5413e-02, -7.5055e-02]],\n",
       "              \n",
       "                      [[-1.4192e-01,  7.6927e-02,  6.5034e-02],\n",
       "                       [ 7.5136e-02,  3.5893e-01, -1.1933e-01],\n",
       "                       [-1.2462e-01,  1.3129e-01, -2.2472e-01],\n",
       "                       [ 3.7999e-01, -7.0491e-02,  1.8324e-01],\n",
       "                       [-1.4935e-03, -3.4992e-01, -1.2355e-01],\n",
       "                       [-2.2752e-01, -3.6966e-01,  1.1107e-01],\n",
       "                       [-4.4495e-02, -1.4757e-01,  1.4337e-01],\n",
       "                       [ 4.5413e-02,  3.6609e-01, -3.0249e-01],\n",
       "                       [-1.2027e-01, -2.3703e-01, -3.4561e-02],\n",
       "                       [-2.8066e-01,  1.1450e-01,  1.4085e-01],\n",
       "                       [-2.6657e-01, -3.1698e-01,  1.5853e-01],\n",
       "                       [ 2.9911e-01, -7.8043e-02,  3.9613e-01],\n",
       "                       [-2.1096e-01,  7.5897e-02, -8.3378e-02],\n",
       "                       [-1.3427e-01,  6.3973e-02, -3.8857e-01],\n",
       "                       [-4.3304e-03, -1.5283e-01,  3.2534e-01],\n",
       "                       [-2.0326e-01,  2.2348e-01, -1.5574e-01]],\n",
       "              \n",
       "                      [[ 1.2382e-01, -1.6145e-01, -1.8040e-01],\n",
       "                       [ 2.2744e-01, -1.2953e-01, -5.3478e-02],\n",
       "                       [-4.6334e-02,  9.8756e-02,  1.6999e-01],\n",
       "                       [-2.9349e-01,  2.0073e-01, -1.2468e-01],\n",
       "                       [-1.4434e-01,  6.9719e-04, -3.8130e-02],\n",
       "                       [ 1.9275e-01,  3.1855e-02,  2.9029e-02],\n",
       "                       [ 2.4907e-01,  3.0359e-01, -2.3576e-02],\n",
       "                       [-1.5230e-01, -2.3283e-02, -1.9082e-02],\n",
       "                       [ 1.6484e-01, -7.1930e-02, -1.3978e-01],\n",
       "                       [ 3.6795e-01,  3.6317e-01,  1.0616e-01],\n",
       "                       [ 3.5713e-01, -6.1044e-03, -1.8681e-01],\n",
       "                       [ 2.0482e-01,  1.9797e-01,  2.2531e-01],\n",
       "                       [ 2.6347e-01,  7.1324e-02,  2.2997e-02],\n",
       "                       [ 2.4420e-01, -4.1393e-02, -1.7967e-01],\n",
       "                       [-3.6164e-01, -3.9168e-02, -3.3585e-01],\n",
       "                       [-9.1196e-02, -2.3482e-01, -2.1624e-01]],\n",
       "              \n",
       "                      [[ 2.1677e-01,  1.2759e-01, -1.5127e-01],\n",
       "                       [ 5.4315e-02, -6.5577e-02,  7.8424e-02],\n",
       "                       [-7.6381e-02, -1.8279e-01, -2.5117e-01],\n",
       "                       [ 6.8366e-02, -1.0516e-01,  1.5969e-01],\n",
       "                       [-7.2682e-02, -1.8665e-01,  1.1460e-01],\n",
       "                       [-3.3159e-01, -5.6417e-02, -1.4555e-01],\n",
       "                       [ 1.2672e-01,  9.3886e-02,  3.9799e-01],\n",
       "                       [-5.5807e-02, -9.7318e-02,  2.1501e-01],\n",
       "                       [ 2.1075e-02, -1.0306e-01, -2.8591e-01],\n",
       "                       [ 1.1006e-01,  2.1127e-01, -2.0531e-01],\n",
       "                       [ 1.0093e-01, -1.0695e-01, -1.9199e-01],\n",
       "                       [-3.0800e-01, -6.2168e-02,  3.6496e-02],\n",
       "                       [ 1.6180e-01,  3.2907e-02,  2.0512e-01],\n",
       "                       [ 2.7962e-01,  7.8438e-02,  1.0791e-01],\n",
       "                       [-1.5532e-01, -7.1438e-02, -1.4744e-02],\n",
       "                       [-2.4591e-02,  2.8931e-01, -8.5509e-02]],\n",
       "              \n",
       "                      [[-8.2417e-02, -3.9652e-01, -3.1270e-02],\n",
       "                       [-1.7097e-01, -1.0122e-01, -2.8030e-01],\n",
       "                       [-9.9131e-02, -3.2867e-01, -2.4043e-01],\n",
       "                       [ 3.7691e-01,  4.4772e-01,  1.0338e-01],\n",
       "                       [-1.7757e-01, -2.9220e-01, -7.7099e-02],\n",
       "                       [-3.0014e-01, -1.3445e-01,  2.0197e-01],\n",
       "                       [ 2.7929e-01, -2.1500e-01, -1.7039e-01],\n",
       "                       [ 2.1639e-01, -2.6771e-01,  5.6640e-02],\n",
       "                       [-2.9274e-01, -2.7151e-01,  1.3396e-01],\n",
       "                       [-5.4286e-02,  1.6392e-01, -1.6978e-01],\n",
       "                       [ 1.2874e-01, -1.0192e-01, -1.6241e-01],\n",
       "                       [ 1.8469e-02,  2.4541e-01, -7.7468e-02],\n",
       "                       [ 1.5858e-01, -1.6549e-02,  1.4052e-01],\n",
       "                       [-1.8080e-02,  2.8130e-01,  1.8420e-01],\n",
       "                       [ 1.5876e-01, -4.9833e-02, -2.1407e-01],\n",
       "                       [-3.7072e-01,  3.7794e-02, -1.5846e-01]],\n",
       "              \n",
       "                      [[-2.4682e-01,  2.7638e-01, -1.0060e-01],\n",
       "                       [-2.7463e-01,  8.5310e-02,  1.7004e-01],\n",
       "                       [ 1.5527e-01,  3.0322e-01,  2.7833e-01],\n",
       "                       [ 3.0840e-01,  2.6998e-01,  3.0367e-01],\n",
       "                       [-1.8433e-01, -2.9255e-01,  1.0598e-01],\n",
       "                       [-2.3988e-01, -1.3524e-01,  1.5776e-01],\n",
       "                       [-6.0098e-02, -2.3215e-01,  2.1455e-01],\n",
       "                       [ 3.8092e-01, -2.4904e-01,  3.1744e-01],\n",
       "                       [ 8.8507e-02, -3.7816e-01,  2.2294e-01],\n",
       "                       [ 4.3998e-02, -1.2897e-01,  1.9548e-01],\n",
       "                       [-1.6291e-01, -2.5152e-01,  1.6956e-01],\n",
       "                       [ 1.2766e-01,  2.9452e-01, -2.8376e-01],\n",
       "                       [ 1.9774e-01, -8.6017e-02,  4.8972e-03],\n",
       "                       [-1.0581e-01, -4.8685e-02,  3.0701e-01],\n",
       "                       [ 2.5125e-01, -1.2336e-01,  1.2659e-01],\n",
       "                       [ 1.6271e-01,  2.1944e-01, -1.4240e-01]],\n",
       "              \n",
       "                      [[-5.4655e-02,  2.6917e-02,  2.8046e-01],\n",
       "                       [ 2.6292e-01,  1.1321e-01,  5.9415e-02],\n",
       "                       [-3.4300e-01,  2.4565e-01, -1.4357e-01],\n",
       "                       [ 3.5304e-02, -3.0899e-01,  1.2319e-01],\n",
       "                       [ 4.8777e-02, -4.8006e-02,  1.8473e-01],\n",
       "                       [-2.2433e-01,  2.5552e-01,  3.2694e-01],\n",
       "                       [-2.8285e-01, -2.0052e-01, -2.3789e-02],\n",
       "                       [-1.4086e-01,  1.5738e-01, -1.4598e-01],\n",
       "                       [ 1.3000e-01,  1.5576e-01, -3.3273e-01],\n",
       "                       [ 8.4443e-02, -7.7631e-02,  6.9647e-02],\n",
       "                       [ 1.9886e-01, -2.5114e-01,  2.1047e-01],\n",
       "                       [-9.0454e-02,  2.1573e-01, -1.8792e-01],\n",
       "                       [-1.0485e-01,  2.3113e-01,  3.2893e-02],\n",
       "                       [-3.1402e-01, -1.3835e-01, -3.4234e-01],\n",
       "                       [-2.4228e-01,  6.4964e-03, -9.9680e-02],\n",
       "                       [ 3.6892e-01,  8.0890e-02,  3.4691e-01]],\n",
       "              \n",
       "                      [[-2.5299e-01,  2.4690e-01,  2.3896e-01],\n",
       "                       [ 3.8623e-02, -3.9875e-01,  1.0892e-01],\n",
       "                       [ 4.1581e-01, -9.2973e-02, -3.1067e-01],\n",
       "                       [ 8.4441e-02,  1.2043e-01, -2.2381e-01],\n",
       "                       [-2.5570e-01,  3.3253e-01,  1.8812e-01],\n",
       "                       [ 2.0552e-01, -1.4997e-01, -1.7909e-01],\n",
       "                       [-4.7202e-02,  2.4603e-02, -1.8996e-01],\n",
       "                       [-2.8040e-01,  2.3083e-01,  2.8891e-01],\n",
       "                       [-1.6830e-01,  5.3761e-02, -3.8116e-02],\n",
       "                       [-2.7932e-01, -2.9366e-01,  3.2840e-01],\n",
       "                       [ 1.4245e-01, -6.7737e-03, -1.8760e-01],\n",
       "                       [-2.1352e-01,  2.8038e-01,  1.6812e-02],\n",
       "                       [-9.9939e-02, -2.9111e-01,  3.3343e-01],\n",
       "                       [-1.1931e-01, -1.1718e-01, -1.6017e-01],\n",
       "                       [ 3.5133e-01, -1.1392e-01,  2.1969e-01],\n",
       "                       [ 3.0833e-01,  2.2755e-04, -1.1932e-01]]], device='cuda:0')),\n",
       "             ('module.model.model.1.gate_convs.0.bias',\n",
       "              tensor([ 0.0294, -0.0170,  0.0180, -0.0218,  0.0646, -0.0255,  0.0242,  0.0010,\n",
       "                       0.0583, -0.0275,  0.0426,  0.1873, -0.0960, -0.0094, -0.0795, -0.0427],\n",
       "                     device='cuda:0')),\n",
       "             ('module.model.model.1.gate_convs.1.weight',\n",
       "              tensor([[[-3.7021e-02,  9.4539e-03,  1.1315e-01],\n",
       "                       [-3.1543e-01, -1.4503e-03,  1.6309e-01],\n",
       "                       [ 2.5493e-01,  2.6681e-01,  3.8440e-03],\n",
       "                       [ 1.0903e-01,  5.2243e-02,  4.2572e-01],\n",
       "                       [-3.9029e-01, -1.0993e-01,  1.1628e-01],\n",
       "                       [-8.1235e-02,  4.0948e-01, -2.0999e-01],\n",
       "                       [ 2.6051e-01,  5.1244e-01, -2.7565e-01],\n",
       "                       [-3.6630e-02, -3.1118e-01, -1.1560e-01],\n",
       "                       [-2.0688e-01, -9.2905e-02,  1.5160e-01],\n",
       "                       [-1.6498e-01, -7.7299e-02, -7.0183e-02],\n",
       "                       [-2.2171e-01, -1.5286e-01, -1.0457e-01],\n",
       "                       [ 7.8582e-02, -3.7466e-01,  1.2843e-02],\n",
       "                       [-1.4126e-01,  1.8144e-01, -3.3738e-01],\n",
       "                       [-4.0552e-02, -2.3226e-01,  1.0590e-01],\n",
       "                       [-1.9060e-01, -1.7696e-01, -4.8905e-01],\n",
       "                       [ 2.3940e-01,  3.2385e-01, -3.7441e-02]],\n",
       "              \n",
       "                      [[-7.3184e-02,  8.9709e-02, -3.3458e-01],\n",
       "                       [-3.4808e-01, -1.3272e-01, -1.4235e-02],\n",
       "                       [-1.1671e-01, -1.2805e-01,  1.6326e-02],\n",
       "                       [-2.0214e-01, -3.7504e-01,  8.5028e-02],\n",
       "                       [-2.5608e-01, -2.3242e-01, -3.2888e-01],\n",
       "                       [ 1.2540e-01, -9.5748e-02, -3.8526e-01],\n",
       "                       [ 1.0011e-01,  3.0469e-01,  3.8943e-01],\n",
       "                       [-1.9653e-01,  1.8704e-01,  4.7066e-01],\n",
       "                       [-1.6147e-01,  3.3600e-02, -2.8044e-01],\n",
       "                       [-3.2382e-02, -3.2239e-01, -3.0603e-02],\n",
       "                       [-3.0449e-01,  7.7540e-02,  1.4123e-01],\n",
       "                       [-1.4770e-01,  3.8925e-02, -2.6579e-01],\n",
       "                       [ 1.7137e-01, -3.9322e-03,  2.3246e-01],\n",
       "                       [-2.8499e-01,  1.9184e-01, -3.9218e-01],\n",
       "                       [ 2.1336e-01,  2.6979e-02, -3.2105e-01],\n",
       "                       [ 1.1529e-01,  1.1326e-01,  2.3569e-01]],\n",
       "              \n",
       "                      [[-2.0644e-01, -3.0127e-01,  3.1247e-01],\n",
       "                       [-7.5503e-02, -3.5897e-01, -1.5122e-01],\n",
       "                       [ 2.2661e-01,  1.0770e-01, -2.9567e-01],\n",
       "                       [-2.3012e-01, -3.2650e-01,  2.0001e-01],\n",
       "                       [-2.6185e-01, -2.4933e-01,  1.6415e-01],\n",
       "                       [ 6.3314e-02, -1.6669e-01, -1.6306e-01],\n",
       "                       [ 1.5850e-01,  1.2892e-01, -1.4080e-01],\n",
       "                       [ 2.2047e-01, -1.6014e-01, -1.4895e-01],\n",
       "                       [ 2.9906e-01, -4.8316e-01, -2.9871e-01],\n",
       "                       [ 3.7267e-01, -1.1809e-01, -2.7856e-01],\n",
       "                       [ 3.4197e-01,  1.7129e-01, -3.8209e-01],\n",
       "                       [ 1.4570e-01, -4.2191e-02,  2.9554e-01],\n",
       "                       [ 1.4265e-01,  1.3450e-01, -3.5626e-01],\n",
       "                       [-2.6884e-01,  1.7500e-01, -1.1245e-01],\n",
       "                       [ 3.9149e-02, -8.6938e-02, -2.7839e-01],\n",
       "                       [ 1.0719e-01,  1.2791e-01, -2.1223e-01]],\n",
       "              \n",
       "                      [[-2.1203e-01,  1.9076e-01, -2.6809e-01],\n",
       "                       [-4.5983e-02,  2.5755e-01, -2.7833e-01],\n",
       "                       [ 2.9638e-01,  2.0911e-01, -8.4998e-02],\n",
       "                       [ 3.0131e-02, -2.2168e-01,  3.7758e-01],\n",
       "                       [-2.2884e-01,  1.8485e-01,  1.3078e-01],\n",
       "                       [-6.0339e-02, -1.6336e-02,  8.0036e-02],\n",
       "                       [-1.6548e-01,  1.0372e-01,  3.4311e-01],\n",
       "                       [ 3.0444e-03,  2.2899e-01, -8.0133e-02],\n",
       "                       [-2.2336e-01, -2.3395e-01, -2.1830e-01],\n",
       "                       [ 2.1797e-01,  1.1279e-02, -7.5697e-02],\n",
       "                       [ 5.4829e-02,  2.9657e-01,  1.8151e-01],\n",
       "                       [ 1.2744e-01,  1.0766e-01,  3.1873e-01],\n",
       "                       [-3.0574e-01, -3.3363e-02, -1.2296e-01],\n",
       "                       [-2.4401e-01, -3.6501e-01, -2.6464e-01],\n",
       "                       [ 2.1699e-01, -4.1532e-01, -3.8838e-01],\n",
       "                       [ 4.1959e-02,  1.9438e-01,  1.6736e-01]],\n",
       "              \n",
       "                      [[ 2.7424e-02,  3.0671e-01,  3.5835e-01],\n",
       "                       [ 6.4412e-02, -8.6736e-02, -4.5697e-01],\n",
       "                       [ 3.6746e-01, -7.9807e-03, -3.3451e-01],\n",
       "                       [-4.2482e-01, -2.9082e-01, -1.8551e-01],\n",
       "                       [-1.1580e-01,  7.9210e-02,  8.3009e-02],\n",
       "                       [-2.9000e-01,  1.6546e-01,  6.7260e-02],\n",
       "                       [-3.8290e-01,  1.9763e-01, -1.2362e-01],\n",
       "                       [-1.4158e-01,  2.4298e-01, -3.4054e-01],\n",
       "                       [ 4.6527e-02,  2.2467e-01, -3.8665e-01],\n",
       "                       [-3.4624e-01,  1.2238e-01, -1.5880e-01],\n",
       "                       [-1.1301e-01, -3.4878e-01, -1.1461e-01],\n",
       "                       [-3.9369e-02,  3.0007e-01, -2.0390e-01],\n",
       "                       [ 2.6117e-01,  5.4671e-02, -2.8615e-01],\n",
       "                       [ 3.5257e-01,  2.2710e-01, -2.0608e-01],\n",
       "                       [ 3.5385e-01, -1.3855e-01, -2.2178e-01],\n",
       "                       [ 1.5655e-01, -1.1995e-01,  5.7150e-02]],\n",
       "              \n",
       "                      [[-2.2392e-01,  3.4213e-01,  3.1072e-01],\n",
       "                       [ 1.6095e-01,  2.2586e-01,  1.3990e-01],\n",
       "                       [ 1.8256e-02, -2.7646e-01,  3.9169e-01],\n",
       "                       [ 1.7084e-01,  3.4573e-01, -1.7305e-01],\n",
       "                       [-2.3006e-01,  2.7539e-01,  1.1949e-01],\n",
       "                       [ 9.5135e-02, -7.0606e-02,  2.2744e-01],\n",
       "                       [-2.1431e-01,  7.3453e-02, -2.3287e-01],\n",
       "                       [-1.6158e-02, -1.2871e-01,  9.6671e-02],\n",
       "                       [-5.5288e-02,  1.2630e-02,  1.2228e-01],\n",
       "                       [-1.6081e-01,  3.5403e-01,  1.3642e-01],\n",
       "                       [ 3.2605e-01,  9.7518e-02,  1.6390e-01],\n",
       "                       [-2.7526e-01, -2.3852e-03,  1.2151e-01],\n",
       "                       [ 6.9006e-02,  3.2308e-01, -1.3010e-01],\n",
       "                       [ 1.0317e-01,  1.8896e-01, -1.4654e-01],\n",
       "                       [ 3.1258e-01, -1.2670e-01,  9.3381e-02],\n",
       "                       [ 2.2458e-01,  3.0008e-01, -1.6409e-01]],\n",
       "              \n",
       "                      [[-3.2479e-01, -1.8369e-01, -1.5622e-01],\n",
       "                       [-3.1681e-01, -1.4194e-01,  3.4730e-01],\n",
       "                       [ 2.9414e-01, -1.5636e-01,  7.8874e-02],\n",
       "                       [-1.5860e-01, -1.7578e-01, -1.7600e-01],\n",
       "                       [-3.1785e-01, -1.6238e-01,  1.2051e-01],\n",
       "                       [-1.6721e-01,  1.2705e-01,  1.4961e-01],\n",
       "                       [ 2.3830e-03,  9.4506e-02, -1.6981e-02],\n",
       "                       [ 1.1366e-01,  1.3470e-01, -4.0449e-02],\n",
       "                       [-3.3537e-03, -1.8559e-02, -1.9380e-01],\n",
       "                       [ 2.5841e-01, -2.7290e-01,  1.4880e-01],\n",
       "                       [-1.3518e-01, -3.0930e-02, -3.0166e-01],\n",
       "                       [-4.7650e-01,  1.7115e-01, -3.8964e-02],\n",
       "                       [-9.6135e-02, -2.6596e-01, -3.8146e-01],\n",
       "                       [-2.5053e-01,  2.8567e-02, -3.1081e-01],\n",
       "                       [ 1.9289e-01, -3.3497e-01,  7.0308e-02],\n",
       "                       [ 1.8998e-01, -2.9197e-01, -3.4726e-01]],\n",
       "              \n",
       "                      [[-1.6416e-02,  5.7865e-02, -2.8368e-01],\n",
       "                       [ 1.2319e-01,  3.1322e-01,  6.7695e-03],\n",
       "                       [ 3.8737e-02,  5.9680e-02,  3.2028e-01],\n",
       "                       [ 3.7291e-01,  3.9858e-01, -4.7874e-02],\n",
       "                       [-1.8259e-01,  2.7071e-01, -5.4692e-02],\n",
       "                       [ 2.3062e-01,  2.1973e-01,  2.3789e-02],\n",
       "                       [ 6.5186e-02,  4.0116e-01,  1.0046e-01],\n",
       "                       [-1.7153e-01, -7.0501e-02,  1.2181e-01],\n",
       "                       [ 1.2351e-01,  2.0768e-01, -1.2444e-01],\n",
       "                       [ 1.8896e-01, -2.8405e-01,  2.0478e-01],\n",
       "                       [-9.9763e-02,  1.1796e-01, -1.9808e-01],\n",
       "                       [ 1.8275e-01,  5.9539e-02, -5.9308e-02],\n",
       "                       [ 2.2005e-01, -2.7798e-01,  3.5837e-03],\n",
       "                       [ 1.5934e-01, -1.5660e-01, -2.1584e-01],\n",
       "                       [ 2.4147e-01, -3.0077e-01, -1.6866e-01],\n",
       "                       [-1.0170e-02, -2.9239e-01,  3.0936e-02]],\n",
       "              \n",
       "                      [[-5.7168e-03, -3.5699e-01, -7.1108e-05],\n",
       "                       [ 5.2761e-02,  5.9610e-02,  3.3002e-01],\n",
       "                       [ 4.0000e-01, -1.9986e-01, -2.0507e-01],\n",
       "                       [-3.4290e-01, -2.5979e-01,  4.4880e-02],\n",
       "                       [-1.0181e-01, -2.1746e-01, -2.0440e-01],\n",
       "                       [ 1.7505e-01, -2.7749e-01, -2.3179e-01],\n",
       "                       [ 1.9882e-01,  3.3330e-02, -2.2692e-01],\n",
       "                       [ 9.8776e-02,  3.1712e-01,  2.6794e-01],\n",
       "                       [-1.7155e-01,  1.8827e-01, -1.6053e-01],\n",
       "                       [ 6.0234e-02, -3.4162e-01, -1.7784e-01],\n",
       "                       [-9.8014e-02,  9.7433e-02,  3.5009e-01],\n",
       "                       [-1.8664e-01,  9.7578e-02, -1.2889e-01],\n",
       "                       [-1.3513e-01,  5.9408e-03,  1.4389e-01],\n",
       "                       [-2.5473e-01,  5.8669e-02, -3.0140e-01],\n",
       "                       [-3.7202e-01, -1.5220e-02,  4.4355e-02],\n",
       "                       [ 6.6036e-03,  3.3225e-03,  1.2591e-01]],\n",
       "              \n",
       "                      [[ 1.0376e-01, -1.1545e-01,  2.7493e-01],\n",
       "                       [ 5.9679e-02, -4.7301e-02,  2.9207e-01],\n",
       "                       [ 7.9899e-02,  2.8723e-03,  2.7387e-01],\n",
       "                       [ 3.2927e-01,  2.2173e-01,  7.8842e-02],\n",
       "                       [ 5.8855e-02,  2.1441e-01,  2.2153e-01],\n",
       "                       [ 2.1974e-01, -5.9434e-02,  9.2224e-02],\n",
       "                       [ 9.7187e-02, -3.6970e-01, -5.2274e-02],\n",
       "                       [-2.0898e-01, -2.5548e-01,  1.7739e-01],\n",
       "                       [-1.9858e-01, -4.0314e-01, -8.3641e-03],\n",
       "                       [-9.7506e-02, -1.4154e-01,  1.0107e-01],\n",
       "                       [-4.5035e-02, -2.3775e-01, -4.1480e-02],\n",
       "                       [ 1.1006e-01, -1.8980e-01, -4.2035e-02],\n",
       "                       [ 1.1173e-02,  4.4853e-02, -1.3780e-01],\n",
       "                       [-2.0657e-01,  1.9529e-01,  2.5481e-01],\n",
       "                       [-2.3177e-01, -2.9827e-01, -2.2506e-01],\n",
       "                       [ 5.0461e-02,  2.0506e-02, -1.2210e-01]],\n",
       "              \n",
       "                      [[ 3.8939e-01,  1.5407e-01,  2.2222e-01],\n",
       "                       [-7.1990e-03, -9.1347e-02,  3.0931e-01],\n",
       "                       [ 2.0824e-01, -8.6418e-02,  6.3601e-02],\n",
       "                       [ 3.1303e-01,  3.6415e-01, -1.1976e-01],\n",
       "                       [-3.7207e-01,  7.4094e-02,  2.0175e-01],\n",
       "                       [ 1.1023e-01,  1.6422e-01, -1.3526e-01],\n",
       "                       [-2.6662e-01, -3.9301e-01,  1.7545e-01],\n",
       "                       [ 2.7517e-01,  2.6734e-01,  3.4642e-01],\n",
       "                       [-1.1588e-01,  1.7475e-01, -2.5375e-01],\n",
       "                       [-2.2168e-01, -1.0493e-01, -3.7330e-02],\n",
       "                       [ 1.7596e-01, -1.7857e-02, -1.6221e-01],\n",
       "                       [ 4.6441e-01, -4.1301e-02,  2.3533e-01],\n",
       "                       [-1.0064e-01, -2.9426e-01,  1.6373e-01],\n",
       "                       [-3.0647e-01, -3.6732e-01, -1.7105e-01],\n",
       "                       [-3.2497e-01, -5.9713e-02, -9.3863e-02],\n",
       "                       [-2.3390e-01,  7.8453e-02, -7.6537e-03]],\n",
       "              \n",
       "                      [[ 4.2303e-01,  3.8880e-01, -1.5227e-01],\n",
       "                       [-2.3579e-01, -2.0649e-01, -1.9322e-01],\n",
       "                       [-3.7888e-01, -5.8413e-02,  2.4991e-01],\n",
       "                       [-1.0777e-01,  1.7248e-01, -4.2325e-01],\n",
       "                       [ 1.9979e-01,  1.4498e-01,  2.0773e-02],\n",
       "                       [ 1.4597e-01,  1.0641e-01, -7.1824e-02],\n",
       "                       [-1.1376e-02, -1.1937e-01, -8.6131e-02],\n",
       "                       [ 8.8529e-02,  2.5933e-01,  1.9390e-02],\n",
       "                       [-2.2336e-02, -1.0885e-02,  2.6297e-02],\n",
       "                       [-1.9180e-01,  1.8335e-01,  1.2103e-01],\n",
       "                       [-6.6311e-02,  8.4023e-02, -7.3756e-02],\n",
       "                       [-1.4962e-01, -2.5993e-01, -1.9224e-01],\n",
       "                       [-1.6274e-01, -8.5607e-02, -4.7461e-02],\n",
       "                       [ 2.8411e-01, -1.4498e-01,  2.2181e-01],\n",
       "                       [ 2.6813e-01,  2.2859e-01,  2.7482e-02],\n",
       "                       [ 6.6588e-02,  1.0319e-01,  1.8769e-01]],\n",
       "              \n",
       "                      [[ 2.0967e-01,  2.6127e-01, -7.7294e-02],\n",
       "                       [-3.5221e-01,  1.8340e-01,  2.2456e-01],\n",
       "                       [-5.6783e-01,  7.8703e-02, -4.0029e-01],\n",
       "                       [-1.4280e-01,  6.2215e-02, -3.2743e-01],\n",
       "                       [ 7.5382e-02,  4.7984e-02,  1.1979e-01],\n",
       "                       [ 2.0578e-01,  1.6209e-01, -1.6786e-01],\n",
       "                       [-3.9127e-02, -1.4947e-01, -1.5847e-01],\n",
       "                       [ 3.4728e-01,  1.0371e-01,  1.1656e-01],\n",
       "                       [ 2.4878e-01, -1.4651e-01,  1.7817e-02],\n",
       "                       [-2.4578e-01, -2.8467e-01, -3.1751e-01],\n",
       "                       [ 1.1068e-01, -1.7118e-01, -7.6875e-02],\n",
       "                       [-2.4618e-01,  3.2064e-01, -4.0953e-01],\n",
       "                       [-6.7827e-02, -1.1845e-01,  2.3256e-01],\n",
       "                       [-4.2507e-01, -3.1049e-01, -1.8797e-01],\n",
       "                       [-3.7727e-01, -2.0945e-01, -7.6994e-02],\n",
       "                       [-2.1010e-01, -2.9025e-01, -1.8133e-01]],\n",
       "              \n",
       "                      [[ 8.2669e-02,  1.3596e-01,  9.9679e-02],\n",
       "                       [-1.3172e-01,  2.6761e-01, -8.6656e-02],\n",
       "                       [ 2.3537e-01,  2.5722e-02,  7.3740e-02],\n",
       "                       [ 1.1515e-01, -9.8693e-02, -1.6253e-01],\n",
       "                       [-3.4868e-01,  1.0091e-01, -1.9643e-02],\n",
       "                       [-3.5968e-01, -3.0173e-01,  3.5197e-02],\n",
       "                       [ 2.4456e-02, -4.6586e-02,  5.5213e-02],\n",
       "                       [ 4.7353e-01, -1.4231e-01, -2.2042e-01],\n",
       "                       [-2.5627e-01, -2.7794e-01, -2.9755e-01],\n",
       "                       [-7.5716e-02, -4.3830e-04, -2.1399e-01],\n",
       "                       [ 1.8458e-01,  2.5937e-01, -1.1489e-01],\n",
       "                       [ 1.9557e-01,  3.1749e-03,  2.9947e-01],\n",
       "                       [ 2.1957e-01,  3.2045e-01,  4.8371e-02],\n",
       "                       [ 1.3084e-01, -2.1201e-01, -4.2361e-01],\n",
       "                       [-2.3550e-02, -2.7708e-01, -4.4847e-02],\n",
       "                       [-1.0534e-01,  2.0817e-01,  2.9911e-01]],\n",
       "              \n",
       "                      [[ 1.0345e-01, -1.9052e-01,  1.9480e-01],\n",
       "                       [ 4.0717e-01, -1.6269e-01,  1.7937e-01],\n",
       "                       [-2.8724e-02,  2.0883e-01, -9.4563e-02],\n",
       "                       [-1.0561e-01,  2.5694e-01,  2.7578e-01],\n",
       "                       [ 3.4782e-01, -1.1830e-01, -1.3577e-02],\n",
       "                       [-5.7217e-02,  5.6449e-02, -1.4941e-02],\n",
       "                       [-1.3445e-01,  2.0905e-01, -3.5291e-01],\n",
       "                       [-6.3971e-02,  2.2021e-01,  1.9452e-01],\n",
       "                       [-1.0119e-01, -2.0071e-01,  8.4612e-02],\n",
       "                       [-1.7833e-01,  2.2816e-01,  1.2620e-01],\n",
       "                       [-9.5229e-02, -1.5858e-01,  1.6699e-01],\n",
       "                       [ 1.5316e-01, -2.8424e-01, -3.4285e-01],\n",
       "                       [ 1.0692e-01,  1.0305e-01,  2.5938e-01],\n",
       "                       [-1.5221e-01,  2.5002e-01, -2.4603e-01],\n",
       "                       [ 2.4341e-01,  4.5619e-02, -2.7968e-01],\n",
       "                       [-4.7703e-02, -1.0967e-01, -5.1807e-02]],\n",
       "              \n",
       "                      [[-2.3262e-01,  1.4245e-02,  5.8318e-02],\n",
       "                       [ 1.8308e-01,  1.3204e-01,  1.3291e-01],\n",
       "                       [ 2.1103e-01,  1.3104e-01, -2.2963e-01],\n",
       "                       [ 1.2520e-01, -1.5045e-01,  2.8285e-01],\n",
       "                       [-2.0583e-01, -2.0610e-01, -1.5456e-01],\n",
       "                       [ 2.9888e-01, -1.5659e-01, -1.9848e-01],\n",
       "                       [ 1.5865e-01,  1.9823e-01, -2.0140e-01],\n",
       "                       [-1.4516e-01, -1.9598e-01, -1.5824e-02],\n",
       "                       [ 3.0951e-01, -2.7655e-01,  3.4976e-02],\n",
       "                       [ 1.7030e-01,  3.1643e-02, -1.6113e-01],\n",
       "                       [ 2.1584e-02,  1.0271e-01, -2.5812e-01],\n",
       "                       [-8.4995e-02, -2.8934e-01, -3.4792e-01],\n",
       "                       [-4.2309e-01, -3.0818e-01, -5.0920e-01],\n",
       "                       [-2.4876e-01,  2.8983e-01, -1.3505e-01],\n",
       "                       [-4.2605e-02, -3.1622e-01,  1.2521e-02],\n",
       "                       [ 2.3007e-01,  3.8685e-02, -7.1932e-02]]], device='cuda:0')),\n",
       "             ('module.model.model.1.gate_convs.1.bias',\n",
       "              tensor([-0.0101, -0.0623,  0.0584,  0.0176,  0.0251, -0.0270, -0.0322,  0.1256,\n",
       "                       0.0846, -0.0259,  0.0400, -0.0133,  0.0676,  0.0469,  0.0568, -0.0503],\n",
       "                     device='cuda:0')),\n",
       "             ('module.model.model.1.gate_convs.2.weight',\n",
       "              tensor([[[ 1.5892e-01,  3.3239e-01,  1.1847e-01],\n",
       "                       [ 1.2243e-01,  1.5873e-01,  3.0384e-01],\n",
       "                       [-1.9882e-01,  3.7898e-01, -1.2607e-01],\n",
       "                       [ 3.2868e-01, -4.3005e-01, -2.8098e-01],\n",
       "                       [ 8.5473e-02, -4.6744e-01,  1.4512e-01],\n",
       "                       [-2.5587e-01, -1.5524e-01,  3.5862e-02],\n",
       "                       [-3.8205e-01,  8.5110e-02,  1.7579e-02],\n",
       "                       [-3.5225e-02,  2.7040e-01, -3.3542e-01],\n",
       "                       [-3.0599e-01,  5.1034e-02,  1.5552e-02],\n",
       "                       [ 1.0740e-01, -1.6257e-01, -1.5709e-01],\n",
       "                       [ 2.8622e-01, -4.0137e-01, -2.7029e-01],\n",
       "                       [-3.1708e-01, -2.2503e-01, -4.8257e-01],\n",
       "                       [-2.1538e-01, -3.8465e-01,  2.2970e-01],\n",
       "                       [-2.9892e-01, -1.3941e-01, -2.0770e-02],\n",
       "                       [ 6.9174e-02, -2.9614e-02,  3.6876e-01],\n",
       "                       [ 1.4560e-01, -2.7425e-01, -2.8018e-01]],\n",
       "              \n",
       "                      [[ 4.4963e-01,  2.2939e-01,  3.5059e-01],\n",
       "                       [ 2.2653e-01,  3.4196e-01, -1.0615e-01],\n",
       "                       [-1.6038e-01,  1.0320e-01,  4.1197e-01],\n",
       "                       [ 1.2129e-01, -4.0919e-01,  2.0217e-01],\n",
       "                       [ 2.6011e-01,  2.7641e-01,  2.8115e-01],\n",
       "                       [-3.0275e-01, -4.1412e-01,  1.4875e-01],\n",
       "                       [ 6.4734e-02, -2.5816e-01,  1.2413e-01],\n",
       "                       [ 9.3806e-02,  1.8875e-01, -6.7809e-02],\n",
       "                       [-2.9942e-02, -2.4247e-01,  2.0776e-01],\n",
       "                       [-1.7409e-01, -4.1291e-01,  2.4747e-01],\n",
       "                       [ 2.2142e-02, -2.6076e-01,  2.4048e-01],\n",
       "                       [-4.2833e-01,  2.4755e-01,  5.2167e-03],\n",
       "                       [-6.3498e-02,  3.4912e-02, -3.8685e-01],\n",
       "                       [ 1.2535e-01,  3.4612e-01, -1.1934e-01],\n",
       "                       [ 2.2958e-01,  2.2377e-01,  2.2571e-01],\n",
       "                       [ 2.2325e-01, -3.1727e-01,  5.8643e-02]],\n",
       "              \n",
       "                      [[ 1.4163e-01, -1.3591e-01,  3.5227e-02],\n",
       "                       [ 2.9055e-01, -2.7590e-01, -2.8138e-01],\n",
       "                       [ 1.7873e-01,  2.2954e-02,  1.3330e-01],\n",
       "                       [-3.7113e-01, -1.1117e-01, -2.9222e-01],\n",
       "                       [ 2.2098e-02, -1.4998e-01, -1.2446e-02],\n",
       "                       [ 5.6844e-02,  2.3773e-01,  1.1689e-01],\n",
       "                       [ 3.3431e-01,  1.9665e-01, -1.0278e-01],\n",
       "                       [-1.0135e-01,  2.5620e-01,  2.3934e-03],\n",
       "                       [ 1.1977e-01,  2.6013e-01,  4.3390e-01],\n",
       "                       [-2.6306e-01, -5.8009e-02, -1.7196e-01],\n",
       "                       [-8.3265e-02, -2.0112e-01,  8.9383e-02],\n",
       "                       [-7.8714e-02,  1.7587e-02, -1.8737e-01],\n",
       "                       [-3.7087e-01, -3.4990e-01, -9.5860e-02],\n",
       "                       [-2.1175e-01, -2.7234e-01, -5.3944e-02],\n",
       "                       [-1.8718e-01, -8.9216e-02,  1.1404e-04],\n",
       "                       [-4.5027e-02, -2.8534e-01,  1.8839e-01]],\n",
       "              \n",
       "                      [[ 1.1111e-02,  3.8026e-01,  1.4578e-01],\n",
       "                       [-3.7632e-01, -3.5612e-02,  3.3175e-02],\n",
       "                       [-3.3519e-01, -1.2186e-01,  8.0069e-02],\n",
       "                       [ 1.6693e-02, -2.1813e-01, -3.4429e-01],\n",
       "                       [-2.3899e-01,  8.4384e-02, -3.2469e-01],\n",
       "                       [-8.6272e-02, -3.3931e-01, -3.6613e-01],\n",
       "                       [-2.3547e-01,  3.8079e-01,  4.5392e-04],\n",
       "                       [ 2.9217e-01,  1.0056e-01,  3.4979e-01],\n",
       "                       [ 2.4547e-02,  3.3686e-01, -2.3583e-01],\n",
       "                       [-2.1645e-01, -2.7485e-02, -2.3581e-01],\n",
       "                       [ 3.7237e-03, -3.6550e-01,  1.4316e-02],\n",
       "                       [ 3.3802e-01, -3.6778e-01, -3.3817e-01],\n",
       "                       [-3.0251e-01, -1.1865e-01,  3.5407e-02],\n",
       "                       [-6.6922e-02,  9.5284e-02,  1.0290e-01],\n",
       "                       [-4.0008e-01, -2.5450e-01,  2.7379e-01],\n",
       "                       [ 3.3603e-01, -2.3895e-01,  4.5552e-02]],\n",
       "              \n",
       "                      [[ 3.1069e-01,  2.4714e-01, -1.3705e-01],\n",
       "                       [ 2.0561e-01,  1.5235e-01, -5.7069e-02],\n",
       "                       [ 7.9251e-02, -3.7722e-01,  2.8991e-01],\n",
       "                       [-3.1804e-01, -2.0303e-01, -3.4275e-01],\n",
       "                       [-2.3755e-01, -1.7930e-01, -2.9502e-01],\n",
       "                       [ 2.3463e-01, -3.1094e-01, -1.1138e-01],\n",
       "                       [ 1.1064e-02, -2.2376e-01,  1.7918e-01],\n",
       "                       [ 1.6871e-01, -2.7201e-01,  9.8343e-02],\n",
       "                       [ 1.9808e-02, -1.8981e-01, -1.7113e-01],\n",
       "                       [ 1.0444e-01, -2.0399e-01, -3.7049e-02],\n",
       "                       [ 3.4364e-01,  1.1553e-02,  1.5836e-02],\n",
       "                       [-3.1799e-01, -1.3882e-01,  3.5113e-01],\n",
       "                       [ 3.3881e-01,  3.6782e-01, -1.1947e-01],\n",
       "                       [-1.0575e-01,  2.5865e-02,  7.6385e-02],\n",
       "                       [ 1.3988e-01, -7.7869e-03, -3.2329e-01],\n",
       "                       [-1.6422e-01, -2.5565e-01,  3.3040e-02]],\n",
       "              \n",
       "                      [[-1.3091e-01,  2.8890e-01,  3.5041e-01],\n",
       "                       [ 4.2251e-02,  5.1011e-02, -1.1735e-01],\n",
       "                       [-1.7152e-02, -1.9845e-01, -1.1076e-01],\n",
       "                       [-3.1688e-01,  5.1217e-02, -9.8928e-02],\n",
       "                       [ 2.9345e-01, -5.3384e-02, -6.2012e-02],\n",
       "                       [ 1.8390e-01,  2.1773e-01,  1.6766e-01],\n",
       "                       [ 1.4693e-01,  1.9328e-01, -4.4961e-02],\n",
       "                       [ 2.8642e-02, -6.5646e-02,  2.6395e-01],\n",
       "                       [ 1.6263e-01, -2.8042e-01, -2.0656e-01],\n",
       "                       [ 1.6333e-01,  2.8161e-01, -2.0444e-01],\n",
       "                       [ 3.0538e-01,  1.3730e-01, -3.0154e-01],\n",
       "                       [ 2.0330e-01,  3.7821e-01, -2.6851e-01],\n",
       "                       [ 2.0482e-02, -1.4376e-01,  2.1412e-01],\n",
       "                       [-3.8363e-01,  9.5554e-02,  3.6037e-01],\n",
       "                       [-5.7973e-02, -1.5909e-01, -1.9963e-01],\n",
       "                       [-1.1549e-01, -2.4544e-01, -2.2616e-02]],\n",
       "              \n",
       "                      [[ 2.4660e-02, -1.9457e-01, -1.3956e-01],\n",
       "                       [-2.7503e-01, -1.8157e-01, -3.5110e-01],\n",
       "                       [-2.2150e-01, -6.5043e-02, -2.8278e-01],\n",
       "                       [ 6.2990e-02,  2.3402e-01, -2.2529e-01],\n",
       "                       [ 9.7405e-02,  5.4933e-02, -2.0640e-01],\n",
       "                       [-1.6536e-01, -2.9728e-01,  3.4685e-02],\n",
       "                       [-2.3400e-01,  1.8610e-01,  1.4111e-01],\n",
       "                       [-1.9755e-01, -1.9894e-01, -2.1666e-01],\n",
       "                       [ 1.8453e-01,  1.5239e-01, -3.9156e-01],\n",
       "                       [-3.4999e-01, -1.1805e-01, -8.7790e-02],\n",
       "                       [ 1.5723e-01,  1.4309e-01, -3.4533e-01],\n",
       "                       [-8.0983e-02,  3.3373e-01, -1.1753e-01],\n",
       "                       [ 1.1910e-02,  3.3037e-01,  9.3683e-03],\n",
       "                       [ 2.6319e-01,  3.1694e-01,  2.4742e-02],\n",
       "                       [-2.9010e-01, -1.5202e-01, -1.6274e-01],\n",
       "                       [ 2.8631e-02,  1.5044e-01,  1.0960e-01]],\n",
       "              \n",
       "                      [[-9.3769e-02, -7.2542e-03,  3.8796e-02],\n",
       "                       [-8.9666e-02,  3.6345e-01,  1.2097e-01],\n",
       "                       [-3.1812e-01, -3.5926e-03, -8.6907e-03],\n",
       "                       [ 7.0698e-02,  6.5378e-02, -8.0998e-02],\n",
       "                       [ 2.9823e-01, -3.2761e-01,  3.1786e-01],\n",
       "                       [ 1.1437e-01,  6.7107e-02, -1.6138e-01],\n",
       "                       [-1.3698e-01, -3.2440e-03, -4.7564e-01],\n",
       "                       [-3.6342e-02, -8.3533e-02, -6.6399e-02],\n",
       "                       [-1.8733e-01, -1.5986e-01,  2.2831e-01],\n",
       "                       [-2.6908e-01,  2.2119e-01, -1.8442e-01],\n",
       "                       [ 3.6366e-01, -4.7913e-01,  2.7490e-01],\n",
       "                       [ 8.9884e-02,  2.2745e-01,  1.4002e-01],\n",
       "                       [ 2.1781e-01, -1.0137e-01, -9.2035e-02],\n",
       "                       [-2.0888e-01, -1.8198e-02,  2.0136e-01],\n",
       "                       [ 1.9565e-01,  1.4551e-01, -2.9012e-01],\n",
       "                       [-3.2231e-01, -7.9870e-02, -1.2020e-01]],\n",
       "              \n",
       "                      [[ 1.5881e-01,  2.0792e-01, -4.0860e-01],\n",
       "                       [ 1.7349e-01,  9.9278e-02, -1.4223e-02],\n",
       "                       [ 3.5901e-01,  2.1790e-01, -1.6745e-01],\n",
       "                       [ 1.2973e-01,  1.1326e-01, -2.7865e-01],\n",
       "                       [-5.2486e-02,  1.3410e-01,  2.6697e-01],\n",
       "                       [-3.3124e-02,  1.6076e-02,  1.0722e-01],\n",
       "                       [ 1.3144e-01, -1.9727e-01, -2.0562e-01],\n",
       "                       [-7.1295e-02,  1.0446e-01, -3.7057e-01],\n",
       "                       [ 8.1157e-02, -2.8715e-01,  8.2043e-02],\n",
       "                       [-4.7445e-01, -8.1615e-02, -1.2633e-01],\n",
       "                       [ 2.2682e-01, -1.1626e-01,  2.7119e-02],\n",
       "                       [-4.7992e-01,  9.0261e-02, -2.9539e-01],\n",
       "                       [ 1.3267e-01,  1.0464e-01,  2.4694e-01],\n",
       "                       [ 9.7132e-02,  3.1611e-02, -3.4032e-01],\n",
       "                       [-2.8779e-02, -2.1471e-01,  1.4800e-01],\n",
       "                       [-5.2842e-02,  1.7811e-01, -2.9289e-01]],\n",
       "              \n",
       "                      [[-1.6609e-01,  8.2083e-02,  3.1971e-02],\n",
       "                       [ 3.0290e-01,  5.2218e-02, -3.1324e-01],\n",
       "                       [ 3.3697e-01, -5.0739e-02, -1.8336e-01],\n",
       "                       [ 1.9208e-02, -2.2955e-01,  2.9019e-01],\n",
       "                       [-4.1265e-02,  3.3825e-01, -1.5978e-01],\n",
       "                       [ 2.9394e-01,  2.3751e-01, -3.0253e-01],\n",
       "                       [ 2.3639e-01,  1.6662e-01,  2.1001e-01],\n",
       "                       [-3.0072e-01, -2.8369e-01,  1.1328e-01],\n",
       "                       [ 2.6039e-01, -3.0828e-01,  1.9095e-01],\n",
       "                       [-2.3944e-01,  2.1292e-01, -4.2221e-02],\n",
       "                       [-2.7926e-01, -9.7428e-02, -2.0758e-01],\n",
       "                       [-1.5231e-01,  1.7823e-01,  3.7428e-01],\n",
       "                       [ 2.7061e-01,  3.2861e-02,  5.5683e-02],\n",
       "                       [-1.0988e-01, -5.7437e-02, -8.7806e-02],\n",
       "                       [ 1.0814e-01, -1.7058e-01, -1.4927e-01],\n",
       "                       [ 1.3562e-01,  1.4787e-01, -2.9004e-01]],\n",
       "              \n",
       "                      [[ 1.6458e-01, -7.5135e-02, -3.5298e-02],\n",
       "                       [ 8.0709e-02, -3.5557e-01, -1.5286e-01],\n",
       "                       [ 3.7470e-01, -2.7496e-02,  3.4514e-01],\n",
       "                       [-3.1496e-01, -5.7631e-02, -2.3595e-01],\n",
       "                       [ 6.1883e-02, -2.4310e-01,  5.6221e-02],\n",
       "                       [ 4.3682e-01,  1.8744e-01,  1.8214e-01],\n",
       "                       [-3.0865e-01,  1.4021e-01, -2.8717e-01],\n",
       "                       [ 2.3233e-01, -1.6265e-01, -2.1835e-02],\n",
       "                       [ 6.0317e-02, -1.3417e-01,  3.1249e-01],\n",
       "                       [-3.1955e-01, -4.9763e-02, -1.9269e-01],\n",
       "                       [-2.1076e-01, -2.6632e-01,  1.0877e-01],\n",
       "                       [ 1.6268e-01, -3.7194e-02, -1.9823e-01],\n",
       "                       [ 2.2809e-02, -5.9724e-02,  3.0235e-01],\n",
       "                       [-2.6544e-01,  2.9384e-02,  6.9919e-02],\n",
       "                       [-9.0213e-02,  2.3344e-01, -1.2999e-01],\n",
       "                       [ 4.5581e-03, -4.6637e-02, -3.2724e-01]],\n",
       "              \n",
       "                      [[ 1.9513e-01, -1.6099e-01,  5.4079e-02],\n",
       "                       [-5.3966e-02,  3.7945e-01, -4.6261e-02],\n",
       "                       [ 3.0228e-01, -1.5875e-02,  3.3559e-01],\n",
       "                       [-7.0955e-02,  3.1433e-01, -3.6758e-01],\n",
       "                       [-1.5180e-01,  7.7705e-02,  3.3169e-01],\n",
       "                       [-2.9582e-01, -2.2605e-01,  2.2756e-01],\n",
       "                       [-1.8229e-01, -2.4638e-01,  5.6693e-02],\n",
       "                       [-2.1057e-01,  3.5797e-01,  1.0910e-01],\n",
       "                       [ 4.0767e-01,  1.5195e-01, -4.1264e-01],\n",
       "                       [ 2.3333e-01, -3.0260e-01, -1.8035e-01],\n",
       "                       [ 5.5826e-02, -4.2839e-02, -2.5217e-01],\n",
       "                       [ 3.4684e-01,  2.3276e-01, -2.8483e-01],\n",
       "                       [-1.1160e-01, -6.1028e-02,  2.2945e-01],\n",
       "                       [ 8.1614e-02,  8.9458e-02,  1.8388e-01],\n",
       "                       [-1.3133e-01, -5.8188e-02, -9.8804e-02],\n",
       "                       [ 1.6230e-01,  1.8643e-01, -1.9320e-01]],\n",
       "              \n",
       "                      [[-5.3029e-02,  1.6242e-02, -3.4430e-01],\n",
       "                       [ 3.8924e-02, -3.0412e-01,  2.4890e-01],\n",
       "                       [-3.1209e-03, -1.0809e-01, -9.2543e-02],\n",
       "                       [ 3.2243e-02, -2.6808e-01, -6.2491e-02],\n",
       "                       [-1.8930e-02,  2.3460e-01, -5.7986e-02],\n",
       "                       [-3.1789e-01, -2.2012e-01, -1.1890e-01],\n",
       "                       [ 4.1772e-01, -4.1260e-01,  9.8017e-02],\n",
       "                       [ 2.1066e-01,  1.0262e-01, -1.9695e-01],\n",
       "                       [-4.8767e-02, -3.4816e-02,  1.6160e-01],\n",
       "                       [ 3.0906e-01, -8.7417e-02,  3.3357e-02],\n",
       "                       [-1.5381e-01, -2.3716e-01, -1.6830e-01],\n",
       "                       [ 1.0685e-01, -4.6262e-02,  6.9622e-03],\n",
       "                       [ 1.4322e-01,  9.1924e-02, -1.3318e-01],\n",
       "                       [-5.9281e-02,  2.8920e-01, -1.0119e-01],\n",
       "                       [ 1.3931e-01, -2.1936e-01,  5.6618e-02],\n",
       "                       [-3.1465e-01, -2.1218e-03,  8.8251e-02]],\n",
       "              \n",
       "                      [[-3.4874e-01,  5.1361e-02,  1.4313e-01],\n",
       "                       [ 2.4656e-01, -1.3318e-01,  2.9940e-01],\n",
       "                       [-3.2244e-01,  3.1200e-01,  1.5153e-01],\n",
       "                       [-2.1462e-01, -2.1177e-01, -1.5550e-01],\n",
       "                       [ 1.2681e-01,  3.2985e-01,  2.5558e-01],\n",
       "                       [-1.5020e-01,  9.3779e-02, -7.7338e-02],\n",
       "                       [ 1.7837e-01,  1.4614e-01, -2.9272e-02],\n",
       "                       [-3.0780e-01,  1.5948e-01, -5.1762e-01],\n",
       "                       [-2.5149e-01, -4.8156e-01, -3.3363e-01],\n",
       "                       [-1.1375e-01,  1.1539e-01, -1.0553e-01],\n",
       "                       [ 1.8330e-01, -1.6158e-01, -1.4469e-01],\n",
       "                       [ 1.1802e-01,  2.0462e-01, -3.7526e-02],\n",
       "                       [-2.9684e-01,  1.0224e-01, -4.1910e-01],\n",
       "                       [ 4.3815e-03,  4.0729e-02, -8.7666e-03],\n",
       "                       [-7.6894e-02, -1.5283e-01,  2.0032e-01],\n",
       "                       [ 9.6659e-03, -4.5553e-02,  2.5187e-02]],\n",
       "              \n",
       "                      [[ 1.1170e-01, -2.5225e-01, -1.2381e-01],\n",
       "                       [ 1.6862e-01, -7.2223e-02,  2.5487e-01],\n",
       "                       [-4.2294e-02, -2.4013e-01,  2.3192e-01],\n",
       "                       [ 1.7781e-01, -3.4782e-01, -2.4055e-01],\n",
       "                       [-3.5139e-01,  2.8659e-01, -2.0776e-01],\n",
       "                       [-1.7763e-01, -1.1226e-01,  4.3108e-02],\n",
       "                       [-1.3974e-01,  7.0827e-02,  3.2220e-01],\n",
       "                       [ 1.0353e-01, -3.8637e-01, -2.5845e-01],\n",
       "                       [ 9.2686e-02,  3.8035e-01, -5.9645e-01],\n",
       "                       [ 1.3123e-01,  3.0297e-01,  9.4294e-03],\n",
       "                       [-2.5039e-01, -1.0365e-01,  2.3946e-02],\n",
       "                       [ 3.9515e-01,  1.9252e-01, -3.3502e-01],\n",
       "                       [-2.7556e-01, -3.3041e-01, -3.2181e-01],\n",
       "                       [ 4.7396e-01, -1.1063e-01, -1.7473e-01],\n",
       "                       [-1.6883e-01, -3.9167e-02, -3.4453e-01],\n",
       "                       [-9.2621e-02, -1.3589e-01,  2.0461e-01]],\n",
       "              \n",
       "                      [[-4.0589e-01,  1.7365e-01, -3.6429e-01],\n",
       "                       [ 1.1654e-01, -2.8585e-01, -2.0318e-01],\n",
       "                       [-4.6688e-02,  7.2268e-03,  1.2743e-01],\n",
       "                       [ 1.3103e-01,  1.6337e-01, -2.6409e-01],\n",
       "                       [ 5.5677e-02,  1.1574e-01, -2.9435e-01],\n",
       "                       [ 3.2246e-02, -6.9445e-02,  4.0920e-01],\n",
       "                       [ 7.2816e-02,  1.9975e-01, -3.6509e-01],\n",
       "                       [-3.7384e-01, -2.4967e-01, -9.0202e-02],\n",
       "                       [-5.1069e-02,  6.3880e-02, -1.3651e-01],\n",
       "                       [-1.2328e-01,  1.3284e-01, -1.3339e-01],\n",
       "                       [ 8.8512e-02, -1.0922e-01, -5.0709e-02],\n",
       "                       [ 2.5732e-01, -1.9191e-02, -4.6111e-01],\n",
       "                       [-1.1940e-01, -2.4340e-01, -1.4897e-01],\n",
       "                       [-2.5934e-01, -3.7056e-01,  6.4805e-02],\n",
       "                       [-2.4862e-01,  4.4854e-02,  1.2038e-01],\n",
       "                       [ 3.4042e-01, -4.4912e-02,  1.1061e-01]]], device='cuda:0')),\n",
       "             ('module.model.model.1.gate_convs.2.bias',\n",
       "              tensor([-0.0105, -0.0263, -0.0385, -0.0356,  0.0034,  0.0800,  0.0937,  0.0161,\n",
       "                       0.0462,  0.0997,  0.0116,  0.0730,  0.0042,  0.0176, -0.0209, -0.0696],\n",
       "                     device='cuda:0')),\n",
       "             ('module.model.model.1.gate_convs.3.weight',\n",
       "              tensor([[[ 2.4814e-02, -1.5800e-01, -3.1018e-02],\n",
       "                       [-1.8192e-01,  1.0712e-01,  2.4317e-01],\n",
       "                       [-2.8668e-01,  2.1698e-01, -1.1798e-01],\n",
       "                       [-1.0478e-01,  1.0519e-01,  3.3842e-01],\n",
       "                       [-1.1353e-01,  1.0831e-01, -2.9459e-01],\n",
       "                       [-1.9505e-01, -7.8522e-02,  1.7077e-01],\n",
       "                       [-2.6350e-01,  1.3623e-02,  2.1528e-01],\n",
       "                       [-2.0124e-01,  3.1398e-01, -1.1911e-01],\n",
       "                       [-3.9507e-02, -2.7747e-02, -3.1631e-01],\n",
       "                       [-1.1190e-01, -1.0360e-01,  7.4895e-02],\n",
       "                       [ 8.1976e-02, -1.6008e-01,  1.5086e-01],\n",
       "                       [ 1.6482e-01,  1.5872e-01, -2.4305e-01],\n",
       "                       [ 3.9047e-01,  9.3676e-02,  5.3887e-02],\n",
       "                       [ 3.1512e-01, -8.8832e-02,  3.1656e-01],\n",
       "                       [-2.8205e-01,  9.0288e-02, -7.5053e-02],\n",
       "                       [ 5.7240e-02,  3.2889e-01, -4.5081e-01]],\n",
       "              \n",
       "                      [[-3.9360e-01, -1.7917e-01, -2.4450e-01],\n",
       "                       [-2.0352e-01,  7.0232e-02,  2.5224e-01],\n",
       "                       [ 1.7152e-01,  2.0590e-01,  2.8418e-01],\n",
       "                       [-2.2635e-01, -2.0282e-01, -1.1417e-01],\n",
       "                       [ 3.7773e-01, -1.2232e-01,  2.8894e-01],\n",
       "                       [-2.4558e-01, -7.9311e-02,  1.1861e-01],\n",
       "                       [ 1.9467e-01, -3.3812e-01, -1.0601e-01],\n",
       "                       [-2.1820e-01,  1.2137e-02,  2.4699e-03],\n",
       "                       [ 3.3806e-01, -5.3300e-02, -3.3744e-01],\n",
       "                       [ 3.5788e-01,  2.1525e-01, -2.2270e-01],\n",
       "                       [-4.8273e-02, -9.0577e-02,  7.9643e-03],\n",
       "                       [-1.8212e-01, -2.6424e-01,  2.0168e-01],\n",
       "                       [ 4.1257e-01,  2.3865e-01, -1.0970e-01],\n",
       "                       [ 2.3626e-01,  8.6536e-02,  2.1216e-02],\n",
       "                       [ 1.4134e-01, -1.0315e-01, -1.2443e-01],\n",
       "                       [-1.3378e-01,  2.1162e-01, -1.1522e-01]],\n",
       "              \n",
       "                      [[ 3.9291e-01,  6.8073e-02, -1.1736e-02],\n",
       "                       [-8.8904e-02,  1.5527e-01,  1.8734e-01],\n",
       "                       [ 2.3767e-01,  2.2609e-01, -1.1929e-01],\n",
       "                       [ 5.6954e-02, -6.0160e-03, -2.5129e-01],\n",
       "                       [-3.7264e-01, -2.9592e-01,  1.1604e-01],\n",
       "                       [-2.2097e-02,  3.4282e-01,  2.3414e-01],\n",
       "                       [ 3.8168e-01,  1.9760e-01, -2.9710e-01],\n",
       "                       [-1.5917e-01, -1.4439e-01, -1.0251e-01],\n",
       "                       [-4.9216e-02, -7.1656e-02, -2.3179e-01],\n",
       "                       [ 7.6738e-02, -2.2384e-01,  3.1699e-01],\n",
       "                       [-5.8775e-02,  1.0213e-01,  2.3574e-01],\n",
       "                       [-2.9559e-01,  1.9412e-01, -1.5644e-01],\n",
       "                       [ 1.4412e-01, -1.4661e-01, -2.9613e-01],\n",
       "                       [-4.2907e-01,  1.5000e-01, -2.6161e-01],\n",
       "                       [-1.8767e-01, -6.6770e-02, -2.6124e-01],\n",
       "                       [ 1.2445e-01,  1.8355e-01, -2.1416e-01]],\n",
       "              \n",
       "                      [[-4.8192e-02, -3.3340e-01, -1.9518e-01],\n",
       "                       [-3.3095e-01, -1.5176e-01, -3.8261e-03],\n",
       "                       [ 1.9614e-01,  1.4497e-01, -4.1445e-01],\n",
       "                       [-5.4423e-02,  3.6714e-02,  3.2301e-01],\n",
       "                       [-4.4272e-02, -3.5274e-01,  8.1734e-02],\n",
       "                       [ 1.4319e-01,  6.9630e-02,  1.6972e-01],\n",
       "                       [-2.3751e-01,  2.0470e-01, -3.0656e-01],\n",
       "                       [ 2.5460e-01, -3.1069e-01,  3.4663e-01],\n",
       "                       [ 1.0059e-01,  3.0685e-01, -2.4687e-01],\n",
       "                       [ 9.7540e-02, -1.1211e-01,  9.5777e-02],\n",
       "                       [-1.4085e-01,  1.1596e-02,  1.3490e-01],\n",
       "                       [ 5.5177e-02, -1.1141e-01,  1.8038e-01],\n",
       "                       [-9.1830e-02, -1.1451e-01, -1.6918e-01],\n",
       "                       [ 2.7189e-01, -4.7337e-02,  1.8433e-01],\n",
       "                       [ 1.6542e-01,  1.5886e-01, -2.2178e-02],\n",
       "                       [-5.7670e-02, -3.4698e-02, -9.2023e-02]],\n",
       "              \n",
       "                      [[-1.6496e-01,  3.2228e-01,  9.9940e-02],\n",
       "                       [-1.0154e-01,  1.2282e-01, -4.3429e-01],\n",
       "                       [ 3.0949e-01,  1.5268e-01,  5.8191e-02],\n",
       "                       [-2.0260e-01, -2.8628e-01,  1.7714e-02],\n",
       "                       [-3.7171e-01,  2.4329e-01,  5.3639e-02],\n",
       "                       [ 9.2215e-02, -2.9130e-03,  1.7664e-01],\n",
       "                       [-1.9192e-01, -1.4719e-02, -1.0114e-01],\n",
       "                       [ 1.1143e-02, -8.8245e-02,  1.0425e-01],\n",
       "                       [-6.4916e-02,  1.9620e-01, -3.3756e-01],\n",
       "                       [ 1.1986e-01,  1.7210e-01,  2.0095e-01],\n",
       "                       [ 1.4109e-01, -1.4915e-01,  2.8810e-02],\n",
       "                       [ 5.2771e-02, -3.8841e-01, -1.5342e-01],\n",
       "                       [ 1.1167e-02,  1.1849e-01,  1.8483e-01],\n",
       "                       [ 2.2582e-01,  5.3743e-02, -1.7031e-01],\n",
       "                       [-1.9258e-01,  8.0696e-02, -1.7938e-01],\n",
       "                       [ 4.4553e-01,  2.9358e-01, -2.0645e-01]],\n",
       "              \n",
       "                      [[-1.2286e-01,  1.2203e-01, -1.3944e-01],\n",
       "                       [ 3.1169e-02,  5.3688e-02, -2.2239e-01],\n",
       "                       [-2.4207e-01, -2.4153e-01, -1.1603e-01],\n",
       "                       [-1.2269e-01, -2.8718e-01,  1.8340e-01],\n",
       "                       [ 1.5083e-01, -2.6080e-02, -6.4368e-02],\n",
       "                       [-6.4408e-02, -9.1439e-02, -2.0109e-01],\n",
       "                       [ 1.2214e-01, -2.9298e-01, -3.0079e-02],\n",
       "                       [ 3.9235e-01, -1.5737e-01,  9.3547e-02],\n",
       "                       [ 1.6046e-01, -2.0095e-01,  1.6072e-01],\n",
       "                       [ 2.6809e-01, -5.5824e-02, -3.3088e-02],\n",
       "                       [ 2.4660e-01,  7.4001e-02, -3.9427e-02],\n",
       "                       [ 2.4429e-01,  3.5257e-01,  2.8098e-01],\n",
       "                       [ 4.6360e-02, -1.1918e-01, -2.9569e-01],\n",
       "                       [-5.6181e-02, -1.8939e-01,  2.1521e-01],\n",
       "                       [-3.3418e-01,  2.2266e-01,  3.2075e-01],\n",
       "                       [-4.3361e-01,  2.2524e-01, -5.2220e-03]],\n",
       "              \n",
       "                      [[ 1.8767e-01, -1.1870e-01, -2.0913e-01],\n",
       "                       [ 2.3453e-01,  3.0795e-01,  3.3525e-01],\n",
       "                       [ 1.0284e-02, -1.5347e-01,  2.6674e-01],\n",
       "                       [-1.4051e-01, -3.7131e-02,  1.9758e-01],\n",
       "                       [ 3.8734e-01,  3.0112e-01, -4.0628e-01],\n",
       "                       [ 5.0346e-02, -1.7103e-01, -1.1130e-02],\n",
       "                       [-4.5254e-02, -1.6212e-01, -3.1561e-02],\n",
       "                       [-2.8644e-01,  2.7066e-01,  2.7553e-02],\n",
       "                       [ 5.5198e-02, -2.9155e-01, -1.9499e-01],\n",
       "                       [-2.2129e-01, -1.6279e-01, -2.0009e-01],\n",
       "                       [ 1.9085e-01, -2.8373e-01,  2.6122e-01],\n",
       "                       [-9.6042e-02,  3.7003e-01, -3.1096e-01],\n",
       "                       [ 1.1758e-01,  1.2419e-01, -1.6488e-01],\n",
       "                       [-2.9752e-01, -2.3456e-01,  7.0487e-02],\n",
       "                       [-2.5715e-01,  1.8470e-02, -4.9319e-02],\n",
       "                       [-2.3795e-01, -2.9410e-01,  1.8707e-01]],\n",
       "              \n",
       "                      [[-5.4056e-02,  1.8297e-01, -1.9547e-01],\n",
       "                       [-3.2359e-01, -1.9025e-01, -2.4412e-01],\n",
       "                       [ 4.1931e-01, -1.7329e-01,  4.9530e-01],\n",
       "                       [-5.8826e-02,  4.6541e-01, -2.3912e-01],\n",
       "                       [ 3.0766e-02,  1.7754e-01, -4.9277e-01],\n",
       "                       [-2.9455e-01, -1.7799e-02,  2.2414e-01],\n",
       "                       [-1.5060e-01, -2.4190e-01, -1.9683e-01],\n",
       "                       [ 1.5718e-01,  2.1782e-01, -1.2435e-01],\n",
       "                       [ 1.5361e-01,  1.9842e-01,  3.1827e-01],\n",
       "                       [-2.1903e-01,  1.7526e-01, -7.8397e-02],\n",
       "                       [-9.5024e-02,  2.9844e-01,  6.2151e-02],\n",
       "                       [ 1.6609e-01, -3.3860e-02,  8.8747e-02],\n",
       "                       [-1.1299e-01,  1.2500e-02,  1.8961e-01],\n",
       "                       [ 1.8638e-01,  1.9480e-01,  3.1947e-01],\n",
       "                       [ 2.8680e-01,  8.5637e-02,  1.3110e-01],\n",
       "                       [ 5.2769e-01, -1.0323e-01,  3.9919e-01]],\n",
       "              \n",
       "                      [[-4.2247e-01,  9.2451e-02,  1.7287e-01],\n",
       "                       [ 2.3449e-02,  5.8761e-02,  3.3745e-01],\n",
       "                       [-3.4211e-01, -2.7373e-01, -1.9930e-01],\n",
       "                       [ 4.4967e-02, -5.4067e-02,  2.4257e-01],\n",
       "                       [ 3.3913e-01, -2.4204e-01, -3.1248e-01],\n",
       "                       [-3.4350e-01, -2.5691e-01, -8.4756e-02],\n",
       "                       [ 3.4219e-01, -2.8671e-01,  2.4738e-01],\n",
       "                       [ 3.8235e-01,  3.1800e-01, -4.5777e-02],\n",
       "                       [-2.2090e-01,  3.0344e-01, -1.1322e-01],\n",
       "                       [ 1.2705e-01,  2.5157e-01,  3.0630e-01],\n",
       "                       [-1.2600e-01,  5.1491e-02, -3.2088e-01],\n",
       "                       [-1.2555e-01,  2.3906e-01, -2.1192e-01],\n",
       "                       [ 3.4162e-01, -2.7761e-01, -3.2995e-01],\n",
       "                       [ 1.9341e-01, -3.4303e-04,  8.9044e-02],\n",
       "                       [ 1.9480e-01, -3.6229e-01,  5.1401e-02],\n",
       "                       [-1.2619e-01,  1.4093e-01, -3.0185e-01]],\n",
       "              \n",
       "                      [[ 1.1012e-01,  2.6513e-01, -2.6890e-01],\n",
       "                       [-7.5492e-02,  3.2028e-01,  5.0780e-02],\n",
       "                       [ 3.3605e-01,  2.3844e-01,  3.1022e-02],\n",
       "                       [ 2.1592e-02, -2.4915e-01, -2.1991e-01],\n",
       "                       [ 3.6370e-01, -2.1749e-01,  2.9810e-01],\n",
       "                       [-2.7591e-01, -3.9346e-01,  5.4669e-02],\n",
       "                       [-9.5043e-02,  1.3857e-01, -2.6034e-02],\n",
       "                       [ 4.8655e-01,  1.0973e-01, -5.6708e-03],\n",
       "                       [-1.8091e-01,  3.9921e-02,  2.1196e-01],\n",
       "                       [ 4.4471e-01,  6.8619e-02,  6.9096e-02],\n",
       "                       [ 4.6634e-01, -1.0793e-01,  2.1399e-03],\n",
       "                       [-8.0735e-02, -7.1725e-02, -2.3585e-02],\n",
       "                       [ 1.3764e-01, -2.8369e-01,  2.8656e-01],\n",
       "                       [ 1.9542e-01,  2.9108e-01, -1.7148e-01],\n",
       "                       [ 4.0154e-01, -2.4469e-02, -3.3151e-02],\n",
       "                       [ 1.6784e-01,  2.8391e-01, -2.9397e-02]],\n",
       "              \n",
       "                      [[ 3.8551e-02, -3.9529e-01,  1.7908e-01],\n",
       "                       [ 4.0962e-01,  1.2604e-01,  1.5975e-01],\n",
       "                       [ 5.0220e-03,  1.5489e-01, -3.5856e-02],\n",
       "                       [-4.3478e-01,  3.2924e-01, -7.3765e-02],\n",
       "                       [ 1.9182e-01,  1.3534e-01,  8.7143e-02],\n",
       "                       [-3.0468e-01, -2.0064e-01,  1.2424e-01],\n",
       "                       [-2.2752e-01, -1.0530e-01,  1.2499e-01],\n",
       "                       [-2.0713e-01, -2.4254e-01, -6.2567e-03],\n",
       "                       [ 3.4527e-01, -3.1845e-01, -3.7579e-02],\n",
       "                       [ 2.8828e-01, -3.3202e-01,  3.0487e-01],\n",
       "                       [-1.8264e-01,  7.4425e-02, -2.0395e-01],\n",
       "                       [-3.1013e-01,  5.4846e-02, -7.6085e-02],\n",
       "                       [-6.4100e-02,  1.8774e-01, -2.5288e-01],\n",
       "                       [-5.3355e-02,  1.5814e-01,  2.3371e-01],\n",
       "                       [ 2.3049e-01, -1.7567e-01,  1.3401e-01],\n",
       "                       [-4.7562e-02, -4.7661e-01, -1.9621e-01]],\n",
       "              \n",
       "                      [[-1.4298e-01,  7.9522e-02, -1.9146e-02],\n",
       "                       [-3.1366e-01, -6.3351e-02, -8.2321e-02],\n",
       "                       [-6.0089e-02, -2.1346e-01,  4.9729e-02],\n",
       "                       [-3.0608e-01, -1.9689e-01,  9.5991e-02],\n",
       "                       [-1.8537e-01, -8.7962e-02,  3.4982e-01],\n",
       "                       [-1.6620e-01,  2.3976e-01, -1.9369e-01],\n",
       "                       [ 3.9377e-01, -7.7224e-02,  1.9710e-02],\n",
       "                       [ 1.8861e-01,  1.8982e-01,  6.8828e-02],\n",
       "                       [ 2.4271e-01,  2.4835e-01,  4.0902e-01],\n",
       "                       [ 9.5914e-02, -5.2576e-02,  3.3496e-02],\n",
       "                       [-1.8374e-01,  2.4516e-01,  3.9957e-01],\n",
       "                       [ 3.9093e-02,  1.8806e-01,  1.6824e-01],\n",
       "                       [-1.2234e-01,  1.2686e-02,  4.5383e-01],\n",
       "                       [-1.0724e-01,  1.9523e-01, -6.8351e-02],\n",
       "                       [ 9.6711e-02,  3.0001e-01, -8.9441e-02],\n",
       "                       [-3.1283e-01, -8.7009e-03,  1.2228e-02]],\n",
       "              \n",
       "                      [[-2.9461e-01, -2.3325e-01,  1.6345e-01],\n",
       "                       [-9.5989e-02, -9.7327e-02, -3.6601e-01],\n",
       "                       [-1.3437e-01, -9.2076e-02, -3.4949e-01],\n",
       "                       [-1.2884e-01,  3.0980e-01,  2.9928e-01],\n",
       "                       [-2.8352e-01, -3.1668e-01, -1.5126e-01],\n",
       "                       [-1.6780e-01,  2.1470e-01, -2.1877e-01],\n",
       "                       [ 1.8527e-01, -1.3505e-01,  1.4516e-01],\n",
       "                       [-1.3314e-01,  1.2413e-02,  1.3716e-01],\n",
       "                       [-2.9012e-01, -3.0374e-02, -1.6973e-01],\n",
       "                       [-1.7876e-01, -1.4002e-02,  1.4352e-01],\n",
       "                       [-2.9649e-01,  2.6940e-02,  5.4573e-02],\n",
       "                       [-2.1386e-01, -5.8373e-04, -2.5861e-01],\n",
       "                       [ 3.6267e-02,  2.3150e-01,  1.5048e-01],\n",
       "                       [-6.8515e-02,  2.2126e-02,  3.4188e-02],\n",
       "                       [ 1.5629e-01, -1.3473e-02,  5.3316e-02],\n",
       "                       [-3.6853e-01, -1.1914e-01,  3.1473e-01]],\n",
       "              \n",
       "                      [[-1.1745e-01, -3.9443e-02,  1.2823e-01],\n",
       "                       [ 2.2678e-01, -3.2381e-01, -4.0795e-01],\n",
       "                       [-1.5690e-01, -1.4575e-01, -1.4507e-01],\n",
       "                       [-1.3960e-01,  5.2455e-02, -4.1635e-02],\n",
       "                       [-1.0053e-01,  3.2846e-02,  1.6287e-01],\n",
       "                       [ 3.3198e-01, -2.5732e-01, -3.5795e-01],\n",
       "                       [ 2.1081e-01,  5.9338e-02, -1.2890e-01],\n",
       "                       [-5.1166e-02, -2.9886e-01, -2.3498e-01],\n",
       "                       [ 2.4575e-01, -1.2910e-01,  2.3897e-01],\n",
       "                       [-1.3898e-01,  1.0800e-01, -1.1970e-01],\n",
       "                       [ 3.0240e-01,  2.6207e-01,  5.7642e-03],\n",
       "                       [-1.6271e-01, -3.2395e-01, -2.8429e-01],\n",
       "                       [ 1.1063e-01,  1.3003e-01,  3.4449e-01],\n",
       "                       [ 3.0642e-01,  3.8908e-01,  3.3661e-01],\n",
       "                       [-1.2086e-01, -1.0642e-03,  3.7282e-01],\n",
       "                       [-1.1846e-01, -6.0030e-02,  4.1462e-01]],\n",
       "              \n",
       "                      [[-2.1394e-01,  1.9064e-02,  2.2739e-01],\n",
       "                       [ 2.9588e-01,  1.1983e-01,  1.8044e-01],\n",
       "                       [ 3.4801e-01,  8.1359e-02, -1.6922e-01],\n",
       "                       [-1.4294e-01,  1.8044e-01, -9.6014e-02],\n",
       "                       [ 8.1467e-02, -3.6494e-01,  3.6834e-01],\n",
       "                       [-3.0211e-01,  1.4163e-01,  1.7961e-01],\n",
       "                       [-4.1697e-01,  1.9184e-01,  1.4654e-01],\n",
       "                       [-1.8075e-01,  3.6421e-01,  1.7128e-01],\n",
       "                       [-1.8670e-01,  9.6062e-02,  7.8440e-02],\n",
       "                       [-1.9394e-01,  3.2374e-01,  2.7034e-01],\n",
       "                       [ 2.0222e-01,  3.2212e-01,  7.6950e-02],\n",
       "                       [ 1.3217e-01, -7.3644e-02,  1.2326e-03],\n",
       "                       [ 2.8609e-01, -3.2445e-01,  2.0624e-01],\n",
       "                       [-9.6623e-02,  2.3564e-01,  4.5396e-02],\n",
       "                       [ 1.0850e-02, -2.3881e-01, -1.6396e-01],\n",
       "                       [ 9.8330e-02, -1.2340e-01, -1.5883e-01]],\n",
       "              \n",
       "                      [[-8.4630e-02, -1.2496e-01, -2.3477e-01],\n",
       "                       [-1.7436e-01, -3.5458e-01, -4.0961e-01],\n",
       "                       [ 1.6868e-01, -2.2346e-01, -2.2691e-01],\n",
       "                       [-1.8800e-02,  2.1668e-01,  4.1745e-03],\n",
       "                       [ 3.8350e-02,  9.3549e-02, -3.5913e-01],\n",
       "                       [-3.0273e-01, -8.0038e-02, -9.4876e-02],\n",
       "                       [-1.7403e-01, -7.0090e-02,  5.8579e-02],\n",
       "                       [ 2.5769e-01, -1.2543e-01,  1.7772e-01],\n",
       "                       [ 1.0812e-01, -3.1063e-01,  1.2995e-01],\n",
       "                       [ 6.0309e-02,  4.1723e-02, -1.7093e-01],\n",
       "                       [ 2.5211e-02,  2.2431e-01,  3.6803e-01],\n",
       "                       [ 1.4877e-01, -2.4693e-01,  1.5476e-01],\n",
       "                       [-4.2528e-01, -2.2092e-01,  2.1016e-01],\n",
       "                       [ 1.1415e-01,  1.3049e-01,  3.2610e-01],\n",
       "                       [-1.5023e-01, -5.1427e-02,  6.1280e-02],\n",
       "                       [ 8.2815e-03,  2.3872e-01, -5.4773e-02]]], device='cuda:0')),\n",
       "             ('module.model.model.1.gate_convs.3.bias',\n",
       "              tensor([ 0.1377,  0.0172,  0.0055, -0.0397, -0.0262, -0.0340, -0.0337, -0.0845,\n",
       "                       0.0324, -0.0615,  0.0054, -0.0230, -0.0149, -0.0409, -0.0088,  0.0562],\n",
       "                     device='cuda:0')),\n",
       "             ('module.model.model.1.gate_convs.4.weight',\n",
       "              tensor([[[-0.0929,  0.3222,  0.1386],\n",
       "                       [ 0.0841,  0.0075, -0.1497],\n",
       "                       [-0.0027,  0.1762,  0.4582],\n",
       "                       [-0.0494, -0.0993, -0.0038],\n",
       "                       [-0.4272, -0.2965,  0.0031],\n",
       "                       [-0.2031,  0.1496, -0.0842],\n",
       "                       [-0.2380,  0.2386, -0.1012],\n",
       "                       [-0.0626, -0.2672,  0.3906],\n",
       "                       [-0.1646, -0.2469, -0.2210],\n",
       "                       [-0.0934,  0.1780,  0.0147],\n",
       "                       [ 0.0153,  0.3062,  0.0796],\n",
       "                       [-0.1384, -0.0602,  0.1603],\n",
       "                       [-0.2225,  0.0097,  0.3295],\n",
       "                       [ 0.2166, -0.0434,  0.1683],\n",
       "                       [ 0.1944,  0.4015, -0.0468],\n",
       "                       [-0.2050,  0.2662,  0.0315]],\n",
       "              \n",
       "                      [[-0.0577,  0.2014, -0.1306],\n",
       "                       [ 0.2746, -0.0299,  0.0225],\n",
       "                       [-0.2578, -0.0631, -0.3114],\n",
       "                       [-0.2207, -0.1126, -0.4052],\n",
       "                       [-0.0182, -0.0143,  0.0720],\n",
       "                       [-0.0340, -0.1097,  0.1666],\n",
       "                       [-0.1389,  0.3843, -0.1025],\n",
       "                       [-0.0563,  0.3220,  0.3502],\n",
       "                       [ 0.0263, -0.1017,  0.1613],\n",
       "                       [-0.0827,  0.1405, -0.0554],\n",
       "                       [ 0.1563,  0.0393, -0.1311],\n",
       "                       [-0.0442, -0.0464,  0.2026],\n",
       "                       [-0.0070,  0.1520,  0.3981],\n",
       "                       [ 0.3511, -0.2511, -0.2607],\n",
       "                       [ 0.3359, -0.3188,  0.1934],\n",
       "                       [ 0.1359, -0.3484, -0.2005]],\n",
       "              \n",
       "                      [[ 0.1523, -0.3528, -0.3887],\n",
       "                       [ 0.0908, -0.3258, -0.1947],\n",
       "                       [-0.1595,  0.3162,  0.1247],\n",
       "                       [ 0.2874, -0.1001,  0.3851],\n",
       "                       [-0.0116,  0.0027, -0.2899],\n",
       "                       [-0.3746, -0.0215,  0.1561],\n",
       "                       [ 0.0805, -0.0926, -0.1181],\n",
       "                       [-0.0565, -0.4072,  0.1505],\n",
       "                       [ 0.1672,  0.3418, -0.1177],\n",
       "                       [ 0.1740, -0.1096,  0.2279],\n",
       "                       [-0.4118,  0.0579, -0.0026],\n",
       "                       [-0.3636,  0.1144, -0.1720],\n",
       "                       [-0.2217, -0.3274,  0.1124],\n",
       "                       [-0.2308,  0.2500, -0.0512],\n",
       "                       [-0.0981,  0.4490,  0.1242],\n",
       "                       [-0.2658,  0.4624,  0.1429]],\n",
       "              \n",
       "                      [[ 0.0176,  0.1089,  0.1448],\n",
       "                       [-0.0978,  0.2726, -0.0388],\n",
       "                       [-0.1169, -0.1608,  0.0679],\n",
       "                       [-0.3193,  0.2350, -0.0431],\n",
       "                       [ 0.0370,  0.4003, -0.2873],\n",
       "                       [ 0.1279,  0.1619, -0.2198],\n",
       "                       [ 0.0341,  0.2475,  0.1146],\n",
       "                       [ 0.2668, -0.4155, -0.4044],\n",
       "                       [ 0.1397, -0.3806, -0.1819],\n",
       "                       [-0.0625,  0.0708, -0.3770],\n",
       "                       [ 0.1711,  0.3842, -0.1260],\n",
       "                       [-0.0651, -0.1100, -0.0557],\n",
       "                       [-0.0660, -0.2314,  0.3374],\n",
       "                       [-0.3117,  0.1768,  0.3501],\n",
       "                       [-0.2178,  0.2725, -0.2119],\n",
       "                       [-0.2675, -0.1586, -0.3778]],\n",
       "              \n",
       "                      [[ 0.1963,  0.4278,  0.0509],\n",
       "                       [-0.1522,  0.0371,  0.1003],\n",
       "                       [-0.2962, -0.1105, -0.0120],\n",
       "                       [ 0.1513, -0.2599, -0.3378],\n",
       "                       [ 0.0597,  0.1933, -0.2835],\n",
       "                       [-0.1175,  0.0099, -0.1854],\n",
       "                       [-0.3060,  0.0109,  0.0371],\n",
       "                       [-0.1235, -0.0293, -0.3326],\n",
       "                       [-0.1361, -0.3094,  0.4565],\n",
       "                       [ 0.1410,  0.4047,  0.0168],\n",
       "                       [-0.1804, -0.0576, -0.1495],\n",
       "                       [-0.0452,  0.1398, -0.2503],\n",
       "                       [-0.4791, -0.0519, -0.1462],\n",
       "                       [ 0.0124, -0.1590,  0.1299],\n",
       "                       [-0.1074, -0.1689, -0.1189],\n",
       "                       [ 0.4757, -0.0688,  0.3604]],\n",
       "              \n",
       "                      [[ 0.2048, -0.0618,  0.3200],\n",
       "                       [ 0.3584, -0.0474, -0.0140],\n",
       "                       [ 0.2018,  0.0588, -0.1795],\n",
       "                       [ 0.0988, -0.3643, -0.1556],\n",
       "                       [ 0.4356, -0.0455,  0.2256],\n",
       "                       [ 0.1885, -0.2400, -0.2323],\n",
       "                       [-0.2280,  0.1987, -0.1243],\n",
       "                       [ 0.1078,  0.1847,  0.4461],\n",
       "                       [-0.3496, -0.4190, -0.2698],\n",
       "                       [-0.1905,  0.3336, -0.1024],\n",
       "                       [-0.0817,  0.3341, -0.1561],\n",
       "                       [-0.3595, -0.2538, -0.2431],\n",
       "                       [ 0.0631,  0.0909,  0.1358],\n",
       "                       [-0.0907, -0.2682, -0.2146],\n",
       "                       [-0.0490,  0.3201, -0.1780],\n",
       "                       [ 0.3745, -0.0481,  0.2235]],\n",
       "              \n",
       "                      [[-0.3580, -0.0343, -0.0124],\n",
       "                       [ 0.1410, -0.2555, -0.1022],\n",
       "                       [ 0.2342,  0.3271, -0.0104],\n",
       "                       [ 0.0574,  0.0206,  0.1134],\n",
       "                       [ 0.0820, -0.0065, -0.3079],\n",
       "                       [ 0.1702,  0.4774, -0.1705],\n",
       "                       [ 0.1355, -0.0058, -0.0007],\n",
       "                       [ 0.1827, -0.2771, -0.0337],\n",
       "                       [ 0.1529,  0.0300, -0.0791],\n",
       "                       [-0.0300,  0.0021, -0.0979],\n",
       "                       [ 0.4003, -0.2211,  0.2814],\n",
       "                       [-0.1164,  0.0522, -0.4172],\n",
       "                       [-0.2345, -0.2145, -0.3990],\n",
       "                       [ 0.2024,  0.2919,  0.1291],\n",
       "                       [-0.1841, -0.3063,  0.3140],\n",
       "                       [ 0.0712,  0.2090, -0.2762]],\n",
       "              \n",
       "                      [[ 0.2105,  0.0808,  0.0901],\n",
       "                       [ 0.0061,  0.2245, -0.3879],\n",
       "                       [-0.1316, -0.1442, -0.0427],\n",
       "                       [-0.3132, -0.2007,  0.1718],\n",
       "                       [ 0.3019,  0.0416, -0.3399],\n",
       "                       [ 0.2002,  0.1354, -0.0125],\n",
       "                       [-0.3480,  0.3340,  0.0409],\n",
       "                       [ 0.2138, -0.3524,  0.2258],\n",
       "                       [ 0.1427,  0.0179,  0.1572],\n",
       "                       [ 0.0894, -0.1802, -0.4683],\n",
       "                       [ 0.0107, -0.2374, -0.3274],\n",
       "                       [ 0.0036,  0.1108,  0.2770],\n",
       "                       [ 0.1912,  0.0039,  0.3321],\n",
       "                       [-0.1348,  0.1586,  0.1932],\n",
       "                       [-0.1452,  0.0094, -0.1431],\n",
       "                       [-0.0599,  0.2877, -0.4006]],\n",
       "              \n",
       "                      [[-0.2612,  0.2494, -0.0402],\n",
       "                       [ 0.2313, -0.1577, -0.1352],\n",
       "                       [-0.1566, -0.2546,  0.2678],\n",
       "                       [-0.2538,  0.1974,  0.2991],\n",
       "                       [ 0.3477, -0.2229,  0.1177],\n",
       "                       [ 0.0298,  0.0476,  0.2070],\n",
       "                       [-0.3431, -0.1622,  0.3606],\n",
       "                       [-0.1106,  0.3431, -0.0391],\n",
       "                       [-0.3083, -0.0407, -0.2565],\n",
       "                       [-0.2791, -0.3163, -0.0230],\n",
       "                       [-0.2789,  0.3011, -0.1179],\n",
       "                       [ 0.2661,  0.0241,  0.1866],\n",
       "                       [ 0.1130,  0.2906,  0.0793],\n",
       "                       [-0.3185, -0.2857, -0.3487],\n",
       "                       [ 0.2504,  0.1403, -0.2498],\n",
       "                       [ 0.2007, -0.0653,  0.0529]],\n",
       "              \n",
       "                      [[-0.2242,  0.1485, -0.4457],\n",
       "                       [-0.3285,  0.1606, -0.2740],\n",
       "                       [ 0.2552, -0.1618, -0.2844],\n",
       "                       [ 0.3926, -0.1777, -0.3486],\n",
       "                       [-0.2799,  0.2229, -0.2372],\n",
       "                       [ 0.2616,  0.2013,  0.2955],\n",
       "                       [ 0.1447,  0.2634, -0.0560],\n",
       "                       [ 0.1026,  0.3026, -0.1499],\n",
       "                       [-0.2641, -0.2322, -0.1637],\n",
       "                       [-0.0127, -0.3071, -0.0182],\n",
       "                       [ 0.2292,  0.0229, -0.3893],\n",
       "                       [-0.1617,  0.2249, -0.0206],\n",
       "                       [ 0.0185, -0.0241, -0.1609],\n",
       "                       [ 0.0314,  0.2035,  0.0658],\n",
       "                       [ 0.1375,  0.2732, -0.1313],\n",
       "                       [ 0.0325,  0.1491, -0.3617]],\n",
       "              \n",
       "                      [[ 0.2470,  0.3584,  0.4632],\n",
       "                       [-0.2899,  0.0245, -0.0686],\n",
       "                       [-0.2024,  0.3993,  0.3871],\n",
       "                       [-0.2680,  0.1324,  0.0300],\n",
       "                       [-0.3000, -0.0323,  0.0919],\n",
       "                       [-0.0873, -0.1021,  0.3449],\n",
       "                       [ 0.3397, -0.1185, -0.1697],\n",
       "                       [-0.3152,  0.0279, -0.0749],\n",
       "                       [-0.1345,  0.1674,  0.3324],\n",
       "                       [-0.2757, -0.0968, -0.0253],\n",
       "                       [-0.1527,  0.0931,  0.0534],\n",
       "                       [ 0.2877,  0.1183,  0.2511],\n",
       "                       [-0.0242,  0.1166,  0.2632],\n",
       "                       [ 0.2803,  0.1817,  0.1953],\n",
       "                       [ 0.1744, -0.3438,  0.0223],\n",
       "                       [ 0.2443, -0.2908,  0.0018]],\n",
       "              \n",
       "                      [[ 0.3963,  0.1447,  0.1628],\n",
       "                       [ 0.3121, -0.0649,  0.4492],\n",
       "                       [-0.0071, -0.2859, -0.1040],\n",
       "                       [ 0.2398,  0.2464,  0.1089],\n",
       "                       [ 0.3061,  0.2124,  0.2699],\n",
       "                       [-0.2414,  0.3749, -0.2325],\n",
       "                       [-0.0993,  0.1335,  0.2394],\n",
       "                       [ 0.2292, -0.1829,  0.0717],\n",
       "                       [ 0.0501, -0.0168, -0.2660],\n",
       "                       [-0.2881, -0.3738, -0.0693],\n",
       "                       [ 0.3697,  0.3584, -0.2282],\n",
       "                       [ 0.0442, -0.1010,  0.1025],\n",
       "                       [ 0.1217,  0.2757, -0.0699],\n",
       "                       [ 0.2051,  0.2018, -0.4450],\n",
       "                       [ 0.0432, -0.1180,  0.1703],\n",
       "                       [ 0.2431,  0.2910,  0.0389]],\n",
       "              \n",
       "                      [[ 0.3184,  0.0630,  0.2527],\n",
       "                       [-0.1222,  0.3056, -0.0220],\n",
       "                       [ 0.0147,  0.2413,  0.1091],\n",
       "                       [-0.4767, -0.2504,  0.2366],\n",
       "                       [ 0.0167, -0.1143, -0.1690],\n",
       "                       [-0.1339, -0.1192, -0.0528],\n",
       "                       [-0.3902, -0.3632,  0.1855],\n",
       "                       [ 0.1459,  0.1165, -0.1692],\n",
       "                       [-0.0257,  0.1281,  0.1918],\n",
       "                       [ 0.2809,  0.1000, -0.1717],\n",
       "                       [-0.0927, -0.3599,  0.2296],\n",
       "                       [ 0.3371, -0.1255, -0.3048],\n",
       "                       [-0.2020,  0.1057, -0.1689],\n",
       "                       [-0.2183,  0.0444,  0.3564],\n",
       "                       [ 0.0763,  0.1568, -0.1053],\n",
       "                       [ 0.4059,  0.1511,  0.0079]],\n",
       "              \n",
       "                      [[-0.1420,  0.3474,  0.4094],\n",
       "                       [-0.2658,  0.2200,  0.0827],\n",
       "                       [-0.1106, -0.2568,  0.0903],\n",
       "                       [-0.2979,  0.1481, -0.1675],\n",
       "                       [-0.2130, -0.1508,  0.1362],\n",
       "                       [ 0.1968,  0.2526, -0.2205],\n",
       "                       [ 0.1600, -0.1257, -0.1869],\n",
       "                       [-0.1844, -0.3403,  0.0054],\n",
       "                       [ 0.1216,  0.1778, -0.0910],\n",
       "                       [-0.1430,  0.1734, -0.1058],\n",
       "                       [ 0.2195,  0.0697,  0.3274],\n",
       "                       [-0.0259,  0.3108,  0.1050],\n",
       "                       [ 0.0155,  0.0280,  0.2459],\n",
       "                       [-0.0352,  0.1451, -0.2105],\n",
       "                       [-0.0591,  0.2560,  0.0351],\n",
       "                       [-0.0325,  0.0959, -0.2797]],\n",
       "              \n",
       "                      [[ 0.4039,  0.0854,  0.2975],\n",
       "                       [ 0.0592, -0.0903, -0.2771],\n",
       "                       [-0.0874,  0.1143, -0.1829],\n",
       "                       [ 0.0454, -0.2253, -0.0137],\n",
       "                       [ 0.2124, -0.0673,  0.4820],\n",
       "                       [ 0.0736, -0.1707, -0.2407],\n",
       "                       [ 0.1405,  0.0878,  0.1092],\n",
       "                       [-0.0038,  0.2056,  0.3365],\n",
       "                       [ 0.2350,  0.1035,  0.1253],\n",
       "                       [-0.2098,  0.0139, -0.0966],\n",
       "                       [-0.1121, -0.1263,  0.2150],\n",
       "                       [ 0.1006, -0.3340,  0.3162],\n",
       "                       [ 0.1425,  0.2280,  0.2356],\n",
       "                       [-0.1856, -0.1193, -0.4565],\n",
       "                       [ 0.3438,  0.0382, -0.0702],\n",
       "                       [ 0.0271, -0.1179, -0.2056]],\n",
       "              \n",
       "                      [[ 0.1482,  0.3686, -0.1771],\n",
       "                       [-0.2643, -0.3418,  0.1806],\n",
       "                       [-0.2264,  0.0204,  0.0033],\n",
       "                       [-0.0304, -0.2632,  0.3754],\n",
       "                       [-0.1244,  0.2344,  0.1126],\n",
       "                       [ 0.2757,  0.0220,  0.1222],\n",
       "                       [-0.2293, -0.2610, -0.3147],\n",
       "                       [ 0.1668, -0.3261, -0.0271],\n",
       "                       [ 0.0431,  0.2589, -0.0600],\n",
       "                       [-0.2078, -0.2246,  0.0394],\n",
       "                       [-0.0637,  0.1549, -0.1693],\n",
       "                       [ 0.3848,  0.2336,  0.0280],\n",
       "                       [ 0.0087, -0.2203,  0.2195],\n",
       "                       [-0.0848, -0.5046,  0.2244],\n",
       "                       [-0.3174, -0.1045, -0.0532],\n",
       "                       [-0.3008,  0.1464, -0.0922]]], device='cuda:0')),\n",
       "             ('module.model.model.1.gate_convs.4.bias',\n",
       "              tensor([-0.0351,  0.0261, -0.0174, -0.0095, -0.0061,  0.0305, -0.0609, -0.0135,\n",
       "                      -0.0191,  0.0109,  0.0193,  0.0179, -0.0150,  0.0530,  0.0051,  0.0834],\n",
       "                     device='cuda:0')),\n",
       "             ('module.model.model.1.gate_convs.5.weight',\n",
       "              tensor([[[ 3.9591e-03, -3.3355e-01,  9.0194e-02],\n",
       "                       [ 3.5908e-02,  1.7894e-01, -2.0227e-01],\n",
       "                       [ 1.0178e-01,  1.7259e-02, -5.6534e-02],\n",
       "                       [-4.3401e-03, -8.9065e-02, -6.8507e-02],\n",
       "                       [-6.0686e-02,  2.4906e-01,  3.1503e-02],\n",
       "                       [ 3.5470e-01,  3.3261e-02, -2.4145e-01],\n",
       "                       [-1.4865e-01,  6.9658e-02, -3.0492e-01],\n",
       "                       [-3.1648e-01,  2.7523e-01, -3.2440e-01],\n",
       "                       [ 5.6421e-02,  2.2686e-02, -3.7031e-03],\n",
       "                       [-2.2311e-01, -1.1592e-01, -7.4924e-02],\n",
       "                       [-4.0077e-01,  3.2214e-01,  2.1161e-01],\n",
       "                       [ 3.9996e-01, -1.5199e-01,  1.6848e-01],\n",
       "                       [-3.8576e-01,  4.2083e-02, -1.2538e-01],\n",
       "                       [-2.6261e-01,  8.5725e-02, -2.7677e-01],\n",
       "                       [ 8.6899e-02,  4.3464e-02,  3.2627e-01],\n",
       "                       [ 5.4259e-01,  2.0958e-01, -1.0965e-01]],\n",
       "              \n",
       "                      [[-7.2335e-02,  2.8266e-02,  2.3931e-01],\n",
       "                       [-3.0263e-01,  3.0797e-01,  4.0370e-02],\n",
       "                       [-2.4788e-02,  2.6761e-01,  4.9564e-02],\n",
       "                       [-4.4684e-03, -3.7347e-01, -1.1512e-01],\n",
       "                       [-1.1356e-04,  1.7047e-01,  7.9507e-02],\n",
       "                       [-1.1571e-01, -3.1767e-01,  5.0469e-02],\n",
       "                       [-4.6072e-01, -1.8066e-01,  3.0475e-02],\n",
       "                       [ 1.7017e-01,  1.6215e-01, -1.7632e-01],\n",
       "                       [ 7.3467e-01, -2.7139e-01, -3.5011e-02],\n",
       "                       [ 4.0305e-01,  5.1582e-02,  2.6298e-01],\n",
       "                       [ 1.1562e-01,  1.8372e-01, -7.0937e-02],\n",
       "                       [-7.0060e-02,  1.9037e-01, -1.5570e-01],\n",
       "                       [-1.8767e-01,  4.3311e-01,  2.5710e-01],\n",
       "                       [ 1.8718e-01, -1.0101e-01, -3.1329e-01],\n",
       "                       [-1.9162e-02,  3.3902e-02,  3.8957e-02],\n",
       "                       [ 2.2740e-01, -1.8472e-01,  1.2606e-01]],\n",
       "              \n",
       "                      [[-2.5193e-01, -2.3176e-01, -1.2630e-01],\n",
       "                       [ 1.6042e-01, -3.4176e-01, -2.6905e-01],\n",
       "                       [ 2.5823e-01, -3.6680e-01, -1.4161e-01],\n",
       "                       [ 9.1033e-02, -1.5783e-01, -2.3324e-01],\n",
       "                       [ 4.8388e-02, -5.5875e-02, -2.0734e-01],\n",
       "                       [ 1.6546e-01,  7.1786e-02, -1.5710e-01],\n",
       "                       [ 3.7448e-01,  3.8109e-01,  1.1236e-01],\n",
       "                       [ 3.2084e-01, -2.1218e-01,  1.6250e-01],\n",
       "                       [-5.3625e-02,  1.7474e-01, -2.2222e-01],\n",
       "                       [-2.9607e-01,  2.6340e-01,  1.3998e-01],\n",
       "                       [-1.0125e-01,  1.7654e-01, -3.4749e-01],\n",
       "                       [ 1.9643e-01, -1.2654e-01,  2.3511e-01],\n",
       "                       [-1.3315e-01,  1.5021e-01,  3.2485e-01],\n",
       "                       [-2.1846e-01, -3.1175e-01, -2.5490e-01],\n",
       "                       [-6.6661e-02, -2.7509e-01, -2.4358e-01],\n",
       "                       [-2.4789e-02, -2.1066e-01,  2.2225e-01]],\n",
       "              \n",
       "                      [[ 7.1378e-02,  2.0918e-01,  1.1561e-01],\n",
       "                       [ 3.0318e-01, -5.3052e-01, -1.9507e-01],\n",
       "                       [ 2.2624e-01, -4.6646e-02,  3.1391e-01],\n",
       "                       [-3.4398e-01, -1.0609e-01, -1.9441e-01],\n",
       "                       [ 6.8613e-02,  1.5843e-01,  1.0091e-01],\n",
       "                       [-4.6511e-02, -2.5618e-01, -8.1650e-02],\n",
       "                       [ 1.4586e-01, -1.2556e-01, -3.9101e-02],\n",
       "                       [ 1.4011e-01,  5.0474e-02, -2.1757e-01],\n",
       "                       [ 1.3613e-01,  2.0510e-01,  1.1771e-01],\n",
       "                       [ 2.8352e-01,  2.3491e-01,  3.8292e-01],\n",
       "                       [ 4.7362e-01,  6.0297e-02,  3.8723e-01],\n",
       "                       [ 1.1975e-02,  2.1844e-01,  2.8414e-02],\n",
       "                       [-5.9773e-02, -2.5450e-02, -1.6985e-01],\n",
       "                       [ 7.1970e-02,  2.5917e-01,  1.6696e-01],\n",
       "                       [-4.4599e-01,  1.0847e-01, -9.9079e-03],\n",
       "                       [-1.2985e-01, -4.0568e-01,  1.9656e-01]],\n",
       "              \n",
       "                      [[ 2.0890e-01, -3.0638e-01,  2.2558e-01],\n",
       "                       [-1.2312e-01,  9.7601e-02, -1.1672e-01],\n",
       "                       [-3.4250e-01, -4.1095e-01,  1.0651e-01],\n",
       "                       [-3.6827e-01, -1.7127e-02,  6.1441e-02],\n",
       "                       [ 1.6253e-01, -3.0396e-01, -4.9176e-03],\n",
       "                       [-1.5212e-01, -2.6738e-01,  7.4182e-02],\n",
       "                       [ 2.1229e-01,  4.1624e-01,  8.7186e-02],\n",
       "                       [ 3.0874e-01,  3.0999e-01,  1.1135e-01],\n",
       "                       [-2.9677e-01,  1.8280e-01, -3.6276e-02],\n",
       "                       [ 1.3754e-01, -2.0617e-01, -9.1742e-02],\n",
       "                       [ 1.1503e-01, -2.2403e-01,  5.2393e-02],\n",
       "                       [ 5.8279e-02,  4.8683e-01,  2.8532e-01],\n",
       "                       [ 2.4816e-01,  1.4311e-01, -3.0027e-01],\n",
       "                       [-1.0333e-01, -5.9128e-02, -7.4211e-02],\n",
       "                       [-1.9025e-01,  3.1842e-01, -8.8959e-02],\n",
       "                       [ 1.1954e-01,  2.4979e-01,  2.0579e-01]],\n",
       "              \n",
       "                      [[ 7.2116e-02, -1.9169e-01,  7.1039e-02],\n",
       "                       [-8.0531e-02, -2.2054e-01, -2.5123e-01],\n",
       "                       [-1.0550e-02,  1.2044e-02, -2.1704e-01],\n",
       "                       [-2.6707e-01, -3.2017e-01, -1.4704e-01],\n",
       "                       [-9.4067e-02, -2.2011e-01,  7.7342e-02],\n",
       "                       [ 3.1082e-01,  2.9730e-01,  2.6101e-02],\n",
       "                       [ 1.7298e-01, -2.3080e-01, -1.3372e-01],\n",
       "                       [-9.0151e-02,  3.8349e-01,  3.1445e-01],\n",
       "                       [-5.1469e-02, -8.9536e-02,  1.5720e-01],\n",
       "                       [ 7.0361e-03,  3.4391e-01,  2.1691e-01],\n",
       "                       [ 1.1062e-01, -1.5881e-01, -1.0318e-01],\n",
       "                       [-2.4733e-01,  4.7387e-02, -2.7355e-01],\n",
       "                       [ 4.2165e-01,  1.5256e-01,  4.2350e-02],\n",
       "                       [ 3.0650e-01, -1.2287e-01,  1.0106e-01],\n",
       "                       [-2.0758e-01, -3.8016e-01, -2.1071e-01],\n",
       "                       [-2.2909e-01,  1.1036e-01,  1.2883e-01]],\n",
       "              \n",
       "                      [[-2.3260e-01, -4.8928e-02, -5.4776e-02],\n",
       "                       [ 3.7504e-01, -3.6220e-02, -3.9598e-01],\n",
       "                       [ 3.3198e-01,  3.4314e-01, -1.3885e-01],\n",
       "                       [-1.5187e-02, -3.7267e-01,  4.4818e-01],\n",
       "                       [ 1.2433e-01, -1.6938e-01, -5.3160e-02],\n",
       "                       [ 1.8842e-01,  4.1378e-02, -3.2263e-01],\n",
       "                       [ 2.2751e-02,  3.6721e-02, -8.3054e-02],\n",
       "                       [ 1.4712e-01, -5.2031e-02, -1.9116e-01],\n",
       "                       [-3.9129e-01,  4.2189e-01, -1.2852e-01],\n",
       "                       [ 1.7901e-02,  3.8025e-01,  9.7085e-02],\n",
       "                       [ 3.4729e-01, -3.3615e-02, -1.8317e-01],\n",
       "                       [-1.6050e-01, -3.6397e-01,  3.1181e-01],\n",
       "                       [-2.2152e-01,  1.7101e-01,  4.5255e-02],\n",
       "                       [ 1.6106e-01,  6.7080e-02, -8.0192e-02],\n",
       "                       [ 6.9960e-02, -6.4730e-02,  2.5541e-01],\n",
       "                       [-3.0367e-01, -3.3356e-01, -2.4816e-02]],\n",
       "              \n",
       "                      [[-1.5891e-01,  2.0751e-02,  1.8473e-01],\n",
       "                       [ 9.8735e-02,  2.2279e-01,  2.3415e-01],\n",
       "                       [ 5.3696e-02, -3.5068e-01,  2.1195e-01],\n",
       "                       [-9.3049e-02,  2.8819e-01, -1.6819e-02],\n",
       "                       [ 1.6135e-01,  1.5131e-01, -1.9068e-02],\n",
       "                       [ 1.9223e-01, -3.6730e-02, -1.1605e-01],\n",
       "                       [ 3.8269e-01,  3.8628e-01,  9.5320e-02],\n",
       "                       [-8.4830e-02,  2.9821e-01, -1.2982e-01],\n",
       "                       [-2.1649e-01, -1.4008e-01,  8.9246e-02],\n",
       "                       [ 1.4455e-01, -1.6064e-02,  3.0672e-01],\n",
       "                       [-1.9058e-01, -2.9014e-01, -1.2148e-01],\n",
       "                       [-7.5709e-02,  2.2215e-01, -2.4510e-01],\n",
       "                       [ 6.8115e-02, -1.2425e-01,  3.6525e-01],\n",
       "                       [-3.7815e-01, -4.1799e-01, -2.7529e-01],\n",
       "                       [-2.7514e-01,  2.8517e-02,  3.8412e-01],\n",
       "                       [-3.2233e-01, -9.0185e-02, -3.0672e-01]],\n",
       "              \n",
       "                      [[ 2.4612e-01, -6.1916e-02, -2.7300e-01],\n",
       "                       [-1.6893e-01, -1.9781e-02,  2.4124e-01],\n",
       "                       [ 3.4794e-01,  6.4652e-02, -1.0128e-01],\n",
       "                       [ 3.2339e-01,  1.1615e-01,  4.9863e-02],\n",
       "                       [-1.4443e-01,  1.0612e-01,  2.9646e-01],\n",
       "                       [-1.7682e-01, -3.9036e-02,  5.1954e-02],\n",
       "                       [-8.1973e-02, -1.9868e-01, -3.2236e-01],\n",
       "                       [-4.9271e-03,  3.7739e-01,  6.8059e-02],\n",
       "                       [-3.3465e-01, -2.7750e-01,  3.1107e-01],\n",
       "                       [-6.3180e-02,  4.2797e-02,  1.3957e-01],\n",
       "                       [-1.0297e-02, -2.2527e-01,  2.8046e-01],\n",
       "                       [ 2.0575e-01, -2.3044e-01,  2.9584e-01],\n",
       "                       [ 1.0369e-01, -1.4021e-01,  1.6326e-01],\n",
       "                       [-1.4875e-01,  2.5098e-01, -3.1390e-01],\n",
       "                       [ 1.6568e-01,  1.6946e-01,  2.3699e-01],\n",
       "                       [ 1.2866e-02, -3.4382e-01, -2.3457e-01]],\n",
       "              \n",
       "                      [[ 3.2922e-01,  9.8217e-02,  1.5175e-01],\n",
       "                       [ 2.3635e-01, -2.1966e-01,  4.6235e-02],\n",
       "                       [-1.1493e-01, -4.2704e-01,  2.3537e-01],\n",
       "                       [-8.6857e-02, -3.7229e-01, -1.4594e-02],\n",
       "                       [-1.5165e-01,  4.6053e-02, -2.8597e-01],\n",
       "                       [ 2.3214e-01, -2.0603e-01,  9.6906e-02],\n",
       "                       [ 3.6234e-01,  2.5911e-01,  4.0955e-01],\n",
       "                       [-1.6820e-01, -2.0671e-01,  2.4297e-01],\n",
       "                       [-3.2801e-01, -5.9038e-03,  2.0944e-01],\n",
       "                       [-2.5282e-01, -7.7225e-02,  1.4242e-01],\n",
       "                       [ 2.0735e-01, -2.5057e-01, -1.6659e-01],\n",
       "                       [-2.8226e-01,  1.9412e-02, -1.8126e-01],\n",
       "                       [-8.5856e-02,  2.0496e-01, -1.4991e-01],\n",
       "                       [ 7.9622e-02, -6.3297e-02,  3.1137e-01],\n",
       "                       [ 1.4292e-01,  3.3344e-01,  1.7438e-01],\n",
       "                       [ 8.8428e-03,  1.7637e-01, -1.9695e-01]],\n",
       "              \n",
       "                      [[-3.7308e-01, -1.1994e-01, -4.1986e-01],\n",
       "                       [ 1.6281e-01,  1.5212e-01, -1.2070e-01],\n",
       "                       [-2.8219e-01, -1.3263e-01, -3.3889e-01],\n",
       "                       [-1.2804e-01, -1.5529e-01, -2.5381e-02],\n",
       "                       [-6.5353e-02,  3.6060e-01, -6.9613e-02],\n",
       "                       [ 4.1455e-02,  1.0557e-03,  1.7772e-01],\n",
       "                       [-3.5099e-01, -1.4357e-01,  1.5451e-01],\n",
       "                       [-3.5738e-01,  3.4690e-01,  5.6677e-02],\n",
       "                       [ 4.5360e-02,  1.1390e-02,  6.0191e-04],\n",
       "                       [-4.4453e-01, -6.3826e-02, -6.6057e-02],\n",
       "                       [ 1.7107e-01,  1.3122e-01,  5.9035e-02],\n",
       "                       [ 3.0384e-01,  9.4868e-02, -1.8721e-01],\n",
       "                       [ 5.1886e-02, -3.7959e-02, -2.9256e-01],\n",
       "                       [-2.8576e-01, -3.6195e-01,  9.7581e-02],\n",
       "                       [-2.1484e-01,  3.1576e-01,  1.5024e-01],\n",
       "                       [ 2.4114e-01, -4.5464e-02,  3.0225e-01]],\n",
       "              \n",
       "                      [[ 3.0295e-01,  1.8679e-01,  7.4702e-02],\n",
       "                       [ 1.6246e-01, -4.4720e-01, -2.7887e-01],\n",
       "                       [ 2.9897e-01,  4.7780e-01, -1.6285e-01],\n",
       "                       [ 8.5360e-03,  3.3361e-01,  7.0382e-02],\n",
       "                       [-1.9811e-01, -2.6315e-01, -3.4498e-01],\n",
       "                       [-1.9588e-01,  1.6320e-01, -1.3142e-01],\n",
       "                       [ 9.1376e-02,  2.5682e-01,  9.4089e-02],\n",
       "                       [ 1.6262e-01, -8.9595e-02,  3.0736e-01],\n",
       "                       [-1.0908e-01, -1.8528e-01,  3.3185e-01],\n",
       "                       [-1.6281e-01,  9.8063e-02,  3.5820e-01],\n",
       "                       [-2.7879e-01, -1.9754e-01,  1.9164e-01],\n",
       "                       [-2.4255e-01,  1.1897e-01, -3.2349e-01],\n",
       "                       [ 1.4473e-01,  2.6406e-01,  1.6732e-01],\n",
       "                       [-3.0606e-01, -4.4932e-02, -1.8560e-01],\n",
       "                       [-7.2108e-02, -2.6760e-01, -3.1996e-01],\n",
       "                       [-7.3575e-02, -9.4664e-02, -3.1427e-01]],\n",
       "              \n",
       "                      [[-9.6813e-02, -2.7609e-01, -1.5802e-01],\n",
       "                       [ 6.5535e-02,  4.2171e-02, -3.0658e-01],\n",
       "                       [ 8.3029e-02, -2.8232e-01, -2.0063e-01],\n",
       "                       [ 4.4842e-01,  3.7723e-01,  4.5964e-01],\n",
       "                       [ 2.6258e-01, -5.6905e-02,  1.9715e-01],\n",
       "                       [-3.7387e-01, -2.7949e-01,  3.9087e-02],\n",
       "                       [-1.6808e-01,  2.1659e-02, -1.1309e-01],\n",
       "                       [-4.5168e-01, -1.6376e-01, -7.8761e-02],\n",
       "                       [-4.9849e-01, -2.8373e-01, -3.5903e-01],\n",
       "                       [-1.0445e-01, -3.1523e-01,  7.5392e-02],\n",
       "                       [-2.9507e-01,  1.6304e-01, -1.0071e-01],\n",
       "                       [ 5.2625e-01, -4.6187e-03,  3.7823e-01],\n",
       "                       [-2.2620e-01, -1.4232e-01, -2.9113e-01],\n",
       "                       [ 1.6706e-01, -2.7189e-01, -8.1876e-02],\n",
       "                       [-1.1779e-01, -3.5335e-01,  5.1126e-02],\n",
       "                       [ 3.3939e-01, -1.2681e-01, -1.6576e-01]],\n",
       "              \n",
       "                      [[-1.7671e-01, -2.2585e-01, -4.2590e-01],\n",
       "                       [ 2.9153e-01,  9.3444e-02,  1.2464e-01],\n",
       "                       [-2.8218e-01, -2.0387e-01,  8.3300e-02],\n",
       "                       [-3.3893e-01, -1.4134e-01, -2.4545e-01],\n",
       "                       [ 3.2296e-01,  2.8989e-01,  4.5531e-02],\n",
       "                       [ 2.6015e-01,  2.6682e-01, -3.2613e-01],\n",
       "                       [ 1.4141e-01,  2.2470e-01, -3.4736e-02],\n",
       "                       [ 1.6225e-01, -4.1399e-01,  1.2868e-01],\n",
       "                       [-2.0490e-01, -4.8582e-01, -1.2771e-01],\n",
       "                       [ 9.3122e-02, -1.2259e-01, -4.3051e-01],\n",
       "                       [-6.3286e-02,  1.9274e-01, -3.7653e-01],\n",
       "                       [ 2.5769e-01, -1.6541e-01,  2.8326e-01],\n",
       "                       [-8.5984e-02,  3.3540e-01, -1.4052e-01],\n",
       "                       [ 1.1658e-01, -3.3637e-02, -3.2989e-01],\n",
       "                       [-2.1215e-02,  8.1379e-03,  2.4872e-01],\n",
       "                       [ 1.6792e-01,  8.0598e-02,  5.0590e-02]],\n",
       "              \n",
       "                      [[-2.8198e-02, -3.4107e-01,  1.2905e-01],\n",
       "                       [ 1.3168e-01, -1.4651e-01, -1.6608e-01],\n",
       "                       [-7.5385e-02, -2.2310e-01,  1.6273e-01],\n",
       "                       [ 8.5155e-02,  2.4991e-01, -2.0958e-01],\n",
       "                       [ 9.2239e-02,  3.1150e-01,  4.7051e-02],\n",
       "                       [ 1.2580e-01, -1.7351e-01, -3.0295e-01],\n",
       "                       [-2.6102e-02,  2.4936e-01, -3.4927e-01],\n",
       "                       [ 2.0092e-01, -1.6724e-01, -2.5884e-01],\n",
       "                       [-4.1929e-01,  2.4053e-01, -1.3770e-01],\n",
       "                       [ 1.2570e-01,  2.6484e-02, -2.4247e-01],\n",
       "                       [-2.8848e-01,  2.2523e-01, -2.4558e-01],\n",
       "                       [ 1.7663e-02,  2.1969e-01,  3.3609e-02],\n",
       "                       [ 1.9240e-01, -1.8713e-01, -3.6007e-01],\n",
       "                       [-2.3496e-01, -2.7534e-02, -2.2116e-01],\n",
       "                       [ 3.2338e-01,  3.9474e-01,  1.6143e-01],\n",
       "                       [-1.3524e-01,  3.0256e-01,  3.9669e-01]],\n",
       "              \n",
       "                      [[-1.7169e-02,  2.1085e-01,  1.8439e-01],\n",
       "                       [ 1.0434e-01,  2.5441e-01, -4.9791e-01],\n",
       "                       [ 1.3001e-01,  1.6440e-01,  1.8452e-01],\n",
       "                       [ 1.9601e-02,  3.9262e-01,  4.6757e-01],\n",
       "                       [-2.9967e-01, -3.0971e-02, -2.2361e-01],\n",
       "                       [-5.0699e-02, -2.8956e-01,  1.2741e-01],\n",
       "                       [ 1.8561e-01,  1.9274e-01, -3.4241e-01],\n",
       "                       [ 4.8080e-02, -1.7234e-01, -2.4915e-02],\n",
       "                       [ 5.7964e-02,  4.5991e-02, -1.3609e-01],\n",
       "                       [ 3.4985e-03, -9.5537e-03, -3.9207e-03],\n",
       "                       [-4.5381e-02,  8.2699e-03, -1.3702e-01],\n",
       "                       [ 1.3158e-01, -1.7345e-01,  3.6556e-01],\n",
       "                       [ 1.9322e-01, -3.6102e-01,  1.8794e-01],\n",
       "                       [-2.0315e-01, -1.6727e-01,  7.6543e-02],\n",
       "                       [ 5.4321e-02,  3.1387e-01,  7.2037e-02],\n",
       "                       [ 1.1696e-01,  2.0073e-02,  4.4356e-01]]], device='cuda:0')),\n",
       "             ('module.model.model.1.gate_convs.5.bias',\n",
       "              tensor([ 0.0674, -0.0580,  0.0744, -0.0638, -0.0012, -0.0460,  0.0160, -0.0475,\n",
       "                      -0.0616,  0.0218,  0.0499,  0.0183, -0.0741,  0.0236,  0.0005,  0.0441],\n",
       "                     device='cuda:0')),\n",
       "             ('module.model.model.1.gate_convs.6.weight',\n",
       "              tensor([[[-7.7788e-02, -5.3972e-02,  9.0474e-02],\n",
       "                       [ 3.3362e-02, -4.2000e-01, -8.8715e-03],\n",
       "                       [-8.5708e-02,  2.5129e-02,  4.1125e-02],\n",
       "                       [ 1.7317e-01,  6.5587e-03, -3.6580e-02],\n",
       "                       [ 2.8770e-01, -1.3304e-01,  2.9822e-01],\n",
       "                       [-4.1089e-01, -3.1204e-01, -4.0061e-01],\n",
       "                       [-4.0009e-01,  7.7558e-02, -2.9008e-02],\n",
       "                       [-1.8200e-01, -6.2485e-03, -2.8979e-01],\n",
       "                       [-2.1047e-01,  9.0067e-02, -9.0844e-02],\n",
       "                       [-1.1131e-01,  1.6896e-01,  2.9572e-01],\n",
       "                       [ 1.1889e-01,  2.8274e-01,  2.6375e-01],\n",
       "                       [-4.7843e-02,  1.8316e-01, -2.8667e-01],\n",
       "                       [ 1.3789e-01,  1.7189e-01,  6.2146e-02],\n",
       "                       [ 3.1908e-01, -3.5824e-01, -3.7168e-01],\n",
       "                       [-1.8282e-01, -3.1032e-01, -2.8347e-01],\n",
       "                       [ 1.0231e-01,  1.9049e-01, -1.0045e-01]],\n",
       "              \n",
       "                      [[ 3.3977e-01, -2.2923e-01, -2.7410e-01],\n",
       "                       [-3.3607e-01, -1.7422e-01,  1.2589e-01],\n",
       "                       [ 2.1444e-01, -1.4486e-01, -6.1393e-02],\n",
       "                       [ 6.7148e-02,  4.9067e-02,  1.3757e-01],\n",
       "                       [-2.3211e-01,  2.5945e-01,  2.8678e-01],\n",
       "                       [ 2.6103e-01,  3.1289e-01, -4.3444e-01],\n",
       "                       [-1.1746e-01, -9.5502e-02, -1.2110e-01],\n",
       "                       [ 2.6597e-01,  8.1315e-02, -6.4850e-02],\n",
       "                       [-1.1491e-01, -3.8618e-01,  8.6154e-02],\n",
       "                       [-3.1453e-01,  2.2287e-01,  1.4123e-01],\n",
       "                       [-8.7168e-02,  3.7349e-01, -9.2865e-02],\n",
       "                       [-1.5362e-01, -2.4696e-02, -1.9877e-01],\n",
       "                       [-4.0837e-01,  3.4045e-01,  8.0545e-02],\n",
       "                       [ 2.9559e-01, -2.2778e-01, -3.2563e-01],\n",
       "                       [ 9.1069e-02, -7.4296e-02,  5.1050e-02],\n",
       "                       [ 9.2766e-02,  8.7675e-02,  1.1024e-01]],\n",
       "              \n",
       "                      [[ 1.6878e-01, -2.3548e-01, -5.4253e-02],\n",
       "                       [-4.1824e-01,  2.2953e-02, -2.9038e-01],\n",
       "                       [ 1.8619e-01,  1.1559e-01, -9.9368e-02],\n",
       "                       [ 3.4480e-02, -3.8756e-01, -5.8668e-02],\n",
       "                       [ 3.7158e-02, -1.0534e-01,  4.3718e-02],\n",
       "                       [-2.0988e-01,  1.3240e-02,  2.6725e-01],\n",
       "                       [-5.3849e-02, -1.1328e-01, -3.1516e-02],\n",
       "                       [-2.7144e-01, -2.2405e-03, -6.9148e-02],\n",
       "                       [ 7.9222e-02, -3.2669e-01, -3.3747e-02],\n",
       "                       [-1.9937e-01,  3.1098e-01, -2.3193e-01],\n",
       "                       [ 5.9088e-04,  3.2175e-01,  2.4321e-01],\n",
       "                       [-3.6196e-01,  9.9196e-03, -9.3582e-03],\n",
       "                       [ 2.8578e-01,  3.8694e-01,  3.1558e-01],\n",
       "                       [-3.0526e-01,  2.1706e-01,  6.5385e-02],\n",
       "                       [ 2.8492e-01,  3.0215e-01,  7.4556e-02],\n",
       "                       [-1.7427e-01,  3.5882e-01,  2.5529e-01]],\n",
       "              \n",
       "                      [[ 1.5121e-01,  1.9280e-01, -4.2655e-01],\n",
       "                       [ 2.2366e-01, -7.1807e-02, -2.9188e-02],\n",
       "                       [ 4.9609e-04, -1.1343e-01, -1.8887e-01],\n",
       "                       [ 1.9561e-02,  2.1099e-01,  2.5126e-01],\n",
       "                       [ 2.4103e-01,  3.2621e-01, -1.7176e-01],\n",
       "                       [-1.9501e-01,  1.8891e-01,  5.8252e-02],\n",
       "                       [-4.0281e-01, -1.2383e-01,  2.1078e-02],\n",
       "                       [-2.5946e-01,  2.3828e-01, -2.7630e-01],\n",
       "                       [-3.2365e-01,  2.3580e-01,  4.0420e-01],\n",
       "                       [-6.8394e-02, -5.4336e-02, -1.0272e-01],\n",
       "                       [ 6.8496e-02,  3.0491e-01,  1.4179e-01],\n",
       "                       [ 9.9835e-02, -1.9917e-01, -1.9907e-01],\n",
       "                       [-9.1480e-02, -9.8383e-02,  2.0445e-01],\n",
       "                       [-2.6626e-01, -1.5098e-01,  2.0741e-02],\n",
       "                       [-2.0178e-01, -2.6154e-01, -2.4843e-02],\n",
       "                       [ 8.4486e-02, -2.2279e-01, -2.6756e-03]],\n",
       "              \n",
       "                      [[-2.0021e-01,  3.3882e-01,  3.0464e-01],\n",
       "                       [-8.6051e-02, -1.7990e-01, -2.9602e-01],\n",
       "                       [-8.0411e-02, -3.3317e-01, -2.2771e-01],\n",
       "                       [ 4.3610e-01,  3.9674e-01, -1.8084e-01],\n",
       "                       [ 2.8563e-01,  2.4763e-01,  2.6516e-01],\n",
       "                       [ 1.8629e-01, -9.5167e-02, -7.9774e-02],\n",
       "                       [ 2.5057e-01, -2.3327e-02,  2.7188e-02],\n",
       "                       [-2.4974e-01,  1.4144e-01, -1.2136e-01],\n",
       "                       [ 1.3899e-01, -2.3532e-01, -3.2586e-01],\n",
       "                       [-9.8305e-02, -2.3964e-01,  3.6686e-01],\n",
       "                       [ 9.3067e-02, -7.3110e-02,  3.4909e-02],\n",
       "                       [-3.4551e-01, -4.5198e-03, -1.6041e-01],\n",
       "                       [-1.1124e-01,  3.8474e-01,  2.9332e-01],\n",
       "                       [-5.0156e-01,  7.6189e-02,  1.2348e-01],\n",
       "                       [ 3.2538e-01, -2.1284e-03,  1.3613e-01],\n",
       "                       [-4.4246e-01, -4.2888e-01, -2.9871e-01]],\n",
       "              \n",
       "                      [[-1.0552e-01,  4.6988e-01,  3.4799e-01],\n",
       "                       [-3.0605e-01, -1.5205e-01, -2.6069e-01],\n",
       "                       [ 1.1557e-01, -6.9411e-02,  1.4047e-01],\n",
       "                       [-1.8613e-01,  1.9657e-01,  3.7957e-01],\n",
       "                       [ 5.3969e-02,  8.2798e-02, -2.8944e-01],\n",
       "                       [ 1.0494e-01, -1.2482e-02, -1.9348e-01],\n",
       "                       [ 1.6955e-01,  1.6011e-01, -1.0879e-01],\n",
       "                       [-1.2280e-01,  4.4011e-01,  3.0064e-01],\n",
       "                       [ 1.3298e-01, -1.1198e-01,  2.5355e-01],\n",
       "                       [ 3.7330e-01, -1.3898e-01,  2.4179e-01],\n",
       "                       [-4.2230e-02,  1.2135e-01,  2.9635e-01],\n",
       "                       [-2.7841e-01, -1.3813e-01, -1.0339e-01],\n",
       "                       [-2.6144e-01,  1.7506e-01,  1.0075e-01],\n",
       "                       [ 2.6580e-02,  2.4155e-01, -1.9101e-01],\n",
       "                       [ 2.1541e-01,  7.0590e-03,  1.9860e-01],\n",
       "                       [ 2.6885e-01, -7.7661e-02,  2.3103e-01]],\n",
       "              \n",
       "                      [[-5.2036e-02, -1.2145e-02,  5.3379e-02],\n",
       "                       [-2.2416e-01,  4.8133e-02,  2.8953e-01],\n",
       "                       [-1.8384e-02, -4.1642e-02,  1.2709e-01],\n",
       "                       [ 4.6817e-01,  1.0453e-01,  3.0901e-01],\n",
       "                       [ 2.1215e-01,  2.0184e-01, -1.7331e-01],\n",
       "                       [-7.8567e-02,  1.0596e-01, -2.5931e-01],\n",
       "                       [-4.2308e-01, -1.7780e-01, -7.1553e-02],\n",
       "                       [-1.5016e-01, -1.3773e-01,  2.1023e-01],\n",
       "                       [ 9.9920e-02, -1.9176e-01, -1.5820e-01],\n",
       "                       [ 1.4208e-01,  2.5917e-01,  2.9800e-01],\n",
       "                       [ 1.8398e-01,  3.7673e-02, -1.4917e-01],\n",
       "                       [ 1.2924e-01, -1.8547e-01, -1.2629e-01],\n",
       "                       [ 8.8142e-02, -6.4913e-02, -3.8605e-02],\n",
       "                       [-3.4474e-01,  6.1943e-03,  1.9314e-01],\n",
       "                       [-2.6788e-01,  3.4999e-01,  2.2185e-01],\n",
       "                       [ 1.5880e-01,  1.2453e-01,  2.6340e-01]],\n",
       "              \n",
       "                      [[ 1.5688e-01, -3.0212e-01,  1.5719e-02],\n",
       "                       [-1.4347e-01,  2.5641e-01, -2.3772e-01],\n",
       "                       [ 9.0256e-03,  2.6135e-02, -2.6129e-01],\n",
       "                       [ 1.3137e-01, -9.9287e-02, -2.3013e-01],\n",
       "                       [-1.1799e-01,  2.3130e-01,  2.8813e-01],\n",
       "                       [ 2.7296e-01, -1.4328e-02,  3.3417e-01],\n",
       "                       [ 1.2110e-01, -1.7519e-02,  3.2931e-01],\n",
       "                       [-1.8073e-01,  7.9866e-02, -2.4843e-01],\n",
       "                       [ 1.6393e-01, -1.7422e-01,  4.5270e-01],\n",
       "                       [-1.1198e-01,  4.5018e-02,  4.9724e-02],\n",
       "                       [ 3.2131e-01, -1.8606e-01,  1.0288e-01],\n",
       "                       [-1.9125e-01, -2.2235e-01,  7.6428e-02],\n",
       "                       [ 8.7843e-02, -5.2830e-02,  2.3360e-01],\n",
       "                       [ 2.8194e-01, -3.4752e-01, -2.4809e-02],\n",
       "                       [-1.8640e-01, -2.2552e-01,  1.0055e-01],\n",
       "                       [-3.0073e-01, -2.7089e-01, -4.8956e-02]],\n",
       "              \n",
       "                      [[-1.6797e-01, -7.0532e-03, -2.0737e-01],\n",
       "                       [ 2.5296e-01,  2.6620e-01,  8.9701e-02],\n",
       "                       [ 2.1861e-01, -1.4709e-01, -2.4550e-01],\n",
       "                       [-2.0894e-01, -3.2365e-01,  3.9735e-02],\n",
       "                       [-2.3844e-01, -3.4003e-02, -1.4516e-01],\n",
       "                       [-2.8335e-01, -7.9079e-02,  4.2695e-01],\n",
       "                       [-3.4112e-01,  2.2313e-01,  1.8334e-01],\n",
       "                       [ 1.7833e-01,  6.8989e-02,  1.3029e-01],\n",
       "                       [ 5.5190e-01,  1.4504e-01, -2.4257e-01],\n",
       "                       [ 1.9202e-01,  4.3271e-02,  5.6882e-02],\n",
       "                       [-2.3053e-01, -1.0404e-01,  1.5569e-02],\n",
       "                       [-5.5710e-02, -1.0969e-01,  3.8552e-01],\n",
       "                       [ 2.9093e-01, -1.8426e-01,  2.6219e-01],\n",
       "                       [ 2.4383e-01,  1.1048e-01, -1.6812e-01],\n",
       "                       [-2.7605e-02,  1.6992e-02,  1.1099e-01],\n",
       "                       [-1.9932e-02,  2.0602e-02,  2.8105e-01]],\n",
       "              \n",
       "                      [[-2.0561e-01, -4.2179e-03,  1.2052e-01],\n",
       "                       [-4.3339e-02, -1.4275e-01,  1.5734e-01],\n",
       "                       [ 1.9245e-01,  1.6200e-01,  1.2921e-01],\n",
       "                       [-2.3093e-01, -1.4671e-01,  2.2905e-01],\n",
       "                       [-3.3037e-01, -3.0884e-01, -2.0117e-01],\n",
       "                       [-1.0994e-01,  3.4678e-01, -1.4648e-02],\n",
       "                       [ 3.8034e-02,  2.3047e-01, -3.3860e-01],\n",
       "                       [ 4.6765e-01,  3.3991e-01,  4.4170e-01],\n",
       "                       [-1.3250e-01,  1.6046e-01, -2.6779e-01],\n",
       "                       [ 4.9797e-02,  5.0092e-02,  1.7312e-01],\n",
       "                       [-1.2243e-01, -4.2028e-01, -2.0154e-01],\n",
       "                       [-5.5828e-02, -3.8706e-01,  3.6561e-01],\n",
       "                       [ 1.5067e-01,  4.4652e-01,  1.7466e-01],\n",
       "                       [-1.8085e-01, -4.3134e-01,  4.1695e-01],\n",
       "                       [ 3.0066e-01,  6.4758e-02,  4.1265e-01],\n",
       "                       [ 2.6899e-01,  3.2532e-01, -1.6239e-01]],\n",
       "              \n",
       "                      [[ 1.6360e-03,  7.4627e-02, -4.4645e-02],\n",
       "                       [ 9.2281e-02,  1.2877e-01,  2.9185e-01],\n",
       "                       [-2.1836e-01, -1.9892e-01,  2.3763e-01],\n",
       "                       [-2.0260e-01,  1.3014e-01,  5.3050e-02],\n",
       "                       [-1.3550e-01,  1.0412e-01, -2.0922e-01],\n",
       "                       [-1.2357e-01, -3.1204e-01,  7.7456e-02],\n",
       "                       [-3.6361e-01, -2.9148e-01, -1.6765e-01],\n",
       "                       [-3.2407e-01, -1.8041e-01,  2.7315e-01],\n",
       "                       [ 2.2040e-01,  2.4387e-01, -1.4382e-01],\n",
       "                       [-2.7837e-01, -3.2482e-02,  1.2699e-01],\n",
       "                       [-4.2263e-02,  1.0518e-01, -1.7263e-01],\n",
       "                       [ 3.0236e-01,  7.8172e-02, -1.6891e-02],\n",
       "                       [-4.0300e-01,  1.9057e-01,  1.6793e-01],\n",
       "                       [-1.4164e-01,  1.9932e-01,  4.7393e-02],\n",
       "                       [ 2.3178e-01, -2.9677e-02,  1.3459e-01],\n",
       "                       [ 2.2778e-01,  2.2313e-02,  1.5871e-01]],\n",
       "              \n",
       "                      [[-3.6267e-01, -5.8430e-02, -4.3381e-02],\n",
       "                       [ 1.0417e-01,  7.2704e-03,  2.8131e-01],\n",
       "                       [ 1.3800e-02,  3.7633e-01,  2.8928e-01],\n",
       "                       [-5.7365e-02,  1.7858e-01,  7.0059e-02],\n",
       "                       [ 4.7574e-02,  4.6993e-02,  1.7669e-01],\n",
       "                       [ 1.9458e-01, -2.5293e-01,  4.8172e-01],\n",
       "                       [ 5.0682e-01, -1.0874e-01,  1.1878e-01],\n",
       "                       [-2.9602e-01, -4.3291e-03,  2.6871e-01],\n",
       "                       [ 4.2384e-01,  1.6137e-01, -1.4091e-01],\n",
       "                       [ 1.8533e-01, -2.4239e-01, -2.1195e-01],\n",
       "                       [ 3.2232e-02,  2.2426e-01, -1.4014e-01],\n",
       "                       [ 1.1560e-01, -1.2880e-01,  9.5158e-02],\n",
       "                       [ 3.6948e-01, -7.3670e-02, -2.3614e-02],\n",
       "                       [-1.4848e-01,  3.1784e-01, -2.4789e-01],\n",
       "                       [ 1.1837e-01,  6.4773e-02, -1.9820e-01],\n",
       "                       [-6.5369e-02, -1.3165e-01, -7.4499e-02]],\n",
       "              \n",
       "                      [[ 1.9948e-01,  2.6000e-01, -2.7437e-01],\n",
       "                       [-3.0741e-01,  3.4634e-01, -2.4619e-02],\n",
       "                       [ 1.3401e-01,  3.3689e-01, -3.9456e-01],\n",
       "                       [ 5.1458e-02, -3.1943e-01, -2.4706e-01],\n",
       "                       [ 1.5089e-01,  2.5313e-01, -7.5306e-02],\n",
       "                       [ 4.2243e-02,  2.1105e-01, -8.3918e-02],\n",
       "                       [-1.5111e-01, -2.5246e-01, -2.9999e-01],\n",
       "                       [ 6.6659e-02,  4.8898e-02, -2.5708e-01],\n",
       "                       [ 3.8218e-03, -1.8210e-01, -1.6976e-01],\n",
       "                       [-3.4234e-01, -3.4117e-01,  1.1780e-01],\n",
       "                       [ 1.8060e-01,  2.5460e-01, -1.9121e-01],\n",
       "                       [ 4.1730e-01, -6.8809e-02, -1.8674e-01],\n",
       "                       [ 1.9409e-01, -6.8892e-02, -5.1834e-01],\n",
       "                       [ 1.6334e-01,  2.7823e-01, -3.1238e-01],\n",
       "                       [-1.9143e-01,  1.2860e-01,  1.7572e-01],\n",
       "                       [ 2.0305e-01,  2.1539e-01, -2.9268e-01]],\n",
       "              \n",
       "                      [[ 1.7571e-01, -2.6845e-01, -1.5585e-01],\n",
       "                       [-3.6882e-02, -1.9992e-01,  3.2121e-02],\n",
       "                       [-8.8820e-02, -1.1402e-01, -1.0364e-01],\n",
       "                       [ 2.2452e-01, -3.0562e-01,  9.6029e-02],\n",
       "                       [ 2.9915e-02,  1.6279e-01,  4.6281e-01],\n",
       "                       [ 2.6223e-01,  6.5748e-02,  3.4917e-01],\n",
       "                       [-2.4848e-01, -2.5238e-01,  1.6398e-01],\n",
       "                       [ 4.4371e-01, -1.1473e-01, -8.4300e-02],\n",
       "                       [ 4.4331e-01, -2.2210e-01,  3.5162e-01],\n",
       "                       [ 4.0680e-01,  3.7190e-01, -1.8774e-01],\n",
       "                       [-8.0036e-02,  3.9155e-02, -2.9825e-01],\n",
       "                       [-1.7514e-01,  9.9652e-02,  2.8289e-01],\n",
       "                       [-1.3894e-01, -5.3639e-02, -3.4436e-01],\n",
       "                       [-2.5051e-01, -1.8453e-01, -2.9894e-01],\n",
       "                       [-1.2486e-01, -3.1309e-02, -2.0718e-01],\n",
       "                       [ 1.7091e-01,  1.1684e-02, -2.1109e-01]],\n",
       "              \n",
       "                      [[ 3.0179e-01, -4.8831e-02, -4.5610e-01],\n",
       "                       [-2.0687e-01,  6.2163e-02,  1.8198e-01],\n",
       "                       [-7.8351e-02, -3.1587e-02, -2.4443e-02],\n",
       "                       [ 1.4906e-01, -1.5175e-01,  1.4156e-01],\n",
       "                       [-1.8521e-01,  1.5784e-01,  5.0028e-03],\n",
       "                       [ 2.5278e-01, -6.9327e-02, -3.8694e-01],\n",
       "                       [ 6.3997e-02,  2.0791e-01, -4.4077e-02],\n",
       "                       [ 3.5554e-01, -2.8547e-01, -4.2334e-02],\n",
       "                       [-9.5772e-02,  1.9793e-01, -2.0389e-01],\n",
       "                       [ 8.3041e-02,  1.5573e-02,  3.3154e-01],\n",
       "                       [ 4.2868e-01, -1.4437e-01,  1.3139e-01],\n",
       "                       [-9.8105e-02,  8.1540e-02, -1.9376e-01],\n",
       "                       [-3.8365e-02,  3.6775e-04, -1.3051e-01],\n",
       "                       [-5.0906e-02,  1.9360e-01, -1.6185e-01],\n",
       "                       [ 2.6127e-01,  1.1458e-01, -3.4797e-01],\n",
       "                       [ 8.7265e-03, -3.0905e-01, -6.9068e-02]],\n",
       "              \n",
       "                      [[ 9.4786e-02, -1.9794e-01,  1.6896e-01],\n",
       "                       [-1.6247e-01,  2.3802e-01, -2.9669e-01],\n",
       "                       [ 1.6255e-01, -1.2993e-01,  4.2004e-01],\n",
       "                       [ 1.4494e-01,  2.6127e-01, -2.7976e-01],\n",
       "                       [ 3.5668e-01, -1.8061e-01, -1.0028e-01],\n",
       "                       [ 1.1612e-01,  6.0527e-02,  7.6133e-02],\n",
       "                       [ 1.8061e-02,  3.0799e-01,  2.9104e-01],\n",
       "                       [ 3.3566e-02,  2.7784e-01,  4.0537e-01],\n",
       "                       [ 1.5190e-01, -3.2525e-01,  3.8797e-01],\n",
       "                       [ 2.8602e-01,  2.7964e-01,  3.1251e-01],\n",
       "                       [ 1.9492e-02, -8.1886e-02, -1.4692e-01],\n",
       "                       [-7.3723e-02, -1.1556e-01, -1.3010e-01],\n",
       "                       [-1.3474e-01, -6.1000e-02, -4.2380e-01],\n",
       "                       [-2.4799e-01, -2.1900e-02,  1.0376e-01],\n",
       "                       [ 3.9989e-01, -1.9863e-01,  3.7532e-01],\n",
       "                       [ 2.3540e-01, -1.5900e-01,  1.5568e-01]]], device='cuda:0')),\n",
       "             ('module.model.model.1.gate_convs.6.bias',\n",
       "              tensor([-0.0112, -0.0141,  0.0096, -0.0560, -0.0274,  0.0030,  0.0648,  0.0592,\n",
       "                      -0.0511, -0.0516,  0.0095,  0.0057, -0.0515,  0.0787,  0.0749, -0.0773],\n",
       "                     device='cuda:0')),\n",
       "             ('module.model.model.1.gate_convs.7.weight',\n",
       "              tensor([[[-3.3486e-01, -1.9561e-01, -1.6174e-01],\n",
       "                       [-5.1723e-02, -3.3132e-02,  2.8356e-01],\n",
       "                       [ 1.2532e-01,  2.8303e-01,  2.3925e-01],\n",
       "                       [-8.4673e-02, -1.2833e-01,  4.5589e-02],\n",
       "                       [ 1.7181e-02, -3.0942e-01, -2.5402e-01],\n",
       "                       [-1.7768e-01,  1.6955e-02, -3.1895e-01],\n",
       "                       [-2.7162e-01,  7.8448e-02, -1.6980e-01],\n",
       "                       [ 4.0081e-01,  2.7975e-01,  2.1368e-01],\n",
       "                       [-2.1201e-01, -2.1626e-01, -1.5491e-01],\n",
       "                       [ 1.5253e-01,  3.4278e-02,  2.5623e-01],\n",
       "                       [-2.3384e-01, -1.1595e-01,  2.3906e-01],\n",
       "                       [-2.1360e-01,  8.1542e-02,  3.3203e-01],\n",
       "                       [ 2.2798e-02, -2.8008e-01,  1.0152e-01],\n",
       "                       [ 1.2809e-01,  2.8894e-01, -1.7528e-01],\n",
       "                       [ 3.7309e-01, -8.6641e-02,  1.0100e-01],\n",
       "                       [ 1.0639e-02, -3.2808e-01,  1.9167e-01]],\n",
       "              \n",
       "                      [[-4.0615e-01, -2.8842e-01,  3.1506e-01],\n",
       "                       [-1.8265e-01,  5.6951e-02,  1.3895e-01],\n",
       "                       [-1.2267e-01,  9.3318e-02,  2.1976e-01],\n",
       "                       [ 2.2912e-01, -2.1720e-01,  3.9800e-01],\n",
       "                       [ 1.1582e-01,  1.3801e-01, -3.6836e-01],\n",
       "                       [ 1.4907e-01, -1.2031e-01,  2.2608e-01],\n",
       "                       [-1.7658e-02,  1.1114e-01,  3.6922e-01],\n",
       "                       [-1.8834e-01,  7.0071e-02,  1.7067e-01],\n",
       "                       [-1.2726e-01,  3.3253e-01,  7.1937e-02],\n",
       "                       [-9.4203e-02, -3.0294e-02,  3.4406e-01],\n",
       "                       [ 6.7534e-02,  2.1739e-01,  1.9340e-01],\n",
       "                       [ 1.4436e-01, -1.5282e-01,  6.1121e-02],\n",
       "                       [ 1.8211e-01,  2.4403e-01,  3.0881e-01],\n",
       "                       [ 4.2598e-02,  4.2851e-01, -1.8596e-01],\n",
       "                       [ 1.8723e-01, -5.0595e-02, -1.9193e-01],\n",
       "                       [-3.9555e-02,  1.3104e-02,  1.9969e-01]],\n",
       "              \n",
       "                      [[-1.6792e-01,  6.3736e-03, -8.7804e-02],\n",
       "                       [ 3.0938e-01,  1.6024e-01,  4.8586e-01],\n",
       "                       [ 1.9914e-01,  2.7431e-02, -2.3948e-01],\n",
       "                       [-1.7223e-01,  2.0514e-02, -1.7471e-01],\n",
       "                       [ 2.7785e-01,  2.1148e-01, -1.2378e-01],\n",
       "                       [ 3.0688e-01, -2.5791e-02, -1.7790e-01],\n",
       "                       [ 2.5315e-01,  5.9975e-03,  4.0380e-01],\n",
       "                       [ 1.4087e-01, -2.3307e-01,  3.2288e-01],\n",
       "                       [-1.9738e-01,  5.0011e-01, -3.7427e-02],\n",
       "                       [ 9.7391e-03,  8.6023e-02, -1.6097e-01],\n",
       "                       [ 1.5955e-01, -1.8068e-01,  1.9910e-03],\n",
       "                       [-2.4509e-01, -1.6550e-01,  6.1121e-02],\n",
       "                       [-2.3110e-01, -2.5058e-01,  3.7427e-01],\n",
       "                       [-4.4207e-02, -2.1826e-01, -5.9240e-03],\n",
       "                       [-3.8535e-01, -5.5785e-01,  2.7447e-01],\n",
       "                       [ 8.1928e-02,  8.6193e-03, -3.3330e-02]],\n",
       "              \n",
       "                      [[-2.8336e-01, -2.9693e-01, -1.0034e-01],\n",
       "                       [-3.4882e-01, -2.4979e-01,  1.7343e-01],\n",
       "                       [ 1.4012e-01,  2.4754e-03, -3.3806e-01],\n",
       "                       [ 1.8748e-02,  2.8771e-01,  2.2636e-01],\n",
       "                       [-4.5289e-02,  3.7033e-01,  3.1634e-03],\n",
       "                       [ 2.4372e-02,  1.0165e-01,  3.6521e-01],\n",
       "                       [-2.1019e-01, -2.3334e-01, -2.5672e-01],\n",
       "                       [-7.2383e-02, -2.5627e-01, -1.5974e-01],\n",
       "                       [-7.7804e-02, -3.9157e-02,  2.7125e-01],\n",
       "                       [-1.0407e-01,  1.7506e-01,  5.0973e-04],\n",
       "                       [ 4.5907e-02, -2.4549e-01, -1.3140e-01],\n",
       "                       [ 3.5705e-01,  2.2400e-01, -3.3052e-01],\n",
       "                       [-2.3190e-01,  2.4126e-01, -8.3460e-03],\n",
       "                       [-2.9961e-01,  3.0144e-02,  2.7244e-01],\n",
       "                       [ 1.4589e-01, -1.0096e-01,  9.6525e-02],\n",
       "                       [-2.0492e-01, -5.0384e-01,  8.7430e-02]],\n",
       "              \n",
       "                      [[-3.6982e-01,  2.2729e-01, -6.2666e-03],\n",
       "                       [ 2.0956e-01,  1.0890e-03, -2.5268e-01],\n",
       "                       [-1.1971e-01, -8.6939e-02,  2.8855e-01],\n",
       "                       [ 1.8935e-01, -8.0657e-02, -1.6592e-01],\n",
       "                       [ 5.2810e-02,  1.6852e-01,  2.8512e-01],\n",
       "                       [-1.7504e-01,  3.6396e-01, -9.1408e-02],\n",
       "                       [-5.3644e-02,  4.0030e-01,  4.5647e-01],\n",
       "                       [ 5.3697e-01,  2.0809e-01, -1.1023e-01],\n",
       "                       [-7.6034e-02, -2.3300e-01, -2.7111e-01],\n",
       "                       [ 7.5396e-03, -1.6517e-01,  4.1220e-01],\n",
       "                       [-3.6320e-01,  2.2249e-01, -1.8736e-01],\n",
       "                       [ 1.5453e-01,  3.0271e-01, -2.5266e-02],\n",
       "                       [-4.9517e-02,  4.1634e-01, -2.4688e-01],\n",
       "                       [ 2.7353e-01,  1.5235e-02,  1.9313e-03],\n",
       "                       [ 1.6287e-01,  2.4865e-01, -2.2271e-02],\n",
       "                       [ 6.7149e-02,  1.4655e-01,  2.1279e-01]],\n",
       "              \n",
       "                      [[-1.1719e-01,  4.0340e-01, -1.4311e-01],\n",
       "                       [ 1.1145e-01,  9.7911e-02,  1.3017e-01],\n",
       "                       [-2.8624e-02, -4.4104e-01, -1.4838e-01],\n",
       "                       [ 8.8348e-02,  3.5126e-01, -7.5426e-04],\n",
       "                       [-2.5056e-01, -1.0171e-01, -3.3777e-01],\n",
       "                       [-3.6828e-01, -3.1562e-01,  4.3569e-01],\n",
       "                       [-3.2848e-01, -2.6080e-01,  3.3260e-01],\n",
       "                       [ 2.4596e-01,  2.4820e-01,  6.1812e-01],\n",
       "                       [ 1.6222e-01, -1.2571e-01, -3.0431e-01],\n",
       "                       [ 1.3836e-01,  2.4875e-01, -1.7218e-01],\n",
       "                       [-2.8630e-01, -1.4699e-01, -9.8337e-03],\n",
       "                       [-1.3632e-02, -2.9035e-01,  8.4175e-02],\n",
       "                       [-1.5263e-01, -1.3072e-01,  2.3757e-01],\n",
       "                       [-2.8618e-01,  8.4364e-02,  2.6059e-01],\n",
       "                       [-4.4574e-01,  2.3842e-01, -3.4832e-01],\n",
       "                       [-1.9231e-01, -5.7735e-02,  9.1666e-02]],\n",
       "              \n",
       "                      [[-5.3044e-02,  2.3549e-01, -2.0568e-01],\n",
       "                       [-4.7928e-02,  3.0426e-01, -1.7724e-01],\n",
       "                       [ 4.5143e-02, -2.2471e-01,  8.3570e-03],\n",
       "                       [-1.7851e-01,  4.0070e-01,  4.0969e-01],\n",
       "                       [-1.5213e-01,  2.7755e-01,  2.0902e-01],\n",
       "                       [-1.0537e-01,  1.9282e-01,  1.1820e-01],\n",
       "                       [ 1.5911e-01,  2.9393e-01,  3.0178e-01],\n",
       "                       [-5.8365e-02,  1.0621e-01,  7.6058e-02],\n",
       "                       [ 3.0636e-01,  2.0378e-01,  2.4218e-01],\n",
       "                       [ 1.6114e-01,  3.0276e-03, -4.4300e-01],\n",
       "                       [-3.1562e-02,  1.5834e-01,  2.4007e-01],\n",
       "                       [-2.4152e-01, -3.6977e-01, -4.0922e-02],\n",
       "                       [ 2.7269e-01, -2.9674e-01,  1.4553e-01],\n",
       "                       [-5.8734e-02, -1.3352e-01,  3.4084e-01],\n",
       "                       [-2.8335e-01,  2.0857e-01,  3.5720e-02],\n",
       "                       [-2.5143e-02,  3.4904e-01, -6.5412e-03]],\n",
       "              \n",
       "                      [[-2.0840e-01,  1.0125e-01,  1.8476e-01],\n",
       "                       [-6.2640e-02, -9.9116e-02,  7.4793e-02],\n",
       "                       [ 3.9419e-01, -5.3296e-02, -1.2969e-01],\n",
       "                       [ 2.4129e-01, -2.6319e-01, -4.2924e-02],\n",
       "                       [-3.6536e-01,  3.3369e-02, -9.0562e-02],\n",
       "                       [-2.4060e-01, -3.7791e-01,  3.5581e-01],\n",
       "                       [ 2.8193e-01, -1.4596e-01,  1.6546e-01],\n",
       "                       [ 2.7579e-01, -3.0888e-01,  7.4672e-02],\n",
       "                       [-1.7162e-02,  1.0528e-01, -1.9575e-01],\n",
       "                       [-2.9042e-02,  1.8161e-01,  3.0548e-01],\n",
       "                       [-3.9051e-01, -1.4597e-01, -2.0764e-02],\n",
       "                       [-2.6608e-01,  2.5871e-01, -1.0049e-01],\n",
       "                       [ 1.4886e-01,  2.6370e-01, -7.5349e-02],\n",
       "                       [ 2.2866e-01, -1.7494e-01, -1.5798e-01],\n",
       "                       [ 5.0554e-02, -1.0039e-01,  1.1174e-01],\n",
       "                       [ 3.1594e-01, -5.3770e-02,  8.3403e-02]],\n",
       "              \n",
       "                      [[ 1.2022e-01,  1.9346e-01, -1.0944e-01],\n",
       "                       [ 8.3306e-02, -1.0697e-02, -3.1869e-01],\n",
       "                       [ 9.1208e-02,  1.3766e-01,  2.3734e-01],\n",
       "                       [ 2.8104e-01, -1.5793e-01, -1.0248e-01],\n",
       "                       [-7.4252e-03,  3.9435e-01,  3.4351e-01],\n",
       "                       [-3.1275e-01,  5.7032e-02, -1.7614e-01],\n",
       "                       [ 1.4146e-01, -1.7450e-02,  6.4873e-02],\n",
       "                       [-2.4909e-01, -2.5538e-01, -3.9677e-01],\n",
       "                       [-1.5291e-01, -2.4715e-01, -1.5839e-01],\n",
       "                       [ 7.3353e-02,  1.1016e-01,  1.5672e-01],\n",
       "                       [-1.4888e-01, -2.1861e-01,  1.9198e-01],\n",
       "                       [ 9.5728e-02, -3.5212e-03,  1.5387e-01],\n",
       "                       [-1.1615e-01,  3.0977e-02,  3.5747e-01],\n",
       "                       [ 2.6832e-01, -2.6616e-01,  3.1211e-01],\n",
       "                       [-3.3081e-01, -2.8880e-01, -2.4446e-02],\n",
       "                       [-6.0731e-02, -3.5434e-01, -1.7959e-01]],\n",
       "              \n",
       "                      [[ 1.4592e-01,  1.8420e-01, -1.6766e-01],\n",
       "                       [-1.0353e-02, -2.4335e-02, -2.3982e-01],\n",
       "                       [ 1.8507e-01,  4.1185e-02,  3.1455e-01],\n",
       "                       [ 9.1955e-02,  1.4038e-01, -1.0433e-01],\n",
       "                       [-1.6454e-01,  7.7310e-02,  2.0211e-02],\n",
       "                       [-2.1541e-01,  1.0206e-01, -3.1713e-01],\n",
       "                       [-9.8465e-02, -2.6096e-02,  2.1501e-01],\n",
       "                       [-2.2444e-01,  1.2722e-02, -2.9239e-01],\n",
       "                       [-6.1531e-03,  2.7010e-01,  2.3395e-01],\n",
       "                       [ 2.1764e-01, -2.9584e-02, -1.2329e-01],\n",
       "                       [ 3.4510e-01, -1.1627e-01,  1.3427e-01],\n",
       "                       [-1.0558e-01,  3.1391e-01, -5.1506e-02],\n",
       "                       [ 3.3586e-03, -1.5859e-01, -2.9738e-01],\n",
       "                       [ 1.1020e-01, -3.0611e-01,  1.0835e-01],\n",
       "                       [-4.4101e-02, -5.0242e-01,  3.0526e-02],\n",
       "                       [ 1.6251e-01,  3.0248e-01,  1.1706e-01]],\n",
       "              \n",
       "                      [[-1.7410e-01,  3.3522e-01,  9.9535e-02],\n",
       "                       [ 3.9094e-01, -3.1178e-01, -4.0428e-02],\n",
       "                       [-1.9367e-01,  3.1130e-02,  1.9995e-01],\n",
       "                       [-6.8388e-02,  2.4545e-01,  5.5870e-01],\n",
       "                       [ 3.0774e-01, -7.0512e-02, -1.9878e-01],\n",
       "                       [-6.5637e-02, -2.7314e-02, -3.6047e-02],\n",
       "                       [ 1.4405e-02,  7.2100e-02, -2.5534e-01],\n",
       "                       [ 3.0967e-01, -6.9641e-02,  1.4735e-01],\n",
       "                       [-3.3452e-02,  3.3833e-01,  1.7764e-01],\n",
       "                       [-1.7222e-02,  1.3180e-02,  5.0376e-02],\n",
       "                       [ 3.1031e-01, -1.1429e-01, -5.3621e-02],\n",
       "                       [-2.7189e-01, -2.0813e-02, -2.0227e-01],\n",
       "                       [-7.5806e-02,  1.5984e-01,  1.6459e-01],\n",
       "                       [ 1.1552e-01,  1.5692e-01,  1.3094e-01],\n",
       "                       [-1.7454e-01, -3.2365e-02, -8.1036e-02],\n",
       "                       [ 4.1117e-01,  1.7502e-01,  2.1107e-01]],\n",
       "              \n",
       "                      [[-1.1339e-01, -3.3683e-01, -2.4412e-01],\n",
       "                       [ 1.1999e-01, -3.4635e-01,  3.4940e-01],\n",
       "                       [-3.0622e-01,  4.3404e-01, -2.4907e-01],\n",
       "                       [-1.9129e-02, -2.7848e-02, -1.2756e-01],\n",
       "                       [ 1.3898e-01,  1.7579e-01, -1.0547e-01],\n",
       "                       [-8.9916e-02, -1.0238e-01, -2.7488e-01],\n",
       "                       [ 4.2997e-01, -5.6581e-02,  5.7289e-02],\n",
       "                       [-6.8527e-02,  1.6794e-01,  2.0080e-01],\n",
       "                       [-1.8717e-01, -2.3529e-01, -1.1561e-01],\n",
       "                       [-2.4384e-02, -2.4430e-01, -3.5159e-02],\n",
       "                       [-1.8181e-01,  1.6479e-01, -2.2892e-01],\n",
       "                       [ 2.8801e-01,  3.5857e-01,  5.1713e-01],\n",
       "                       [-1.9722e-01, -2.1987e-01,  2.9650e-01],\n",
       "                       [ 3.2716e-02,  3.3183e-01,  1.2886e-01],\n",
       "                       [ 1.0927e-01,  1.8646e-01, -3.1899e-02],\n",
       "                       [-3.5426e-02, -2.9144e-01,  1.3092e-01]],\n",
       "              \n",
       "                      [[-3.7336e-02, -1.5034e-01,  1.1962e-01],\n",
       "                       [-2.6079e-01,  3.0042e-01, -3.8503e-01],\n",
       "                       [-1.4405e-01, -2.0014e-01, -2.2090e-01],\n",
       "                       [-3.7090e-02,  7.3932e-02,  1.1800e-01],\n",
       "                       [ 9.2474e-02,  9.6502e-02,  1.7592e-01],\n",
       "                       [ 3.9301e-01, -1.2958e-01, -1.1632e-01],\n",
       "                       [-1.4088e-01,  2.2267e-02,  2.9198e-01],\n",
       "                       [ 3.3899e-01, -1.5975e-01,  1.7647e-01],\n",
       "                       [ 2.5914e-01, -1.2021e-01,  7.8563e-02],\n",
       "                       [-2.0473e-01,  3.5150e-01, -1.4801e-01],\n",
       "                       [ 2.4106e-01, -8.1016e-02,  2.3312e-01],\n",
       "                       [ 1.5383e-01, -7.2323e-02, -6.7599e-02],\n",
       "                       [ 1.5886e-01, -2.7006e-01, -4.0951e-02],\n",
       "                       [-2.0523e-01, -3.0897e-01,  1.0852e-01],\n",
       "                       [ 2.2644e-01,  3.6440e-01, -3.9675e-01],\n",
       "                       [-5.5496e-02,  3.9280e-01,  9.1105e-02]],\n",
       "              \n",
       "                      [[ 2.0546e-01,  1.1036e-02,  2.7679e-01],\n",
       "                       [-4.1037e-01,  7.7550e-02,  6.5958e-02],\n",
       "                       [ 1.6488e-01,  1.2237e-01, -2.6416e-01],\n",
       "                       [-1.1536e-01,  1.1173e-01,  7.1409e-02],\n",
       "                       [-3.2410e-01, -1.5023e-01,  7.1037e-02],\n",
       "                       [-6.1912e-04,  2.1808e-01, -1.8390e-01],\n",
       "                       [ 1.6182e-01, -7.4368e-02, -1.5859e-01],\n",
       "                       [ 1.9325e-01, -2.5691e-01,  1.9555e-01],\n",
       "                       [-3.9715e-02,  1.5375e-02, -2.9767e-01],\n",
       "                       [ 4.5295e-03,  2.3333e-01,  1.5652e-01],\n",
       "                       [ 3.9626e-02,  1.2545e-01, -1.1357e-02],\n",
       "                       [ 1.2821e-01, -1.1073e-01, -4.5178e-01],\n",
       "                       [-2.6304e-01,  8.1365e-02, -8.8897e-02],\n",
       "                       [ 2.3952e-01, -3.0866e-01, -3.8264e-01],\n",
       "                       [-5.0260e-01, -2.4229e-01, -5.4340e-01],\n",
       "                       [ 2.2860e-01,  2.9490e-02,  1.0525e-01]],\n",
       "              \n",
       "                      [[ 1.9075e-01, -1.9605e-01,  2.1583e-01],\n",
       "                       [ 1.2570e-01,  2.8167e-01, -9.9544e-02],\n",
       "                       [ 1.2467e-02, -1.1629e-01,  1.0971e-01],\n",
       "                       [ 2.3130e-01,  1.7216e-01,  2.7052e-01],\n",
       "                       [-2.0653e-02, -1.7790e-01, -3.3749e-01],\n",
       "                       [-4.0170e-01, -1.6449e-01, -1.1191e-02],\n",
       "                       [-3.5354e-01,  1.2320e-01,  3.1167e-01],\n",
       "                       [-1.2371e-01,  3.7229e-02,  1.9378e-01],\n",
       "                       [ 2.3037e-01, -1.6650e-01,  1.3867e-01],\n",
       "                       [ 1.1297e-01, -1.4018e-01, -3.1165e-02],\n",
       "                       [-4.9513e-01, -4.2602e-02, -7.6085e-03],\n",
       "                       [ 1.3959e-01,  7.3770e-02, -2.6823e-01],\n",
       "                       [-2.4776e-01, -8.5010e-02, -2.0930e-01],\n",
       "                       [-1.4386e-01, -9.2811e-02,  3.4993e-02],\n",
       "                       [ 5.2838e-02, -3.8274e-02,  6.9194e-02],\n",
       "                       [ 2.4260e-01, -2.2548e-01,  1.8926e-01]],\n",
       "              \n",
       "                      [[ 7.5619e-02,  2.9366e-02, -5.6542e-02],\n",
       "                       [ 4.7613e-01,  3.3281e-01,  4.2717e-02],\n",
       "                       [-1.5240e-01,  1.3241e-01,  2.1528e-01],\n",
       "                       [-2.9683e-01, -1.1466e-02,  2.9054e-01],\n",
       "                       [ 3.3897e-02,  3.0551e-01,  2.3671e-01],\n",
       "                       [ 3.7519e-02, -7.2296e-02,  4.8791e-01],\n",
       "                       [ 8.6714e-02,  1.2962e-01,  7.2260e-02],\n",
       "                       [-1.4056e-01,  2.6652e-01,  7.7971e-02],\n",
       "                       [ 3.1036e-01, -6.2188e-03,  1.9818e-02],\n",
       "                       [-1.7515e-01,  4.9382e-02,  1.1462e-01],\n",
       "                       [-9.2517e-03, -1.1442e-01,  4.7692e-02],\n",
       "                       [ 1.4206e-01, -8.6872e-02,  4.2711e-01],\n",
       "                       [-2.0168e-01,  2.7383e-01,  4.6591e-01],\n",
       "                       [-2.8280e-02, -1.9073e-01, -2.4850e-01],\n",
       "                       [ 3.2163e-01, -3.8808e-01, -1.0221e-01],\n",
       "                       [-1.2665e-01, -6.8862e-02,  1.9855e-01]]], device='cuda:0')),\n",
       "             ('module.model.model.1.gate_convs.7.bias',\n",
       "              tensor([-0.0570,  0.0111, -0.0394,  0.0174, -0.0489,  0.0373, -0.0026,  0.0246,\n",
       "                      -0.0454, -0.0390,  0.0040, -0.1111, -0.0053,  0.0521,  0.0165, -0.0288],\n",
       "                     device='cuda:0')),\n",
       "             ('module.model.model.2.convs.0.weight',\n",
       "              tensor([[[ 2.7838e-01],\n",
       "                       [-4.3679e-01],\n",
       "                       [ 4.9775e-01],\n",
       "                       [-4.6391e-01],\n",
       "                       [-3.9568e-01],\n",
       "                       [-2.3850e-01],\n",
       "                       [-5.2274e-02],\n",
       "                       [-3.8894e-01],\n",
       "                       [ 1.0355e-01],\n",
       "                       [-1.2782e-01],\n",
       "                       [ 2.7107e-01],\n",
       "                       [ 1.3905e-01],\n",
       "                       [-3.4535e-01],\n",
       "                       [-4.6297e-01],\n",
       "                       [ 3.7194e-01],\n",
       "                       [ 4.2157e-01]],\n",
       "              \n",
       "                      [[-3.2828e-01],\n",
       "                       [ 2.1708e-01],\n",
       "                       [-3.3968e-01],\n",
       "                       [ 2.5561e-02],\n",
       "                       [-5.4811e-02],\n",
       "                       [-1.3558e-01],\n",
       "                       [ 1.4542e-01],\n",
       "                       [ 7.8009e-02],\n",
       "                       [ 2.1289e-01],\n",
       "                       [-2.4414e-01],\n",
       "                       [-2.6836e-01],\n",
       "                       [-3.3855e-01],\n",
       "                       [ 2.5622e-01],\n",
       "                       [-4.0232e-01],\n",
       "                       [ 2.9310e-01],\n",
       "                       [-3.1779e-01]],\n",
       "              \n",
       "                      [[-2.8016e-01],\n",
       "                       [ 2.5620e-01],\n",
       "                       [ 5.9205e-02],\n",
       "                       [-3.5200e-01],\n",
       "                       [-4.5141e-02],\n",
       "                       [-2.5425e-01],\n",
       "                       [ 3.2354e-02],\n",
       "                       [-3.4281e-01],\n",
       "                       [-2.1289e-01],\n",
       "                       [ 4.5005e-01],\n",
       "                       [-4.2785e-01],\n",
       "                       [ 3.6224e-01],\n",
       "                       [ 3.4392e-01],\n",
       "                       [ 5.9508e-02],\n",
       "                       [-3.7977e-02],\n",
       "                       [-1.6666e-01]],\n",
       "              \n",
       "                      [[ 4.8407e-01],\n",
       "                       [-4.4497e-01],\n",
       "                       [-1.4539e-01],\n",
       "                       [-3.5914e-01],\n",
       "                       [-1.4495e-01],\n",
       "                       [-9.7514e-02],\n",
       "                       [ 2.5070e-01],\n",
       "                       [-2.7142e-01],\n",
       "                       [ 2.0091e-01],\n",
       "                       [-2.2600e-01],\n",
       "                       [-8.2107e-02],\n",
       "                       [-1.0313e-01],\n",
       "                       [-3.2838e-01],\n",
       "                       [-5.4056e-02],\n",
       "                       [ 4.5476e-01],\n",
       "                       [ 2.1383e-01]],\n",
       "              \n",
       "                      [[-2.4223e-01],\n",
       "                       [-1.3867e-01],\n",
       "                       [-2.0585e-01],\n",
       "                       [ 2.1437e-01],\n",
       "                       [-2.5224e-01],\n",
       "                       [-4.0977e-01],\n",
       "                       [ 1.3762e-01],\n",
       "                       [ 5.0007e-01],\n",
       "                       [-4.5175e-02],\n",
       "                       [ 1.6017e-01],\n",
       "                       [ 4.6376e-01],\n",
       "                       [ 1.2471e-01],\n",
       "                       [ 8.3931e-02],\n",
       "                       [ 2.5597e-01],\n",
       "                       [-3.3960e-01],\n",
       "                       [ 6.3455e-02]],\n",
       "              \n",
       "                      [[ 4.2174e-01],\n",
       "                       [ 2.3042e-01],\n",
       "                       [-4.9453e-02],\n",
       "                       [ 4.8562e-01],\n",
       "                       [ 4.3217e-01],\n",
       "                       [ 2.5943e-01],\n",
       "                       [-3.8796e-01],\n",
       "                       [ 3.1671e-01],\n",
       "                       [-2.7070e-01],\n",
       "                       [-2.4143e-01],\n",
       "                       [-8.6908e-02],\n",
       "                       [ 1.5266e-01],\n",
       "                       [-1.8315e-01],\n",
       "                       [-7.0785e-03],\n",
       "                       [ 4.4448e-01],\n",
       "                       [ 3.5164e-01]],\n",
       "              \n",
       "                      [[-1.3755e-01],\n",
       "                       [ 1.0456e-01],\n",
       "                       [ 6.3769e-02],\n",
       "                       [ 2.6017e-01],\n",
       "                       [-3.3604e-01],\n",
       "                       [-1.8293e-01],\n",
       "                       [ 3.9075e-02],\n",
       "                       [-3.6874e-01],\n",
       "                       [-3.1133e-01],\n",
       "                       [ 3.0612e-01],\n",
       "                       [-9.1739e-02],\n",
       "                       [-5.0709e-01],\n",
       "                       [-2.3532e-01],\n",
       "                       [-4.7508e-01],\n",
       "                       [ 2.7053e-01],\n",
       "                       [ 1.6257e-01]],\n",
       "              \n",
       "                      [[ 3.7701e-01],\n",
       "                       [-2.8786e-01],\n",
       "                       [-9.1030e-02],\n",
       "                       [-2.9918e-01],\n",
       "                       [ 1.7570e-01],\n",
       "                       [-4.4338e-01],\n",
       "                       [ 9.7819e-02],\n",
       "                       [ 1.0911e-01],\n",
       "                       [-7.3723e-02],\n",
       "                       [ 7.1712e-02],\n",
       "                       [-3.2988e-01],\n",
       "                       [ 1.0412e-01],\n",
       "                       [ 4.0829e-01],\n",
       "                       [ 3.9843e-01],\n",
       "                       [-1.9339e-02],\n",
       "                       [-5.4443e-01]],\n",
       "              \n",
       "                      [[-3.9863e-01],\n",
       "                       [ 3.5664e-01],\n",
       "                       [-4.4599e-02],\n",
       "                       [ 2.7754e-02],\n",
       "                       [ 2.9299e-01],\n",
       "                       [ 2.6327e-01],\n",
       "                       [-2.2979e-02],\n",
       "                       [-3.4083e-01],\n",
       "                       [-2.8570e-01],\n",
       "                       [-3.0565e-01],\n",
       "                       [-2.3858e-01],\n",
       "                       [-4.8027e-01],\n",
       "                       [ 2.3972e-01],\n",
       "                       [-3.9823e-01],\n",
       "                       [-4.2476e-02],\n",
       "                       [-7.9356e-02]],\n",
       "              \n",
       "                      [[ 4.6726e-01],\n",
       "                       [-2.9910e-01],\n",
       "                       [-4.7515e-01],\n",
       "                       [ 5.7974e-02],\n",
       "                       [ 2.9599e-01],\n",
       "                       [ 1.6822e-01],\n",
       "                       [-3.2234e-02],\n",
       "                       [ 4.9552e-01],\n",
       "                       [-8.3358e-02],\n",
       "                       [-4.2855e-01],\n",
       "                       [-6.3807e-03],\n",
       "                       [ 1.3749e-01],\n",
       "                       [-4.0370e-01],\n",
       "                       [-4.0706e-01],\n",
       "                       [ 2.6752e-01],\n",
       "                       [ 2.9606e-01]],\n",
       "              \n",
       "                      [[-3.9484e-01],\n",
       "                       [ 3.2011e-01],\n",
       "                       [-3.4346e-01],\n",
       "                       [ 3.1072e-01],\n",
       "                       [ 1.9399e-01],\n",
       "                       [ 4.6907e-01],\n",
       "                       [-4.4721e-01],\n",
       "                       [-4.4021e-01],\n",
       "                       [-3.4174e-01],\n",
       "                       [ 1.8167e-01],\n",
       "                       [ 2.4974e-01],\n",
       "                       [-9.1787e-02],\n",
       "                       [ 1.0934e-01],\n",
       "                       [ 2.7346e-02],\n",
       "                       [ 3.1198e-01],\n",
       "                       [-1.1059e-02]],\n",
       "              \n",
       "                      [[ 1.1907e-02],\n",
       "                       [ 3.9676e-01],\n",
       "                       [ 2.0389e-01],\n",
       "                       [-1.9551e-01],\n",
       "                       [ 3.3223e-01],\n",
       "                       [ 4.3409e-01],\n",
       "                       [ 3.0926e-01],\n",
       "                       [ 9.6471e-02],\n",
       "                       [-4.7660e-01],\n",
       "                       [-3.2733e-01],\n",
       "                       [-3.6490e-01],\n",
       "                       [-2.7643e-01],\n",
       "                       [ 3.3318e-01],\n",
       "                       [ 6.3308e-02],\n",
       "                       [-3.8905e-01],\n",
       "                       [ 2.8541e-01]],\n",
       "              \n",
       "                      [[-5.0189e-02],\n",
       "                       [ 2.3767e-01],\n",
       "                       [ 4.1278e-01],\n",
       "                       [ 3.7751e-01],\n",
       "                       [-2.4618e-01],\n",
       "                       [ 4.5193e-02],\n",
       "                       [ 4.6833e-01],\n",
       "                       [ 1.7542e-01],\n",
       "                       [-2.9372e-02],\n",
       "                       [-2.5170e-01],\n",
       "                       [ 1.5449e-01],\n",
       "                       [-5.8798e-02],\n",
       "                       [-3.0051e-01],\n",
       "                       [-3.1839e-01],\n",
       "                       [ 2.5769e-01],\n",
       "                       [ 2.3640e-01]],\n",
       "              \n",
       "                      [[-4.1237e-01],\n",
       "                       [-4.1347e-01],\n",
       "                       [-4.2318e-01],\n",
       "                       [-3.2279e-01],\n",
       "                       [ 4.3930e-01],\n",
       "                       [ 3.9408e-01],\n",
       "                       [ 8.9419e-03],\n",
       "                       [-2.4019e-01],\n",
       "                       [ 1.2307e-01],\n",
       "                       [-1.4679e-01],\n",
       "                       [-1.1046e-01],\n",
       "                       [-2.6994e-01],\n",
       "                       [ 2.1431e-01],\n",
       "                       [ 6.2979e-02],\n",
       "                       [-2.5752e-02],\n",
       "                       [-3.8573e-01]],\n",
       "              \n",
       "                      [[-1.2660e-01],\n",
       "                       [-2.3588e-01],\n",
       "                       [ 1.8318e-01],\n",
       "                       [ 6.6770e-03],\n",
       "                       [-3.7874e-01],\n",
       "                       [-4.4107e-01],\n",
       "                       [-3.2541e-01],\n",
       "                       [ 1.6065e-01],\n",
       "                       [-3.1181e-01],\n",
       "                       [-1.9354e-04],\n",
       "                       [-1.2370e-01],\n",
       "                       [-3.7456e-01],\n",
       "                       [-2.3125e-02],\n",
       "                       [ 2.2641e-01],\n",
       "                       [ 6.0548e-03],\n",
       "                       [ 4.6804e-01]],\n",
       "              \n",
       "                      [[-4.8149e-01],\n",
       "                       [ 4.1405e-01],\n",
       "                       [-9.9489e-02],\n",
       "                       [-2.6418e-01],\n",
       "                       [-4.1724e-01],\n",
       "                       [ 1.8164e-01],\n",
       "                       [-3.0853e-01],\n",
       "                       [-4.2094e-02],\n",
       "                       [-6.7378e-02],\n",
       "                       [-1.5531e-01],\n",
       "                       [-1.6470e-01],\n",
       "                       [-1.9784e-01],\n",
       "                       [-4.0924e-01],\n",
       "                       [-4.2582e-01],\n",
       "                       [ 1.1371e-01],\n",
       "                       [-3.8175e-01]],\n",
       "              \n",
       "                      [[-2.8152e-01],\n",
       "                       [ 2.2838e-01],\n",
       "                       [-1.0342e-01],\n",
       "                       [ 1.2073e-01],\n",
       "                       [ 2.1183e-01],\n",
       "                       [-1.0291e-01],\n",
       "                       [-1.2633e-01],\n",
       "                       [ 3.6166e-01],\n",
       "                       [-2.5011e-01],\n",
       "                       [-3.7794e-01],\n",
       "                       [-3.0428e-01],\n",
       "                       [ 4.3647e-01],\n",
       "                       [-2.8086e-01],\n",
       "                       [ 3.3820e-01],\n",
       "                       [ 1.0138e-01],\n",
       "                       [-3.7224e-02]],\n",
       "              \n",
       "                      [[-1.0020e-01],\n",
       "                       [-4.2676e-01],\n",
       "                       [-1.4532e-01],\n",
       "                       [ 1.4093e-01],\n",
       "                       [ 3.6151e-01],\n",
       "                       [ 3.2763e-01],\n",
       "                       [-4.6286e-01],\n",
       "                       [ 2.8218e-01],\n",
       "                       [ 4.0031e-01],\n",
       "                       [ 1.4934e-01],\n",
       "                       [ 4.5101e-01],\n",
       "                       [ 2.3820e-02],\n",
       "                       [-1.7252e-01],\n",
       "                       [ 1.0713e-01],\n",
       "                       [ 2.0365e-01],\n",
       "                       [ 2.6970e-01]],\n",
       "              \n",
       "                      [[ 4.6599e-01],\n",
       "                       [-2.4204e-01],\n",
       "                       [ 5.7573e-02],\n",
       "                       [ 4.2696e-02],\n",
       "                       [-1.7728e-01],\n",
       "                       [-1.8754e-01],\n",
       "                       [-3.2248e-01],\n",
       "                       [ 6.6778e-02],\n",
       "                       [-2.8605e-02],\n",
       "                       [ 3.2630e-01],\n",
       "                       [-2.0384e-01],\n",
       "                       [-2.7084e-01],\n",
       "                       [ 9.9347e-02],\n",
       "                       [ 2.4766e-01],\n",
       "                       [ 1.3760e-01],\n",
       "                       [-7.5537e-02]],\n",
       "              \n",
       "                      [[-2.1132e-01],\n",
       "                       [ 4.0211e-01],\n",
       "                       [ 1.3880e-01],\n",
       "                       [ 1.4236e-01],\n",
       "                       [-1.1608e-01],\n",
       "                       [-2.6372e-02],\n",
       "                       [ 3.4035e-01],\n",
       "                       [ 5.3837e-03],\n",
       "                       [-4.2348e-01],\n",
       "                       [-3.8613e-01],\n",
       "                       [-2.4633e-01],\n",
       "                       [ 3.4139e-01],\n",
       "                       [-4.5871e-01],\n",
       "                       [-2.3766e-01],\n",
       "                       [-6.3080e-02],\n",
       "                       [-3.7337e-01]],\n",
       "              \n",
       "                      [[ 3.1985e-01],\n",
       "                       [-1.4906e-01],\n",
       "                       [-2.9456e-01],\n",
       "                       [-1.5793e-01],\n",
       "                       [ 3.0352e-01],\n",
       "                       [ 3.6749e-01],\n",
       "                       [ 4.3562e-01],\n",
       "                       [ 3.4591e-01],\n",
       "                       [ 4.5045e-01],\n",
       "                       [-4.0456e-01],\n",
       "                       [-1.8929e-01],\n",
       "                       [-5.0018e-02],\n",
       "                       [-2.5752e-02],\n",
       "                       [-1.2874e-01],\n",
       "                       [ 3.8523e-01],\n",
       "                       [-3.4242e-01]],\n",
       "              \n",
       "                      [[-3.0872e-01],\n",
       "                       [-1.1799e-01],\n",
       "                       [-2.5326e-01],\n",
       "                       [-3.6840e-01],\n",
       "                       [-3.2188e-01],\n",
       "                       [-1.5546e-01],\n",
       "                       [-2.3948e-01],\n",
       "                       [ 8.3749e-02],\n",
       "                       [-7.8823e-02],\n",
       "                       [-1.2255e-01],\n",
       "                       [-1.8843e-01],\n",
       "                       [-1.6083e-01],\n",
       "                       [ 2.1218e-01],\n",
       "                       [ 1.4034e-01],\n",
       "                       [ 2.0577e-01],\n",
       "                       [ 1.1603e-01]],\n",
       "              \n",
       "                      [[-1.9659e-01],\n",
       "                       [-3.3626e-02],\n",
       "                       [-1.7081e-01],\n",
       "                       [ 4.6817e-01],\n",
       "                       [-2.0902e-01],\n",
       "                       [-4.1901e-01],\n",
       "                       [ 2.0081e-01],\n",
       "                       [ 3.0931e-01],\n",
       "                       [ 2.1266e-01],\n",
       "                       [-3.4058e-02],\n",
       "                       [-4.2787e-01],\n",
       "                       [-2.6646e-01],\n",
       "                       [ 3.0088e-01],\n",
       "                       [ 2.7755e-01],\n",
       "                       [ 3.0787e-01],\n",
       "                       [-1.0879e-01]],\n",
       "              \n",
       "                      [[ 4.2560e-01],\n",
       "                       [-3.4924e-01],\n",
       "                       [-2.7225e-01],\n",
       "                       [-3.3370e-02],\n",
       "                       [ 1.0187e-01],\n",
       "                       [-5.8622e-02],\n",
       "                       [ 5.9995e-02],\n",
       "                       [-1.4938e-01],\n",
       "                       [-2.2948e-01],\n",
       "                       [-2.5269e-01],\n",
       "                       [-2.5639e-01],\n",
       "                       [ 1.7861e-01],\n",
       "                       [-4.7878e-01],\n",
       "                       [ 4.5001e-01],\n",
       "                       [-2.3543e-02],\n",
       "                       [ 1.4924e-01]],\n",
       "              \n",
       "                      [[ 4.8922e-02],\n",
       "                       [-2.5091e-01],\n",
       "                       [ 4.6703e-01],\n",
       "                       [ 3.9681e-01],\n",
       "                       [-3.1443e-01],\n",
       "                       [-1.8593e-01],\n",
       "                       [-4.1164e-01],\n",
       "                       [-8.8558e-02],\n",
       "                       [-7.7349e-03],\n",
       "                       [-1.5673e-01],\n",
       "                       [-1.3074e-01],\n",
       "                       [-4.0338e-01],\n",
       "                       [-3.2313e-02],\n",
       "                       [ 4.8399e-01],\n",
       "                       [-4.4592e-01],\n",
       "                       [-4.4814e-01]],\n",
       "              \n",
       "                      [[ 4.7378e-01],\n",
       "                       [-6.6610e-02],\n",
       "                       [ 3.6817e-01],\n",
       "                       [-2.7110e-01],\n",
       "                       [ 3.1939e-02],\n",
       "                       [ 2.6809e-01],\n",
       "                       [ 2.5887e-01],\n",
       "                       [-5.4273e-02],\n",
       "                       [ 3.3343e-01],\n",
       "                       [ 4.2431e-01],\n",
       "                       [-2.2090e-01],\n",
       "                       [-2.7518e-01],\n",
       "                       [ 1.4390e-01],\n",
       "                       [-4.5550e-01],\n",
       "                       [ 1.3101e-01],\n",
       "                       [-4.7245e-01]],\n",
       "              \n",
       "                      [[-4.1238e-01],\n",
       "                       [-2.6146e-01],\n",
       "                       [-3.5834e-01],\n",
       "                       [ 4.5103e-01],\n",
       "                       [-8.2809e-03],\n",
       "                       [ 1.5771e-01],\n",
       "                       [-1.6938e-01],\n",
       "                       [-1.7351e-02],\n",
       "                       [ 4.3918e-01],\n",
       "                       [ 8.4084e-02],\n",
       "                       [ 1.3027e-01],\n",
       "                       [ 7.1530e-02],\n",
       "                       [ 1.8132e-01],\n",
       "                       [ 9.1200e-02],\n",
       "                       [ 3.8981e-01],\n",
       "                       [ 3.2020e-01]],\n",
       "              \n",
       "                      [[-3.8212e-02],\n",
       "                       [ 9.9858e-02],\n",
       "                       [ 3.0820e-01],\n",
       "                       [-7.6746e-02],\n",
       "                       [ 9.3196e-02],\n",
       "                       [ 2.7276e-01],\n",
       "                       [ 7.8820e-02],\n",
       "                       [ 1.4065e-01],\n",
       "                       [-3.7320e-01],\n",
       "                       [ 1.6469e-01],\n",
       "                       [ 2.3993e-02],\n",
       "                       [ 8.9690e-02],\n",
       "                       [ 9.3554e-02],\n",
       "                       [-1.3434e-02],\n",
       "                       [ 3.1695e-01],\n",
       "                       [-3.3725e-01]],\n",
       "              \n",
       "                      [[-1.4495e-01],\n",
       "                       [-3.6257e-01],\n",
       "                       [ 2.3826e-01],\n",
       "                       [ 2.2435e-01],\n",
       "                       [-3.4186e-02],\n",
       "                       [ 3.7428e-01],\n",
       "                       [ 7.7427e-02],\n",
       "                       [-1.2827e-01],\n",
       "                       [ 1.2767e-01],\n",
       "                       [ 3.7152e-01],\n",
       "                       [ 3.3976e-01],\n",
       "                       [ 1.0496e-01],\n",
       "                       [-2.9284e-01],\n",
       "                       [ 1.7514e-01],\n",
       "                       [-1.0099e-01],\n",
       "                       [ 3.1379e-01]],\n",
       "              \n",
       "                      [[ 1.9094e-01],\n",
       "                       [ 2.8995e-02],\n",
       "                       [ 1.5758e-01],\n",
       "                       [ 2.3236e-01],\n",
       "                       [ 4.6849e-01],\n",
       "                       [-4.0634e-01],\n",
       "                       [ 4.8555e-01],\n",
       "                       [ 1.0977e-02],\n",
       "                       [ 3.4283e-01],\n",
       "                       [-5.4119e-02],\n",
       "                       [-1.8022e-01],\n",
       "                       [-3.1066e-01],\n",
       "                       [-1.7413e-01],\n",
       "                       [ 4.1259e-01],\n",
       "                       [ 4.0745e-02],\n",
       "                       [-2.1406e-01]],\n",
       "              \n",
       "                      [[-3.1410e-01],\n",
       "                       [ 4.8311e-01],\n",
       "                       [ 9.9865e-02],\n",
       "                       [-1.0783e-01],\n",
       "                       [-2.4815e-01],\n",
       "                       [-3.7033e-01],\n",
       "                       [ 2.6149e-01],\n",
       "                       [-1.7612e-01],\n",
       "                       [ 2.9078e-01],\n",
       "                       [ 4.3696e-01],\n",
       "                       [-2.4487e-01],\n",
       "                       [ 9.3387e-02],\n",
       "                       [ 3.5775e-02],\n",
       "                       [ 2.7519e-01],\n",
       "                       [ 3.6467e-01],\n",
       "                       [-2.2057e-01]],\n",
       "              \n",
       "                      [[ 1.1812e-01],\n",
       "                       [-5.4536e-02],\n",
       "                       [-3.0440e-01],\n",
       "                       [-1.0263e-01],\n",
       "                       [ 9.8602e-02],\n",
       "                       [ 3.6958e-01],\n",
       "                       [ 3.2578e-01],\n",
       "                       [-7.5592e-02],\n",
       "                       [ 3.1201e-01],\n",
       "                       [ 3.1644e-01],\n",
       "                       [ 3.0239e-02],\n",
       "                       [-4.5596e-01],\n",
       "                       [-1.4851e-01],\n",
       "                       [ 3.3469e-01],\n",
       "                       [-4.7200e-01],\n",
       "                       [ 3.9195e-01]]], device='cuda:0')),\n",
       "             ('module.model.model.2.convs.0.bias',\n",
       "              tensor([-0.0052,  0.0038,  0.0088,  0.0012,  0.0057,  0.0287,  0.0085,  0.0022,\n",
       "                       0.0052, -0.0138,  0.0083,  0.0232, -0.0008,  0.0475, -0.0162, -0.0038,\n",
       "                       0.0121,  0.0298,  0.0020, -0.0079,  0.0231, -0.0253, -0.0142, -0.0233,\n",
       "                      -0.0226, -0.0019, -0.0219,  0.0016, -0.0005, -0.0307,  0.0248, -0.0196],\n",
       "                     device='cuda:0')),\n",
       "             ('module.model.model.2.convs.1.weight',\n",
       "              tensor([[[ 0.3133],\n",
       "                       [-0.2573],\n",
       "                       [ 0.3798],\n",
       "                       ...,\n",
       "                       [ 0.2343],\n",
       "                       [ 0.1944],\n",
       "                       [-0.0108]],\n",
       "              \n",
       "                      [[-0.2361],\n",
       "                       [-0.0802],\n",
       "                       [ 0.1811],\n",
       "                       ...,\n",
       "                       [ 0.5146],\n",
       "                       [-0.2025],\n",
       "                       [-0.2067]],\n",
       "              \n",
       "                      [[ 0.2436],\n",
       "                       [ 0.3039],\n",
       "                       [ 0.2061],\n",
       "                       ...,\n",
       "                       [ 0.0078],\n",
       "                       [ 0.0308],\n",
       "                       [ 0.1154]],\n",
       "              \n",
       "                      ...,\n",
       "              \n",
       "                      [[-0.0427],\n",
       "                       [-0.0537],\n",
       "                       [-0.1369],\n",
       "                       ...,\n",
       "                       [ 0.1195],\n",
       "                       [-0.2054],\n",
       "                       [-0.2384]],\n",
       "              \n",
       "                      [[ 0.0890],\n",
       "                       [-0.4116],\n",
       "                       [ 0.2837],\n",
       "                       ...,\n",
       "                       [-0.4533],\n",
       "                       [ 0.2904],\n",
       "                       [-0.1540]],\n",
       "              \n",
       "                      [[-0.1135],\n",
       "                       [ 0.1969],\n",
       "                       [-0.3264],\n",
       "                       ...,\n",
       "                       [-0.2281],\n",
       "                       [-0.4620],\n",
       "                       [-0.3881]]], device='cuda:0')),\n",
       "             ('module.model.model.2.convs.1.bias',\n",
       "              tensor([ 0.0142, -0.0033,  0.0266,  0.0276,  0.0023,  0.0246, -0.0220, -0.0675,\n",
       "                      -0.0154,  0.0137,  0.0278,  0.0072,  0.0089, -0.0226,  0.0497, -0.0655,\n",
       "                      -0.0632,  0.0136, -0.0027, -0.0140,  0.0050, -0.0049, -0.0628,  0.0373,\n",
       "                       0.0033,  0.0492, -0.0314, -0.0150, -0.0147,  0.0535,  0.0319,  0.0344],\n",
       "                     device='cuda:0')),\n",
       "             ('module.model.model.2.convs.2.weight',\n",
       "              tensor([[[-0.1698],\n",
       "                       [-0.1386],\n",
       "                       [-0.2255],\n",
       "                       ...,\n",
       "                       [ 0.1441],\n",
       "                       [ 0.0310],\n",
       "                       [-0.3084]],\n",
       "              \n",
       "                      [[-0.0988],\n",
       "                       [-0.1564],\n",
       "                       [ 0.2310],\n",
       "                       ...,\n",
       "                       [ 0.2032],\n",
       "                       [-0.0130],\n",
       "                       [-0.0591]],\n",
       "              \n",
       "                      [[-0.0909],\n",
       "                       [-0.3749],\n",
       "                       [-0.3104],\n",
       "                       ...,\n",
       "                       [-0.1767],\n",
       "                       [-0.0458],\n",
       "                       [-0.2151]],\n",
       "              \n",
       "                      ...,\n",
       "              \n",
       "                      [[-0.0315],\n",
       "                       [-0.0900],\n",
       "                       [ 0.0131],\n",
       "                       ...,\n",
       "                       [ 0.2704],\n",
       "                       [-0.1819],\n",
       "                       [-0.0830]],\n",
       "              \n",
       "                      [[ 0.1966],\n",
       "                       [-0.1884],\n",
       "                       [ 0.3334],\n",
       "                       ...,\n",
       "                       [-0.3661],\n",
       "                       [ 0.2797],\n",
       "                       [-0.2594]],\n",
       "              \n",
       "                      [[ 0.0927],\n",
       "                       [-0.1951],\n",
       "                       [ 0.1690],\n",
       "                       ...,\n",
       "                       [ 0.2427],\n",
       "                       [-0.3424],\n",
       "                       [ 0.0790]]], device='cuda:0')),\n",
       "             ('module.model.model.2.convs.2.bias',\n",
       "              tensor([ 0.1048, -0.0099,  0.0330,  0.0319, -0.0293, -0.0443,  0.0192,  0.0300,\n",
       "                      -0.0033, -0.0104, -0.0178,  0.0069, -0.0070, -0.0400,  0.0335, -0.0391,\n",
       "                       0.0420, -0.0246,  0.0187, -0.0078,  0.0516,  0.0121, -0.0123, -0.0176,\n",
       "                      -0.0182, -0.0087, -0.0452, -0.0329,  0.0158, -0.0258,  0.0156,  0.0322],\n",
       "                     device='cuda:0')),\n",
       "             ('module.model.model.2.convs.3.weight',\n",
       "              tensor([[[-2.8012e-01],\n",
       "                       [ 3.6681e-01],\n",
       "                       [ 2.5109e-01],\n",
       "                       ...,\n",
       "                       [ 1.9533e-01],\n",
       "                       [ 3.5630e-01],\n",
       "                       [ 2.2988e-01]],\n",
       "              \n",
       "                      [[ 3.2059e-02],\n",
       "                       [-4.8371e-01],\n",
       "                       [-4.5149e-01],\n",
       "                       ...,\n",
       "                       [ 1.9530e-01],\n",
       "                       [ 8.3924e-02],\n",
       "                       [ 8.6738e-02]],\n",
       "              \n",
       "                      [[ 2.1298e-01],\n",
       "                       [-2.3152e-01],\n",
       "                       [-2.4094e-04],\n",
       "                       ...,\n",
       "                       [ 3.0141e-01],\n",
       "                       [-2.4139e-01],\n",
       "                       [-2.9588e-03]],\n",
       "              \n",
       "                      ...,\n",
       "              \n",
       "                      [[-2.0235e-01],\n",
       "                       [ 1.7014e-01],\n",
       "                       [-2.0649e-03],\n",
       "                       ...,\n",
       "                       [ 2.4436e-01],\n",
       "                       [-2.4244e-01],\n",
       "                       [-3.0038e-01]],\n",
       "              \n",
       "                      [[ 2.1314e-01],\n",
       "                       [-2.2952e-01],\n",
       "                       [-1.2097e-01],\n",
       "                       ...,\n",
       "                       [ 1.2963e-01],\n",
       "                       [ 4.0172e-01],\n",
       "                       [-2.9860e-01]],\n",
       "              \n",
       "                      [[ 1.7019e-01],\n",
       "                       [ 3.4166e-01],\n",
       "                       [ 1.0596e-01],\n",
       "                       ...,\n",
       "                       [ 1.6123e-01],\n",
       "                       [ 2.0293e-01],\n",
       "                       [-4.6172e-01]]], device='cuda:0')),\n",
       "             ('module.model.model.2.convs.3.bias',\n",
       "              tensor([-0.0117, -0.0034,  0.0147,  0.0334,  0.0404, -0.0040,  0.0397, -0.0684,\n",
       "                      -0.0058,  0.0038,  0.0396, -0.0254,  0.0053,  0.0076, -0.0230, -0.0211,\n",
       "                       0.0126,  0.0141, -0.0104,  0.0349,  0.0651, -0.0057, -0.0904, -0.0044,\n",
       "                      -0.0315,  0.0382, -0.0157,  0.0435,  0.0408,  0.0357, -0.0243,  0.0330],\n",
       "                     device='cuda:0')),\n",
       "             ('module.model.model.2.convs.4.weight',\n",
       "              tensor([[[ 0.0165],\n",
       "                       [ 0.3370],\n",
       "                       [ 0.2907],\n",
       "                       ...,\n",
       "                       [-0.3168],\n",
       "                       [-0.1007],\n",
       "                       [ 0.0790]],\n",
       "              \n",
       "                      [[-0.4756],\n",
       "                       [-0.2003],\n",
       "                       [-0.3447],\n",
       "                       ...,\n",
       "                       [ 0.1803],\n",
       "                       [-0.1358],\n",
       "                       [-0.3808]],\n",
       "              \n",
       "                      [[-0.1781],\n",
       "                       [-0.2499],\n",
       "                       [ 0.3267],\n",
       "                       ...,\n",
       "                       [-0.0670],\n",
       "                       [-0.4212],\n",
       "                       [ 0.0209]],\n",
       "              \n",
       "                      ...,\n",
       "              \n",
       "                      [[ 0.0415],\n",
       "                       [ 0.3377],\n",
       "                       [-0.2147],\n",
       "                       ...,\n",
       "                       [ 0.2951],\n",
       "                       [ 0.2008],\n",
       "                       [ 0.4581]],\n",
       "              \n",
       "                      [[-0.0923],\n",
       "                       [-0.2855],\n",
       "                       [ 0.1129],\n",
       "                       ...,\n",
       "                       [ 0.3421],\n",
       "                       [-0.1561],\n",
       "                       [ 0.1803]],\n",
       "              \n",
       "                      [[ 0.0755],\n",
       "                       [ 0.3973],\n",
       "                       [ 0.0775],\n",
       "                       ...,\n",
       "                       [-0.2638],\n",
       "                       [-0.3200],\n",
       "                       [-0.4389]]], device='cuda:0')),\n",
       "             ('module.model.model.2.convs.4.bias',\n",
       "              tensor([ 0.0189, -0.0317,  0.0021,  0.0495, -0.0078,  0.0372, -0.0002, -0.0272,\n",
       "                      -0.0434, -0.0182,  0.0013,  0.0037, -0.0060,  0.0142,  0.0071, -0.0202,\n",
       "                       0.0449, -0.0534, -0.0199,  0.0161,  0.0597,  0.0363, -0.0104,  0.0292,\n",
       "                      -0.0048, -0.0072,  0.0225,  0.0148,  0.0102,  0.0400,  0.0735,  0.0366],\n",
       "                     device='cuda:0')),\n",
       "             ('module.model.model.2.filter_convs.0.weight',\n",
       "              tensor([[[ 0.0295,  0.0838,  0.1222],\n",
       "                       [-0.1358, -0.2192, -0.0764],\n",
       "                       [-0.1530,  0.2212,  0.1624],\n",
       "                       ...,\n",
       "                       [ 0.0214, -0.0216,  0.2123],\n",
       "                       [ 0.2677, -0.0332,  0.1817],\n",
       "                       [ 0.0188, -0.1770, -0.2094]],\n",
       "              \n",
       "                      [[ 0.0831,  0.2339, -0.0426],\n",
       "                       [ 0.0666, -0.1181, -0.1583],\n",
       "                       [-0.0541,  0.0676,  0.1382],\n",
       "                       ...,\n",
       "                       [-0.2177,  0.0614,  0.0137],\n",
       "                       [-0.1946, -0.0011,  0.1892],\n",
       "                       [ 0.1757,  0.0711,  0.0708]],\n",
       "              \n",
       "                      [[ 0.0664,  0.0556, -0.0944],\n",
       "                       [-0.0734,  0.2020, -0.1486],\n",
       "                       [ 0.2534, -0.1449, -0.2041],\n",
       "                       ...,\n",
       "                       [ 0.0018,  0.1396,  0.0881],\n",
       "                       [-0.0640, -0.1352,  0.0123],\n",
       "                       [-0.2857, -0.2672,  0.1268]],\n",
       "              \n",
       "                      ...,\n",
       "              \n",
       "                      [[-0.0672,  0.1022,  0.0717],\n",
       "                       [-0.1943,  0.0005,  0.1238],\n",
       "                       [ 0.1714,  0.1774, -0.2122],\n",
       "                       ...,\n",
       "                       [ 0.2384,  0.0639,  0.0637],\n",
       "                       [-0.1829, -0.1271, -0.0651],\n",
       "                       [-0.0525, -0.0341,  0.1271]],\n",
       "              \n",
       "                      [[-0.0327,  0.0449, -0.1383],\n",
       "                       [ 0.0022, -0.1268, -0.0862],\n",
       "                       [-0.0068,  0.0429, -0.0041],\n",
       "                       ...,\n",
       "                       [ 0.0614,  0.0701,  0.0525],\n",
       "                       [ 0.0316, -0.1945, -0.0609],\n",
       "                       [-0.2116,  0.0828,  0.0422]],\n",
       "              \n",
       "                      [[ 0.0335,  0.1520, -0.1739],\n",
       "                       [-0.0005,  0.1720, -0.1643],\n",
       "                       [ 0.0638,  0.1247, -0.1593],\n",
       "                       ...,\n",
       "                       [ 0.0901,  0.1137, -0.0605],\n",
       "                       [ 0.0997, -0.2092,  0.1160],\n",
       "                       [ 0.2458,  0.3234,  0.0471]]], device='cuda:0')),\n",
       "             ('module.model.model.2.filter_convs.0.bias',\n",
       "              tensor([-0.0385, -0.0113, -0.0244,  0.0577, -0.0094, -0.0305,  0.0174, -0.0140,\n",
       "                      -0.0135, -0.0465,  0.0240,  0.0159,  0.0029,  0.0167,  0.0391,  0.0228,\n",
       "                       0.0248,  0.0385, -0.0148,  0.0078, -0.0293, -0.0072, -0.0275, -0.0333,\n",
       "                      -0.0171, -0.0395, -0.0056,  0.0270, -0.0584, -0.0286, -0.0242, -0.0370],\n",
       "                     device='cuda:0')),\n",
       "             ('module.model.model.2.filter_convs.1.weight',\n",
       "              tensor([[[ 0.0400,  0.0135,  0.1099],\n",
       "                       [ 0.2042,  0.1762,  0.0499],\n",
       "                       [-0.0527,  0.1537,  0.0888],\n",
       "                       ...,\n",
       "                       [ 0.1924,  0.0671, -0.2413],\n",
       "                       [-0.1804, -0.1296,  0.2620],\n",
       "                       [ 0.0043,  0.1048, -0.0749]],\n",
       "              \n",
       "                      [[-0.2448, -0.2457,  0.1277],\n",
       "                       [ 0.2181, -0.1619, -0.1052],\n",
       "                       [-0.0637, -0.0169, -0.0219],\n",
       "                       ...,\n",
       "                       [ 0.0968,  0.0208,  0.0333],\n",
       "                       [ 0.1257, -0.1813,  0.1741],\n",
       "                       [ 0.1347,  0.1165,  0.1379]],\n",
       "              \n",
       "                      [[ 0.1903, -0.1204, -0.1458],\n",
       "                       [-0.0406,  0.2649,  0.2512],\n",
       "                       [-0.1429, -0.2536, -0.3285],\n",
       "                       ...,\n",
       "                       [ 0.1182, -0.0057,  0.1377],\n",
       "                       [-0.3243, -0.1422,  0.1083],\n",
       "                       [ 0.2055,  0.0508, -0.0315]],\n",
       "              \n",
       "                      ...,\n",
       "              \n",
       "                      [[-0.1116,  0.0067, -0.0972],\n",
       "                       [ 0.1412,  0.1924,  0.1820],\n",
       "                       [ 0.1376,  0.1783, -0.1072],\n",
       "                       ...,\n",
       "                       [ 0.1620, -0.0414, -0.0026],\n",
       "                       [-0.1139,  0.1031,  0.1467],\n",
       "                       [ 0.0729,  0.1426,  0.1640]],\n",
       "              \n",
       "                      [[-0.0049, -0.1154, -0.1455],\n",
       "                       [ 0.1579,  0.1800, -0.1320],\n",
       "                       [-0.1449, -0.1731, -0.1240],\n",
       "                       ...,\n",
       "                       [ 0.1245, -0.1336, -0.1176],\n",
       "                       [-0.2403,  0.1521, -0.0071],\n",
       "                       [-0.1604, -0.2046, -0.2551]],\n",
       "              \n",
       "                      [[ 0.0251,  0.1380, -0.0310],\n",
       "                       [ 0.0415,  0.0233,  0.0855],\n",
       "                       [-0.0371, -0.2002, -0.0228],\n",
       "                       ...,\n",
       "                       [ 0.2407,  0.1246,  0.1989],\n",
       "                       [ 0.1356,  0.0943,  0.0515],\n",
       "                       [ 0.0848, -0.2243,  0.0067]]], device='cuda:0')),\n",
       "             ('module.model.model.2.filter_convs.1.bias',\n",
       "              tensor([ 0.0077, -0.0047, -0.0006,  0.0182,  0.0003,  0.0265,  0.0215, -0.0896,\n",
       "                       0.0192,  0.0093,  0.0343, -0.0629,  0.0166, -0.0138, -0.0448,  0.0024,\n",
       "                       0.0482, -0.0560, -0.0037, -0.0438,  0.0417, -0.0312, -0.0450,  0.0110,\n",
       "                      -0.0222, -0.0474,  0.0207, -0.0489, -0.0083,  0.0467, -0.0714, -0.0272],\n",
       "                     device='cuda:0')),\n",
       "             ('module.model.model.2.filter_convs.2.weight',\n",
       "              tensor([[[ 0.0963, -0.1628,  0.0467],\n",
       "                       [-0.0032, -0.2180,  0.0694],\n",
       "                       [ 0.1698,  0.0146,  0.1618],\n",
       "                       ...,\n",
       "                       [-0.1917, -0.2259, -0.0878],\n",
       "                       [-0.1042, -0.1998,  0.0291],\n",
       "                       [ 0.2074, -0.1854,  0.2433]],\n",
       "              \n",
       "                      [[-0.2854, -0.0273, -0.1550],\n",
       "                       [ 0.1046,  0.1238, -0.0212],\n",
       "                       [-0.1472, -0.2410,  0.1482],\n",
       "                       ...,\n",
       "                       [ 0.0512,  0.1017, -0.0082],\n",
       "                       [-0.1691, -0.0764,  0.2283],\n",
       "                       [ 0.2353, -0.1099, -0.1741]],\n",
       "              \n",
       "                      [[-0.2081, -0.2322, -0.0195],\n",
       "                       [ 0.1621,  0.1419,  0.0064],\n",
       "                       [-0.3121,  0.0723, -0.1270],\n",
       "                       ...,\n",
       "                       [ 0.1848, -0.1802,  0.2246],\n",
       "                       [ 0.0184, -0.0568,  0.0814],\n",
       "                       [-0.2631,  0.1625,  0.0487]],\n",
       "              \n",
       "                      ...,\n",
       "              \n",
       "                      [[-0.1417, -0.3065, -0.2517],\n",
       "                       [-0.0729,  0.1121, -0.1690],\n",
       "                       [-0.1868, -0.1443, -0.1225],\n",
       "                       ...,\n",
       "                       [ 0.0661,  0.1919,  0.0404],\n",
       "                       [ 0.0487, -0.2415,  0.0626],\n",
       "                       [ 0.0665,  0.1374,  0.0881]],\n",
       "              \n",
       "                      [[-0.1044, -0.0697, -0.1351],\n",
       "                       [ 0.0611, -0.3305,  0.1772],\n",
       "                       [-0.1832,  0.1828,  0.1073],\n",
       "                       ...,\n",
       "                       [ 0.0082, -0.2375, -0.2144],\n",
       "                       [ 0.2704,  0.1205, -0.0004],\n",
       "                       [ 0.2512,  0.0163, -0.1316]],\n",
       "              \n",
       "                      [[ 0.0534,  0.1575, -0.2121],\n",
       "                       [-0.1792,  0.1227, -0.1789],\n",
       "                       [ 0.0553,  0.1840, -0.2506],\n",
       "                       ...,\n",
       "                       [ 0.0747,  0.0488,  0.0525],\n",
       "                       [ 0.2787,  0.1137,  0.2228],\n",
       "                       [-0.0254,  0.1534, -0.2125]]], device='cuda:0')),\n",
       "             ('module.model.model.2.filter_convs.2.bias',\n",
       "              tensor([ 0.0555,  0.0023, -0.0649,  0.0537, -0.0341,  0.0818,  0.0196,  0.0291,\n",
       "                       0.0305,  0.0265, -0.0500, -0.0439, -0.0281, -0.0112,  0.0336,  0.0572,\n",
       "                       0.0174,  0.0682, -0.0035, -0.0167,  0.0157, -0.0262, -0.0838,  0.0411,\n",
       "                       0.0003,  0.0314, -0.0370,  0.0896,  0.0641, -0.0638,  0.0047,  0.0111],\n",
       "                     device='cuda:0')),\n",
       "             ('module.model.model.2.filter_convs.3.weight',\n",
       "              tensor([[[-0.1248, -0.0329,  0.2453],\n",
       "                       [-0.0109, -0.1721,  0.2545],\n",
       "                       [-0.0645,  0.1971, -0.1344],\n",
       "                       ...,\n",
       "                       [ 0.0316, -0.0398, -0.1641],\n",
       "                       [-0.1171,  0.1226,  0.0839],\n",
       "                       [ 0.1771,  0.1448,  0.0005]],\n",
       "              \n",
       "                      [[-0.1086, -0.2186, -0.1868],\n",
       "                       [ 0.0415,  0.0312,  0.0084],\n",
       "                       [-0.2421, -0.2604, -0.1592],\n",
       "                       ...,\n",
       "                       [-0.1504,  0.0580,  0.1936],\n",
       "                       [-0.0428,  0.0805,  0.0396],\n",
       "                       [-0.0713, -0.1247,  0.0290]],\n",
       "              \n",
       "                      [[-0.0251, -0.1437, -0.1820],\n",
       "                       [ 0.2092, -0.1450,  0.2196],\n",
       "                       [ 0.1162, -0.0763, -0.0182],\n",
       "                       ...,\n",
       "                       [ 0.2850,  0.2163,  0.1368],\n",
       "                       [ 0.2821, -0.0067, -0.2332],\n",
       "                       [ 0.1653,  0.1885,  0.1061]],\n",
       "              \n",
       "                      ...,\n",
       "              \n",
       "                      [[-0.2446, -0.0859, -0.0862],\n",
       "                       [ 0.2573,  0.3234,  0.0732],\n",
       "                       [ 0.0293, -0.0808, -0.0252],\n",
       "                       ...,\n",
       "                       [ 0.2267,  0.2079,  0.2223],\n",
       "                       [-0.2971, -0.2467, -0.0722],\n",
       "                       [-0.0108,  0.0102, -0.0197]],\n",
       "              \n",
       "                      [[-0.1299,  0.2477, -0.1858],\n",
       "                       [ 0.0197,  0.0257,  0.1099],\n",
       "                       [ 0.0492, -0.0761,  0.0995],\n",
       "                       ...,\n",
       "                       [-0.1755,  0.2164, -0.0845],\n",
       "                       [-0.0011, -0.1055,  0.2047],\n",
       "                       [ 0.0384, -0.2431, -0.0210]],\n",
       "              \n",
       "                      [[ 0.0343,  0.1632,  0.0957],\n",
       "                       [-0.0121, -0.2271,  0.1923],\n",
       "                       [ 0.0233, -0.0123,  0.0072],\n",
       "                       ...,\n",
       "                       [ 0.0103, -0.2492,  0.2268],\n",
       "                       [-0.1782,  0.2817, -0.2411],\n",
       "                       [-0.2266,  0.2584, -0.0647]]], device='cuda:0')),\n",
       "             ('module.model.model.2.filter_convs.3.bias',\n",
       "              tensor([ 0.0229, -0.0765,  0.0129, -0.0229, -0.0118, -0.0429, -0.0781, -0.0299,\n",
       "                      -0.0701,  0.0052, -0.0414, -0.0671, -0.0396,  0.0137, -0.0181,  0.0109,\n",
       "                       0.0219,  0.0075, -0.0061, -0.0414, -0.0092,  0.0972, -0.0167, -0.0109,\n",
       "                       0.0112,  0.0272,  0.0555, -0.0284, -0.0047,  0.1033,  0.0017,  0.0176],\n",
       "                     device='cuda:0')),\n",
       "             ('module.model.model.2.gate_convs.0.weight',\n",
       "              tensor([[[ 0.1785, -0.1791, -0.0715],\n",
       "                       [ 0.2027, -0.0573,  0.2822],\n",
       "                       [ 0.0633,  0.0583,  0.0327],\n",
       "                       ...,\n",
       "                       [ 0.0630, -0.1014,  0.1013],\n",
       "                       [-0.1860,  0.0080,  0.0057],\n",
       "                       [-0.4346, -0.1922, -0.2240]],\n",
       "              \n",
       "                      [[-0.1596, -0.1443, -0.2546],\n",
       "                       [-0.0359, -0.0062,  0.1340],\n",
       "                       [ 0.2167, -0.0298, -0.0435],\n",
       "                       ...,\n",
       "                       [ 0.0044,  0.1563, -0.0303],\n",
       "                       [-0.0393,  0.0721,  0.2037],\n",
       "                       [ 0.2617, -0.1631,  0.1791]],\n",
       "              \n",
       "                      [[-0.0453,  0.3070,  0.2710],\n",
       "                       [ 0.2129, -0.1646,  0.0875],\n",
       "                       [-0.2328, -0.1605, -0.2380],\n",
       "                       ...,\n",
       "                       [-0.0124,  0.1008,  0.1484],\n",
       "                       [ 0.1202,  0.2306,  0.1345],\n",
       "                       [-0.1245, -0.0306, -0.2422]],\n",
       "              \n",
       "                      ...,\n",
       "              \n",
       "                      [[ 0.2457, -0.0884, -0.1924],\n",
       "                       [-0.0019,  0.1746,  0.1242],\n",
       "                       [-0.0178, -0.0470, -0.0588],\n",
       "                       ...,\n",
       "                       [-0.0187,  0.1884,  0.0899],\n",
       "                       [-0.0530, -0.1775, -0.0554],\n",
       "                       [ 0.0395,  0.0451,  0.1936]],\n",
       "              \n",
       "                      [[ 0.1217,  0.1008,  0.1389],\n",
       "                       [ 0.2255,  0.0214, -0.2022],\n",
       "                       [-0.0655, -0.1442,  0.0139],\n",
       "                       ...,\n",
       "                       [-0.2088,  0.0832, -0.1467],\n",
       "                       [ 0.0096,  0.2653,  0.1307],\n",
       "                       [-0.2086, -0.1215,  0.2219]],\n",
       "              \n",
       "                      [[ 0.2360, -0.0405,  0.2908],\n",
       "                       [-0.1269, -0.1307,  0.1940],\n",
       "                       [-0.2046, -0.0391, -0.1616],\n",
       "                       ...,\n",
       "                       [ 0.2132, -0.0789,  0.2304],\n",
       "                       [ 0.0267, -0.0821, -0.1940],\n",
       "                       [ 0.0589, -0.1091,  0.0841]]], device='cuda:0')),\n",
       "             ('module.model.model.2.gate_convs.0.bias',\n",
       "              tensor([-0.0074, -0.0087,  0.0270,  0.0257, -0.0767, -0.1188,  0.1442, -0.0498,\n",
       "                      -0.0388,  0.0220, -0.0475,  0.0720,  0.0279, -0.0781, -0.0458,  0.0003,\n",
       "                       0.0557,  0.0173, -0.0116, -0.0087, -0.1087,  0.0794,  0.0164, -0.0060,\n",
       "                      -0.0818,  0.0916, -0.0625, -0.0010,  0.0072, -0.0503, -0.0732, -0.0247],\n",
       "                     device='cuda:0')),\n",
       "             ('module.model.model.2.gate_convs.1.weight',\n",
       "              tensor([[[ 0.0965,  0.0985,  0.0535],\n",
       "                       [-0.0465,  0.1261,  0.0073],\n",
       "                       [-0.1163, -0.0141, -0.1755],\n",
       "                       ...,\n",
       "                       [-0.0705, -0.1076, -0.2285],\n",
       "                       [ 0.1918, -0.2221, -0.1729],\n",
       "                       [ 0.1912,  0.1019,  0.1786]],\n",
       "              \n",
       "                      [[-0.1890, -0.0249, -0.1585],\n",
       "                       [-0.2161, -0.0029,  0.1753],\n",
       "                       [-0.0051, -0.2222, -0.1714],\n",
       "                       ...,\n",
       "                       [-0.2942, -0.1028, -0.1370],\n",
       "                       [-0.1320,  0.1345, -0.0293],\n",
       "                       [-0.0156, -0.1641,  0.0074]],\n",
       "              \n",
       "                      [[ 0.0049, -0.0656, -0.0497],\n",
       "                       [-0.0108,  0.1466, -0.0871],\n",
       "                       [-0.0445, -0.1496,  0.2202],\n",
       "                       ...,\n",
       "                       [ 0.1785,  0.0683,  0.0164],\n",
       "                       [-0.1369, -0.0048, -0.1436],\n",
       "                       [ 0.0988, -0.1754, -0.3273]],\n",
       "              \n",
       "                      ...,\n",
       "              \n",
       "                      [[ 0.0262,  0.2371,  0.0923],\n",
       "                       [-0.3084,  0.0431,  0.1622],\n",
       "                       [ 0.2277,  0.2788, -0.0178],\n",
       "                       ...,\n",
       "                       [ 0.2039, -0.1630,  0.2268],\n",
       "                       [-0.0573,  0.1073,  0.0915],\n",
       "                       [ 0.1160,  0.1913,  0.1716]],\n",
       "              \n",
       "                      [[ 0.1166, -0.0043,  0.2976],\n",
       "                       [-0.2074, -0.1357,  0.1672],\n",
       "                       [ 0.0504,  0.1388, -0.0873],\n",
       "                       ...,\n",
       "                       [ 0.1870, -0.2035,  0.2037],\n",
       "                       [-0.1637,  0.0012,  0.0900],\n",
       "                       [ 0.3206, -0.2748, -0.1692]],\n",
       "              \n",
       "                      [[ 0.2767, -0.0591,  0.2350],\n",
       "                       [ 0.0152, -0.0666,  0.0249],\n",
       "                       [ 0.3713,  0.1473,  0.2642],\n",
       "                       ...,\n",
       "                       [-0.3052,  0.0739,  0.0253],\n",
       "                       [-0.1536, -0.4992, -0.1218],\n",
       "                       [-0.0470,  0.0160,  0.1789]]], device='cuda:0')),\n",
       "             ('module.model.model.2.gate_convs.1.bias',\n",
       "              tensor([-0.0484, -0.0688,  0.0428,  0.0120,  0.0007, -0.0303, -0.0184,  0.0300,\n",
       "                      -0.0486, -0.0041,  0.0238, -0.0378, -0.0288,  0.0076, -0.0056, -0.0789,\n",
       "                       0.0304, -0.0038, -0.0533, -0.0812,  0.0220,  0.0680,  0.0410,  0.0296,\n",
       "                      -0.0220, -0.0688,  0.1163,  0.0218, -0.0220,  0.0658,  0.0163,  0.0356],\n",
       "                     device='cuda:0')),\n",
       "             ('module.model.model.2.gate_convs.2.weight',\n",
       "              tensor([[[ 0.2096,  0.2417,  0.1502],\n",
       "                       [ 0.0253, -0.1294, -0.0420],\n",
       "                       [ 0.0898, -0.1041, -0.0567],\n",
       "                       ...,\n",
       "                       [ 0.2136, -0.1613,  0.0116],\n",
       "                       [ 0.3121,  0.0211,  0.1359],\n",
       "                       [-0.2052, -0.2202, -0.4119]],\n",
       "              \n",
       "                      [[-0.2084, -0.1240, -0.0142],\n",
       "                       [-0.2840, -0.1716, -0.2477],\n",
       "                       [ 0.1923,  0.2527,  0.1954],\n",
       "                       ...,\n",
       "                       [ 0.2766,  0.2968, -0.0850],\n",
       "                       [ 0.2807,  0.1753, -0.0135],\n",
       "                       [-0.0406, -0.2220,  0.1325]],\n",
       "              \n",
       "                      [[-0.2157, -0.1998,  0.1507],\n",
       "                       [ 0.2354, -0.1414, -0.1255],\n",
       "                       [ 0.1168, -0.2994, -0.0128],\n",
       "                       ...,\n",
       "                       [ 0.1306,  0.2446, -0.0954],\n",
       "                       [ 0.3230, -0.1487, -0.0697],\n",
       "                       [ 0.2962,  0.2295,  0.1458]],\n",
       "              \n",
       "                      ...,\n",
       "              \n",
       "                      [[ 0.1676, -0.0545, -0.1255],\n",
       "                       [ 0.0167,  0.2484, -0.3574],\n",
       "                       [-0.0980, -0.1722, -0.0594],\n",
       "                       ...,\n",
       "                       [ 0.0359,  0.1206,  0.1009],\n",
       "                       [ 0.2721,  0.0028,  0.1738],\n",
       "                       [-0.0787,  0.1442, -0.1433]],\n",
       "              \n",
       "                      [[-0.1434,  0.1853,  0.1756],\n",
       "                       [-0.0722, -0.1481,  0.3704],\n",
       "                       [ 0.0018,  0.2861,  0.2122],\n",
       "                       ...,\n",
       "                       [-0.0747, -0.0658,  0.0367],\n",
       "                       [-0.2259,  0.0304, -0.0533],\n",
       "                       [-0.1776,  0.2522,  0.0105]],\n",
       "              \n",
       "                      [[ 0.0552, -0.2575,  0.1326],\n",
       "                       [-0.1490, -0.1511, -0.1955],\n",
       "                       [-0.1150,  0.0794,  0.1161],\n",
       "                       ...,\n",
       "                       [ 0.1194,  0.1050,  0.2523],\n",
       "                       [ 0.2677,  0.1635, -0.0193],\n",
       "                       [ 0.2647, -0.1318, -0.0443]]], device='cuda:0')),\n",
       "             ('module.model.model.2.gate_convs.2.bias',\n",
       "              tensor([ 0.0914, -0.0176, -0.1066,  0.0005,  0.0314, -0.0247, -0.0102, -0.0470,\n",
       "                      -0.0328, -0.0283,  0.0024,  0.0314, -0.0278, -0.0583, -0.0441,  0.0091,\n",
       "                       0.0243, -0.0157,  0.0117, -0.0326, -0.0034,  0.0136, -0.0316, -0.0021,\n",
       "                       0.0157, -0.0122, -0.0181,  0.0155, -0.0228, -0.0244, -0.0234,  0.0037],\n",
       "                     device='cuda:0')),\n",
       "             ('module.model.model.2.gate_convs.3.weight',\n",
       "              tensor([[[ 0.0324,  0.2760, -0.1110],\n",
       "                       [ 0.0452,  0.0432, -0.2317],\n",
       "                       [ 0.1084,  0.1312,  0.2417],\n",
       "                       ...,\n",
       "                       [-0.2702,  0.1846, -0.2112],\n",
       "                       [ 0.1491,  0.2035,  0.1466],\n",
       "                       [-0.0599, -0.0503, -0.0974]],\n",
       "              \n",
       "                      [[ 0.4175,  0.2703,  0.3302],\n",
       "                       [ 0.2400,  0.0635, -0.1541],\n",
       "                       [-0.3767, -0.1103, -0.4357],\n",
       "                       ...,\n",
       "                       [-0.2465, -0.1807,  0.0347],\n",
       "                       [-0.1307,  0.2798,  0.0306],\n",
       "                       [ 0.1685,  0.0968, -0.3608]],\n",
       "              \n",
       "                      [[-0.2391, -0.1422,  0.1295],\n",
       "                       [ 0.1128, -0.0397, -0.2060],\n",
       "                       [-0.2146, -0.2036, -0.0496],\n",
       "                       ...,\n",
       "                       [ 0.1307,  0.2769, -0.0665],\n",
       "                       [-0.0654,  0.3303, -0.1394],\n",
       "                       [ 0.1164, -0.2109, -0.0439]],\n",
       "              \n",
       "                      ...,\n",
       "              \n",
       "                      [[-0.1890, -0.0977,  0.1186],\n",
       "                       [ 0.1379, -0.1531, -0.0955],\n",
       "                       [-0.0893,  0.3097,  0.0849],\n",
       "                       ...,\n",
       "                       [ 0.0632, -0.3234, -0.1683],\n",
       "                       [-0.2168,  0.1600,  0.1831],\n",
       "                       [ 0.0046,  0.0762,  0.1585]],\n",
       "              \n",
       "                      [[-0.0592, -0.2251,  0.0765],\n",
       "                       [-0.1888,  0.2807, -0.2408],\n",
       "                       [-0.1650,  0.2648,  0.0934],\n",
       "                       ...,\n",
       "                       [ 0.0483, -0.0700,  0.1189],\n",
       "                       [ 0.0952, -0.0222,  0.0495],\n",
       "                       [ 0.2507,  0.0050,  0.2024]],\n",
       "              \n",
       "                      [[ 0.0904, -0.1965,  0.1558],\n",
       "                       [-0.3031,  0.2632, -0.1099],\n",
       "                       [-0.3994,  0.0385, -0.2954],\n",
       "                       ...,\n",
       "                       [ 0.3170, -0.1306, -0.0424],\n",
       "                       [-0.1284, -0.3189,  0.0578],\n",
       "                       [-0.0253, -0.1320,  0.1988]]], device='cuda:0')),\n",
       "             ('module.model.model.2.gate_convs.3.bias',\n",
       "              tensor([-0.0009, -0.0423,  0.0278,  0.0005, -0.0573,  0.0125, -0.0598, -0.0109,\n",
       "                      -0.0381, -0.0731,  0.0413, -0.0254, -0.0396, -0.0404,  0.0410, -0.0366,\n",
       "                      -0.0666, -0.0168, -0.0484, -0.0030, -0.0482, -0.0945, -0.0420,  0.0383,\n",
       "                      -0.1081, -0.1084, -0.0600, -0.0504, -0.0249, -0.0282, -0.0345,  0.0016],\n",
       "                     device='cuda:0')),\n",
       "             ('module.model.model.3.convs.0.weight',\n",
       "              tensor([[[-0.0110],\n",
       "                       [-0.1328],\n",
       "                       [-0.1998],\n",
       "                       ...,\n",
       "                       [ 0.1808],\n",
       "                       [ 0.2112],\n",
       "                       [ 0.1179]],\n",
       "              \n",
       "                      [[-0.0233],\n",
       "                       [ 0.0473],\n",
       "                       [-0.3787],\n",
       "                       ...,\n",
       "                       [-0.1176],\n",
       "                       [-0.0303],\n",
       "                       [ 0.2621]],\n",
       "              \n",
       "                      [[-0.0763],\n",
       "                       [ 0.0148],\n",
       "                       [-0.1027],\n",
       "                       ...,\n",
       "                       [-0.0295],\n",
       "                       [ 0.0952],\n",
       "                       [-0.0160]],\n",
       "              \n",
       "                      ...,\n",
       "              \n",
       "                      [[ 0.2798],\n",
       "                       [-0.2052],\n",
       "                       [-0.1163],\n",
       "                       ...,\n",
       "                       [-0.2245],\n",
       "                       [-0.1456],\n",
       "                       [-0.0965]],\n",
       "              \n",
       "                      [[ 0.1618],\n",
       "                       [-0.3023],\n",
       "                       [-0.1447],\n",
       "                       ...,\n",
       "                       [-0.0350],\n",
       "                       [ 0.1340],\n",
       "                       [ 0.2513]],\n",
       "              \n",
       "                      [[-0.0387],\n",
       "                       [ 0.1115],\n",
       "                       [ 0.0032],\n",
       "                       ...,\n",
       "                       [ 0.2362],\n",
       "                       [-0.1037],\n",
       "                       [-0.3180]]], device='cuda:0')),\n",
       "             ('module.model.model.3.convs.0.bias',\n",
       "              tensor([ 0.0146,  0.0315,  0.0243, -0.0487,  0.0638, -0.0005,  0.0007, -0.0033,\n",
       "                      -0.0082,  0.0151,  0.0416,  0.0165,  0.0549,  0.0276, -0.0027, -0.0122,\n",
       "                      -0.0039, -0.0097,  0.0155, -0.0140, -0.0601,  0.0796, -0.0136, -0.0125,\n",
       "                      -0.0276, -0.0362, -0.0438,  0.0440, -0.0017, -0.0510,  0.0090,  0.0102,\n",
       "                      -0.0238, -0.0365,  0.0373,  0.0118,  0.0003,  0.0017, -0.0249,  0.0097,\n",
       "                       0.0859, -0.0736, -0.0491, -0.0385, -0.0197, -0.0284, -0.0615,  0.0239,\n",
       "                       0.0228,  0.0395,  0.0192, -0.0035,  0.0146, -0.0357, -0.1015, -0.0154,\n",
       "                      -0.0110,  0.0403, -0.0123,  0.0103, -0.0605,  0.0122, -0.0243, -0.0652],\n",
       "                     device='cuda:0')),\n",
       "             ('module.model.model.3.convs.1.weight',\n",
       "              tensor([[[ 0.1292],\n",
       "                       [-0.2440],\n",
       "                       [ 0.0345],\n",
       "                       ...,\n",
       "                       [-0.1300],\n",
       "                       [-0.0220],\n",
       "                       [ 0.2175]],\n",
       "              \n",
       "                      [[ 0.2073],\n",
       "                       [-0.3010],\n",
       "                       [-0.3098],\n",
       "                       ...,\n",
       "                       [ 0.1592],\n",
       "                       [-0.1362],\n",
       "                       [ 0.0928]],\n",
       "              \n",
       "                      [[ 0.2476],\n",
       "                       [ 0.2426],\n",
       "                       [-0.2726],\n",
       "                       ...,\n",
       "                       [ 0.0010],\n",
       "                       [ 0.0323],\n",
       "                       [ 0.0462]],\n",
       "              \n",
       "                      ...,\n",
       "              \n",
       "                      [[ 0.1476],\n",
       "                       [-0.2502],\n",
       "                       [ 0.0011],\n",
       "                       ...,\n",
       "                       [ 0.0370],\n",
       "                       [ 0.1548],\n",
       "                       [-0.0489]],\n",
       "              \n",
       "                      [[-0.0602],\n",
       "                       [ 0.0255],\n",
       "                       [ 0.0397],\n",
       "                       ...,\n",
       "                       [-0.1958],\n",
       "                       [-0.2185],\n",
       "                       [ 0.3116]],\n",
       "              \n",
       "                      [[ 0.2232],\n",
       "                       [ 0.3013],\n",
       "                       [-0.1813],\n",
       "                       ...,\n",
       "                       [-0.1359],\n",
       "                       [-0.1772],\n",
       "                       [-0.2143]]], device='cuda:0')),\n",
       "             ('module.model.model.3.convs.1.bias',\n",
       "              tensor([ 0.0550, -0.0374, -0.0185, -0.0057, -0.0478, -0.0861, -0.0218, -0.0243,\n",
       "                      -0.0548, -0.0125, -0.1083, -0.1112, -0.0275, -0.0333, -0.1281, -0.0541,\n",
       "                       0.1008,  0.0168,  0.1114,  0.0027, -0.0011,  0.0174, -0.0853,  0.0397,\n",
       "                      -0.0516, -0.0075,  0.0023,  0.0388,  0.0079, -0.0331, -0.0385, -0.0484,\n",
       "                      -0.0630,  0.0830, -0.0553, -0.0201,  0.0293, -0.0121,  0.0134, -0.0200,\n",
       "                       0.0396, -0.1265, -0.0034, -0.0601,  0.0129, -0.0052, -0.0392, -0.1230,\n",
       "                       0.0481,  0.0371, -0.0136,  0.0533,  0.1635, -0.0353, -0.0257,  0.0327,\n",
       "                       0.0386, -0.0096,  0.0071, -0.0094,  0.0721,  0.0085,  0.0459,  0.0348],\n",
       "                     device='cuda:0')),\n",
       "             ('module.model.model.3.filter_convs.0.weight',\n",
       "              tensor([[[-0.0384,  0.0190,  0.0253],\n",
       "                       [-0.0581, -0.0037, -0.2585],\n",
       "                       [ 0.0408,  0.1356,  0.2517],\n",
       "                       ...,\n",
       "                       [ 0.0815, -0.0214,  0.1043],\n",
       "                       [-0.0342,  0.0577, -0.0312],\n",
       "                       [-0.1554,  0.1133, -0.1799]],\n",
       "              \n",
       "                      [[ 0.1268,  0.1347, -0.0652],\n",
       "                       [ 0.0228, -0.0738,  0.1342],\n",
       "                       [-0.1480,  0.1375,  0.0221],\n",
       "                       ...,\n",
       "                       [-0.0591, -0.1924,  0.0656],\n",
       "                       [-0.0887,  0.0528, -0.0641],\n",
       "                       [-0.1457, -0.1046,  0.0913]],\n",
       "              \n",
       "                      [[-0.0393,  0.1606, -0.0976],\n",
       "                       [ 0.0371,  0.1087, -0.0326],\n",
       "                       [-0.0420,  0.0807, -0.1602],\n",
       "                       ...,\n",
       "                       [-0.1525, -0.1574, -0.0171],\n",
       "                       [-0.0214,  0.0065,  0.1504],\n",
       "                       [-0.0148, -0.0949, -0.0906]],\n",
       "              \n",
       "                      ...,\n",
       "              \n",
       "                      [[-0.0383, -0.0673, -0.0324],\n",
       "                       [ 0.0134, -0.0390, -0.0942],\n",
       "                       [-0.0650,  0.0438, -0.1475],\n",
       "                       ...,\n",
       "                       [-0.0970,  0.0464,  0.0396],\n",
       "                       [ 0.1390,  0.0278,  0.1585],\n",
       "                       [-0.0155,  0.0394, -0.1037]],\n",
       "              \n",
       "                      [[ 0.0524, -0.1033,  0.1609],\n",
       "                       [ 0.0620, -0.0288, -0.1521],\n",
       "                       [-0.0429,  0.0107, -0.1543],\n",
       "                       ...,\n",
       "                       [ 0.1372,  0.0443,  0.2205],\n",
       "                       [ 0.0535, -0.1450,  0.0683],\n",
       "                       [ 0.0558, -0.1276,  0.1609]],\n",
       "              \n",
       "                      [[ 0.0625,  0.0933, -0.0649],\n",
       "                       [-0.1739, -0.0763,  0.0061],\n",
       "                       [-0.0525, -0.1072,  0.0703],\n",
       "                       ...,\n",
       "                       [-0.0888,  0.1098,  0.0140],\n",
       "                       [-0.0307,  0.1052,  0.0409],\n",
       "                       [-0.1569,  0.0665, -0.0902]]], device='cuda:0')),\n",
       "             ('module.model.model.3.filter_convs.0.bias',\n",
       "              tensor([-0.1130,  0.0606,  0.0927, -0.0019, -0.0183, -0.0627,  0.0947,  0.0889,\n",
       "                       0.0549, -0.0305,  0.1439, -0.0375, -0.0046, -0.0268,  0.0788,  0.0729,\n",
       "                       0.0536, -0.0311, -0.0038,  0.0634, -0.0064,  0.0276,  0.0624, -0.0460,\n",
       "                       0.0349,  0.0296, -0.0548,  0.0445, -0.0316, -0.0379,  0.0482,  0.1678,\n",
       "                       0.0603, -0.0047,  0.1013,  0.0124, -0.0406, -0.0034,  0.0222, -0.0663,\n",
       "                       0.0091,  0.0153,  0.0104,  0.0026,  0.0582,  0.0290, -0.0264, -0.0356,\n",
       "                       0.0483, -0.0202,  0.0230, -0.0147,  0.0256,  0.0640,  0.0590, -0.1409,\n",
       "                       0.1355,  0.0559,  0.0207,  0.0427, -0.0068, -0.0114,  0.0353, -0.0379],\n",
       "                     device='cuda:0')),\n",
       "             ('module.model.model.3.gate_convs.0.weight',\n",
       "              tensor([[[ 0.0189, -0.0503, -0.2202],\n",
       "                       [ 0.1146,  0.2043, -0.0862],\n",
       "                       [ 0.1419,  0.1177,  0.0359],\n",
       "                       ...,\n",
       "                       [-0.0425,  0.0224,  0.0747],\n",
       "                       [-0.1323, -0.0490, -0.0197],\n",
       "                       [ 0.1323,  0.1100,  0.0926]],\n",
       "              \n",
       "                      [[ 0.3169, -0.0264,  0.1572],\n",
       "                       [-0.1210,  0.1937,  0.0599],\n",
       "                       [-0.0951,  0.0122,  0.0197],\n",
       "                       ...,\n",
       "                       [-0.0094, -0.2141, -0.1053],\n",
       "                       [ 0.1550, -0.0772,  0.0021],\n",
       "                       [-0.1202, -0.2439, -0.2664]],\n",
       "              \n",
       "                      [[ 0.0877, -0.2051, -0.0890],\n",
       "                       [ 0.0089, -0.0189, -0.2026],\n",
       "                       [ 0.1684,  0.0228,  0.1731],\n",
       "                       ...,\n",
       "                       [-0.0819,  0.0928, -0.1234],\n",
       "                       [-0.1906, -0.0436, -0.1054],\n",
       "                       [ 0.0922, -0.1706, -0.1962]],\n",
       "              \n",
       "                      ...,\n",
       "              \n",
       "                      [[-0.0335,  0.0443, -0.1312],\n",
       "                       [-0.0970,  0.0070, -0.1650],\n",
       "                       [ 0.0625,  0.0979, -0.0610],\n",
       "                       ...,\n",
       "                       [-0.1741, -0.0037, -0.0284],\n",
       "                       [ 0.0561,  0.1645,  0.1639],\n",
       "                       [ 0.0646,  0.1816, -0.1460]],\n",
       "              \n",
       "                      [[-0.2321, -0.3116, -0.1048],\n",
       "                       [ 0.0282, -0.1648, -0.0634],\n",
       "                       [ 0.1680,  0.1285,  0.0062],\n",
       "                       ...,\n",
       "                       [-0.1348,  0.1268,  0.0690],\n",
       "                       [ 0.0558,  0.2460,  0.0130],\n",
       "                       [ 0.2331,  0.0862, -0.0202]],\n",
       "              \n",
       "                      [[-0.2502,  0.0415, -0.2143],\n",
       "                       [ 0.0187,  0.0841,  0.0146],\n",
       "                       [-0.0573,  0.1332,  0.1613],\n",
       "                       ...,\n",
       "                       [-0.0788,  0.1393, -0.0214],\n",
       "                       [-0.0791,  0.0032, -0.1744],\n",
       "                       [ 0.1084, -0.0615,  0.0925]]], device='cuda:0')),\n",
       "             ('module.model.model.3.gate_convs.0.bias',\n",
       "              tensor([ 0.0519, -0.0519,  0.0488, -0.0029,  0.0178,  0.0139,  0.0717, -0.0431,\n",
       "                       0.0678,  0.0685,  0.0583,  0.0144,  0.0321, -0.0185, -0.0747,  0.0526,\n",
       "                      -0.0378, -0.0390,  0.0085, -0.0748, -0.0669, -0.0184,  0.0177,  0.0110,\n",
       "                      -0.1099, -0.0717, -0.0282,  0.0305,  0.0258, -0.0255, -0.0251, -0.0040,\n",
       "                      -0.0303,  0.0055, -0.0409, -0.0754, -0.0275, -0.0517,  0.0372, -0.0662,\n",
       "                       0.0586, -0.0448,  0.0233, -0.0649, -0.0202,  0.0158,  0.0546, -0.0157,\n",
       "                      -0.0520,  0.0019,  0.0123, -0.0220,  0.0596, -0.0560, -0.0036, -0.0188,\n",
       "                       0.0099, -0.0216, -0.0335,  0.0603,  0.0693,  0.0475, -0.0081, -0.0134],\n",
       "                     device='cuda:0')),\n",
       "             ('module.head.0.weight',\n",
       "              tensor([[ 0.0882, -0.0446, -0.0916,  ...,  0.0906,  0.0296, -0.0302],\n",
       "                      [-0.0496,  0.0357,  0.0336,  ...,  0.0719, -0.1168,  0.0637],\n",
       "                      [-0.1051,  0.0007, -0.0166,  ..., -0.0751, -0.0681,  0.0325],\n",
       "                      ...,\n",
       "                      [ 0.0746, -0.0565,  0.0870,  ...,  0.0914,  0.0721,  0.0231],\n",
       "                      [-0.0318, -0.0805, -0.0256,  ..., -0.0100, -0.0943,  0.0182],\n",
       "                      [-0.0032, -0.0659, -0.0479,  ...,  0.0010, -0.0508,  0.1329]],\n",
       "                     device='cuda:0')),\n",
       "             ('module.head.0.bias',\n",
       "              tensor([ 0.0447, -0.1171,  0.0142, -0.0880,  0.1041,  0.0340,  0.1112, -0.0410,\n",
       "                      -0.0139,  0.0351,  0.0063, -0.0177, -0.0552, -0.0384,  0.0046,  0.0747,\n",
       "                      -0.0067, -0.0289,  0.0328, -0.1268,  0.1073,  0.0981,  0.0817, -0.0391,\n",
       "                       0.0373, -0.0176, -0.0941, -0.0981,  0.0252, -0.0607, -0.0094, -0.0200,\n",
       "                      -0.0245, -0.0543,  0.0682, -0.0821, -0.1104,  0.0573, -0.0384, -0.0496,\n",
       "                       0.0925,  0.0320,  0.0502,  0.0480,  0.0614,  0.1427, -0.0536,  0.0294,\n",
       "                      -0.0485, -0.0218,  0.0479, -0.0286, -0.0030, -0.1323, -0.0642,  0.0788,\n",
       "                       0.1040, -0.0430,  0.0140, -0.0022,  0.0112,  0.0108, -0.0074, -0.0051],\n",
       "                     device='cuda:0')),\n",
       "             ('module.head.1.weight',\n",
       "              tensor([1.1746, 1.1851, 1.3016, 1.3542, 1.2476, 1.3665, 1.1238, 1.1850, 1.2791,\n",
       "                      1.0925, 1.3847, 1.2140, 1.0890, 1.0776, 1.3901, 1.2550, 1.1365, 1.1599,\n",
       "                      1.0467, 1.1650, 1.1962, 1.1603, 1.1131, 1.2605, 1.2159, 1.2270, 1.2832,\n",
       "                      1.1603, 1.2451, 1.3693, 1.1660, 1.1479, 1.2527, 1.2427, 1.1599, 1.1485,\n",
       "                      1.1180, 1.2285, 1.2262, 1.0867, 1.3659, 1.1900, 1.1392, 1.4939, 1.1770,\n",
       "                      1.2106, 1.2998, 1.2514, 1.2226, 1.2211, 1.0955, 1.3415, 1.2293, 1.1364,\n",
       "                      1.3156, 1.3575, 1.2747, 1.2358, 1.4561, 1.1407, 1.1133, 1.1902, 1.3884,\n",
       "                      1.1118], device='cuda:0')),\n",
       "             ('module.head.1.bias',\n",
       "              tensor([ 0.2099,  0.1246,  0.1911, -0.0101,  0.2096, -0.0752,  0.0200,  0.0687,\n",
       "                       0.3226,  0.0174, -0.1833,  0.0896, -0.0045,  0.1623, -0.0507,  0.0657,\n",
       "                       0.1170,  0.0805,  0.1353,  0.1066, -0.0705,  0.0986, -0.1206,  0.0092,\n",
       "                       0.0168,  0.0055, -0.0118,  0.0322, -0.1965,  0.3379,  0.2293,  0.2152,\n",
       "                       0.1521,  0.1981,  0.2179,  0.1294,  0.0958,  0.1544,  0.1029,  0.1353,\n",
       "                       0.1388,  0.1734,  0.1991, -0.1200, -0.0256,  0.0552,  0.1780,  0.2139,\n",
       "                       0.1425, -0.1037,  0.1841, -0.1477,  0.1940,  0.0220, -0.2479, -0.0987,\n",
       "                       0.0480,  0.1248,  0.0028,  0.0726,  0.1821,  0.1355, -0.1739, -0.0117],\n",
       "                     device='cuda:0')),\n",
       "             ('module.head.1.running_mean',\n",
       "              tensor([ 0.1282, -0.4713, -0.2421, -0.1057, -1.4136,  0.2450,  0.6185, -0.4116,\n",
       "                       0.4367, -0.4586, -0.4706, -0.5054, -0.1698,  0.2826, -0.2249, -0.6750,\n",
       "                      -0.6882, -0.2369, -0.7889, -1.2198, -0.2923, -0.6251, -0.2225, -0.4777,\n",
       "                       0.0699,  0.3228, -0.1698, -1.1396, -0.0447,  0.2833,  0.5523,  0.3094,\n",
       "                      -0.6170,  0.0184,  0.2286,  0.4566,  0.0217,  0.2720,  0.0571,  1.0683,\n",
       "                      -0.3902,  0.5948, -0.7317,  0.3414,  0.2409, -0.2185,  0.4006,  1.0626,\n",
       "                      -0.3165,  0.0107, -0.1328,  0.0694, -0.0903,  0.4139, -0.1651, -0.0237,\n",
       "                       0.1435, -0.2952, -0.1348, -0.6141, -1.0002, -0.3853, -0.2964,  0.2596],\n",
       "                     device='cuda:0')),\n",
       "             ('module.head.1.running_var',\n",
       "              tensor([0.2248, 0.1800, 0.2177, 0.2305, 0.3153, 0.1875, 0.1882, 0.8839, 0.2779,\n",
       "                      0.2868, 0.2027, 0.2226, 0.5406, 0.5250, 0.3514, 0.3912, 0.1573, 0.3498,\n",
       "                      0.4403, 0.5193, 0.2040, 0.4800, 0.2343, 0.2519, 0.3359, 0.3112, 0.2273,\n",
       "                      0.2484, 0.1850, 0.3497, 0.6854, 0.3835, 0.2386, 0.2344, 0.1586, 0.4660,\n",
       "                      0.3966, 0.2909, 0.3119, 0.3926, 0.2532, 0.2771, 0.4436, 0.3143, 0.2959,\n",
       "                      0.3742, 0.4040, 0.7533, 0.3328, 0.1825, 0.4430, 0.3269, 0.2353, 0.5971,\n",
       "                      0.3163, 0.1880, 0.1997, 0.2755, 0.2221, 0.2766, 0.3781, 0.2548, 0.4296,\n",
       "                      0.2941], device='cuda:0')),\n",
       "             ('module.head.1.num_batches_tracked',\n",
       "              tensor(6112, device='cuda:0')),\n",
       "             ('module.head.4.weight',\n",
       "              tensor([[ 1.8900e-01,  2.9065e-02,  2.3004e-01,  1.5309e-01,  6.8437e-02,\n",
       "                        2.6096e-03, -1.9097e-01, -1.1137e-01, -2.8080e-03, -1.4893e-01,\n",
       "                        4.2571e-01,  2.2049e-01,  1.1733e-01, -7.2063e-02, -8.5619e-03,\n",
       "                        7.2416e-02, -9.8024e-03,  1.9371e-01, -9.4061e-03,  2.0929e-02,\n",
       "                       -1.7190e-01, -2.8605e-01, -1.8390e-01, -3.2321e-01,  1.0994e-01,\n",
       "                        8.6931e-02,  5.4892e-02, -2.4566e-01,  1.9703e-01,  8.0170e-02,\n",
       "                        1.6644e-01,  2.1684e-01, -3.9035e-01, -2.3132e-01, -1.1602e-01,\n",
       "                       -3.0924e-01, -2.7542e-01, -4.1723e-01, -2.8398e-01, -3.0393e-02,\n",
       "                        2.1717e-01, -2.1130e-01, -1.8009e-01,  6.2211e-02, -3.5861e-01,\n",
       "                        3.1378e-01,  1.5153e-01,  2.0220e-02, -3.2670e-01, -1.0177e-01,\n",
       "                       -9.9461e-02,  2.4490e-01, -2.6760e-01, -2.2079e-01, -9.2673e-02,\n",
       "                        1.6293e-01,  3.5976e-02, -1.2237e-01, -1.5643e-02, -2.1121e-01,\n",
       "                       -2.5046e-01, -1.7580e-01,  8.7693e-02,  1.4206e-01],\n",
       "                      [-2.4675e-01, -1.6723e-01,  6.2616e-03, -1.6564e-01, -1.9566e-01,\n",
       "                       -2.5691e-02, -2.8068e-01, -3.1343e-01, -9.2695e-02, -2.0328e-01,\n",
       "                        1.0729e-01, -2.4499e-01, -1.3274e-01,  5.2365e-02,  3.2771e-01,\n",
       "                       -2.6120e-01, -1.7976e-01, -6.0749e-02, -2.2293e-01, -1.6699e-01,\n",
       "                        1.2996e-01, -1.6683e-01,  1.5719e-01,  1.2654e-01,  2.5062e-01,\n",
       "                       -3.4013e-01,  2.5507e-01, -1.6471e-01,  8.0887e-02, -1.6695e-01,\n",
       "                       -2.7743e-01, -1.8631e-01, -2.6263e-02, -9.2751e-02,  2.3860e-02,\n",
       "                        3.9255e-03, -8.6942e-02,  1.2925e-01,  1.0778e-01, -2.4883e-01,\n",
       "                        2.0258e-01, -2.8716e-01,  1.9402e-01,  3.0345e-01,  6.7544e-02,\n",
       "                       -1.9897e-01, -3.9161e-01, -3.3976e-01,  1.8132e-01,  3.4229e-01,\n",
       "                       -2.1066e-01,  3.6110e-01,  1.5941e-01, -3.7243e-02,  2.7043e-01,\n",
       "                        2.7202e-02,  1.7124e-01,  9.4331e-02,  1.5794e-01, -2.4792e-01,\n",
       "                       -2.4679e-02,  2.3549e-01,  2.8954e-01, -5.6834e-02],\n",
       "                      [-1.9778e-01, -1.5060e-01,  1.4245e-01, -3.4229e-01,  1.5476e-01,\n",
       "                       -2.4799e-01,  1.7775e-01, -2.3715e-01, -4.2613e-01,  5.2838e-03,\n",
       "                       -3.2133e-01,  6.1882e-02, -2.1804e-01, -5.2396e-02, -1.4093e-01,\n",
       "                        1.5093e-01,  1.1130e-01, -7.6589e-02, -3.4465e-02,  9.8434e-02,\n",
       "                        4.9199e-02,  2.7637e-02, -1.3108e-01,  2.1753e-01,  6.7832e-02,\n",
       "                       -1.2699e-01,  5.1948e-02,  2.3390e-02, -2.1215e-01, -4.8553e-01,\n",
       "                       -2.8965e-01,  1.5638e-01,  1.6295e-01,  1.3588e-01, -2.5183e-01,\n",
       "                       -1.3200e-01, -1.4315e-01, -4.1245e-02,  1.7127e-01, -1.5574e-01,\n",
       "                       -1.5045e-02,  9.1940e-02,  1.3830e-01, -4.6082e-01,  2.4631e-02,\n",
       "                       -8.5350e-02, -2.7056e-01, -3.7456e-01, -1.8814e-03,  5.3617e-02,\n",
       "                        8.7592e-02, -1.5604e-01,  1.7460e-01, -3.6179e-02, -3.6782e-01,\n",
       "                       -3.5329e-01,  1.4834e-01, -3.7645e-01, -2.9740e-01,  2.1948e-01,\n",
       "                        5.7288e-02, -1.4030e-01, -3.9215e-01,  1.7565e-01],\n",
       "                      [-2.3944e-01,  6.6697e-04, -3.7281e-01,  1.5220e-01, -2.4897e-01,\n",
       "                        3.7272e-01,  1.7031e-01,  6.2782e-04, -2.1875e-01, -6.6073e-02,\n",
       "                        1.1989e-01, -2.0517e-01,  8.3024e-02, -2.4686e-01,  1.6742e-01,\n",
       "                       -4.0154e-01, -1.4072e-02, -3.3846e-01, -8.1708e-02, -2.3279e-01,\n",
       "                        3.5321e-02, -1.2114e-01,  3.3738e-02, -1.7203e-01, -2.0244e-01,\n",
       "                        1.0831e-02, -3.3999e-01,  1.5145e-01,  3.7077e-01,  1.0479e-01,\n",
       "                       -4.6085e-02, -2.9317e-01, -1.9155e-01, -2.1947e-01, -1.2677e-01,\n",
       "                       -3.8889e-04, -4.6040e-03,  4.0927e-02, -2.7285e-01, -2.2618e-01,\n",
       "                       -3.8829e-01,  1.5044e-02, -2.2894e-01,  1.8114e-01,  1.1376e-01,\n",
       "                       -1.3897e-01, -9.2803e-02,  3.1922e-02, -5.1733e-02,  1.3535e-01,\n",
       "                       -7.3822e-02, -1.1317e-01, -7.8740e-02,  4.7525e-03,  3.8878e-01,\n",
       "                        1.9253e-01, -2.8047e-01,  1.3600e-01,  2.7601e-01, -7.0285e-02,\n",
       "                       -6.5152e-02, -1.8330e-01,  1.8542e-01, -5.8783e-02],\n",
       "                      [ 1.2005e-01, -1.8975e-01, -9.7350e-02, -1.1449e-01, -2.2649e-01,\n",
       "                       -4.4491e-01,  1.9023e-01,  1.5359e-01,  9.9357e-02, -1.3199e-02,\n",
       "                       -3.5501e-01, -1.2161e-01,  1.5762e-01, -1.5530e-01, -4.3163e-01,\n",
       "                       -1.9704e-01, -2.0969e-01, -2.0120e-01,  1.7069e-01, -3.3357e-01,\n",
       "                       -4.0135e-01,  1.8263e-01,  2.0147e-01,  1.3815e-01, -2.8918e-01,\n",
       "                        1.9484e-01, -1.1634e-01,  1.1473e-01, -3.3406e-01,  7.0602e-02,\n",
       "                       -4.3978e-02, -1.3818e-01, -5.8659e-02, -2.1344e-02,  1.0975e-01,\n",
       "                        1.7444e-01,  1.3366e-01,  5.4428e-02, -4.7512e-03, -2.1899e-02,\n",
       "                       -2.9532e-01,  1.1031e-01, -4.8002e-02, -4.0820e-01,  2.2279e-01,\n",
       "                        1.2456e-01,  1.9990e-01,  1.5149e-01, -8.3385e-02, -3.1698e-01,\n",
       "                        1.3258e-01, -1.3774e-01, -2.3549e-01,  1.3513e-01, -3.1685e-01,\n",
       "                       -2.7796e-01, -3.3423e-01,  6.7464e-03, -3.6067e-01,  1.5482e-01,\n",
       "                        1.3630e-01, -1.2070e-01, -4.1752e-01,  1.6310e-01],\n",
       "                      [ 1.5134e-01,  1.1727e-01, -9.7686e-02,  7.7894e-02, -5.3445e-02,\n",
       "                       -7.7394e-03, -2.4228e-02, -5.0950e-02,  7.7402e-02,  2.2475e-01,\n",
       "                       -1.9352e-01, -1.4495e-01, -1.7590e-01,  2.1196e-01, -5.5839e-02,\n",
       "                       -4.4184e-02,  2.2049e-01,  1.5609e-01,  1.4881e-01,  1.8591e-01,\n",
       "                       -3.4172e-02, -1.3133e-01, -2.0260e-01, -1.9280e-02, -6.9967e-02,\n",
       "                       -9.8777e-02, -1.4384e-01, -4.8878e-02, -1.9352e-01,  9.5466e-02,\n",
       "                        6.3751e-02, -7.5814e-02, -1.0587e-02,  1.5908e-01,  1.5606e-01,\n",
       "                        1.4607e-01,  8.4611e-03,  1.7634e-01, -9.5840e-02,  1.4856e-01,\n",
       "                       -1.0412e-03,  2.0224e-01,  1.1734e-02,  5.2793e-02, -8.5977e-02,\n",
       "                       -2.1368e-01,  2.4527e-02,  9.2806e-02,  1.4060e-01, -2.4065e-01,\n",
       "                        1.1823e-01, -1.9647e-01,  1.3745e-01,  2.0496e-01, -1.4501e-01,\n",
       "                       -9.9817e-02, -1.4560e-02,  1.0487e-01,  1.5229e-01,  3.5063e-02,\n",
       "                        1.8678e-01,  1.8470e-01, -2.8353e-01, -2.4414e-01]], device='cuda:0')),\n",
       "             ('module.head.4.bias',\n",
       "              tensor([ 0.0301, -0.0243,  0.0269, -0.1288, -0.0131,  0.0286], device='cuda:0'))])"
      ]
     },
     "execution_count": 10,
     "metadata": {},
     "output_type": "execute_result"
    }
   ],
   "source": [
    "state_dict"
   ]
  },
  {
   "cell_type": "code",
   "execution_count": null,
   "metadata": {
    "execution": {
     "iopub.execute_input": "2024-03-12T16:58:01.459881Z",
     "iopub.status.busy": "2024-03-12T16:58:01.459593Z",
     "iopub.status.idle": "2024-03-12T16:58:01.741998Z",
     "shell.execute_reply": "2024-03-12T16:58:01.741092Z",
     "shell.execute_reply.started": "2024-03-12T16:58:01.459856Z"
    }
   },
   "outputs": [],
   "source": [
    "from torch.optim.lr_scheduler import OneCycleLR\n",
    "\n",
    "EPOCHS = config.EPOCHS\n",
    "BATCHES = len(train_loader)\n",
    "steps = []\n",
    "lrs = []\n",
    "optim_lrs = []\n",
    "model = CustomModel()\n",
    "optimizer = torch.optim.AdamW(model.parameters(), lr=1e-4)\n",
    "scheduler = OneCycleLR(\n",
    "    optimizer,\n",
    "    max_lr=1e-3,\n",
    "    epochs=config.EPOCHS,\n",
    "    steps_per_epoch=len(train_loader),\n",
    "    pct_start=0.1,\n",
    "    anneal_strategy=\"cos\",\n",
    "    final_div_factor=100,\n",
    ")\n",
    "for epoch in range(EPOCHS):\n",
    "    for batch in range(BATCHES):\n",
    "        scheduler.step()\n",
    "        lrs.append(scheduler.get_last_lr()[0])\n",
    "        steps.append(epoch * BATCHES + batch)\n",
    "\n",
    "max_lr = max(lrs)\n",
    "min_lr = min(lrs)\n",
    "print(f\"Maximum LR: {max_lr} | Minimum LR: {min_lr}\")\n",
    "plt.figure()\n",
    "plt.plot(steps, lrs, label='OneCycle')\n",
    "plt.ticklabel_format(axis='y', style='sci', scilimits=(0,0))\n",
    "plt.xlabel(\"Step\")\n",
    "plt.ylabel(\"Learning Rate\")\n",
    "plt.show()"
   ]
  },
  {
   "cell_type": "markdown",
   "metadata": {},
   "source": [
    "# <b><span style='color:#F1A424'>|</span> Loss Function</b><a class='anchor' id='loss'></a> [↑](#top) \n",
    "\n",
    "***\n"
   ]
  },
  {
   "cell_type": "code",
   "execution_count": null,
   "metadata": {
    "execution": {
     "iopub.execute_input": "2024-03-12T16:58:01.744244Z",
     "iopub.status.busy": "2024-03-12T16:58:01.74394Z",
     "iopub.status.idle": "2024-03-12T16:58:01.757314Z",
     "shell.execute_reply": "2024-03-12T16:58:01.756339Z",
     "shell.execute_reply.started": "2024-03-12T16:58:01.744215Z"
    }
   },
   "outputs": [],
   "source": [
    "import torch.nn.functional as F\n",
    "\n",
    "# === Reduction = \"mean\" ===\n",
    "criterion = nn.KLDivLoss(reduction=\"mean\")\n",
    "y_pred = F.log_softmax(torch.randn(6, 2, requires_grad=True), dim=1)\n",
    "y_true = F.softmax(torch.rand(6, 2), dim=1)\n",
    "print(f\"Predictions: {y_pred}\")\n",
    "print(f\"Targets: {y_true}\")\n",
    "output = criterion(y_pred, y_true)\n",
    "print(f\"Output: {output}\")\n",
    "\n",
    "print(\"\\n\", \"=\"*100, \"\\n\")\n",
    "\n",
    "# === Reduction = \"batchmean\" ===\n",
    "criterion = nn.KLDivLoss(reduction=\"batchmean\")\n",
    "y_pred = F.log_softmax(torch.randn(2, 6, requires_grad=True), dim=1)\n",
    "y_true = F.softmax(torch.rand(2, 6), dim=1)\n",
    "print(f\"Predictions: {y_pred}\")\n",
    "print(f\"Targets: {y_true}\")\n",
    "output = criterion(y_pred, y_true)\n",
    "print(f\"Output: {output}\")"
   ]
  },
  {
   "cell_type": "markdown",
   "metadata": {},
   "source": [
    "# <b><span style='color:#F1A424'>|</span> Train and Validation Functions</b><a class='anchor' id='functions'></a> [↑](#top) \n",
    "\n",
    "***"
   ]
  },
  {
   "cell_type": "code",
   "execution_count": null,
   "metadata": {
    "execution": {
     "iopub.execute_input": "2024-03-12T16:58:01.759009Z",
     "iopub.status.busy": "2024-03-12T16:58:01.758734Z",
     "iopub.status.idle": "2024-03-12T16:58:01.776795Z",
     "shell.execute_reply": "2024-03-12T16:58:01.775958Z",
     "shell.execute_reply.started": "2024-03-12T16:58:01.758985Z"
    }
   },
   "outputs": [],
   "source": [
    "def train_epoch(train_loader, model, optimizer, epoch, scheduler, device):\n",
    "    \"\"\"One epoch training pass.\"\"\"\n",
    "    model.train()\n",
    "    criterion = nn.KLDivLoss(reduction=\"batchmean\")\n",
    "    scaler = torch.cuda.amp.GradScaler(enabled=config.AMP)\n",
    "    losses = AverageMeter()\n",
    "    start = end = time.time()\n",
    "    global_step = 0\n",
    "    \n",
    "    # ========== ITERATE OVER TRAIN BATCHES ============\n",
    "    with tqdm(train_loader, unit=\"train_batch\", desc='Train') as tqdm_train_loader:\n",
    "        for step, batch in enumerate(tqdm_train_loader):\n",
    "            X = batch.pop(\"X\").to(device) # send inputs to `device`\n",
    "            y = batch.pop(\"y\").to(device) # send labels to `device`\n",
    "            batch_size = y.size(0)\n",
    "            with torch.cuda.amp.autocast(enabled=config.AMP):\n",
    "                y_preds = model(X)\n",
    "                loss = criterion(F.log_softmax(y_preds, dim=1), y)\n",
    "            if config.GRADIENT_ACCUMULATION_STEPS > 1:\n",
    "                loss = loss / config.GRADIENT_ACCUMULATION_STEPS\n",
    "            losses.update(loss.item(), batch_size)\n",
    "            scaler.scale(loss).backward()\n",
    "            grad_norm = torch.nn.utils.clip_grad_norm_(model.parameters(), config.MAX_GRAD_NORM)\n",
    "            \n",
    "            if (step + 1) % config.GRADIENT_ACCUMULATION_STEPS == 0:\n",
    "                scaler.step(optimizer)\n",
    "                scaler.update()\n",
    "                optimizer.zero_grad()\n",
    "                global_step += 1\n",
    "                scheduler.step()\n",
    "            end = time.time()\n",
    "\n",
    "            # ========== LOG INFO ==========\n",
    "            if step % config.PRINT_FREQ == 0 or step == (len(train_loader)-1):\n",
    "                print('Epoch: [{0}][{1}/{2}] '\n",
    "                      'Elapsed {remain:s} '\n",
    "                      'Loss: {loss.avg:.4f} '\n",
    "                      'Grad: {grad_norm:.4f}  '\n",
    "                      'LR: {lr:.8f}  '\n",
    "                      .format(epoch+1, step, len(train_loader), \n",
    "                              remain=timeSince(start, float(step+1)/len(train_loader)),\n",
    "                              loss=losses,\n",
    "                              grad_norm=grad_norm,\n",
    "                              lr=scheduler.get_last_lr()[0]))\n",
    "\n",
    "    return losses.avg\n",
    "\n",
    "\n",
    "def valid_epoch(valid_loader, model, device):\n",
    "    model.eval() \n",
    "    softmax = nn.Softmax(dim=1)\n",
    "    losses = AverageMeter()\n",
    "    prediction_dict = {}\n",
    "    preds = []\n",
    "    start = end = time.time()\n",
    "    with tqdm(valid_loader, unit=\"valid_batch\", desc='Validation') as tqdm_valid_loader:\n",
    "        for step, batch in enumerate(tqdm_valid_loader):\n",
    "            X = batch.pop(\"X\").to(device) \n",
    "            y = batch.pop(\"y\").to(device)\n",
    "            batch_size = y.size(0)\n",
    "            with torch.no_grad():\n",
    "                y_preds = model(X)\n",
    "                loss = criterion(F.log_softmax(y_preds, dim=1), y)\n",
    "            if config.GRADIENT_ACCUMULATION_STEPS > 1:\n",
    "                loss = loss / config.GRADIENT_ACCUMULATION_STEPS\n",
    "            losses.update(loss.item(), batch_size)\n",
    "            y_preds = softmax(y_preds)\n",
    "            preds.append(y_preds.to('cpu').numpy()) \n",
    "            end = time.time()\n",
    "\n",
    "            # ========== LOG INFO ==========\n",
    "            if step % config.PRINT_FREQ == 0 or step == (len(valid_loader)-1):\n",
    "                print('EVAL: [{0}/{1}] '\n",
    "                      'Elapsed {remain:s} '\n",
    "                      'Loss: {loss.avg:.4f} '\n",
    "                      .format(step, len(valid_loader),\n",
    "                              remain=timeSince(start, float(step+1)/len(valid_loader)),\n",
    "                              loss=losses))\n",
    "                \n",
    "    prediction_dict[\"predictions\"] = np.concatenate(preds)\n",
    "    return losses.avg, prediction_dict"
   ]
  },
  {
   "cell_type": "markdown",
   "metadata": {},
   "source": [
    "# <b><span style='color:#F1A424'>|</span> Train Loop</b><a class='anchor' id='train_loop'></a> [↑](#top) \n",
    "\n",
    "***"
   ]
  },
  {
   "cell_type": "code",
   "execution_count": null,
   "metadata": {
    "execution": {
     "iopub.execute_input": "2024-03-12T16:58:01.986096Z",
     "iopub.status.busy": "2024-03-12T16:58:01.985338Z",
     "iopub.status.idle": "2024-03-12T16:58:01.999249Z",
     "shell.execute_reply": "2024-03-12T16:58:01.998217Z",
     "shell.execute_reply.started": "2024-03-12T16:58:01.98606Z"
    }
   },
   "outputs": [],
   "source": [
    "def train_loop(df, fold):\n",
    "    \n",
    "    #LOGGER.info(f\"========== Fold: {fold} training ==========\")\n",
    "    print((f\"========== Fold: {fold} training ==========\"))\n",
    "\n",
    "    # ======== SPLIT ==========\n",
    "    train_folds = df[df['fold'] != fold].reset_index(drop=True)\n",
    "    valid_folds = df[df['fold'] == fold].reset_index(drop=True)\n",
    "    \n",
    "    # ======== DATASETS ==========\n",
    "    train_dataset = CustomDataset(train_folds, config, mode=\"train\")\n",
    "    valid_dataset = CustomDataset(valid_folds, config, mode=\"train\")\n",
    "    \n",
    "    # ======== DATALOADERS ==========\n",
    "    train_loader = DataLoader(train_dataset,\n",
    "                              batch_size=config.BATCH_SIZE_TRAIN,\n",
    "                              shuffle=True,\n",
    "                              num_workers=config.NUM_WORKERS, pin_memory=True, drop_last=True)\n",
    "    valid_loader = DataLoader(valid_dataset,\n",
    "                              batch_size=config.BATCH_SIZE_VALID,\n",
    "                              shuffle=False,\n",
    "                              num_workers=config.NUM_WORKERS, pin_memory=True, drop_last=False)\n",
    "    \n",
    "    # ======== MODEL ==========\n",
    "    model = CustomModel()\n",
    "    model.to(device)\n",
    "\n",
    "    optimizer = torch.optim.AdamW(model.parameters(), lr=0.1, weight_decay=config.WEIGHT_DECAY)\n",
    "    scheduler = OneCycleLR(\n",
    "        optimizer,\n",
    "        max_lr=1e-3,\n",
    "        epochs=config.EPOCHS,\n",
    "        steps_per_epoch=len(train_loader),\n",
    "        pct_start=0.1,\n",
    "        anneal_strategy=\"cos\",\n",
    "        final_div_factor=100,\n",
    "    )\n",
    "\n",
    "    # ======= LOSS ==========\n",
    "    criterion = nn.KLDivLoss(reduction=\"batchmean\")\n",
    "    \n",
    "    best_loss = np.inf\n",
    "    # ====== ITERATE EPOCHS ========\n",
    "    for epoch in range(config.EPOCHS):\n",
    "        start_time = time.time()\n",
    "\n",
    "        # ======= TRAIN ==========\n",
    "        avg_train_loss = train_epoch(train_loader, model, optimizer, epoch, scheduler, device)\n",
    "\n",
    "        # ======= EVALUATION ==========\n",
    "        avg_val_loss, prediction_dict = valid_epoch(valid_loader, model, device)\n",
    "        predictions = prediction_dict[\"predictions\"]\n",
    "        \n",
    "        # ======= SCORING ==========\n",
    "        elapsed = time.time() - start_time\n",
    "\n",
    "        #LOGGER.info(f'Epoch {epoch+1} - avg_train_loss: {avg_train_loss:.4f}  avg_val_loss: {avg_val_loss:.4f}  time: {elapsed:.0f}s')\n",
    "        print(f'Epoch {epoch+1} - avg_train_loss: {avg_train_loss:.4f}  avg_val_loss: {avg_val_loss:.4f}  time: {elapsed:.0f}s')\n",
    "        \n",
    "        if avg_val_loss < best_loss:\n",
    "            best_loss = avg_val_loss\n",
    "            #LOGGER.info(f'Epoch {epoch+1} - Save Best Loss: {best_loss:.4f} Model')\n",
    "            print(f'Epoch {epoch+1} - Save Best Loss: {best_loss:.4f} Model')\n",
    "            torch.save({'model': model.state_dict(),\n",
    "                        'predictions': predictions},\n",
    "                         f\"modelsA4/wavenet_fold_{fold}_best.pth\")\n",
    "\n",
    "    predictions = torch.load(f\"modelsA4/wavenet_fold_{fold}_best.pth\", \n",
    "                             map_location=torch.device('cpu'))['predictions']\n",
    "    valid_folds[target_preds] = predictions\n",
    "\n",
    "    torch.cuda.empty_cache()\n",
    "    gc.collect()\n",
    "    \n",
    "    return valid_folds"
   ]
  },
  {
   "cell_type": "code",
   "execution_count": null,
   "metadata": {},
   "outputs": [],
   "source": [
    "def train_loop(df, fold, prevmodel = None, best_loss = np.inf):\n",
    "    \n",
    "    #LOGGER.info(f\"========== Fold: {fold} training ==========\")\n",
    "    print((f\"========== Fold: {fold} training ==========\"))\n",
    "\n",
    "    # ======== SPLIT ==========\n",
    "    train_folds = df[df['fold'] != fold].reset_index(drop=True)\n",
    "    valid_folds = df[df['fold'] == fold].reset_index(drop=True)\n",
    "    \n",
    "    # ======== DATASETS ==========\n",
    "    train_dataset = CustomDataset(train_folds, config, mode=\"train\")\n",
    "    valid_dataset = CustomDataset(valid_folds, config, mode=\"train\")\n",
    "    \n",
    "    # ======== DATALOADERS ==========\n",
    "    train_loader = DataLoader(train_dataset,\n",
    "                              batch_size=config.BATCH_SIZE_TRAIN,\n",
    "                              shuffle=True,\n",
    "                              num_workers=config.NUM_WORKERS, pin_memory=True, drop_last=True)\n",
    "    valid_loader = DataLoader(valid_dataset,\n",
    "                              batch_size=config.BATCH_SIZE_VALID,\n",
    "                              shuffle=False,\n",
    "                              num_workers=config.NUM_WORKERS, pin_memory=True, drop_last=False)\n",
    "    \n",
    "    # ======== MODEL ==========\n",
    "    model = CustomModel()\n",
    "\n",
    "    # Move the model to GPU if available\n",
    "    device = torch.device(\"cuda\" if torch.cuda.is_available() else \"cpu\")\n",
    "    model.to(device)\n",
    "\n",
    "    # Load the saved state dictionary\n",
    "    state_dict = torch.load(prevmodel)['model']\n",
    "    #state_dict = {f\"module.{key}\": value for key, value in state_dict.items()}\n",
    "\n",
    "    # Load the modified state dictionary into the model\n",
    "    model = nn.DataParallel(model)  # Wrap the model with DataParallel\n",
    "    model.load_state_dict(state_dict)\n",
    "    \n",
    "    optimizer = torch.optim.AdamW(model.parameters(), lr=0.1, weight_decay=config.WEIGHT_DECAY)\n",
    "    scheduler = OneCycleLR(\n",
    "        optimizer,\n",
    "        max_lr=1e-3,\n",
    "        epochs=config.EPOCHS,\n",
    "        steps_per_epoch=len(train_loader),\n",
    "        pct_start=0.1,\n",
    "        anneal_strategy=\"cos\",\n",
    "        final_div_factor=100,\n",
    "    )\n",
    "\n",
    "    # ======= LOSS ==========\n",
    "    criterion = nn.KLDivLoss(reduction=\"batchmean\")\n",
    "    \n",
    "    # ====== ITERATE EPOCHS ========\n",
    "    for epoch in range(config.EPOCHS):\n",
    "        start_time = time.time()\n",
    "\n",
    "        # ======= TRAIN ==========\n",
    "        avg_train_loss = train_epoch(train_loader, model, optimizer, epoch, scheduler, device)\n",
    "\n",
    "        # ======= EVALUATION ==========\n",
    "        avg_val_loss, prediction_dict = valid_epoch(valid_loader, model, device)\n",
    "        predictions = prediction_dict[\"predictions\"]\n",
    "        \n",
    "        # ======= SCORING ==========\n",
    "        elapsed = time.time() - start_time\n",
    "\n",
    "        #LOGGER.info(f'Epoch {epoch+1} - avg_train_loss: {avg_train_loss:.4f}  avg_val_loss: {avg_val_loss:.4f}  time: {elapsed:.0f}s')\n",
    "        print(f'Epoch {epoch+1} - avg_train_loss: {avg_train_loss:.4f}  avg_val_loss: {avg_val_loss:.4f}  time: {elapsed:.0f}s')\n",
    "        \n",
    "        if avg_val_loss < best_loss:\n",
    "            best_loss = avg_val_loss\n",
    "            #LOGGER.info(f'Epoch {epoch+1} - Save Best Loss: {best_loss:.4f} Model')\n",
    "            print(f'Epoch {epoch+1} - Save Best Loss: {best_loss:.4f} Model')\n",
    "            torch.save({'model': model.state_dict(),\n",
    "                        'predictions': predictions,\n",
    "                        'best_loss': best_loss},\n",
    "                         f\"modelsA8/wavenet_fold_{fold}_best.pth\")\n",
    "\n",
    "    predictions = torch.load(f\"modelsA8/wavenet_fold_{fold}_best.pth\", \n",
    "                             map_location=torch.device('cpu'))['predictions']\n",
    "    valid_folds[target_preds] = predictions\n",
    "\n",
    "    torch.cuda.empty_cache()\n",
    "    gc.collect()\n",
    "    \n",
    "    return valid_folds"
   ]
  },
  {
   "cell_type": "markdown",
   "metadata": {},
   "source": [
    "# <b><span style='color:#F1A424'>|</span> Train</b><a class='anchor' id='train'></a> [↑](#top) \n",
    "\n",
    "***"
   ]
  },
  {
   "cell_type": "code",
   "execution_count": null,
   "metadata": {},
   "outputs": [],
   "source": [
    "def get_result(oof_df):\n",
    "    kl_loss = nn.KLDivLoss(reduction=\"batchmean\")\n",
    "    labels = torch.tensor(oof_df[label_cols].values)\n",
    "    preds = torch.tensor(oof_df[target_preds].values)\n",
    "    preds = F.log_softmax(preds, dim=1)\n",
    "    result = kl_loss(preds, labels)\n",
    "    return result\n",
    "\n"
   ]
  },
  {
   "cell_type": "code",
   "execution_count": null,
   "metadata": {},
   "outputs": [],
   "source": [
    "#use modelsA6 add to modelsA4\n",
    "#use models2 and models6"
   ]
  },
  {
   "cell_type": "code",
   "execution_count": null,
   "metadata": {},
   "outputs": [],
   "source": [
    "if not config.TRAIN_FULL_DATA:\n",
    "        oof_df = pd.DataFrame()\n",
    "        for fold in range(config.FOLDS):\n",
    "            if fold in [2,3,4]:\n",
    "                _oof_df = train_loop(train_df, fold,f\"modelsA6/wavenet_fold_{fold}_best.pth\")#, torch.load(f\"models/wavenet_fold_{fold}_best.pth\")[\"best_loss\"])\n",
    "                oof_df = pd.concat([oof_df, _oof_df])\n",
    "                print(f\"========== Fold {fold} result: {get_result(_oof_df)} ==========\")\n",
    "                #LOGGER.info(f\"========== Fold {fold} finished ==========\")\n",
    "        oof_df = oof_df.reset_index(drop=True)\n",
    "        oof_df.to_csv('modelsA8/oof_df.csv', index=False)\n",
    "else:\n",
    "    train_loop_full_data(train_df)"
   ]
  },
  {
   "cell_type": "code",
   "execution_count": 28,
   "metadata": {},
   "outputs": [],
   "source": [
    "        oof_df = oof_df.reset_index(drop=True)\n",
    "        oof_df.to_csv('modelsA8/oof_df.csv', index=False)"
   ]
  },
  {
   "cell_type": "code",
   "execution_count": 50,
   "metadata": {},
   "outputs": [],
   "source": [
    "!mkdir modelsA8"
   ]
  },
  {
   "cell_type": "code",
   "execution_count": 35,
   "metadata": {},
   "outputs": [
    {
     "name": "stdout",
     "output_type": "stream",
     "text": [
      "========== Fold: 0 training ==========\n"
     ]
    },
    {
     "name": "stderr",
     "output_type": "stream",
     "text": [
      "Train:   0%|          | 0/60 [00:00<?, ?train_batch/s]/home/mccruz/.local/lib/python3.10/site-packages/torch/optim/lr_scheduler.py:143: UserWarning: Detected call of `lr_scheduler.step()` before `optimizer.step()`. In PyTorch 1.1.0 and later, you should call them in the opposite order: `optimizer.step()` before `lr_scheduler.step()`.  Failure to do this will result in PyTorch skipping the first value of the learning rate schedule. See more details at https://pytorch.org/docs/stable/optim.html#how-to-adjust-learning-rate\n",
      "  warnings.warn(\"Detected call of `lr_scheduler.step()` before `optimizer.step()`. \"\n",
      "Train:   2%|▏         | 1/60 [00:02<01:59,  2.03s/train_batch]"
     ]
    },
    {
     "name": "stdout",
     "output_type": "stream",
     "text": [
      "Epoch: [1][0/60] Elapsed 0m 2s (remain 1m 59s) Loss: 1.5122 Grad: inf  LR: 0.00004017  \n"
     ]
    },
    {
     "name": "stderr",
     "output_type": "stream",
     "text": [
      "Train:  85%|████████▌ | 51/60 [00:23<00:03,  2.35train_batch/s]"
     ]
    },
    {
     "name": "stdout",
     "output_type": "stream",
     "text": [
      "Epoch: [1][50/60] Elapsed 0m 23s (remain 0m 4s) Loss: 1.6079 Grad: 117629.7109  LR: 0.00041319  \n"
     ]
    },
    {
     "name": "stderr",
     "output_type": "stream",
     "text": [
      "Train: 100%|██████████| 60/60 [00:27<00:00,  2.16train_batch/s]\n"
     ]
    },
    {
     "name": "stdout",
     "output_type": "stream",
     "text": [
      "Epoch: [1][59/60] Elapsed 0m 27s (remain 0m 0s) Loss: 1.5455 Grad: 130999.7266  LR: 0.00052634  \n"
     ]
    },
    {
     "name": "stderr",
     "output_type": "stream",
     "text": [
      "Validation:  10%|▉         | 2/21 [00:01<00:08,  2.24valid_batch/s]"
     ]
    },
    {
     "name": "stdout",
     "output_type": "stream",
     "text": [
      "EVAL: [0/21] Elapsed 0m 0s (remain 0m 16s) Loss: 1.7033 \n"
     ]
    },
    {
     "name": "stderr",
     "output_type": "stream",
     "text": [
      "Validation: 100%|██████████| 21/21 [00:05<00:00,  3.99valid_batch/s]\n"
     ]
    },
    {
     "name": "stdout",
     "output_type": "stream",
     "text": [
      "EVAL: [20/21] Elapsed 0m 5s (remain 0m 0s) Loss: 1.2556 \n",
      "Epoch 1 - avg_train_loss: 1.5455  avg_val_loss: 1.2556  time: 33s\n",
      "Epoch 1 - Save Best Loss: 1.2556 Model\n"
     ]
    },
    {
     "name": "stderr",
     "output_type": "stream",
     "text": [
      "Train:   2%|▏         | 1/60 [00:00<00:40,  1.45train_batch/s]"
     ]
    },
    {
     "name": "stdout",
     "output_type": "stream",
     "text": [
      "Epoch: [2][0/60] Elapsed 0m 0s (remain 0m 40s) Loss: 1.0144 Grad: 400968.0938  LR: 0.00053900  \n"
     ]
    },
    {
     "name": "stderr",
     "output_type": "stream",
     "text": [
      "Train:  85%|████████▌ | 51/60 [00:19<00:03,  2.56train_batch/s]"
     ]
    },
    {
     "name": "stdout",
     "output_type": "stream",
     "text": [
      "Epoch: [2][50/60] Elapsed 0m 19s (remain 0m 3s) Loss: 0.8021 Grad: 148870.7344  LR: 0.00098933  \n"
     ]
    },
    {
     "name": "stderr",
     "output_type": "stream",
     "text": [
      "Train: 100%|██████████| 60/60 [00:23<00:00,  2.55train_batch/s]\n"
     ]
    },
    {
     "name": "stdout",
     "output_type": "stream",
     "text": [
      "Epoch: [2][59/60] Elapsed 0m 23s (remain 0m 0s) Loss: 0.7865 Grad: 174234.2812  LR: 0.00100000  \n"
     ]
    },
    {
     "name": "stderr",
     "output_type": "stream",
     "text": [
      "Validation:  10%|▉         | 2/21 [00:00<00:06,  3.04valid_batch/s]"
     ]
    },
    {
     "name": "stdout",
     "output_type": "stream",
     "text": [
      "EVAL: [0/21] Elapsed 0m 0s (remain 0m 11s) Loss: 1.0254 \n"
     ]
    },
    {
     "name": "stderr",
     "output_type": "stream",
     "text": [
      "Validation: 100%|██████████| 21/21 [00:05<00:00,  4.10valid_batch/s]\n"
     ]
    },
    {
     "name": "stdout",
     "output_type": "stream",
     "text": [
      "EVAL: [20/21] Elapsed 0m 4s (remain 0m 0s) Loss: 0.7939 \n",
      "Epoch 2 - avg_train_loss: 0.7865  avg_val_loss: 0.7939  time: 29s\n",
      "Epoch 2 - Save Best Loss: 0.7939 Model\n"
     ]
    },
    {
     "name": "stderr",
     "output_type": "stream",
     "text": [
      "Train:   2%|▏         | 1/60 [00:00<00:42,  1.40train_batch/s]"
     ]
    },
    {
     "name": "stdout",
     "output_type": "stream",
     "text": [
      "Epoch: [3][0/60] Elapsed 0m 0s (remain 0m 42s) Loss: 0.5495 Grad: 281016.9375  LR: 0.00099999  \n"
     ]
    },
    {
     "name": "stderr",
     "output_type": "stream",
     "text": [
      "Train:  85%|████████▌ | 51/60 [00:21<00:03,  2.27train_batch/s]"
     ]
    },
    {
     "name": "stdout",
     "output_type": "stream",
     "text": [
      "Epoch: [3][50/60] Elapsed 0m 21s (remain 0m 3s) Loss: 0.5076 Grad: 67053.5000  LR: 0.00099429  \n"
     ]
    },
    {
     "name": "stderr",
     "output_type": "stream",
     "text": [
      "Train: 100%|██████████| 60/60 [00:25<00:00,  2.31train_batch/s]\n"
     ]
    },
    {
     "name": "stdout",
     "output_type": "stream",
     "text": [
      "Epoch: [3][59/60] Elapsed 0m 25s (remain 0m 0s) Loss: 0.5072 Grad: 68906.7656  LR: 0.00099215  \n"
     ]
    },
    {
     "name": "stderr",
     "output_type": "stream",
     "text": [
      "Validation:   5%|▍         | 1/21 [00:00<00:13,  1.50valid_batch/s]"
     ]
    },
    {
     "name": "stdout",
     "output_type": "stream",
     "text": [
      "EVAL: [0/21] Elapsed 0m 0s (remain 0m 13s) Loss: 0.7225 \n"
     ]
    },
    {
     "name": "stderr",
     "output_type": "stream",
     "text": [
      "Validation: 100%|██████████| 21/21 [00:05<00:00,  3.75valid_batch/s]\n"
     ]
    },
    {
     "name": "stdout",
     "output_type": "stream",
     "text": [
      "EVAL: [20/21] Elapsed 0m 5s (remain 0m 0s) Loss: 0.6127 \n",
      "Epoch 3 - avg_train_loss: 0.5072  avg_val_loss: 0.6127  time: 32s\n",
      "Epoch 3 - Save Best Loss: 0.6127 Model\n"
     ]
    },
    {
     "name": "stderr",
     "output_type": "stream",
     "text": [
      "Train:   2%|▏         | 1/60 [00:00<00:33,  1.75train_batch/s]"
     ]
    },
    {
     "name": "stdout",
     "output_type": "stream",
     "text": [
      "Epoch: [4][0/60] Elapsed 0m 0s (remain 0m 33s) Loss: 0.3407 Grad: 218836.1719  LR: 0.00099189  \n"
     ]
    },
    {
     "name": "stderr",
     "output_type": "stream",
     "text": [
      "Train:  85%|████████▌ | 51/60 [00:18<00:03,  2.33train_batch/s]"
     ]
    },
    {
     "name": "stdout",
     "output_type": "stream",
     "text": [
      "Epoch: [4][50/60] Elapsed 0m 18s (remain 0m 3s) Loss: 0.3809 Grad: 252542.5469  LR: 0.00097371  \n"
     ]
    },
    {
     "name": "stderr",
     "output_type": "stream",
     "text": [
      "Train: 100%|██████████| 60/60 [00:22<00:00,  2.61train_batch/s]\n"
     ]
    },
    {
     "name": "stdout",
     "output_type": "stream",
     "text": [
      "Epoch: [4][59/60] Elapsed 0m 22s (remain 0m 0s) Loss: 0.3782 Grad: 243546.9219  LR: 0.00096936  \n"
     ]
    },
    {
     "name": "stderr",
     "output_type": "stream",
     "text": [
      "Validation:  10%|▉         | 2/21 [00:00<00:06,  2.87valid_batch/s]"
     ]
    },
    {
     "name": "stdout",
     "output_type": "stream",
     "text": [
      "EVAL: [0/21] Elapsed 0m 0s (remain 0m 11s) Loss: 0.6060 \n"
     ]
    },
    {
     "name": "stderr",
     "output_type": "stream",
     "text": [
      "Validation: 100%|██████████| 21/21 [00:05<00:00,  3.86valid_batch/s]\n"
     ]
    },
    {
     "name": "stdout",
     "output_type": "stream",
     "text": [
      "EVAL: [20/21] Elapsed 0m 5s (remain 0m 0s) Loss: 0.6231 \n",
      "Epoch 4 - avg_train_loss: 0.3782  avg_val_loss: 0.6231  time: 28s\n"
     ]
    },
    {
     "name": "stderr",
     "output_type": "stream",
     "text": [
      "Train:   2%|▏         | 1/60 [00:00<00:40,  1.46train_batch/s]"
     ]
    },
    {
     "name": "stdout",
     "output_type": "stream",
     "text": [
      "Epoch: [5][0/60] Elapsed 0m 0s (remain 0m 40s) Loss: 0.2475 Grad: 171739.5000  LR: 0.00096886  \n"
     ]
    },
    {
     "name": "stderr",
     "output_type": "stream",
     "text": [
      "Train:  85%|████████▌ | 51/60 [00:22<00:03,  2.26train_batch/s]"
     ]
    },
    {
     "name": "stdout",
     "output_type": "stream",
     "text": [
      "Epoch: [5][50/60] Elapsed 0m 22s (remain 0m 3s) Loss: 0.2953 Grad: 110822.6250  LR: 0.00093874  \n"
     ]
    },
    {
     "name": "stderr",
     "output_type": "stream",
     "text": [
      "Train: 100%|██████████| 60/60 [00:26<00:00,  2.26train_batch/s]\n"
     ]
    },
    {
     "name": "stdout",
     "output_type": "stream",
     "text": [
      "Epoch: [5][59/60] Elapsed 0m 26s (remain 0m 0s) Loss: 0.2920 Grad: 105272.7891  LR: 0.00093231  \n"
     ]
    },
    {
     "name": "stderr",
     "output_type": "stream",
     "text": [
      "Validation:   5%|▍         | 1/21 [00:00<00:10,  1.88valid_batch/s]"
     ]
    },
    {
     "name": "stdout",
     "output_type": "stream",
     "text": [
      "EVAL: [0/21] Elapsed 0m 0s (remain 0m 10s) Loss: 0.5925 \n"
     ]
    },
    {
     "name": "stderr",
     "output_type": "stream",
     "text": [
      "Validation: 100%|██████████| 21/21 [00:04<00:00,  4.42valid_batch/s]\n"
     ]
    },
    {
     "name": "stdout",
     "output_type": "stream",
     "text": [
      "EVAL: [20/21] Elapsed 0m 4s (remain 0m 0s) Loss: 0.5042 \n",
      "Epoch 5 - avg_train_loss: 0.2920  avg_val_loss: 0.5042  time: 31s\n",
      "Epoch 5 - Save Best Loss: 0.5042 Model\n"
     ]
    },
    {
     "name": "stderr",
     "output_type": "stream",
     "text": [
      "Train:   2%|▏         | 1/60 [00:00<00:45,  1.29train_batch/s]"
     ]
    },
    {
     "name": "stdout",
     "output_type": "stream",
     "text": [
      "Epoch: [6][0/60] Elapsed 0m 0s (remain 0m 45s) Loss: 0.2062 Grad: 152835.9062  LR: 0.00093158  \n"
     ]
    },
    {
     "name": "stderr",
     "output_type": "stream",
     "text": [
      "Train:  85%|████████▌ | 51/60 [00:19<00:04,  2.25train_batch/s]"
     ]
    },
    {
     "name": "stdout",
     "output_type": "stream",
     "text": [
      "Epoch: [6][50/60] Elapsed 0m 19s (remain 0m 3s) Loss: 0.2384 Grad: 48321.6914  LR: 0.00089044  \n"
     ]
    },
    {
     "name": "stderr",
     "output_type": "stream",
     "text": [
      "Train: 100%|██████████| 60/60 [00:23<00:00,  2.55train_batch/s]\n"
     ]
    },
    {
     "name": "stdout",
     "output_type": "stream",
     "text": [
      "Epoch: [6][59/60] Elapsed 0m 23s (remain 0m 0s) Loss: 0.2422 Grad: 58963.5273  LR: 0.00088213  \n"
     ]
    },
    {
     "name": "stderr",
     "output_type": "stream",
     "text": [
      "Validation:  10%|▉         | 2/21 [00:00<00:05,  3.35valid_batch/s]"
     ]
    },
    {
     "name": "stdout",
     "output_type": "stream",
     "text": [
      "EVAL: [0/21] Elapsed 0m 0s (remain 0m 9s) Loss: 0.5086 \n"
     ]
    },
    {
     "name": "stderr",
     "output_type": "stream",
     "text": [
      "Validation: 100%|██████████| 21/21 [00:05<00:00,  4.03valid_batch/s]\n"
     ]
    },
    {
     "name": "stdout",
     "output_type": "stream",
     "text": [
      "EVAL: [20/21] Elapsed 0m 5s (remain 0m 0s) Loss: 0.4254 \n",
      "Epoch 6 - avg_train_loss: 0.2422  avg_val_loss: 0.4254  time: 29s\n",
      "Epoch 6 - Save Best Loss: 0.4254 Model\n"
     ]
    },
    {
     "name": "stderr",
     "output_type": "stream",
     "text": [
      "Train:   2%|▏         | 1/60 [00:00<00:51,  1.14train_batch/s]"
     ]
    },
    {
     "name": "stdout",
     "output_type": "stream",
     "text": [
      "Epoch: [7][0/60] Elapsed 0m 0s (remain 0m 52s) Loss: 0.1849 Grad: 154016.2656  LR: 0.00088119  \n"
     ]
    },
    {
     "name": "stderr",
     "output_type": "stream",
     "text": [
      "Train:  85%|████████▌ | 51/60 [00:22<00:03,  2.27train_batch/s]"
     ]
    },
    {
     "name": "stdout",
     "output_type": "stream",
     "text": [
      "Epoch: [7][50/60] Elapsed 0m 22s (remain 0m 4s) Loss: 0.1878 Grad: 232370.2031  LR: 0.00083029  \n"
     ]
    },
    {
     "name": "stderr",
     "output_type": "stream",
     "text": [
      "Train: 100%|██████████| 60/60 [00:26<00:00,  2.25train_batch/s]\n"
     ]
    },
    {
     "name": "stdout",
     "output_type": "stream",
     "text": [
      "Epoch: [7][59/60] Elapsed 0m 26s (remain 0m 0s) Loss: 0.1914 Grad: 109137.7969  LR: 0.00082035  \n"
     ]
    },
    {
     "name": "stderr",
     "output_type": "stream",
     "text": [
      "Validation:  10%|▉         | 2/21 [00:00<00:04,  4.11valid_batch/s]"
     ]
    },
    {
     "name": "stdout",
     "output_type": "stream",
     "text": [
      "EVAL: [0/21] Elapsed 0m 0s (remain 0m 8s) Loss: 0.5661 \n"
     ]
    },
    {
     "name": "stderr",
     "output_type": "stream",
     "text": [
      "Validation: 100%|██████████| 21/21 [00:04<00:00,  4.80valid_batch/s]\n"
     ]
    },
    {
     "name": "stdout",
     "output_type": "stream",
     "text": [
      "EVAL: [20/21] Elapsed 0m 4s (remain 0m 0s) Loss: 0.5044 \n",
      "Epoch 7 - avg_train_loss: 0.1914  avg_val_loss: 0.5044  time: 31s\n"
     ]
    },
    {
     "name": "stderr",
     "output_type": "stream",
     "text": [
      "Train:   2%|▏         | 1/60 [00:00<00:33,  1.77train_batch/s]"
     ]
    },
    {
     "name": "stdout",
     "output_type": "stream",
     "text": [
      "Epoch: [8][0/60] Elapsed 0m 0s (remain 0m 33s) Loss: 0.1613 Grad: 153219.1875  LR: 0.00081923  \n"
     ]
    },
    {
     "name": "stderr",
     "output_type": "stream",
     "text": [
      "Train:  85%|████████▌ | 51/60 [00:20<00:03,  2.26train_batch/s]"
     ]
    },
    {
     "name": "stdout",
     "output_type": "stream",
     "text": [
      "Epoch: [8][50/60] Elapsed 0m 20s (remain 0m 3s) Loss: 0.1651 Grad: 87827.7734  LR: 0.00076010  \n"
     ]
    },
    {
     "name": "stderr",
     "output_type": "stream",
     "text": [
      "Train: 100%|██████████| 60/60 [00:24<00:00,  2.38train_batch/s]"
     ]
    },
    {
     "name": "stdout",
     "output_type": "stream",
     "text": [
      "Epoch: [8][59/60] Elapsed 0m 24s (remain 0m 0s) Loss: 0.1683 Grad: 126108.2656  LR: 0.00074884  \n"
     ]
    },
    {
     "name": "stderr",
     "output_type": "stream",
     "text": [
      "Train: 100%|██████████| 60/60 [00:24<00:00,  2.41train_batch/s]\n",
      "Validation:   5%|▍         | 1/21 [00:00<00:11,  1.71valid_batch/s]"
     ]
    },
    {
     "name": "stdout",
     "output_type": "stream",
     "text": [
      "EVAL: [0/21] Elapsed 0m 0s (remain 0m 11s) Loss: 0.4101 \n"
     ]
    },
    {
     "name": "stderr",
     "output_type": "stream",
     "text": [
      "Validation: 100%|██████████| 21/21 [00:05<00:00,  3.87valid_batch/s]\n"
     ]
    },
    {
     "name": "stdout",
     "output_type": "stream",
     "text": [
      "EVAL: [20/21] Elapsed 0m 5s (remain 0m 0s) Loss: 0.4089 \n",
      "Epoch 8 - avg_train_loss: 0.1683  avg_val_loss: 0.4089  time: 30s\n",
      "Epoch 8 - Save Best Loss: 0.4089 Model\n"
     ]
    },
    {
     "name": "stderr",
     "output_type": "stream",
     "text": [
      "Train:   2%|▏         | 1/60 [00:00<00:56,  1.05train_batch/s]"
     ]
    },
    {
     "name": "stdout",
     "output_type": "stream",
     "text": [
      "Epoch: [9][0/60] Elapsed 0m 0s (remain 0m 56s) Loss: 0.1122 Grad: 122829.0078  LR: 0.00074758  \n"
     ]
    },
    {
     "name": "stderr",
     "output_type": "stream",
     "text": [
      "Train:  85%|████████▌ | 51/60 [00:22<00:03,  2.28train_batch/s]"
     ]
    },
    {
     "name": "stdout",
     "output_type": "stream",
     "text": [
      "Epoch: [9][50/60] Elapsed 0m 22s (remain 0m 4s) Loss: 0.1447 Grad: 28782.8477  LR: 0.00068202  \n"
     ]
    },
    {
     "name": "stderr",
     "output_type": "stream",
     "text": [
      "Train: 100%|██████████| 60/60 [00:25<00:00,  2.31train_batch/s]\n"
     ]
    },
    {
     "name": "stdout",
     "output_type": "stream",
     "text": [
      "Epoch: [9][59/60] Elapsed 0m 25s (remain 0m 0s) Loss: 0.1449 Grad: 44073.0391  LR: 0.00066977  \n"
     ]
    },
    {
     "name": "stderr",
     "output_type": "stream",
     "text": [
      "Validation:  10%|▉         | 2/21 [00:00<00:05,  3.33valid_batch/s]"
     ]
    },
    {
     "name": "stdout",
     "output_type": "stream",
     "text": [
      "EVAL: [0/21] Elapsed 0m 0s (remain 0m 9s) Loss: 0.3988 \n"
     ]
    },
    {
     "name": "stderr",
     "output_type": "stream",
     "text": [
      "Validation: 100%|██████████| 21/21 [00:04<00:00,  4.20valid_batch/s]\n"
     ]
    },
    {
     "name": "stdout",
     "output_type": "stream",
     "text": [
      "EVAL: [20/21] Elapsed 0m 4s (remain 0m 0s) Loss: 0.3941 \n",
      "Epoch 9 - avg_train_loss: 0.1449  avg_val_loss: 0.3941  time: 31s\n",
      "Epoch 9 - Save Best Loss: 0.3941 Model\n"
     ]
    },
    {
     "name": "stderr",
     "output_type": "stream",
     "text": [
      "Train:   2%|▏         | 1/60 [00:00<00:39,  1.48train_batch/s]"
     ]
    },
    {
     "name": "stdout",
     "output_type": "stream",
     "text": [
      "Epoch: [10][0/60] Elapsed 0m 0s (remain 0m 39s) Loss: 0.1363 Grad: inf  LR: 0.00066841  \n"
     ]
    },
    {
     "name": "stderr",
     "output_type": "stream",
     "text": [
      "Train:  85%|████████▌ | 51/60 [00:19<00:03,  2.49train_batch/s]"
     ]
    },
    {
     "name": "stdout",
     "output_type": "stream",
     "text": [
      "Epoch: [10][50/60] Elapsed 0m 19s (remain 0m 3s) Loss: 0.1283 Grad: 33455.4219  LR: 0.00059842  \n"
     ]
    },
    {
     "name": "stderr",
     "output_type": "stream",
     "text": [
      "Train: 100%|██████████| 60/60 [00:23<00:00,  2.33train_batch/s]"
     ]
    },
    {
     "name": "stdout",
     "output_type": "stream",
     "text": [
      "Epoch: [10][59/60] Elapsed 0m 23s (remain 0m 0s) Loss: 0.1293 Grad: 43291.6758  LR: 0.00058556  \n"
     ]
    },
    {
     "name": "stderr",
     "output_type": "stream",
     "text": [
      "Train: 100%|██████████| 60/60 [00:23<00:00,  2.51train_batch/s]\n",
      "Validation:   5%|▍         | 1/21 [00:00<00:14,  1.35valid_batch/s]"
     ]
    },
    {
     "name": "stdout",
     "output_type": "stream",
     "text": [
      "EVAL: [0/21] Elapsed 0m 0s (remain 0m 14s) Loss: 0.3587 \n"
     ]
    },
    {
     "name": "stderr",
     "output_type": "stream",
     "text": [
      "Validation: 100%|██████████| 21/21 [00:05<00:00,  3.54valid_batch/s]\n"
     ]
    },
    {
     "name": "stdout",
     "output_type": "stream",
     "text": [
      "EVAL: [20/21] Elapsed 0m 5s (remain 0m 0s) Loss: 0.3816 \n",
      "Epoch 10 - avg_train_loss: 0.1293  avg_val_loss: 0.3816  time: 30s\n",
      "Epoch 10 - Save Best Loss: 0.3816 Model\n"
     ]
    },
    {
     "name": "stderr",
     "output_type": "stream",
     "text": [
      "Train:   2%|▏         | 1/60 [00:01<01:01,  1.04s/train_batch]"
     ]
    },
    {
     "name": "stdout",
     "output_type": "stream",
     "text": [
      "Epoch: [11][0/60] Elapsed 0m 1s (remain 1m 0s) Loss: 0.0974 Grad: 121799.6562  LR: 0.00058412  \n"
     ]
    },
    {
     "name": "stderr",
     "output_type": "stream",
     "text": [
      "Train:  85%|████████▌ | 51/60 [00:21<00:03,  2.52train_batch/s]"
     ]
    },
    {
     "name": "stdout",
     "output_type": "stream",
     "text": [
      "Epoch: [11][50/60] Elapsed 0m 21s (remain 0m 3s) Loss: 0.1084 Grad: 69488.0000  LR: 0.00051183  \n"
     ]
    },
    {
     "name": "stderr",
     "output_type": "stream",
     "text": [
      "Train: 100%|██████████| 60/60 [00:25<00:00,  2.38train_batch/s]\n"
     ]
    },
    {
     "name": "stdout",
     "output_type": "stream",
     "text": [
      "Epoch: [11][59/60] Elapsed 0m 25s (remain 0m 0s) Loss: 0.1082 Grad: 70890.5781  LR: 0.00049875  \n"
     ]
    },
    {
     "name": "stderr",
     "output_type": "stream",
     "text": [
      "Validation:  10%|▉         | 2/21 [00:00<00:05,  3.46valid_batch/s]"
     ]
    },
    {
     "name": "stdout",
     "output_type": "stream",
     "text": [
      "EVAL: [0/21] Elapsed 0m 0s (remain 0m 9s) Loss: 0.4025 \n"
     ]
    },
    {
     "name": "stderr",
     "output_type": "stream",
     "text": [
      "Validation: 100%|██████████| 21/21 [00:04<00:00,  4.32valid_batch/s]\n"
     ]
    },
    {
     "name": "stdout",
     "output_type": "stream",
     "text": [
      "EVAL: [20/21] Elapsed 0m 4s (remain 0m 0s) Loss: 0.3781 \n",
      "Epoch 11 - avg_train_loss: 0.1082  avg_val_loss: 0.3781  time: 30s\n",
      "Epoch 11 - Save Best Loss: 0.3781 Model\n"
     ]
    },
    {
     "name": "stderr",
     "output_type": "stream",
     "text": [
      "Train:   2%|▏         | 1/60 [00:00<00:44,  1.32train_batch/s]"
     ]
    },
    {
     "name": "stdout",
     "output_type": "stream",
     "text": [
      "Epoch: [12][0/60] Elapsed 0m 0s (remain 0m 44s) Loss: 0.0685 Grad: 99135.3828  LR: 0.00049729  \n"
     ]
    },
    {
     "name": "stderr",
     "output_type": "stream",
     "text": [
      "Train:  85%|████████▌ | 51/60 [00:22<00:03,  2.30train_batch/s]"
     ]
    },
    {
     "name": "stdout",
     "output_type": "stream",
     "text": [
      "Epoch: [12][50/60] Elapsed 0m 22s (remain 0m 3s) Loss: 0.1010 Grad: 59115.7031  LR: 0.00042489  \n"
     ]
    },
    {
     "name": "stderr",
     "output_type": "stream",
     "text": [
      "Train: 100%|██████████| 60/60 [00:26<00:00,  2.29train_batch/s]\n"
     ]
    },
    {
     "name": "stdout",
     "output_type": "stream",
     "text": [
      "Epoch: [12][59/60] Elapsed 0m 26s (remain 0m 0s) Loss: 0.1066 Grad: 50604.8398  LR: 0.00041198  \n"
     ]
    },
    {
     "name": "stderr",
     "output_type": "stream",
     "text": [
      "Validation:   5%|▍         | 1/21 [00:00<00:10,  1.84valid_batch/s]"
     ]
    },
    {
     "name": "stdout",
     "output_type": "stream",
     "text": [
      "EVAL: [0/21] Elapsed 0m 0s (remain 0m 10s) Loss: 0.3506 \n"
     ]
    },
    {
     "name": "stderr",
     "output_type": "stream",
     "text": [
      "Validation:  95%|█████████▌| 20/21 [00:04<00:00,  3.95valid_batch/s]"
     ]
    },
    {
     "name": "stdout",
     "output_type": "stream",
     "text": [
      "EVAL: [20/21] Elapsed 0m 4s (remain 0m 0s) Loss: 0.3889 \n"
     ]
    },
    {
     "name": "stderr",
     "output_type": "stream",
     "text": [
      "Validation: 100%|██████████| 21/21 [00:05<00:00,  4.07valid_batch/s]\n"
     ]
    },
    {
     "name": "stdout",
     "output_type": "stream",
     "text": [
      "Epoch 12 - avg_train_loss: 0.1066  avg_val_loss: 0.3889  time: 31s\n"
     ]
    },
    {
     "name": "stderr",
     "output_type": "stream",
     "text": [
      "Train:   2%|▏         | 1/60 [00:00<00:56,  1.05train_batch/s]"
     ]
    },
    {
     "name": "stdout",
     "output_type": "stream",
     "text": [
      "Epoch: [13][0/60] Elapsed 0m 0s (remain 0m 56s) Loss: 0.1074 Grad: 163999.0781  LR: 0.00041055  \n"
     ]
    },
    {
     "name": "stderr",
     "output_type": "stream",
     "text": [
      "Train:  85%|████████▌ | 51/60 [00:20<00:02,  3.01train_batch/s]"
     ]
    },
    {
     "name": "stdout",
     "output_type": "stream",
     "text": [
      "Epoch: [13][50/60] Elapsed 0m 20s (remain 0m 3s) Loss: 0.0876 Grad: 97884.6016  LR: 0.00034023  \n"
     ]
    },
    {
     "name": "stderr",
     "output_type": "stream",
     "text": [
      "Train: 100%|██████████| 60/60 [00:23<00:00,  2.57train_batch/s]\n"
     ]
    },
    {
     "name": "stdout",
     "output_type": "stream",
     "text": [
      "Epoch: [13][59/60] Elapsed 0m 23s (remain 0m 0s) Loss: 0.0928 Grad: 74956.7500  LR: 0.00032789  \n"
     ]
    },
    {
     "name": "stderr",
     "output_type": "stream",
     "text": [
      "Validation:  10%|▉         | 2/21 [00:00<00:06,  2.85valid_batch/s]"
     ]
    },
    {
     "name": "stdout",
     "output_type": "stream",
     "text": [
      "EVAL: [0/21] Elapsed 0m 0s (remain 0m 12s) Loss: 0.3789 \n"
     ]
    },
    {
     "name": "stderr",
     "output_type": "stream",
     "text": [
      "Validation: 100%|██████████| 21/21 [00:04<00:00,  4.30valid_batch/s]\n"
     ]
    },
    {
     "name": "stdout",
     "output_type": "stream",
     "text": [
      "EVAL: [20/21] Elapsed 0m 4s (remain 0m 0s) Loss: 0.3726 \n",
      "Epoch 13 - avg_train_loss: 0.0928  avg_val_loss: 0.3726  time: 28s\n",
      "Epoch 13 - Save Best Loss: 0.3726 Model\n"
     ]
    },
    {
     "name": "stderr",
     "output_type": "stream",
     "text": [
      "Train:   2%|▏         | 1/60 [00:00<00:43,  1.34train_batch/s]"
     ]
    },
    {
     "name": "stdout",
     "output_type": "stream",
     "text": [
      "Epoch: [14][0/60] Elapsed 0m 0s (remain 0m 44s) Loss: 0.0873 Grad: 115333.5234  LR: 0.00032653  \n"
     ]
    },
    {
     "name": "stderr",
     "output_type": "stream",
     "text": [
      "Train:  85%|████████▌ | 51/60 [00:22<00:03,  2.27train_batch/s]"
     ]
    },
    {
     "name": "stdout",
     "output_type": "stream",
     "text": [
      "Epoch: [14][50/60] Elapsed 0m 22s (remain 0m 4s) Loss: 0.0856 Grad: 35631.2461  LR: 0.00026044  \n"
     ]
    },
    {
     "name": "stderr",
     "output_type": "stream",
     "text": [
      "Train: 100%|██████████| 60/60 [00:26<00:00,  2.38train_batch/s]"
     ]
    },
    {
     "name": "stdout",
     "output_type": "stream",
     "text": [
      "Epoch: [14][59/60] Elapsed 0m 26s (remain 0m 0s) Loss: 0.0854 Grad: 69150.3750  LR: 0.00024904  \n"
     ]
    },
    {
     "name": "stderr",
     "output_type": "stream",
     "text": [
      "Train: 100%|██████████| 60/60 [00:26<00:00,  2.24train_batch/s]\n",
      "Validation:   5%|▍         | 1/21 [00:00<00:14,  1.34valid_batch/s]"
     ]
    },
    {
     "name": "stdout",
     "output_type": "stream",
     "text": [
      "EVAL: [0/21] Elapsed 0m 0s (remain 0m 14s) Loss: 0.3556 \n"
     ]
    },
    {
     "name": "stderr",
     "output_type": "stream",
     "text": [
      "Validation: 100%|██████████| 21/21 [00:05<00:00,  3.67valid_batch/s]"
     ]
    },
    {
     "name": "stdout",
     "output_type": "stream",
     "text": [
      "EVAL: [20/21] Elapsed 0m 5s (remain 0m 0s) Loss: 0.3712 \n",
      "Epoch 14 - avg_train_loss: 0.0854  avg_val_loss: 0.3712  time: 33s\n",
      "Epoch 14 - Save Best Loss: 0.3712 Model\n"
     ]
    },
    {
     "name": "stderr",
     "output_type": "stream",
     "text": [
      "\n",
      "Train:   2%|▏         | 1/60 [00:00<00:47,  1.23train_batch/s]"
     ]
    },
    {
     "name": "stdout",
     "output_type": "stream",
     "text": [
      "Epoch: [15][0/60] Elapsed 0m 0s (remain 0m 47s) Loss: 0.0808 Grad: 116969.0625  LR: 0.00024779  \n"
     ]
    },
    {
     "name": "stderr",
     "output_type": "stream",
     "text": [
      "Train:  85%|████████▌ | 51/60 [00:18<00:03,  2.75train_batch/s]"
     ]
    },
    {
     "name": "stdout",
     "output_type": "stream",
     "text": [
      "Epoch: [15][50/60] Elapsed 0m 18s (remain 0m 3s) Loss: 0.0792 Grad: 53072.3203  LR: 0.00018793  \n"
     ]
    },
    {
     "name": "stderr",
     "output_type": "stream",
     "text": [
      "Train: 100%|██████████| 60/60 [00:22<00:00,  2.67train_batch/s]\n"
     ]
    },
    {
     "name": "stdout",
     "output_type": "stream",
     "text": [
      "Epoch: [15][59/60] Elapsed 0m 22s (remain 0m 0s) Loss: 0.0783 Grad: 65277.6445  LR: 0.00017782  \n"
     ]
    },
    {
     "name": "stderr",
     "output_type": "stream",
     "text": [
      "Validation:  10%|▉         | 2/21 [00:00<00:06,  3.12valid_batch/s]"
     ]
    },
    {
     "name": "stdout",
     "output_type": "stream",
     "text": [
      "EVAL: [0/21] Elapsed 0m 0s (remain 0m 11s) Loss: 0.3284 \n"
     ]
    },
    {
     "name": "stderr",
     "output_type": "stream",
     "text": [
      "Validation: 100%|██████████| 21/21 [00:04<00:00,  4.31valid_batch/s]\n"
     ]
    },
    {
     "name": "stdout",
     "output_type": "stream",
     "text": [
      "EVAL: [20/21] Elapsed 0m 4s (remain 0m 0s) Loss: 0.3562 \n",
      "Epoch 15 - avg_train_loss: 0.0783  avg_val_loss: 0.3562  time: 27s\n",
      "Epoch 15 - Save Best Loss: 0.3562 Model\n"
     ]
    },
    {
     "name": "stderr",
     "output_type": "stream",
     "text": [
      "Train:   2%|▏         | 1/60 [00:00<00:49,  1.19train_batch/s]"
     ]
    },
    {
     "name": "stdout",
     "output_type": "stream",
     "text": [
      "Epoch: [16][0/60] Elapsed 0m 0s (remain 0m 49s) Loss: 0.0784 Grad: 95575.9844  LR: 0.00017671  \n"
     ]
    },
    {
     "name": "stderr",
     "output_type": "stream",
     "text": [
      "Train:  85%|████████▌ | 51/60 [00:21<00:03,  2.26train_batch/s]"
     ]
    },
    {
     "name": "stdout",
     "output_type": "stream",
     "text": [
      "Epoch: [16][50/60] Elapsed 0m 21s (remain 0m 3s) Loss: 0.0737 Grad: 49185.1172  LR: 0.00012491  \n"
     ]
    },
    {
     "name": "stderr",
     "output_type": "stream",
     "text": [
      "Train: 100%|██████████| 60/60 [00:25<00:00,  2.34train_batch/s]\n"
     ]
    },
    {
     "name": "stdout",
     "output_type": "stream",
     "text": [
      "Epoch: [16][59/60] Elapsed 0m 25s (remain 0m 0s) Loss: 0.0730 Grad: 41080.1289  LR: 0.00011640  \n"
     ]
    },
    {
     "name": "stderr",
     "output_type": "stream",
     "text": [
      "Validation:  10%|▉         | 2/21 [00:00<00:05,  3.27valid_batch/s]"
     ]
    },
    {
     "name": "stdout",
     "output_type": "stream",
     "text": [
      "EVAL: [0/21] Elapsed 0m 0s (remain 0m 9s) Loss: 0.3493 \n"
     ]
    },
    {
     "name": "stderr",
     "output_type": "stream",
     "text": [
      "Validation: 100%|██████████| 21/21 [00:04<00:00,  4.24valid_batch/s]\n"
     ]
    },
    {
     "name": "stdout",
     "output_type": "stream",
     "text": [
      "EVAL: [20/21] Elapsed 0m 4s (remain 0m 0s) Loss: 0.3569 \n",
      "Epoch 16 - avg_train_loss: 0.0730  avg_val_loss: 0.3569  time: 31s\n"
     ]
    },
    {
     "name": "stderr",
     "output_type": "stream",
     "text": [
      "Train:   2%|▏         | 1/60 [00:00<00:40,  1.45train_batch/s]"
     ]
    },
    {
     "name": "stdout",
     "output_type": "stream",
     "text": [
      "Epoch: [17][0/60] Elapsed 0m 0s (remain 0m 40s) Loss: 0.0534 Grad: 74454.7266  LR: 0.00011547  \n"
     ]
    },
    {
     "name": "stderr",
     "output_type": "stream",
     "text": [
      "Train:  85%|████████▌ | 51/60 [00:17<00:03,  2.66train_batch/s]"
     ]
    },
    {
     "name": "stdout",
     "output_type": "stream",
     "text": [
      "Epoch: [17][50/60] Elapsed 0m 17s (remain 0m 3s) Loss: 0.0668 Grad: 41356.1406  LR: 0.00007329  \n"
     ]
    },
    {
     "name": "stderr",
     "output_type": "stream",
     "text": [
      "Train: 100%|██████████| 60/60 [00:21<00:00,  2.75train_batch/s]\n"
     ]
    },
    {
     "name": "stdout",
     "output_type": "stream",
     "text": [
      "Epoch: [17][59/60] Elapsed 0m 21s (remain 0m 0s) Loss: 0.0680 Grad: 39264.7305  LR: 0.00006664  \n"
     ]
    },
    {
     "name": "stderr",
     "output_type": "stream",
     "text": [
      "Validation:  10%|▉         | 2/21 [00:00<00:06,  2.99valid_batch/s]"
     ]
    },
    {
     "name": "stdout",
     "output_type": "stream",
     "text": [
      "EVAL: [0/21] Elapsed 0m 0s (remain 0m 11s) Loss: 0.3491 \n"
     ]
    },
    {
     "name": "stderr",
     "output_type": "stream",
     "text": [
      "Validation: 100%|██████████| 21/21 [00:05<00:00,  4.06valid_batch/s]\n"
     ]
    },
    {
     "name": "stdout",
     "output_type": "stream",
     "text": [
      "EVAL: [20/21] Elapsed 0m 5s (remain 0m 0s) Loss: 0.3520 \n",
      "Epoch 17 - avg_train_loss: 0.0680  avg_val_loss: 0.3520  time: 27s\n",
      "Epoch 17 - Save Best Loss: 0.3520 Model\n"
     ]
    },
    {
     "name": "stderr",
     "output_type": "stream",
     "text": [
      "Train:   2%|▏         | 1/60 [00:00<00:53,  1.10train_batch/s]"
     ]
    },
    {
     "name": "stdout",
     "output_type": "stream",
     "text": [
      "Epoch: [18][0/60] Elapsed 0m 0s (remain 0m 53s) Loss: 0.0665 Grad: 83691.2734  LR: 0.00006591  \n"
     ]
    },
    {
     "name": "stderr",
     "output_type": "stream",
     "text": [
      "Train:  85%|████████▌ | 51/60 [00:22<00:03,  2.27train_batch/s]"
     ]
    },
    {
     "name": "stdout",
     "output_type": "stream",
     "text": [
      "Epoch: [18][50/60] Elapsed 0m 22s (remain 0m 3s) Loss: 0.0663 Grad: 36600.7461  LR: 0.00003465  \n"
     ]
    },
    {
     "name": "stderr",
     "output_type": "stream",
     "text": [
      "Train: 100%|██████████| 60/60 [00:26<00:00,  2.27train_batch/s]\n"
     ]
    },
    {
     "name": "stdout",
     "output_type": "stream",
     "text": [
      "Epoch: [18][59/60] Elapsed 0m 26s (remain 0m 0s) Loss: 0.0664 Grad: 68343.9219  LR: 0.00003005  \n"
     ]
    },
    {
     "name": "stderr",
     "output_type": "stream",
     "text": [
      "Validation:  10%|▉         | 2/21 [00:00<00:05,  3.30valid_batch/s]"
     ]
    },
    {
     "name": "stdout",
     "output_type": "stream",
     "text": [
      "EVAL: [0/21] Elapsed 0m 0s (remain 0m 9s) Loss: 0.3517 \n"
     ]
    },
    {
     "name": "stderr",
     "output_type": "stream",
     "text": [
      "Validation: 100%|██████████| 21/21 [00:04<00:00,  4.38valid_batch/s]\n"
     ]
    },
    {
     "name": "stdout",
     "output_type": "stream",
     "text": [
      "EVAL: [20/21] Elapsed 0m 4s (remain 0m 0s) Loss: 0.3579 \n",
      "Epoch 18 - avg_train_loss: 0.0664  avg_val_loss: 0.3579  time: 31s\n"
     ]
    },
    {
     "name": "stderr",
     "output_type": "stream",
     "text": [
      "Train:   2%|▏         | 1/60 [00:00<00:56,  1.05train_batch/s]"
     ]
    },
    {
     "name": "stdout",
     "output_type": "stream",
     "text": [
      "Epoch: [19][0/60] Elapsed 0m 0s (remain 0m 56s) Loss: 0.0867 Grad: 126973.8281  LR: 0.00002956  \n"
     ]
    },
    {
     "name": "stderr",
     "output_type": "stream",
     "text": [
      "Train:  85%|████████▌ | 51/60 [00:18<00:03,  2.39train_batch/s]"
     ]
    },
    {
     "name": "stdout",
     "output_type": "stream",
     "text": [
      "Epoch: [19][50/60] Elapsed 0m 18s (remain 0m 3s) Loss: 0.0681 Grad: 39553.9805  LR: 0.00001015  \n"
     ]
    },
    {
     "name": "stderr",
     "output_type": "stream",
     "text": [
      "Train: 100%|██████████| 60/60 [00:22<00:00,  2.73train_batch/s]\n"
     ]
    },
    {
     "name": "stdout",
     "output_type": "stream",
     "text": [
      "Epoch: [19][59/60] Elapsed 0m 21s (remain 0m 0s) Loss: 0.0674 Grad: 50190.0430  LR: 0.00000774  \n"
     ]
    },
    {
     "name": "stderr",
     "output_type": "stream",
     "text": [
      "Validation:   5%|▍         | 1/21 [00:00<00:12,  1.55valid_batch/s]"
     ]
    },
    {
     "name": "stdout",
     "output_type": "stream",
     "text": [
      "EVAL: [0/21] Elapsed 0m 0s (remain 0m 12s) Loss: 0.3328 \n"
     ]
    },
    {
     "name": "stderr",
     "output_type": "stream",
     "text": [
      "Validation: 100%|██████████| 21/21 [00:05<00:00,  4.14valid_batch/s]\n"
     ]
    },
    {
     "name": "stdout",
     "output_type": "stream",
     "text": [
      "EVAL: [20/21] Elapsed 0m 4s (remain 0m 0s) Loss: 0.3580 \n",
      "Epoch 19 - avg_train_loss: 0.0674  avg_val_loss: 0.3580  time: 27s\n"
     ]
    },
    {
     "name": "stderr",
     "output_type": "stream",
     "text": [
      "Train:   2%|▏         | 1/60 [00:00<00:48,  1.21train_batch/s]"
     ]
    },
    {
     "name": "stdout",
     "output_type": "stream",
     "text": [
      "Epoch: [20][0/60] Elapsed 0m 0s (remain 0m 48s) Loss: 0.0548 Grad: 95843.2969  LR: 0.00000750  \n"
     ]
    },
    {
     "name": "stderr",
     "output_type": "stream",
     "text": [
      "Train:  85%|████████▌ | 51/60 [00:22<00:03,  2.42train_batch/s]"
     ]
    },
    {
     "name": "stdout",
     "output_type": "stream",
     "text": [
      "Epoch: [20][50/60] Elapsed 0m 22s (remain 0m 3s) Loss: 0.0633 Grad: 29029.7207  LR: 0.00000054  \n"
     ]
    },
    {
     "name": "stderr",
     "output_type": "stream",
     "text": [
      "Train: 100%|██████████| 60/60 [00:26<00:00,  2.28train_batch/s]\n"
     ]
    },
    {
     "name": "stdout",
     "output_type": "stream",
     "text": [
      "Epoch: [20][59/60] Elapsed 0m 26s (remain 0m 0s) Loss: 0.0631 Grad: 32570.4082  LR: 0.00000040  \n"
     ]
    },
    {
     "name": "stderr",
     "output_type": "stream",
     "text": [
      "Validation:  10%|▉         | 2/21 [00:00<00:07,  2.70valid_batch/s]"
     ]
    },
    {
     "name": "stdout",
     "output_type": "stream",
     "text": [
      "EVAL: [0/21] Elapsed 0m 0s (remain 0m 13s) Loss: 0.3415 \n"
     ]
    },
    {
     "name": "stderr",
     "output_type": "stream",
     "text": [
      "Validation: 100%|██████████| 21/21 [00:04<00:00,  4.33valid_batch/s]\n"
     ]
    },
    {
     "name": "stdout",
     "output_type": "stream",
     "text": [
      "EVAL: [20/21] Elapsed 0m 4s (remain 0m 0s) Loss: 0.3551 \n",
      "Epoch 20 - avg_train_loss: 0.0631  avg_val_loss: 0.3551  time: 31s\n",
      "========== Fold 0 result: 0.9850688035529029 ==========\n",
      "========== Fold: 1 training ==========\n"
     ]
    },
    {
     "name": "stderr",
     "output_type": "stream",
     "text": [
      "Train:   0%|          | 0/60 [00:00<?, ?train_batch/s]/home/mccruz/.local/lib/python3.10/site-packages/torch/optim/lr_scheduler.py:143: UserWarning: Detected call of `lr_scheduler.step()` before `optimizer.step()`. In PyTorch 1.1.0 and later, you should call them in the opposite order: `optimizer.step()` before `lr_scheduler.step()`.  Failure to do this will result in PyTorch skipping the first value of the learning rate schedule. See more details at https://pytorch.org/docs/stable/optim.html#how-to-adjust-learning-rate\n",
      "  warnings.warn(\"Detected call of `lr_scheduler.step()` before `optimizer.step()`. \"\n",
      "Train:   2%|▏         | 1/60 [00:00<00:51,  1.14train_batch/s]"
     ]
    },
    {
     "name": "stdout",
     "output_type": "stream",
     "text": [
      "Epoch: [1][0/60] Elapsed 0m 0s (remain 0m 51s) Loss: 2.1052 Grad: inf  LR: 0.00004017  \n"
     ]
    },
    {
     "name": "stderr",
     "output_type": "stream",
     "text": [
      "Train:  85%|████████▌ | 51/60 [00:18<00:03,  2.39train_batch/s]"
     ]
    },
    {
     "name": "stdout",
     "output_type": "stream",
     "text": [
      "Epoch: [1][50/60] Elapsed 0m 18s (remain 0m 3s) Loss: 1.5331 Grad: 178632.1719  LR: 0.00041319  \n"
     ]
    },
    {
     "name": "stderr",
     "output_type": "stream",
     "text": [
      "Train: 100%|██████████| 60/60 [00:22<00:00,  2.65train_batch/s]\n"
     ]
    },
    {
     "name": "stdout",
     "output_type": "stream",
     "text": [
      "Epoch: [1][59/60] Elapsed 0m 22s (remain 0m 0s) Loss: 1.4892 Grad: 108679.0703  LR: 0.00052634  \n"
     ]
    },
    {
     "name": "stderr",
     "output_type": "stream",
     "text": [
      "Validation:  10%|▉         | 2/21 [00:00<00:06,  3.11valid_batch/s]"
     ]
    },
    {
     "name": "stdout",
     "output_type": "stream",
     "text": [
      "EVAL: [0/21] Elapsed 0m 0s (remain 0m 11s) Loss: 1.3771 \n"
     ]
    },
    {
     "name": "stderr",
     "output_type": "stream",
     "text": [
      "Validation:  95%|█████████▌| 20/21 [00:04<00:00,  3.97valid_batch/s]"
     ]
    },
    {
     "name": "stdout",
     "output_type": "stream",
     "text": [
      "EVAL: [20/21] Elapsed 0m 4s (remain 0m 0s) Loss: 1.0660 \n"
     ]
    },
    {
     "name": "stderr",
     "output_type": "stream",
     "text": [
      "Validation: 100%|██████████| 21/21 [00:05<00:00,  4.13valid_batch/s]\n"
     ]
    },
    {
     "name": "stdout",
     "output_type": "stream",
     "text": [
      "Epoch 1 - avg_train_loss: 1.4892  avg_val_loss: 1.0660  time: 28s\n",
      "Epoch 1 - Save Best Loss: 1.0660 Model\n"
     ]
    },
    {
     "name": "stderr",
     "output_type": "stream",
     "text": [
      "Train:   2%|▏         | 1/60 [00:00<00:47,  1.25train_batch/s]"
     ]
    },
    {
     "name": "stdout",
     "output_type": "stream",
     "text": [
      "Epoch: [2][0/60] Elapsed 0m 0s (remain 0m 47s) Loss: 1.3531 Grad: 545850.0625  LR: 0.00053900  \n"
     ]
    },
    {
     "name": "stderr",
     "output_type": "stream",
     "text": [
      "Train:  85%|████████▌ | 51/60 [00:21<00:03,  2.41train_batch/s]"
     ]
    },
    {
     "name": "stdout",
     "output_type": "stream",
     "text": [
      "Epoch: [2][50/60] Elapsed 0m 21s (remain 0m 3s) Loss: 0.7769 Grad: 138973.6875  LR: 0.00098933  \n"
     ]
    },
    {
     "name": "stderr",
     "output_type": "stream",
     "text": [
      "Train: 100%|██████████| 60/60 [00:25<00:00,  2.38train_batch/s]\n"
     ]
    },
    {
     "name": "stdout",
     "output_type": "stream",
     "text": [
      "Epoch: [2][59/60] Elapsed 0m 25s (remain 0m 0s) Loss: 0.7599 Grad: 134304.2969  LR: 0.00100000  \n"
     ]
    },
    {
     "name": "stderr",
     "output_type": "stream",
     "text": [
      "Validation:  10%|▉         | 2/21 [00:00<00:05,  3.41valid_batch/s]"
     ]
    },
    {
     "name": "stdout",
     "output_type": "stream",
     "text": [
      "EVAL: [0/21] Elapsed 0m 0s (remain 0m 10s) Loss: 0.8994 \n"
     ]
    },
    {
     "name": "stderr",
     "output_type": "stream",
     "text": [
      "Validation: 100%|██████████| 21/21 [00:04<00:00,  4.28valid_batch/s]\n"
     ]
    },
    {
     "name": "stdout",
     "output_type": "stream",
     "text": [
      "EVAL: [20/21] Elapsed 0m 4s (remain 0m 0s) Loss: 0.6647 \n",
      "Epoch 2 - avg_train_loss: 0.7599  avg_val_loss: 0.6647  time: 30s\n",
      "Epoch 2 - Save Best Loss: 0.6647 Model\n"
     ]
    },
    {
     "name": "stderr",
     "output_type": "stream",
     "text": [
      "Train:   2%|▏         | 1/60 [00:00<00:40,  1.45train_batch/s]"
     ]
    },
    {
     "name": "stdout",
     "output_type": "stream",
     "text": [
      "Epoch: [3][0/60] Elapsed 0m 0s (remain 0m 40s) Loss: 0.5129 Grad: 246459.7031  LR: 0.00099999  \n"
     ]
    },
    {
     "name": "stderr",
     "output_type": "stream",
     "text": [
      "Train:  85%|████████▌ | 51/60 [00:19<00:03,  2.30train_batch/s]"
     ]
    },
    {
     "name": "stdout",
     "output_type": "stream",
     "text": [
      "Epoch: [3][50/60] Elapsed 0m 19s (remain 0m 3s) Loss: 0.5046 Grad: 260779.9219  LR: 0.00099429  \n"
     ]
    },
    {
     "name": "stderr",
     "output_type": "stream",
     "text": [
      "Train: 100%|██████████| 60/60 [00:23<00:00,  2.57train_batch/s]\n"
     ]
    },
    {
     "name": "stdout",
     "output_type": "stream",
     "text": [
      "Epoch: [3][59/60] Elapsed 0m 23s (remain 0m 0s) Loss: 0.5001 Grad: 272891.2812  LR: 0.00099215  \n"
     ]
    },
    {
     "name": "stderr",
     "output_type": "stream",
     "text": [
      "Validation:  10%|▉         | 2/21 [00:00<00:08,  2.32valid_batch/s]"
     ]
    },
    {
     "name": "stdout",
     "output_type": "stream",
     "text": [
      "EVAL: [0/21] Elapsed 0m 0s (remain 0m 15s) Loss: 0.8356 \n"
     ]
    },
    {
     "name": "stderr",
     "output_type": "stream",
     "text": [
      "Validation: 100%|██████████| 21/21 [00:05<00:00,  3.67valid_batch/s]\n"
     ]
    },
    {
     "name": "stdout",
     "output_type": "stream",
     "text": [
      "EVAL: [20/21] Elapsed 0m 5s (remain 0m 0s) Loss: 0.5725 \n",
      "Epoch 3 - avg_train_loss: 0.5001  avg_val_loss: 0.5725  time: 29s\n",
      "Epoch 3 - Save Best Loss: 0.5725 Model\n"
     ]
    },
    {
     "name": "stderr",
     "output_type": "stream",
     "text": [
      "Train:   2%|▏         | 1/60 [00:00<00:46,  1.26train_batch/s]"
     ]
    },
    {
     "name": "stdout",
     "output_type": "stream",
     "text": [
      "Epoch: [4][0/60] Elapsed 0m 0s (remain 0m 46s) Loss: 0.3175 Grad: 211468.6719  LR: 0.00099189  \n"
     ]
    },
    {
     "name": "stderr",
     "output_type": "stream",
     "text": [
      "Train:  85%|████████▌ | 51/60 [00:22<00:03,  2.27train_batch/s]"
     ]
    },
    {
     "name": "stdout",
     "output_type": "stream",
     "text": [
      "Epoch: [4][50/60] Elapsed 0m 22s (remain 0m 3s) Loss: 0.3730 Grad: 143785.6875  LR: 0.00097371  \n"
     ]
    },
    {
     "name": "stderr",
     "output_type": "stream",
     "text": [
      "Train: 100%|██████████| 60/60 [00:26<00:00,  2.26train_batch/s]\n"
     ]
    },
    {
     "name": "stdout",
     "output_type": "stream",
     "text": [
      "Epoch: [4][59/60] Elapsed 0m 26s (remain 0m 0s) Loss: 0.3764 Grad: 115532.1328  LR: 0.00096936  \n"
     ]
    },
    {
     "name": "stderr",
     "output_type": "stream",
     "text": [
      "Validation:   5%|▍         | 1/21 [00:00<00:13,  1.51valid_batch/s]"
     ]
    },
    {
     "name": "stdout",
     "output_type": "stream",
     "text": [
      "EVAL: [0/21] Elapsed 0m 0s (remain 0m 13s) Loss: 0.6728 \n"
     ]
    },
    {
     "name": "stderr",
     "output_type": "stream",
     "text": [
      "Validation: 100%|██████████| 21/21 [00:04<00:00,  4.66valid_batch/s]\n"
     ]
    },
    {
     "name": "stdout",
     "output_type": "stream",
     "text": [
      "EVAL: [20/21] Elapsed 0m 4s (remain 0m 0s) Loss: 0.4985 \n",
      "Epoch 4 - avg_train_loss: 0.3764  avg_val_loss: 0.4985  time: 31s\n",
      "Epoch 4 - Save Best Loss: 0.4985 Model\n"
     ]
    },
    {
     "name": "stderr",
     "output_type": "stream",
     "text": [
      "Train:   2%|▏         | 1/60 [00:00<00:35,  1.68train_batch/s]"
     ]
    },
    {
     "name": "stdout",
     "output_type": "stream",
     "text": [
      "Epoch: [5][0/60] Elapsed 0m 0s (remain 0m 35s) Loss: 0.3530 Grad: 319743.0000  LR: 0.00096886  \n"
     ]
    },
    {
     "name": "stderr",
     "output_type": "stream",
     "text": [
      "Train:  85%|████████▌ | 51/60 [00:20<00:03,  2.27train_batch/s]"
     ]
    },
    {
     "name": "stdout",
     "output_type": "stream",
     "text": [
      "Epoch: [5][50/60] Elapsed 0m 20s (remain 0m 3s) Loss: 0.3126 Grad: 139270.5156  LR: 0.00093874  \n"
     ]
    },
    {
     "name": "stderr",
     "output_type": "stream",
     "text": [
      "Train: 100%|██████████| 60/60 [00:24<00:00,  2.37train_batch/s]"
     ]
    },
    {
     "name": "stdout",
     "output_type": "stream",
     "text": [
      "Epoch: [5][59/60] Elapsed 0m 24s (remain 0m 0s) Loss: 0.3121 Grad: 117272.7500  LR: 0.00093231  \n"
     ]
    },
    {
     "name": "stderr",
     "output_type": "stream",
     "text": [
      "Train: 100%|██████████| 60/60 [00:25<00:00,  2.39train_batch/s]\n",
      "Validation:   5%|▍         | 1/21 [00:00<00:14,  1.35valid_batch/s]"
     ]
    },
    {
     "name": "stdout",
     "output_type": "stream",
     "text": [
      "EVAL: [0/21] Elapsed 0m 0s (remain 0m 14s) Loss: 0.6499 \n"
     ]
    },
    {
     "name": "stderr",
     "output_type": "stream",
     "text": [
      "Validation: 100%|██████████| 21/21 [00:05<00:00,  4.05valid_batch/s]\n"
     ]
    },
    {
     "name": "stdout",
     "output_type": "stream",
     "text": [
      "EVAL: [20/21] Elapsed 0m 5s (remain 0m 0s) Loss: 0.4853 \n",
      "Epoch 5 - avg_train_loss: 0.3121  avg_val_loss: 0.4853  time: 30s\n",
      "Epoch 5 - Save Best Loss: 0.4853 Model\n"
     ]
    },
    {
     "name": "stderr",
     "output_type": "stream",
     "text": [
      "Train:   2%|▏         | 1/60 [00:00<00:57,  1.03train_batch/s]"
     ]
    },
    {
     "name": "stdout",
     "output_type": "stream",
     "text": [
      "Epoch: [6][0/60] Elapsed 0m 0s (remain 0m 57s) Loss: 0.2187 Grad: 190001.0312  LR: 0.00093158  \n"
     ]
    },
    {
     "name": "stderr",
     "output_type": "stream",
     "text": [
      "Train:  85%|████████▌ | 51/60 [00:21<00:03,  2.27train_batch/s]"
     ]
    },
    {
     "name": "stdout",
     "output_type": "stream",
     "text": [
      "Epoch: [6][50/60] Elapsed 0m 22s (remain 0m 3s) Loss: 0.2642 Grad: 87396.1328  LR: 0.00089044  \n"
     ]
    },
    {
     "name": "stderr",
     "output_type": "stream",
     "text": [
      "Train: 100%|██████████| 60/60 [00:25<00:00,  2.37train_batch/s]\n"
     ]
    },
    {
     "name": "stdout",
     "output_type": "stream",
     "text": [
      "Epoch: [6][59/60] Elapsed 0m 25s (remain 0m 0s) Loss: 0.2635 Grad: 104589.1562  LR: 0.00088213  \n"
     ]
    },
    {
     "name": "stderr",
     "output_type": "stream",
     "text": [
      "Validation:  10%|▉         | 2/21 [00:00<00:05,  3.35valid_batch/s]"
     ]
    },
    {
     "name": "stdout",
     "output_type": "stream",
     "text": [
      "EVAL: [0/21] Elapsed 0m 0s (remain 0m 11s) Loss: 0.5806 \n"
     ]
    },
    {
     "name": "stderr",
     "output_type": "stream",
     "text": [
      "Validation: 100%|██████████| 21/21 [00:04<00:00,  4.34valid_batch/s]"
     ]
    },
    {
     "name": "stdout",
     "output_type": "stream",
     "text": [
      "EVAL: [20/21] Elapsed 0m 4s (remain 0m 0s) Loss: 0.4686 \n",
      "Epoch 6 - avg_train_loss: 0.2635  avg_val_loss: 0.4686  time: 30s\n",
      "Epoch 6 - Save Best Loss: 0.4686 Model\n"
     ]
    },
    {
     "name": "stderr",
     "output_type": "stream",
     "text": [
      "\n",
      "Train:   2%|▏         | 1/60 [00:00<00:48,  1.22train_batch/s]"
     ]
    },
    {
     "name": "stdout",
     "output_type": "stream",
     "text": [
      "Epoch: [7][0/60] Elapsed 0m 0s (remain 0m 48s) Loss: 0.1579 Grad: 144523.4688  LR: 0.00088119  \n"
     ]
    },
    {
     "name": "stderr",
     "output_type": "stream",
     "text": [
      "Train:  85%|████████▌ | 51/60 [00:20<00:03,  2.32train_batch/s]"
     ]
    },
    {
     "name": "stdout",
     "output_type": "stream",
     "text": [
      "Epoch: [7][50/60] Elapsed 0m 20s (remain 0m 3s) Loss: 0.2163 Grad: 59950.6094  LR: 0.00083029  \n"
     ]
    },
    {
     "name": "stderr",
     "output_type": "stream",
     "text": [
      "Train: 100%|██████████| 60/60 [00:24<00:00,  2.46train_batch/s]\n"
     ]
    },
    {
     "name": "stdout",
     "output_type": "stream",
     "text": [
      "Epoch: [7][59/60] Elapsed 0m 24s (remain 0m 0s) Loss: 0.2198 Grad: 125179.5781  LR: 0.00082035  \n"
     ]
    },
    {
     "name": "stderr",
     "output_type": "stream",
     "text": [
      "Validation:  10%|▉         | 2/21 [00:00<00:06,  3.03valid_batch/s]"
     ]
    },
    {
     "name": "stdout",
     "output_type": "stream",
     "text": [
      "EVAL: [0/21] Elapsed 0m 0s (remain 0m 11s) Loss: 0.5015 \n"
     ]
    },
    {
     "name": "stderr",
     "output_type": "stream",
     "text": [
      "Validation: 100%|██████████| 21/21 [00:05<00:00,  4.19valid_batch/s]\n"
     ]
    },
    {
     "name": "stdout",
     "output_type": "stream",
     "text": [
      "EVAL: [20/21] Elapsed 0m 4s (remain 0m 0s) Loss: 0.4070 \n",
      "Epoch 7 - avg_train_loss: 0.2198  avg_val_loss: 0.4070  time: 29s\n",
      "Epoch 7 - Save Best Loss: 0.4070 Model\n"
     ]
    },
    {
     "name": "stderr",
     "output_type": "stream",
     "text": [
      "Train:   2%|▏         | 1/60 [00:00<00:49,  1.18train_batch/s]"
     ]
    },
    {
     "name": "stdout",
     "output_type": "stream",
     "text": [
      "Epoch: [8][0/60] Elapsed 0m 0s (remain 0m 49s) Loss: 0.1496 Grad: 113483.0625  LR: 0.00081923  \n"
     ]
    },
    {
     "name": "stderr",
     "output_type": "stream",
     "text": [
      "Train:  85%|████████▌ | 51/60 [00:22<00:02,  3.34train_batch/s]"
     ]
    },
    {
     "name": "stdout",
     "output_type": "stream",
     "text": [
      "Epoch: [8][50/60] Elapsed 0m 22s (remain 0m 3s) Loss: 0.1832 Grad: 58300.9531  LR: 0.00076010  \n"
     ]
    },
    {
     "name": "stderr",
     "output_type": "stream",
     "text": [
      "Train: 100%|██████████| 60/60 [00:25<00:00,  2.79train_batch/s]"
     ]
    },
    {
     "name": "stdout",
     "output_type": "stream",
     "text": [
      "Epoch: [8][59/60] Elapsed 0m 25s (remain 0m 0s) Loss: 0.1820 Grad: 70488.8750  LR: 0.00074884  \n"
     ]
    },
    {
     "name": "stderr",
     "output_type": "stream",
     "text": [
      "Train: 100%|██████████| 60/60 [00:25<00:00,  2.37train_batch/s]\n",
      "Validation:  10%|▉         | 2/21 [00:00<00:06,  3.03valid_batch/s]"
     ]
    },
    {
     "name": "stdout",
     "output_type": "stream",
     "text": [
      "EVAL: [0/21] Elapsed 0m 0s (remain 0m 11s) Loss: 0.5214 \n"
     ]
    },
    {
     "name": "stderr",
     "output_type": "stream",
     "text": [
      "Validation: 100%|██████████| 21/21 [00:04<00:00,  4.61valid_batch/s]\n"
     ]
    },
    {
     "name": "stdout",
     "output_type": "stream",
     "text": [
      "EVAL: [20/21] Elapsed 0m 4s (remain 0m 0s) Loss: 0.3788 \n",
      "Epoch 8 - avg_train_loss: 0.1820  avg_val_loss: 0.3788  time: 30s\n",
      "Epoch 8 - Save Best Loss: 0.3788 Model\n"
     ]
    },
    {
     "name": "stderr",
     "output_type": "stream",
     "text": [
      "Train:   2%|▏         | 1/60 [00:00<00:36,  1.60train_batch/s]"
     ]
    },
    {
     "name": "stdout",
     "output_type": "stream",
     "text": [
      "Epoch: [9][0/60] Elapsed 0m 0s (remain 0m 37s) Loss: 0.1119 Grad: 118590.1797  LR: 0.00074758  \n"
     ]
    },
    {
     "name": "stderr",
     "output_type": "stream",
     "text": [
      "Train:  85%|████████▌ | 51/60 [00:22<00:03,  2.26train_batch/s]"
     ]
    },
    {
     "name": "stdout",
     "output_type": "stream",
     "text": [
      "Epoch: [9][50/60] Elapsed 0m 22s (remain 0m 3s) Loss: 0.1552 Grad: 158851.0781  LR: 0.00068202  \n"
     ]
    },
    {
     "name": "stderr",
     "output_type": "stream",
     "text": [
      "Train: 100%|██████████| 60/60 [00:26<00:00,  2.30train_batch/s]\n"
     ]
    },
    {
     "name": "stdout",
     "output_type": "stream",
     "text": [
      "Epoch: [9][59/60] Elapsed 0m 25s (remain 0m 0s) Loss: 0.1570 Grad: 199582.8125  LR: 0.00066977  \n"
     ]
    },
    {
     "name": "stderr",
     "output_type": "stream",
     "text": [
      "Validation:  10%|▉         | 2/21 [00:00<00:05,  3.18valid_batch/s]"
     ]
    },
    {
     "name": "stdout",
     "output_type": "stream",
     "text": [
      "EVAL: [0/21] Elapsed 0m 0s (remain 0m 9s) Loss: 0.4674 \n"
     ]
    },
    {
     "name": "stderr",
     "output_type": "stream",
     "text": [
      "Validation: 100%|██████████| 21/21 [00:05<00:00,  4.16valid_batch/s]\n"
     ]
    },
    {
     "name": "stdout",
     "output_type": "stream",
     "text": [
      "EVAL: [20/21] Elapsed 0m 4s (remain 0m 0s) Loss: 0.4080 \n",
      "Epoch 9 - avg_train_loss: 0.1570  avg_val_loss: 0.4080  time: 31s\n"
     ]
    },
    {
     "name": "stderr",
     "output_type": "stream",
     "text": [
      "Train:   2%|▏         | 1/60 [00:00<00:40,  1.44train_batch/s]"
     ]
    },
    {
     "name": "stdout",
     "output_type": "stream",
     "text": [
      "Epoch: [10][0/60] Elapsed 0m 0s (remain 0m 41s) Loss: 0.1526 Grad: 153952.8125  LR: 0.00066841  \n"
     ]
    },
    {
     "name": "stderr",
     "output_type": "stream",
     "text": [
      "Train:  85%|████████▌ | 51/60 [00:20<00:02,  3.35train_batch/s]"
     ]
    },
    {
     "name": "stdout",
     "output_type": "stream",
     "text": [
      "Epoch: [10][50/60] Elapsed 0m 20s (remain 0m 3s) Loss: 0.1361 Grad: 249383.9688  LR: 0.00059842  \n"
     ]
    },
    {
     "name": "stderr",
     "output_type": "stream",
     "text": [
      "Train: 100%|██████████| 60/60 [00:24<00:00,  2.69train_batch/s]"
     ]
    },
    {
     "name": "stdout",
     "output_type": "stream",
     "text": [
      "Epoch: [10][59/60] Elapsed 0m 24s (remain 0m 0s) Loss: 0.1396 Grad: 201443.6094  LR: 0.00058556  \n"
     ]
    },
    {
     "name": "stderr",
     "output_type": "stream",
     "text": [
      "Train: 100%|██████████| 60/60 [00:24<00:00,  2.47train_batch/s]\n",
      "Validation:   5%|▍         | 1/21 [00:00<00:11,  1.78valid_batch/s]"
     ]
    },
    {
     "name": "stdout",
     "output_type": "stream",
     "text": [
      "EVAL: [0/21] Elapsed 0m 0s (remain 0m 11s) Loss: 0.5145 \n"
     ]
    },
    {
     "name": "stderr",
     "output_type": "stream",
     "text": [
      "Validation: 100%|██████████| 21/21 [00:04<00:00,  4.34valid_batch/s]\n"
     ]
    },
    {
     "name": "stdout",
     "output_type": "stream",
     "text": [
      "EVAL: [20/21] Elapsed 0m 4s (remain 0m 0s) Loss: 0.3417 \n",
      "Epoch 10 - avg_train_loss: 0.1396  avg_val_loss: 0.3417  time: 29s\n",
      "Epoch 10 - Save Best Loss: 0.3417 Model\n"
     ]
    },
    {
     "name": "stderr",
     "output_type": "stream",
     "text": [
      "Train:   2%|▏         | 1/60 [00:00<00:48,  1.22train_batch/s]"
     ]
    },
    {
     "name": "stdout",
     "output_type": "stream",
     "text": [
      "Epoch: [11][0/60] Elapsed 0m 0s (remain 0m 47s) Loss: 0.1342 Grad: 135554.6719  LR: 0.00058412  \n"
     ]
    },
    {
     "name": "stderr",
     "output_type": "stream",
     "text": [
      "Train:  85%|████████▌ | 51/60 [00:21<00:03,  2.31train_batch/s]"
     ]
    },
    {
     "name": "stdout",
     "output_type": "stream",
     "text": [
      "Epoch: [11][50/60] Elapsed 0m 21s (remain 0m 3s) Loss: 0.1258 Grad: 59788.6328  LR: 0.00051183  \n"
     ]
    },
    {
     "name": "stderr",
     "output_type": "stream",
     "text": [
      "Train: 100%|██████████| 60/60 [00:25<00:00,  2.33train_batch/s]"
     ]
    },
    {
     "name": "stdout",
     "output_type": "stream",
     "text": [
      "Epoch: [11][59/60] Elapsed 0m 25s (remain 0m 0s) Loss: 0.1256 Grad: 66773.7734  LR: 0.00049875  \n"
     ]
    },
    {
     "name": "stderr",
     "output_type": "stream",
     "text": [
      "Train: 100%|██████████| 60/60 [00:25<00:00,  2.34train_batch/s]\n",
      "Validation:   5%|▍         | 1/21 [00:00<00:13,  1.49valid_batch/s]"
     ]
    },
    {
     "name": "stdout",
     "output_type": "stream",
     "text": [
      "EVAL: [0/21] Elapsed 0m 0s (remain 0m 13s) Loss: 0.5298 \n"
     ]
    },
    {
     "name": "stderr",
     "output_type": "stream",
     "text": [
      "Validation: 100%|██████████| 21/21 [00:05<00:00,  3.86valid_batch/s]\n"
     ]
    },
    {
     "name": "stdout",
     "output_type": "stream",
     "text": [
      "EVAL: [20/21] Elapsed 0m 5s (remain 0m 0s) Loss: 0.3912 \n",
      "Epoch 11 - avg_train_loss: 0.1256  avg_val_loss: 0.3912  time: 31s\n"
     ]
    },
    {
     "name": "stderr",
     "output_type": "stream",
     "text": [
      "Train:   2%|▏         | 1/60 [00:00<00:55,  1.06train_batch/s]"
     ]
    },
    {
     "name": "stdout",
     "output_type": "stream",
     "text": [
      "Epoch: [12][0/60] Elapsed 0m 0s (remain 0m 54s) Loss: 0.1195 Grad: 141191.0000  LR: 0.00049729  \n"
     ]
    },
    {
     "name": "stderr",
     "output_type": "stream",
     "text": [
      "Train:  85%|████████▌ | 51/60 [00:20<00:02,  3.15train_batch/s]"
     ]
    },
    {
     "name": "stdout",
     "output_type": "stream",
     "text": [
      "Epoch: [12][50/60] Elapsed 0m 20s (remain 0m 3s) Loss: 0.1090 Grad: 126268.4297  LR: 0.00042489  \n"
     ]
    },
    {
     "name": "stderr",
     "output_type": "stream",
     "text": [
      "Train: 100%|██████████| 60/60 [00:23<00:00,  2.55train_batch/s]\n"
     ]
    },
    {
     "name": "stdout",
     "output_type": "stream",
     "text": [
      "Epoch: [12][59/60] Elapsed 0m 23s (remain 0m 0s) Loss: 0.1103 Grad: 102990.3281  LR: 0.00041198  \n"
     ]
    },
    {
     "name": "stderr",
     "output_type": "stream",
     "text": [
      "Validation:  10%|▉         | 2/21 [00:00<00:05,  3.42valid_batch/s]"
     ]
    },
    {
     "name": "stdout",
     "output_type": "stream",
     "text": [
      "EVAL: [0/21] Elapsed 0m 0s (remain 0m 9s) Loss: 0.4397 \n"
     ]
    },
    {
     "name": "stderr",
     "output_type": "stream",
     "text": [
      "Validation: 100%|██████████| 21/21 [00:05<00:00,  4.16valid_batch/s]\n"
     ]
    },
    {
     "name": "stdout",
     "output_type": "stream",
     "text": [
      "EVAL: [20/21] Elapsed 0m 4s (remain 0m 0s) Loss: 0.3514 \n",
      "Epoch 12 - avg_train_loss: 0.1103  avg_val_loss: 0.3514  time: 29s\n"
     ]
    },
    {
     "name": "stderr",
     "output_type": "stream",
     "text": [
      "Train:   2%|▏         | 1/60 [00:00<00:44,  1.32train_batch/s]"
     ]
    },
    {
     "name": "stdout",
     "output_type": "stream",
     "text": [
      "Epoch: [13][0/60] Elapsed 0m 0s (remain 0m 44s) Loss: 0.0934 Grad: 173295.0469  LR: 0.00041055  \n"
     ]
    },
    {
     "name": "stderr",
     "output_type": "stream",
     "text": [
      "Train:  85%|████████▌ | 51/60 [00:21<00:03,  2.26train_batch/s]"
     ]
    },
    {
     "name": "stdout",
     "output_type": "stream",
     "text": [
      "Epoch: [13][50/60] Elapsed 0m 21s (remain 0m 3s) Loss: 0.0977 Grad: 95575.3594  LR: 0.00034023  \n"
     ]
    },
    {
     "name": "stderr",
     "output_type": "stream",
     "text": [
      "Train: 100%|██████████| 60/60 [00:26<00:00,  2.30train_batch/s]\n"
     ]
    },
    {
     "name": "stdout",
     "output_type": "stream",
     "text": [
      "Epoch: [13][59/60] Elapsed 0m 25s (remain 0m 0s) Loss: 0.0992 Grad: 126409.0781  LR: 0.00032789  \n"
     ]
    },
    {
     "name": "stderr",
     "output_type": "stream",
     "text": [
      "Validation:   5%|▍         | 1/21 [00:00<00:15,  1.27valid_batch/s]"
     ]
    },
    {
     "name": "stdout",
     "output_type": "stream",
     "text": [
      "EVAL: [0/21] Elapsed 0m 0s (remain 0m 15s) Loss: 0.4309 \n"
     ]
    },
    {
     "name": "stderr",
     "output_type": "stream",
     "text": [
      "Validation: 100%|██████████| 21/21 [00:06<00:00,  3.45valid_batch/s]\n"
     ]
    },
    {
     "name": "stdout",
     "output_type": "stream",
     "text": [
      "EVAL: [20/21] Elapsed 0m 5s (remain 0m 0s) Loss: 0.3150 \n",
      "Epoch 13 - avg_train_loss: 0.0992  avg_val_loss: 0.3150  time: 32s\n",
      "Epoch 13 - Save Best Loss: 0.3150 Model\n"
     ]
    },
    {
     "name": "stderr",
     "output_type": "stream",
     "text": [
      "Train:   2%|▏         | 1/60 [00:00<00:41,  1.41train_batch/s]"
     ]
    },
    {
     "name": "stdout",
     "output_type": "stream",
     "text": [
      "Epoch: [14][0/60] Elapsed 0m 0s (remain 0m 42s) Loss: 0.1067 Grad: 134812.9844  LR: 0.00032653  \n"
     ]
    },
    {
     "name": "stderr",
     "output_type": "stream",
     "text": [
      "Train:  85%|████████▌ | 51/60 [00:19<00:03,  2.53train_batch/s]"
     ]
    },
    {
     "name": "stdout",
     "output_type": "stream",
     "text": [
      "Epoch: [14][50/60] Elapsed 0m 19s (remain 0m 3s) Loss: 0.0871 Grad: 79609.2969  LR: 0.00026044  \n"
     ]
    },
    {
     "name": "stderr",
     "output_type": "stream",
     "text": [
      "Train: 100%|██████████| 60/60 [00:22<00:00,  2.68train_batch/s]\n"
     ]
    },
    {
     "name": "stdout",
     "output_type": "stream",
     "text": [
      "Epoch: [14][59/60] Elapsed 0m 22s (remain 0m 0s) Loss: 0.0874 Grad: 106260.7578  LR: 0.00024904  \n"
     ]
    },
    {
     "name": "stderr",
     "output_type": "stream",
     "text": [
      "Validation:   5%|▍         | 1/21 [00:00<00:11,  1.74valid_batch/s]"
     ]
    },
    {
     "name": "stdout",
     "output_type": "stream",
     "text": [
      "EVAL: [0/21] Elapsed 0m 0s (remain 0m 11s) Loss: 0.4567 \n"
     ]
    },
    {
     "name": "stderr",
     "output_type": "stream",
     "text": [
      "Validation: 100%|██████████| 21/21 [00:05<00:00,  4.68valid_batch/s]"
     ]
    },
    {
     "name": "stdout",
     "output_type": "stream",
     "text": [
      "EVAL: [20/21] Elapsed 0m 5s (remain 0m 0s) Loss: 0.3042 \n"
     ]
    },
    {
     "name": "stderr",
     "output_type": "stream",
     "text": [
      "Validation: 100%|██████████| 21/21 [00:06<00:00,  3.48valid_batch/s]\n"
     ]
    },
    {
     "name": "stdout",
     "output_type": "stream",
     "text": [
      "Epoch 14 - avg_train_loss: 0.0874  avg_val_loss: 0.3042  time: 28s\n",
      "Epoch 14 - Save Best Loss: 0.3042 Model\n"
     ]
    },
    {
     "name": "stderr",
     "output_type": "stream",
     "text": [
      "Train:   2%|▏         | 1/60 [00:00<00:56,  1.05train_batch/s]"
     ]
    },
    {
     "name": "stdout",
     "output_type": "stream",
     "text": [
      "Epoch: [15][0/60] Elapsed 0m 0s (remain 0m 56s) Loss: 0.0871 Grad: 128234.3594  LR: 0.00024779  \n"
     ]
    },
    {
     "name": "stderr",
     "output_type": "stream",
     "text": [
      "Train:  85%|████████▌ | 51/60 [00:22<00:03,  2.27train_batch/s]"
     ]
    },
    {
     "name": "stdout",
     "output_type": "stream",
     "text": [
      "Epoch: [15][50/60] Elapsed 0m 22s (remain 0m 4s) Loss: 0.0806 Grad: 170729.5469  LR: 0.00018793  \n"
     ]
    },
    {
     "name": "stderr",
     "output_type": "stream",
     "text": [
      "Train: 100%|██████████| 60/60 [00:26<00:00,  2.24train_batch/s]\n"
     ]
    },
    {
     "name": "stdout",
     "output_type": "stream",
     "text": [
      "Epoch: [15][59/60] Elapsed 0m 26s (remain 0m 0s) Loss: 0.0807 Grad: 102269.3984  LR: 0.00017782  \n"
     ]
    },
    {
     "name": "stderr",
     "output_type": "stream",
     "text": [
      "Validation:  10%|▉         | 2/21 [00:00<00:05,  3.21valid_batch/s]"
     ]
    },
    {
     "name": "stdout",
     "output_type": "stream",
     "text": [
      "EVAL: [0/21] Elapsed 0m 0s (remain 0m 9s) Loss: 0.4270 \n"
     ]
    },
    {
     "name": "stderr",
     "output_type": "stream",
     "text": [
      "Validation: 100%|██████████| 21/21 [00:05<00:00,  4.17valid_batch/s]\n"
     ]
    },
    {
     "name": "stdout",
     "output_type": "stream",
     "text": [
      "EVAL: [20/21] Elapsed 0m 4s (remain 0m 0s) Loss: 0.3122 \n",
      "Epoch 15 - avg_train_loss: 0.0807  avg_val_loss: 0.3122  time: 32s\n"
     ]
    },
    {
     "name": "stderr",
     "output_type": "stream",
     "text": [
      "Train:   2%|▏         | 1/60 [00:00<00:41,  1.41train_batch/s]"
     ]
    },
    {
     "name": "stdout",
     "output_type": "stream",
     "text": [
      "Epoch: [16][0/60] Elapsed 0m 0s (remain 0m 41s) Loss: 0.0911 Grad: 116937.2500  LR: 0.00017671  \n"
     ]
    },
    {
     "name": "stderr",
     "output_type": "stream",
     "text": [
      "Train:  85%|████████▌ | 51/60 [00:19<00:03,  2.32train_batch/s]"
     ]
    },
    {
     "name": "stdout",
     "output_type": "stream",
     "text": [
      "Epoch: [16][50/60] Elapsed 0m 19s (remain 0m 3s) Loss: 0.0773 Grad: 87406.4375  LR: 0.00012491  \n"
     ]
    },
    {
     "name": "stderr",
     "output_type": "stream",
     "text": [
      "Train: 100%|██████████| 60/60 [00:23<00:00,  2.36train_batch/s]"
     ]
    },
    {
     "name": "stdout",
     "output_type": "stream",
     "text": [
      "Epoch: [16][59/60] Elapsed 0m 23s (remain 0m 0s) Loss: 0.0772 Grad: 108112.6484  LR: 0.00011640  \n"
     ]
    },
    {
     "name": "stderr",
     "output_type": "stream",
     "text": [
      "Train: 100%|██████████| 60/60 [00:23<00:00,  2.58train_batch/s]\n",
      "Validation:   5%|▍         | 1/21 [00:00<00:11,  1.70valid_batch/s]"
     ]
    },
    {
     "name": "stdout",
     "output_type": "stream",
     "text": [
      "EVAL: [0/21] Elapsed 0m 0s (remain 0m 11s) Loss: 0.4429 \n"
     ]
    },
    {
     "name": "stderr",
     "output_type": "stream",
     "text": [
      "Validation: 100%|██████████| 21/21 [00:05<00:00,  4.00valid_batch/s]\n"
     ]
    },
    {
     "name": "stdout",
     "output_type": "stream",
     "text": [
      "EVAL: [20/21] Elapsed 0m 5s (remain 0m 0s) Loss: 0.3137 \n",
      "Epoch 16 - avg_train_loss: 0.0772  avg_val_loss: 0.3137  time: 29s\n"
     ]
    },
    {
     "name": "stderr",
     "output_type": "stream",
     "text": [
      "Train:   2%|▏         | 1/60 [00:00<00:41,  1.44train_batch/s]"
     ]
    },
    {
     "name": "stdout",
     "output_type": "stream",
     "text": [
      "Epoch: [17][0/60] Elapsed 0m 0s (remain 0m 41s) Loss: 0.0975 Grad: 182208.8281  LR: 0.00011547  \n"
     ]
    },
    {
     "name": "stderr",
     "output_type": "stream",
     "text": [
      "Train:  85%|████████▌ | 51/60 [00:22<00:03,  2.28train_batch/s]"
     ]
    },
    {
     "name": "stdout",
     "output_type": "stream",
     "text": [
      "Epoch: [17][50/60] Elapsed 0m 22s (remain 0m 3s) Loss: 0.0726 Grad: 81330.2266  LR: 0.00007329  \n"
     ]
    },
    {
     "name": "stderr",
     "output_type": "stream",
     "text": [
      "Train: 100%|██████████| 60/60 [00:26<00:00,  2.27train_batch/s]\n"
     ]
    },
    {
     "name": "stdout",
     "output_type": "stream",
     "text": [
      "Epoch: [17][59/60] Elapsed 0m 26s (remain 0m 0s) Loss: 0.0712 Grad: 78932.2891  LR: 0.00006664  \n"
     ]
    },
    {
     "name": "stderr",
     "output_type": "stream",
     "text": [
      "Validation:  10%|▉         | 2/21 [00:00<00:05,  3.27valid_batch/s]"
     ]
    },
    {
     "name": "stdout",
     "output_type": "stream",
     "text": [
      "EVAL: [0/21] Elapsed 0m 0s (remain 0m 9s) Loss: 0.4664 \n"
     ]
    },
    {
     "name": "stderr",
     "output_type": "stream",
     "text": [
      "Validation: 100%|██████████| 21/21 [00:05<00:00,  4.14valid_batch/s]\n"
     ]
    },
    {
     "name": "stdout",
     "output_type": "stream",
     "text": [
      "EVAL: [20/21] Elapsed 0m 4s (remain 0m 0s) Loss: 0.3106 \n",
      "Epoch 17 - avg_train_loss: 0.0712  avg_val_loss: 0.3106  time: 32s\n"
     ]
    },
    {
     "name": "stderr",
     "output_type": "stream",
     "text": [
      "Train:   2%|▏         | 1/60 [00:00<00:32,  1.80train_batch/s]"
     ]
    },
    {
     "name": "stdout",
     "output_type": "stream",
     "text": [
      "Epoch: [18][0/60] Elapsed 0m 0s (remain 0m 32s) Loss: 0.0828 Grad: 98203.3203  LR: 0.00006591  \n"
     ]
    },
    {
     "name": "stderr",
     "output_type": "stream",
     "text": [
      "Train:  85%|████████▌ | 51/60 [00:17<00:03,  2.56train_batch/s]"
     ]
    },
    {
     "name": "stdout",
     "output_type": "stream",
     "text": [
      "Epoch: [18][50/60] Elapsed 0m 17s (remain 0m 3s) Loss: 0.0725 Grad: 85499.0625  LR: 0.00003465  \n"
     ]
    },
    {
     "name": "stderr",
     "output_type": "stream",
     "text": [
      "Train: 100%|██████████| 60/60 [00:21<00:00,  2.31train_batch/s]"
     ]
    },
    {
     "name": "stdout",
     "output_type": "stream",
     "text": [
      "Epoch: [18][59/60] Elapsed 0m 21s (remain 0m 0s) Loss: 0.0713 Grad: 83078.0703  LR: 0.00003005  \n"
     ]
    },
    {
     "name": "stderr",
     "output_type": "stream",
     "text": [
      "Train: 100%|██████████| 60/60 [00:21<00:00,  2.74train_batch/s]\n",
      "Validation:  10%|▉         | 2/21 [00:00<00:07,  2.68valid_batch/s]"
     ]
    },
    {
     "name": "stdout",
     "output_type": "stream",
     "text": [
      "EVAL: [0/21] Elapsed 0m 0s (remain 0m 12s) Loss: 0.4592 \n"
     ]
    },
    {
     "name": "stderr",
     "output_type": "stream",
     "text": [
      "Validation: 100%|██████████| 21/21 [00:04<00:00,  4.57valid_batch/s]\n"
     ]
    },
    {
     "name": "stdout",
     "output_type": "stream",
     "text": [
      "EVAL: [20/21] Elapsed 0m 4s (remain 0m 0s) Loss: 0.3075 \n",
      "Epoch 18 - avg_train_loss: 0.0713  avg_val_loss: 0.3075  time: 26s\n"
     ]
    },
    {
     "name": "stderr",
     "output_type": "stream",
     "text": [
      "Train:   2%|▏         | 1/60 [00:00<00:49,  1.19train_batch/s]"
     ]
    },
    {
     "name": "stdout",
     "output_type": "stream",
     "text": [
      "Epoch: [19][0/60] Elapsed 0m 0s (remain 0m 49s) Loss: 0.1039 Grad: 133913.9688  LR: 0.00002956  \n"
     ]
    },
    {
     "name": "stderr",
     "output_type": "stream",
     "text": [
      "Train:  85%|████████▌ | 51/60 [00:22<00:04,  2.24train_batch/s]"
     ]
    },
    {
     "name": "stdout",
     "output_type": "stream",
     "text": [
      "Epoch: [19][50/60] Elapsed 0m 22s (remain 0m 3s) Loss: 0.0677 Grad: 81598.9922  LR: 0.00001015  \n"
     ]
    },
    {
     "name": "stderr",
     "output_type": "stream",
     "text": [
      "Train: 100%|██████████| 60/60 [00:26<00:00,  2.27train_batch/s]\n"
     ]
    },
    {
     "name": "stdout",
     "output_type": "stream",
     "text": [
      "Epoch: [19][59/60] Elapsed 0m 26s (remain 0m 0s) Loss: 0.0681 Grad: 79317.6641  LR: 0.00000774  \n"
     ]
    },
    {
     "name": "stderr",
     "output_type": "stream",
     "text": [
      "Validation:  10%|▉         | 2/21 [00:00<00:07,  2.53valid_batch/s]"
     ]
    },
    {
     "name": "stdout",
     "output_type": "stream",
     "text": [
      "EVAL: [0/21] Elapsed 0m 0s (remain 0m 13s) Loss: 0.4553 \n"
     ]
    },
    {
     "name": "stderr",
     "output_type": "stream",
     "text": [
      "Validation: 100%|██████████| 21/21 [00:05<00:00,  3.83valid_batch/s]\n"
     ]
    },
    {
     "name": "stdout",
     "output_type": "stream",
     "text": [
      "EVAL: [20/21] Elapsed 0m 5s (remain 0m 0s) Loss: 0.3088 \n",
      "Epoch 19 - avg_train_loss: 0.0681  avg_val_loss: 0.3088  time: 32s\n"
     ]
    },
    {
     "name": "stderr",
     "output_type": "stream",
     "text": [
      "Train:   2%|▏         | 1/60 [00:00<00:30,  1.95train_batch/s]"
     ]
    },
    {
     "name": "stdout",
     "output_type": "stream",
     "text": [
      "Epoch: [20][0/60] Elapsed 0m 0s (remain 0m 30s) Loss: 0.0579 Grad: 65994.8906  LR: 0.00000750  \n"
     ]
    },
    {
     "name": "stderr",
     "output_type": "stream",
     "text": [
      "Train:  85%|████████▌ | 51/60 [00:20<00:03,  2.28train_batch/s]"
     ]
    },
    {
     "name": "stdout",
     "output_type": "stream",
     "text": [
      "Epoch: [20][50/60] Elapsed 0m 20s (remain 0m 3s) Loss: 0.0660 Grad: 75594.7031  LR: 0.00000054  \n"
     ]
    },
    {
     "name": "stderr",
     "output_type": "stream",
     "text": [
      "Train: 100%|██████████| 60/60 [00:23<00:00,  2.29train_batch/s]"
     ]
    },
    {
     "name": "stdout",
     "output_type": "stream",
     "text": [
      "Epoch: [20][59/60] Elapsed 0m 23s (remain 0m 0s) Loss: 0.0671 Grad: 126739.6953  LR: 0.00000040  \n"
     ]
    },
    {
     "name": "stderr",
     "output_type": "stream",
     "text": [
      "Train: 100%|██████████| 60/60 [00:23<00:00,  2.50train_batch/s]\n",
      "Validation:  10%|▉         | 2/21 [00:00<00:05,  3.36valid_batch/s]"
     ]
    },
    {
     "name": "stdout",
     "output_type": "stream",
     "text": [
      "EVAL: [0/21] Elapsed 0m 0s (remain 0m 10s) Loss: 0.4515 \n"
     ]
    },
    {
     "name": "stderr",
     "output_type": "stream",
     "text": [
      "Validation: 100%|██████████| 21/21 [00:04<00:00,  4.29valid_batch/s]\n"
     ]
    },
    {
     "name": "stdout",
     "output_type": "stream",
     "text": [
      "EVAL: [20/21] Elapsed 0m 4s (remain 0m 0s) Loss: 0.3067 \n",
      "Epoch 20 - avg_train_loss: 0.0671  avg_val_loss: 0.3067  time: 29s\n",
      "========== Fold 1 result: 0.963335844354871 ==========\n",
      "========== Fold: 2 training ==========\n"
     ]
    },
    {
     "name": "stderr",
     "output_type": "stream",
     "text": [
      "Train:   0%|          | 0/60 [00:00<?, ?train_batch/s]/home/mccruz/.local/lib/python3.10/site-packages/torch/optim/lr_scheduler.py:143: UserWarning: Detected call of `lr_scheduler.step()` before `optimizer.step()`. In PyTorch 1.1.0 and later, you should call them in the opposite order: `optimizer.step()` before `lr_scheduler.step()`.  Failure to do this will result in PyTorch skipping the first value of the learning rate schedule. See more details at https://pytorch.org/docs/stable/optim.html#how-to-adjust-learning-rate\n",
      "  warnings.warn(\"Detected call of `lr_scheduler.step()` before `optimizer.step()`. \"\n",
      "Train:   2%|▏         | 1/60 [00:01<00:59,  1.01s/train_batch]"
     ]
    },
    {
     "name": "stdout",
     "output_type": "stream",
     "text": [
      "Epoch: [1][0/60] Elapsed 0m 1s (remain 0m 59s) Loss: 1.5732 Grad: inf  LR: 0.00004017  \n"
     ]
    },
    {
     "name": "stderr",
     "output_type": "stream",
     "text": [
      "Train:  85%|████████▌ | 51/60 [00:21<00:03,  2.40train_batch/s]"
     ]
    },
    {
     "name": "stdout",
     "output_type": "stream",
     "text": [
      "Epoch: [1][50/60] Elapsed 0m 21s (remain 0m 3s) Loss: 1.4097 Grad: 119432.5156  LR: 0.00041319  \n"
     ]
    },
    {
     "name": "stderr",
     "output_type": "stream",
     "text": [
      "Train: 100%|██████████| 60/60 [00:25<00:00,  2.43train_batch/s]"
     ]
    },
    {
     "name": "stdout",
     "output_type": "stream",
     "text": [
      "Epoch: [1][59/60] Elapsed 0m 25s (remain 0m 0s) Loss: 1.3495 Grad: 93407.1172  LR: 0.00052634  \n"
     ]
    },
    {
     "name": "stderr",
     "output_type": "stream",
     "text": [
      "Train: 100%|██████████| 60/60 [00:25<00:00,  2.34train_batch/s]\n",
      "Validation:  10%|▉         | 2/21 [00:00<00:05,  3.42valid_batch/s]"
     ]
    },
    {
     "name": "stdout",
     "output_type": "stream",
     "text": [
      "EVAL: [0/21] Elapsed 0m 0s (remain 0m 10s) Loss: 1.3277 \n"
     ]
    },
    {
     "name": "stderr",
     "output_type": "stream",
     "text": [
      "Validation: 100%|██████████| 21/21 [00:04<00:00,  4.67valid_batch/s]\n"
     ]
    },
    {
     "name": "stdout",
     "output_type": "stream",
     "text": [
      "EVAL: [20/21] Elapsed 0m 4s (remain 0m 0s) Loss: 0.9869 \n",
      "Epoch 1 - avg_train_loss: 1.3495  avg_val_loss: 0.9869  time: 30s\n",
      "Epoch 1 - Save Best Loss: 0.9869 Model\n"
     ]
    },
    {
     "name": "stderr",
     "output_type": "stream",
     "text": [
      "Train:   2%|▏         | 1/60 [00:00<00:39,  1.51train_batch/s]"
     ]
    },
    {
     "name": "stdout",
     "output_type": "stream",
     "text": [
      "Epoch: [2][0/60] Elapsed 0m 0s (remain 0m 39s) Loss: 0.7419 Grad: 284651.3750  LR: 0.00053900  \n"
     ]
    },
    {
     "name": "stderr",
     "output_type": "stream",
     "text": [
      "Train:  85%|████████▌ | 51/60 [00:20<00:03,  2.52train_batch/s]"
     ]
    },
    {
     "name": "stdout",
     "output_type": "stream",
     "text": [
      "Epoch: [2][50/60] Elapsed 0m 20s (remain 0m 3s) Loss: 0.7030 Grad: 116793.3125  LR: 0.00098933  \n"
     ]
    },
    {
     "name": "stderr",
     "output_type": "stream",
     "text": [
      "Train: 100%|██████████| 60/60 [00:24<00:00,  2.48train_batch/s]\n"
     ]
    },
    {
     "name": "stdout",
     "output_type": "stream",
     "text": [
      "Epoch: [2][59/60] Elapsed 0m 24s (remain 0m 0s) Loss: 0.6953 Grad: 122982.5703  LR: 0.00100000  \n"
     ]
    },
    {
     "name": "stderr",
     "output_type": "stream",
     "text": [
      "Validation:  10%|▉         | 2/21 [00:00<00:06,  3.16valid_batch/s]"
     ]
    },
    {
     "name": "stdout",
     "output_type": "stream",
     "text": [
      "EVAL: [0/21] Elapsed 0m 0s (remain 0m 10s) Loss: 0.8025 \n"
     ]
    },
    {
     "name": "stderr",
     "output_type": "stream",
     "text": [
      "Validation: 100%|██████████| 21/21 [00:05<00:00,  4.01valid_batch/s]\n"
     ]
    },
    {
     "name": "stdout",
     "output_type": "stream",
     "text": [
      "EVAL: [20/21] Elapsed 0m 5s (remain 0m 0s) Loss: 0.7420 \n",
      "Epoch 2 - avg_train_loss: 0.6953  avg_val_loss: 0.7420  time: 29s\n",
      "Epoch 2 - Save Best Loss: 0.7420 Model\n"
     ]
    },
    {
     "name": "stderr",
     "output_type": "stream",
     "text": [
      "Train:   2%|▏         | 1/60 [00:01<00:59,  1.01s/train_batch]"
     ]
    },
    {
     "name": "stdout",
     "output_type": "stream",
     "text": [
      "Epoch: [3][0/60] Elapsed 0m 0s (remain 0m 58s) Loss: 0.5422 Grad: 282633.4062  LR: 0.00099999  \n"
     ]
    },
    {
     "name": "stderr",
     "output_type": "stream",
     "text": [
      "Train:  85%|████████▌ | 51/60 [00:23<00:04,  2.25train_batch/s]"
     ]
    },
    {
     "name": "stdout",
     "output_type": "stream",
     "text": [
      "Epoch: [3][50/60] Elapsed 0m 23s (remain 0m 4s) Loss: 0.4757 Grad: 95148.2344  LR: 0.00099429  \n"
     ]
    },
    {
     "name": "stderr",
     "output_type": "stream",
     "text": [
      "Train: 100%|██████████| 60/60 [00:25<00:00,  3.24train_batch/s]"
     ]
    },
    {
     "name": "stdout",
     "output_type": "stream",
     "text": [
      "Epoch: [3][59/60] Elapsed 0m 25s (remain 0m 0s) Loss: 0.4727 Grad: 119714.7266  LR: 0.00099215  \n"
     ]
    },
    {
     "name": "stderr",
     "output_type": "stream",
     "text": [
      "Train: 100%|██████████| 60/60 [00:25<00:00,  2.31train_batch/s]\n",
      "Validation:  10%|▉         | 2/21 [00:00<00:05,  3.52valid_batch/s]"
     ]
    },
    {
     "name": "stdout",
     "output_type": "stream",
     "text": [
      "EVAL: [0/21] Elapsed 0m 0s (remain 0m 10s) Loss: 0.6589 \n"
     ]
    },
    {
     "name": "stderr",
     "output_type": "stream",
     "text": [
      "Validation: 100%|██████████| 21/21 [00:04<00:00,  4.47valid_batch/s]\n"
     ]
    },
    {
     "name": "stdout",
     "output_type": "stream",
     "text": [
      "EVAL: [20/21] Elapsed 0m 4s (remain 0m 0s) Loss: 0.5611 \n",
      "Epoch 3 - avg_train_loss: 0.4727  avg_val_loss: 0.5611  time: 31s\n",
      "Epoch 3 - Save Best Loss: 0.5611 Model\n"
     ]
    },
    {
     "name": "stderr",
     "output_type": "stream",
     "text": [
      "Train:   2%|▏         | 1/60 [00:00<00:46,  1.28train_batch/s]"
     ]
    },
    {
     "name": "stdout",
     "output_type": "stream",
     "text": [
      "Epoch: [4][0/60] Elapsed 0m 0s (remain 0m 46s) Loss: 0.3654 Grad: 199593.8438  LR: 0.00099189  \n"
     ]
    },
    {
     "name": "stderr",
     "output_type": "stream",
     "text": [
      "Train:  85%|████████▌ | 51/60 [00:21<00:04,  2.23train_batch/s]"
     ]
    },
    {
     "name": "stdout",
     "output_type": "stream",
     "text": [
      "Epoch: [4][50/60] Elapsed 0m 21s (remain 0m 3s) Loss: 0.3607 Grad: 96624.3672  LR: 0.00097371  \n"
     ]
    },
    {
     "name": "stderr",
     "output_type": "stream",
     "text": [
      "Train: 100%|██████████| 60/60 [00:25<00:00,  2.33train_batch/s]\n"
     ]
    },
    {
     "name": "stdout",
     "output_type": "stream",
     "text": [
      "Epoch: [4][59/60] Elapsed 0m 25s (remain 0m 0s) Loss: 0.3580 Grad: 107441.6484  LR: 0.00096936  \n"
     ]
    },
    {
     "name": "stderr",
     "output_type": "stream",
     "text": [
      "Validation:  10%|▉         | 2/21 [00:00<00:06,  3.13valid_batch/s]"
     ]
    },
    {
     "name": "stdout",
     "output_type": "stream",
     "text": [
      "EVAL: [0/21] Elapsed 0m 0s (remain 0m 10s) Loss: 0.7103 \n"
     ]
    },
    {
     "name": "stderr",
     "output_type": "stream",
     "text": [
      "Validation: 100%|██████████| 21/21 [00:04<00:00,  4.24valid_batch/s]\n"
     ]
    },
    {
     "name": "stdout",
     "output_type": "stream",
     "text": [
      "EVAL: [20/21] Elapsed 0m 4s (remain 0m 0s) Loss: 0.5108 \n",
      "Epoch 4 - avg_train_loss: 0.3580  avg_val_loss: 0.5108  time: 31s\n",
      "Epoch 4 - Save Best Loss: 0.5108 Model\n"
     ]
    },
    {
     "name": "stderr",
     "output_type": "stream",
     "text": [
      "Train:   2%|▏         | 1/60 [00:00<00:42,  1.39train_batch/s]"
     ]
    },
    {
     "name": "stdout",
     "output_type": "stream",
     "text": [
      "Epoch: [5][0/60] Elapsed 0m 0s (remain 0m 42s) Loss: 0.2468 Grad: 150245.0938  LR: 0.00096886  \n"
     ]
    },
    {
     "name": "stderr",
     "output_type": "stream",
     "text": [
      "Train:  85%|████████▌ | 51/60 [00:22<00:03,  2.82train_batch/s]"
     ]
    },
    {
     "name": "stdout",
     "output_type": "stream",
     "text": [
      "Epoch: [5][50/60] Elapsed 0m 22s (remain 0m 3s) Loss: 0.2879 Grad: 94852.2969  LR: 0.00093874  \n"
     ]
    },
    {
     "name": "stderr",
     "output_type": "stream",
     "text": [
      "Train: 100%|██████████| 60/60 [00:25<00:00,  2.37train_batch/s]\n"
     ]
    },
    {
     "name": "stdout",
     "output_type": "stream",
     "text": [
      "Epoch: [5][59/60] Elapsed 0m 25s (remain 0m 0s) Loss: 0.2858 Grad: 105897.8828  LR: 0.00093231  \n"
     ]
    },
    {
     "name": "stderr",
     "output_type": "stream",
     "text": [
      "Validation:   5%|▍         | 1/21 [00:00<00:12,  1.66valid_batch/s]"
     ]
    },
    {
     "name": "stdout",
     "output_type": "stream",
     "text": [
      "EVAL: [0/21] Elapsed 0m 0s (remain 0m 12s) Loss: 0.6242 \n"
     ]
    },
    {
     "name": "stderr",
     "output_type": "stream",
     "text": [
      "Validation: 100%|██████████| 21/21 [00:04<00:00,  4.40valid_batch/s]\n"
     ]
    },
    {
     "name": "stdout",
     "output_type": "stream",
     "text": [
      "EVAL: [20/21] Elapsed 0m 4s (remain 0m 0s) Loss: 0.4359 \n",
      "Epoch 5 - avg_train_loss: 0.2858  avg_val_loss: 0.4359  time: 30s\n",
      "Epoch 5 - Save Best Loss: 0.4359 Model\n"
     ]
    },
    {
     "name": "stderr",
     "output_type": "stream",
     "text": [
      "Train:   2%|▏         | 1/60 [00:00<00:34,  1.73train_batch/s]"
     ]
    },
    {
     "name": "stdout",
     "output_type": "stream",
     "text": [
      "Epoch: [6][0/60] Elapsed 0m 0s (remain 0m 34s) Loss: 0.2379 Grad: 221563.0781  LR: 0.00093158  \n"
     ]
    },
    {
     "name": "stderr",
     "output_type": "stream",
     "text": [
      "Train:  85%|████████▌ | 51/60 [00:21<00:03,  2.35train_batch/s]"
     ]
    },
    {
     "name": "stdout",
     "output_type": "stream",
     "text": [
      "Epoch: [6][50/60] Elapsed 0m 21s (remain 0m 3s) Loss: 0.2403 Grad: 110538.4688  LR: 0.00089044  \n"
     ]
    },
    {
     "name": "stderr",
     "output_type": "stream",
     "text": [
      "Train: 100%|██████████| 60/60 [00:24<00:00,  2.38train_batch/s]"
     ]
    },
    {
     "name": "stdout",
     "output_type": "stream",
     "text": [
      "Epoch: [6][59/60] Elapsed 0m 25s (remain 0m 0s) Loss: 0.2429 Grad: 113199.2031  LR: 0.00088213  \n"
     ]
    },
    {
     "name": "stderr",
     "output_type": "stream",
     "text": [
      "Train: 100%|██████████| 60/60 [00:25<00:00,  2.38train_batch/s]\n",
      "Validation:   5%|▍         | 1/21 [00:00<00:12,  1.61valid_batch/s]"
     ]
    },
    {
     "name": "stdout",
     "output_type": "stream",
     "text": [
      "EVAL: [0/21] Elapsed 0m 0s (remain 0m 12s) Loss: 0.5661 \n"
     ]
    },
    {
     "name": "stderr",
     "output_type": "stream",
     "text": [
      "Validation: 100%|██████████| 21/21 [00:04<00:00,  4.30valid_batch/s]\n"
     ]
    },
    {
     "name": "stdout",
     "output_type": "stream",
     "text": [
      "EVAL: [20/21] Elapsed 0m 4s (remain 0m 0s) Loss: 0.3910 \n",
      "Epoch 6 - avg_train_loss: 0.2429  avg_val_loss: 0.3910  time: 30s\n",
      "Epoch 6 - Save Best Loss: 0.3910 Model\n"
     ]
    },
    {
     "name": "stderr",
     "output_type": "stream",
     "text": [
      "Train:   2%|▏         | 1/60 [00:01<00:59,  1.01s/train_batch]"
     ]
    },
    {
     "name": "stdout",
     "output_type": "stream",
     "text": [
      "Epoch: [7][0/60] Elapsed 0m 1s (remain 0m 59s) Loss: 0.2359 Grad: 140531.1250  LR: 0.00088119  \n"
     ]
    },
    {
     "name": "stderr",
     "output_type": "stream",
     "text": [
      "Train:  85%|████████▌ | 51/60 [00:21<00:03,  2.72train_batch/s]"
     ]
    },
    {
     "name": "stdout",
     "output_type": "stream",
     "text": [
      "Epoch: [7][50/60] Elapsed 0m 21s (remain 0m 3s) Loss: 0.2101 Grad: 73533.2109  LR: 0.00083029  \n"
     ]
    },
    {
     "name": "stderr",
     "output_type": "stream",
     "text": [
      "Train: 100%|██████████| 60/60 [00:24<00:00,  2.45train_batch/s]\n"
     ]
    },
    {
     "name": "stdout",
     "output_type": "stream",
     "text": [
      "Epoch: [7][59/60] Elapsed 0m 24s (remain 0m 0s) Loss: 0.2150 Grad: 70413.8047  LR: 0.00082035  \n"
     ]
    },
    {
     "name": "stderr",
     "output_type": "stream",
     "text": [
      "Validation:  10%|▉         | 2/21 [00:00<00:05,  3.48valid_batch/s]"
     ]
    },
    {
     "name": "stdout",
     "output_type": "stream",
     "text": [
      "EVAL: [0/21] Elapsed 0m 0s (remain 0m 11s) Loss: 0.7151 \n"
     ]
    },
    {
     "name": "stderr",
     "output_type": "stream",
     "text": [
      "Validation: 100%|██████████| 21/21 [00:04<00:00,  4.75valid_batch/s]\n"
     ]
    },
    {
     "name": "stdout",
     "output_type": "stream",
     "text": [
      "EVAL: [20/21] Elapsed 0m 4s (remain 0m 0s) Loss: 0.5256 \n",
      "Epoch 7 - avg_train_loss: 0.2150  avg_val_loss: 0.5256  time: 29s\n"
     ]
    },
    {
     "name": "stderr",
     "output_type": "stream",
     "text": [
      "Train:   2%|▏         | 1/60 [00:00<00:55,  1.06train_batch/s]"
     ]
    },
    {
     "name": "stdout",
     "output_type": "stream",
     "text": [
      "Epoch: [8][0/60] Elapsed 0m 0s (remain 0m 55s) Loss: 0.1796 Grad: 233665.0469  LR: 0.00081923  \n"
     ]
    },
    {
     "name": "stderr",
     "output_type": "stream",
     "text": [
      "Train:  85%|████████▌ | 51/60 [00:22<00:03,  2.30train_batch/s]"
     ]
    },
    {
     "name": "stdout",
     "output_type": "stream",
     "text": [
      "Epoch: [8][50/60] Elapsed 0m 22s (remain 0m 4s) Loss: 0.1806 Grad: 87123.4766  LR: 0.00076010  \n"
     ]
    },
    {
     "name": "stderr",
     "output_type": "stream",
     "text": [
      "Train: 100%|██████████| 60/60 [00:26<00:00,  2.25train_batch/s]\n"
     ]
    },
    {
     "name": "stdout",
     "output_type": "stream",
     "text": [
      "Epoch: [8][59/60] Elapsed 0m 26s (remain 0m 0s) Loss: 0.1785 Grad: 109955.7031  LR: 0.00074884  \n"
     ]
    },
    {
     "name": "stderr",
     "output_type": "stream",
     "text": [
      "Validation:   5%|▍         | 1/21 [00:00<00:13,  1.50valid_batch/s]"
     ]
    },
    {
     "name": "stdout",
     "output_type": "stream",
     "text": [
      "EVAL: [0/21] Elapsed 0m 0s (remain 0m 13s) Loss: 0.5575 \n"
     ]
    },
    {
     "name": "stderr",
     "output_type": "stream",
     "text": [
      "Validation:  95%|█████████▌| 20/21 [00:05<00:00,  4.09valid_batch/s]"
     ]
    },
    {
     "name": "stdout",
     "output_type": "stream",
     "text": [
      "EVAL: [20/21] Elapsed 0m 5s (remain 0m 0s) Loss: 0.3772 \n"
     ]
    },
    {
     "name": "stderr",
     "output_type": "stream",
     "text": [
      "Validation: 100%|██████████| 21/21 [00:05<00:00,  3.71valid_batch/s]\n"
     ]
    },
    {
     "name": "stdout",
     "output_type": "stream",
     "text": [
      "Epoch 8 - avg_train_loss: 0.1785  avg_val_loss: 0.3772  time: 32s\n",
      "Epoch 8 - Save Best Loss: 0.3772 Model\n"
     ]
    },
    {
     "name": "stderr",
     "output_type": "stream",
     "text": [
      "Train:   2%|▏         | 1/60 [00:00<00:45,  1.29train_batch/s]"
     ]
    },
    {
     "name": "stdout",
     "output_type": "stream",
     "text": [
      "Epoch: [9][0/60] Elapsed 0m 0s (remain 0m 45s) Loss: 0.1332 Grad: 118365.8984  LR: 0.00074758  \n"
     ]
    },
    {
     "name": "stderr",
     "output_type": "stream",
     "text": [
      "Train:  85%|████████▌ | 51/60 [00:20<00:03,  2.95train_batch/s]"
     ]
    },
    {
     "name": "stdout",
     "output_type": "stream",
     "text": [
      "Epoch: [9][50/60] Elapsed 0m 20s (remain 0m 3s) Loss: 0.1589 Grad: 350058.7812  LR: 0.00068202  \n"
     ]
    },
    {
     "name": "stderr",
     "output_type": "stream",
     "text": [
      "Train: 100%|██████████| 60/60 [00:23<00:00,  2.56train_batch/s]\n"
     ]
    },
    {
     "name": "stdout",
     "output_type": "stream",
     "text": [
      "Epoch: [9][59/60] Elapsed 0m 23s (remain 0m 0s) Loss: 0.1623 Grad: 158260.2969  LR: 0.00066977  \n"
     ]
    },
    {
     "name": "stderr",
     "output_type": "stream",
     "text": [
      "Validation:  10%|▉         | 2/21 [00:00<00:05,  3.28valid_batch/s]"
     ]
    },
    {
     "name": "stdout",
     "output_type": "stream",
     "text": [
      "EVAL: [0/21] Elapsed 0m 0s (remain 0m 10s) Loss: 0.4335 \n"
     ]
    },
    {
     "name": "stderr",
     "output_type": "stream",
     "text": [
      "Validation: 100%|██████████| 21/21 [00:04<00:00,  4.34valid_batch/s]\n"
     ]
    },
    {
     "name": "stdout",
     "output_type": "stream",
     "text": [
      "EVAL: [20/21] Elapsed 0m 4s (remain 0m 0s) Loss: 0.3683 \n",
      "Epoch 9 - avg_train_loss: 0.1623  avg_val_loss: 0.3683  time: 28s\n",
      "Epoch 9 - Save Best Loss: 0.3683 Model\n"
     ]
    },
    {
     "name": "stderr",
     "output_type": "stream",
     "text": [
      "Train:   2%|▏         | 1/60 [00:01<00:59,  1.02s/train_batch]"
     ]
    },
    {
     "name": "stdout",
     "output_type": "stream",
     "text": [
      "Epoch: [10][0/60] Elapsed 0m 1s (remain 1m 0s) Loss: 0.1066 Grad: 136659.2031  LR: 0.00066841  \n"
     ]
    },
    {
     "name": "stderr",
     "output_type": "stream",
     "text": [
      "Train:  85%|████████▌ | 51/60 [00:22<00:03,  2.26train_batch/s]"
     ]
    },
    {
     "name": "stdout",
     "output_type": "stream",
     "text": [
      "Epoch: [10][50/60] Elapsed 0m 22s (remain 0m 3s) Loss: 0.1297 Grad: 152071.1094  LR: 0.00059842  \n"
     ]
    },
    {
     "name": "stderr",
     "output_type": "stream",
     "text": [
      "Train: 100%|██████████| 60/60 [00:26<00:00,  2.26train_batch/s]\n"
     ]
    },
    {
     "name": "stdout",
     "output_type": "stream",
     "text": [
      "Epoch: [10][59/60] Elapsed 0m 26s (remain 0m 0s) Loss: 0.1308 Grad: 158558.6094  LR: 0.00058556  \n"
     ]
    },
    {
     "name": "stderr",
     "output_type": "stream",
     "text": [
      "Validation:  10%|▉         | 2/21 [00:00<00:05,  3.18valid_batch/s]"
     ]
    },
    {
     "name": "stdout",
     "output_type": "stream",
     "text": [
      "EVAL: [0/21] Elapsed 0m 0s (remain 0m 10s) Loss: 0.4307 \n"
     ]
    },
    {
     "name": "stderr",
     "output_type": "stream",
     "text": [
      "Validation:  95%|█████████▌| 20/21 [00:05<00:00,  3.19valid_batch/s]"
     ]
    },
    {
     "name": "stdout",
     "output_type": "stream",
     "text": [
      "EVAL: [20/21] Elapsed 0m 5s (remain 0m 0s) Loss: 0.3452 \n"
     ]
    },
    {
     "name": "stderr",
     "output_type": "stream",
     "text": [
      "Validation: 100%|██████████| 21/21 [00:05<00:00,  3.77valid_batch/s]\n"
     ]
    },
    {
     "name": "stdout",
     "output_type": "stream",
     "text": [
      "Epoch 10 - avg_train_loss: 0.1308  avg_val_loss: 0.3452  time: 32s\n",
      "Epoch 10 - Save Best Loss: 0.3452 Model\n"
     ]
    },
    {
     "name": "stderr",
     "output_type": "stream",
     "text": [
      "Train:   2%|▏         | 1/60 [00:01<01:01,  1.04s/train_batch]"
     ]
    },
    {
     "name": "stdout",
     "output_type": "stream",
     "text": [
      "Epoch: [11][0/60] Elapsed 0m 1s (remain 1m 1s) Loss: 0.1228 Grad: 167633.2031  LR: 0.00058412  \n"
     ]
    },
    {
     "name": "stderr",
     "output_type": "stream",
     "text": [
      "Train:  85%|████████▌ | 51/60 [00:19<00:03,  2.51train_batch/s]"
     ]
    },
    {
     "name": "stdout",
     "output_type": "stream",
     "text": [
      "Epoch: [11][50/60] Elapsed 0m 19s (remain 0m 3s) Loss: 0.1218 Grad: 121584.5469  LR: 0.00051183  \n"
     ]
    },
    {
     "name": "stderr",
     "output_type": "stream",
     "text": [
      "Train: 100%|██████████| 60/60 [00:23<00:00,  2.38train_batch/s]"
     ]
    },
    {
     "name": "stdout",
     "output_type": "stream",
     "text": [
      "Epoch: [11][59/60] Elapsed 0m 23s (remain 0m 0s) Loss: 0.1203 Grad: 94051.7500  LR: 0.00049875  \n"
     ]
    },
    {
     "name": "stderr",
     "output_type": "stream",
     "text": [
      "Train: 100%|██████████| 60/60 [00:23<00:00,  2.56train_batch/s]\n",
      "Validation:   5%|▍         | 1/21 [00:00<00:13,  1.45valid_batch/s]"
     ]
    },
    {
     "name": "stdout",
     "output_type": "stream",
     "text": [
      "EVAL: [0/21] Elapsed 0m 0s (remain 0m 13s) Loss: 0.4005 \n"
     ]
    },
    {
     "name": "stderr",
     "output_type": "stream",
     "text": [
      "Validation: 100%|██████████| 21/21 [00:05<00:00,  4.03valid_batch/s]\n"
     ]
    },
    {
     "name": "stdout",
     "output_type": "stream",
     "text": [
      "EVAL: [20/21] Elapsed 0m 5s (remain 0m 0s) Loss: 0.3007 \n",
      "Epoch 11 - avg_train_loss: 0.1203  avg_val_loss: 0.3007  time: 29s\n",
      "Epoch 11 - Save Best Loss: 0.3007 Model\n"
     ]
    },
    {
     "name": "stderr",
     "output_type": "stream",
     "text": [
      "Train:   2%|▏         | 1/60 [00:00<00:53,  1.10train_batch/s]"
     ]
    },
    {
     "name": "stdout",
     "output_type": "stream",
     "text": [
      "Epoch: [12][0/60] Elapsed 0m 0s (remain 0m 53s) Loss: 0.1410 Grad: 146035.4688  LR: 0.00049729  \n"
     ]
    },
    {
     "name": "stderr",
     "output_type": "stream",
     "text": [
      "Train:  85%|████████▌ | 51/60 [00:22<00:03,  2.25train_batch/s]"
     ]
    },
    {
     "name": "stdout",
     "output_type": "stream",
     "text": [
      "Epoch: [12][50/60] Elapsed 0m 22s (remain 0m 4s) Loss: 0.1109 Grad: 136428.6250  LR: 0.00042489  \n"
     ]
    },
    {
     "name": "stderr",
     "output_type": "stream",
     "text": [
      "Train: 100%|██████████| 60/60 [00:26<00:00,  2.22train_batch/s]\n"
     ]
    },
    {
     "name": "stdout",
     "output_type": "stream",
     "text": [
      "Epoch: [12][59/60] Elapsed 0m 26s (remain 0m 0s) Loss: 0.1088 Grad: 162342.7500  LR: 0.00041198  \n"
     ]
    },
    {
     "name": "stderr",
     "output_type": "stream",
     "text": [
      "Validation:  10%|▉         | 2/21 [00:00<00:05,  3.24valid_batch/s]"
     ]
    },
    {
     "name": "stdout",
     "output_type": "stream",
     "text": [
      "EVAL: [0/21] Elapsed 0m 0s (remain 0m 10s) Loss: 0.3798 \n"
     ]
    },
    {
     "name": "stderr",
     "output_type": "stream",
     "text": [
      "Validation: 100%|██████████| 21/21 [00:05<00:00,  3.97valid_batch/s]\n"
     ]
    },
    {
     "name": "stdout",
     "output_type": "stream",
     "text": [
      "EVAL: [20/21] Elapsed 0m 5s (remain 0m 0s) Loss: 0.2990 \n",
      "Epoch 12 - avg_train_loss: 0.1088  avg_val_loss: 0.2990  time: 32s\n",
      "Epoch 12 - Save Best Loss: 0.2990 Model\n"
     ]
    },
    {
     "name": "stderr",
     "output_type": "stream",
     "text": [
      "Train:   2%|▏         | 1/60 [00:00<00:45,  1.30train_batch/s]"
     ]
    },
    {
     "name": "stdout",
     "output_type": "stream",
     "text": [
      "Epoch: [13][0/60] Elapsed 0m 0s (remain 0m 45s) Loss: 0.0759 Grad: 88337.6328  LR: 0.00041055  \n"
     ]
    },
    {
     "name": "stderr",
     "output_type": "stream",
     "text": [
      "Train:  85%|████████▌ | 51/60 [00:17<00:03,  2.27train_batch/s]"
     ]
    },
    {
     "name": "stdout",
     "output_type": "stream",
     "text": [
      "Epoch: [13][50/60] Elapsed 0m 18s (remain 0m 3s) Loss: 0.0945 Grad: 129300.5000  LR: 0.00034023  \n"
     ]
    },
    {
     "name": "stderr",
     "output_type": "stream",
     "text": [
      "Train: 100%|██████████| 60/60 [00:21<00:00,  2.73train_batch/s]\n"
     ]
    },
    {
     "name": "stdout",
     "output_type": "stream",
     "text": [
      "Epoch: [13][59/60] Elapsed 0m 21s (remain 0m 0s) Loss: 0.0952 Grad: 139730.7188  LR: 0.00032789  \n"
     ]
    },
    {
     "name": "stderr",
     "output_type": "stream",
     "text": [
      "Validation:  10%|▉         | 2/21 [00:00<00:05,  3.24valid_batch/s]"
     ]
    },
    {
     "name": "stdout",
     "output_type": "stream",
     "text": [
      "EVAL: [0/21] Elapsed 0m 0s (remain 0m 10s) Loss: 0.3916 \n"
     ]
    },
    {
     "name": "stderr",
     "output_type": "stream",
     "text": [
      "Validation: 100%|██████████| 21/21 [00:05<00:00,  4.14valid_batch/s]\n"
     ]
    },
    {
     "name": "stdout",
     "output_type": "stream",
     "text": [
      "EVAL: [20/21] Elapsed 0m 4s (remain 0m 0s) Loss: 0.2783 \n",
      "Epoch 13 - avg_train_loss: 0.0952  avg_val_loss: 0.2783  time: 27s\n",
      "Epoch 13 - Save Best Loss: 0.2783 Model\n"
     ]
    },
    {
     "name": "stderr",
     "output_type": "stream",
     "text": [
      "Train:   2%|▏         | 1/60 [00:00<00:50,  1.16train_batch/s]"
     ]
    },
    {
     "name": "stdout",
     "output_type": "stream",
     "text": [
      "Epoch: [14][0/60] Elapsed 0m 0s (remain 0m 49s) Loss: 0.1216 Grad: 120955.8594  LR: 0.00032653  \n"
     ]
    },
    {
     "name": "stderr",
     "output_type": "stream",
     "text": [
      "Train:  85%|████████▌ | 51/60 [00:22<00:03,  2.29train_batch/s]"
     ]
    },
    {
     "name": "stdout",
     "output_type": "stream",
     "text": [
      "Epoch: [14][50/60] Elapsed 0m 22s (remain 0m 3s) Loss: 0.0860 Grad: 128054.0938  LR: 0.00026044  \n"
     ]
    },
    {
     "name": "stderr",
     "output_type": "stream",
     "text": [
      "Train: 100%|██████████| 60/60 [00:26<00:00,  2.27train_batch/s]\n"
     ]
    },
    {
     "name": "stdout",
     "output_type": "stream",
     "text": [
      "Epoch: [14][59/60] Elapsed 0m 26s (remain 0m 0s) Loss: 0.0866 Grad: 121532.9609  LR: 0.00024904  \n"
     ]
    },
    {
     "name": "stderr",
     "output_type": "stream",
     "text": [
      "Validation:   5%|▍         | 1/21 [00:00<00:12,  1.54valid_batch/s]"
     ]
    },
    {
     "name": "stdout",
     "output_type": "stream",
     "text": [
      "EVAL: [0/21] Elapsed 0m 0s (remain 0m 12s) Loss: 0.3497 \n"
     ]
    },
    {
     "name": "stderr",
     "output_type": "stream",
     "text": [
      "Validation: 100%|██████████| 21/21 [00:05<00:00,  4.14valid_batch/s]\n"
     ]
    },
    {
     "name": "stdout",
     "output_type": "stream",
     "text": [
      "EVAL: [20/21] Elapsed 0m 4s (remain 0m 0s) Loss: 0.2928 \n",
      "Epoch 14 - avg_train_loss: 0.0866  avg_val_loss: 0.2928  time: 32s\n"
     ]
    },
    {
     "name": "stderr",
     "output_type": "stream",
     "text": [
      "Train:   2%|▏         | 1/60 [00:00<00:32,  1.80train_batch/s]"
     ]
    },
    {
     "name": "stdout",
     "output_type": "stream",
     "text": [
      "Epoch: [15][0/60] Elapsed 0m 0s (remain 0m 32s) Loss: 0.0912 Grad: 117488.0547  LR: 0.00024779  \n"
     ]
    },
    {
     "name": "stderr",
     "output_type": "stream",
     "text": [
      "Train:  85%|████████▌ | 51/60 [00:18<00:03,  2.44train_batch/s]"
     ]
    },
    {
     "name": "stdout",
     "output_type": "stream",
     "text": [
      "Epoch: [15][50/60] Elapsed 0m 18s (remain 0m 3s) Loss: 0.0818 Grad: 125709.0156  LR: 0.00018793  \n"
     ]
    },
    {
     "name": "stderr",
     "output_type": "stream",
     "text": [
      "Train: 100%|██████████| 60/60 [00:22<00:00,  2.43train_batch/s]"
     ]
    },
    {
     "name": "stdout",
     "output_type": "stream",
     "text": [
      "Epoch: [15][59/60] Elapsed 0m 22s (remain 0m 0s) Loss: 0.0809 Grad: 84882.0781  LR: 0.00017782  \n"
     ]
    },
    {
     "name": "stderr",
     "output_type": "stream",
     "text": [
      "Train: 100%|██████████| 60/60 [00:22<00:00,  2.66train_batch/s]\n",
      "Validation:   5%|▍         | 1/21 [00:00<00:12,  1.57valid_batch/s]"
     ]
    },
    {
     "name": "stdout",
     "output_type": "stream",
     "text": [
      "EVAL: [0/21] Elapsed 0m 0s (remain 0m 12s) Loss: 0.3772 \n"
     ]
    },
    {
     "name": "stderr",
     "output_type": "stream",
     "text": [
      "Validation: 100%|██████████| 21/21 [00:05<00:00,  4.06valid_batch/s]\n"
     ]
    },
    {
     "name": "stdout",
     "output_type": "stream",
     "text": [
      "EVAL: [20/21] Elapsed 0m 5s (remain 0m 0s) Loss: 0.2830 \n",
      "Epoch 15 - avg_train_loss: 0.0809  avg_val_loss: 0.2830  time: 28s\n"
     ]
    },
    {
     "name": "stderr",
     "output_type": "stream",
     "text": [
      "Train:   2%|▏         | 1/60 [00:00<00:41,  1.42train_batch/s]"
     ]
    },
    {
     "name": "stdout",
     "output_type": "stream",
     "text": [
      "Epoch: [16][0/60] Elapsed 0m 0s (remain 0m 41s) Loss: 0.0659 Grad: 103372.7969  LR: 0.00017671  \n"
     ]
    },
    {
     "name": "stderr",
     "output_type": "stream",
     "text": [
      "Train:  85%|████████▌ | 51/60 [00:22<00:03,  2.31train_batch/s]"
     ]
    },
    {
     "name": "stdout",
     "output_type": "stream",
     "text": [
      "Epoch: [16][50/60] Elapsed 0m 22s (remain 0m 3s) Loss: 0.0781 Grad: 92275.9609  LR: 0.00012491  \n"
     ]
    },
    {
     "name": "stderr",
     "output_type": "stream",
     "text": [
      "Train: 100%|██████████| 60/60 [00:26<00:00,  2.25train_batch/s]\n"
     ]
    },
    {
     "name": "stdout",
     "output_type": "stream",
     "text": [
      "Epoch: [16][59/60] Elapsed 0m 26s (remain 0m 0s) Loss: 0.0774 Grad: 84703.4531  LR: 0.00011640  \n"
     ]
    },
    {
     "name": "stderr",
     "output_type": "stream",
     "text": [
      "Validation:  10%|▉         | 2/21 [00:00<00:05,  3.31valid_batch/s]"
     ]
    },
    {
     "name": "stdout",
     "output_type": "stream",
     "text": [
      "EVAL: [0/21] Elapsed 0m 0s (remain 0m 9s) Loss: 0.3987 \n"
     ]
    },
    {
     "name": "stderr",
     "output_type": "stream",
     "text": [
      "Validation:  95%|█████████▌| 20/21 [00:04<00:00,  6.54valid_batch/s]"
     ]
    },
    {
     "name": "stdout",
     "output_type": "stream",
     "text": [
      "EVAL: [20/21] Elapsed 0m 4s (remain 0m 0s) Loss: 0.2780 \n"
     ]
    },
    {
     "name": "stderr",
     "output_type": "stream",
     "text": [
      "Validation: 100%|██████████| 21/21 [00:04<00:00,  4.75valid_batch/s]\n"
     ]
    },
    {
     "name": "stdout",
     "output_type": "stream",
     "text": [
      "Epoch 16 - avg_train_loss: 0.0774  avg_val_loss: 0.2780  time: 31s\n",
      "Epoch 16 - Save Best Loss: 0.2780 Model\n"
     ]
    },
    {
     "name": "stderr",
     "output_type": "stream",
     "text": [
      "Train:   2%|▏         | 1/60 [00:00<00:42,  1.39train_batch/s]"
     ]
    },
    {
     "name": "stdout",
     "output_type": "stream",
     "text": [
      "Epoch: [17][0/60] Elapsed 0m 0s (remain 0m 42s) Loss: 0.0678 Grad: 80914.1484  LR: 0.00011547  \n"
     ]
    },
    {
     "name": "stderr",
     "output_type": "stream",
     "text": [
      "Train:  85%|████████▌ | 51/60 [00:19<00:03,  2.32train_batch/s]"
     ]
    },
    {
     "name": "stdout",
     "output_type": "stream",
     "text": [
      "Epoch: [17][50/60] Elapsed 0m 19s (remain 0m 3s) Loss: 0.0711 Grad: 93355.3516  LR: 0.00007329  \n"
     ]
    },
    {
     "name": "stderr",
     "output_type": "stream",
     "text": [
      "Train: 100%|██████████| 60/60 [00:23<00:00,  2.51train_batch/s]\n"
     ]
    },
    {
     "name": "stdout",
     "output_type": "stream",
     "text": [
      "Epoch: [17][59/60] Elapsed 0m 23s (remain 0m 0s) Loss: 0.0710 Grad: 89134.0000  LR: 0.00006664  \n"
     ]
    },
    {
     "name": "stderr",
     "output_type": "stream",
     "text": [
      "Validation:  10%|▉         | 2/21 [00:00<00:06,  3.12valid_batch/s]"
     ]
    },
    {
     "name": "stdout",
     "output_type": "stream",
     "text": [
      "EVAL: [0/21] Elapsed 0m 0s (remain 0m 11s) Loss: 0.3993 \n"
     ]
    },
    {
     "name": "stderr",
     "output_type": "stream",
     "text": [
      "Validation: 100%|██████████| 21/21 [00:04<00:00,  4.36valid_batch/s]\n"
     ]
    },
    {
     "name": "stdout",
     "output_type": "stream",
     "text": [
      "EVAL: [20/21] Elapsed 0m 4s (remain 0m 0s) Loss: 0.2770 \n",
      "Epoch 17 - avg_train_loss: 0.0710  avg_val_loss: 0.2770  time: 29s\n",
      "Epoch 17 - Save Best Loss: 0.2770 Model\n"
     ]
    },
    {
     "name": "stderr",
     "output_type": "stream",
     "text": [
      "Train:   2%|▏         | 1/60 [00:00<00:43,  1.35train_batch/s]"
     ]
    },
    {
     "name": "stdout",
     "output_type": "stream",
     "text": [
      "Epoch: [18][0/60] Elapsed 0m 0s (remain 0m 43s) Loss: 0.0672 Grad: 120092.6328  LR: 0.00006591  \n"
     ]
    },
    {
     "name": "stderr",
     "output_type": "stream",
     "text": [
      "Train:  85%|████████▌ | 51/60 [00:21<00:03,  2.38train_batch/s]"
     ]
    },
    {
     "name": "stdout",
     "output_type": "stream",
     "text": [
      "Epoch: [18][50/60] Elapsed 0m 21s (remain 0m 3s) Loss: 0.0704 Grad: 95691.2188  LR: 0.00003465  \n"
     ]
    },
    {
     "name": "stderr",
     "output_type": "stream",
     "text": [
      "Train: 100%|██████████| 60/60 [00:25<00:00,  2.35train_batch/s]\n"
     ]
    },
    {
     "name": "stdout",
     "output_type": "stream",
     "text": [
      "Epoch: [18][59/60] Elapsed 0m 25s (remain 0m 0s) Loss: 0.0707 Grad: 115403.1016  LR: 0.00003005  \n"
     ]
    },
    {
     "name": "stderr",
     "output_type": "stream",
     "text": [
      "Validation:  10%|▉         | 2/21 [00:00<00:05,  3.24valid_batch/s]"
     ]
    },
    {
     "name": "stdout",
     "output_type": "stream",
     "text": [
      "EVAL: [0/21] Elapsed 0m 0s (remain 0m 10s) Loss: 0.3941 \n"
     ]
    },
    {
     "name": "stderr",
     "output_type": "stream",
     "text": [
      "Validation: 100%|██████████| 21/21 [00:04<00:00,  4.92valid_batch/s]\n"
     ]
    },
    {
     "name": "stdout",
     "output_type": "stream",
     "text": [
      "EVAL: [20/21] Elapsed 0m 4s (remain 0m 0s) Loss: 0.2757 \n",
      "Epoch 18 - avg_train_loss: 0.0707  avg_val_loss: 0.2757  time: 30s\n",
      "Epoch 18 - Save Best Loss: 0.2757 Model\n"
     ]
    },
    {
     "name": "stderr",
     "output_type": "stream",
     "text": [
      "Train:   2%|▏         | 1/60 [00:00<00:42,  1.39train_batch/s]"
     ]
    },
    {
     "name": "stdout",
     "output_type": "stream",
     "text": [
      "Epoch: [19][0/60] Elapsed 0m 0s (remain 0m 42s) Loss: 0.0609 Grad: 65716.8750  LR: 0.00002956  \n"
     ]
    },
    {
     "name": "stderr",
     "output_type": "stream",
     "text": [
      "Train:  85%|████████▌ | 51/60 [00:19<00:03,  2.26train_batch/s]"
     ]
    },
    {
     "name": "stdout",
     "output_type": "stream",
     "text": [
      "Epoch: [19][50/60] Elapsed 0m 19s (remain 0m 3s) Loss: 0.0688 Grad: 104394.3359  LR: 0.00001015  \n"
     ]
    },
    {
     "name": "stderr",
     "output_type": "stream",
     "text": [
      "Train: 100%|██████████| 60/60 [00:22<00:00,  2.46train_batch/s]"
     ]
    },
    {
     "name": "stdout",
     "output_type": "stream",
     "text": [
      "Epoch: [19][59/60] Elapsed 0m 22s (remain 0m 0s) Loss: 0.0679 Grad: 68484.1094  LR: 0.00000774  \n"
     ]
    },
    {
     "name": "stderr",
     "output_type": "stream",
     "text": [
      "Train: 100%|██████████| 60/60 [00:22<00:00,  2.61train_batch/s]\n",
      "Validation:  10%|▉         | 2/21 [00:00<00:07,  2.63valid_batch/s]"
     ]
    },
    {
     "name": "stdout",
     "output_type": "stream",
     "text": [
      "EVAL: [0/21] Elapsed 0m 0s (remain 0m 12s) Loss: 0.3936 \n"
     ]
    },
    {
     "name": "stderr",
     "output_type": "stream",
     "text": [
      "Validation: 100%|██████████| 21/21 [00:05<00:00,  3.78valid_batch/s]\n"
     ]
    },
    {
     "name": "stdout",
     "output_type": "stream",
     "text": [
      "EVAL: [20/21] Elapsed 0m 5s (remain 0m 0s) Loss: 0.2753 \n",
      "Epoch 19 - avg_train_loss: 0.0679  avg_val_loss: 0.2753  time: 29s\n",
      "Epoch 19 - Save Best Loss: 0.2753 Model\n"
     ]
    },
    {
     "name": "stderr",
     "output_type": "stream",
     "text": [
      "Train:   2%|▏         | 1/60 [00:00<00:44,  1.32train_batch/s]"
     ]
    },
    {
     "name": "stdout",
     "output_type": "stream",
     "text": [
      "Epoch: [20][0/60] Elapsed 0m 0s (remain 0m 44s) Loss: 0.0696 Grad: 78662.7578  LR: 0.00000750  \n"
     ]
    },
    {
     "name": "stderr",
     "output_type": "stream",
     "text": [
      "Train:  85%|████████▌ | 51/60 [00:22<00:03,  2.26train_batch/s]"
     ]
    },
    {
     "name": "stdout",
     "output_type": "stream",
     "text": [
      "Epoch: [20][50/60] Elapsed 0m 22s (remain 0m 4s) Loss: 0.0690 Grad: 103088.0781  LR: 0.00000054  \n"
     ]
    },
    {
     "name": "stderr",
     "output_type": "stream",
     "text": [
      "Train: 100%|██████████| 60/60 [00:26<00:00,  2.25train_batch/s]\n"
     ]
    },
    {
     "name": "stdout",
     "output_type": "stream",
     "text": [
      "Epoch: [20][59/60] Elapsed 0m 26s (remain 0m 0s) Loss: 0.0674 Grad: 48751.6055  LR: 0.00000040  \n"
     ]
    },
    {
     "name": "stderr",
     "output_type": "stream",
     "text": [
      "Validation:  10%|▉         | 2/21 [00:00<00:05,  3.39valid_batch/s]"
     ]
    },
    {
     "name": "stdout",
     "output_type": "stream",
     "text": [
      "EVAL: [0/21] Elapsed 0m 0s (remain 0m 8s) Loss: 0.3922 \n"
     ]
    },
    {
     "name": "stderr",
     "output_type": "stream",
     "text": [
      "Validation: 100%|██████████| 21/21 [00:04<00:00,  4.22valid_batch/s]\n"
     ]
    },
    {
     "name": "stdout",
     "output_type": "stream",
     "text": [
      "EVAL: [20/21] Elapsed 0m 4s (remain 0m 0s) Loss: 0.2765 \n",
      "Epoch 20 - avg_train_loss: 0.0674  avg_val_loss: 0.2765  time: 32s\n",
      "========== Fold 2 result: 0.9650498747901867 ==========\n",
      "========== Fold: 3 training ==========\n"
     ]
    },
    {
     "name": "stderr",
     "output_type": "stream",
     "text": [
      "Train:   0%|          | 0/60 [00:00<?, ?train_batch/s]/home/mccruz/.local/lib/python3.10/site-packages/torch/optim/lr_scheduler.py:143: UserWarning: Detected call of `lr_scheduler.step()` before `optimizer.step()`. In PyTorch 1.1.0 and later, you should call them in the opposite order: `optimizer.step()` before `lr_scheduler.step()`.  Failure to do this will result in PyTorch skipping the first value of the learning rate schedule. See more details at https://pytorch.org/docs/stable/optim.html#how-to-adjust-learning-rate\n",
      "  warnings.warn(\"Detected call of `lr_scheduler.step()` before `optimizer.step()`. \"\n",
      "Train:   2%|▏         | 1/60 [00:00<00:45,  1.29train_batch/s]"
     ]
    },
    {
     "name": "stdout",
     "output_type": "stream",
     "text": [
      "Epoch: [1][0/60] Elapsed 0m 0s (remain 0m 45s) Loss: 1.6932 Grad: inf  LR: 0.00004017  \n"
     ]
    },
    {
     "name": "stderr",
     "output_type": "stream",
     "text": [
      "Train:  85%|████████▌ | 51/60 [00:21<00:03,  2.29train_batch/s]"
     ]
    },
    {
     "name": "stdout",
     "output_type": "stream",
     "text": [
      "Epoch: [1][50/60] Elapsed 0m 21s (remain 0m 3s) Loss: 1.4854 Grad: 47009.3047  LR: 0.00041319  \n"
     ]
    },
    {
     "name": "stderr",
     "output_type": "stream",
     "text": [
      "Train: 100%|██████████| 60/60 [00:25<00:00,  2.39train_batch/s]\n"
     ]
    },
    {
     "name": "stdout",
     "output_type": "stream",
     "text": [
      "Epoch: [1][59/60] Elapsed 0m 24s (remain 0m 0s) Loss: 1.4240 Grad: 43314.2500  LR: 0.00052634  \n"
     ]
    },
    {
     "name": "stderr",
     "output_type": "stream",
     "text": [
      "Validation:  10%|▉         | 2/21 [00:00<00:05,  3.19valid_batch/s]"
     ]
    },
    {
     "name": "stdout",
     "output_type": "stream",
     "text": [
      "EVAL: [0/21] Elapsed 0m 0s (remain 0m 10s) Loss: 1.2060 \n"
     ]
    },
    {
     "name": "stderr",
     "output_type": "stream",
     "text": [
      "Validation: 100%|██████████| 21/21 [00:04<00:00,  4.36valid_batch/s]\n"
     ]
    },
    {
     "name": "stdout",
     "output_type": "stream",
     "text": [
      "EVAL: [20/21] Elapsed 0m 4s (remain 0m 0s) Loss: 1.1562 \n",
      "Epoch 1 - avg_train_loss: 1.4240  avg_val_loss: 1.1562  time: 30s\n",
      "Epoch 1 - Save Best Loss: 1.1562 Model\n"
     ]
    },
    {
     "name": "stderr",
     "output_type": "stream",
     "text": [
      "Train:   2%|▏         | 1/60 [00:00<00:49,  1.20train_batch/s]"
     ]
    },
    {
     "name": "stdout",
     "output_type": "stream",
     "text": [
      "Epoch: [2][0/60] Elapsed 0m 0s (remain 0m 49s) Loss: 0.9227 Grad: 422249.3438  LR: 0.00053900  \n"
     ]
    },
    {
     "name": "stderr",
     "output_type": "stream",
     "text": [
      "Train:  85%|████████▌ | 51/60 [00:21<00:03,  2.38train_batch/s]"
     ]
    },
    {
     "name": "stdout",
     "output_type": "stream",
     "text": [
      "Epoch: [2][50/60] Elapsed 0m 21s (remain 0m 3s) Loss: 0.7972 Grad: 112192.0234  LR: 0.00098933  \n"
     ]
    },
    {
     "name": "stderr",
     "output_type": "stream",
     "text": [
      "Train: 100%|██████████| 60/60 [00:25<00:00,  2.55train_batch/s]"
     ]
    },
    {
     "name": "stdout",
     "output_type": "stream",
     "text": [
      "Epoch: [2][59/60] Elapsed 0m 25s (remain 0m 0s) Loss: 0.7896 Grad: 116954.5312  LR: 0.00100000  \n"
     ]
    },
    {
     "name": "stderr",
     "output_type": "stream",
     "text": [
      "Train: 100%|██████████| 60/60 [00:25<00:00,  2.37train_batch/s]\n",
      "Validation:  10%|▉         | 2/21 [00:00<00:05,  3.30valid_batch/s]"
     ]
    },
    {
     "name": "stdout",
     "output_type": "stream",
     "text": [
      "EVAL: [0/21] Elapsed 0m 0s (remain 0m 10s) Loss: 0.6540 \n"
     ]
    },
    {
     "name": "stderr",
     "output_type": "stream",
     "text": [
      "Validation: 100%|██████████| 21/21 [00:04<00:00,  4.23valid_batch/s]\n"
     ]
    },
    {
     "name": "stdout",
     "output_type": "stream",
     "text": [
      "EVAL: [20/21] Elapsed 0m 4s (remain 0m 0s) Loss: 0.7511 \n",
      "Epoch 2 - avg_train_loss: 0.7896  avg_val_loss: 0.7511  time: 30s\n",
      "Epoch 2 - Save Best Loss: 0.7511 Model\n"
     ]
    },
    {
     "name": "stderr",
     "output_type": "stream",
     "text": [
      "Train:   2%|▏         | 1/60 [00:00<00:31,  1.88train_batch/s]"
     ]
    },
    {
     "name": "stdout",
     "output_type": "stream",
     "text": [
      "Epoch: [3][0/60] Elapsed 0m 0s (remain 0m 31s) Loss: 0.5661 Grad: 305806.6250  LR: 0.00099999  \n"
     ]
    },
    {
     "name": "stderr",
     "output_type": "stream",
     "text": [
      "Train:  85%|████████▌ | 51/60 [00:21<00:03,  2.27train_batch/s]"
     ]
    },
    {
     "name": "stdout",
     "output_type": "stream",
     "text": [
      "Epoch: [3][50/60] Elapsed 0m 21s (remain 0m 3s) Loss: 0.5657 Grad: 85934.0312  LR: 0.00099429  \n"
     ]
    },
    {
     "name": "stderr",
     "output_type": "stream",
     "text": [
      "Train: 100%|██████████| 60/60 [00:25<00:00,  2.43train_batch/s]"
     ]
    },
    {
     "name": "stdout",
     "output_type": "stream",
     "text": [
      "Epoch: [3][59/60] Elapsed 0m 25s (remain 0m 0s) Loss: 0.5590 Grad: 243317.1719  LR: 0.00099215  \n"
     ]
    },
    {
     "name": "stderr",
     "output_type": "stream",
     "text": [
      "Train: 100%|██████████| 60/60 [00:25<00:00,  2.32train_batch/s]\n",
      "Validation:  10%|▉         | 2/21 [00:00<00:07,  2.65valid_batch/s]"
     ]
    },
    {
     "name": "stdout",
     "output_type": "stream",
     "text": [
      "EVAL: [0/21] Elapsed 0m 0s (remain 0m 13s) Loss: 0.5164 \n"
     ]
    },
    {
     "name": "stderr",
     "output_type": "stream",
     "text": [
      "Validation: 100%|██████████| 21/21 [00:04<00:00,  4.78valid_batch/s]\n"
     ]
    },
    {
     "name": "stdout",
     "output_type": "stream",
     "text": [
      "EVAL: [20/21] Elapsed 0m 4s (remain 0m 0s) Loss: 0.6186 \n",
      "Epoch 3 - avg_train_loss: 0.5590  avg_val_loss: 0.6186  time: 30s\n",
      "Epoch 3 - Save Best Loss: 0.6186 Model\n"
     ]
    },
    {
     "name": "stderr",
     "output_type": "stream",
     "text": [
      "Train:   2%|▏         | 1/60 [00:00<00:49,  1.20train_batch/s]"
     ]
    },
    {
     "name": "stdout",
     "output_type": "stream",
     "text": [
      "Epoch: [4][0/60] Elapsed 0m 0s (remain 0m 49s) Loss: 0.4353 Grad: 175788.3281  LR: 0.00099189  \n"
     ]
    },
    {
     "name": "stderr",
     "output_type": "stream",
     "text": [
      "Train:  85%|████████▌ | 51/60 [00:20<00:03,  2.80train_batch/s]"
     ]
    },
    {
     "name": "stdout",
     "output_type": "stream",
     "text": [
      "Epoch: [4][50/60] Elapsed 0m 20s (remain 0m 3s) Loss: 0.4232 Grad: 165807.9844  LR: 0.00097371  \n"
     ]
    },
    {
     "name": "stderr",
     "output_type": "stream",
     "text": [
      "Train: 100%|██████████| 60/60 [00:23<00:00,  2.78train_batch/s]"
     ]
    },
    {
     "name": "stdout",
     "output_type": "stream",
     "text": [
      "Epoch: [4][59/60] Elapsed 0m 23s (remain 0m 0s) Loss: 0.4256 Grad: 116777.9766  LR: 0.00096936  \n"
     ]
    },
    {
     "name": "stderr",
     "output_type": "stream",
     "text": [
      "Train: 100%|██████████| 60/60 [00:23<00:00,  2.50train_batch/s]\n",
      "Validation:  10%|▉         | 2/21 [00:00<00:05,  3.44valid_batch/s]"
     ]
    },
    {
     "name": "stdout",
     "output_type": "stream",
     "text": [
      "EVAL: [0/21] Elapsed 0m 0s (remain 0m 9s) Loss: 0.7075 \n"
     ]
    },
    {
     "name": "stderr",
     "output_type": "stream",
     "text": [
      "Validation: 100%|██████████| 21/21 [00:04<00:00,  4.53valid_batch/s]\n"
     ]
    },
    {
     "name": "stdout",
     "output_type": "stream",
     "text": [
      "EVAL: [20/21] Elapsed 0m 4s (remain 0m 0s) Loss: 0.7188 \n",
      "Epoch 4 - avg_train_loss: 0.4256  avg_val_loss: 0.7188  time: 29s\n"
     ]
    },
    {
     "name": "stderr",
     "output_type": "stream",
     "text": [
      "Train:   2%|▏         | 1/60 [00:00<00:47,  1.23train_batch/s]"
     ]
    },
    {
     "name": "stdout",
     "output_type": "stream",
     "text": [
      "Epoch: [5][0/60] Elapsed 0m 0s (remain 0m 47s) Loss: 0.3979 Grad: 207570.3281  LR: 0.00096886  \n"
     ]
    },
    {
     "name": "stderr",
     "output_type": "stream",
     "text": [
      "Train:  85%|████████▌ | 51/60 [00:22<00:03,  2.27train_batch/s]"
     ]
    },
    {
     "name": "stdout",
     "output_type": "stream",
     "text": [
      "Epoch: [5][50/60] Elapsed 0m 22s (remain 0m 3s) Loss: 0.3345 Grad: 115055.5391  LR: 0.00093874  \n"
     ]
    },
    {
     "name": "stderr",
     "output_type": "stream",
     "text": [
      "Train: 100%|██████████| 60/60 [00:26<00:00,  2.29train_batch/s]\n"
     ]
    },
    {
     "name": "stdout",
     "output_type": "stream",
     "text": [
      "Epoch: [5][59/60] Elapsed 0m 26s (remain 0m 0s) Loss: 0.3344 Grad: 106072.7656  LR: 0.00093231  \n"
     ]
    },
    {
     "name": "stderr",
     "output_type": "stream",
     "text": [
      "Validation:  10%|▉         | 2/21 [00:00<00:05,  3.28valid_batch/s]"
     ]
    },
    {
     "name": "stdout",
     "output_type": "stream",
     "text": [
      "EVAL: [0/21] Elapsed 0m 0s (remain 0m 9s) Loss: 0.6710 \n"
     ]
    },
    {
     "name": "stderr",
     "output_type": "stream",
     "text": [
      "Validation: 100%|██████████| 21/21 [00:05<00:00,  3.88valid_batch/s]\n"
     ]
    },
    {
     "name": "stdout",
     "output_type": "stream",
     "text": [
      "EVAL: [20/21] Elapsed 0m 5s (remain 0m 0s) Loss: 0.5035 \n",
      "Epoch 5 - avg_train_loss: 0.3344  avg_val_loss: 0.5035  time: 32s\n",
      "Epoch 5 - Save Best Loss: 0.5035 Model\n"
     ]
    },
    {
     "name": "stderr",
     "output_type": "stream",
     "text": [
      "Train:   2%|▏         | 1/60 [00:00<00:51,  1.14train_batch/s]"
     ]
    },
    {
     "name": "stdout",
     "output_type": "stream",
     "text": [
      "Epoch: [6][0/60] Elapsed 0m 0s (remain 0m 51s) Loss: 0.2792 Grad: 183130.5938  LR: 0.00093158  \n"
     ]
    },
    {
     "name": "stderr",
     "output_type": "stream",
     "text": [
      "Train:  85%|████████▌ | 51/60 [00:21<00:03,  2.47train_batch/s]"
     ]
    },
    {
     "name": "stdout",
     "output_type": "stream",
     "text": [
      "Epoch: [6][50/60] Elapsed 0m 21s (remain 0m 3s) Loss: 0.2669 Grad: 37663.3203  LR: 0.00089044  \n"
     ]
    },
    {
     "name": "stderr",
     "output_type": "stream",
     "text": [
      "Train: 100%|██████████| 60/60 [00:24<00:00,  2.41train_batch/s]\n"
     ]
    },
    {
     "name": "stdout",
     "output_type": "stream",
     "text": [
      "Epoch: [6][59/60] Elapsed 0m 24s (remain 0m 0s) Loss: 0.2675 Grad: 52628.8438  LR: 0.00088213  \n"
     ]
    },
    {
     "name": "stderr",
     "output_type": "stream",
     "text": [
      "Validation:  10%|▉         | 2/21 [00:00<00:04,  4.00valid_batch/s]"
     ]
    },
    {
     "name": "stdout",
     "output_type": "stream",
     "text": [
      "EVAL: [0/21] Elapsed 0m 0s (remain 0m 8s) Loss: 0.5760 \n"
     ]
    },
    {
     "name": "stderr",
     "output_type": "stream",
     "text": [
      "Validation: 100%|██████████| 21/21 [00:04<00:00,  4.27valid_batch/s]\n"
     ]
    },
    {
     "name": "stdout",
     "output_type": "stream",
     "text": [
      "EVAL: [20/21] Elapsed 0m 4s (remain 0m 0s) Loss: 0.4235 \n",
      "Epoch 6 - avg_train_loss: 0.2675  avg_val_loss: 0.4235  time: 30s\n",
      "Epoch 6 - Save Best Loss: 0.4235 Model\n"
     ]
    },
    {
     "name": "stderr",
     "output_type": "stream",
     "text": [
      "Train:   2%|▏         | 1/60 [00:00<00:57,  1.03train_batch/s]"
     ]
    },
    {
     "name": "stdout",
     "output_type": "stream",
     "text": [
      "Epoch: [7][0/60] Elapsed 0m 0s (remain 0m 57s) Loss: 0.2225 Grad: 172980.9844  LR: 0.00088119  \n"
     ]
    },
    {
     "name": "stderr",
     "output_type": "stream",
     "text": [
      "Train:  85%|████████▌ | 51/60 [00:21<00:03,  2.27train_batch/s]"
     ]
    },
    {
     "name": "stdout",
     "output_type": "stream",
     "text": [
      "Epoch: [7][50/60] Elapsed 0m 21s (remain 0m 3s) Loss: 0.2106 Grad: 23664.2109  LR: 0.00083029  \n"
     ]
    },
    {
     "name": "stderr",
     "output_type": "stream",
     "text": [
      "Train: 100%|██████████| 60/60 [00:25<00:00,  2.32train_batch/s]\n"
     ]
    },
    {
     "name": "stdout",
     "output_type": "stream",
     "text": [
      "Epoch: [7][59/60] Elapsed 0m 25s (remain 0m 0s) Loss: 0.2179 Grad: 56858.4102  LR: 0.00082035  \n"
     ]
    },
    {
     "name": "stderr",
     "output_type": "stream",
     "text": [
      "Validation:  10%|▉         | 2/21 [00:00<00:05,  3.18valid_batch/s]"
     ]
    },
    {
     "name": "stdout",
     "output_type": "stream",
     "text": [
      "EVAL: [0/21] Elapsed 0m 0s (remain 0m 10s) Loss: 0.7247 \n"
     ]
    },
    {
     "name": "stderr",
     "output_type": "stream",
     "text": [
      "Validation: 100%|██████████| 21/21 [00:04<00:00,  4.29valid_batch/s]\n"
     ]
    },
    {
     "name": "stdout",
     "output_type": "stream",
     "text": [
      "EVAL: [20/21] Elapsed 0m 4s (remain 0m 0s) Loss: 0.6289 \n",
      "Epoch 7 - avg_train_loss: 0.2179  avg_val_loss: 0.6289  time: 31s\n"
     ]
    },
    {
     "name": "stderr",
     "output_type": "stream",
     "text": [
      "Train:   2%|▏         | 1/60 [00:00<00:41,  1.41train_batch/s]"
     ]
    },
    {
     "name": "stdout",
     "output_type": "stream",
     "text": [
      "Epoch: [8][0/60] Elapsed 0m 0s (remain 0m 41s) Loss: 0.1414 Grad: 132202.5156  LR: 0.00081923  \n"
     ]
    },
    {
     "name": "stderr",
     "output_type": "stream",
     "text": [
      "Train:  85%|████████▌ | 51/60 [00:20<00:03,  2.72train_batch/s]"
     ]
    },
    {
     "name": "stdout",
     "output_type": "stream",
     "text": [
      "Epoch: [8][50/60] Elapsed 0m 20s (remain 0m 3s) Loss: 0.2156 Grad: 46854.3945  LR: 0.00076010  \n"
     ]
    },
    {
     "name": "stderr",
     "output_type": "stream",
     "text": [
      "Train: 100%|██████████| 60/60 [00:23<00:00,  2.56train_batch/s]\n"
     ]
    },
    {
     "name": "stdout",
     "output_type": "stream",
     "text": [
      "Epoch: [8][59/60] Elapsed 0m 23s (remain 0m 0s) Loss: 0.2135 Grad: 37990.9531  LR: 0.00074884  \n"
     ]
    },
    {
     "name": "stderr",
     "output_type": "stream",
     "text": [
      "Validation:  10%|▉         | 2/21 [00:00<00:06,  3.01valid_batch/s]"
     ]
    },
    {
     "name": "stdout",
     "output_type": "stream",
     "text": [
      "EVAL: [0/21] Elapsed 0m 0s (remain 0m 10s) Loss: 0.5355 \n"
     ]
    },
    {
     "name": "stderr",
     "output_type": "stream",
     "text": [
      "Validation: 100%|██████████| 21/21 [00:05<00:00,  4.15valid_batch/s]\n"
     ]
    },
    {
     "name": "stdout",
     "output_type": "stream",
     "text": [
      "EVAL: [20/21] Elapsed 0m 4s (remain 0m 0s) Loss: 0.4375 \n",
      "Epoch 8 - avg_train_loss: 0.2135  avg_val_loss: 0.4375  time: 29s\n"
     ]
    },
    {
     "name": "stderr",
     "output_type": "stream",
     "text": [
      "Train:   2%|▏         | 1/60 [00:00<00:44,  1.34train_batch/s]"
     ]
    },
    {
     "name": "stdout",
     "output_type": "stream",
     "text": [
      "Epoch: [9][0/60] Elapsed 0m 0s (remain 0m 44s) Loss: 0.1614 Grad: 150231.8125  LR: 0.00074758  \n"
     ]
    },
    {
     "name": "stderr",
     "output_type": "stream",
     "text": [
      "Train:  85%|████████▌ | 51/60 [00:22<00:03,  2.25train_batch/s]"
     ]
    },
    {
     "name": "stdout",
     "output_type": "stream",
     "text": [
      "Epoch: [9][50/60] Elapsed 0m 22s (remain 0m 3s) Loss: 0.1687 Grad: 28950.4082  LR: 0.00068202  \n"
     ]
    },
    {
     "name": "stderr",
     "output_type": "stream",
     "text": [
      "Train: 100%|██████████| 60/60 [00:26<00:00,  2.30train_batch/s]\n"
     ]
    },
    {
     "name": "stdout",
     "output_type": "stream",
     "text": [
      "Epoch: [9][59/60] Elapsed 0m 25s (remain 0m 0s) Loss: 0.1655 Grad: 40636.6328  LR: 0.00066977  \n"
     ]
    },
    {
     "name": "stderr",
     "output_type": "stream",
     "text": [
      "Validation:  10%|▉         | 2/21 [00:00<00:05,  3.17valid_batch/s]"
     ]
    },
    {
     "name": "stdout",
     "output_type": "stream",
     "text": [
      "EVAL: [0/21] Elapsed 0m 0s (remain 0m 10s) Loss: 0.4864 \n"
     ]
    },
    {
     "name": "stderr",
     "output_type": "stream",
     "text": [
      "Validation: 100%|██████████| 21/21 [00:05<00:00,  3.81valid_batch/s]\n"
     ]
    },
    {
     "name": "stdout",
     "output_type": "stream",
     "text": [
      "EVAL: [20/21] Elapsed 0m 5s (remain 0m 0s) Loss: 0.3714 \n",
      "Epoch 9 - avg_train_loss: 0.1655  avg_val_loss: 0.3714  time: 32s\n",
      "Epoch 9 - Save Best Loss: 0.3714 Model\n"
     ]
    },
    {
     "name": "stderr",
     "output_type": "stream",
     "text": [
      "Train:   2%|▏         | 1/60 [00:00<00:50,  1.16train_batch/s]"
     ]
    },
    {
     "name": "stdout",
     "output_type": "stream",
     "text": [
      "Epoch: [10][0/60] Elapsed 0m 0s (remain 0m 50s) Loss: 0.0908 Grad: 70893.7422  LR: 0.00066841  \n"
     ]
    },
    {
     "name": "stderr",
     "output_type": "stream",
     "text": [
      "Train:  85%|████████▌ | 51/60 [00:17<00:02,  3.92train_batch/s]"
     ]
    },
    {
     "name": "stdout",
     "output_type": "stream",
     "text": [
      "Epoch: [10][50/60] Elapsed 0m 17s (remain 0m 3s) Loss: 0.1519 Grad: 52199.7891  LR: 0.00059842  \n"
     ]
    },
    {
     "name": "stderr",
     "output_type": "stream",
     "text": [
      "Train: 100%|██████████| 60/60 [00:21<00:00,  2.78train_batch/s]\n"
     ]
    },
    {
     "name": "stdout",
     "output_type": "stream",
     "text": [
      "Epoch: [10][59/60] Elapsed 0m 21s (remain 0m 0s) Loss: 0.1537 Grad: 37796.1055  LR: 0.00058556  \n"
     ]
    },
    {
     "name": "stderr",
     "output_type": "stream",
     "text": [
      "Validation:  10%|▉         | 2/21 [00:00<00:05,  3.19valid_batch/s]"
     ]
    },
    {
     "name": "stdout",
     "output_type": "stream",
     "text": [
      "EVAL: [0/21] Elapsed 0m 0s (remain 0m 10s) Loss: 0.4435 \n"
     ]
    },
    {
     "name": "stderr",
     "output_type": "stream",
     "text": [
      "Validation: 100%|██████████| 21/21 [00:05<00:00,  3.95valid_batch/s]\n"
     ]
    },
    {
     "name": "stdout",
     "output_type": "stream",
     "text": [
      "EVAL: [20/21] Elapsed 0m 5s (remain 0m 0s) Loss: 0.3646 \n",
      "Epoch 10 - avg_train_loss: 0.1537  avg_val_loss: 0.3646  time: 27s\n",
      "Epoch 10 - Save Best Loss: 0.3646 Model\n"
     ]
    },
    {
     "name": "stderr",
     "output_type": "stream",
     "text": [
      "Train:   2%|▏         | 1/60 [00:00<00:49,  1.20train_batch/s]"
     ]
    },
    {
     "name": "stdout",
     "output_type": "stream",
     "text": [
      "Epoch: [11][0/60] Elapsed 0m 0s (remain 0m 49s) Loss: 0.1070 Grad: 136326.3125  LR: 0.00058412  \n"
     ]
    },
    {
     "name": "stderr",
     "output_type": "stream",
     "text": [
      "Train:  85%|████████▌ | 51/60 [00:21<00:03,  2.38train_batch/s]"
     ]
    },
    {
     "name": "stdout",
     "output_type": "stream",
     "text": [
      "Epoch: [11][50/60] Elapsed 0m 21s (remain 0m 3s) Loss: 0.1372 Grad: 24175.2363  LR: 0.00051183  \n"
     ]
    },
    {
     "name": "stderr",
     "output_type": "stream",
     "text": [
      "Train: 100%|██████████| 60/60 [00:25<00:00,  2.36train_batch/s]\n"
     ]
    },
    {
     "name": "stdout",
     "output_type": "stream",
     "text": [
      "Epoch: [11][59/60] Elapsed 0m 25s (remain 0m 0s) Loss: 0.1378 Grad: 27968.7598  LR: 0.00049875  \n"
     ]
    },
    {
     "name": "stderr",
     "output_type": "stream",
     "text": [
      "Validation:   5%|▍         | 1/21 [00:00<00:12,  1.54valid_batch/s]"
     ]
    },
    {
     "name": "stdout",
     "output_type": "stream",
     "text": [
      "EVAL: [0/21] Elapsed 0m 0s (remain 0m 13s) Loss: 0.4918 \n"
     ]
    },
    {
     "name": "stderr",
     "output_type": "stream",
     "text": [
      "Validation: 100%|██████████| 21/21 [00:05<00:00,  3.64valid_batch/s]\n"
     ]
    },
    {
     "name": "stdout",
     "output_type": "stream",
     "text": [
      "EVAL: [20/21] Elapsed 0m 5s (remain 0m 0s) Loss: 0.3348 \n",
      "Epoch 11 - avg_train_loss: 0.1378  avg_val_loss: 0.3348  time: 31s\n",
      "Epoch 11 - Save Best Loss: 0.3348 Model\n"
     ]
    },
    {
     "name": "stderr",
     "output_type": "stream",
     "text": [
      "Train:   2%|▏         | 1/60 [00:00<00:54,  1.08train_batch/s]"
     ]
    },
    {
     "name": "stdout",
     "output_type": "stream",
     "text": [
      "Epoch: [12][0/60] Elapsed 0m 0s (remain 0m 55s) Loss: 0.1139 Grad: 113288.0625  LR: 0.00049729  \n"
     ]
    },
    {
     "name": "stderr",
     "output_type": "stream",
     "text": [
      "Train:  85%|████████▌ | 51/60 [00:18<00:03,  2.31train_batch/s]"
     ]
    },
    {
     "name": "stdout",
     "output_type": "stream",
     "text": [
      "Epoch: [12][50/60] Elapsed 0m 18s (remain 0m 3s) Loss: 0.1146 Grad: 25610.7695  LR: 0.00042489  \n"
     ]
    },
    {
     "name": "stderr",
     "output_type": "stream",
     "text": [
      "Train: 100%|██████████| 60/60 [00:22<00:00,  2.69train_batch/s]\n"
     ]
    },
    {
     "name": "stdout",
     "output_type": "stream",
     "text": [
      "Epoch: [12][59/60] Elapsed 0m 22s (remain 0m 0s) Loss: 0.1120 Grad: 22430.7266  LR: 0.00041198  \n"
     ]
    },
    {
     "name": "stderr",
     "output_type": "stream",
     "text": [
      "Validation:  10%|▉         | 2/21 [00:00<00:05,  3.27valid_batch/s]"
     ]
    },
    {
     "name": "stdout",
     "output_type": "stream",
     "text": [
      "EVAL: [0/21] Elapsed 0m 0s (remain 0m 11s) Loss: 0.4219 \n"
     ]
    },
    {
     "name": "stderr",
     "output_type": "stream",
     "text": [
      "Validation: 100%|██████████| 21/21 [00:04<00:00,  4.28valid_batch/s]\n"
     ]
    },
    {
     "name": "stdout",
     "output_type": "stream",
     "text": [
      "EVAL: [20/21] Elapsed 0m 4s (remain 0m 0s) Loss: 0.2894 \n",
      "Epoch 12 - avg_train_loss: 0.1120  avg_val_loss: 0.2894  time: 27s\n",
      "Epoch 12 - Save Best Loss: 0.2894 Model\n"
     ]
    },
    {
     "name": "stderr",
     "output_type": "stream",
     "text": [
      "Train:   2%|▏         | 1/60 [00:00<00:41,  1.44train_batch/s]"
     ]
    },
    {
     "name": "stdout",
     "output_type": "stream",
     "text": [
      "Epoch: [13][0/60] Elapsed 0m 0s (remain 0m 41s) Loss: 0.0819 Grad: 80409.1328  LR: 0.00041055  \n"
     ]
    },
    {
     "name": "stderr",
     "output_type": "stream",
     "text": [
      "Train:  85%|████████▌ | 51/60 [00:22<00:03,  2.27train_batch/s]"
     ]
    },
    {
     "name": "stdout",
     "output_type": "stream",
     "text": [
      "Epoch: [13][50/60] Elapsed 0m 22s (remain 0m 4s) Loss: 0.1010 Grad: 27500.6777  LR: 0.00034023  \n"
     ]
    },
    {
     "name": "stderr",
     "output_type": "stream",
     "text": [
      "Train: 100%|██████████| 60/60 [00:26<00:00,  2.24train_batch/s]\n"
     ]
    },
    {
     "name": "stdout",
     "output_type": "stream",
     "text": [
      "Epoch: [13][59/60] Elapsed 0m 26s (remain 0m 0s) Loss: 0.0994 Grad: 27099.3438  LR: 0.00032789  \n"
     ]
    },
    {
     "name": "stderr",
     "output_type": "stream",
     "text": [
      "Validation:  10%|▉         | 2/21 [00:00<00:05,  3.23valid_batch/s]"
     ]
    },
    {
     "name": "stdout",
     "output_type": "stream",
     "text": [
      "EVAL: [0/21] Elapsed 0m 0s (remain 0m 9s) Loss: 0.4260 \n"
     ]
    },
    {
     "name": "stderr",
     "output_type": "stream",
     "text": [
      "Validation: 100%|██████████| 21/21 [00:05<00:00,  3.70valid_batch/s]\n"
     ]
    },
    {
     "name": "stdout",
     "output_type": "stream",
     "text": [
      "EVAL: [20/21] Elapsed 0m 5s (remain 0m 0s) Loss: 0.2970 \n",
      "Epoch 13 - avg_train_loss: 0.0994  avg_val_loss: 0.2970  time: 32s\n"
     ]
    },
    {
     "name": "stderr",
     "output_type": "stream",
     "text": [
      "Train:   2%|▏         | 1/60 [00:00<00:43,  1.37train_batch/s]"
     ]
    },
    {
     "name": "stdout",
     "output_type": "stream",
     "text": [
      "Epoch: [14][0/60] Elapsed 0m 0s (remain 0m 43s) Loss: 0.0832 Grad: 102858.0938  LR: 0.00032653  \n"
     ]
    },
    {
     "name": "stderr",
     "output_type": "stream",
     "text": [
      "Train:  85%|████████▌ | 51/60 [00:18<00:04,  2.22train_batch/s]"
     ]
    },
    {
     "name": "stdout",
     "output_type": "stream",
     "text": [
      "Epoch: [14][50/60] Elapsed 0m 18s (remain 0m 3s) Loss: 0.0856 Grad: 38890.0430  LR: 0.00026044  \n"
     ]
    },
    {
     "name": "stderr",
     "output_type": "stream",
     "text": [
      "Train: 100%|██████████| 60/60 [00:22<00:00,  2.71train_batch/s]\n"
     ]
    },
    {
     "name": "stdout",
     "output_type": "stream",
     "text": [
      "Epoch: [14][59/60] Elapsed 0m 21s (remain 0m 0s) Loss: 0.0875 Grad: 28275.0020  LR: 0.00024904  \n"
     ]
    },
    {
     "name": "stderr",
     "output_type": "stream",
     "text": [
      "Validation:   5%|▍         | 1/21 [00:00<00:10,  1.91valid_batch/s]"
     ]
    },
    {
     "name": "stdout",
     "output_type": "stream",
     "text": [
      "EVAL: [0/21] Elapsed 0m 0s (remain 0m 10s) Loss: 0.4281 \n"
     ]
    },
    {
     "name": "stderr",
     "output_type": "stream",
     "text": [
      "Validation: 100%|██████████| 21/21 [00:05<00:00,  3.75valid_batch/s]\n"
     ]
    },
    {
     "name": "stdout",
     "output_type": "stream",
     "text": [
      "EVAL: [20/21] Elapsed 0m 5s (remain 0m 0s) Loss: 0.2897 \n",
      "Epoch 14 - avg_train_loss: 0.0875  avg_val_loss: 0.2897  time: 28s\n"
     ]
    },
    {
     "name": "stderr",
     "output_type": "stream",
     "text": [
      "Train:   2%|▏         | 1/60 [00:00<00:45,  1.30train_batch/s]"
     ]
    },
    {
     "name": "stdout",
     "output_type": "stream",
     "text": [
      "Epoch: [15][0/60] Elapsed 0m 0s (remain 0m 45s) Loss: 0.0719 Grad: 84568.6484  LR: 0.00024779  \n"
     ]
    },
    {
     "name": "stderr",
     "output_type": "stream",
     "text": [
      "Train:  85%|████████▌ | 51/60 [00:22<00:04,  2.24train_batch/s]"
     ]
    },
    {
     "name": "stdout",
     "output_type": "stream",
     "text": [
      "Epoch: [15][50/60] Elapsed 0m 22s (remain 0m 3s) Loss: 0.0806 Grad: 74858.0469  LR: 0.00018793  \n"
     ]
    },
    {
     "name": "stderr",
     "output_type": "stream",
     "text": [
      "Train: 100%|██████████| 60/60 [00:26<00:00,  2.29train_batch/s]\n"
     ]
    },
    {
     "name": "stdout",
     "output_type": "stream",
     "text": [
      "Epoch: [15][59/60] Elapsed 0m 26s (remain 0m 0s) Loss: 0.0794 Grad: 35510.6367  LR: 0.00017782  \n"
     ]
    },
    {
     "name": "stderr",
     "output_type": "stream",
     "text": [
      "Validation:   5%|▍         | 1/21 [00:00<00:11,  1.70valid_batch/s]"
     ]
    },
    {
     "name": "stdout",
     "output_type": "stream",
     "text": [
      "EVAL: [0/21] Elapsed 0m 0s (remain 0m 11s) Loss: 0.3967 \n"
     ]
    },
    {
     "name": "stderr",
     "output_type": "stream",
     "text": [
      "Validation: 100%|██████████| 21/21 [00:04<00:00,  4.39valid_batch/s]\n"
     ]
    },
    {
     "name": "stdout",
     "output_type": "stream",
     "text": [
      "EVAL: [20/21] Elapsed 0m 4s (remain 0m 0s) Loss: 0.2860 \n",
      "Epoch 15 - avg_train_loss: 0.0794  avg_val_loss: 0.2860  time: 31s\n",
      "Epoch 15 - Save Best Loss: 0.2860 Model\n"
     ]
    },
    {
     "name": "stderr",
     "output_type": "stream",
     "text": [
      "Train:   2%|▏         | 1/60 [00:00<00:33,  1.76train_batch/s]"
     ]
    },
    {
     "name": "stdout",
     "output_type": "stream",
     "text": [
      "Epoch: [16][0/60] Elapsed 0m 0s (remain 0m 33s) Loss: 0.0837 Grad: 96676.1172  LR: 0.00017671  \n"
     ]
    },
    {
     "name": "stderr",
     "output_type": "stream",
     "text": [
      "Train:  85%|████████▌ | 51/60 [00:18<00:03,  2.38train_batch/s]"
     ]
    },
    {
     "name": "stdout",
     "output_type": "stream",
     "text": [
      "Epoch: [16][50/60] Elapsed 0m 18s (remain 0m 3s) Loss: 0.0708 Grad: 41107.8086  LR: 0.00012491  \n"
     ]
    },
    {
     "name": "stderr",
     "output_type": "stream",
     "text": [
      "Train: 100%|██████████| 60/60 [00:22<00:00,  2.63train_batch/s]\n"
     ]
    },
    {
     "name": "stdout",
     "output_type": "stream",
     "text": [
      "Epoch: [16][59/60] Elapsed 0m 22s (remain 0m 0s) Loss: 0.0706 Grad: 42670.0859  LR: 0.00011640  \n"
     ]
    },
    {
     "name": "stderr",
     "output_type": "stream",
     "text": [
      "Validation:  10%|▉         | 2/21 [00:00<00:06,  2.90valid_batch/s]"
     ]
    },
    {
     "name": "stdout",
     "output_type": "stream",
     "text": [
      "EVAL: [0/21] Elapsed 0m 0s (remain 0m 11s) Loss: 0.4598 \n"
     ]
    },
    {
     "name": "stderr",
     "output_type": "stream",
     "text": [
      "Validation: 100%|██████████| 21/21 [00:05<00:00,  4.17valid_batch/s]\n"
     ]
    },
    {
     "name": "stdout",
     "output_type": "stream",
     "text": [
      "EVAL: [20/21] Elapsed 0m 4s (remain 0m 0s) Loss: 0.2914 \n",
      "Epoch 16 - avg_train_loss: 0.0706  avg_val_loss: 0.2914  time: 28s\n"
     ]
    },
    {
     "name": "stderr",
     "output_type": "stream",
     "text": [
      "Train:   2%|▏         | 1/60 [00:00<00:42,  1.38train_batch/s]"
     ]
    },
    {
     "name": "stdout",
     "output_type": "stream",
     "text": [
      "Epoch: [17][0/60] Elapsed 0m 0s (remain 0m 42s) Loss: 0.0754 Grad: 98619.7734  LR: 0.00011547  \n"
     ]
    },
    {
     "name": "stderr",
     "output_type": "stream",
     "text": [
      "Train:  85%|████████▌ | 51/60 [00:22<00:03,  2.35train_batch/s]"
     ]
    },
    {
     "name": "stdout",
     "output_type": "stream",
     "text": [
      "Epoch: [17][50/60] Elapsed 0m 22s (remain 0m 3s) Loss: 0.0709 Grad: 44523.4102  LR: 0.00007329  \n"
     ]
    },
    {
     "name": "stderr",
     "output_type": "stream",
     "text": [
      "Train: 100%|██████████| 60/60 [00:26<00:00,  2.29train_batch/s]\n"
     ]
    },
    {
     "name": "stdout",
     "output_type": "stream",
     "text": [
      "Epoch: [17][59/60] Elapsed 0m 26s (remain 0m 0s) Loss: 0.0718 Grad: 56597.2148  LR: 0.00006664  \n"
     ]
    },
    {
     "name": "stderr",
     "output_type": "stream",
     "text": [
      "Validation:  10%|▉         | 2/21 [00:00<00:05,  3.31valid_batch/s]"
     ]
    },
    {
     "name": "stdout",
     "output_type": "stream",
     "text": [
      "EVAL: [0/21] Elapsed 0m 0s (remain 0m 9s) Loss: 0.4235 \n"
     ]
    },
    {
     "name": "stderr",
     "output_type": "stream",
     "text": [
      "Validation:  95%|█████████▌| 20/21 [00:04<00:00,  5.27valid_batch/s]"
     ]
    },
    {
     "name": "stdout",
     "output_type": "stream",
     "text": [
      "EVAL: [20/21] Elapsed 0m 4s (remain 0m 0s) Loss: 0.2837 \n"
     ]
    },
    {
     "name": "stderr",
     "output_type": "stream",
     "text": [
      "Validation: 100%|██████████| 21/21 [00:04<00:00,  4.44valid_batch/s]\n"
     ]
    },
    {
     "name": "stdout",
     "output_type": "stream",
     "text": [
      "Epoch 17 - avg_train_loss: 0.0718  avg_val_loss: 0.2837  time: 31s\n",
      "Epoch 17 - Save Best Loss: 0.2837 Model\n"
     ]
    },
    {
     "name": "stderr",
     "output_type": "stream",
     "text": [
      "Train:   2%|▏         | 1/60 [00:00<00:45,  1.31train_batch/s]"
     ]
    },
    {
     "name": "stdout",
     "output_type": "stream",
     "text": [
      "Epoch: [18][0/60] Elapsed 0m 0s (remain 0m 45s) Loss: 0.0704 Grad: 94520.0000  LR: 0.00006591  \n"
     ]
    },
    {
     "name": "stderr",
     "output_type": "stream",
     "text": [
      "Train:  85%|████████▌ | 51/60 [00:20<00:03,  2.28train_batch/s]"
     ]
    },
    {
     "name": "stdout",
     "output_type": "stream",
     "text": [
      "Epoch: [18][50/60] Elapsed 0m 20s (remain 0m 3s) Loss: 0.0687 Grad: 39339.9688  LR: 0.00003465  \n"
     ]
    },
    {
     "name": "stderr",
     "output_type": "stream",
     "text": [
      "Train: 100%|██████████| 60/60 [00:24<00:00,  2.49train_batch/s]\n"
     ]
    },
    {
     "name": "stdout",
     "output_type": "stream",
     "text": [
      "Epoch: [18][59/60] Elapsed 0m 23s (remain 0m 0s) Loss: 0.0683 Grad: 31201.1270  LR: 0.00003005  \n"
     ]
    },
    {
     "name": "stderr",
     "output_type": "stream",
     "text": [
      "Validation:   5%|▍         | 1/21 [00:00<00:10,  1.88valid_batch/s]"
     ]
    },
    {
     "name": "stdout",
     "output_type": "stream",
     "text": [
      "EVAL: [0/21] Elapsed 0m 0s (remain 0m 10s) Loss: 0.4128 \n"
     ]
    },
    {
     "name": "stderr",
     "output_type": "stream",
     "text": [
      "Validation: 100%|██████████| 21/21 [00:04<00:00,  4.27valid_batch/s]\n"
     ]
    },
    {
     "name": "stdout",
     "output_type": "stream",
     "text": [
      "EVAL: [20/21] Elapsed 0m 4s (remain 0m 0s) Loss: 0.2818 \n",
      "Epoch 18 - avg_train_loss: 0.0683  avg_val_loss: 0.2818  time: 29s\n",
      "Epoch 18 - Save Best Loss: 0.2818 Model\n"
     ]
    },
    {
     "name": "stderr",
     "output_type": "stream",
     "text": [
      "Train:   2%|▏         | 1/60 [00:00<00:55,  1.05train_batch/s]"
     ]
    },
    {
     "name": "stdout",
     "output_type": "stream",
     "text": [
      "Epoch: [19][0/60] Elapsed 0m 0s (remain 0m 55s) Loss: 0.0486 Grad: 63561.8086  LR: 0.00002956  \n"
     ]
    },
    {
     "name": "stderr",
     "output_type": "stream",
     "text": [
      "Train:  85%|████████▌ | 51/60 [00:22<00:03,  2.28train_batch/s]"
     ]
    },
    {
     "name": "stdout",
     "output_type": "stream",
     "text": [
      "Epoch: [19][50/60] Elapsed 0m 22s (remain 0m 3s) Loss: 0.0671 Grad: 45703.2852  LR: 0.00001015  \n"
     ]
    },
    {
     "name": "stderr",
     "output_type": "stream",
     "text": [
      "Train: 100%|██████████| 60/60 [00:26<00:00,  2.27train_batch/s]\n"
     ]
    },
    {
     "name": "stdout",
     "output_type": "stream",
     "text": [
      "Epoch: [19][59/60] Elapsed 0m 26s (remain 0m 0s) Loss: 0.0671 Grad: 39844.0000  LR: 0.00000774  \n"
     ]
    },
    {
     "name": "stderr",
     "output_type": "stream",
     "text": [
      "Validation:  10%|▉         | 2/21 [00:00<00:04,  3.90valid_batch/s]"
     ]
    },
    {
     "name": "stdout",
     "output_type": "stream",
     "text": [
      "EVAL: [0/21] Elapsed 0m 0s (remain 0m 8s) Loss: 0.4069 \n"
     ]
    },
    {
     "name": "stderr",
     "output_type": "stream",
     "text": [
      "Validation: 100%|██████████| 21/21 [00:04<00:00,  4.89valid_batch/s]\n"
     ]
    },
    {
     "name": "stdout",
     "output_type": "stream",
     "text": [
      "EVAL: [20/21] Elapsed 0m 4s (remain 0m 0s) Loss: 0.2824 \n",
      "Epoch 19 - avg_train_loss: 0.0671  avg_val_loss: 0.2824  time: 31s\n"
     ]
    },
    {
     "name": "stderr",
     "output_type": "stream",
     "text": [
      "Train:   2%|▏         | 1/60 [00:00<00:46,  1.28train_batch/s]"
     ]
    },
    {
     "name": "stdout",
     "output_type": "stream",
     "text": [
      "Epoch: [20][0/60] Elapsed 0m 0s (remain 0m 46s) Loss: 0.0788 Grad: 95822.4688  LR: 0.00000750  \n"
     ]
    },
    {
     "name": "stderr",
     "output_type": "stream",
     "text": [
      "Train:  85%|████████▌ | 51/60 [00:20<00:03,  2.41train_batch/s]"
     ]
    },
    {
     "name": "stdout",
     "output_type": "stream",
     "text": [
      "Epoch: [20][50/60] Elapsed 0m 20s (remain 0m 3s) Loss: 0.0660 Grad: 44557.6680  LR: 0.00000054  \n"
     ]
    },
    {
     "name": "stderr",
     "output_type": "stream",
     "text": [
      "Train: 100%|██████████| 60/60 [00:24<00:00,  2.38train_batch/s]"
     ]
    },
    {
     "name": "stdout",
     "output_type": "stream",
     "text": [
      "Epoch: [20][59/60] Elapsed 0m 24s (remain 0m 0s) Loss: 0.0660 Grad: 46149.2969  LR: 0.00000040  \n"
     ]
    },
    {
     "name": "stderr",
     "output_type": "stream",
     "text": [
      "Train: 100%|██████████| 60/60 [00:24<00:00,  2.46train_batch/s]\n",
      "Validation:   5%|▍         | 1/21 [00:00<00:10,  1.86valid_batch/s]"
     ]
    },
    {
     "name": "stdout",
     "output_type": "stream",
     "text": [
      "EVAL: [0/21] Elapsed 0m 0s (remain 0m 10s) Loss: 0.4175 \n"
     ]
    },
    {
     "name": "stderr",
     "output_type": "stream",
     "text": [
      "Validation: 100%|██████████| 21/21 [00:04<00:00,  4.30valid_batch/s]\n"
     ]
    },
    {
     "name": "stdout",
     "output_type": "stream",
     "text": [
      "EVAL: [20/21] Elapsed 0m 4s (remain 0m 0s) Loss: 0.2816 \n",
      "Epoch 20 - avg_train_loss: 0.0660  avg_val_loss: 0.2816  time: 29s\n",
      "Epoch 20 - Save Best Loss: 0.2816 Model\n",
      "========== Fold 3 result: 0.9548029344691641 ==========\n"
     ]
    }
   ],
   "source": [
    "if not config.TRAIN_FULL_DATA:\n",
    "        oof_df = pd.DataFrame()\n",
    "        for fold in range(config.FOLDS):\n",
    "            if fold in [0,1,2,3,4]:\n",
    "                _oof_df = train_loop(train_df, fold,f\"models/wavenet_fold_{fold}_best.pth\")#, torch.load(f\"models/wavenet_fold_{fold}_best.pth\")[\"best_loss\"])\n",
    "                oof_df = pd.concat([oof_df, _oof_df])\n",
    "                print(f\"========== Fold {fold} result: {get_result(_oof_df)} ==========\")\n",
    "                #LOGGER.info(f\"========== Fold {fold} finished ==========\")\n",
    "        oof_df = oof_df.reset_index(drop=True)\n",
    "        oof_df.to_csv('models3/oof_df.csv', index=False)\n",
    "else:\n",
    "    train_loop_full_data(train_df)"
   ]
  },
  {
   "cell_type": "code",
   "execution_count": 27,
   "metadata": {},
   "outputs": [
    {
     "name": "stdout",
     "output_type": "stream",
     "text": [
      "========== Fold: 3 training ==========\n"
     ]
    },
    {
     "name": "stderr",
     "output_type": "stream",
     "text": [
      "Train:   0%|          | 0/119 [00:00<?, ?train_batch/s]/home/mccruz/.local/lib/python3.10/site-packages/torch/optim/lr_scheduler.py:143: UserWarning: Detected call of `lr_scheduler.step()` before `optimizer.step()`. In PyTorch 1.1.0 and later, you should call them in the opposite order: `optimizer.step()` before `lr_scheduler.step()`.  Failure to do this will result in PyTorch skipping the first value of the learning rate schedule. See more details at https://pytorch.org/docs/stable/optim.html#how-to-adjust-learning-rate\n",
      "  warnings.warn(\"Detected call of `lr_scheduler.step()` before `optimizer.step()`. \"\n",
      "Train:   1%|          | 1/119 [00:13<27:03, 13.76s/train_batch]"
     ]
    },
    {
     "name": "stdout",
     "output_type": "stream",
     "text": [
      "Epoch: [1][0/119] Elapsed 0m 13s (remain 27m 3s) Loss: 2.1429 Grad: inf  LR: 0.00004004  \n"
     ]
    },
    {
     "name": "stderr",
     "output_type": "stream",
     "text": [
      "Train:  43%|████▎     | 51/119 [00:24<00:14,  4.67train_batch/s]"
     ]
    },
    {
     "name": "stdout",
     "output_type": "stream",
     "text": [
      "Epoch: [1][50/119] Elapsed 0m 24s (remain 0m 33s) Loss: 1.8200 Grad: 69308.2734  LR: 0.00014557  \n"
     ]
    },
    {
     "name": "stderr",
     "output_type": "stream",
     "text": [
      "Train:  85%|████████▍ | 101/119 [00:35<00:04,  4.44train_batch/s]"
     ]
    },
    {
     "name": "stdout",
     "output_type": "stream",
     "text": [
      "Epoch: [1][100/119] Elapsed 0m 35s (remain 0m 6s) Loss: 1.5107 Grad: 31066.9453  LR: 0.00040965  \n"
     ]
    },
    {
     "name": "stderr",
     "output_type": "stream",
     "text": [
      "Train: 100%|██████████| 119/119 [00:39<00:00,  4.63train_batch/s]"
     ]
    },
    {
     "name": "stdout",
     "output_type": "stream",
     "text": [
      "Epoch: [1][118/119] Elapsed 0m 39s (remain 0m 0s) Loss: 1.4226 Grad: 40888.4062  LR: 0.00052318  \n"
     ]
    },
    {
     "name": "stderr",
     "output_type": "stream",
     "text": [
      "Train: 100%|██████████| 119/119 [00:40<00:00,  2.97train_batch/s]\n",
      "Validation:   8%|▊         | 3/40 [00:01<00:19,  1.92valid_batch/s]"
     ]
    },
    {
     "name": "stdout",
     "output_type": "stream",
     "text": [
      "EVAL: [0/40] Elapsed 0m 1s (remain 1m 9s) Loss: 1.1786 \n"
     ]
    },
    {
     "name": "stderr",
     "output_type": "stream",
     "text": [
      "Validation: 100%|██████████| 40/40 [00:06<00:00,  6.60valid_batch/s]"
     ]
    },
    {
     "name": "stdout",
     "output_type": "stream",
     "text": [
      "EVAL: [39/40] Elapsed 0m 6s (remain 0m 0s) Loss: 0.9296 \n"
     ]
    },
    {
     "name": "stderr",
     "output_type": "stream",
     "text": [
      "Validation: 100%|██████████| 40/40 [00:07<00:00,  5.61valid_batch/s]\n"
     ]
    },
    {
     "name": "stdout",
     "output_type": "stream",
     "text": [
      "Epoch 1 - avg_train_loss: 1.4226  avg_val_loss: 0.9296  time: 47s\n",
      "Epoch 1 - Save Best Loss: 0.9296 Model\n"
     ]
    },
    {
     "name": "stderr",
     "output_type": "stream",
     "text": [
      "Train:   1%|          | 1/119 [00:00<01:09,  1.70train_batch/s]"
     ]
    },
    {
     "name": "stdout",
     "output_type": "stream",
     "text": [
      "Epoch: [2][0/119] Elapsed 0m 0s (remain 1m 9s) Loss: 0.7053 Grad: 309372.4375  LR: 0.00052954  \n"
     ]
    },
    {
     "name": "stderr",
     "output_type": "stream",
     "text": [
      "Train:  43%|████▎     | 51/119 [00:11<00:14,  4.55train_batch/s]"
     ]
    },
    {
     "name": "stdout",
     "output_type": "stream",
     "text": [
      "Epoch: [2][50/119] Elapsed 0m 11s (remain 0m 15s) Loss: 0.7718 Grad: 73753.4766  LR: 0.00082281  \n"
     ]
    },
    {
     "name": "stderr",
     "output_type": "stream",
     "text": [
      "Train:  85%|████████▍ | 101/119 [00:22<00:04,  4.04train_batch/s]"
     ]
    },
    {
     "name": "stdout",
     "output_type": "stream",
     "text": [
      "Epoch: [2][100/119] Elapsed 0m 22s (remain 0m 4s) Loss: 0.7397 Grad: 74039.7266  LR: 0.00098786  \n"
     ]
    },
    {
     "name": "stderr",
     "output_type": "stream",
     "text": [
      "Train: 100%|██████████| 119/119 [00:27<00:00,  4.47train_batch/s]"
     ]
    },
    {
     "name": "stdout",
     "output_type": "stream",
     "text": [
      "Epoch: [2][118/119] Elapsed 0m 27s (remain 0m 0s) Loss: 0.7330 Grad: 77455.8281  LR: 0.00100000  \n"
     ]
    },
    {
     "name": "stderr",
     "output_type": "stream",
     "text": [
      "Train: 100%|██████████| 119/119 [00:27<00:00,  4.35train_batch/s]\n",
      "Validation:   5%|▌         | 2/40 [00:00<00:10,  3.57valid_batch/s]"
     ]
    },
    {
     "name": "stdout",
     "output_type": "stream",
     "text": [
      "EVAL: [0/40] Elapsed 0m 0s (remain 0m 20s) Loss: 1.1094 \n"
     ]
    },
    {
     "name": "stderr",
     "output_type": "stream",
     "text": [
      "Validation:  98%|█████████▊| 39/40 [00:05<00:00,  7.40valid_batch/s]"
     ]
    },
    {
     "name": "stdout",
     "output_type": "stream",
     "text": [
      "EVAL: [39/40] Elapsed 0m 5s (remain 0m 0s) Loss: 0.7161 \n"
     ]
    },
    {
     "name": "stderr",
     "output_type": "stream",
     "text": [
      "Validation: 100%|██████████| 40/40 [00:06<00:00,  6.41valid_batch/s]\n"
     ]
    },
    {
     "name": "stdout",
     "output_type": "stream",
     "text": [
      "Epoch 2 - avg_train_loss: 0.7330  avg_val_loss: 0.7161  time: 34s\n",
      "Epoch 2 - Save Best Loss: 0.7161 Model\n"
     ]
    },
    {
     "name": "stderr",
     "output_type": "stream",
     "text": [
      "Train:   1%|          | 1/119 [00:00<01:09,  1.69train_batch/s]"
     ]
    },
    {
     "name": "stdout",
     "output_type": "stream",
     "text": [
      "Epoch: [3][0/119] Elapsed 0m 0s (remain 1m 9s) Loss: 0.5022 Grad: 195338.7344  LR: 0.00100000  \n"
     ]
    },
    {
     "name": "stderr",
     "output_type": "stream",
     "text": [
      "Train:  43%|████▎     | 51/119 [00:11<00:14,  4.55train_batch/s]"
     ]
    },
    {
     "name": "stdout",
     "output_type": "stream",
     "text": [
      "Epoch: [3][50/119] Elapsed 0m 11s (remain 0m 15s) Loss: 0.5713 Grad: 141808.8594  LR: 0.00099855  \n"
     ]
    },
    {
     "name": "stderr",
     "output_type": "stream",
     "text": [
      "Train:  85%|████████▍ | 101/119 [00:31<00:07,  2.50train_batch/s]"
     ]
    },
    {
     "name": "stdout",
     "output_type": "stream",
     "text": [
      "Epoch: [3][100/119] Elapsed 0m 31s (remain 0m 5s) Loss: 0.5523 Grad: 104032.9766  LR: 0.00099442  \n"
     ]
    },
    {
     "name": "stderr",
     "output_type": "stream",
     "text": [
      "Train: 100%|██████████| 119/119 [00:38<00:00,  2.41train_batch/s]"
     ]
    },
    {
     "name": "stdout",
     "output_type": "stream",
     "text": [
      "Epoch: [3][118/119] Elapsed 0m 38s (remain 0m 0s) Loss: 0.5507 Grad: 109600.9766  LR: 0.00099228  \n"
     ]
    },
    {
     "name": "stderr",
     "output_type": "stream",
     "text": [
      "Train: 100%|██████████| 119/119 [00:39<00:00,  3.04train_batch/s]\n",
      "Validation:   5%|▌         | 2/40 [00:00<00:14,  2.61valid_batch/s]"
     ]
    },
    {
     "name": "stdout",
     "output_type": "stream",
     "text": [
      "EVAL: [0/40] Elapsed 0m 0s (remain 0m 26s) Loss: 0.6995 \n"
     ]
    },
    {
     "name": "stderr",
     "output_type": "stream",
     "text": [
      "Validation: 100%|██████████| 40/40 [00:09<00:00,  4.44valid_batch/s]"
     ]
    },
    {
     "name": "stdout",
     "output_type": "stream",
     "text": [
      "EVAL: [39/40] Elapsed 0m 9s (remain 0m 0s) Loss: 0.5739 \n"
     ]
    },
    {
     "name": "stderr",
     "output_type": "stream",
     "text": [
      "Validation: 100%|██████████| 40/40 [00:10<00:00,  3.90valid_batch/s]\n"
     ]
    },
    {
     "name": "stdout",
     "output_type": "stream",
     "text": [
      "Epoch 3 - avg_train_loss: 0.5507  avg_val_loss: 0.5739  time: 49s\n",
      "Epoch 3 - Save Best Loss: 0.5739 Model\n"
     ]
    },
    {
     "name": "stderr",
     "output_type": "stream",
     "text": [
      "Train:   1%|          | 1/119 [00:00<01:46,  1.11train_batch/s]"
     ]
    },
    {
     "name": "stdout",
     "output_type": "stream",
     "text": [
      "Epoch: [4][0/119] Elapsed 0m 0s (remain 1m 46s) Loss: 0.4500 Grad: 193939.9531  LR: 0.00099215  \n"
     ]
    },
    {
     "name": "stderr",
     "output_type": "stream",
     "text": [
      "Train:  43%|████▎     | 51/119 [00:19<00:29,  2.33train_batch/s]"
     ]
    },
    {
     "name": "stdout",
     "output_type": "stream",
     "text": [
      "Epoch: [4][50/119] Elapsed 0m 19s (remain 0m 26s) Loss: 0.4390 Grad: 50219.1680  LR: 0.00098436  \n"
     ]
    },
    {
     "name": "stderr",
     "output_type": "stream",
     "text": [
      "Train:  85%|████████▍ | 101/119 [00:41<00:07,  2.30train_batch/s]"
     ]
    },
    {
     "name": "stdout",
     "output_type": "stream",
     "text": [
      "Epoch: [4][100/119] Elapsed 0m 41s (remain 0m 7s) Loss: 0.4235 Grad: 69831.7031  LR: 0.00097397  \n"
     ]
    },
    {
     "name": "stderr",
     "output_type": "stream",
     "text": [
      "Train: 100%|██████████| 119/119 [00:48<00:00,  3.06train_batch/s]"
     ]
    },
    {
     "name": "stdout",
     "output_type": "stream",
     "text": [
      "Epoch: [4][118/119] Elapsed 0m 48s (remain 0m 0s) Loss: 0.4260 Grad: 43546.4453  LR: 0.00096961  \n"
     ]
    },
    {
     "name": "stderr",
     "output_type": "stream",
     "text": [
      "Train: 100%|██████████| 119/119 [00:49<00:00,  2.43train_batch/s]\n",
      "Validation:   2%|▎         | 1/40 [00:00<00:27,  1.42valid_batch/s]"
     ]
    },
    {
     "name": "stdout",
     "output_type": "stream",
     "text": [
      "EVAL: [0/40] Elapsed 0m 0s (remain 0m 27s) Loss: 0.8087 \n"
     ]
    },
    {
     "name": "stderr",
     "output_type": "stream",
     "text": [
      "Validation: 100%|██████████| 40/40 [00:08<00:00,  5.50valid_batch/s]"
     ]
    },
    {
     "name": "stdout",
     "output_type": "stream",
     "text": [
      "EVAL: [39/40] Elapsed 0m 8s (remain 0m 0s) Loss: 0.6823 \n"
     ]
    },
    {
     "name": "stderr",
     "output_type": "stream",
     "text": [
      "Validation: 100%|██████████| 40/40 [00:09<00:00,  4.31valid_batch/s]\n"
     ]
    },
    {
     "name": "stdout",
     "output_type": "stream",
     "text": [
      "Epoch 4 - avg_train_loss: 0.4260  avg_val_loss: 0.6823  time: 58s\n"
     ]
    },
    {
     "name": "stderr",
     "output_type": "stream",
     "text": [
      "Train:   1%|          | 1/119 [00:01<02:26,  1.24s/train_batch]"
     ]
    },
    {
     "name": "stdout",
     "output_type": "stream",
     "text": [
      "Epoch: [5][0/119] Elapsed 0m 1s (remain 2m 25s) Loss: 0.2709 Grad: 172900.1406  LR: 0.00096935  \n"
     ]
    },
    {
     "name": "stderr",
     "output_type": "stream",
     "text": [
      "Train:  43%|████▎     | 51/119 [00:21<00:28,  2.40train_batch/s]"
     ]
    },
    {
     "name": "stdout",
     "output_type": "stream",
     "text": [
      "Epoch: [5][50/119] Elapsed 0m 21s (remain 0m 29s) Loss: 0.3744 Grad: 100675.7578  LR: 0.00095547  \n"
     ]
    },
    {
     "name": "stderr",
     "output_type": "stream",
     "text": [
      "Train:  85%|████████▍ | 101/119 [00:41<00:06,  2.65train_batch/s]"
     ]
    },
    {
     "name": "stdout",
     "output_type": "stream",
     "text": [
      "Epoch: [5][100/119] Elapsed 0m 41s (remain 0m 7s) Loss: 0.3576 Grad: 65522.9414  LR: 0.00093914  \n"
     ]
    },
    {
     "name": "stderr",
     "output_type": "stream",
     "text": [
      "Train: 100%|██████████| 119/119 [00:49<00:00,  2.38train_batch/s]"
     ]
    },
    {
     "name": "stdout",
     "output_type": "stream",
     "text": [
      "Epoch: [5][118/119] Elapsed 0m 49s (remain 0m 0s) Loss: 0.3577 Grad: 44355.2188  LR: 0.00093267  \n"
     ]
    },
    {
     "name": "stderr",
     "output_type": "stream",
     "text": [
      "Train: 100%|██████████| 119/119 [00:49<00:00,  2.39train_batch/s]\n",
      "Validation:   2%|▎         | 1/40 [00:00<00:27,  1.42valid_batch/s]"
     ]
    },
    {
     "name": "stdout",
     "output_type": "stream",
     "text": [
      "EVAL: [0/40] Elapsed 0m 0s (remain 0m 27s) Loss: 1.7021 \n"
     ]
    },
    {
     "name": "stderr",
     "output_type": "stream",
     "text": [
      "Validation: 100%|██████████| 40/40 [00:10<00:00,  4.81valid_batch/s]"
     ]
    },
    {
     "name": "stdout",
     "output_type": "stream",
     "text": [
      "EVAL: [39/40] Elapsed 0m 10s (remain 0m 0s) Loss: 1.1629 \n"
     ]
    },
    {
     "name": "stderr",
     "output_type": "stream",
     "text": [
      "Validation: 100%|██████████| 40/40 [00:10<00:00,  3.65valid_batch/s]\n"
     ]
    },
    {
     "name": "stdout",
     "output_type": "stream",
     "text": [
      "Epoch 5 - avg_train_loss: 0.3577  avg_val_loss: 1.1629  time: 61s\n"
     ]
    },
    {
     "name": "stderr",
     "output_type": "stream",
     "text": [
      "Train:   1%|          | 1/119 [00:00<01:50,  1.07train_batch/s]"
     ]
    },
    {
     "name": "stdout",
     "output_type": "stream",
     "text": [
      "Epoch: [6][0/119] Elapsed 0m 0s (remain 1m 50s) Loss: 0.5008 Grad: 277274.9688  LR: 0.00093230  \n"
     ]
    },
    {
     "name": "stderr",
     "output_type": "stream",
     "text": [
      "Train:  43%|████▎     | 51/119 [00:21<00:25,  2.65train_batch/s]"
     ]
    },
    {
     "name": "stdout",
     "output_type": "stream",
     "text": [
      "Epoch: [6][50/119] Elapsed 0m 21s (remain 0m 28s) Loss: 0.2991 Grad: 47017.9609  LR: 0.00091274  \n"
     ]
    },
    {
     "name": "stderr",
     "output_type": "stream",
     "text": [
      "Train:  85%|████████▍ | 101/119 [00:40<00:07,  2.43train_batch/s]"
     ]
    },
    {
     "name": "stdout",
     "output_type": "stream",
     "text": [
      "Epoch: [6][100/119] Elapsed 0m 40s (remain 0m 7s) Loss: 0.3120 Grad: 56527.8398  LR: 0.00089096  \n"
     ]
    },
    {
     "name": "stderr",
     "output_type": "stream",
     "text": [
      "Train: 100%|██████████| 119/119 [00:48<00:00,  2.31train_batch/s]"
     ]
    },
    {
     "name": "stdout",
     "output_type": "stream",
     "text": [
      "Epoch: [6][118/119] Elapsed 0m 48s (remain 0m 0s) Loss: 0.3098 Grad: 43627.3633  LR: 0.00088260  \n"
     ]
    },
    {
     "name": "stderr",
     "output_type": "stream",
     "text": [
      "Train: 100%|██████████| 119/119 [00:49<00:00,  2.43train_batch/s]\n",
      "Validation:   2%|▎         | 1/40 [00:00<00:32,  1.20valid_batch/s]"
     ]
    },
    {
     "name": "stdout",
     "output_type": "stream",
     "text": [
      "EVAL: [0/40] Elapsed 0m 0s (remain 0m 32s) Loss: 0.5620 \n"
     ]
    },
    {
     "name": "stderr",
     "output_type": "stream",
     "text": [
      "Validation: 100%|██████████| 40/40 [00:09<00:00,  4.79valid_batch/s]"
     ]
    },
    {
     "name": "stdout",
     "output_type": "stream",
     "text": [
      "EVAL: [39/40] Elapsed 0m 9s (remain 0m 0s) Loss: 0.4369 \n"
     ]
    },
    {
     "name": "stderr",
     "output_type": "stream",
     "text": [
      "Validation: 100%|██████████| 40/40 [00:10<00:00,  3.96valid_batch/s]\n"
     ]
    },
    {
     "name": "stdout",
     "output_type": "stream",
     "text": [
      "Epoch 6 - avg_train_loss: 0.3098  avg_val_loss: 0.4369  time: 59s\n",
      "Epoch 6 - Save Best Loss: 0.4369 Model\n"
     ]
    },
    {
     "name": "stderr",
     "output_type": "stream",
     "text": [
      "Train:   1%|          | 1/119 [00:00<01:21,  1.46train_batch/s]"
     ]
    },
    {
     "name": "stdout",
     "output_type": "stream",
     "text": [
      "Epoch: [7][0/119] Elapsed 0m 0s (remain 1m 21s) Loss: 0.2212 Grad: 149712.5469  LR: 0.00088212  \n"
     ]
    },
    {
     "name": "stderr",
     "output_type": "stream",
     "text": [
      "Train:  43%|████▎     | 51/119 [00:18<00:28,  2.40train_batch/s]"
     ]
    },
    {
     "name": "stdout",
     "output_type": "stream",
     "text": [
      "Epoch: [7][50/119] Elapsed 0m 18s (remain 0m 25s) Loss: 0.2623 Grad: 101405.3359  LR: 0.00085748  \n"
     ]
    },
    {
     "name": "stderr",
     "output_type": "stream",
     "text": [
      "Train:  85%|████████▍ | 101/119 [00:40<00:07,  2.27train_batch/s]"
     ]
    },
    {
     "name": "stdout",
     "output_type": "stream",
     "text": [
      "Epoch: [7][100/119] Elapsed 0m 40s (remain 0m 7s) Loss: 0.2618 Grad: 21515.2344  LR: 0.00083091  \n"
     ]
    },
    {
     "name": "stderr",
     "output_type": "stream",
     "text": [
      "Train: 100%|██████████| 119/119 [00:48<00:00,  3.21train_batch/s]"
     ]
    },
    {
     "name": "stdout",
     "output_type": "stream",
     "text": [
      "Epoch: [7][118/119] Elapsed 0m 48s (remain 0m 0s) Loss: 0.2685 Grad: 28342.3418  LR: 0.00082090  \n"
     ]
    },
    {
     "name": "stderr",
     "output_type": "stream",
     "text": [
      "Train: 100%|██████████| 119/119 [00:48<00:00,  2.45train_batch/s]\n",
      "Validation:   5%|▌         | 2/40 [00:00<00:13,  2.91valid_batch/s]"
     ]
    },
    {
     "name": "stdout",
     "output_type": "stream",
     "text": [
      "EVAL: [0/40] Elapsed 0m 0s (remain 0m 24s) Loss: 0.5926 \n"
     ]
    },
    {
     "name": "stderr",
     "output_type": "stream",
     "text": [
      "Validation: 100%|██████████| 40/40 [00:08<00:00,  4.74valid_batch/s]"
     ]
    },
    {
     "name": "stdout",
     "output_type": "stream",
     "text": [
      "EVAL: [39/40] Elapsed 0m 8s (remain 0m 0s) Loss: 0.5648 \n"
     ]
    },
    {
     "name": "stderr",
     "output_type": "stream",
     "text": [
      "Validation: 100%|██████████| 40/40 [00:09<00:00,  4.33valid_batch/s]\n"
     ]
    },
    {
     "name": "stdout",
     "output_type": "stream",
     "text": [
      "Epoch 7 - avg_train_loss: 0.2685  avg_val_loss: 0.5648  time: 58s\n"
     ]
    },
    {
     "name": "stderr",
     "output_type": "stream",
     "text": [
      "Train:   1%|          | 1/119 [00:00<01:50,  1.07train_batch/s]"
     ]
    },
    {
     "name": "stdout",
     "output_type": "stream",
     "text": [
      "Epoch: [8][0/119] Elapsed 0m 0s (remain 1m 50s) Loss: 0.2297 Grad: 182115.3750  LR: 0.00082034  \n"
     ]
    },
    {
     "name": "stderr",
     "output_type": "stream",
     "text": [
      "Train:  43%|████▎     | 51/119 [00:22<00:28,  2.36train_batch/s]"
     ]
    },
    {
     "name": "stdout",
     "output_type": "stream",
     "text": [
      "Epoch: [8][50/119] Elapsed 0m 22s (remain 0m 29s) Loss: 0.2419 Grad: 51863.0977  LR: 0.00079136  \n"
     ]
    },
    {
     "name": "stderr",
     "output_type": "stream",
     "text": [
      "Train:  85%|████████▍ | 101/119 [00:42<00:05,  3.36train_batch/s]"
     ]
    },
    {
     "name": "stdout",
     "output_type": "stream",
     "text": [
      "Epoch: [8][100/119] Elapsed 0m 42s (remain 0m 7s) Loss: 0.2386 Grad: 25940.0996  LR: 0.00076081  \n"
     ]
    },
    {
     "name": "stderr",
     "output_type": "stream",
     "text": [
      "Train: 100%|██████████| 119/119 [00:49<00:00,  2.31train_batch/s]"
     ]
    },
    {
     "name": "stdout",
     "output_type": "stream",
     "text": [
      "Epoch: [8][118/119] Elapsed 0m 49s (remain 0m 0s) Loss: 0.2358 Grad: 14349.8936  LR: 0.00074946  \n"
     ]
    },
    {
     "name": "stderr",
     "output_type": "stream",
     "text": [
      "Train: 100%|██████████| 119/119 [00:50<00:00,  2.37train_batch/s]\n",
      "Validation:   2%|▎         | 1/40 [00:01<00:39,  1.01s/valid_batch]"
     ]
    },
    {
     "name": "stdout",
     "output_type": "stream",
     "text": [
      "EVAL: [0/40] Elapsed 0m 1s (remain 0m 39s) Loss: 0.6412 \n"
     ]
    },
    {
     "name": "stderr",
     "output_type": "stream",
     "text": [
      "Validation: 100%|██████████| 40/40 [00:10<00:00,  4.36valid_batch/s]"
     ]
    },
    {
     "name": "stdout",
     "output_type": "stream",
     "text": [
      "EVAL: [39/40] Elapsed 0m 10s (remain 0m 0s) Loss: 0.4383 \n"
     ]
    },
    {
     "name": "stderr",
     "output_type": "stream",
     "text": [
      "Validation: 100%|██████████| 40/40 [00:10<00:00,  3.71valid_batch/s]\n"
     ]
    },
    {
     "name": "stdout",
     "output_type": "stream",
     "text": [
      "Epoch 8 - avg_train_loss: 0.2358  avg_val_loss: 0.4383  time: 61s\n"
     ]
    },
    {
     "name": "stderr",
     "output_type": "stream",
     "text": [
      "Train:   1%|          | 1/119 [00:00<01:48,  1.09train_batch/s]"
     ]
    },
    {
     "name": "stdout",
     "output_type": "stream",
     "text": [
      "Epoch: [9][0/119] Elapsed 0m 0s (remain 1m 48s) Loss: 0.1762 Grad: 170570.1094  LR: 0.00074883  \n"
     ]
    },
    {
     "name": "stderr",
     "output_type": "stream",
     "text": [
      "Train:  43%|████▎     | 51/119 [00:21<00:21,  3.10train_batch/s]"
     ]
    },
    {
     "name": "stdout",
     "output_type": "stream",
     "text": [
      "Epoch: [9][50/119] Elapsed 0m 21s (remain 0m 28s) Loss: 0.2043 Grad: 46494.3398  LR: 0.00071639  \n"
     ]
    },
    {
     "name": "stderr",
     "output_type": "stream",
     "text": [
      "Train:  85%|████████▍ | 101/119 [00:39<00:07,  2.47train_batch/s]"
     ]
    },
    {
     "name": "stdout",
     "output_type": "stream",
     "text": [
      "Epoch: [9][100/119] Elapsed 0m 39s (remain 0m 7s) Loss: 0.1972 Grad: 27274.8359  LR: 0.00068280  \n"
     ]
    },
    {
     "name": "stderr",
     "output_type": "stream",
     "text": [
      "Train: 100%|██████████| 119/119 [00:47<00:00,  2.40train_batch/s]"
     ]
    },
    {
     "name": "stdout",
     "output_type": "stream",
     "text": [
      "Epoch: [9][118/119] Elapsed 0m 47s (remain 0m 0s) Loss: 0.1939 Grad: 16991.7051  LR: 0.00067045  \n"
     ]
    },
    {
     "name": "stderr",
     "output_type": "stream",
     "text": [
      "Train: 100%|██████████| 119/119 [00:47<00:00,  2.48train_batch/s]\n",
      "Validation:   2%|▎         | 1/40 [00:00<00:32,  1.19valid_batch/s]"
     ]
    },
    {
     "name": "stdout",
     "output_type": "stream",
     "text": [
      "EVAL: [0/40] Elapsed 0m 0s (remain 0m 32s) Loss: 0.4797 \n"
     ]
    },
    {
     "name": "stderr",
     "output_type": "stream",
     "text": [
      "Validation: 100%|██████████| 40/40 [00:10<00:00,  4.77valid_batch/s]"
     ]
    },
    {
     "name": "stdout",
     "output_type": "stream",
     "text": [
      "EVAL: [39/40] Elapsed 0m 10s (remain 0m 0s) Loss: 0.3821 \n"
     ]
    },
    {
     "name": "stderr",
     "output_type": "stream",
     "text": [
      "Validation: 100%|██████████| 40/40 [00:10<00:00,  3.86valid_batch/s]\n"
     ]
    },
    {
     "name": "stdout",
     "output_type": "stream",
     "text": [
      "Epoch 9 - avg_train_loss: 0.1939  avg_val_loss: 0.3821  time: 58s\n",
      "Epoch 9 - Save Best Loss: 0.3821 Model\n"
     ]
    },
    {
     "name": "stderr",
     "output_type": "stream",
     "text": [
      "Train:   1%|          | 1/119 [00:00<01:47,  1.10train_batch/s]"
     ]
    },
    {
     "name": "stdout",
     "output_type": "stream",
     "text": [
      "Epoch: [10][0/119] Elapsed 0m 0s (remain 1m 47s) Loss: 0.1754 Grad: 202133.3438  LR: 0.00066976  \n"
     ]
    },
    {
     "name": "stderr",
     "output_type": "stream",
     "text": [
      "Train:  43%|████▎     | 51/119 [00:20<00:29,  2.30train_batch/s]"
     ]
    },
    {
     "name": "stdout",
     "output_type": "stream",
     "text": [
      "Epoch: [10][50/119] Elapsed 0m 20s (remain 0m 27s) Loss: 0.1654 Grad: 30133.8223  LR: 0.00063486  \n"
     ]
    },
    {
     "name": "stderr",
     "output_type": "stream",
     "text": [
      "Train:  85%|████████▍ | 101/119 [00:41<00:07,  2.48train_batch/s]"
     ]
    },
    {
     "name": "stdout",
     "output_type": "stream",
     "text": [
      "Epoch: [10][100/119] Elapsed 0m 41s (remain 0m 7s) Loss: 0.1700 Grad: 37423.9648  LR: 0.00059923  \n"
     ]
    },
    {
     "name": "stderr",
     "output_type": "stream",
     "text": [
      "Train: 100%|██████████| 119/119 [00:48<00:00,  2.87train_batch/s]"
     ]
    },
    {
     "name": "stdout",
     "output_type": "stream",
     "text": [
      "Epoch: [10][118/119] Elapsed 0m 48s (remain 0m 0s) Loss: 0.1697 Grad: 34196.2188  LR: 0.00058627  \n"
     ]
    },
    {
     "name": "stderr",
     "output_type": "stream",
     "text": [
      "Train: 100%|██████████| 119/119 [00:49<00:00,  2.42train_batch/s]\n",
      "Validation:   5%|▌         | 2/40 [00:00<00:15,  2.49valid_batch/s]"
     ]
    },
    {
     "name": "stdout",
     "output_type": "stream",
     "text": [
      "EVAL: [0/40] Elapsed 0m 0s (remain 0m 28s) Loss: 0.4635 \n"
     ]
    },
    {
     "name": "stderr",
     "output_type": "stream",
     "text": [
      "Validation: 100%|██████████| 40/40 [00:09<00:00,  4.54valid_batch/s]"
     ]
    },
    {
     "name": "stdout",
     "output_type": "stream",
     "text": [
      "EVAL: [39/40] Elapsed 0m 9s (remain 0m 0s) Loss: 0.3927 \n"
     ]
    },
    {
     "name": "stderr",
     "output_type": "stream",
     "text": [
      "Validation: 100%|██████████| 40/40 [00:10<00:00,  3.92valid_batch/s]\n"
     ]
    },
    {
     "name": "stdout",
     "output_type": "stream",
     "text": [
      "Epoch 10 - avg_train_loss: 0.1697  avg_val_loss: 0.3927  time: 59s\n"
     ]
    },
    {
     "name": "stderr",
     "output_type": "stream",
     "text": [
      "Train:   1%|          | 1/119 [00:01<01:58,  1.01s/train_batch]"
     ]
    },
    {
     "name": "stdout",
     "output_type": "stream",
     "text": [
      "Epoch: [11][0/119] Elapsed 0m 1s (remain 1m 58s) Loss: 0.2339 Grad: 249136.0625  LR: 0.00058555  \n"
     ]
    },
    {
     "name": "stderr",
     "output_type": "stream",
     "text": [
      "Train:  43%|████▎     | 51/119 [00:21<00:28,  2.40train_batch/s]"
     ]
    },
    {
     "name": "stdout",
     "output_type": "stream",
     "text": [
      "Epoch: [11][50/119] Elapsed 0m 21s (remain 0m 29s) Loss: 0.1482 Grad: 66992.6172  LR: 0.00054923  \n"
     ]
    },
    {
     "name": "stderr",
     "output_type": "stream",
     "text": [
      "Train:  85%|████████▍ | 101/119 [00:40<00:07,  2.41train_batch/s]"
     ]
    },
    {
     "name": "stdout",
     "output_type": "stream",
     "text": [
      "Epoch: [11][100/119] Elapsed 0m 40s (remain 0m 7s) Loss: 0.1497 Grad: 31564.5371  LR: 0.00051266  \n"
     ]
    },
    {
     "name": "stderr",
     "output_type": "stream",
     "text": [
      "Train: 100%|██████████| 119/119 [00:47<00:00,  2.39train_batch/s]"
     ]
    },
    {
     "name": "stdout",
     "output_type": "stream",
     "text": [
      "Epoch: [11][118/119] Elapsed 0m 47s (remain 0m 0s) Loss: 0.1478 Grad: 28980.0176  LR: 0.00049947  \n"
     ]
    },
    {
     "name": "stderr",
     "output_type": "stream",
     "text": [
      "Train: 100%|██████████| 119/119 [00:48<00:00,  2.46train_batch/s]\n",
      "Validation:   5%|▌         | 2/40 [00:01<00:17,  2.16valid_batch/s]"
     ]
    },
    {
     "name": "stdout",
     "output_type": "stream",
     "text": [
      "EVAL: [0/40] Elapsed 0m 0s (remain 0m 33s) Loss: 0.3891 \n"
     ]
    },
    {
     "name": "stderr",
     "output_type": "stream",
     "text": [
      "Validation: 100%|██████████| 40/40 [00:09<00:00,  4.50valid_batch/s]"
     ]
    },
    {
     "name": "stdout",
     "output_type": "stream",
     "text": [
      "EVAL: [39/40] Elapsed 0m 9s (remain 0m 0s) Loss: 0.3169 \n"
     ]
    },
    {
     "name": "stderr",
     "output_type": "stream",
     "text": [
      "Validation: 100%|██████████| 40/40 [00:10<00:00,  3.89valid_batch/s]\n"
     ]
    },
    {
     "name": "stdout",
     "output_type": "stream",
     "text": [
      "Epoch 11 - avg_train_loss: 0.1478  avg_val_loss: 0.3169  time: 59s\n",
      "Epoch 11 - Save Best Loss: 0.3169 Model\n"
     ]
    },
    {
     "name": "stderr",
     "output_type": "stream",
     "text": [
      "Train:   1%|          | 1/119 [00:01<02:34,  1.31s/train_batch]"
     ]
    },
    {
     "name": "stdout",
     "output_type": "stream",
     "text": [
      "Epoch: [12][0/119] Elapsed 0m 1s (remain 2m 34s) Loss: 0.0941 Grad: 116621.2578  LR: 0.00049873  \n"
     ]
    },
    {
     "name": "stderr",
     "output_type": "stream",
     "text": [
      "Train:  43%|████▎     | 51/119 [00:20<00:25,  2.65train_batch/s]"
     ]
    },
    {
     "name": "stdout",
     "output_type": "stream",
     "text": [
      "Epoch: [12][50/119] Elapsed 0m 20s (remain 0m 27s) Loss: 0.1295 Grad: 31369.2285  LR: 0.00046212  \n"
     ]
    },
    {
     "name": "stderr",
     "output_type": "stream",
     "text": [
      "Train:  85%|████████▍ | 101/119 [00:40<00:07,  2.39train_batch/s]"
     ]
    },
    {
     "name": "stdout",
     "output_type": "stream",
     "text": [
      "Epoch: [12][100/119] Elapsed 0m 40s (remain 0m 7s) Loss: 0.1294 Grad: 34985.9102  LR: 0.00042571  \n"
     ]
    },
    {
     "name": "stderr",
     "output_type": "stream",
     "text": [
      "Train: 100%|██████████| 119/119 [00:47<00:00,  2.52train_batch/s]"
     ]
    },
    {
     "name": "stdout",
     "output_type": "stream",
     "text": [
      "Epoch: [12][118/119] Elapsed 0m 47s (remain 0m 0s) Loss: 0.1272 Grad: 54568.8867  LR: 0.00041269  \n"
     ]
    },
    {
     "name": "stderr",
     "output_type": "stream",
     "text": [
      "Train: 100%|██████████| 119/119 [00:48<00:00,  2.47train_batch/s]\n",
      "Validation:   2%|▎         | 1/40 [00:00<00:35,  1.11valid_batch/s]"
     ]
    },
    {
     "name": "stdout",
     "output_type": "stream",
     "text": [
      "EVAL: [0/40] Elapsed 0m 0s (remain 0m 35s) Loss: 0.4240 \n"
     ]
    },
    {
     "name": "stderr",
     "output_type": "stream",
     "text": [
      "Validation: 100%|██████████| 40/40 [00:09<00:00,  4.65valid_batch/s]"
     ]
    },
    {
     "name": "stdout",
     "output_type": "stream",
     "text": [
      "EVAL: [39/40] Elapsed 0m 9s (remain 0m 0s) Loss: 0.3182 \n"
     ]
    },
    {
     "name": "stderr",
     "output_type": "stream",
     "text": [
      "Validation: 100%|██████████| 40/40 [00:09<00:00,  4.16valid_batch/s]\n"
     ]
    },
    {
     "name": "stdout",
     "output_type": "stream",
     "text": [
      "Epoch 12 - avg_train_loss: 0.1272  avg_val_loss: 0.3182  time: 58s\n"
     ]
    },
    {
     "name": "stderr",
     "output_type": "stream",
     "text": [
      "Train:   1%|          | 1/119 [00:00<01:35,  1.23train_batch/s]"
     ]
    },
    {
     "name": "stdout",
     "output_type": "stream",
     "text": [
      "Epoch: [13][0/119] Elapsed 0m 0s (remain 1m 36s) Loss: 0.1234 Grad: 155100.5000  LR: 0.00041197  \n"
     ]
    },
    {
     "name": "stderr",
     "output_type": "stream",
     "text": [
      "Train:  43%|████▎     | 51/119 [00:18<00:29,  2.28train_batch/s]"
     ]
    },
    {
     "name": "stdout",
     "output_type": "stream",
     "text": [
      "Epoch: [13][50/119] Elapsed 0m 18s (remain 0m 25s) Loss: 0.1225 Grad: 13373.9795  LR: 0.00037616  \n"
     ]
    },
    {
     "name": "stderr",
     "output_type": "stream",
     "text": [
      "Train:  85%|████████▍ | 101/119 [00:40<00:07,  2.28train_batch/s]"
     ]
    },
    {
     "name": "stdout",
     "output_type": "stream",
     "text": [
      "Epoch: [13][100/119] Elapsed 0m 40s (remain 0m 7s) Loss: 0.1205 Grad: 35955.5312  LR: 0.00034102  \n"
     ]
    },
    {
     "name": "stderr",
     "output_type": "stream",
     "text": [
      "Train: 100%|██████████| 119/119 [00:48<00:00,  2.36train_batch/s]"
     ]
    },
    {
     "name": "stdout",
     "output_type": "stream",
     "text": [
      "Epoch: [13][118/119] Elapsed 0m 48s (remain 0m 0s) Loss: 0.1194 Grad: 17812.1309  LR: 0.00032857  \n"
     ]
    },
    {
     "name": "stderr",
     "output_type": "stream",
     "text": [
      "Train: 100%|██████████| 119/119 [00:49<00:00,  2.42train_batch/s]\n",
      "Validation:   5%|▌         | 2/40 [00:00<00:14,  2.57valid_batch/s]"
     ]
    },
    {
     "name": "stdout",
     "output_type": "stream",
     "text": [
      "EVAL: [0/40] Elapsed 0m 0s (remain 0m 28s) Loss: 0.3931 \n"
     ]
    },
    {
     "name": "stderr",
     "output_type": "stream",
     "text": [
      "Validation: 100%|██████████| 40/40 [00:09<00:00,  5.19valid_batch/s]"
     ]
    },
    {
     "name": "stdout",
     "output_type": "stream",
     "text": [
      "EVAL: [39/40] Elapsed 0m 9s (remain 0m 0s) Loss: 0.3124 \n"
     ]
    },
    {
     "name": "stderr",
     "output_type": "stream",
     "text": [
      "Validation: 100%|██████████| 40/40 [00:09<00:00,  4.09valid_batch/s]\n"
     ]
    },
    {
     "name": "stdout",
     "output_type": "stream",
     "text": [
      "Epoch 13 - avg_train_loss: 0.1194  avg_val_loss: 0.3124  time: 59s\n",
      "Epoch 13 - Save Best Loss: 0.3124 Model\n"
     ]
    },
    {
     "name": "stderr",
     "output_type": "stream",
     "text": [
      "Train:   1%|          | 1/119 [00:00<01:49,  1.08train_batch/s]"
     ]
    },
    {
     "name": "stdout",
     "output_type": "stream",
     "text": [
      "Epoch: [14][0/119] Elapsed 0m 0s (remain 1m 50s) Loss: 0.0962 Grad: 129077.3125  LR: 0.00032788  \n"
     ]
    },
    {
     "name": "stderr",
     "output_type": "stream",
     "text": [
      "Train:  43%|████▎     | 51/119 [00:22<00:27,  2.48train_batch/s]"
     ]
    },
    {
     "name": "stdout",
     "output_type": "stream",
     "text": [
      "Epoch: [14][50/119] Elapsed 0m 22s (remain 0m 30s) Loss: 0.1080 Grad: 30358.0078  LR: 0.00029397  \n"
     ]
    },
    {
     "name": "stderr",
     "output_type": "stream",
     "text": [
      "Train:  85%|████████▍ | 101/119 [00:42<00:06,  2.72train_batch/s]"
     ]
    },
    {
     "name": "stdout",
     "output_type": "stream",
     "text": [
      "Epoch: [14][100/119] Elapsed 0m 42s (remain 0m 7s) Loss: 0.1065 Grad: 19883.1035  LR: 0.00026117  \n"
     ]
    },
    {
     "name": "stderr",
     "output_type": "stream",
     "text": [
      "Train: 100%|██████████| 119/119 [00:49<00:00,  2.42train_batch/s]"
     ]
    },
    {
     "name": "stdout",
     "output_type": "stream",
     "text": [
      "Epoch: [14][118/119] Elapsed 0m 49s (remain 0m 0s) Loss: 0.1039 Grad: 27330.3730  LR: 0.00024967  \n"
     ]
    },
    {
     "name": "stderr",
     "output_type": "stream",
     "text": [
      "Train: 100%|██████████| 119/119 [00:49<00:00,  2.40train_batch/s]\n",
      "Validation:   2%|▎         | 1/40 [00:00<00:34,  1.14valid_batch/s]"
     ]
    },
    {
     "name": "stdout",
     "output_type": "stream",
     "text": [
      "EVAL: [0/40] Elapsed 0m 0s (remain 0m 34s) Loss: 0.3824 \n"
     ]
    },
    {
     "name": "stderr",
     "output_type": "stream",
     "text": [
      "Validation: 100%|██████████| 40/40 [00:10<00:00,  4.01valid_batch/s]"
     ]
    },
    {
     "name": "stdout",
     "output_type": "stream",
     "text": [
      "EVAL: [39/40] Elapsed 0m 10s (remain 0m 0s) Loss: 0.2979 \n"
     ]
    },
    {
     "name": "stderr",
     "output_type": "stream",
     "text": [
      "Validation: 100%|██████████| 40/40 [00:10<00:00,  3.65valid_batch/s]\n"
     ]
    },
    {
     "name": "stdout",
     "output_type": "stream",
     "text": [
      "Epoch 14 - avg_train_loss: 0.1039  avg_val_loss: 0.2979  time: 61s\n",
      "Epoch 14 - Save Best Loss: 0.2979 Model\n"
     ]
    },
    {
     "name": "stderr",
     "output_type": "stream",
     "text": [
      "Train:   1%|          | 1/119 [00:01<02:00,  1.02s/train_batch]"
     ]
    },
    {
     "name": "stdout",
     "output_type": "stream",
     "text": [
      "Epoch: [15][0/119] Elapsed 0m 1s (remain 2m 0s) Loss: 0.0864 Grad: 116222.1016  LR: 0.00024903  \n"
     ]
    },
    {
     "name": "stderr",
     "output_type": "stream",
     "text": [
      "Train:  43%|████▎     | 51/119 [00:21<00:26,  2.53train_batch/s]"
     ]
    },
    {
     "name": "stdout",
     "output_type": "stream",
     "text": [
      "Epoch: [15][50/119] Elapsed 0m 21s (remain 0m 28s) Loss: 0.0914 Grad: 49849.2891  LR: 0.00021805  \n"
     ]
    },
    {
     "name": "stderr",
     "output_type": "stream",
     "text": [
      "Train:  85%|████████▍ | 101/119 [00:41<00:07,  2.29train_batch/s]"
     ]
    },
    {
     "name": "stdout",
     "output_type": "stream",
     "text": [
      "Epoch: [15][100/119] Elapsed 0m 41s (remain 0m 7s) Loss: 0.0909 Grad: 17943.4180  LR: 0.00018858  \n"
     ]
    },
    {
     "name": "stderr",
     "output_type": "stream",
     "text": [
      "Train: 100%|██████████| 119/119 [00:48<00:00,  2.48train_batch/s]"
     ]
    },
    {
     "name": "stdout",
     "output_type": "stream",
     "text": [
      "Epoch: [15][118/119] Elapsed 0m 48s (remain 0m 0s) Loss: 0.0922 Grad: inf  LR: 0.00017837  \n"
     ]
    },
    {
     "name": "stderr",
     "output_type": "stream",
     "text": [
      "Train: 100%|██████████| 119/119 [00:48<00:00,  2.44train_batch/s]\n",
      "Validation:   2%|▎         | 1/40 [00:00<00:27,  1.41valid_batch/s]"
     ]
    },
    {
     "name": "stdout",
     "output_type": "stream",
     "text": [
      "EVAL: [0/40] Elapsed 0m 0s (remain 0m 27s) Loss: 0.3825 \n"
     ]
    },
    {
     "name": "stderr",
     "output_type": "stream",
     "text": [
      "Validation: 100%|██████████| 40/40 [00:09<00:00,  4.73valid_batch/s]"
     ]
    },
    {
     "name": "stdout",
     "output_type": "stream",
     "text": [
      "EVAL: [39/40] Elapsed 0m 9s (remain 0m 0s) Loss: 0.2729 \n"
     ]
    },
    {
     "name": "stderr",
     "output_type": "stream",
     "text": [
      "Validation: 100%|██████████| 40/40 [00:09<00:00,  4.05valid_batch/s]\n"
     ]
    },
    {
     "name": "stdout",
     "output_type": "stream",
     "text": [
      "Epoch 15 - avg_train_loss: 0.0922  avg_val_loss: 0.2729  time: 59s\n",
      "Epoch 15 - Save Best Loss: 0.2729 Model\n"
     ]
    },
    {
     "name": "stderr",
     "output_type": "stream",
     "text": [
      "Train:   1%|          | 1/119 [00:01<02:13,  1.13s/train_batch]"
     ]
    },
    {
     "name": "stdout",
     "output_type": "stream",
     "text": [
      "Epoch: [16][0/119] Elapsed 0m 1s (remain 2m 13s) Loss: 0.0705 Grad: 103471.6797  LR: 0.00017781  \n"
     ]
    },
    {
     "name": "stderr",
     "output_type": "stream",
     "text": [
      "Train:  43%|████▎     | 51/119 [00:20<00:30,  2.24train_batch/s]"
     ]
    },
    {
     "name": "stdout",
     "output_type": "stream",
     "text": [
      "Epoch: [16][50/119] Elapsed 0m 20s (remain 0m 27s) Loss: 0.0821 Grad: 75137.5156  LR: 0.00015070  \n"
     ]
    },
    {
     "name": "stderr",
     "output_type": "stream",
     "text": [
      "Train:  85%|████████▍ | 101/119 [00:42<00:07,  2.34train_batch/s]"
     ]
    },
    {
     "name": "stdout",
     "output_type": "stream",
     "text": [
      "Epoch: [16][100/119] Elapsed 0m 42s (remain 0m 7s) Loss: 0.0818 Grad: 15278.5762  LR: 0.00012546  \n"
     ]
    },
    {
     "name": "stderr",
     "output_type": "stream",
     "text": [
      "Train: 100%|██████████| 119/119 [00:50<00:00,  2.70train_batch/s]"
     ]
    },
    {
     "name": "stdout",
     "output_type": "stream",
     "text": [
      "Epoch: [16][118/119] Elapsed 0m 50s (remain 0m 0s) Loss: 0.0816 Grad: 13157.8125  LR: 0.00011686  \n"
     ]
    },
    {
     "name": "stderr",
     "output_type": "stream",
     "text": [
      "Train: 100%|██████████| 119/119 [00:50<00:00,  2.35train_batch/s]\n",
      "Validation:   5%|▌         | 2/40 [00:00<00:15,  2.38valid_batch/s]"
     ]
    },
    {
     "name": "stdout",
     "output_type": "stream",
     "text": [
      "EVAL: [0/40] Elapsed 0m 0s (remain 0m 30s) Loss: 0.3873 \n"
     ]
    },
    {
     "name": "stderr",
     "output_type": "stream",
     "text": [
      "Validation: 100%|██████████| 40/40 [00:09<00:00,  4.47valid_batch/s]"
     ]
    },
    {
     "name": "stdout",
     "output_type": "stream",
     "text": [
      "EVAL: [39/40] Elapsed 0m 9s (remain 0m 0s) Loss: 0.2639 \n"
     ]
    },
    {
     "name": "stderr",
     "output_type": "stream",
     "text": [
      "Validation: 100%|██████████| 40/40 [00:09<00:00,  4.04valid_batch/s]\n"
     ]
    },
    {
     "name": "stdout",
     "output_type": "stream",
     "text": [
      "Epoch 16 - avg_train_loss: 0.0816  avg_val_loss: 0.2639  time: 61s\n",
      "Epoch 16 - Save Best Loss: 0.2639 Model\n"
     ]
    },
    {
     "name": "stderr",
     "output_type": "stream",
     "text": [
      "Train:   1%|          | 1/119 [00:00<01:41,  1.16train_batch/s]"
     ]
    },
    {
     "name": "stdout",
     "output_type": "stream",
     "text": [
      "Epoch: [17][0/119] Elapsed 0m 0s (remain 1m 42s) Loss: 0.0843 Grad: 97280.7266  LR: 0.00011639  \n"
     ]
    },
    {
     "name": "stderr",
     "output_type": "stream",
     "text": [
      "Train:  43%|████▎     | 51/119 [00:21<00:27,  2.44train_batch/s]"
     ]
    },
    {
     "name": "stdout",
     "output_type": "stream",
     "text": [
      "Epoch: [17][50/119] Elapsed 0m 21s (remain 0m 29s) Loss: 0.0767 Grad: 57154.9492  LR: 0.00009397  \n"
     ]
    },
    {
     "name": "stderr",
     "output_type": "stream",
     "text": [
      "Train:  85%|████████▍ | 101/119 [00:39<00:05,  3.40train_batch/s]"
     ]
    },
    {
     "name": "stdout",
     "output_type": "stream",
     "text": [
      "Epoch: [17][100/119] Elapsed 0m 39s (remain 0m 7s) Loss: 0.0791 Grad: 38780.0312  LR: 0.00007373  \n"
     ]
    },
    {
     "name": "stderr",
     "output_type": "stream",
     "text": [
      "Train: 100%|██████████| 119/119 [00:46<00:00,  2.43train_batch/s]"
     ]
    },
    {
     "name": "stdout",
     "output_type": "stream",
     "text": [
      "Epoch: [17][118/119] Elapsed 0m 46s (remain 0m 0s) Loss: 0.0785 Grad: 41180.6641  LR: 0.00006699  \n"
     ]
    },
    {
     "name": "stderr",
     "output_type": "stream",
     "text": [
      "Train: 100%|██████████| 119/119 [00:46<00:00,  2.56train_batch/s]\n",
      "Validation:   2%|▎         | 1/40 [00:00<00:26,  1.48valid_batch/s]"
     ]
    },
    {
     "name": "stdout",
     "output_type": "stream",
     "text": [
      "EVAL: [0/40] Elapsed 0m 0s (remain 0m 26s) Loss: 0.3691 \n"
     ]
    },
    {
     "name": "stderr",
     "output_type": "stream",
     "text": [
      "Validation: 100%|██████████| 40/40 [00:09<00:00,  4.74valid_batch/s]"
     ]
    },
    {
     "name": "stdout",
     "output_type": "stream",
     "text": [
      "EVAL: [39/40] Elapsed 0m 9s (remain 0m 0s) Loss: 0.2666 \n"
     ]
    },
    {
     "name": "stderr",
     "output_type": "stream",
     "text": [
      "Validation: 100%|██████████| 40/40 [00:09<00:00,  4.28valid_batch/s]\n"
     ]
    },
    {
     "name": "stdout",
     "output_type": "stream",
     "text": [
      "Epoch 17 - avg_train_loss: 0.0785  avg_val_loss: 0.2666  time: 56s\n"
     ]
    },
    {
     "name": "stderr",
     "output_type": "stream",
     "text": [
      "Train:   1%|          | 1/119 [00:00<01:56,  1.02train_batch/s]"
     ]
    },
    {
     "name": "stdout",
     "output_type": "stream",
     "text": [
      "Epoch: [18][0/119] Elapsed 0m 0s (remain 1m 56s) Loss: 0.0959 Grad: 107931.6484  LR: 0.00006663  \n"
     ]
    },
    {
     "name": "stderr",
     "output_type": "stream",
     "text": [
      "Train:  43%|████▎     | 51/119 [00:21<00:19,  3.46train_batch/s]"
     ]
    },
    {
     "name": "stdout",
     "output_type": "stream",
     "text": [
      "Epoch: [18][50/119] Elapsed 0m 21s (remain 0m 28s) Loss: 0.0726 Grad: 106013.0938  LR: 0.00004958  \n"
     ]
    },
    {
     "name": "stderr",
     "output_type": "stream",
     "text": [
      "Train:  85%|████████▍ | 101/119 [00:40<00:07,  2.30train_batch/s]"
     ]
    },
    {
     "name": "stdout",
     "output_type": "stream",
     "text": [
      "Epoch: [18][100/119] Elapsed 0m 40s (remain 0m 7s) Loss: 0.0710 Grad: 154188.1406  LR: 0.00003495  \n"
     ]
    },
    {
     "name": "stderr",
     "output_type": "stream",
     "text": [
      "Train: 100%|██████████| 119/119 [00:48<00:00,  2.42train_batch/s]"
     ]
    },
    {
     "name": "stdout",
     "output_type": "stream",
     "text": [
      "Epoch: [18][118/119] Elapsed 0m 48s (remain 0m 0s) Loss: 0.0726 Grad: 37560.4805  LR: 0.00003029  \n"
     ]
    },
    {
     "name": "stderr",
     "output_type": "stream",
     "text": [
      "Train: 100%|██████████| 119/119 [00:48<00:00,  2.44train_batch/s]\n",
      "Validation:   5%|▌         | 2/40 [00:00<00:15,  2.42valid_batch/s]"
     ]
    },
    {
     "name": "stdout",
     "output_type": "stream",
     "text": [
      "EVAL: [0/40] Elapsed 0m 0s (remain 0m 28s) Loss: 0.3772 \n"
     ]
    },
    {
     "name": "stderr",
     "output_type": "stream",
     "text": [
      "Validation: 100%|██████████| 40/40 [00:09<00:00,  4.46valid_batch/s]"
     ]
    },
    {
     "name": "stdout",
     "output_type": "stream",
     "text": [
      "EVAL: [39/40] Elapsed 0m 9s (remain 0m 0s) Loss: 0.2634 \n"
     ]
    },
    {
     "name": "stderr",
     "output_type": "stream",
     "text": [
      "Validation: 100%|██████████| 40/40 [00:10<00:00,  3.99valid_batch/s]\n"
     ]
    },
    {
     "name": "stdout",
     "output_type": "stream",
     "text": [
      "Epoch 18 - avg_train_loss: 0.0726  avg_val_loss: 0.2634  time: 59s\n",
      "Epoch 18 - Save Best Loss: 0.2634 Model\n"
     ]
    },
    {
     "name": "stderr",
     "output_type": "stream",
     "text": [
      "Train:   1%|          | 1/119 [00:01<02:27,  1.25s/train_batch]"
     ]
    },
    {
     "name": "stdout",
     "output_type": "stream",
     "text": [
      "Epoch: [19][0/119] Elapsed 0m 1s (remain 2m 28s) Loss: 0.0617 Grad: 99470.8906  LR: 0.00003004  \n"
     ]
    },
    {
     "name": "stderr",
     "output_type": "stream",
     "text": [
      "Train:  43%|████▎     | 51/119 [00:18<00:26,  2.59train_batch/s]"
     ]
    },
    {
     "name": "stdout",
     "output_type": "stream",
     "text": [
      "Epoch: [19][50/119] Elapsed 0m 18s (remain 0m 25s) Loss: 0.0694 Grad: 75711.5469  LR: 0.00001888  \n"
     ]
    },
    {
     "name": "stderr",
     "output_type": "stream",
     "text": [
      "Train:  85%|████████▍ | 101/119 [00:39<00:07,  2.51train_batch/s]"
     ]
    },
    {
     "name": "stdout",
     "output_type": "stream",
     "text": [
      "Epoch: [19][100/119] Elapsed 0m 39s (remain 0m 6s) Loss: 0.0716 Grad: 47356.2891  LR: 0.00001031  \n"
     ]
    },
    {
     "name": "stderr",
     "output_type": "stream",
     "text": [
      "Train: 100%|██████████| 119/119 [00:46<00:00,  2.36train_batch/s]"
     ]
    },
    {
     "name": "stdout",
     "output_type": "stream",
     "text": [
      "Epoch: [19][118/119] Elapsed 0m 46s (remain 0m 0s) Loss: 0.0711 Grad: 36232.5312  LR: 0.00000787  \n"
     ]
    },
    {
     "name": "stderr",
     "output_type": "stream",
     "text": [
      "Train: 100%|██████████| 119/119 [00:47<00:00,  2.52train_batch/s]\n",
      "Validation:   5%|▌         | 2/40 [00:00<00:15,  2.44valid_batch/s]"
     ]
    },
    {
     "name": "stdout",
     "output_type": "stream",
     "text": [
      "EVAL: [0/40] Elapsed 0m 0s (remain 0m 29s) Loss: 0.3735 \n"
     ]
    },
    {
     "name": "stderr",
     "output_type": "stream",
     "text": [
      "Validation: 100%|██████████| 40/40 [00:08<00:00,  5.04valid_batch/s]"
     ]
    },
    {
     "name": "stdout",
     "output_type": "stream",
     "text": [
      "EVAL: [39/40] Elapsed 0m 8s (remain 0m 0s) Loss: 0.2603 \n"
     ]
    },
    {
     "name": "stderr",
     "output_type": "stream",
     "text": [
      "Validation: 100%|██████████| 40/40 [00:09<00:00,  4.23valid_batch/s]\n"
     ]
    },
    {
     "name": "stdout",
     "output_type": "stream",
     "text": [
      "Epoch 19 - avg_train_loss: 0.0711  avg_val_loss: 0.2603  time: 57s\n",
      "Epoch 19 - Save Best Loss: 0.2603 Model\n"
     ]
    },
    {
     "name": "stderr",
     "output_type": "stream",
     "text": [
      "Train:   1%|          | 1/119 [00:00<01:52,  1.05train_batch/s]"
     ]
    },
    {
     "name": "stdout",
     "output_type": "stream",
     "text": [
      "Epoch: [20][0/119] Elapsed 0m 0s (remain 1m 53s) Loss: 0.1087 Grad: 138402.0938  LR: 0.00000774  \n"
     ]
    },
    {
     "name": "stderr",
     "output_type": "stream",
     "text": [
      "Train:  43%|████▎     | 51/119 [00:21<00:30,  2.25train_batch/s]"
     ]
    },
    {
     "name": "stdout",
     "output_type": "stream",
     "text": [
      "Epoch: [20][50/119] Elapsed 0m 21s (remain 0m 28s) Loss: 0.0694 Grad: 74703.6328  LR: 0.00000281  \n"
     ]
    },
    {
     "name": "stderr",
     "output_type": "stream",
     "text": [
      "Train:  85%|████████▍ | 101/119 [00:43<00:07,  2.34train_batch/s]"
     ]
    },
    {
     "name": "stdout",
     "output_type": "stream",
     "text": [
      "Epoch: [20][100/119] Elapsed 0m 43s (remain 0m 7s) Loss: 0.0705 Grad: 39918.0000  LR: 0.00000056  \n"
     ]
    },
    {
     "name": "stderr",
     "output_type": "stream",
     "text": [
      "Train: 100%|██████████| 119/119 [00:49<00:00,  2.66train_batch/s]"
     ]
    },
    {
     "name": "stdout",
     "output_type": "stream",
     "text": [
      "Epoch: [20][118/119] Elapsed 0m 49s (remain 0m 0s) Loss: 0.0710 Grad: 78803.0469  LR: 0.00000040  \n"
     ]
    },
    {
     "name": "stderr",
     "output_type": "stream",
     "text": [
      "Train: 100%|██████████| 119/119 [00:49<00:00,  2.40train_batch/s]\n",
      "Validation:   8%|▊         | 3/40 [00:00<00:09,  4.05valid_batch/s]"
     ]
    },
    {
     "name": "stdout",
     "output_type": "stream",
     "text": [
      "EVAL: [0/40] Elapsed 0m 0s (remain 0m 26s) Loss: 0.3726 \n"
     ]
    },
    {
     "name": "stderr",
     "output_type": "stream",
     "text": [
      "Validation: 100%|██████████| 40/40 [00:09<00:00,  4.22valid_batch/s]"
     ]
    },
    {
     "name": "stdout",
     "output_type": "stream",
     "text": [
      "EVAL: [39/40] Elapsed 0m 9s (remain 0m 0s) Loss: 0.2623 \n"
     ]
    },
    {
     "name": "stderr",
     "output_type": "stream",
     "text": [
      "Validation: 100%|██████████| 40/40 [00:10<00:00,  3.90valid_batch/s]\n"
     ]
    },
    {
     "name": "stdout",
     "output_type": "stream",
     "text": [
      "Epoch 20 - avg_train_loss: 0.0710  avg_val_loss: 0.2623  time: 60s\n",
      "========== Fold 3 result: 0.9395570480745696 ==========\n"
     ]
    }
   ],
   "source": [
    "if not config.TRAIN_FULL_DATA:\n",
    "        oof_df = pd.DataFrame()\n",
    "        for fold in range(config.FOLDS):\n",
    "            if fold in [3,4]:\n",
    "                _oof_df = train_loop(train_df, fold,f\"models3/wavenet_fold_{fold}_best.pth\")#, torch.load(f\"models/wavenet_fold_{fold}_best.pth\")[\"best_loss\"])\n",
    "                oof_df = pd.concat([oof_df, _oof_df])\n",
    "                print(f\"========== Fold {fold} result: {get_result(_oof_df)} ==========\")\n",
    "                #LOGGER.info(f\"========== Fold {fold} finished ==========\")\n",
    "        oof_df = oof_df.reset_index(drop=True)\n",
    "        oof_df.to_csv('models5/oof_df.csv', index=False)\n",
    "else:\n",
    "    train_loop_full_data(train_df)"
   ]
  },
  {
   "cell_type": "code",
   "execution_count": 29,
   "metadata": {},
   "outputs": [
    {
     "data": {
      "text/plain": [
       "tensor(0.9396, dtype=torch.float64)"
      ]
     },
     "execution_count": 29,
     "metadata": {},
     "output_type": "execute_result"
    }
   ],
   "source": [
    "get_result(oof_df)"
   ]
  },
  {
   "cell_type": "code",
   "execution_count": null,
   "metadata": {},
   "outputs": [],
   "source": []
  }
 ],
 "metadata": {
  "kaggle": {
   "accelerator": "gpu",
   "dataSources": [
    {
     "databundleVersionId": 7469972,
     "sourceId": 59093,
     "sourceType": "competition"
    },
    {
     "datasetId": 4297749,
     "sourceId": 7392733,
     "sourceType": "datasetVersion"
    },
    {
     "datasetId": 4317718,
     "sourceId": 7465251,
     "sourceType": "datasetVersion"
    },
    {
     "datasetId": 4586319,
     "sourceId": 7826547,
     "sourceType": "datasetVersion"
    }
   ],
   "dockerImageVersionId": 30636,
   "isGpuEnabled": true,
   "isInternetEnabled": false,
   "language": "python",
   "sourceType": "notebook"
  },
  "kernelspec": {
   "display_name": "Python 3 (ipykernel)",
   "language": "python",
   "name": "python3"
  },
  "language_info": {
   "codemirror_mode": {
    "name": "ipython",
    "version": 3
   },
   "file_extension": ".py",
   "mimetype": "text/x-python",
   "name": "python",
   "nbconvert_exporter": "python",
   "pygments_lexer": "ipython3",
   "version": "3.10.9"
  }
 },
 "nbformat": 4,
 "nbformat_minor": 4
}
